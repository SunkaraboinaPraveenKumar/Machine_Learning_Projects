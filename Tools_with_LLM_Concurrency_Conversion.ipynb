{
  "nbformat": 4,
  "nbformat_minor": 0,
  "metadata": {
    "colab": {
      "provenance": [],
      "authorship_tag": "ABX9TyNw8cOOJlQMxTtB+qcyuywX",
      "include_colab_link": true
    },
    "kernelspec": {
      "name": "python3",
      "display_name": "Python 3"
    },
    "language_info": {
      "name": "python"
    }
  },
  "cells": [
    {
      "cell_type": "markdown",
      "metadata": {
        "id": "view-in-github",
        "colab_type": "text"
      },
      "source": [
        "<a href=\"https://colab.research.google.com/github/SunkaraboinaPraveenKumar/Machine_Learning_Projects/blob/main/Tools_with_LLM_Concurrency_Conversion.ipynb\" target=\"_parent\"><img src=\"https://colab.research.google.com/assets/colab-badge.svg\" alt=\"Open In Colab\"/></a>"
      ]
    },
    {
      "cell_type": "code",
      "execution_count": 104,
      "metadata": {
        "id": "nsSOgdumSPev"
      },
      "outputs": [],
      "source": [
        "!pip install -q langchain-groq langchain-core requests"
      ]
    },
    {
      "cell_type": "code",
      "source": [
        "from langchain_groq import ChatGroq\n",
        "from langchain_core.tools import tool\n",
        "from langchain_core.messages import HumanMessage\n",
        "import requests\n",
        "import os"
      ],
      "metadata": {
        "id": "HEzSWsU7SVqD"
      },
      "execution_count": 105,
      "outputs": []
    },
    {
      "cell_type": "code",
      "source": [
        "from google.colab import  userdata\n",
        "os.environ['GROQ_API_KEY']=userdata.get('groq_api_key')"
      ],
      "metadata": {
        "id": "u7n25ZBZSiiY"
      },
      "execution_count": 106,
      "outputs": []
    },
    {
      "cell_type": "code",
      "source": [
        "# tool create\n",
        "@tool\n",
        "def multiply(a:int,b:int)->int:\n",
        "  \"\"\"Given 2 numbers returns their product\"\"\"\n",
        "  return a*b"
      ],
      "metadata": {
        "id": "yXTZL85jSqI6"
      },
      "execution_count": 107,
      "outputs": []
    },
    {
      "cell_type": "code",
      "source": [
        "print(multiply.invoke({'a':3,'b':2}))"
      ],
      "metadata": {
        "colab": {
          "base_uri": "https://localhost:8080/"
        },
        "id": "nUhWxxvES3Dd",
        "outputId": "9c59fb10-62a7-4b91-b2a2-0670b31222c3"
      },
      "execution_count": 108,
      "outputs": [
        {
          "output_type": "stream",
          "name": "stdout",
          "text": [
            "6\n"
          ]
        }
      ]
    },
    {
      "cell_type": "code",
      "source": [
        "multiply.args"
      ],
      "metadata": {
        "colab": {
          "base_uri": "https://localhost:8080/"
        },
        "id": "JJ1AwoULS7GI",
        "outputId": "8ac91606-60d0-4e2a-dd20-9ed5ac1615a7"
      },
      "execution_count": 109,
      "outputs": [
        {
          "output_type": "execute_result",
          "data": {
            "text/plain": [
              "{'a': {'title': 'A', 'type': 'integer'},\n",
              " 'b': {'title': 'B', 'type': 'integer'}}"
            ]
          },
          "metadata": {},
          "execution_count": 109
        }
      ]
    },
    {
      "cell_type": "code",
      "source": [
        "# tool bind\n",
        "llm = ChatGroq(\n",
        "    model=\"llama-3.3-70b-versatile\"\n",
        ")"
      ],
      "metadata": {
        "id": "0RU6hu6AS-vC"
      },
      "execution_count": 110,
      "outputs": []
    },
    {
      "cell_type": "code",
      "source": [
        "llm_with_tools = llm.bind_tools([multiply])"
      ],
      "metadata": {
        "id": "QcCm2OydTFk7"
      },
      "execution_count": 111,
      "outputs": []
    },
    {
      "cell_type": "code",
      "source": [
        "llm_with_tools.invoke(\"Hi\")"
      ],
      "metadata": {
        "colab": {
          "base_uri": "https://localhost:8080/"
        },
        "id": "EA2a6X9cTIes",
        "outputId": "6f5780db-9185-4fbf-81dc-ab592c50b770"
      },
      "execution_count": 112,
      "outputs": [
        {
          "output_type": "execute_result",
          "data": {
            "text/plain": [
              "AIMessage(content=\"I'm here to help. Is there something I can help you with, or would you like to use one of the available functions?\", additional_kwargs={}, response_metadata={'token_usage': {'completion_tokens': 28, 'prompt_tokens': 221, 'total_tokens': 249, 'completion_time': 0.11232657, 'prompt_time': 0.014478059, 'queue_time': 0.219029264, 'total_time': 0.126804629}, 'model_name': 'llama-3.3-70b-versatile', 'system_fingerprint': 'fp_3f3b593e33', 'finish_reason': 'stop', 'logprobs': None}, id='run-e092d413-3b78-4932-8f39-ad7d8f997637-0', usage_metadata={'input_tokens': 221, 'output_tokens': 28, 'total_tokens': 249})"
            ]
          },
          "metadata": {},
          "execution_count": 112
        }
      ]
    },
    {
      "cell_type": "code",
      "source": [
        "llm_with_tools.invoke(\"Multiply 3 and 2\").tool_calls"
      ],
      "metadata": {
        "colab": {
          "base_uri": "https://localhost:8080/"
        },
        "id": "ZzjcQUbpTy9m",
        "outputId": "54d8b135-8266-4de7-f0a5-fd85f69d6b51"
      },
      "execution_count": 113,
      "outputs": [
        {
          "output_type": "execute_result",
          "data": {
            "text/plain": [
              "[{'name': 'multiply',\n",
              "  'args': {'a': 3, 'b': 2},\n",
              "  'id': 'call_36ys',\n",
              "  'type': 'tool_call'}]"
            ]
          },
          "metadata": {},
          "execution_count": 113
        }
      ]
    },
    {
      "cell_type": "code",
      "source": [
        "llm_with_tools.invoke(\"Multiply 3 and 2\").tool_calls[0]"
      ],
      "metadata": {
        "colab": {
          "base_uri": "https://localhost:8080/"
        },
        "id": "GvcgdsgCT3N2",
        "outputId": "510730bc-f36e-4e14-add6-c57498f1b320"
      },
      "execution_count": 114,
      "outputs": [
        {
          "output_type": "execute_result",
          "data": {
            "text/plain": [
              "{'name': 'multiply',\n",
              " 'args': {'a': 3, 'b': 2},\n",
              " 'id': 'call_qj6c',\n",
              " 'type': 'tool_call'}"
            ]
          },
          "metadata": {},
          "execution_count": 114
        }
      ]
    },
    {
      "cell_type": "code",
      "source": [
        "# tool execution\n",
        "tool_call = llm_with_tools.invoke(\"Multiply 3 and 2\").tool_calls[0]"
      ],
      "metadata": {
        "id": "nJ6nAI0cT-1u"
      },
      "execution_count": 115,
      "outputs": []
    },
    {
      "cell_type": "code",
      "source": [
        "print(tool_call)"
      ],
      "metadata": {
        "colab": {
          "base_uri": "https://localhost:8080/"
        },
        "id": "zWGl3DSXUt6G",
        "outputId": "43e63089-0f24-4093-a560-16f052f973d6"
      },
      "execution_count": 116,
      "outputs": [
        {
          "output_type": "stream",
          "name": "stdout",
          "text": [
            "{'name': 'multiply', 'args': {'a': 3, 'b': 2}, 'id': 'call_h4yd', 'type': 'tool_call'}\n"
          ]
        }
      ]
    },
    {
      "cell_type": "code",
      "source": [
        "multiply.invoke(tool_call['args'])"
      ],
      "metadata": {
        "colab": {
          "base_uri": "https://localhost:8080/"
        },
        "id": "qRxp3L8aUhKL",
        "outputId": "50ed7e2e-5c80-4d9b-a656-6cda6a51bdc4"
      },
      "execution_count": 117,
      "outputs": [
        {
          "output_type": "execute_result",
          "data": {
            "text/plain": [
              "6"
            ]
          },
          "metadata": {},
          "execution_count": 117
        }
      ]
    },
    {
      "cell_type": "code",
      "source": [
        "multiply.invoke(tool_call)"
      ],
      "metadata": {
        "colab": {
          "base_uri": "https://localhost:8080/"
        },
        "id": "koRteEt8UkDn",
        "outputId": "e9c2a46f-891e-44c2-ad62-7a58d423bca1"
      },
      "execution_count": 118,
      "outputs": [
        {
          "output_type": "execute_result",
          "data": {
            "text/plain": [
              "ToolMessage(content='6', name='multiply', tool_call_id='call_h4yd')"
            ]
          },
          "metadata": {},
          "execution_count": 118
        }
      ]
    },
    {
      "cell_type": "code",
      "source": [
        "query = HumanMessage(\"Can you multiply 3 and 2?\")\n",
        "messages = [query]"
      ],
      "metadata": {
        "id": "_Zd1AEz5U2mu"
      },
      "execution_count": 119,
      "outputs": []
    },
    {
      "cell_type": "code",
      "source": [
        "messages"
      ],
      "metadata": {
        "colab": {
          "base_uri": "https://localhost:8080/"
        },
        "id": "-mQU-gZwVOD6",
        "outputId": "4f60bd66-e744-450d-876e-2f2f0b51f8b8"
      },
      "execution_count": 120,
      "outputs": [
        {
          "output_type": "execute_result",
          "data": {
            "text/plain": [
              "[HumanMessage(content='Can you multiply 3 and 2?', additional_kwargs={}, response_metadata={})]"
            ]
          },
          "metadata": {},
          "execution_count": 120
        }
      ]
    },
    {
      "cell_type": "code",
      "source": [
        "result = llm_with_tools.invoke(messages)"
      ],
      "metadata": {
        "id": "O4SmquGVVOoH"
      },
      "execution_count": 121,
      "outputs": []
    },
    {
      "cell_type": "code",
      "source": [
        "result"
      ],
      "metadata": {
        "colab": {
          "base_uri": "https://localhost:8080/"
        },
        "id": "7crpKhSYVXOK",
        "outputId": "87f73acf-3281-4b97-d57b-0c65a66c98cf"
      },
      "execution_count": 122,
      "outputs": [
        {
          "output_type": "execute_result",
          "data": {
            "text/plain": [
              "AIMessage(content='', additional_kwargs={'tool_calls': [{'id': 'call_xzm1', 'function': {'arguments': '{\"a\": 3, \"b\": 2}', 'name': 'multiply'}, 'type': 'function'}]}, response_metadata={'token_usage': {'completion_tokens': 19, 'prompt_tokens': 229, 'total_tokens': 248, 'completion_time': 0.069090909, 'prompt_time': 0.017088341, 'queue_time': 0.218533645, 'total_time': 0.08617925}, 'model_name': 'llama-3.3-70b-versatile', 'system_fingerprint': 'fp_3f3b593e33', 'finish_reason': 'tool_calls', 'logprobs': None}, id='run-4e28ea98-df08-4e8d-b9e6-064a0a59f0de-0', tool_calls=[{'name': 'multiply', 'args': {'a': 3, 'b': 2}, 'id': 'call_xzm1', 'type': 'tool_call'}], usage_metadata={'input_tokens': 229, 'output_tokens': 19, 'total_tokens': 248})"
            ]
          },
          "metadata": {},
          "execution_count": 122
        }
      ]
    },
    {
      "cell_type": "code",
      "source": [
        "messages.append(result)"
      ],
      "metadata": {
        "id": "eYg8RGoJVbAP"
      },
      "execution_count": 123,
      "outputs": []
    },
    {
      "cell_type": "code",
      "source": [
        "messages"
      ],
      "metadata": {
        "colab": {
          "base_uri": "https://localhost:8080/"
        },
        "id": "ZuYwiiYwVhJA",
        "outputId": "3d80eff7-7365-4f75-df73-6e4ff20cf785"
      },
      "execution_count": 124,
      "outputs": [
        {
          "output_type": "execute_result",
          "data": {
            "text/plain": [
              "[HumanMessage(content='Can you multiply 3 and 2?', additional_kwargs={}, response_metadata={}),\n",
              " AIMessage(content='', additional_kwargs={'tool_calls': [{'id': 'call_xzm1', 'function': {'arguments': '{\"a\": 3, \"b\": 2}', 'name': 'multiply'}, 'type': 'function'}]}, response_metadata={'token_usage': {'completion_tokens': 19, 'prompt_tokens': 229, 'total_tokens': 248, 'completion_time': 0.069090909, 'prompt_time': 0.017088341, 'queue_time': 0.218533645, 'total_time': 0.08617925}, 'model_name': 'llama-3.3-70b-versatile', 'system_fingerprint': 'fp_3f3b593e33', 'finish_reason': 'tool_calls', 'logprobs': None}, id='run-4e28ea98-df08-4e8d-b9e6-064a0a59f0de-0', tool_calls=[{'name': 'multiply', 'args': {'a': 3, 'b': 2}, 'id': 'call_xzm1', 'type': 'tool_call'}], usage_metadata={'input_tokens': 229, 'output_tokens': 19, 'total_tokens': 248})]"
            ]
          },
          "metadata": {},
          "execution_count": 124
        }
      ]
    },
    {
      "cell_type": "code",
      "source": [
        "tool_result = multiply.invoke(result.tool_calls[0])"
      ],
      "metadata": {
        "id": "Uu-fFIUUVh3K"
      },
      "execution_count": 125,
      "outputs": []
    },
    {
      "cell_type": "code",
      "source": [
        "messages.append(tool_result)"
      ],
      "metadata": {
        "id": "4Afhx7W2VsTb"
      },
      "execution_count": 126,
      "outputs": []
    },
    {
      "cell_type": "code",
      "source": [
        "messages"
      ],
      "metadata": {
        "colab": {
          "base_uri": "https://localhost:8080/"
        },
        "id": "QqmIXpyDVuch",
        "outputId": "56ad2bfb-73f1-405c-ad36-bbc0b80606e9"
      },
      "execution_count": 127,
      "outputs": [
        {
          "output_type": "execute_result",
          "data": {
            "text/plain": [
              "[HumanMessage(content='Can you multiply 3 and 2?', additional_kwargs={}, response_metadata={}),\n",
              " AIMessage(content='', additional_kwargs={'tool_calls': [{'id': 'call_xzm1', 'function': {'arguments': '{\"a\": 3, \"b\": 2}', 'name': 'multiply'}, 'type': 'function'}]}, response_metadata={'token_usage': {'completion_tokens': 19, 'prompt_tokens': 229, 'total_tokens': 248, 'completion_time': 0.069090909, 'prompt_time': 0.017088341, 'queue_time': 0.218533645, 'total_time': 0.08617925}, 'model_name': 'llama-3.3-70b-versatile', 'system_fingerprint': 'fp_3f3b593e33', 'finish_reason': 'tool_calls', 'logprobs': None}, id='run-4e28ea98-df08-4e8d-b9e6-064a0a59f0de-0', tool_calls=[{'name': 'multiply', 'args': {'a': 3, 'b': 2}, 'id': 'call_xzm1', 'type': 'tool_call'}], usage_metadata={'input_tokens': 229, 'output_tokens': 19, 'total_tokens': 248}),\n",
              " ToolMessage(content='6', name='multiply', tool_call_id='call_xzm1')]"
            ]
          },
          "metadata": {},
          "execution_count": 127
        }
      ]
    },
    {
      "cell_type": "code",
      "source": [
        "llm_with_tools.invoke(messages)"
      ],
      "metadata": {
        "colab": {
          "base_uri": "https://localhost:8080/"
        },
        "id": "eXHuyAI0Vu72",
        "outputId": "cfff7de4-4cad-4762-830a-d1875cf6516b"
      },
      "execution_count": 128,
      "outputs": [
        {
          "output_type": "execute_result",
          "data": {
            "text/plain": [
              "AIMessage(content='The product of 3 and 2 is 6.', additional_kwargs={}, response_metadata={'token_usage': {'completion_tokens': 13, 'prompt_tokens': 259, 'total_tokens': 272, 'completion_time': 0.047272727, 'prompt_time': 0.024293279, 'queue_time': 0.217618893, 'total_time': 0.071566006}, 'model_name': 'llama-3.3-70b-versatile', 'system_fingerprint': 'fp_6507bcfb6f', 'finish_reason': 'stop', 'logprobs': None}, id='run-d1f66f67-479f-49b3-a62e-d84f427a170d-0', usage_metadata={'input_tokens': 259, 'output_tokens': 13, 'total_tokens': 272})"
            ]
          },
          "metadata": {},
          "execution_count": 128
        }
      ]
    },
    {
      "cell_type": "code",
      "source": [
        "# Currency Conversion Tool"
      ],
      "metadata": {
        "id": "jJ4e8wuJV0Ax"
      },
      "execution_count": 129,
      "outputs": []
    },
    {
      "cell_type": "code",
      "source": [
        "from langchain_core.tools import InjectedToolArg\n",
        "from typing import Annotated\n",
        "@tool\n",
        "def get_conversion_factor(base_currency:str,target_currency:str)->float:\n",
        "  \"\"\"Given a base currency and target currency returns the conversion factor\"\"\"\n",
        "  url = f'https://v6.exchangerate-api.com/v6/c754eab14ffab33112e380ca/pair/{base_currency}/{target_currency}'\n",
        "\n",
        "  response = requests.get(url)\n",
        "\n",
        "  return response.json()\n",
        "\n",
        "@tool\n",
        "def convert(base_currency_value:int,conversion_rate:Annotated[float, InjectedToolArg])->float:\n",
        "  \"\"\"\n",
        "  given a currency conversion rate this function calculates the target currency value from a given base currency value\n",
        "  \"\"\"\n",
        "  return base_currency_value*conversion_rate"
      ],
      "metadata": {
        "id": "uAdw7raTWSji"
      },
      "execution_count": 130,
      "outputs": []
    },
    {
      "cell_type": "code",
      "source": [
        "convert.args"
      ],
      "metadata": {
        "colab": {
          "base_uri": "https://localhost:8080/"
        },
        "id": "rk2LjVP0XTJ5",
        "outputId": "8f163084-cba0-408d-d1b5-efef93700f2b"
      },
      "execution_count": 131,
      "outputs": [
        {
          "output_type": "execute_result",
          "data": {
            "text/plain": [
              "{'base_currency_value': {'title': 'Base Currency Value', 'type': 'integer'},\n",
              " 'conversion_rate': {'title': 'Conversion Rate', 'type': 'number'}}"
            ]
          },
          "metadata": {},
          "execution_count": 131
        }
      ]
    },
    {
      "cell_type": "code",
      "source": [
        "get_conversion_factor.invoke({'base_currency':'USD','target_currency':'INR'})"
      ],
      "metadata": {
        "colab": {
          "base_uri": "https://localhost:8080/"
        },
        "id": "FhsIiglsXU18",
        "outputId": "f52ed391-d2bf-4d0c-993c-3f7162a7d286"
      },
      "execution_count": 132,
      "outputs": [
        {
          "output_type": "execute_result",
          "data": {
            "text/plain": [
              "{'result': 'success',\n",
              " 'documentation': 'https://www.exchangerate-api.com/docs',\n",
              " 'terms_of_use': 'https://www.exchangerate-api.com/terms',\n",
              " 'time_last_update_unix': 1745798401,\n",
              " 'time_last_update_utc': 'Mon, 28 Apr 2025 00:00:01 +0000',\n",
              " 'time_next_update_unix': 1745884801,\n",
              " 'time_next_update_utc': 'Tue, 29 Apr 2025 00:00:01 +0000',\n",
              " 'base_code': 'USD',\n",
              " 'target_code': 'INR',\n",
              " 'conversion_rate': 85.4741}"
            ]
          },
          "metadata": {},
          "execution_count": 132
        }
      ]
    },
    {
      "cell_type": "code",
      "source": [
        "convert.invoke({'base_currency_value':10, 'conversion_rate':85.16})"
      ],
      "metadata": {
        "colab": {
          "base_uri": "https://localhost:8080/"
        },
        "id": "w7WWxfV2XcU4",
        "outputId": "0e01af88-1419-4029-c87c-e4cb78f1aa0e"
      },
      "execution_count": 133,
      "outputs": [
        {
          "output_type": "execute_result",
          "data": {
            "text/plain": [
              "851.5999999999999"
            ]
          },
          "metadata": {},
          "execution_count": 133
        }
      ]
    },
    {
      "cell_type": "code",
      "source": [
        "llm = ChatGroq(\n",
        "    model = \"llama-3.3-70b-versatile\"\n",
        ")"
      ],
      "metadata": {
        "id": "fRDDA0trXoOz"
      },
      "execution_count": 134,
      "outputs": []
    },
    {
      "cell_type": "code",
      "source": [
        "llm_with_tools = llm.bind_tools([get_conversion_factor,convert])"
      ],
      "metadata": {
        "id": "yGiC3ex_Xph-"
      },
      "execution_count": 135,
      "outputs": []
    },
    {
      "cell_type": "code",
      "source": [
        "messages = [HumanMessage(\"What is the conversion factor between INR and USD?\")]"
      ],
      "metadata": {
        "id": "hO2ea-_iXwv0"
      },
      "execution_count": 136,
      "outputs": []
    },
    {
      "cell_type": "code",
      "source": [
        "messages"
      ],
      "metadata": {
        "colab": {
          "base_uri": "https://localhost:8080/"
        },
        "id": "VyFIu_bxX1_o",
        "outputId": "dcdda002-127f-44d9-80eb-542029df3ea5"
      },
      "execution_count": 137,
      "outputs": [
        {
          "output_type": "execute_result",
          "data": {
            "text/plain": [
              "[HumanMessage(content='What is the conversion factor between INR and USD?', additional_kwargs={}, response_metadata={})]"
            ]
          },
          "metadata": {},
          "execution_count": 137
        }
      ]
    },
    {
      "cell_type": "code",
      "source": [
        "ai_message = llm_with_tools.invoke(messages)"
      ],
      "metadata": {
        "id": "XSy9jZxSX2o0"
      },
      "execution_count": 138,
      "outputs": []
    },
    {
      "cell_type": "code",
      "source": [
        "messages.append(ai_message)"
      ],
      "metadata": {
        "id": "gPTLUr5lX7Aw"
      },
      "execution_count": 139,
      "outputs": []
    },
    {
      "cell_type": "code",
      "source": [
        "ai_message.tool_calls"
      ],
      "metadata": {
        "colab": {
          "base_uri": "https://localhost:8080/"
        },
        "id": "E2M0SGigX87I",
        "outputId": "b31534fa-2e4e-4a1a-ae28-a00be5d41729"
      },
      "execution_count": 140,
      "outputs": [
        {
          "output_type": "execute_result",
          "data": {
            "text/plain": [
              "[{'name': 'get_conversion_factor',\n",
              "  'args': {'base_currency': 'INR', 'target_currency': 'USD'},\n",
              "  'id': 'call_ejfb',\n",
              "  'type': 'tool_call'}]"
            ]
          },
          "metadata": {},
          "execution_count": 140
        }
      ]
    },
    {
      "cell_type": "code",
      "source": [
        "import json\n",
        "\n",
        "for tool_call in ai_message.tool_calls:\n",
        "  if tool_call['name']=='get_conversion_factor':\n",
        "    tool_message1 = get_conversion_factor.invoke(tool_call)\n",
        "\n",
        "    conversion_rate = json.loads(tool_message1.content)['conversion_rate']\n",
        "\n",
        "    messages.append(tool_message1)\n",
        "\n",
        "  if tool_call['name']=='convert':\n",
        "   tool_call['args']['conversion_rate'] = conversion_rate\n",
        "   tool_message2 = convert.invoke(tool_call)\n",
        "   messages.append(tool_message2)"
      ],
      "metadata": {
        "id": "pAvCsNMMX_Hi"
      },
      "execution_count": 141,
      "outputs": []
    },
    {
      "cell_type": "code",
      "source": [
        "messages"
      ],
      "metadata": {
        "colab": {
          "base_uri": "https://localhost:8080/"
        },
        "id": "H3dlRczdYmZr",
        "outputId": "42669362-c3d1-4ffb-90ab-941f09b17508"
      },
      "execution_count": 142,
      "outputs": [
        {
          "output_type": "execute_result",
          "data": {
            "text/plain": [
              "[HumanMessage(content='What is the conversion factor between INR and USD?', additional_kwargs={}, response_metadata={}),\n",
              " AIMessage(content='', additional_kwargs={'tool_calls': [{'id': 'call_ejfb', 'function': {'arguments': '{\"base_currency\": \"INR\", \"target_currency\": \"USD\"}', 'name': 'get_conversion_factor'}, 'type': 'function'}]}, response_metadata={'token_usage': {'completion_tokens': 24, 'prompt_tokens': 324, 'total_tokens': 348, 'completion_time': 0.087272727, 'prompt_time': 0.022537881, 'queue_time': 0.221071522, 'total_time': 0.109810608}, 'model_name': 'llama-3.3-70b-versatile', 'system_fingerprint': 'fp_9a8b91ba77', 'finish_reason': 'tool_calls', 'logprobs': None}, id='run-d8e35c13-6a9d-415f-a479-c243afe9625d-0', tool_calls=[{'name': 'get_conversion_factor', 'args': {'base_currency': 'INR', 'target_currency': 'USD'}, 'id': 'call_ejfb', 'type': 'tool_call'}], usage_metadata={'input_tokens': 324, 'output_tokens': 24, 'total_tokens': 348}),\n",
              " ToolMessage(content='{\"result\": \"success\", \"documentation\": \"https://www.exchangerate-api.com/docs\", \"terms_of_use\": \"https://www.exchangerate-api.com/terms\", \"time_last_update_unix\": 1745798401, \"time_last_update_utc\": \"Mon, 28 Apr 2025 00:00:01 +0000\", \"time_next_update_unix\": 1745884801, \"time_next_update_utc\": \"Tue, 29 Apr 2025 00:00:01 +0000\", \"base_code\": \"INR\", \"target_code\": \"USD\", \"conversion_rate\": 0.0117}', name='get_conversion_factor', tool_call_id='call_ejfb')]"
            ]
          },
          "metadata": {},
          "execution_count": 142
        }
      ]
    },
    {
      "cell_type": "code",
      "source": [
        "llm_with_tools.invoke(messages).content"
      ],
      "metadata": {
        "colab": {
          "base_uri": "https://localhost:8080/",
          "height": 52
        },
        "id": "2GJFsBvqYnZo",
        "outputId": "705b2d55-2ca1-4300-9848-921f389c0557"
      },
      "execution_count": 143,
      "outputs": [
        {
          "output_type": "execute_result",
          "data": {
            "text/plain": [
              "'The conversion factor between INR and USD is 0.0117. This means that 1 INR is equivalent to 0.0117 USD.'"
            ],
            "application/vnd.google.colaboratory.intrinsic+json": {
              "type": "string"
            }
          },
          "metadata": {},
          "execution_count": 143
        }
      ]
    },
    {
      "cell_type": "code",
      "source": [
        "from langchain.agents import initialize_agent, AgentType\n",
        "\n",
        "# Step 5: Initialize the Agent ---\n",
        "agent_executor = initialize_agent(\n",
        "    tools=[get_conversion_factor, convert],\n",
        "    llm=llm,\n",
        "    agent=AgentType.STRUCTURED_CHAT_ZERO_SHOT_REACT_DESCRIPTION,  # using ReAct pattern\n",
        "    verbose=True  # shows internal thinking\n",
        ")"
      ],
      "metadata": {
        "id": "BqKOGTBIYtL0"
      },
      "execution_count": 144,
      "outputs": []
    },
    {
      "cell_type": "code",
      "source": [
        "# --- Step 6: Run the Agent ---\n",
        "user_query = \"Hi how are you?\"\n",
        "\n",
        "response = agent_executor.invoke({\"input\": user_query})"
      ],
      "metadata": {
        "colab": {
          "base_uri": "https://localhost:8080/"
        },
        "id": "oChMd6E6YwTt",
        "outputId": "7dd9070e-9a8f-4524-8517-87965b7234d3"
      },
      "execution_count": 145,
      "outputs": [
        {
          "output_type": "stream",
          "name": "stdout",
          "text": [
            "\n",
            "\n",
            "\u001b[1m> Entering new AgentExecutor chain...\u001b[0m\n",
            "\u001b[32;1m\u001b[1;3mThought: The user is greeting me, and I should respond with a friendly message.\n",
            "Action:\n",
            "```\n",
            "{\n",
            "  \"action\": \"Final Answer\",\n",
            "  \"action_input\": \"I'm doing well, thank you for asking! How can I assist you today?\"\n",
            "}\n",
            "```\n",
            "\u001b[0m\n",
            "\n",
            "\u001b[1m> Finished chain.\u001b[0m\n"
          ]
        }
      ]
    },
    {
      "cell_type": "code",
      "source": [
        "user_query = \"What is the conversion factor between INR and USD?\"\n",
        "\n",
        "response = agent_executor.invoke({\"input\": user_query})"
      ],
      "metadata": {
        "colab": {
          "base_uri": "https://localhost:8080/"
        },
        "id": "T-sDnpOlY39N",
        "outputId": "1503b69a-8798-45ff-8737-84f0d695d96a"
      },
      "execution_count": 146,
      "outputs": [
        {
          "output_type": "stream",
          "name": "stdout",
          "text": [
            "\n",
            "\n",
            "\u001b[1m> Entering new AgentExecutor chain...\u001b[0m\n",
            "\u001b[32;1m\u001b[1;3mThought: To find the conversion factor, we need to use the get_conversion_factor tool. This tool takes two parameters: base_currency and target_currency.\n",
            "\n",
            "Action:\n",
            "```\n",
            "{\n",
            "  \"action\": \"get_conversion_factor\",\n",
            "  \"action_input\": {\n",
            "    \"base_currency\": \"INR\",\n",
            "    \"target_currency\": \"USD\"\n",
            "  }\n",
            "}\n",
            "```\n",
            "\u001b[0m\n",
            "Observation: \u001b[36;1m\u001b[1;3m{'result': 'success', 'documentation': 'https://www.exchangerate-api.com/docs', 'terms_of_use': 'https://www.exchangerate-api.com/terms', 'time_last_update_unix': 1745798401, 'time_last_update_utc': 'Mon, 28 Apr 2025 00:00:01 +0000', 'time_next_update_unix': 1745884801, 'time_next_update_utc': 'Tue, 29 Apr 2025 00:00:01 +0000', 'base_code': 'INR', 'target_code': 'USD', 'conversion_rate': 0.0117}\u001b[0m\n",
            "Thought:\u001b[32;1m\u001b[1;3mThe conversion factor between INR and USD has been retrieved successfully. The conversion rate is 0.0117, which means 1 INR is equivalent to 0.0117 USD.\n",
            "\n",
            "Action:\n",
            "```\n",
            "{\n",
            "  \"action\": \"Final Answer\",\n",
            "  \"action_input\": \"The conversion factor between INR and USD is 0.0117\"\n",
            "}\n",
            "```\u001b[0m\n",
            "\n",
            "\u001b[1m> Finished chain.\u001b[0m\n"
          ]
        }
      ]
    },
    {
      "cell_type": "code",
      "source": [
        "user_query = \"What is the 1000INR in USD?\"\n",
        "\n",
        "response = agent_executor.invoke({\"input\": user_query})"
      ],
      "metadata": {
        "colab": {
          "base_uri": "https://localhost:8080/"
        },
        "id": "ut449FjnZAks",
        "outputId": "48a8fd42-a026-4630-e0b0-d867666f0f35"
      },
      "execution_count": 147,
      "outputs": [
        {
          "output_type": "stream",
          "name": "stdout",
          "text": [
            "\n",
            "\n",
            "\u001b[1m> Entering new AgentExecutor chain...\u001b[0m\n",
            "\u001b[32;1m\u001b[1;3mThought: To convert 1000 INR to USD, we need to know the conversion factor between INR and USD. \n",
            "\n",
            "Action:\n",
            "```\n",
            "{\n",
            "  \"action\": \"get_conversion_factor\",\n",
            "  \"action_input\": {\n",
            "    \"base_currency\": \"INR\",\n",
            "    \"target_currency\": \"USD\"\n",
            "  }\n",
            "}\n",
            "```\n",
            "\u001b[0m\n",
            "Observation: \u001b[36;1m\u001b[1;3m{'result': 'success', 'documentation': 'https://www.exchangerate-api.com/docs', 'terms_of_use': 'https://www.exchangerate-api.com/terms', 'time_last_update_unix': 1745798401, 'time_last_update_utc': 'Mon, 28 Apr 2025 00:00:01 +0000', 'time_next_update_unix': 1745884801, 'time_next_update_utc': 'Tue, 29 Apr 2025 00:00:01 +0000', 'base_code': 'INR', 'target_code': 'USD', 'conversion_rate': 0.0117}\u001b[0m\n",
            "Thought:\u001b[32;1m\u001b[1;3mNow that we have the conversion factor, we can use it to convert 1000 INR to USD.\n",
            "\n",
            "Action:\n",
            "```\n",
            "{\n",
            "  \"action\": \"convert\",\n",
            "  \"action_input\": {\n",
            "    \"base_currency_value\": 1000,\n",
            "    \"conversion_rate\": 0.0117\n",
            "  }\n",
            "}\n",
            "```\n",
            "\u001b[0m\n",
            "Observation: \u001b[33;1m\u001b[1;3m11.700000000000001\u001b[0m\n",
            "Thought:\u001b[32;1m\u001b[1;3mI know what to respond\n",
            "\n",
            "Action:\n",
            "```\n",
            "{\n",
            "  \"action\": \"Final Answer\",\n",
            "  \"action_input\": \"11.7\"\n",
            "}\n",
            "```\u001b[0m\n",
            "\n",
            "\u001b[1m> Finished chain.\u001b[0m\n"
          ]
        }
      ]
    },
    {
      "cell_type": "code",
      "source": [],
      "metadata": {
        "id": "HMJ2absCZJuj"
      },
      "execution_count": 147,
      "outputs": []
    }
  ]
}