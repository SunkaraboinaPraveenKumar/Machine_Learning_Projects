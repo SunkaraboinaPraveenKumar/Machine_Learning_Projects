{
  "nbformat": 4,
  "nbformat_minor": 0,
  "metadata": {
    "colab": {
      "provenance": [],
      "authorship_tag": "ABX9TyPZRcT48lVGXrJXK4cnsue+",
      "include_colab_link": true
    },
    "kernelspec": {
      "name": "python3",
      "display_name": "Python 3"
    },
    "language_info": {
      "name": "python"
    }
  },
  "cells": [
    {
      "cell_type": "markdown",
      "metadata": {
        "id": "view-in-github",
        "colab_type": "text"
      },
      "source": [
        "<a href=\"https://colab.research.google.com/github/SunkaraboinaPraveenKumar/Machine_Learning_Projects/blob/main/ReAct_Agent.ipynb\" target=\"_parent\"><img src=\"https://colab.research.google.com/assets/colab-badge.svg\" alt=\"Open In Colab\"/></a>"
      ]
    },
    {
      "cell_type": "code",
      "execution_count": 1,
      "metadata": {
        "id": "UIeetfXnWRnn"
      },
      "outputs": [],
      "source": [
        "# %%capture\n",
        "!pip install langchain>=0.1.17 langchain_groq>=0.1.6 transformers>=4.40.1 datasets>=2.18.0 accelerate>=0.27.2 sentence-transformers>=2.5.1 duckduckgo-search>=5.2.2 langchain_community"
      ]
    },
    {
      "cell_type": "code",
      "source": [
        "import os\n",
        "from langchain_groq import ChatGroq\n",
        "from langchain.prompts import PromptTemplate\n",
        "from google.colab import userdata\n",
        "\n",
        "\n",
        "# Load OpenAI's LLMs with LangChain\n",
        "os.environ[\"GROQ_API_KEY\"] = userdata.get('groq_api_key')\n",
        "openai_llm = ChatGroq(model_name=\"llama-3.3-70b-versatile\")"
      ],
      "metadata": {
        "id": "kEdIPT0wWX5r"
      },
      "execution_count": 2,
      "outputs": []
    },
    {
      "cell_type": "code",
      "source": [
        "# Create the ReAct template\n",
        "react_template = \"\"\"Answer the following questions as best you can. You have access to the following tools:\n",
        "\n",
        "{tools}\n",
        "\n",
        "Use the following format:\n",
        "\n",
        "Question: the input question you must answer\n",
        "Thought: you should always think about what to do\n",
        "Action: the action to take, should be one of [{tool_names}]\n",
        "Action Input: the input to the action\n",
        "Observation: the result of the action\n",
        "... (this Thought/Action/Action Input/Observation can repeat N times)\n",
        "Thought: I now know the final answer\n",
        "Final Answer: the final answer to the original input question\n",
        "\n",
        "Begin!\n",
        "\n",
        "Question: {input}\n",
        "Thought:{agent_scratchpad}\"\"\"\n",
        "\n",
        "prompt = PromptTemplate(\n",
        "    template=react_template,\n",
        "    input_variables=[\"tools\", \"tool_names\", \"input\", \"agent_scratchpad\"]\n",
        ")"
      ],
      "metadata": {
        "id": "kzrK9SBjWmnO"
      },
      "execution_count": 3,
      "outputs": []
    },
    {
      "cell_type": "code",
      "source": [
        "from langchain.agents import load_tools, Tool\n",
        "from langchain_community.tools import DuckDuckGoSearchResults\n",
        "\n",
        "# You can create the tool to pass to an agent\n",
        "search = DuckDuckGoSearchResults()\n",
        "search_tool = Tool(\n",
        "    name=\"duckduck\",\n",
        "    description=\"A web search engine. Use this to as a search engine for general queries.\",\n",
        "    func=search.run,\n",
        ")\n",
        "\n",
        "# Prepare tools\n",
        "tools = load_tools([\"llm-math\"], llm=openai_llm)\n",
        "tools.append(search_tool)"
      ],
      "metadata": {
        "id": "G6COLKKMWp8q"
      },
      "execution_count": 31,
      "outputs": []
    },
    {
      "cell_type": "code",
      "source": [
        "from langchain.agents import AgentExecutor, create_react_agent\n",
        "\n",
        "# Construct the ReAct agent\n",
        "agent = create_react_agent(openai_llm, tools, prompt)\n",
        "agent_executor = AgentExecutor(\n",
        "    agent=agent, tools=tools, verbose=True, handle_parsing_errors=True\n",
        ")"
      ],
      "metadata": {
        "id": "esWhLhVkWt8F"
      },
      "execution_count": 32,
      "outputs": []
    },
    {
      "cell_type": "code",
      "source": [
        "# What is the Price of a MacBook Pro?\n",
        "agent_executor.invoke(\n",
        "    {\n",
        "        \"input\": \"What is the current price of a MacBook Pro in USD? How much would it cost in EUR if the exchange rate is 0.85 EUR for 1 USD?\"\n",
        "    }\n",
        ")"
      ],
      "metadata": {
        "colab": {
          "base_uri": "https://localhost:8080/",
          "height": 532
        },
        "id": "eXvYGAMJWv4V",
        "outputId": "962da596-8076-4ccf-d279-8f31579d7d87"
      },
      "execution_count": 33,
      "outputs": [
        {
          "output_type": "stream",
          "name": "stdout",
          "text": [
            "\n",
            "\n",
            "\u001b[1m> Entering new AgentExecutor chain...\u001b[0m\n",
            "\u001b[32;1m\u001b[1;3mTo find the current price of a MacBook Pro in USD and then convert it to EUR, I need to first find the current price of a MacBook Pro in USD. \n",
            "\n",
            "Action: duckduck\n",
            "Action Input: current price of MacBook Pro in USD\u001b[0m"
          ]
        },
        {
          "output_type": "error",
          "ename": "DuckDuckGoSearchException",
          "evalue": "https://html.duckduckgo.com/html 202 Ratelimit",
          "traceback": [
            "\u001b[0;31m---------------------------------------------------------------------------\u001b[0m",
            "\u001b[0;31mDuckDuckGoSearchException\u001b[0m                 Traceback (most recent call last)",
            "\u001b[0;32m/tmp/ipython-input-33-718606831.py\u001b[0m in \u001b[0;36m<cell line: 0>\u001b[0;34m()\u001b[0m\n\u001b[1;32m      1\u001b[0m \u001b[0;31m# What is the Price of a MacBook Pro?\u001b[0m\u001b[0;34m\u001b[0m\u001b[0;34m\u001b[0m\u001b[0m\n\u001b[0;32m----> 2\u001b[0;31m agent_executor.invoke(\n\u001b[0m\u001b[1;32m      3\u001b[0m     {\n\u001b[1;32m      4\u001b[0m         \u001b[0;34m\"input\"\u001b[0m\u001b[0;34m:\u001b[0m \u001b[0;34m\"What is the current price of a MacBook Pro in USD? How much would it cost in EUR if the exchange rate is 0.85 EUR for 1 USD?\"\u001b[0m\u001b[0;34m\u001b[0m\u001b[0;34m\u001b[0m\u001b[0m\n\u001b[1;32m      5\u001b[0m     }\n",
            "\u001b[0;32m/usr/local/lib/python3.11/dist-packages/langchain/chains/base.py\u001b[0m in \u001b[0;36minvoke\u001b[0;34m(self, input, config, **kwargs)\u001b[0m\n\u001b[1;32m    165\u001b[0m         \u001b[0;32mexcept\u001b[0m \u001b[0mBaseException\u001b[0m \u001b[0;32mas\u001b[0m \u001b[0me\u001b[0m\u001b[0;34m:\u001b[0m\u001b[0;34m\u001b[0m\u001b[0;34m\u001b[0m\u001b[0m\n\u001b[1;32m    166\u001b[0m             \u001b[0mrun_manager\u001b[0m\u001b[0;34m.\u001b[0m\u001b[0mon_chain_error\u001b[0m\u001b[0;34m(\u001b[0m\u001b[0me\u001b[0m\u001b[0;34m)\u001b[0m\u001b[0;34m\u001b[0m\u001b[0;34m\u001b[0m\u001b[0m\n\u001b[0;32m--> 167\u001b[0;31m             \u001b[0;32mraise\u001b[0m \u001b[0me\u001b[0m\u001b[0;34m\u001b[0m\u001b[0;34m\u001b[0m\u001b[0m\n\u001b[0m\u001b[1;32m    168\u001b[0m         \u001b[0mrun_manager\u001b[0m\u001b[0;34m.\u001b[0m\u001b[0mon_chain_end\u001b[0m\u001b[0;34m(\u001b[0m\u001b[0moutputs\u001b[0m\u001b[0;34m)\u001b[0m\u001b[0;34m\u001b[0m\u001b[0;34m\u001b[0m\u001b[0m\n\u001b[1;32m    169\u001b[0m \u001b[0;34m\u001b[0m\u001b[0m\n",
            "\u001b[0;32m/usr/local/lib/python3.11/dist-packages/langchain/chains/base.py\u001b[0m in \u001b[0;36minvoke\u001b[0;34m(self, input, config, **kwargs)\u001b[0m\n\u001b[1;32m    155\u001b[0m             \u001b[0mself\u001b[0m\u001b[0;34m.\u001b[0m\u001b[0m_validate_inputs\u001b[0m\u001b[0;34m(\u001b[0m\u001b[0minputs\u001b[0m\u001b[0;34m)\u001b[0m\u001b[0;34m\u001b[0m\u001b[0;34m\u001b[0m\u001b[0m\n\u001b[1;32m    156\u001b[0m             outputs = (\n\u001b[0;32m--> 157\u001b[0;31m                 \u001b[0mself\u001b[0m\u001b[0;34m.\u001b[0m\u001b[0m_call\u001b[0m\u001b[0;34m(\u001b[0m\u001b[0minputs\u001b[0m\u001b[0;34m,\u001b[0m \u001b[0mrun_manager\u001b[0m\u001b[0;34m=\u001b[0m\u001b[0mrun_manager\u001b[0m\u001b[0;34m)\u001b[0m\u001b[0;34m\u001b[0m\u001b[0;34m\u001b[0m\u001b[0m\n\u001b[0m\u001b[1;32m    158\u001b[0m                 \u001b[0;32mif\u001b[0m \u001b[0mnew_arg_supported\u001b[0m\u001b[0;34m\u001b[0m\u001b[0;34m\u001b[0m\u001b[0m\n\u001b[1;32m    159\u001b[0m                 \u001b[0;32melse\u001b[0m \u001b[0mself\u001b[0m\u001b[0;34m.\u001b[0m\u001b[0m_call\u001b[0m\u001b[0;34m(\u001b[0m\u001b[0minputs\u001b[0m\u001b[0;34m)\u001b[0m\u001b[0;34m\u001b[0m\u001b[0;34m\u001b[0m\u001b[0m\n",
            "\u001b[0;32m/usr/local/lib/python3.11/dist-packages/langchain/agents/agent.py\u001b[0m in \u001b[0;36m_call\u001b[0;34m(self, inputs, run_manager)\u001b[0m\n\u001b[1;32m   1618\u001b[0m         \u001b[0;31m# We now enter the agent loop (until it returns something).\u001b[0m\u001b[0;34m\u001b[0m\u001b[0;34m\u001b[0m\u001b[0m\n\u001b[1;32m   1619\u001b[0m         \u001b[0;32mwhile\u001b[0m \u001b[0mself\u001b[0m\u001b[0;34m.\u001b[0m\u001b[0m_should_continue\u001b[0m\u001b[0;34m(\u001b[0m\u001b[0miterations\u001b[0m\u001b[0;34m,\u001b[0m \u001b[0mtime_elapsed\u001b[0m\u001b[0;34m)\u001b[0m\u001b[0;34m:\u001b[0m\u001b[0;34m\u001b[0m\u001b[0;34m\u001b[0m\u001b[0m\n\u001b[0;32m-> 1620\u001b[0;31m             next_step_output = self._take_next_step(\n\u001b[0m\u001b[1;32m   1621\u001b[0m                 \u001b[0mname_to_tool_map\u001b[0m\u001b[0;34m,\u001b[0m\u001b[0;34m\u001b[0m\u001b[0;34m\u001b[0m\u001b[0m\n\u001b[1;32m   1622\u001b[0m                 \u001b[0mcolor_mapping\u001b[0m\u001b[0;34m,\u001b[0m\u001b[0;34m\u001b[0m\u001b[0;34m\u001b[0m\u001b[0m\n",
            "\u001b[0;32m/usr/local/lib/python3.11/dist-packages/langchain/agents/agent.py\u001b[0m in \u001b[0;36m_take_next_step\u001b[0;34m(self, name_to_tool_map, color_mapping, inputs, intermediate_steps, run_manager)\u001b[0m\n\u001b[1;32m   1324\u001b[0m     ) -> Union[AgentFinish, list[tuple[AgentAction, str]]]:\n\u001b[1;32m   1325\u001b[0m         return self._consume_next_step(\n\u001b[0;32m-> 1326\u001b[0;31m             [\n\u001b[0m\u001b[1;32m   1327\u001b[0m                 \u001b[0ma\u001b[0m\u001b[0;34m\u001b[0m\u001b[0;34m\u001b[0m\u001b[0m\n\u001b[1;32m   1328\u001b[0m                 for a in self._iter_next_step(\n",
            "\u001b[0;32m/usr/local/lib/python3.11/dist-packages/langchain/agents/agent.py\u001b[0m in \u001b[0;36m<listcomp>\u001b[0;34m(.0)\u001b[0m\n\u001b[1;32m   1324\u001b[0m     ) -> Union[AgentFinish, list[tuple[AgentAction, str]]]:\n\u001b[1;32m   1325\u001b[0m         return self._consume_next_step(\n\u001b[0;32m-> 1326\u001b[0;31m             [\n\u001b[0m\u001b[1;32m   1327\u001b[0m                 \u001b[0ma\u001b[0m\u001b[0;34m\u001b[0m\u001b[0;34m\u001b[0m\u001b[0m\n\u001b[1;32m   1328\u001b[0m                 for a in self._iter_next_step(\n",
            "\u001b[0;32m/usr/local/lib/python3.11/dist-packages/langchain/agents/agent.py\u001b[0m in \u001b[0;36m_iter_next_step\u001b[0;34m(self, name_to_tool_map, color_mapping, inputs, intermediate_steps, run_manager)\u001b[0m\n\u001b[1;32m   1409\u001b[0m             \u001b[0;32myield\u001b[0m \u001b[0magent_action\u001b[0m\u001b[0;34m\u001b[0m\u001b[0;34m\u001b[0m\u001b[0m\n\u001b[1;32m   1410\u001b[0m         \u001b[0;32mfor\u001b[0m \u001b[0magent_action\u001b[0m \u001b[0;32min\u001b[0m \u001b[0mactions\u001b[0m\u001b[0;34m:\u001b[0m\u001b[0;34m\u001b[0m\u001b[0;34m\u001b[0m\u001b[0m\n\u001b[0;32m-> 1411\u001b[0;31m             yield self._perform_agent_action(\n\u001b[0m\u001b[1;32m   1412\u001b[0m                 \u001b[0mname_to_tool_map\u001b[0m\u001b[0;34m,\u001b[0m \u001b[0mcolor_mapping\u001b[0m\u001b[0;34m,\u001b[0m \u001b[0magent_action\u001b[0m\u001b[0;34m,\u001b[0m \u001b[0mrun_manager\u001b[0m\u001b[0;34m\u001b[0m\u001b[0;34m\u001b[0m\u001b[0m\n\u001b[1;32m   1413\u001b[0m             )\n",
            "\u001b[0;32m/usr/local/lib/python3.11/dist-packages/langchain/agents/agent.py\u001b[0m in \u001b[0;36m_perform_agent_action\u001b[0;34m(self, name_to_tool_map, color_mapping, agent_action, run_manager)\u001b[0m\n\u001b[1;32m   1431\u001b[0m                 \u001b[0mtool_run_kwargs\u001b[0m\u001b[0;34m[\u001b[0m\u001b[0;34m\"llm_prefix\"\u001b[0m\u001b[0;34m]\u001b[0m \u001b[0;34m=\u001b[0m \u001b[0;34m\"\"\u001b[0m\u001b[0;34m\u001b[0m\u001b[0;34m\u001b[0m\u001b[0m\n\u001b[1;32m   1432\u001b[0m             \u001b[0;31m# We then call the tool on the tool input to get an observation\u001b[0m\u001b[0;34m\u001b[0m\u001b[0;34m\u001b[0m\u001b[0m\n\u001b[0;32m-> 1433\u001b[0;31m             observation = tool.run(\n\u001b[0m\u001b[1;32m   1434\u001b[0m                 \u001b[0magent_action\u001b[0m\u001b[0;34m.\u001b[0m\u001b[0mtool_input\u001b[0m\u001b[0;34m,\u001b[0m\u001b[0;34m\u001b[0m\u001b[0;34m\u001b[0m\u001b[0m\n\u001b[1;32m   1435\u001b[0m                 \u001b[0mverbose\u001b[0m\u001b[0;34m=\u001b[0m\u001b[0mself\u001b[0m\u001b[0;34m.\u001b[0m\u001b[0mverbose\u001b[0m\u001b[0;34m,\u001b[0m\u001b[0;34m\u001b[0m\u001b[0;34m\u001b[0m\u001b[0m\n",
            "\u001b[0;32m/usr/local/lib/python3.11/dist-packages/langchain_core/tools/base.py\u001b[0m in \u001b[0;36mrun\u001b[0;34m(self, tool_input, verbose, start_color, color, callbacks, tags, metadata, run_name, run_id, config, tool_call_id, **kwargs)\u001b[0m\n\u001b[1;32m    880\u001b[0m         \u001b[0;32mif\u001b[0m \u001b[0merror_to_raise\u001b[0m\u001b[0;34m:\u001b[0m\u001b[0;34m\u001b[0m\u001b[0;34m\u001b[0m\u001b[0m\n\u001b[1;32m    881\u001b[0m             \u001b[0mrun_manager\u001b[0m\u001b[0;34m.\u001b[0m\u001b[0mon_tool_error\u001b[0m\u001b[0;34m(\u001b[0m\u001b[0merror_to_raise\u001b[0m\u001b[0;34m)\u001b[0m\u001b[0;34m\u001b[0m\u001b[0;34m\u001b[0m\u001b[0m\n\u001b[0;32m--> 882\u001b[0;31m             \u001b[0;32mraise\u001b[0m \u001b[0merror_to_raise\u001b[0m\u001b[0;34m\u001b[0m\u001b[0;34m\u001b[0m\u001b[0m\n\u001b[0m\u001b[1;32m    883\u001b[0m         \u001b[0moutput\u001b[0m \u001b[0;34m=\u001b[0m \u001b[0m_format_output\u001b[0m\u001b[0;34m(\u001b[0m\u001b[0mcontent\u001b[0m\u001b[0;34m,\u001b[0m \u001b[0martifact\u001b[0m\u001b[0;34m,\u001b[0m \u001b[0mtool_call_id\u001b[0m\u001b[0;34m,\u001b[0m \u001b[0mself\u001b[0m\u001b[0;34m.\u001b[0m\u001b[0mname\u001b[0m\u001b[0;34m,\u001b[0m \u001b[0mstatus\u001b[0m\u001b[0;34m)\u001b[0m\u001b[0;34m\u001b[0m\u001b[0;34m\u001b[0m\u001b[0m\n\u001b[1;32m    884\u001b[0m         \u001b[0mrun_manager\u001b[0m\u001b[0;34m.\u001b[0m\u001b[0mon_tool_end\u001b[0m\u001b[0;34m(\u001b[0m\u001b[0moutput\u001b[0m\u001b[0;34m,\u001b[0m \u001b[0mcolor\u001b[0m\u001b[0;34m=\u001b[0m\u001b[0mcolor\u001b[0m\u001b[0;34m,\u001b[0m \u001b[0mname\u001b[0m\u001b[0;34m=\u001b[0m\u001b[0mself\u001b[0m\u001b[0;34m.\u001b[0m\u001b[0mname\u001b[0m\u001b[0;34m,\u001b[0m \u001b[0;34m**\u001b[0m\u001b[0mkwargs\u001b[0m\u001b[0;34m)\u001b[0m\u001b[0;34m\u001b[0m\u001b[0;34m\u001b[0m\u001b[0m\n",
            "\u001b[0;32m/usr/local/lib/python3.11/dist-packages/langchain_core/tools/base.py\u001b[0m in \u001b[0;36mrun\u001b[0;34m(self, tool_input, verbose, start_color, color, callbacks, tags, metadata, run_name, run_id, config, tool_call_id, **kwargs)\u001b[0m\n\u001b[1;32m    849\u001b[0m                 \u001b[0;32mif\u001b[0m \u001b[0mconfig_param\u001b[0m \u001b[0;34m:=\u001b[0m \u001b[0m_get_runnable_config_param\u001b[0m\u001b[0;34m(\u001b[0m\u001b[0mself\u001b[0m\u001b[0;34m.\u001b[0m\u001b[0m_run\u001b[0m\u001b[0;34m)\u001b[0m\u001b[0;34m:\u001b[0m\u001b[0;34m\u001b[0m\u001b[0;34m\u001b[0m\u001b[0m\n\u001b[1;32m    850\u001b[0m                     \u001b[0mtool_kwargs\u001b[0m \u001b[0;34m=\u001b[0m \u001b[0mtool_kwargs\u001b[0m \u001b[0;34m|\u001b[0m \u001b[0;34m{\u001b[0m\u001b[0mconfig_param\u001b[0m\u001b[0;34m:\u001b[0m \u001b[0mconfig\u001b[0m\u001b[0;34m}\u001b[0m\u001b[0;34m\u001b[0m\u001b[0;34m\u001b[0m\u001b[0m\n\u001b[0;32m--> 851\u001b[0;31m                 \u001b[0mresponse\u001b[0m \u001b[0;34m=\u001b[0m \u001b[0mcontext\u001b[0m\u001b[0;34m.\u001b[0m\u001b[0mrun\u001b[0m\u001b[0;34m(\u001b[0m\u001b[0mself\u001b[0m\u001b[0;34m.\u001b[0m\u001b[0m_run\u001b[0m\u001b[0;34m,\u001b[0m \u001b[0;34m*\u001b[0m\u001b[0mtool_args\u001b[0m\u001b[0;34m,\u001b[0m \u001b[0;34m**\u001b[0m\u001b[0mtool_kwargs\u001b[0m\u001b[0;34m)\u001b[0m\u001b[0;34m\u001b[0m\u001b[0;34m\u001b[0m\u001b[0m\n\u001b[0m\u001b[1;32m    852\u001b[0m             \u001b[0;32mif\u001b[0m \u001b[0mself\u001b[0m\u001b[0;34m.\u001b[0m\u001b[0mresponse_format\u001b[0m \u001b[0;34m==\u001b[0m \u001b[0;34m\"content_and_artifact\"\u001b[0m\u001b[0;34m:\u001b[0m\u001b[0;34m\u001b[0m\u001b[0;34m\u001b[0m\u001b[0m\n\u001b[1;32m    853\u001b[0m                 \u001b[0;32mif\u001b[0m \u001b[0;32mnot\u001b[0m \u001b[0misinstance\u001b[0m\u001b[0;34m(\u001b[0m\u001b[0mresponse\u001b[0m\u001b[0;34m,\u001b[0m \u001b[0mtuple\u001b[0m\u001b[0;34m)\u001b[0m \u001b[0;32mor\u001b[0m \u001b[0mlen\u001b[0m\u001b[0;34m(\u001b[0m\u001b[0mresponse\u001b[0m\u001b[0;34m)\u001b[0m \u001b[0;34m!=\u001b[0m \u001b[0;36m2\u001b[0m\u001b[0;34m:\u001b[0m\u001b[0;34m\u001b[0m\u001b[0;34m\u001b[0m\u001b[0m\n",
            "\u001b[0;32m/usr/local/lib/python3.11/dist-packages/langchain_core/tools/simple.py\u001b[0m in \u001b[0;36m_run\u001b[0;34m(self, config, run_manager, *args, **kwargs)\u001b[0m\n\u001b[1;32m    103\u001b[0m             \u001b[0;32mif\u001b[0m \u001b[0mconfig_param\u001b[0m \u001b[0;34m:=\u001b[0m \u001b[0m_get_runnable_config_param\u001b[0m\u001b[0;34m(\u001b[0m\u001b[0mself\u001b[0m\u001b[0;34m.\u001b[0m\u001b[0mfunc\u001b[0m\u001b[0;34m)\u001b[0m\u001b[0;34m:\u001b[0m\u001b[0;34m\u001b[0m\u001b[0;34m\u001b[0m\u001b[0m\n\u001b[1;32m    104\u001b[0m                 \u001b[0mkwargs\u001b[0m\u001b[0;34m[\u001b[0m\u001b[0mconfig_param\u001b[0m\u001b[0;34m]\u001b[0m \u001b[0;34m=\u001b[0m \u001b[0mconfig\u001b[0m\u001b[0;34m\u001b[0m\u001b[0;34m\u001b[0m\u001b[0m\n\u001b[0;32m--> 105\u001b[0;31m             \u001b[0;32mreturn\u001b[0m \u001b[0mself\u001b[0m\u001b[0;34m.\u001b[0m\u001b[0mfunc\u001b[0m\u001b[0;34m(\u001b[0m\u001b[0;34m*\u001b[0m\u001b[0margs\u001b[0m\u001b[0;34m,\u001b[0m \u001b[0;34m**\u001b[0m\u001b[0mkwargs\u001b[0m\u001b[0;34m)\u001b[0m\u001b[0;34m\u001b[0m\u001b[0;34m\u001b[0m\u001b[0m\n\u001b[0m\u001b[1;32m    106\u001b[0m         \u001b[0mmsg\u001b[0m \u001b[0;34m=\u001b[0m \u001b[0;34m\"Tool does not support sync invocation.\"\u001b[0m\u001b[0;34m\u001b[0m\u001b[0;34m\u001b[0m\u001b[0m\n\u001b[1;32m    107\u001b[0m         \u001b[0;32mraise\u001b[0m \u001b[0mNotImplementedError\u001b[0m\u001b[0;34m(\u001b[0m\u001b[0mmsg\u001b[0m\u001b[0;34m)\u001b[0m\u001b[0;34m\u001b[0m\u001b[0;34m\u001b[0m\u001b[0m\n",
            "\u001b[0;32m/usr/local/lib/python3.11/dist-packages/langchain_core/tools/base.py\u001b[0m in \u001b[0;36mrun\u001b[0;34m(self, tool_input, verbose, start_color, color, callbacks, tags, metadata, run_name, run_id, config, tool_call_id, **kwargs)\u001b[0m\n\u001b[1;32m    880\u001b[0m         \u001b[0;32mif\u001b[0m \u001b[0merror_to_raise\u001b[0m\u001b[0;34m:\u001b[0m\u001b[0;34m\u001b[0m\u001b[0;34m\u001b[0m\u001b[0m\n\u001b[1;32m    881\u001b[0m             \u001b[0mrun_manager\u001b[0m\u001b[0;34m.\u001b[0m\u001b[0mon_tool_error\u001b[0m\u001b[0;34m(\u001b[0m\u001b[0merror_to_raise\u001b[0m\u001b[0;34m)\u001b[0m\u001b[0;34m\u001b[0m\u001b[0;34m\u001b[0m\u001b[0m\n\u001b[0;32m--> 882\u001b[0;31m             \u001b[0;32mraise\u001b[0m \u001b[0merror_to_raise\u001b[0m\u001b[0;34m\u001b[0m\u001b[0;34m\u001b[0m\u001b[0m\n\u001b[0m\u001b[1;32m    883\u001b[0m         \u001b[0moutput\u001b[0m \u001b[0;34m=\u001b[0m \u001b[0m_format_output\u001b[0m\u001b[0;34m(\u001b[0m\u001b[0mcontent\u001b[0m\u001b[0;34m,\u001b[0m \u001b[0martifact\u001b[0m\u001b[0;34m,\u001b[0m \u001b[0mtool_call_id\u001b[0m\u001b[0;34m,\u001b[0m \u001b[0mself\u001b[0m\u001b[0;34m.\u001b[0m\u001b[0mname\u001b[0m\u001b[0;34m,\u001b[0m \u001b[0mstatus\u001b[0m\u001b[0;34m)\u001b[0m\u001b[0;34m\u001b[0m\u001b[0;34m\u001b[0m\u001b[0m\n\u001b[1;32m    884\u001b[0m         \u001b[0mrun_manager\u001b[0m\u001b[0;34m.\u001b[0m\u001b[0mon_tool_end\u001b[0m\u001b[0;34m(\u001b[0m\u001b[0moutput\u001b[0m\u001b[0;34m,\u001b[0m \u001b[0mcolor\u001b[0m\u001b[0;34m=\u001b[0m\u001b[0mcolor\u001b[0m\u001b[0;34m,\u001b[0m \u001b[0mname\u001b[0m\u001b[0;34m=\u001b[0m\u001b[0mself\u001b[0m\u001b[0;34m.\u001b[0m\u001b[0mname\u001b[0m\u001b[0;34m,\u001b[0m \u001b[0;34m**\u001b[0m\u001b[0mkwargs\u001b[0m\u001b[0;34m)\u001b[0m\u001b[0;34m\u001b[0m\u001b[0;34m\u001b[0m\u001b[0m\n",
            "\u001b[0;32m/usr/local/lib/python3.11/dist-packages/langchain_core/tools/base.py\u001b[0m in \u001b[0;36mrun\u001b[0;34m(self, tool_input, verbose, start_color, color, callbacks, tags, metadata, run_name, run_id, config, tool_call_id, **kwargs)\u001b[0m\n\u001b[1;32m    849\u001b[0m                 \u001b[0;32mif\u001b[0m \u001b[0mconfig_param\u001b[0m \u001b[0;34m:=\u001b[0m \u001b[0m_get_runnable_config_param\u001b[0m\u001b[0;34m(\u001b[0m\u001b[0mself\u001b[0m\u001b[0;34m.\u001b[0m\u001b[0m_run\u001b[0m\u001b[0;34m)\u001b[0m\u001b[0;34m:\u001b[0m\u001b[0;34m\u001b[0m\u001b[0;34m\u001b[0m\u001b[0m\n\u001b[1;32m    850\u001b[0m                     \u001b[0mtool_kwargs\u001b[0m \u001b[0;34m=\u001b[0m \u001b[0mtool_kwargs\u001b[0m \u001b[0;34m|\u001b[0m \u001b[0;34m{\u001b[0m\u001b[0mconfig_param\u001b[0m\u001b[0;34m:\u001b[0m \u001b[0mconfig\u001b[0m\u001b[0;34m}\u001b[0m\u001b[0;34m\u001b[0m\u001b[0;34m\u001b[0m\u001b[0m\n\u001b[0;32m--> 851\u001b[0;31m                 \u001b[0mresponse\u001b[0m \u001b[0;34m=\u001b[0m \u001b[0mcontext\u001b[0m\u001b[0;34m.\u001b[0m\u001b[0mrun\u001b[0m\u001b[0;34m(\u001b[0m\u001b[0mself\u001b[0m\u001b[0;34m.\u001b[0m\u001b[0m_run\u001b[0m\u001b[0;34m,\u001b[0m \u001b[0;34m*\u001b[0m\u001b[0mtool_args\u001b[0m\u001b[0;34m,\u001b[0m \u001b[0;34m**\u001b[0m\u001b[0mtool_kwargs\u001b[0m\u001b[0;34m)\u001b[0m\u001b[0;34m\u001b[0m\u001b[0;34m\u001b[0m\u001b[0m\n\u001b[0m\u001b[1;32m    852\u001b[0m             \u001b[0;32mif\u001b[0m \u001b[0mself\u001b[0m\u001b[0;34m.\u001b[0m\u001b[0mresponse_format\u001b[0m \u001b[0;34m==\u001b[0m \u001b[0;34m\"content_and_artifact\"\u001b[0m\u001b[0;34m:\u001b[0m\u001b[0;34m\u001b[0m\u001b[0;34m\u001b[0m\u001b[0m\n\u001b[1;32m    853\u001b[0m                 \u001b[0;32mif\u001b[0m \u001b[0;32mnot\u001b[0m \u001b[0misinstance\u001b[0m\u001b[0;34m(\u001b[0m\u001b[0mresponse\u001b[0m\u001b[0;34m,\u001b[0m \u001b[0mtuple\u001b[0m\u001b[0;34m)\u001b[0m \u001b[0;32mor\u001b[0m \u001b[0mlen\u001b[0m\u001b[0;34m(\u001b[0m\u001b[0mresponse\u001b[0m\u001b[0;34m)\u001b[0m \u001b[0;34m!=\u001b[0m \u001b[0;36m2\u001b[0m\u001b[0;34m:\u001b[0m\u001b[0;34m\u001b[0m\u001b[0;34m\u001b[0m\u001b[0m\n",
            "\u001b[0;32m/usr/local/lib/python3.11/dist-packages/langchain_community/tools/ddg_search/tool.py\u001b[0m in \u001b[0;36m_run\u001b[0;34m(self, query, run_manager)\u001b[0m\n\u001b[1;32m    110\u001b[0m     ) -> tuple[Union[List[dict], str], List[dict]]:\n\u001b[1;32m    111\u001b[0m         \u001b[0;34m\"\"\"Use the tool.\"\"\"\u001b[0m\u001b[0;34m\u001b[0m\u001b[0;34m\u001b[0m\u001b[0m\n\u001b[0;32m--> 112\u001b[0;31m         raw_results = self.api_wrapper.results(\n\u001b[0m\u001b[1;32m    113\u001b[0m             \u001b[0mquery\u001b[0m\u001b[0;34m,\u001b[0m \u001b[0mself\u001b[0m\u001b[0;34m.\u001b[0m\u001b[0mmax_results\u001b[0m\u001b[0;34m,\u001b[0m \u001b[0msource\u001b[0m\u001b[0;34m=\u001b[0m\u001b[0mself\u001b[0m\u001b[0;34m.\u001b[0m\u001b[0mbackend\u001b[0m\u001b[0;34m\u001b[0m\u001b[0;34m\u001b[0m\u001b[0m\n\u001b[1;32m    114\u001b[0m         )\n",
            "\u001b[0;32m/usr/local/lib/python3.11/dist-packages/langchain_community/utilities/duckduckgo_search.py\u001b[0m in \u001b[0;36mresults\u001b[0;34m(self, query, max_results, source)\u001b[0m\n\u001b[1;32m    144\u001b[0m             results = [\n\u001b[1;32m    145\u001b[0m                 \u001b[0;34m{\u001b[0m\u001b[0;34m\"snippet\"\u001b[0m\u001b[0;34m:\u001b[0m \u001b[0mr\u001b[0m\u001b[0;34m[\u001b[0m\u001b[0;34m\"body\"\u001b[0m\u001b[0;34m]\u001b[0m\u001b[0;34m,\u001b[0m \u001b[0;34m\"title\"\u001b[0m\u001b[0;34m:\u001b[0m \u001b[0mr\u001b[0m\u001b[0;34m[\u001b[0m\u001b[0;34m\"title\"\u001b[0m\u001b[0;34m]\u001b[0m\u001b[0;34m,\u001b[0m \u001b[0;34m\"link\"\u001b[0m\u001b[0;34m:\u001b[0m \u001b[0mr\u001b[0m\u001b[0;34m[\u001b[0m\u001b[0;34m\"href\"\u001b[0m\u001b[0;34m]\u001b[0m\u001b[0;34m}\u001b[0m\u001b[0;34m\u001b[0m\u001b[0;34m\u001b[0m\u001b[0m\n\u001b[0;32m--> 146\u001b[0;31m                 \u001b[0;32mfor\u001b[0m \u001b[0mr\u001b[0m \u001b[0;32min\u001b[0m \u001b[0mself\u001b[0m\u001b[0;34m.\u001b[0m\u001b[0m_ddgs_text\u001b[0m\u001b[0;34m(\u001b[0m\u001b[0mquery\u001b[0m\u001b[0;34m,\u001b[0m \u001b[0mmax_results\u001b[0m\u001b[0;34m=\u001b[0m\u001b[0mmax_results\u001b[0m\u001b[0;34m)\u001b[0m\u001b[0;34m\u001b[0m\u001b[0;34m\u001b[0m\u001b[0m\n\u001b[0m\u001b[1;32m    147\u001b[0m             ]\n\u001b[1;32m    148\u001b[0m         \u001b[0;32melif\u001b[0m \u001b[0msource\u001b[0m \u001b[0;34m==\u001b[0m \u001b[0;34m\"news\"\u001b[0m\u001b[0;34m:\u001b[0m\u001b[0;34m\u001b[0m\u001b[0;34m\u001b[0m\u001b[0m\n",
            "\u001b[0;32m/usr/local/lib/python3.11/dist-packages/langchain_community/utilities/duckduckgo_search.py\u001b[0m in \u001b[0;36m_ddgs_text\u001b[0;34m(self, query, max_results)\u001b[0m\n\u001b[1;32m     62\u001b[0m \u001b[0;34m\u001b[0m\u001b[0m\n\u001b[1;32m     63\u001b[0m         \u001b[0;32mwith\u001b[0m \u001b[0mDDGS\u001b[0m\u001b[0;34m(\u001b[0m\u001b[0;34m)\u001b[0m \u001b[0;32mas\u001b[0m \u001b[0mddgs\u001b[0m\u001b[0;34m:\u001b[0m\u001b[0;34m\u001b[0m\u001b[0;34m\u001b[0m\u001b[0m\n\u001b[0;32m---> 64\u001b[0;31m             ddgs_gen = ddgs.text(\n\u001b[0m\u001b[1;32m     65\u001b[0m                 \u001b[0mquery\u001b[0m\u001b[0;34m,\u001b[0m\u001b[0;34m\u001b[0m\u001b[0;34m\u001b[0m\u001b[0m\n\u001b[1;32m     66\u001b[0m                 \u001b[0mregion\u001b[0m\u001b[0;34m=\u001b[0m\u001b[0mself\u001b[0m\u001b[0;34m.\u001b[0m\u001b[0mregion\u001b[0m\u001b[0;34m,\u001b[0m\u001b[0;34m\u001b[0m\u001b[0;34m\u001b[0m\u001b[0m\n",
            "\u001b[0;32m/usr/local/lib/python3.11/dist-packages/duckduckgo_search/duckduckgo_search.py\u001b[0m in \u001b[0;36mtext\u001b[0;34m(self, keywords, region, safesearch, timelimit, backend, max_results)\u001b[0m\n\u001b[1;32m    183\u001b[0m                 \u001b[0merr\u001b[0m \u001b[0;34m=\u001b[0m \u001b[0mex\u001b[0m\u001b[0;34m\u001b[0m\u001b[0;34m\u001b[0m\u001b[0m\n\u001b[1;32m    184\u001b[0m \u001b[0;34m\u001b[0m\u001b[0m\n\u001b[0;32m--> 185\u001b[0;31m         \u001b[0;32mraise\u001b[0m \u001b[0mDuckDuckGoSearchException\u001b[0m\u001b[0;34m(\u001b[0m\u001b[0merr\u001b[0m\u001b[0;34m)\u001b[0m\u001b[0;34m\u001b[0m\u001b[0;34m\u001b[0m\u001b[0m\n\u001b[0m\u001b[1;32m    186\u001b[0m \u001b[0;34m\u001b[0m\u001b[0m\n\u001b[1;32m    187\u001b[0m     def _text_html(\n",
            "\u001b[0;31mDuckDuckGoSearchException\u001b[0m: https://html.duckduckgo.com/html 202 Ratelimit"
          ]
        }
      ]
    },
    {
      "cell_type": "code",
      "source": [
        "%%capture\n",
        "# update or install the necessary libraries\n",
        "!pip install --upgrade langchain"
      ],
      "metadata": {
        "id": "qkjsbFraWxms"
      },
      "execution_count": 21,
      "outputs": []
    },
    {
      "cell_type": "code",
      "metadata": {
        "id": "4e5e9d2f"
      },
      "source": [
        "%%capture\n",
        "!pip install tavily-python"
      ],
      "execution_count": 25,
      "outputs": []
    },
    {
      "cell_type": "code",
      "metadata": {
        "id": "714ea104"
      },
      "source": [
        "from langchain_community.tools import TavilySearchResults\n",
        "\n",
        "os.environ[\"TAVILY_API_KEY\"] = userdata.get('TAVILY_API_KEY')\n",
        "\n",
        "# You can create the tool to pass to an agent\n",
        "search = TavilySearchResults()\n",
        "tavily_tool = Tool(\n",
        "    name=\"tavily_search\",\n",
        "    description=\"A search engine for general queries.\",\n",
        "    func=search.run,\n",
        ")\n",
        "\n",
        "# Prepare tools\n",
        "tools = load_tools([], llm=llm)\n",
        "tools.append(tavily_tool)\n",
        "\n",
        "# Re-initialize the agent with the new tools\n",
        "agent = initialize_agent(tools, llm, agent=\"zero-shot-react-description\", verbose=True)"
      ],
      "execution_count": 28,
      "outputs": []
    },
    {
      "cell_type": "code",
      "source": [
        "# run the agent\n",
        "agent.run(\"Who are Dr. Raj Dandekar's co-founders? What is their current age raised to the 1 power?\")"
      ],
      "metadata": {
        "colab": {
          "base_uri": "https://localhost:8080/",
          "height": 489
        },
        "id": "VKjwXqSsYy5c",
        "outputId": "99b84bcf-478e-4740-c234-296b4b8e404f"
      },
      "execution_count": 29,
      "outputs": [
        {
          "output_type": "stream",
          "name": "stdout",
          "text": [
            "\n",
            "\n",
            "\u001b[1m> Entering new AgentExecutor chain...\u001b[0m\n",
            "\u001b[32;1m\u001b[1;3mThought: To find the co-founders of Dr. Raj Dandekar and their current age raised to the power of 1, I first need to identify who Dr. Raj Dandekar's co-founders are. \n",
            "\n",
            "Action: tavily_search\n",
            "Action Input: Dr. Raj Dandekar co-founders\u001b[0m\n",
            "Observation: \u001b[36;1m\u001b[1;3m[{'title': 'About Us – Vizuara AI Labs', 'url': 'https://vizuara.ai/about-us/', 'content': 'Dr. Raj Abhijit Dandekar. MIT PhD, IIT Madras BTech. Co-founder, Vizuara AI Labs ; Dr. Rajat Dandekar\\u200b. Purdue PhD, IIT Madras BTech Co-founder, Vizuara AI Labs', 'score': 0.81595254}, {'title': 'Elets Education - Facebook', 'url': 'https://www.facebook.com/eletseducation/posts/co-founders-of-vizuara-raj-dandekar-rajat-dandekar-and-sreedath-panat-share-abou/5058055724228072/', 'content': 'Co-founders of Vizuara, Raj Dandekar, Rajat Dandekar and Sreedath Panat share about their brand at an industry presentation at 22nd Elets', 'score': 0.79883134}, {'title': 'In praise of \"Building LLMs from scratch\" by Sebastian Raschka', 'url': 'https://substack.com/home/post/p-152600024?utm_campaign=post&utm_medium=web', 'content': '### 1. Introduction\\n\\nBefore we get started, let me introduce myself.\\n\\nMy name is Dr. Raj Dandekar, one of the 3 co-founders of Vizuara AI Labs.\\n\\nI graduated with a PhD from Massachusetts Institute of Technology (MIT) in 2022.\\n\\nMy PhD topic was utilizing machine learning to model Covid-19 infections around the world. [...] ![](https://substackcdn.com/image/fetch/$s_!IBfd!,w_520,h_272,c_fill,f_auto,q_auto:good,fl_progressive:steep,g_auto/https%3A%2F%2Fsubstack-post-media.s3.amazonaws.com%2Fpublic%2Fimages%2Fd8c4eec5-ed4a-48f9-ba18-f7def7523f47_836x1070.png)\\n![Vizuara’s Substack](https://substackcdn.com/image/fetch/$s_!D3Nd!,w_36,h_36,c_fill,f_auto,q_auto:good,fl_progressive:steep,g_auto/https%3A%2F%2Fsubstack-post-media.s3.amazonaws.com%2Fpublic%2Fimages%2Ff1a48e78-8537-4335-aee7-95b52957e861_3456x3456.png) [...] ![](https://substackcdn.com/image/fetch/$s_!IBfd!,w_520,h_272,c_fill,f_auto,q_auto:good,fl_progressive:steep,g_auto/https%3A%2F%2Fsubstack-post-media.s3.amazonaws.com%2Fpublic%2Fimages%2Fd8c4eec5-ed4a-48f9-ba18-f7def7523f47_836x1070.png)\\n![Vizuara’s Substack](https://substackcdn.com/image/fetch/$s_!D3Nd!,w_36,h_36,c_fill,f_auto,q_auto:good,fl_progressive:steep,g_auto/https%3A%2F%2Fsubstack-post-media.s3.amazonaws.com%2Fpublic%2Fimages%2Ff1a48e78-8537-4335-aee7-95b52957e861_3456x3456.png)', 'score': 0.78631157}, {'title': 'Rajat Dandekar - Vizuara | LinkedIn', 'url': 'https://in.linkedin.com/in/rajat-dandekar-901324b1', 'content': 'I am currently the co-founder of two startups Vizuara and Videsh. At Vizuara, we are on a… · Experience: Vizuara · Education: Purdue University · Location:', 'score': 0.609455}, {'title': \"Raj Abhijit Dandekar's Post - LinkedIn\", 'url': 'https://www.linkedin.com/posts/raj-abhijit-dandekar-67a33118a_during-my-phd-at-mit-i-transitioned-from-activity-7274366312162701312-D8F4', 'content': '2️⃣ In 2020 I took my first ever machine learning course and applied it to my research 3️⃣ By 2022, I co-founded Vizuara whose foundation is based', 'score': 0.60274047}]\u001b[0m\n",
            "Thought:\u001b[32;1m\u001b[1;3mThought: The search results indicate that Dr. Raj Dandekar's co-founders are Rajat Dandekar and Sreedath Panat. To find their current age, I would need to know their birthdates. However, the search results do not provide this information.\n",
            "\n",
            "Action: tavily_search\n",
            "Action Input: Rajat Dandekar birthdate\u001b[0m\n",
            "Observation: \u001b[36;1m\u001b[1;3m[{'title': \"Rajat Dandekar's Post - LinkedIn\", 'url': 'https://www.linkedin.com/posts/rajat-dandekar-901324b1_a-story-is-for-a-human-as-water-is-for-fish-activity-7295298104788967424-8_-z', 'content': '![Image 7: Rajat Dandekar](https://media.licdn.com/dms/image/v2/D4D03AQHTHCA8YMCmWw/profile-displayphoto-shrink_200_200/profile-displayphoto-shrink_200_200/0/1666760323556?e=2147483647&v=beta&t=9xIoYWTBu05UWp-G-e0OcYbTtR73oqKNZBEy-r-oFsU)\\n30,789 followers\\n\\n*   [467 Posts](https://www.linkedin.com/signup/cold-join?session_redirect=https%3A%2F%2Fwww%2Elinkedin%2Ecom%2Fin%2Frajat-dandekar-901324b1%2Frecent-activity%2F&trk=public_post_follow-posts) [...] [![Image 2](https://static.licdn.com/aero-v1/sc/h/bn39hirwzjqj18ej1fkz55671)![Image 3](https://static.licdn.com/aero-v1/sc/h/asiqslyf4ooq7ggllg4fyo4o2)![Image 4](https://static.licdn.com/aero-v1/sc/h/a0e8rff6djeoq8iympcysuqfu) 75](https://www.linkedin.com/signup/cold-join?session_redirect=https%3A%2F%2Fwww%2Elinkedin%2Ecom%2Fposts%2Frajat-dandekar-901324b1_a-story-is-for-a-human-as-water-is-for-fish-activity-7295298104788967424-8_-z&trk=public_post_social-actions-reactions)[1 [...] [Sania R.](https://in.linkedin.com/in/sania-r-12172929b?trk=public_post_comment_actor-name)\\nLead Research Intern @ AVISHKAR, GD Goenka University | Content Writer | Quantitative Finance ,Medical Engineering and Data science Enthusiast\\n\\n 4mo', 'score': 0.26625875}, {'title': '[PDF] List-of-unclaimed-deposits-and-inoperative-accounts-for-more-than ...', 'url': 'https://business.bofa.com/content/dam/flagship/in/en/regulatory-legal-and-policy-documents/List-of-unclaimed-deposits-and-inoperative-accounts-for-more-than-10-years.pdf', 'content': '1845 MEP0510092810050 DD DT 19JAN00 1846 MEP0510092814058 DD DT 21FEB92 1847 MEP0510092812054 DD DT DANISH EMB 28NOV2000 1848 MEP0505122601002 DD FAV HARSHA KR ISSUED 22JUN2001 1849 MEP0201090901008 DD FOR AUD 6.72 PROV RATE 1850 MEP0200041701002 DD FOR AUD 96 ISSUED FVG AUSTRALIA 1851 MEP0425021701003 DD FVG BANK OF INDIA 1852 MEP0200010301004 DD FVG BOA A/C ABHAY DANDEKAR 1853 MEP0201121201004 DD FVG BOA AC ABHAY DANDEKAR 1854 AQS0450030401041 DD FVG CONGREX XIII INTERNATIONAL 1855 [...] PRODUCTS LTD 8064 MEP0000183243400 RTM RPML EQUITY ISSUE 8065 MEP0000183245400 RTM SATGURU AGRO 8066 6205AQS18100105042 RUPAK KR GHOSH VAL 29.01.73 8067 6205AQS18100105043 RUSTAM BHARUCHA VAL 11.04.92 8068 6205AQS17602787 S A METZYMAR 8069 6205AQS17602788 S. L. KOTHARI 8070 6205AQS17602789 SACHIN SAMUEL PAWAR 8071 6205AQS18100105044 SAMIR C LAHIRI 8072 6205AQS17602790 Sandeep 8073 6205AQS17603301 SANDEEP DANDEKAR OR PADMAJA DANDEKAR 8074 6205AQS17603302 SANJAY MATTA 8075 6205AQS17603303 SANJIV', 'score': 0.19985436}]\u001b[0m\n",
            "Thought:\u001b[32;1m\u001b[1;3mThought: The search results do not provide the birthdate of Rajat Dandekar. I will try searching for Sreedath Panat's birthdate.\n",
            "\n",
            "Action: tavily_search\n",
            "Action Input: Sreedath Panat birthdate\u001b[0m\n",
            "Observation: \u001b[36;1m\u001b[1;3m[{'title': 'Vizuara CSR', 'url': 'https://vizuara.ai/vizuara-csr/', 'content': 'In the freezing cold of Boston in January 2021: me, Rajat Dandekar and Sreedath Panat were taking one of our usual walks from MIT to Harvard.', 'score': 0.30371165}, {'title': 'How to build your resume part - II from Expert | Resume Review ...', 'url': 'https://www.youtube.com/watch?v=QLjZdQtjVxQ', 'content': '... Sreedath Panat (MIT PhD, IIT Madras department gold medalist) LinkedIn: /sreedath-panat-8a03b69a - Sahil Pocker (Machine Learning Engineer at Vizuara)', 'score': 0.2843032}, {'title': 'MIT student startup co-founded by Koz native wins ... - Times of India', 'url': 'https://timesofindia.indiatimes.com/city/kozhikode/mit-student-startup-co-founded-by-koz-native-wins-502000/articleshow/82090577.cms', 'content': '![TOI logo](https://static.toiimg.com/photo/92222747.cms)\\n\\n## [TOI](https://timesofindia.indiatimes.com \"News\")\\n\\n# MIT student startup co-founded by Koz native wins $502,000\\n\\n![MIT student startup co-founded by Koz native wins $502,000](https://static.toiimg.com/thumb/msid-82090576,imgsize-57808,width-400,height-225,resizemode-72/82090576.jpg \"Sreedath Panat is a fourth year PhD student in mechanical engineering at MIT\")\\n![1x1 polls](https://static.toiimg.com/photo/25581306.cms) [...] Expert tips to boost brainpower in kids during their growing years\\n\\n![](https://static.toiimg.com/photo/87458172.cms)\\n\\nHow to make Sweet Potato Cutlets for vrat feasting\\n\\n![](https://static.toiimg.com/photo/87458172.cms)\\n\\n8 tiger sanctuaries in India that are best explored by jeep\\n\\n![](https://static.toiimg.com/photo/87458172.cms)\\n\\nA 7-day Himachal itinerary for Navratri long weekend\\n\\n![](https://static.toiimg.com/photo/87458172.cms) [...] ![5 minimalist habits to stop wasting your time](https://static.toiimg.com/photo/83033472.cms)\\n![â\\x80\\x8b10 most educated countries of the worldâ\\x80\\x8b](https://static.toiimg.com/photo/83033472.cms)\\n![From Aamir Khan\\'s warm surprise with son Junaid to a musical tribute; A look at Amitabh Bachchan\\'s 82nd Birthday celebration on the sets of Kaun Banega Crorepati 16](https://static.toiimg.com/photo/83033472.cms)\\n![7 vegetables that reduce belly fat quickly](https://static.toiimg.com/photo/83033472.cms)', 'score': 0.2656832}, {'title': 'Volume Table of Contents - SPIE Digital Library', 'url': 'https://www.spiedigitallibrary.org/conference-proceedings-of-spie/10341.toc', 'content': '... Sreedath Panat, Arunachalam N. Proceedings Volume Ninth International Conference on Machine Vision (ICMV 2016), 1034126 (2017) https://doi.org/10.1117', 'score': 0.21430515}, {'title': '15-year-old who solved battery degradation prediction using ML', 'url': 'https://www.linkedin.com/posts/sreedath-panat_15-year-old-who-solved-battery-degradation-activity-7237717290178256896-2PsZ', 'content': \"Sreedath Panat's Post. View profile for Sreedath Panat. Sreedath Panat. MIT PhD | IITM | 100K+ LinkedIn | Co-founder Vizuara & Videsh | Making\", 'score': 0.20510544}]\u001b[0m\n",
            "Thought:\u001b[32;1m\u001b[1;3mThought: The search results do not provide the birthdate of Sreedath Panat. Since I was unable to find the birthdates of Dr. Raj Dandekar's co-founders, I cannot calculate their current age raised to the power of 1.\n",
            "\n",
            "Final Answer: The co-founders of Dr. Raj Dandekar are Rajat Dandekar and Sreedath Panat. Unfortunately, their current age raised to the power of 1 cannot be calculated as their birthdates are not available.\u001b[0m\n",
            "\n",
            "\u001b[1m> Finished chain.\u001b[0m\n"
          ]
        },
        {
          "output_type": "execute_result",
          "data": {
            "text/plain": [
              "'The co-founders of Dr. Raj Dandekar are Rajat Dandekar and Sreedath Panat. Unfortunately, their current age raised to the power of 1 cannot be calculated as their birthdates are not available.'"
            ],
            "application/vnd.google.colaboratory.intrinsic+json": {
              "type": "string"
            }
          },
          "metadata": {},
          "execution_count": 29
        }
      ]
    },
    {
      "cell_type": "markdown",
      "metadata": {
        "id": "03aab69a"
      },
      "source": [
        "Now you can try running the agent again with the Tavily search tool."
      ]
    },
    {
      "cell_type": "code",
      "source": [
        "# run the agent\n",
        "agent.run(\"Who is Sunkaraboina Praveen Kumar?\")"
      ],
      "metadata": {
        "colab": {
          "base_uri": "https://localhost:8080/",
          "height": 628
        },
        "id": "xQDl-3K4ZJfz",
        "outputId": "8d67d971-09a6-4449-d7a5-8c8d7f56eeac"
      },
      "execution_count": 30,
      "outputs": [
        {
          "output_type": "stream",
          "name": "stdout",
          "text": [
            "\n",
            "\n",
            "\u001b[1m> Entering new AgentExecutor chain...\u001b[0m\n",
            "\u001b[32;1m\u001b[1;3mTo find out who Sunkaraboina Praveen Kumar is, I first need to consider the available tools and determine which one is most suitable for this task. Given the tools provided, the tavily_search function appears to be the most appropriate for general queries, including searching for information about individuals.\n",
            "\n",
            "Action: tavily_search\n",
            "Action Input: 'Sunkaraboina Praveen Kumar'\u001b[0m\n",
            "Observation: \u001b[36;1m\u001b[1;3m[{'title': 'SunkaraboinaPraveenKumar - GitHub', 'url': 'https://github.com/SunkaraboinaPraveenKumar', 'content': '.eyJpc3MiOiJnaXRodWIuY29tIiwiYXVkIjoicmF3LmdpdGh1YnVzZXJjb250ZW50LmNvbSIsImtleSI6ImtleTUiLCJleHAiOjE3NTA5MTA3MjksIm5iZiI6MTc1MDkxMDQyOSwicGF0aCI6Ii8xNjAwOTI5MzAvNDU3NTY1NjkyLWRhYjBkOWVjLTIyNDQtNGQ4Ni1iMjk0LWIxNTI2ZWMwYWZhOS5wbmc_WC1BbXotQWxnb3JpdGhtPUFXUzQtSE1BQy1TSEEyNTYmWC1BbXotQ3JlZGVudGlhbD1BS0lBVkNPRFlMU0E1M1BRSzRaQSUyRjIwMjUwNjI2JTJGdXMtZWFzdC0xJTJGczMlMkZhd3M0X3JlcXVlc3QmWC1BbXotRGF0ZT0yMDI1MDYyNlQwNDAwMjlaJlgtQW16LUV4cGlyZXM9MzAwJlgtQW16LVNpZ25hdHVyZT1jYWE2YjQ0ZmRjODdlMGJmZTUxOTIyNjY5OTl [...] .eyJpc3MiOiJnaXRodWIuY29tIiwiYXVkIjoicmF3LmdpdGh1YnVzZXJjb250ZW50LmNvbSIsImtleSI6ImtleTUiLCJleHAiOjE3NTA5MTA3MjksIm5iZiI6MTc1MDkxMDQyOSwicGF0aCI6Ii8xNjAwOTI5MzAvNDU3NTY1NjkyLWRhYjBkOWVjLTIyNDQtNGQ4Ni1iMjk0LWIxNTI2ZWMwYWZhOS5wbmc_WC1BbXotQWxnb3JpdGhtPUFXUzQtSE1BQy1TSEEyNTYmWC1BbXotQ3JlZGVudGlhbD1BS0lBVkNPRFlMU0E1M1BRSzRaQSUyRjIwMjUwNjI2JTJGdXMtZWFzdC0xJTJGczMlMkZhd3M0X3JlcXVlc3QmWC1BbXotRGF0ZT0yMDI1MDYyNlQwNDAwMjlaJlgtQW16LUV4cGlyZXM9MzAwJlgtQW16LVNpZ25hdHVyZT1jYWE2YjQ0ZmRjODdlMGJmZTUxOTIyNjY5OTl [...] .eyJpc3MiOiJnaXRodWIuY29tIiwiYXVkIjoicmF3LmdpdGh1YnVzZXJjb250ZW50LmNvbSIsImtleSI6ImtleTUiLCJleHAiOjE3NTA5MTA3MjksIm5iZiI6MTc1MDkxMDQyOSwicGF0aCI6Ii8xNjAwOTI5MzAvNDU3NTY1NjkyLWRhYjBkOWVjLTIyNDQtNGQ4Ni1iMjk0LWIxNTI2ZWMwYWZhOS5wbmc_WC1BbXotQWxnb3JpdGhtPUFXUzQtSE1BQy1TSEEyNTYmWC1BbXotQ3JlZGVudGlhbD1BS0lBVkNPRFlMU0E1M1BRSzRaQSUyRjIwMjUwNjI2JTJGdXMtZWFzdC0xJTJGczMlMkZhd3M0X3JlcXVlc3QmWC1BbXotRGF0ZT0yMDI1MDYyNlQwNDAwMjlaJlgtQW16LUV4cGlyZXM9MzAwJlgtQW16LVNpZ25hdHVyZT1jYWE2YjQ0ZmRjODdlMGJmZTUxOTIyNjY5OTl', 'score': 0.7147281}, {'title': 'Sunkaraboina Praveen Kumar - Hyderabad, Telangana, India', 'url': 'https://in.linkedin.com/in/sunkaraboina-praveen-kumar-ba8968286', 'content': \"Education: Yogi Vemana University, Kadapa · Location: 500072. View Sunkaraboina Praveen Kumar's profile on LinkedIn, a professional community of 1 billion\", 'score': 0.5914643}, {'title': 'Sunkaraboina Praveen - Portfolio - hyperui.dev - LinkedIn', 'url': 'https://in.linkedin.com/in/sunkaraboina-praveen-84594a256', 'content': 'Sunkaraboina Praveen. Student at JNTUH College of Engineering Hyderabad #Web Developer # Machine Learner #Gen AI #Agentic AI Enthusiast and RAG Developer', 'score': 0.580091}, {'title': 'sunkaraboina Praveen Kumar (@sunkaraboinapraveen) • Instagram ...', 'url': 'https://www.instagram.com/sunkaraboinapraveen/reels/', 'content': 'Instagram. Log in. Open app. 5 posts. 68 followers. 326 following. sunkaraboinapraveen. sunkaraboina Praveen Kumar. Follow', 'score': 0.5515985}, {'title': 'sunkaraboina Praveen Kumar (@sunkaraboinapraveen) - Instagram', 'url': 'https://www.instagram.com/sunkaraboinapraveen/', 'content': '10 posts. 72 followers. 331 following. sunkaraboinapraveen. sunkaraboina Praveen Kumar. Follow. Sign up • Instagram.', 'score': 0.5504388}]\u001b[0m\n",
            "Thought:\u001b[32;1m\u001b[1;3mIt seems like the search results provide various links to Sunkaraboina Praveen Kumar's social media profiles and other online presence, but they don't give a clear answer to who he is or what he does. The LinkedIn profiles suggest that he is a student or a professional in the field of web development and machine learning, but more information is needed to give a definitive answer.\n",
            "\n",
            "Action: tavily_search\n",
            "Action Input: 'Sunkaraboina Praveen Kumar profession'\u001b[0m\n",
            "Observation: \u001b[36;1m\u001b[1;3m[{'title': 'Sunkaraboina Praveen - Portfolio - hyperui.dev - LinkedIn', 'url': 'https://in.linkedin.com/in/sunkaraboina-praveen-84594a256', 'content': '# Sunkaraboina Praveen\\n**Student at JNTUH College of Engineering Hyderabad #Web Developer # Machine Learner #Gen AI #Agentic AI Enthusiast and RAG Developer**  \\nHyderabad, India  \\n500 connections, 732 followers\\n\\n## About\\nLanguages: Java, Python(Flask, Streamlit), C, SQL, JavaScript, HTML/CSS, React Js, Next Js\\n\\nDeveloper Tools: Git, VS Code, PyCharm, Andriod Studio, Vercel, Microsoft Office, Google Colab [...] - Designed efficient data models and integrated dynamic content workflows to help the client manage internal documentation and production data with ease.\\n- Collaborated in an agile environment, participating in code reviews, daily stand-ups, and client feedback loops. [...] ### Machine Learning, Deep Learning, NLP Projects\\n[Machine Learning](None)  \\nN/A - Present  \\nN/A \\nDeployed Machine Learnig Projects.\\n\\n### Project Intern\\n[Argonix](None)  \\nMar 2025 - Apr 2025  \\nHyderabad, Telangana, India \\nFullstack Developer Intern:\\n\\nAs a Fullstack Developer Intern, I contributed to building a robust Content Management System (CMS) tailored for a manufacturing company. My role involved end-to-end development, ensuring scalable architecture and clean, maintainable code.', 'score': 0.69870013}, {'title': 'Praveen Kumar (cricketer) - Wikipedia', 'url': 'https://en.wikipedia.org/wiki/Praveen_Kumar_(cricketer)', 'content': '|  |  |\\n| --- | --- |\\n|  | |\\n| Personal information | |\\n| Full\\xa0name | Praveen Kumar |\\n| Born | (1983-10-02) 2 October 1983 (age\\xa041) [Meerut](/wiki/Meerut \"Meerut\"), [Uttar Pradesh](/wiki/Uttar_Pradesh \"Uttar Pradesh\"), India |\\n| Nickname | PK |\\n| Height | 1.80\\xa0m (5\\xa0ft 11\\xa0in) |\\n| Batting | Right-handed |\\n| Bowling | Right-arm medium-fast |\\n| Role | Bowler |\\n| International information | |\\n| National side | * [India](/wiki/India_national_cricket_team \"India national cricket team\") (2007–2012) | [...] **Praveenkumar Sakat Singh** ([pronunciation](//upload.wikimedia.org/wikipedia/commons/transcoded/b/bc/Praveen_Kumar.ogg/Praveen_Kumar.ogg.mp3 \"Play audio\")[ⓘ](/wiki/File:Praveen_Kumar.ogg \"File:Praveen Kumar.ogg\"), born 2 October 1983) is a former Indian cricketer who bowled right-arm [medium-pace](/wiki/Fast_bowling \"Fast bowling\").[[1]](#cite_note-espncricinfo.com-1) In [first-class cricket](/wiki/First-class_cricket \"First-class cricket\"), he played for [Uttar Pradesh cricket [...] In the [Indian Premier League](/wiki/Indian_Premier_League \"Indian Premier League\") he played for [Kings XI Punjab](/wiki/Kings_XI_Punjab \"Kings XI Punjab\") from 2011 to 2013. He was unsold in the 2014 [IPL](/wiki/Indian_Premier_League \"Indian Premier League\") auction owing to high base price.[[1]](#cite_note-espncricinfo.com-1)', 'score': 0.6364215}, {'title': 'Praveen Kumar On How A Senior Indian Player Maligned Him For ...', 'url': 'https://www.freepressjournal.in/sports/there-was-someone-who-spread-negativity-around-my-name-praveen-kumar-on-how-a-senior-indian-player-maligned-him-for-his-alcohol', 'content': \"After retiring from cricket, Praveen Kumar began to look for coaching role in domestic cricket and IPL. However, the candidature was turned down due to drinking habits.\\n\\nPraveen Kumar said that he was expecting an IPL franchise would sign him as a bowling coach after his retirement in 2018. He revealed that Uttar Pradesh didn't want him as a coach because of his alcoholism.\", 'score': 0.42605945}, {'title': 'Sunkaraboina Praveen Kumar - Hyderabad, Telangana, India', 'url': 'https://in.linkedin.com/in/sunkaraboina-praveen-kumar-ba8968286', 'content': '2021 - 2024. Yogi Vemana University, Kadapa Graphic · Yogi Vemana University, Kadapa. Bachelor of Commerce - BCom Computer Applications.', 'score': 0.42305335}, {'title': \"My First Assistant - Continue's hub\", 'url': 'https://hub.continue.dev/praveen-kumar-sunkaraboina/praveen-kumar-sunkaraboina-first-assistant', 'content': 'praveen-kumar-sunkaraboina/praveen-kumar-sunkaraboina-first-assistant. This is an example custom assistant that will help you complete the', 'score': 0.3992968}]\u001b[0m\n",
            "Thought:\u001b[32;1m\u001b[1;3mIt seems like the search results provide various links to Sunkaraboina Praveen Kumar's social media profiles and other online presence, but they don't give a clear answer to who he is or what he does. The LinkedIn profiles suggest that he is a student or a professional in the field of web development and machine learning. \n",
            "\n",
            "From the search results, we can gather that Sunkaraboina Praveen Kumar is likely a student or professional in the field of web development and machine learning, and has experience with various programming languages and tools. However, more information is needed to give a definitive answer.\n",
            "\n",
            "To get a clearer picture, I would need to refine the search query or look for more specific information about Sunkaraboina Praveen Kumar's profession or background.\n",
            "\n",
            "Action: tavily_search\n",
            "Action Input: 'Sunkaraboina Praveen Kumar bio'\u001b[0m\n",
            "Observation: \u001b[36;1m\u001b[1;3m[{'title': 'Praveen Kumar (cricketer) - Wikipedia', 'url': 'https://en.wikipedia.org/wiki/Praveen_Kumar_(cricketer)', 'content': '**Praveenkumar Sakat Singh** ([pronunciation](https://upload.wikimedia.org/wikipedia/commons/transcoded/b/bc/Praveen_Kumar.ogg/Praveen_Kumar.ogg.mp3 \"Play audio\")[ⓘ](https://en.wikipedia.org/wiki/File:Praveen_Kumar.ogg \"File:Praveen Kumar.ogg\"), born 2 October 1983) is a former Indian cricketer who bowled right-arm [medium-pace](https://en.wikipedia.org/wiki/Fast_bowling \"Fast bowling\").[[1]](https://en.wikipedia.org/wiki/Praveen_Kumar_(cricketer)#cite_note-espncricinfo.com-1) In [first-class [...] Praveenkumar Sakat Singh was born in [Meerut](https://en.wikipedia.org/wiki/Meerut \"Meerut\") on 2 October 1983,[[1]](https://en.wikipedia.org/wiki/Praveen_Kumar_(cricketer)#cite_note-espncricinfo.com-1) to police head constable Sakat Singh.[[3]](https://en.wikipedia.org/wiki/Praveen_Kumar_(cricketer)#cite_note-3)[[4]](https://en.wikipedia.org/wiki/Praveen_Kumar_(cricketer)#cite_note-thecricketmonthly.com-4) He married Sapna Choudhary in 2010, a national-level [shooting [...] [![Image 4](https://upload.wikimedia.org/wikipedia/commons/thumb/2/21/Praveen_Kumar.jpg/250px-Praveen_Kumar.jpg)](https://en.wikipedia.org/wiki/File:Praveen_Kumar.jpg)\\nPersonal information\\nFull name Praveen Kumar\\nBorn(1983-10-02) 2 October 1983 (age 41)', 'score': 0.6565047}, {'title': 'Sunkaraboina Praveen - Portfolio - hyperui.dev - LinkedIn', 'url': 'https://in.linkedin.com/in/sunkaraboina-praveen-84594a256', 'content': '# Sunkaraboina Praveen\\n**Student at JNTUH College of Engineering Hyderabad #Web Developer # Machine Learner #Gen AI #Agentic AI Enthusiast and RAG Developer**  \\nHyderabad, India  \\n500 connections, 732 followers\\n\\n## About\\nLanguages: Java, Python(Flask, Streamlit), C, SQL, JavaScript, HTML/CSS, React Js, Next Js\\n\\nDeveloper Tools: Git, VS Code, PyCharm, Andriod Studio, Vercel, Microsoft Office, Google Colab [...] - Designed efficient data models and integrated dynamic content workflows to help the client manage internal documentation and production data with ease.\\n- Collaborated in an agile environment, participating in code reviews, daily stand-ups, and client feedback loops.', 'score': 0.64585793}, {'title': 'Sunkaraboina Praveen Kumar - Hyderabad, Telangana, India', 'url': 'https://in.linkedin.com/in/sunkaraboina-praveen-kumar-ba8968286', 'content': '# Sunkaraboina Praveen Kumar \\n**--**  \\nHyderabad, India  \\nN/A connections, N/A followers\\n\\n## About\\nN/A\\n\\n## Experience\\n\\n\\n## Education\\n### Yogi Vemana University, Kadapa  \\n Bachelor of Commerce, Accounting  \\n Jan 2021 - Jan 2024  \\n N/A  \\n N/A\\n\\n### Yogi Vemana University, Kadapa  \\n Bachelor of Commerce - BCom, Computer Applications   \\n Feb 2024 - Present  \\n N/A  \\n N/A\\n\\n## Skills\\nN/A\\n\\n## Certifications\\nN/A\\n\\n## Volunteer Work\\nN/A\\n\\n## Languages\\nN/A\\n\\n## Groups\\nN/A [...] * [Prakyath Kotla](https://www.linkedin.com/in/prakyath-kotla-6bb38a257) - Student at JNTUH College of Engineering Hyderabad | Pursuing CSE(AI & ML)\\n* [Venkata Pavan Teja Bathula](https://www.linkedin.com/in/venkata-pavan-teja-bathula-315170251) - Student at JNTUH | AIML [...] * [Pavan Nishith](https://www.linkedin.com/in/pavan-nishith-6657a8256) - Student at JNTUH College of Engineering Hyderabad | Ex-BD intern @Cube. | Ex-Operations Intern at AlgoWise Technologies | Founder and COO @AlgoWise Technologies | Co-Founder and Operations @AskAbroad.Co\\n* [Nikhil Chouti](https://www.linkedin.com/in/nikhilchouti) - Pre-Final year student at JNTUH UCESTH pursuing CSE & BBA-Data Analytics', 'score': 0.5602773}, {'title': 'Praveen Kumar: books, biography, latest update - Amazon.com', 'url': 'https://www.amazon.com/stores/author/B007H48806', 'content': 'Praveen Kumar, a bilingual poet, born in Mangaluru on June 29 of 1949 as the eldest son of Shree R.D.Suvarna and Smt. B.Sarojini, with his more than three', 'score': 0.5391051}]\u001b[0m\n",
            "Thought:\u001b[32;1m\u001b[1;3mIt seems like the search results provide various links to Sunkaraboina Praveen Kumar's social media profiles and other online presence, but they don't give a clear answer to who he is or what he does. However, based on the LinkedIn profiles and other search results, it appears that Sunkaraboina Praveen Kumar is a student or professional in the field of web development and machine learning, with experience in various programming languages and tools.\n",
            "\n",
            "The search results also mention a different person named Praveen Kumar, who is a former Indian cricketer. However, based on the context and the information provided, it seems that Sunkaraboina Praveen Kumar is a different individual.\n",
            "\n",
            "To provide a more definitive answer, I would need more specific information about Sunkaraboina Praveen Kumar's profession or background. However, based on the available search results, it appears that he is a student or professional in the field of web development and machine learning.\n",
            "\n",
            "Final Answer: Sunkaraboina Praveen Kumar is a student or professional in the field of web development and machine learning, with experience in various programming languages and tools.\u001b[0m\n",
            "\n",
            "\u001b[1m> Finished chain.\u001b[0m\n"
          ]
        },
        {
          "output_type": "execute_result",
          "data": {
            "text/plain": [
              "'Sunkaraboina Praveen Kumar is a student or professional in the field of web development and machine learning, with experience in various programming languages and tools.'"
            ],
            "application/vnd.google.colaboratory.intrinsic+json": {
              "type": "string"
            }
          },
          "metadata": {},
          "execution_count": 30
        }
      ]
    },
    {
      "cell_type": "code",
      "source": [],
      "metadata": {
        "id": "Z7nSMg9TZNnv"
      },
      "execution_count": null,
      "outputs": []
    }
  ]
}