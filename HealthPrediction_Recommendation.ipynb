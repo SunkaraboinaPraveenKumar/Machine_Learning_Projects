{
  "nbformat": 4,
  "nbformat_minor": 0,
  "metadata": {
    "colab": {
      "provenance": [],
      "authorship_tag": "ABX9TyMuYUBYug5VqlFX/pXZwgX5",
      "include_colab_link": true
    },
    "kernelspec": {
      "name": "python3",
      "display_name": "Python 3"
    },
    "language_info": {
      "name": "python"
    }
  },
  "cells": [
    {
      "cell_type": "markdown",
      "metadata": {
        "id": "view-in-github",
        "colab_type": "text"
      },
      "source": [
        "<a href=\"https://colab.research.google.com/github/SunkaraboinaPraveenKumar/Machine_Learning_Projects/blob/main/HealthPrediction_Recommendation.ipynb\" target=\"_parent\"><img src=\"https://colab.research.google.com/assets/colab-badge.svg\" alt=\"Open In Colab\"/></a>"
      ]
    },
    {
      "cell_type": "code",
      "execution_count": 1,
      "metadata": {
        "id": "gDb4vrP2Y4bQ"
      },
      "outputs": [],
      "source": [
        "import pandas as pd\n",
        "df=pd.read_csv(\"/content/health_train.csv\")"
      ]
    },
    {
      "cell_type": "code",
      "source": [
        "df.head()"
      ],
      "metadata": {
        "colab": {
          "base_uri": "https://localhost:8080/",
          "height": 342
        },
        "id": "S3fjrtFqZqjY",
        "outputId": "87c7194c-eafc-4646-814e-9ca99fafc2db"
      },
      "execution_count": 2,
      "outputs": [
        {
          "output_type": "execute_result",
          "data": {
            "text/plain": [
              "   itching  skin_rash  nodal_skin_eruptions  continuous_sneezing  shivering  \\\n",
              "0        1          1                     1                    0          0   \n",
              "1        0          1                     1                    0          0   \n",
              "2        1          0                     1                    0          0   \n",
              "3        1          1                     0                    0          0   \n",
              "4        1          1                     1                    0          0   \n",
              "\n",
              "   chills  joint_pain  stomach_pain  acidity  ulcers_on_tongue  ...  \\\n",
              "0       0           0             0        0                 0  ...   \n",
              "1       0           0             0        0                 0  ...   \n",
              "2       0           0             0        0                 0  ...   \n",
              "3       0           0             0        0                 0  ...   \n",
              "4       0           0             0        0                 0  ...   \n",
              "\n",
              "   blackheads  scurring  skin_peeling  silver_like_dusting  \\\n",
              "0           0         0             0                    0   \n",
              "1           0         0             0                    0   \n",
              "2           0         0             0                    0   \n",
              "3           0         0             0                    0   \n",
              "4           0         0             0                    0   \n",
              "\n",
              "   small_dents_in_nails  inflammatory_nails  blister  red_sore_around_nose  \\\n",
              "0                     0                   0        0                     0   \n",
              "1                     0                   0        0                     0   \n",
              "2                     0                   0        0                     0   \n",
              "3                     0                   0        0                     0   \n",
              "4                     0                   0        0                     0   \n",
              "\n",
              "   yellow_crust_ooze         prognosis  \n",
              "0                  0  Fungal infection  \n",
              "1                  0  Fungal infection  \n",
              "2                  0  Fungal infection  \n",
              "3                  0  Fungal infection  \n",
              "4                  0  Fungal infection  \n",
              "\n",
              "[5 rows x 133 columns]"
            ],
            "text/html": [
              "\n",
              "  <div id=\"df-781451c7-8768-4a48-bd43-71376a38d058\" class=\"colab-df-container\">\n",
              "    <div>\n",
              "<style scoped>\n",
              "    .dataframe tbody tr th:only-of-type {\n",
              "        vertical-align: middle;\n",
              "    }\n",
              "\n",
              "    .dataframe tbody tr th {\n",
              "        vertical-align: top;\n",
              "    }\n",
              "\n",
              "    .dataframe thead th {\n",
              "        text-align: right;\n",
              "    }\n",
              "</style>\n",
              "<table border=\"1\" class=\"dataframe\">\n",
              "  <thead>\n",
              "    <tr style=\"text-align: right;\">\n",
              "      <th></th>\n",
              "      <th>itching</th>\n",
              "      <th>skin_rash</th>\n",
              "      <th>nodal_skin_eruptions</th>\n",
              "      <th>continuous_sneezing</th>\n",
              "      <th>shivering</th>\n",
              "      <th>chills</th>\n",
              "      <th>joint_pain</th>\n",
              "      <th>stomach_pain</th>\n",
              "      <th>acidity</th>\n",
              "      <th>ulcers_on_tongue</th>\n",
              "      <th>...</th>\n",
              "      <th>blackheads</th>\n",
              "      <th>scurring</th>\n",
              "      <th>skin_peeling</th>\n",
              "      <th>silver_like_dusting</th>\n",
              "      <th>small_dents_in_nails</th>\n",
              "      <th>inflammatory_nails</th>\n",
              "      <th>blister</th>\n",
              "      <th>red_sore_around_nose</th>\n",
              "      <th>yellow_crust_ooze</th>\n",
              "      <th>prognosis</th>\n",
              "    </tr>\n",
              "  </thead>\n",
              "  <tbody>\n",
              "    <tr>\n",
              "      <th>0</th>\n",
              "      <td>1</td>\n",
              "      <td>1</td>\n",
              "      <td>1</td>\n",
              "      <td>0</td>\n",
              "      <td>0</td>\n",
              "      <td>0</td>\n",
              "      <td>0</td>\n",
              "      <td>0</td>\n",
              "      <td>0</td>\n",
              "      <td>0</td>\n",
              "      <td>...</td>\n",
              "      <td>0</td>\n",
              "      <td>0</td>\n",
              "      <td>0</td>\n",
              "      <td>0</td>\n",
              "      <td>0</td>\n",
              "      <td>0</td>\n",
              "      <td>0</td>\n",
              "      <td>0</td>\n",
              "      <td>0</td>\n",
              "      <td>Fungal infection</td>\n",
              "    </tr>\n",
              "    <tr>\n",
              "      <th>1</th>\n",
              "      <td>0</td>\n",
              "      <td>1</td>\n",
              "      <td>1</td>\n",
              "      <td>0</td>\n",
              "      <td>0</td>\n",
              "      <td>0</td>\n",
              "      <td>0</td>\n",
              "      <td>0</td>\n",
              "      <td>0</td>\n",
              "      <td>0</td>\n",
              "      <td>...</td>\n",
              "      <td>0</td>\n",
              "      <td>0</td>\n",
              "      <td>0</td>\n",
              "      <td>0</td>\n",
              "      <td>0</td>\n",
              "      <td>0</td>\n",
              "      <td>0</td>\n",
              "      <td>0</td>\n",
              "      <td>0</td>\n",
              "      <td>Fungal infection</td>\n",
              "    </tr>\n",
              "    <tr>\n",
              "      <th>2</th>\n",
              "      <td>1</td>\n",
              "      <td>0</td>\n",
              "      <td>1</td>\n",
              "      <td>0</td>\n",
              "      <td>0</td>\n",
              "      <td>0</td>\n",
              "      <td>0</td>\n",
              "      <td>0</td>\n",
              "      <td>0</td>\n",
              "      <td>0</td>\n",
              "      <td>...</td>\n",
              "      <td>0</td>\n",
              "      <td>0</td>\n",
              "      <td>0</td>\n",
              "      <td>0</td>\n",
              "      <td>0</td>\n",
              "      <td>0</td>\n",
              "      <td>0</td>\n",
              "      <td>0</td>\n",
              "      <td>0</td>\n",
              "      <td>Fungal infection</td>\n",
              "    </tr>\n",
              "    <tr>\n",
              "      <th>3</th>\n",
              "      <td>1</td>\n",
              "      <td>1</td>\n",
              "      <td>0</td>\n",
              "      <td>0</td>\n",
              "      <td>0</td>\n",
              "      <td>0</td>\n",
              "      <td>0</td>\n",
              "      <td>0</td>\n",
              "      <td>0</td>\n",
              "      <td>0</td>\n",
              "      <td>...</td>\n",
              "      <td>0</td>\n",
              "      <td>0</td>\n",
              "      <td>0</td>\n",
              "      <td>0</td>\n",
              "      <td>0</td>\n",
              "      <td>0</td>\n",
              "      <td>0</td>\n",
              "      <td>0</td>\n",
              "      <td>0</td>\n",
              "      <td>Fungal infection</td>\n",
              "    </tr>\n",
              "    <tr>\n",
              "      <th>4</th>\n",
              "      <td>1</td>\n",
              "      <td>1</td>\n",
              "      <td>1</td>\n",
              "      <td>0</td>\n",
              "      <td>0</td>\n",
              "      <td>0</td>\n",
              "      <td>0</td>\n",
              "      <td>0</td>\n",
              "      <td>0</td>\n",
              "      <td>0</td>\n",
              "      <td>...</td>\n",
              "      <td>0</td>\n",
              "      <td>0</td>\n",
              "      <td>0</td>\n",
              "      <td>0</td>\n",
              "      <td>0</td>\n",
              "      <td>0</td>\n",
              "      <td>0</td>\n",
              "      <td>0</td>\n",
              "      <td>0</td>\n",
              "      <td>Fungal infection</td>\n",
              "    </tr>\n",
              "  </tbody>\n",
              "</table>\n",
              "<p>5 rows × 133 columns</p>\n",
              "</div>\n",
              "    <div class=\"colab-df-buttons\">\n",
              "\n",
              "  <div class=\"colab-df-container\">\n",
              "    <button class=\"colab-df-convert\" onclick=\"convertToInteractive('df-781451c7-8768-4a48-bd43-71376a38d058')\"\n",
              "            title=\"Convert this dataframe to an interactive table.\"\n",
              "            style=\"display:none;\">\n",
              "\n",
              "  <svg xmlns=\"http://www.w3.org/2000/svg\" height=\"24px\" viewBox=\"0 -960 960 960\">\n",
              "    <path d=\"M120-120v-720h720v720H120Zm60-500h600v-160H180v160Zm220 220h160v-160H400v160Zm0 220h160v-160H400v160ZM180-400h160v-160H180v160Zm440 0h160v-160H620v160ZM180-180h160v-160H180v160Zm440 0h160v-160H620v160Z\"/>\n",
              "  </svg>\n",
              "    </button>\n",
              "\n",
              "  <style>\n",
              "    .colab-df-container {\n",
              "      display:flex;\n",
              "      gap: 12px;\n",
              "    }\n",
              "\n",
              "    .colab-df-convert {\n",
              "      background-color: #E8F0FE;\n",
              "      border: none;\n",
              "      border-radius: 50%;\n",
              "      cursor: pointer;\n",
              "      display: none;\n",
              "      fill: #1967D2;\n",
              "      height: 32px;\n",
              "      padding: 0 0 0 0;\n",
              "      width: 32px;\n",
              "    }\n",
              "\n",
              "    .colab-df-convert:hover {\n",
              "      background-color: #E2EBFA;\n",
              "      box-shadow: 0px 1px 2px rgba(60, 64, 67, 0.3), 0px 1px 3px 1px rgba(60, 64, 67, 0.15);\n",
              "      fill: #174EA6;\n",
              "    }\n",
              "\n",
              "    .colab-df-buttons div {\n",
              "      margin-bottom: 4px;\n",
              "    }\n",
              "\n",
              "    [theme=dark] .colab-df-convert {\n",
              "      background-color: #3B4455;\n",
              "      fill: #D2E3FC;\n",
              "    }\n",
              "\n",
              "    [theme=dark] .colab-df-convert:hover {\n",
              "      background-color: #434B5C;\n",
              "      box-shadow: 0px 1px 3px 1px rgba(0, 0, 0, 0.15);\n",
              "      filter: drop-shadow(0px 1px 2px rgba(0, 0, 0, 0.3));\n",
              "      fill: #FFFFFF;\n",
              "    }\n",
              "  </style>\n",
              "\n",
              "    <script>\n",
              "      const buttonEl =\n",
              "        document.querySelector('#df-781451c7-8768-4a48-bd43-71376a38d058 button.colab-df-convert');\n",
              "      buttonEl.style.display =\n",
              "        google.colab.kernel.accessAllowed ? 'block' : 'none';\n",
              "\n",
              "      async function convertToInteractive(key) {\n",
              "        const element = document.querySelector('#df-781451c7-8768-4a48-bd43-71376a38d058');\n",
              "        const dataTable =\n",
              "          await google.colab.kernel.invokeFunction('convertToInteractive',\n",
              "                                                    [key], {});\n",
              "        if (!dataTable) return;\n",
              "\n",
              "        const docLinkHtml = 'Like what you see? Visit the ' +\n",
              "          '<a target=\"_blank\" href=https://colab.research.google.com/notebooks/data_table.ipynb>data table notebook</a>'\n",
              "          + ' to learn more about interactive tables.';\n",
              "        element.innerHTML = '';\n",
              "        dataTable['output_type'] = 'display_data';\n",
              "        await google.colab.output.renderOutput(dataTable, element);\n",
              "        const docLink = document.createElement('div');\n",
              "        docLink.innerHTML = docLinkHtml;\n",
              "        element.appendChild(docLink);\n",
              "      }\n",
              "    </script>\n",
              "  </div>\n",
              "\n",
              "\n",
              "<div id=\"df-4c9ce3d6-b240-442f-a090-82b068101223\">\n",
              "  <button class=\"colab-df-quickchart\" onclick=\"quickchart('df-4c9ce3d6-b240-442f-a090-82b068101223')\"\n",
              "            title=\"Suggest charts\"\n",
              "            style=\"display:none;\">\n",
              "\n",
              "<svg xmlns=\"http://www.w3.org/2000/svg\" height=\"24px\"viewBox=\"0 0 24 24\"\n",
              "     width=\"24px\">\n",
              "    <g>\n",
              "        <path d=\"M19 3H5c-1.1 0-2 .9-2 2v14c0 1.1.9 2 2 2h14c1.1 0 2-.9 2-2V5c0-1.1-.9-2-2-2zM9 17H7v-7h2v7zm4 0h-2V7h2v10zm4 0h-2v-4h2v4z\"/>\n",
              "    </g>\n",
              "</svg>\n",
              "  </button>\n",
              "\n",
              "<style>\n",
              "  .colab-df-quickchart {\n",
              "      --bg-color: #E8F0FE;\n",
              "      --fill-color: #1967D2;\n",
              "      --hover-bg-color: #E2EBFA;\n",
              "      --hover-fill-color: #174EA6;\n",
              "      --disabled-fill-color: #AAA;\n",
              "      --disabled-bg-color: #DDD;\n",
              "  }\n",
              "\n",
              "  [theme=dark] .colab-df-quickchart {\n",
              "      --bg-color: #3B4455;\n",
              "      --fill-color: #D2E3FC;\n",
              "      --hover-bg-color: #434B5C;\n",
              "      --hover-fill-color: #FFFFFF;\n",
              "      --disabled-bg-color: #3B4455;\n",
              "      --disabled-fill-color: #666;\n",
              "  }\n",
              "\n",
              "  .colab-df-quickchart {\n",
              "    background-color: var(--bg-color);\n",
              "    border: none;\n",
              "    border-radius: 50%;\n",
              "    cursor: pointer;\n",
              "    display: none;\n",
              "    fill: var(--fill-color);\n",
              "    height: 32px;\n",
              "    padding: 0;\n",
              "    width: 32px;\n",
              "  }\n",
              "\n",
              "  .colab-df-quickchart:hover {\n",
              "    background-color: var(--hover-bg-color);\n",
              "    box-shadow: 0 1px 2px rgba(60, 64, 67, 0.3), 0 1px 3px 1px rgba(60, 64, 67, 0.15);\n",
              "    fill: var(--button-hover-fill-color);\n",
              "  }\n",
              "\n",
              "  .colab-df-quickchart-complete:disabled,\n",
              "  .colab-df-quickchart-complete:disabled:hover {\n",
              "    background-color: var(--disabled-bg-color);\n",
              "    fill: var(--disabled-fill-color);\n",
              "    box-shadow: none;\n",
              "  }\n",
              "\n",
              "  .colab-df-spinner {\n",
              "    border: 2px solid var(--fill-color);\n",
              "    border-color: transparent;\n",
              "    border-bottom-color: var(--fill-color);\n",
              "    animation:\n",
              "      spin 1s steps(1) infinite;\n",
              "  }\n",
              "\n",
              "  @keyframes spin {\n",
              "    0% {\n",
              "      border-color: transparent;\n",
              "      border-bottom-color: var(--fill-color);\n",
              "      border-left-color: var(--fill-color);\n",
              "    }\n",
              "    20% {\n",
              "      border-color: transparent;\n",
              "      border-left-color: var(--fill-color);\n",
              "      border-top-color: var(--fill-color);\n",
              "    }\n",
              "    30% {\n",
              "      border-color: transparent;\n",
              "      border-left-color: var(--fill-color);\n",
              "      border-top-color: var(--fill-color);\n",
              "      border-right-color: var(--fill-color);\n",
              "    }\n",
              "    40% {\n",
              "      border-color: transparent;\n",
              "      border-right-color: var(--fill-color);\n",
              "      border-top-color: var(--fill-color);\n",
              "    }\n",
              "    60% {\n",
              "      border-color: transparent;\n",
              "      border-right-color: var(--fill-color);\n",
              "    }\n",
              "    80% {\n",
              "      border-color: transparent;\n",
              "      border-right-color: var(--fill-color);\n",
              "      border-bottom-color: var(--fill-color);\n",
              "    }\n",
              "    90% {\n",
              "      border-color: transparent;\n",
              "      border-bottom-color: var(--fill-color);\n",
              "    }\n",
              "  }\n",
              "</style>\n",
              "\n",
              "  <script>\n",
              "    async function quickchart(key) {\n",
              "      const quickchartButtonEl =\n",
              "        document.querySelector('#' + key + ' button');\n",
              "      quickchartButtonEl.disabled = true;  // To prevent multiple clicks.\n",
              "      quickchartButtonEl.classList.add('colab-df-spinner');\n",
              "      try {\n",
              "        const charts = await google.colab.kernel.invokeFunction(\n",
              "            'suggestCharts', [key], {});\n",
              "      } catch (error) {\n",
              "        console.error('Error during call to suggestCharts:', error);\n",
              "      }\n",
              "      quickchartButtonEl.classList.remove('colab-df-spinner');\n",
              "      quickchartButtonEl.classList.add('colab-df-quickchart-complete');\n",
              "    }\n",
              "    (() => {\n",
              "      let quickchartButtonEl =\n",
              "        document.querySelector('#df-4c9ce3d6-b240-442f-a090-82b068101223 button');\n",
              "      quickchartButtonEl.style.display =\n",
              "        google.colab.kernel.accessAllowed ? 'block' : 'none';\n",
              "    })();\n",
              "  </script>\n",
              "</div>\n",
              "\n",
              "    </div>\n",
              "  </div>\n"
            ],
            "application/vnd.google.colaboratory.intrinsic+json": {
              "type": "dataframe",
              "variable_name": "df"
            }
          },
          "metadata": {},
          "execution_count": 2
        }
      ]
    },
    {
      "cell_type": "code",
      "source": [
        "df.shape"
      ],
      "metadata": {
        "colab": {
          "base_uri": "https://localhost:8080/"
        },
        "id": "OJvu_MyCZxj6",
        "outputId": "060fa1fc-db57-4437-ba2c-df58c3a6ea91"
      },
      "execution_count": 3,
      "outputs": [
        {
          "output_type": "execute_result",
          "data": {
            "text/plain": [
              "(4920, 133)"
            ]
          },
          "metadata": {},
          "execution_count": 3
        }
      ]
    },
    {
      "cell_type": "code",
      "source": [
        "df['prognosis'].unique()"
      ],
      "metadata": {
        "colab": {
          "base_uri": "https://localhost:8080/"
        },
        "id": "nnyqbUkiZrGq",
        "outputId": "ea32e0e5-b1da-48dd-b31f-d791d0670f65"
      },
      "execution_count": 4,
      "outputs": [
        {
          "output_type": "execute_result",
          "data": {
            "text/plain": [
              "array(['Fungal infection', 'Allergy', 'GERD', 'Chronic cholestasis',\n",
              "       'Drug Reaction', 'Peptic ulcer diseae', 'AIDS', 'Diabetes ',\n",
              "       'Gastroenteritis', 'Bronchial Asthma', 'Hypertension ', 'Migraine',\n",
              "       'Cervical spondylosis', 'Paralysis (brain hemorrhage)', 'Jaundice',\n",
              "       'Malaria', 'Chicken pox', 'Dengue', 'Typhoid', 'hepatitis A',\n",
              "       'Hepatitis B', 'Hepatitis C', 'Hepatitis D', 'Hepatitis E',\n",
              "       'Alcoholic hepatitis', 'Tuberculosis', 'Common Cold', 'Pneumonia',\n",
              "       'Dimorphic hemmorhoids(piles)', 'Heart attack', 'Varicose veins',\n",
              "       'Hypothyroidism', 'Hyperthyroidism', 'Hypoglycemia',\n",
              "       'Osteoarthristis', 'Arthritis',\n",
              "       '(vertigo) Paroymsal  Positional Vertigo', 'Acne',\n",
              "       'Urinary tract infection', 'Psoriasis', 'Impetigo'], dtype=object)"
            ]
          },
          "metadata": {},
          "execution_count": 4
        }
      ]
    },
    {
      "cell_type": "code",
      "source": [
        "len(df['prognosis'].unique())"
      ],
      "metadata": {
        "colab": {
          "base_uri": "https://localhost:8080/"
        },
        "id": "JD55doXuZ244",
        "outputId": "49eadd03-138f-4438-b579-975e48bdd3eb"
      },
      "execution_count": 5,
      "outputs": [
        {
          "output_type": "execute_result",
          "data": {
            "text/plain": [
              "41"
            ]
          },
          "metadata": {},
          "execution_count": 5
        }
      ]
    },
    {
      "cell_type": "code",
      "source": [
        "from sklearn.model_selection import train_test_split\n",
        "from sklearn.preprocessing import LabelEncoder"
      ],
      "metadata": {
        "id": "FQGxNAM8Z4r6"
      },
      "execution_count": 6,
      "outputs": []
    },
    {
      "cell_type": "code",
      "source": [
        "X=df.drop('prognosis',axis=1)\n",
        "Y=df['prognosis']"
      ],
      "metadata": {
        "id": "gRC4hWtsaLhx"
      },
      "execution_count": 7,
      "outputs": []
    },
    {
      "cell_type": "code",
      "source": [
        "le=LabelEncoder()\n",
        "le.fit(Y)\n",
        "Y=le.transform(Y)"
      ],
      "metadata": {
        "id": "pfrPWe5EaraN"
      },
      "execution_count": 12,
      "outputs": []
    },
    {
      "cell_type": "code",
      "source": [
        "X_train,X_test,Y_train,Y_test=train_test_split(X,Y,test_size=0.3,random_state=20)"
      ],
      "metadata": {
        "id": "O0Z_v0XPaRYh"
      },
      "execution_count": 13,
      "outputs": []
    },
    {
      "cell_type": "code",
      "source": [
        "X_train.shape,X_test.shape,Y_train.shape,Y_test.shape"
      ],
      "metadata": {
        "colab": {
          "base_uri": "https://localhost:8080/"
        },
        "id": "G30Roeb2aYju",
        "outputId": "2cc0805f-363a-4eb0-bca4-7f9bbe1a8957"
      },
      "execution_count": 14,
      "outputs": [
        {
          "output_type": "execute_result",
          "data": {
            "text/plain": [
              "((3444, 132), (1476, 132), (3444,), (1476,))"
            ]
          },
          "metadata": {},
          "execution_count": 14
        }
      ]
    },
    {
      "cell_type": "code",
      "source": [
        "Y_train"
      ],
      "metadata": {
        "colab": {
          "base_uri": "https://localhost:8080/"
        },
        "id": "3iFgXMrOalCB",
        "outputId": "c56c58ea-1efd-4091-c1ef-ef9504e73c86"
      },
      "execution_count": 15,
      "outputs": [
        {
          "output_type": "execute_result",
          "data": {
            "text/plain": [
              "array([37, 34, 29, ..., 40, 20, 20])"
            ]
          },
          "metadata": {},
          "execution_count": 15
        }
      ]
    },
    {
      "cell_type": "code",
      "source": [
        "#training top models\n",
        "from sklearn.datasets import make_classification\n",
        "from sklearn.svm import SVC\n",
        "from sklearn.ensemble import RandomForestClassifier,GradientBoostingClassifier\n",
        "from sklearn.neighbors import KNeighborsClassifier\n",
        "from sklearn.naive_bayes import MultinomialNB\n",
        "\n",
        "from sklearn.metrics import accuracy_score,confusion_matrix\n",
        "import numpy as np"
      ],
      "metadata": {
        "id": "aHrLMo6zbQFZ"
      },
      "execution_count": 18,
      "outputs": []
    },
    {
      "cell_type": "code",
      "source": [
        "#create a dictionary\n",
        "models={\n",
        "    'SVC':SVC(kernel=\"linear\"),\n",
        "    'RandomForestClassifier':RandomForestClassifier(n_estimators=100,random_state=42),\n",
        "    'GradientBoostingClassifier':GradientBoostingClassifier(n_estimators=100,random_state=42),\n",
        "    'KNeighborsClassifier':KNeighborsClassifier(n_neighbors=5),\n",
        "    'MultinomialNB':MultinomialNB()\n",
        "\n",
        "}\n",
        "\n",
        "for model_name,model in models.items():\n",
        "  model.fit(X_train,Y_train)\n",
        "  Y_pred=model.predict(X_test)\n",
        "  accuracy=accuracy_score(Y_test,Y_pred)\n",
        "  cm=confusion_matrix(Y_test,Y_pred)\n",
        "  print(f\"{model_name} accuracy : {accuracy}\")\n",
        "  print(f\"{model_name} Confusion_Matrix :\")\n",
        "  print(np.array2string(cm,separator=\",\"))\n",
        "  print(\"\\n\")\n",
        "  print(\"*\"*50)\n",
        "  print(\"\\n\")"
      ],
      "metadata": {
        "colab": {
          "base_uri": "https://localhost:8080/"
        },
        "id": "CGdqCLBVbuU0",
        "outputId": "0b1243c5-dcd6-49a7-9d6f-e873bb676d3b"
      },
      "execution_count": 19,
      "outputs": [
        {
          "output_type": "stream",
          "name": "stdout",
          "text": [
            "SVC accuracy : 1.0\n",
            "SVC Confusion_Matrix :\n",
            "[[40, 0, 0,..., 0, 0, 0],\n",
            " [ 0,43, 0,..., 0, 0, 0],\n",
            " [ 0, 0,28,..., 0, 0, 0],\n",
            " ...,\n",
            " [ 0, 0, 0,...,34, 0, 0],\n",
            " [ 0, 0, 0,..., 0,41, 0],\n",
            " [ 0, 0, 0,..., 0, 0,31]]\n",
            "**************************************************\n",
            "RandomForestClassifier accuracy : 1.0\n",
            "RandomForestClassifier Confusion_Matrix :\n",
            "[[40, 0, 0,..., 0, 0, 0],\n",
            " [ 0,43, 0,..., 0, 0, 0],\n",
            " [ 0, 0,28,..., 0, 0, 0],\n",
            " ...,\n",
            " [ 0, 0, 0,...,34, 0, 0],\n",
            " [ 0, 0, 0,..., 0,41, 0],\n",
            " [ 0, 0, 0,..., 0, 0,31]]\n",
            "**************************************************\n",
            "GradientBoostingClassifier accuracy : 1.0\n",
            "GradientBoostingClassifier Confusion_Matrix :\n",
            "[[40, 0, 0,..., 0, 0, 0],\n",
            " [ 0,43, 0,..., 0, 0, 0],\n",
            " [ 0, 0,28,..., 0, 0, 0],\n",
            " ...,\n",
            " [ 0, 0, 0,...,34, 0, 0],\n",
            " [ 0, 0, 0,..., 0,41, 0],\n",
            " [ 0, 0, 0,..., 0, 0,31]]\n",
            "**************************************************\n",
            "KNeighborsClassifier accuracy : 1.0\n",
            "KNeighborsClassifier Confusion_Matrix :\n",
            "[[40, 0, 0,..., 0, 0, 0],\n",
            " [ 0,43, 0,..., 0, 0, 0],\n",
            " [ 0, 0,28,..., 0, 0, 0],\n",
            " ...,\n",
            " [ 0, 0, 0,...,34, 0, 0],\n",
            " [ 0, 0, 0,..., 0,41, 0],\n",
            " [ 0, 0, 0,..., 0, 0,31]]\n",
            "**************************************************\n",
            "MultinomialNB accuracy : 1.0\n",
            "MultinomialNB Confusion_Matrix :\n",
            "[[40, 0, 0,..., 0, 0, 0],\n",
            " [ 0,43, 0,..., 0, 0, 0],\n",
            " [ 0, 0,28,..., 0, 0, 0],\n",
            " ...,\n",
            " [ 0, 0, 0,...,34, 0, 0],\n",
            " [ 0, 0, 0,..., 0,41, 0],\n",
            " [ 0, 0, 0,..., 0, 0,31]]\n",
            "**************************************************\n"
          ]
        }
      ]
    },
    {
      "cell_type": "code",
      "source": [
        "svc = SVC(kernel=\"linear\")\n",
        "svc.fit(X_train,Y_train)\n",
        "Y_pred=svc.predict(X_test)\n",
        "accuracy_score=(Y_test,Y_pred)"
      ],
      "metadata": {
        "id": "UPt1wVHidip0"
      },
      "execution_count": 20,
      "outputs": []
    },
    {
      "cell_type": "code",
      "source": [
        "import pickle\n",
        "pickle.dump(svc,open(\"models/svc.pkl\",\"wb\"))"
      ],
      "metadata": {
        "id": "PMnbewEgd85l"
      },
      "execution_count": 22,
      "outputs": []
    },
    {
      "cell_type": "code",
      "source": [
        "# load model\n",
        "svc=pickle.load(open(\"models/svc.pkl\",'rb'))"
      ],
      "metadata": {
        "id": "eqMjrRfPeIFC"
      },
      "execution_count": 23,
      "outputs": []
    },
    {
      "cell_type": "code",
      "source": [
        "pred_single=X_test.iloc[0].values.reshape(1,-1)\n",
        "svc.predict(pred_single)\n",
        "Y_test[0]\n",
        "print(\"Predicted Label: \",svc.predict(pred_single))\n",
        "print(\"Actual Label: \",Y_test[0])"
      ],
      "metadata": {
        "colab": {
          "base_uri": "https://localhost:8080/"
        },
        "id": "jlCS5e15eUFZ",
        "outputId": "55b11ffe-9c2e-4daf-abeb-a5ebec412b67"
      },
      "execution_count": 30,
      "outputs": [
        {
          "output_type": "stream",
          "name": "stdout",
          "text": [
            "Predicted Label:  [40]\n",
            "Actual Label:  40\n"
          ]
        },
        {
          "output_type": "stream",
          "name": "stderr",
          "text": [
            "/usr/local/lib/python3.10/dist-packages/sklearn/base.py:465: UserWarning: X does not have valid feature names, but SVC was fitted with feature names\n",
            "  warnings.warn(\n",
            "/usr/local/lib/python3.10/dist-packages/sklearn/base.py:465: UserWarning: X does not have valid feature names, but SVC was fitted with feature names\n",
            "  warnings.warn(\n"
          ]
        }
      ]
    },
    {
      "cell_type": "code",
      "source": [
        "pred_single=X_test.iloc[10].values.reshape(1,-1)\n",
        "svc.predict(pred_single)\n",
        "Y_test[0]\n",
        "print(\"Predicted Label: \",svc.predict(pred_single))\n",
        "print(\"Actual Label: \",Y_test[10])"
      ],
      "metadata": {
        "colab": {
          "base_uri": "https://localhost:8080/"
        },
        "id": "s2mR1q2zeVOr",
        "outputId": "68135723-6465-4a77-9247-fce93a7b62b4"
      },
      "execution_count": 31,
      "outputs": [
        {
          "output_type": "stream",
          "name": "stdout",
          "text": [
            "Predicted Label:  [20]\n",
            "Actual Label:  20\n"
          ]
        },
        {
          "output_type": "stream",
          "name": "stderr",
          "text": [
            "/usr/local/lib/python3.10/dist-packages/sklearn/base.py:465: UserWarning: X does not have valid feature names, but SVC was fitted with feature names\n",
            "  warnings.warn(\n",
            "/usr/local/lib/python3.10/dist-packages/sklearn/base.py:465: UserWarning: X does not have valid feature names, but SVC was fitted with feature names\n",
            "  warnings.warn(\n"
          ]
        }
      ]
    },
    {
      "cell_type": "code",
      "source": [
        "sym_des=pd.read_csv(\"/content/datasets/symtoms_df.csv\")\n",
        "precautions=pd.read_csv(\"/content/datasets/precautions_df.csv\")\n",
        "workout=pd.read_csv(\"/content/datasets/workout_df.csv\")\n",
        "description=pd.read_csv(\"/content/datasets/description.csv\")\n",
        "medication=pd.read_csv(\"/content/datasets/medications.csv\")\n",
        "diets=pd.read_csv(\"/content/datasets/diets.csv\")"
      ],
      "metadata": {
        "id": "K0fgy_DEerk1"
      },
      "execution_count": 47,
      "outputs": []
    },
    {
      "cell_type": "code",
      "source": [
        "symptoms_dict = {'itching': 0, 'skin_rash': 1, 'nodal_skin_eruptions': 2, 'continuous_sneezing': 3, 'shivering': 4, 'chills': 5, 'joint_pain': 6, 'stomach_pain': 7, 'acidity': 8, 'ulcers_on_tongue': 9, 'muscle_wasting': 10, 'vomiting': 11, 'burning_micturition': 12, 'spotting_ urination': 13, 'fatigue': 14, 'weight_gain': 15, 'anxiety': 16, 'cold_hands_and_feets': 17, 'mood_swings': 18, 'weight_loss': 19, 'restlessness': 20, 'lethargy': 21, 'patches_in_throat': 22, 'irregular_sugar_level': 23, 'cough': 24, 'high_fever': 25, 'sunken_eyes': 26, 'breathlessness': 27, 'sweating': 28, 'dehydration': 29, 'indigestion': 30, 'headache': 31, 'yellowish_skin': 32, 'dark_urine': 33, 'nausea': 34, 'loss_of_appetite': 35, 'pain_behind_the_eyes': 36, 'back_pain': 37, 'constipation': 38, 'abdominal_pain': 39, 'diarrhoea': 40, 'mild_fever': 41, 'yellow_urine': 42, 'yellowing_of_eyes': 43, 'acute_liver_failure': 44, 'fluid_overload': 45, 'swelling_of_stomach': 46, 'swelled_lymph_nodes': 47, 'malaise': 48, 'blurred_and_distorted_vision': 49, 'phlegm': 50, 'throat_irritation': 51, 'redness_of_eyes': 52, 'sinus_pressure': 53, 'runny_nose': 54, 'congestion': 55, 'chest_pain': 56, 'weakness_in_limbs': 57, 'fast_heart_rate': 58, 'pain_during_bowel_movements': 59, 'pain_in_anal_region': 60, 'bloody_stool': 61, 'irritation_in_anus': 62, 'neck_pain': 63, 'dizziness': 64, 'cramps': 65, 'bruising': 66, 'obesity': 67, 'swollen_legs': 68, 'swollen_blood_vessels': 69, 'puffy_face_and_eyes': 70, 'enlarged_thyroid': 71, 'brittle_nails': 72, 'swollen_extremeties': 73, 'excessive_hunger': 74, 'extra_marital_contacts': 75, 'drying_and_tingling_lips': 76, 'slurred_speech': 77, 'knee_pain': 78, 'hip_joint_pain': 79, 'muscle_weakness': 80, 'stiff_neck': 81, 'swelling_joints': 82, 'movement_stiffness': 83, 'spinning_movements': 84, 'loss_of_balance': 85, 'unsteadiness': 86, 'weakness_of_one_body_side': 87, 'loss_of_smell': 88, 'bladder_discomfort': 89, 'foul_smell_of urine': 90, 'continuous_feel_of_urine': 91, 'passage_of_gases': 92, 'internal_itching': 93, 'toxic_look_(typhos)': 94, 'depression': 95, 'irritability': 96, 'muscle_pain': 97, 'altered_sensorium': 98, 'red_spots_over_body': 99, 'belly_pain': 100, 'abnormal_menstruation': 101, 'dischromic _patches': 102, 'watering_from_eyes': 103, 'increased_appetite': 104, 'polyuria': 105, 'family_history': 106, 'mucoid_sputum': 107, 'rusty_sputum': 108, 'lack_of_concentration': 109, 'visual_disturbances': 110, 'receiving_blood_transfusion': 111, 'receiving_unsterile_injections': 112, 'coma': 113, 'stomach_bleeding': 114, 'distention_of_abdomen': 115, 'history_of_alcohol_consumption': 116, 'fluid_overload.1': 117, 'blood_in_sputum': 118, 'prominent_veins_on_calf': 119, 'palpitations': 120, 'painful_walking': 121, 'pus_filled_pimples': 122, 'blackheads': 123, 'scurring': 124, 'skin_peeling': 125, 'silver_like_dusting': 126, 'small_dents_in_nails': 127, 'inflammatory_nails': 128, 'blister': 129, 'red_sore_around_nose': 130, 'yellow_crust_ooze': 131}\n",
        "diseases_list = {15: 'Fungal infection', 4: 'Allergy', 16: 'GERD', 9: 'Chronic cholestasis', 14: 'Drug Reaction', 33: 'Peptic ulcer diseae', 1: 'AIDS', 12: 'Diabetes ', 17: 'Gastroenteritis', 6: 'Bronchial Asthma', 23: 'Hypertension ', 30: 'Migraine', 7: 'Cervical spondylosis', 32: 'Paralysis (brain hemorrhage)', 28: 'Jaundice', 29: 'Malaria', 8: 'Chicken pox', 11: 'Dengue', 37: 'Typhoid', 40: 'hepatitis A', 19: 'Hepatitis B', 20: 'Hepatitis C', 21: 'Hepatitis D', 22: 'Hepatitis E', 3: 'Alcoholic hepatitis', 36: 'Tuberculosis', 10: 'Common Cold', 34: 'Pneumonia', 13: 'Dimorphic hemmorhoids(piles)', 18: 'Heart attack', 39: 'Varicose veins', 26: 'Hypothyroidism', 24: 'Hyperthyroidism', 25: 'Hypoglycemia', 31: 'Osteoarthristis', 5: 'Arthritis', 0: '(vertigo) Paroymsal  Positional Vertigo', 2: 'Acne', 38: 'Urinary tract infection', 35: 'Psoriasis', 27: 'Impetigo'}\n",
        "#model prediction function\n",
        "def get_predicted_value(patient_symptoms):\n",
        "\n",
        "    input_vector=np.zeros(len(symptoms_dict))\n",
        "\n",
        "    for item in patient_symptoms:\n",
        "      input_vector[symptoms_dict[item]]=1\n",
        "\n",
        "    return diseases_list[svc.predict([input_vector])[0]]"
      ],
      "metadata": {
        "id": "K2ZsW83teuSP"
      },
      "execution_count": 50,
      "outputs": []
    },
    {
      "cell_type": "code",
      "source": [
        "symptoms=input(\"Enter Symptoms: \")\n",
        "user_symptoms=[s.strip() for s in symptoms.split(',')]\n",
        "user_symptoms=[sym.strip(\"[]' \") for sym in user_symptoms]\n",
        "predicted_disease=get_predicted_value(user_symptoms)\n",
        "print(\"Predicted Disease: \",predicted_disease)"
      ],
      "metadata": {
        "colab": {
          "base_uri": "https://localhost:8080/"
        },
        "id": "_QCH0bD1gGs5",
        "outputId": "308cf2d1-d47c-4e26-dea3-0a16f806432a"
      },
      "execution_count": 71,
      "outputs": [
        {
          "output_type": "stream",
          "name": "stdout",
          "text": [
            "Enter Symptoms: itching,skin_rash,shivering\n",
            "Predicted Disease:  Fungal infection\n"
          ]
        },
        {
          "output_type": "stream",
          "name": "stderr",
          "text": [
            "/usr/local/lib/python3.10/dist-packages/sklearn/base.py:465: UserWarning: X does not have valid feature names, but SVC was fitted with feature names\n",
            "  warnings.warn(\n"
          ]
        }
      ]
    },
    {
      "cell_type": "code",
      "source": [
        "def helper(dis):\n",
        "    desc = description[description['Disease'] == predicted_disease]['Description']\n",
        "    desc = \" \".join([w for w in desc])\n",
        "\n",
        "    pre = precautions[precautions['Disease'] == dis][['Precaution_1', 'Precaution_2', 'Precaution_3', 'Precaution_4']]\n",
        "    pre = [col for col in pre.values]\n",
        "\n",
        "    med = medication[medication['Disease'] == dis]['Medication']\n",
        "    med = [med for med in med.values]\n",
        "\n",
        "    die = diets[diets['Disease'] == dis]['Diet']\n",
        "    die = [die for die in die.values]\n",
        "\n",
        "    wrkout = workout[workout['disease'] == dis] ['workout']\n",
        "\n",
        "\n",
        "    return desc,pre,med,die,wrkout"
      ],
      "metadata": {
        "id": "KvZf1_Vjlcvh"
      },
      "execution_count": 79,
      "outputs": []
    },
    {
      "cell_type": "code",
      "source": [
        "symptoms=input(\"Enter Symptoms: \")\n",
        "user_symptoms=[s.strip() for s in symptoms.split(',')]\n",
        "user_symptoms=[sym.strip(\"[]' \") for sym in user_symptoms]\n",
        "predicted_disease=get_predicted_value(user_symptoms)\n",
        "print(\"Predicted Disease: \",predicted_disease)\n",
        "desc,pre,med,die,wrkout=helper(predicted_disease)"
      ],
      "metadata": {
        "colab": {
          "base_uri": "https://localhost:8080/"
        },
        "id": "XMYCNzMpidF0",
        "outputId": "64dc030c-b899-40a6-f2f2-f79139b7cd59"
      },
      "execution_count": 82,
      "outputs": [
        {
          "output_type": "stream",
          "name": "stdout",
          "text": [
            "Enter Symptoms: itching,shivering,skin_rash\n",
            "Predicted Disease:  Fungal infection\n"
          ]
        },
        {
          "output_type": "stream",
          "name": "stderr",
          "text": [
            "/usr/local/lib/python3.10/dist-packages/sklearn/base.py:465: UserWarning: X does not have valid feature names, but SVC was fitted with feature names\n",
            "  warnings.warn(\n"
          ]
        }
      ]
    },
    {
      "cell_type": "code",
      "source": [
        "print(\"=================predicted disease============\")\n",
        "print(predicted_disease)\n",
        "print(\"=================description==================\")\n",
        "print(desc)\n",
        "print(\"=================precautions==================\")\n",
        "i = 1\n",
        "for p_i in pre[0]:\n",
        "    print(i, \": \", p_i)\n",
        "    i += 1\n",
        "\n",
        "print(\"=================medications==================\")\n",
        "for m_i in med:\n",
        "    print(i, \": \", m_i)\n",
        "    i += 1\n",
        "\n",
        "print(\"=================workout==================\")\n",
        "for w_i in wrkout:\n",
        "    print(i, \": \", w_i)\n",
        "    i += 1\n",
        "\n",
        "print(\"=================diets==================\")\n",
        "for d_i in die:\n",
        "    print(i, \": \", d_i)\n",
        "    i += 1"
      ],
      "metadata": {
        "colab": {
          "base_uri": "https://localhost:8080/"
        },
        "id": "oeVdBjksivVt",
        "outputId": "0717c368-ad03-4cfe-fc93-b6852655885d"
      },
      "execution_count": 84,
      "outputs": [
        {
          "output_type": "stream",
          "name": "stdout",
          "text": [
            "=================predicted disease============\n",
            "Fungal infection\n",
            "=================description==================\n",
            "Fungal infection is a common skin condition caused by fungi.\n",
            "=================precautions==================\n",
            "1 :  bath twice\n",
            "2 :  use detol or neem in bathing water\n",
            "3 :  keep infected area dry\n",
            "4 :  use clean cloths\n",
            "=================medications==================\n",
            "5 :  ['Antifungal Cream', 'Fluconazole', 'Terbinafine', 'Clotrimazole', 'Ketoconazole']\n",
            "=================workout==================\n",
            "6 :  Avoid sugary foods\n",
            "7 :  Consume probiotics\n",
            "8 :  Increase intake of garlic\n",
            "9 :  Include yogurt in diet\n",
            "10 :  Limit processed foods\n",
            "11 :  Stay hydrated\n",
            "12 :  Consume green tea\n",
            "13 :  Eat foods rich in zinc\n",
            "14 :  Include turmeric in diet\n",
            "15 :  Eat fruits and vegetables\n",
            "=================diets==================\n",
            "16 :  ['Antifungal Diet', 'Probiotics', 'Garlic', 'Coconut oil', 'Turmeric']\n"
          ]
        }
      ]
    },
    {
      "cell_type": "code",
      "source": [],
      "metadata": {
        "id": "IEMEQDM3jClp"
      },
      "execution_count": 71,
      "outputs": []
    },
    {
      "cell_type": "code",
      "source": [],
      "metadata": {
        "id": "-TyaJB30jzTq"
      },
      "execution_count": 71,
      "outputs": []
    },
    {
      "cell_type": "code",
      "source": [],
      "metadata": {
        "id": "2w1BZYGDj013"
      },
      "execution_count": 71,
      "outputs": []
    },
    {
      "cell_type": "code",
      "source": [],
      "metadata": {
        "id": "o5ELhm9Fj6n7"
      },
      "execution_count": null,
      "outputs": []
    }
  ]
}