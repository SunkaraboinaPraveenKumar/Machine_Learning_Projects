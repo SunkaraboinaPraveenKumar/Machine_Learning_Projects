{
  "nbformat": 4,
  "nbformat_minor": 0,
  "metadata": {
    "colab": {
      "provenance": [],
      "authorship_tag": "ABX9TyPE+Zw7D26v/Dq5L/HKBkrn",
      "include_colab_link": true
    },
    "kernelspec": {
      "name": "python3",
      "display_name": "Python 3"
    },
    "language_info": {
      "name": "python"
    }
  },
  "cells": [
    {
      "cell_type": "markdown",
      "metadata": {
        "id": "view-in-github",
        "colab_type": "text"
      },
      "source": [
        "<a href=\"https://colab.research.google.com/github/SunkaraboinaPraveenKumar/Machine_Learning_Projects/blob/main/AI_correction_App.ipynb\" target=\"_parent\"><img src=\"https://colab.research.google.com/assets/colab-badge.svg\" alt=\"Open In Colab\"/></a>"
      ]
    },
    {
      "cell_type": "code",
      "execution_count": null,
      "metadata": {
        "colab": {
          "base_uri": "https://localhost:8080/"
        },
        "id": "-Kr9zFitguxD",
        "outputId": "1dd90e5e-a0cc-42f4-e89b-7b2864ff8dff"
      },
      "outputs": [
        {
          "output_type": "stream",
          "name": "stdout",
          "text": [
            "\u001b[?25l   \u001b[90m━━━━━━━━━━━━━━━━━━━━━━━━━━━━━━━━━━━━━━━━\u001b[0m \u001b[32m0.0/149.7 kB\u001b[0m \u001b[31m?\u001b[0m eta \u001b[36m-:--:--\u001b[0m\r\u001b[2K   \u001b[91m━━━━━━━━━━━━━━━━━━━━━━━━━━━━━━━━━━━━━━\u001b[0m\u001b[90m╺\u001b[0m\u001b[90m━\u001b[0m \u001b[32m143.4/149.7 kB\u001b[0m \u001b[31m8.8 MB/s\u001b[0m eta \u001b[36m0:00:01\u001b[0m\r\u001b[2K   \u001b[90m━━━━━━━━━━━━━━━━━━━━━━━━━━━━━━━━━━━━━━━━\u001b[0m \u001b[32m149.7/149.7 kB\u001b[0m \u001b[31m3.6 MB/s\u001b[0m eta \u001b[36m0:00:00\u001b[0m\n",
            "\u001b[2K   \u001b[90m━━━━━━━━━━━━━━━━━━━━━━━━━━━━━━━━━━━━━━━━\u001b[0m \u001b[32m44.7/44.7 kB\u001b[0m \u001b[31m2.8 MB/s\u001b[0m eta \u001b[36m0:00:00\u001b[0m\n",
            "\u001b[2K   \u001b[90m━━━━━━━━━━━━━━━━━━━━━━━━━━━━━━━━━━━━━━━━\u001b[0m \u001b[32m363.4/363.4 MB\u001b[0m \u001b[31m4.1 MB/s\u001b[0m eta \u001b[36m0:00:00\u001b[0m\n",
            "\u001b[2K   \u001b[90m━━━━━━━━━━━━━━━━━━━━━━━━━━━━━━━━━━━━━━━━\u001b[0m \u001b[32m13.8/13.8 MB\u001b[0m \u001b[31m61.5 MB/s\u001b[0m eta \u001b[36m0:00:00\u001b[0m\n",
            "\u001b[2K   \u001b[90m━━━━━━━━━━━━━━━━━━━━━━━━━━━━━━━━━━━━━━━━\u001b[0m \u001b[32m24.6/24.6 MB\u001b[0m \u001b[31m49.7 MB/s\u001b[0m eta \u001b[36m0:00:00\u001b[0m\n",
            "\u001b[2K   \u001b[90m━━━━━━━━━━━━━━━━━━━━━━━━━━━━━━━━━━━━━━━━\u001b[0m \u001b[32m883.7/883.7 kB\u001b[0m \u001b[31m26.7 MB/s\u001b[0m eta \u001b[36m0:00:00\u001b[0m\n",
            "\u001b[2K   \u001b[90m━━━━━━━━━━━━━━━━━━━━━━━━━━━━━━━━━━━━━━━━\u001b[0m \u001b[32m664.8/664.8 MB\u001b[0m \u001b[31m2.8 MB/s\u001b[0m eta \u001b[36m0:00:00\u001b[0m\n",
            "\u001b[2K   \u001b[90m━━━━━━━━━━━━━━━━━━━━━━━━━━━━━━━━━━━━━━━━\u001b[0m \u001b[32m211.5/211.5 MB\u001b[0m \u001b[31m4.3 MB/s\u001b[0m eta \u001b[36m0:00:00\u001b[0m\n",
            "\u001b[2K   \u001b[90m━━━━━━━━━━━━━━━━━━━━━━━━━━━━━━━━━━━━━━━━\u001b[0m \u001b[32m56.3/56.3 MB\u001b[0m \u001b[31m10.1 MB/s\u001b[0m eta \u001b[36m0:00:00\u001b[0m\n",
            "\u001b[2K   \u001b[90m━━━━━━━━━━━━━━━━━━━━━━━━━━━━━━━━━━━━━━━━\u001b[0m \u001b[32m127.9/127.9 MB\u001b[0m \u001b[31m5.4 MB/s\u001b[0m eta \u001b[36m0:00:00\u001b[0m\n",
            "\u001b[2K   \u001b[90m━━━━━━━━━━━━━━━━━━━━━━━━━━━━━━━━━━━━━━━━\u001b[0m \u001b[32m207.5/207.5 MB\u001b[0m \u001b[31m3.6 MB/s\u001b[0m eta \u001b[36m0:00:00\u001b[0m\n",
            "\u001b[2K   \u001b[90m━━━━━━━━━━━━━━━━━━━━━━━━━━━━━━━━━━━━━━━━\u001b[0m \u001b[32m21.1/21.1 MB\u001b[0m \u001b[31m21.6 MB/s\u001b[0m eta \u001b[36m0:00:00\u001b[0m\n",
            "\u001b[?25hCollecting en-core-web-sm==3.7.1\n",
            "  Downloading https://github.com/explosion/spacy-models/releases/download/en_core_web_sm-3.7.1/en_core_web_sm-3.7.1-py3-none-any.whl (12.8 MB)\n",
            "\u001b[2K     \u001b[90m━━━━━━━━━━━━━━━━━━━━━━━━━━━━━━━━━━━━━━━━\u001b[0m \u001b[32m12.8/12.8 MB\u001b[0m \u001b[31m60.8 MB/s\u001b[0m eta \u001b[36m0:00:00\u001b[0m\n",
            "\u001b[?25hRequirement already satisfied: spacy<3.8.0,>=3.7.2 in /usr/local/lib/python3.11/dist-packages (from en-core-web-sm==3.7.1) (3.7.5)\n",
            "Requirement already satisfied: spacy-legacy<3.1.0,>=3.0.11 in /usr/local/lib/python3.11/dist-packages (from spacy<3.8.0,>=3.7.2->en-core-web-sm==3.7.1) (3.0.12)\n",
            "Requirement already satisfied: spacy-loggers<2.0.0,>=1.0.0 in /usr/local/lib/python3.11/dist-packages (from spacy<3.8.0,>=3.7.2->en-core-web-sm==3.7.1) (1.0.5)\n",
            "Requirement already satisfied: murmurhash<1.1.0,>=0.28.0 in /usr/local/lib/python3.11/dist-packages (from spacy<3.8.0,>=3.7.2->en-core-web-sm==3.7.1) (1.0.12)\n",
            "Requirement already satisfied: cymem<2.1.0,>=2.0.2 in /usr/local/lib/python3.11/dist-packages (from spacy<3.8.0,>=3.7.2->en-core-web-sm==3.7.1) (2.0.11)\n",
            "Requirement already satisfied: preshed<3.1.0,>=3.0.2 in /usr/local/lib/python3.11/dist-packages (from spacy<3.8.0,>=3.7.2->en-core-web-sm==3.7.1) (3.0.9)\n",
            "Requirement already satisfied: thinc<8.3.0,>=8.2.2 in /usr/local/lib/python3.11/dist-packages (from spacy<3.8.0,>=3.7.2->en-core-web-sm==3.7.1) (8.2.5)\n",
            "Requirement already satisfied: wasabi<1.2.0,>=0.9.1 in /usr/local/lib/python3.11/dist-packages (from spacy<3.8.0,>=3.7.2->en-core-web-sm==3.7.1) (1.1.3)\n",
            "Requirement already satisfied: srsly<3.0.0,>=2.4.3 in /usr/local/lib/python3.11/dist-packages (from spacy<3.8.0,>=3.7.2->en-core-web-sm==3.7.1) (2.5.1)\n",
            "Requirement already satisfied: catalogue<2.1.0,>=2.0.6 in /usr/local/lib/python3.11/dist-packages (from spacy<3.8.0,>=3.7.2->en-core-web-sm==3.7.1) (2.0.10)\n",
            "Requirement already satisfied: weasel<0.5.0,>=0.1.0 in /usr/local/lib/python3.11/dist-packages (from spacy<3.8.0,>=3.7.2->en-core-web-sm==3.7.1) (0.4.1)\n",
            "Requirement already satisfied: typer<1.0.0,>=0.3.0 in /usr/local/lib/python3.11/dist-packages (from spacy<3.8.0,>=3.7.2->en-core-web-sm==3.7.1) (0.15.1)\n",
            "Requirement already satisfied: tqdm<5.0.0,>=4.38.0 in /usr/local/lib/python3.11/dist-packages (from spacy<3.8.0,>=3.7.2->en-core-web-sm==3.7.1) (4.67.1)\n",
            "Requirement already satisfied: requests<3.0.0,>=2.13.0 in /usr/local/lib/python3.11/dist-packages (from spacy<3.8.0,>=3.7.2->en-core-web-sm==3.7.1) (2.32.3)\n",
            "Requirement already satisfied: pydantic!=1.8,!=1.8.1,<3.0.0,>=1.7.4 in /usr/local/lib/python3.11/dist-packages (from spacy<3.8.0,>=3.7.2->en-core-web-sm==3.7.1) (2.10.6)\n",
            "Requirement already satisfied: jinja2 in /usr/local/lib/python3.11/dist-packages (from spacy<3.8.0,>=3.7.2->en-core-web-sm==3.7.1) (3.1.5)\n",
            "Requirement already satisfied: setuptools in /usr/local/lib/python3.11/dist-packages (from spacy<3.8.0,>=3.7.2->en-core-web-sm==3.7.1) (75.1.0)\n",
            "Requirement already satisfied: packaging>=20.0 in /usr/local/lib/python3.11/dist-packages (from spacy<3.8.0,>=3.7.2->en-core-web-sm==3.7.1) (24.2)\n",
            "Requirement already satisfied: langcodes<4.0.0,>=3.2.0 in /usr/local/lib/python3.11/dist-packages (from spacy<3.8.0,>=3.7.2->en-core-web-sm==3.7.1) (3.5.0)\n",
            "Requirement already satisfied: numpy>=1.19.0 in /usr/local/lib/python3.11/dist-packages (from spacy<3.8.0,>=3.7.2->en-core-web-sm==3.7.1) (1.26.4)\n",
            "Requirement already satisfied: language-data>=1.2 in /usr/local/lib/python3.11/dist-packages (from langcodes<4.0.0,>=3.2.0->spacy<3.8.0,>=3.7.2->en-core-web-sm==3.7.1) (1.3.0)\n",
            "Requirement already satisfied: annotated-types>=0.6.0 in /usr/local/lib/python3.11/dist-packages (from pydantic!=1.8,!=1.8.1,<3.0.0,>=1.7.4->spacy<3.8.0,>=3.7.2->en-core-web-sm==3.7.1) (0.7.0)\n",
            "Requirement already satisfied: pydantic-core==2.27.2 in /usr/local/lib/python3.11/dist-packages (from pydantic!=1.8,!=1.8.1,<3.0.0,>=1.7.4->spacy<3.8.0,>=3.7.2->en-core-web-sm==3.7.1) (2.27.2)\n",
            "Requirement already satisfied: typing-extensions>=4.12.2 in /usr/local/lib/python3.11/dist-packages (from pydantic!=1.8,!=1.8.1,<3.0.0,>=1.7.4->spacy<3.8.0,>=3.7.2->en-core-web-sm==3.7.1) (4.12.2)\n",
            "Requirement already satisfied: charset-normalizer<4,>=2 in /usr/local/lib/python3.11/dist-packages (from requests<3.0.0,>=2.13.0->spacy<3.8.0,>=3.7.2->en-core-web-sm==3.7.1) (3.4.1)\n",
            "Requirement already satisfied: idna<4,>=2.5 in /usr/local/lib/python3.11/dist-packages (from requests<3.0.0,>=2.13.0->spacy<3.8.0,>=3.7.2->en-core-web-sm==3.7.1) (3.10)\n",
            "Requirement already satisfied: urllib3<3,>=1.21.1 in /usr/local/lib/python3.11/dist-packages (from requests<3.0.0,>=2.13.0->spacy<3.8.0,>=3.7.2->en-core-web-sm==3.7.1) (2.3.0)\n",
            "Requirement already satisfied: certifi>=2017.4.17 in /usr/local/lib/python3.11/dist-packages (from requests<3.0.0,>=2.13.0->spacy<3.8.0,>=3.7.2->en-core-web-sm==3.7.1) (2025.1.31)\n",
            "Requirement already satisfied: blis<0.8.0,>=0.7.8 in /usr/local/lib/python3.11/dist-packages (from thinc<8.3.0,>=8.2.2->spacy<3.8.0,>=3.7.2->en-core-web-sm==3.7.1) (0.7.11)\n",
            "Requirement already satisfied: confection<1.0.0,>=0.0.1 in /usr/local/lib/python3.11/dist-packages (from thinc<8.3.0,>=8.2.2->spacy<3.8.0,>=3.7.2->en-core-web-sm==3.7.1) (0.1.5)\n",
            "Requirement already satisfied: click>=8.0.0 in /usr/local/lib/python3.11/dist-packages (from typer<1.0.0,>=0.3.0->spacy<3.8.0,>=3.7.2->en-core-web-sm==3.7.1) (8.1.8)\n",
            "Requirement already satisfied: shellingham>=1.3.0 in /usr/local/lib/python3.11/dist-packages (from typer<1.0.0,>=0.3.0->spacy<3.8.0,>=3.7.2->en-core-web-sm==3.7.1) (1.5.4)\n",
            "Requirement already satisfied: rich>=10.11.0 in /usr/local/lib/python3.11/dist-packages (from typer<1.0.0,>=0.3.0->spacy<3.8.0,>=3.7.2->en-core-web-sm==3.7.1) (13.9.4)\n",
            "Requirement already satisfied: cloudpathlib<1.0.0,>=0.7.0 in /usr/local/lib/python3.11/dist-packages (from weasel<0.5.0,>=0.1.0->spacy<3.8.0,>=3.7.2->en-core-web-sm==3.7.1) (0.20.0)\n",
            "Requirement already satisfied: smart-open<8.0.0,>=5.2.1 in /usr/local/lib/python3.11/dist-packages (from weasel<0.5.0,>=0.1.0->spacy<3.8.0,>=3.7.2->en-core-web-sm==3.7.1) (7.1.0)\n",
            "Requirement already satisfied: MarkupSafe>=2.0 in /usr/local/lib/python3.11/dist-packages (from jinja2->spacy<3.8.0,>=3.7.2->en-core-web-sm==3.7.1) (3.0.2)\n",
            "Requirement already satisfied: marisa-trie>=1.1.0 in /usr/local/lib/python3.11/dist-packages (from language-data>=1.2->langcodes<4.0.0,>=3.2.0->spacy<3.8.0,>=3.7.2->en-core-web-sm==3.7.1) (1.2.1)\n",
            "Requirement already satisfied: markdown-it-py>=2.2.0 in /usr/local/lib/python3.11/dist-packages (from rich>=10.11.0->typer<1.0.0,>=0.3.0->spacy<3.8.0,>=3.7.2->en-core-web-sm==3.7.1) (3.0.0)\n",
            "Requirement already satisfied: pygments<3.0.0,>=2.13.0 in /usr/local/lib/python3.11/dist-packages (from rich>=10.11.0->typer<1.0.0,>=0.3.0->spacy<3.8.0,>=3.7.2->en-core-web-sm==3.7.1) (2.18.0)\n",
            "Requirement already satisfied: wrapt in /usr/local/lib/python3.11/dist-packages (from smart-open<8.0.0,>=5.2.1->weasel<0.5.0,>=0.1.0->spacy<3.8.0,>=3.7.2->en-core-web-sm==3.7.1) (1.17.2)\n",
            "Requirement already satisfied: mdurl~=0.1 in /usr/local/lib/python3.11/dist-packages (from markdown-it-py>=2.2.0->rich>=10.11.0->typer<1.0.0,>=0.3.0->spacy<3.8.0,>=3.7.2->en-core-web-sm==3.7.1) (0.1.2)\n",
            "\u001b[38;5;2m✔ Download and installation successful\u001b[0m\n",
            "You can now load the package via spacy.load('en_core_web_sm')\n",
            "\u001b[38;5;3m⚠ Restart to reload dependencies\u001b[0m\n",
            "If you are in a Jupyter or Colab notebook, you may need to restart Python in\n",
            "order to load all the package's dependencies. You can do this by selecting the\n",
            "'Restart kernel' or 'Restart runtime' option.\n"
          ]
        }
      ],
      "source": [
        "!pip install -q langgraph sentence-transformers spacy nltk transformers\n",
        "!python -m spacy download en_core_web_sm"
      ]
    },
    {
      "cell_type": "code",
      "source": [
        "!pip install language-tool-python textstat"
      ],
      "metadata": {
        "colab": {
          "base_uri": "https://localhost:8080/"
        },
        "id": "63ne1tPoi8i9",
        "outputId": "2c0d824a-b10e-4ea9-8e2e-88a55809c3a4"
      },
      "execution_count": null,
      "outputs": [
        {
          "output_type": "stream",
          "name": "stdout",
          "text": [
            "Collecting language-tool-python\n",
            "  Downloading language_tool_python-2.8.2-py3-none-any.whl.metadata (14 kB)\n",
            "Collecting textstat\n",
            "  Downloading textstat-0.7.5-py3-none-any.whl.metadata (15 kB)\n",
            "Requirement already satisfied: pip in /usr/local/lib/python3.11/dist-packages (from language-tool-python) (24.1.2)\n",
            "Requirement already satisfied: requests in /usr/local/lib/python3.11/dist-packages (from language-tool-python) (2.32.3)\n",
            "Requirement already satisfied: tqdm in /usr/local/lib/python3.11/dist-packages (from language-tool-python) (4.67.1)\n",
            "Requirement already satisfied: wheel in /usr/local/lib/python3.11/dist-packages (from language-tool-python) (0.45.1)\n",
            "Collecting pyphen (from textstat)\n",
            "  Downloading pyphen-0.17.2-py3-none-any.whl.metadata (3.2 kB)\n",
            "Collecting cmudict (from textstat)\n",
            "  Downloading cmudict-1.0.32-py3-none-any.whl.metadata (3.6 kB)\n",
            "Requirement already satisfied: setuptools in /usr/local/lib/python3.11/dist-packages (from textstat) (75.1.0)\n",
            "Requirement already satisfied: importlib-metadata>=5 in /usr/local/lib/python3.11/dist-packages (from cmudict->textstat) (8.6.1)\n",
            "Requirement already satisfied: importlib-resources>=5 in /usr/local/lib/python3.11/dist-packages (from cmudict->textstat) (6.5.2)\n",
            "Requirement already satisfied: charset-normalizer<4,>=2 in /usr/local/lib/python3.11/dist-packages (from requests->language-tool-python) (3.4.1)\n",
            "Requirement already satisfied: idna<4,>=2.5 in /usr/local/lib/python3.11/dist-packages (from requests->language-tool-python) (3.10)\n",
            "Requirement already satisfied: urllib3<3,>=1.21.1 in /usr/local/lib/python3.11/dist-packages (from requests->language-tool-python) (2.3.0)\n",
            "Requirement already satisfied: certifi>=2017.4.17 in /usr/local/lib/python3.11/dist-packages (from requests->language-tool-python) (2025.1.31)\n",
            "Requirement already satisfied: zipp>=3.20 in /usr/local/lib/python3.11/dist-packages (from importlib-metadata>=5->cmudict->textstat) (3.21.0)\n",
            "Downloading language_tool_python-2.8.2-py3-none-any.whl (36 kB)\n",
            "Downloading textstat-0.7.5-py3-none-any.whl (105 kB)\n",
            "\u001b[2K   \u001b[90m━━━━━━━━━━━━━━━━━━━━━━━━━━━━━━━━━━━━━━━━\u001b[0m \u001b[32m105.3/105.3 kB\u001b[0m \u001b[31m4.2 MB/s\u001b[0m eta \u001b[36m0:00:00\u001b[0m\n",
            "\u001b[?25hDownloading cmudict-1.0.32-py3-none-any.whl (939 kB)\n",
            "\u001b[2K   \u001b[90m━━━━━━━━━━━━━━━━━━━━━━━━━━━━━━━━━━━━━━━━\u001b[0m \u001b[32m939.4/939.4 kB\u001b[0m \u001b[31m23.5 MB/s\u001b[0m eta \u001b[36m0:00:00\u001b[0m\n",
            "\u001b[?25hDownloading pyphen-0.17.2-py3-none-any.whl (2.1 MB)\n",
            "\u001b[2K   \u001b[90m━━━━━━━━━━━━━━━━━━━━━━━━━━━━━━━━━━━━━━━━\u001b[0m \u001b[32m2.1/2.1 MB\u001b[0m \u001b[31m53.3 MB/s\u001b[0m eta \u001b[36m0:00:00\u001b[0m\n",
            "\u001b[?25hInstalling collected packages: pyphen, language-tool-python, cmudict, textstat\n",
            "Successfully installed cmudict-1.0.32 language-tool-python-2.8.2 pyphen-0.17.2 textstat-0.7.5\n"
          ]
        }
      ]
    },
    {
      "cell_type": "code",
      "source": [
        "from typing import Optional, Dict\n",
        "from sentence_transformers import SentenceTransformer, util\n",
        "import spacy\n",
        "import nltk\n",
        "from nltk.tokenize import word_tokenize, sent_tokenize\n",
        "from nltk.corpus import stopwords\n",
        "from transformers import pipeline\n",
        "import language_tool_python\n",
        "import textstat\n",
        "from dataclasses import dataclass\n",
        "\n",
        "# Download NLTK resources\n",
        "nltk.download('punkt')\n",
        "nltk.download('stopwords')\n",
        "nltk.download('punkt_tab')\n",
        "\n",
        "# Load NLP models\n",
        "spacy_model = spacy.load(\"en_core_web_sm\")\n",
        "semantic_model = SentenceTransformer('all-MiniLM-L6-v2')\n",
        "grammar_tool = language_tool_python.LanguageTool('en-US')\n"
      ],
      "metadata": {
        "colab": {
          "base_uri": "https://localhost:8080/"
        },
        "id": "Px-6PF47gvTq",
        "outputId": "b4f67a54-d299-4961-a43b-523395a9a1c0"
      },
      "execution_count": null,
      "outputs": [
        {
          "output_type": "stream",
          "name": "stderr",
          "text": [
            "[nltk_data] Downloading package punkt to /root/nltk_data...\n",
            "[nltk_data]   Package punkt is already up-to-date!\n",
            "[nltk_data] Downloading package stopwords to /root/nltk_data...\n",
            "[nltk_data]   Package stopwords is already up-to-date!\n",
            "[nltk_data] Downloading package punkt_tab to /root/nltk_data...\n",
            "[nltk_data]   Package punkt_tab is already up-to-date!\n",
            "/usr/local/lib/python3.11/dist-packages/spacy/util.py:1740: UserWarning: [W111] Jupyter notebook detected: if using `prefer_gpu()` or `require_gpu()`, include it in the same cell right before `spacy.load()` to ensure that the model is loaded on the correct device. More information: http://spacy.io/usage/v3#jupyter-notebook-gpu\n",
            "  warnings.warn(Warnings.W111)\n",
            "Downloading LanguageTool 6.4: 100%|██████████| 246M/246M [00:07<00:00, 31.7MB/s]\n",
            "INFO:language_tool_python.download_lt:Unzipping /tmp/tmpf7e1ip2k.zip to /root/.cache/language_tool_python.\n",
            "INFO:language_tool_python.download_lt:Downloaded https://www.languagetool.org/download/LanguageTool-6.4.zip to /root/.cache/language_tool_python.\n"
          ]
        }
      ]
    },
    {
      "cell_type": "code",
      "source": [
        "@dataclass\n",
        "class PipelineState:\n",
        "    teacher_text: Optional[str] = None\n",
        "    student_text: Optional[str] = None\n",
        "    teacher_text_clean: Optional[str] = None\n",
        "    student_text_clean: Optional[str] = None\n",
        "    tokenized_words: Optional[list] = None\n",
        "    grammar_score: Optional[float] = None\n",
        "    readability_score: Optional[float] = None\n",
        "    syntactic_score: Optional[float] = None\n",
        "    semantic_score: Optional[float] = None\n",
        "    coherence_score: Optional[float] = None\n",
        "    final_score: Optional[float] = None\n",
        "    explanation: Optional[str] = None\n"
      ],
      "metadata": {
        "id": "vggHpNa6jCny"
      },
      "execution_count": null,
      "outputs": []
    },
    {
      "cell_type": "code",
      "source": [
        "def ocr_node(state: PipelineState) -> PipelineState:\n",
        "    print(\"OCR Node: Passing through provided text.\")\n",
        "    return state"
      ],
      "metadata": {
        "id": "hJKYVzwShENG"
      },
      "execution_count": null,
      "outputs": []
    },
    {
      "cell_type": "code",
      "source": [
        "def text_cleaning_node(state: PipelineState) -> PipelineState:\n",
        "    def clean_text(text):\n",
        "        return \" \".join(text.split()).strip()  # Removes extra spaces and trims\n",
        "\n",
        "    state.teacher_text_clean = clean_text(state.teacher_text)\n",
        "    state.student_text_clean = clean_text(state.student_text)\n",
        "\n",
        "    print(f\"Cleaned Student Text: {state.student_text_clean}\")\n",
        "    return state"
      ],
      "metadata": {
        "id": "AAh1DZIzhEx8"
      },
      "execution_count": null,
      "outputs": []
    },
    {
      "cell_type": "code",
      "source": [
        "def tokenization_node(state: PipelineState) -> PipelineState:\n",
        "    state.tokenized_words = word_tokenize(state.student_text_clean)\n",
        "\n",
        "    print(f\"Tokenized Words: {state.tokenized_words}\")\n",
        "    return state"
      ],
      "metadata": {
        "id": "d6qjq1xnhGH0"
      },
      "execution_count": null,
      "outputs": []
    },
    {
      "cell_type": "code",
      "source": [
        "def stopword_removal_node(state: PipelineState) -> PipelineState:\n",
        "    stop_words = set(stopwords.words(\"english\"))\n",
        "    state.tokenized_words = [word for word in state.tokenized_words if word.lower() not in stop_words]\n",
        "\n",
        "    print(f\"Words after Stopword Removal: {state.tokenized_words}\")\n",
        "    return state"
      ],
      "metadata": {
        "id": "mNJGs6L3hH6Y"
      },
      "execution_count": null,
      "outputs": []
    },
    {
      "cell_type": "code",
      "source": [
        "def grammar_check_node(state: PipelineState) -> PipelineState:\n",
        "    matches = grammar_tool.check(state.student_text_clean)\n",
        "    num_errors = len(matches)\n",
        "    total_words = max(len(state.student_text_clean.split()), 1)\n",
        "    state.grammar_score = 1 - (num_errors / total_words)\n",
        "\n",
        "    print(f\"Grammar Errors: {num_errors}, Score: {state.grammar_score:.2f}\")\n",
        "    return state"
      ],
      "metadata": {
        "id": "_IcazbfGhJ6m"
      },
      "execution_count": null,
      "outputs": []
    },
    {
      "cell_type": "code",
      "source": [
        "def readability_analysis_node(state: PipelineState) -> PipelineState:\n",
        "    score = textstat.flesch_reading_ease(state.student_text_clean)\n",
        "    state.readability_score = max(0, min(score / 100, 1))  # Normalize to 0-1 range\n",
        "\n",
        "    print(f\"Readability Score: {state.readability_score:.2f}\")\n",
        "    return state"
      ],
      "metadata": {
        "id": "wsuEWM31hL_I"
      },
      "execution_count": null,
      "outputs": []
    },
    {
      "cell_type": "code",
      "source": [
        "def syntactic_analysis_node(state: PipelineState) -> PipelineState:\n",
        "    doc = spacy_model(state.student_text_clean)\n",
        "    num_sentences = len(list(doc.sents))\n",
        "    state.syntactic_score = 0.9 if num_sentences >= 2 else 0.5\n",
        "\n",
        "    print(f\"Sentence Count: {num_sentences}, Syntactic Score: {state.syntactic_score:.2f}\")\n",
        "    return state"
      ],
      "metadata": {
        "id": "P2BG7Br-hPfT"
      },
      "execution_count": null,
      "outputs": []
    },
    {
      "cell_type": "code",
      "source": [
        "def semantic_analysis_node(state: PipelineState) -> PipelineState:\n",
        "    teacher_embedding = semantic_model.encode(state.teacher_text_clean, convert_to_tensor=True)\n",
        "    student_embedding = semantic_model.encode(state.student_text_clean, convert_to_tensor=True)\n",
        "\n",
        "    similarity = util.pytorch_cos_sim(teacher_embedding, student_embedding).item()\n",
        "    state.semantic_score = similarity\n",
        "\n",
        "    print(f\"Semantic Similarity Score: {state.semantic_score:.2f}\")\n",
        "    return state"
      ],
      "metadata": {
        "id": "jYU3QQj8hRBL"
      },
      "execution_count": null,
      "outputs": []
    },
    {
      "cell_type": "code",
      "source": [
        "def coherence_analysis_node(state: PipelineState) -> PipelineState:\n",
        "    sentences = sent_tokenize(state.student_text_clean)\n",
        "    embeddings = semantic_model.encode(sentences, convert_to_tensor=True)\n",
        "    coherence_score = util.pytorch_cos_sim(embeddings[:-1], embeddings[1:]).mean().item()\n",
        "\n",
        "    state.coherence_score = coherence_score\n",
        "\n",
        "    print(f\"Coherence Score: {state.coherence_score:.2f}\")\n",
        "    return state"
      ],
      "metadata": {
        "id": "-Ayn9Lp3hS4X"
      },
      "execution_count": null,
      "outputs": []
    },
    {
      "cell_type": "code",
      "source": [
        "def evaluation_node(state: PipelineState) -> PipelineState:\n",
        "    scores = [\n",
        "        state.grammar_score,\n",
        "        state.readability_score,\n",
        "        state.syntactic_score,\n",
        "        state.semantic_score,\n",
        "        state.coherence_score\n",
        "    ]\n",
        "    state.final_score = sum(scores) / len(scores)\n",
        "\n",
        "    state.explanation = f\"\"\"\n",
        "    Your overall score is {state.final_score:.2f}.\n",
        "    - Grammar: {state.grammar_score:.2f}\n",
        "    - Readability: {state.readability_score:.2f}\n",
        "    - Syntactic Complexity: {state.syntactic_score:.2f}\n",
        "    - Semantic Match with Teacher: {state.semantic_score:.2f}\n",
        "    - Logical Coherence: {state.coherence_score:.2f}\n",
        "    \"\"\"\n",
        "\n",
        "    print(state.explanation)\n",
        "    return state"
      ],
      "metadata": {
        "id": "3ophmZBmhU4Y"
      },
      "execution_count": null,
      "outputs": []
    },
    {
      "cell_type": "code",
      "source": [
        "# Initialize state with teacher and student text\n",
        "data = PipelineState(\n",
        "    teacher_text=\"Charles Darwin’s Theory of Evolution by Natural Selection proposes that species evolve over time...\",\n",
        "    student_text=\"Darwin’s Theory of Evolution explains how living things change over time...\"\n",
        ")\n",
        "\n",
        "# Execute pipeline nodes sequentially\n",
        "data = text_cleaning_node(data)\n",
        "data = tokenization_node(data)\n",
        "data = stopword_removal_node(data)\n",
        "data = grammar_check_node(data)\n",
        "data = readability_analysis_node(data)\n",
        "data = syntactic_analysis_node(data)\n",
        "data = semantic_analysis_node(data)\n",
        "data = coherence_analysis_node(data)\n",
        "data = evaluation_node(data)"
      ],
      "metadata": {
        "colab": {
          "base_uri": "https://localhost:8080/"
        },
        "id": "yVjTvETRhWI4",
        "outputId": "477dc765-f45e-44b9-b595-ddb4f1d1f09b"
      },
      "execution_count": null,
      "outputs": [
        {
          "output_type": "stream",
          "name": "stdout",
          "text": [
            "Cleaned Student Text: Darwin’s Theory of Evolution explains how living things change over time...\n",
            "Tokenized Words: ['Darwin', '’', 's', 'Theory', 'of', 'Evolution', 'explains', 'how', 'living', 'things', 'change', 'over', 'time', '...']\n",
            "Words after Stopword Removal: ['Darwin', '’', 'Theory', 'Evolution', 'explains', 'living', 'things', 'change', 'time', '...']\n",
            "Grammar Errors: 0, Score: 1.00\n",
            "Readability Score: 0.52\n",
            "Sentence Count: 1, Syntactic Score: 0.50\n",
            "Semantic Similarity Score: 0.80\n",
            "Coherence Score: nan\n",
            "\n",
            "    Your overall score is nan.\n",
            "    - Grammar: 1.00\n",
            "    - Readability: 0.52\n",
            "    - Syntactic Complexity: 0.50\n",
            "    - Semantic Match with Teacher: 0.80\n",
            "    - Logical Coherence: nan\n",
            "    \n"
          ]
        }
      ]
    },
    {
      "cell_type": "code",
      "source": [
        "!pip install langchain_groq"
      ],
      "metadata": {
        "colab": {
          "base_uri": "https://localhost:8080/",
          "height": 627
        },
        "id": "MJo7tPyHmBo2",
        "outputId": "9a245481-4bba-4456-f671-677435ff1872"
      },
      "execution_count": null,
      "outputs": [
        {
          "output_type": "stream",
          "name": "stdout",
          "text": [
            "Collecting langchain_groq\n",
            "  Downloading langchain_groq-0.2.4-py3-none-any.whl.metadata (3.0 kB)\n",
            "Collecting groq<1,>=0.4.1 (from langchain_groq)\n",
            "  Downloading groq-0.18.0-py3-none-any.whl.metadata (14 kB)\n",
            "Requirement already satisfied: langchain-core<0.4.0,>=0.3.33 in /usr/local/lib/python3.11/dist-packages (from langchain_groq) (0.3.33)\n",
            "Requirement already satisfied: anyio<5,>=3.5.0 in /usr/local/lib/python3.11/dist-packages (from groq<1,>=0.4.1->langchain_groq) (3.7.1)\n",
            "Requirement already satisfied: distro<2,>=1.7.0 in /usr/local/lib/python3.11/dist-packages (from groq<1,>=0.4.1->langchain_groq) (1.9.0)\n",
            "Requirement already satisfied: httpx<1,>=0.23.0 in /usr/local/lib/python3.11/dist-packages (from groq<1,>=0.4.1->langchain_groq) (0.28.1)\n",
            "Requirement already satisfied: pydantic<3,>=1.9.0 in /usr/local/lib/python3.11/dist-packages (from groq<1,>=0.4.1->langchain_groq) (2.10.6)\n",
            "Requirement already satisfied: sniffio in /usr/local/lib/python3.11/dist-packages (from groq<1,>=0.4.1->langchain_groq) (1.3.1)\n",
            "Requirement already satisfied: typing-extensions<5,>=4.10 in /usr/local/lib/python3.11/dist-packages (from groq<1,>=0.4.1->langchain_groq) (4.12.2)\n",
            "Requirement already satisfied: PyYAML>=5.3 in /usr/local/lib/python3.11/dist-packages (from langchain-core<0.4.0,>=0.3.33->langchain_groq) (6.0.2)\n",
            "Requirement already satisfied: jsonpatch<2.0,>=1.33 in /usr/local/lib/python3.11/dist-packages (from langchain-core<0.4.0,>=0.3.33->langchain_groq) (1.33)\n",
            "Requirement already satisfied: langsmith<0.4,>=0.1.125 in /usr/local/lib/python3.11/dist-packages (from langchain-core<0.4.0,>=0.3.33->langchain_groq) (0.3.5)\n",
            "Requirement already satisfied: packaging<25,>=23.2 in /usr/local/lib/python3.11/dist-packages (from langchain-core<0.4.0,>=0.3.33->langchain_groq) (24.2)\n",
            "Requirement already satisfied: tenacity!=8.4.0,<10.0.0,>=8.1.0 in /usr/local/lib/python3.11/dist-packages (from langchain-core<0.4.0,>=0.3.33->langchain_groq) (9.0.0)\n",
            "Requirement already satisfied: idna>=2.8 in /usr/local/lib/python3.11/dist-packages (from anyio<5,>=3.5.0->groq<1,>=0.4.1->langchain_groq) (3.10)\n",
            "Requirement already satisfied: certifi in /usr/local/lib/python3.11/dist-packages (from httpx<1,>=0.23.0->groq<1,>=0.4.1->langchain_groq) (2025.1.31)\n",
            "Requirement already satisfied: httpcore==1.* in /usr/local/lib/python3.11/dist-packages (from httpx<1,>=0.23.0->groq<1,>=0.4.1->langchain_groq) (1.0.7)\n",
            "Requirement already satisfied: h11<0.15,>=0.13 in /usr/local/lib/python3.11/dist-packages (from httpcore==1.*->httpx<1,>=0.23.0->groq<1,>=0.4.1->langchain_groq) (0.14.0)\n",
            "Requirement already satisfied: jsonpointer>=1.9 in /usr/local/lib/python3.11/dist-packages (from jsonpatch<2.0,>=1.33->langchain-core<0.4.0,>=0.3.33->langchain_groq) (3.0.0)\n",
            "Requirement already satisfied: orjson<4.0.0,>=3.9.14 in /usr/local/lib/python3.11/dist-packages (from langsmith<0.4,>=0.1.125->langchain-core<0.4.0,>=0.3.33->langchain_groq) (3.10.15)\n",
            "Requirement already satisfied: requests<3,>=2 in /usr/local/lib/python3.11/dist-packages (from langsmith<0.4,>=0.1.125->langchain-core<0.4.0,>=0.3.33->langchain_groq) (2.32.3)\n",
            "Requirement already satisfied: requests-toolbelt<2.0.0,>=1.0.0 in /usr/local/lib/python3.11/dist-packages (from langsmith<0.4,>=0.1.125->langchain-core<0.4.0,>=0.3.33->langchain_groq) (1.0.0)\n",
            "Requirement already satisfied: zstandard<0.24.0,>=0.23.0 in /usr/local/lib/python3.11/dist-packages (from langsmith<0.4,>=0.1.125->langchain-core<0.4.0,>=0.3.33->langchain_groq) (0.23.0)\n",
            "Requirement already satisfied: annotated-types>=0.6.0 in /usr/local/lib/python3.11/dist-packages (from pydantic<3,>=1.9.0->groq<1,>=0.4.1->langchain_groq) (0.7.0)\n",
            "Requirement already satisfied: pydantic-core==2.27.2 in /usr/local/lib/python3.11/dist-packages (from pydantic<3,>=1.9.0->groq<1,>=0.4.1->langchain_groq) (2.27.2)\n",
            "Requirement already satisfied: charset-normalizer<4,>=2 in /usr/local/lib/python3.11/dist-packages (from requests<3,>=2->langsmith<0.4,>=0.1.125->langchain-core<0.4.0,>=0.3.33->langchain_groq) (3.4.1)\n",
            "Requirement already satisfied: urllib3<3,>=1.21.1 in /usr/local/lib/python3.11/dist-packages (from requests<3,>=2->langsmith<0.4,>=0.1.125->langchain-core<0.4.0,>=0.3.33->langchain_groq) (2.3.0)\n",
            "Downloading langchain_groq-0.2.4-py3-none-any.whl (14 kB)\n",
            "Downloading groq-0.18.0-py3-none-any.whl (121 kB)\n",
            "\u001b[2K   \u001b[90m━━━━━━━━━━━━━━━━━━━━━━━━━━━━━━━━━━━━━━━━\u001b[0m \u001b[32m121.9/121.9 kB\u001b[0m \u001b[31m4.4 MB/s\u001b[0m eta \u001b[36m0:00:00\u001b[0m\n",
            "\u001b[?25hInstalling collected packages: groq, langchain_groq\n",
            "Successfully installed groq-0.18.0 langchain_groq-0.2.4\n"
          ]
        }
      ]
    },
    {
      "cell_type": "code",
      "source": [
        "import langgraph\n",
        "from langgraph.graph import StateGraph\n",
        "from sentence_transformers import SentenceTransformer, util\n",
        "import spacy\n",
        "import nltk\n",
        "from nltk.tokenize import word_tokenize\n",
        "from nltk.corpus import stopwords\n",
        "import language_tool_python\n",
        "import textstat\n",
        "from typing import Optional, Dict\n",
        "from dataclasses import dataclass\n",
        "from google.colab import userdata\n",
        "import os\n",
        "from langchain_groq import ChatGroq\n",
        "\n",
        "os.environ['GROQ_API_KEY']=userdata.get('groq_api_key')\n",
        "\n",
        "# Download required NLTK resources\n",
        "nltk.download('punkt')\n",
        "nltk.download('stopwords')\n",
        "\n",
        "# Load NLP models\n",
        "spacy_model = spacy.load(\"en_core_web_sm\")\n",
        "semantic_model = SentenceTransformer('all-MiniLM-L6-v2')\n",
        "grammar_tool = language_tool_python.LanguageTool('en-US')\n",
        "llm = ChatGroq(\n",
        "    model_name=\"deepseek-r1-distill-llama-70b\"\n",
        ")"
      ],
      "metadata": {
        "colab": {
          "base_uri": "https://localhost:8080/"
        },
        "id": "Z6-0iQ2wjZHb",
        "outputId": "56a17173-c6a7-41fa-aa0a-48ac9f62b24d"
      },
      "execution_count": null,
      "outputs": [
        {
          "output_type": "stream",
          "name": "stderr",
          "text": [
            "[nltk_data] Downloading package punkt to /root/nltk_data...\n",
            "[nltk_data]   Package punkt is already up-to-date!\n",
            "[nltk_data] Downloading package stopwords to /root/nltk_data...\n",
            "[nltk_data]   Package stopwords is already up-to-date!\n",
            "/usr/local/lib/python3.11/dist-packages/spacy/util.py:1740: UserWarning: [W111] Jupyter notebook detected: if using `prefer_gpu()` or `require_gpu()`, include it in the same cell right before `spacy.load()` to ensure that the model is loaded on the correct device. More information: http://spacy.io/usage/v3#jupyter-notebook-gpu\n",
            "  warnings.warn(Warnings.W111)\n"
          ]
        }
      ]
    },
    {
      "cell_type": "code",
      "source": [
        "import textstat\n",
        "import math"
      ],
      "metadata": {
        "id": "f2m9MlMEp2Q0"
      },
      "execution_count": null,
      "outputs": []
    },
    {
      "cell_type": "code",
      "source": [
        "# Define state\n",
        "@dataclass\n",
        "class PipelineState:\n",
        "    teacher_text: Optional[str] = None\n",
        "    student_text: Optional[str] = None\n",
        "    cleaned_text: Optional[str] = None\n",
        "    semantic_score: Optional[float] = None\n",
        "    syntactic_score: Optional[float] = None\n",
        "    grammar_score: Optional[float] = None\n",
        "    readability_score: Optional[float] = None\n",
        "    final_score: Optional[float] = None\n",
        "    llm_feedback: Optional[str] = None\n",
        "\n",
        "# Define nodes\n",
        "def preprocess_text(state: PipelineState) -> PipelineState:\n",
        "    state.cleaned_text = \" \".join(state.student_text.split()).strip()\n",
        "    return state\n",
        "\n",
        "def semantic_analysis(state: PipelineState) -> PipelineState:\n",
        "    teacher_embedding = semantic_model.encode(state.teacher_text, convert_to_tensor=True)\n",
        "    student_embedding = semantic_model.encode(state.cleaned_text, convert_to_tensor=True)\n",
        "    state.semantic_score = util.pytorch_cos_sim(teacher_embedding, student_embedding).item()\n",
        "    return state\n",
        "\n"
      ],
      "metadata": {
        "id": "uXyEOxtsnNsj"
      },
      "execution_count": null,
      "outputs": []
    },
    {
      "cell_type": "code",
      "source": [
        "def syntactic_analysis(state: PipelineState) -> PipelineState:\n",
        "    \"\"\"Analyze sentence complexity using SMOG and ARI scores.\"\"\"\n",
        "\n",
        "    doc = spacy_model(state.cleaned_text)\n",
        "    num_sentences = len(list(doc.sents))  # Count sentences\n",
        "\n",
        "    # Use readability metrics for syntactic complexity\n",
        "    smog_score = textstat.smog_index(state.cleaned_text)  # Higher = more complex\n",
        "    ari_score = textstat.automated_readability_index(state.cleaned_text)  # Higher = more complex\n",
        "\n",
        "    # Normalize scores (higher complexity → lower syntactic score)\n",
        "    smog_normalized = max(0, min(1 - (smog_score / 20), 1))\n",
        "    ari_normalized = max(0, min(1 - (ari_score / 20), 1))\n",
        "\n",
        "    # Average the normalized scores\n",
        "    state.syntactic_score = (smog_normalized + ari_normalized) / 2\n",
        "\n",
        "    return state\n"
      ],
      "metadata": {
        "id": "5DDOcBIPqkMm"
      },
      "execution_count": null,
      "outputs": []
    },
    {
      "cell_type": "code",
      "source": [
        "def grammar_analysis(state: PipelineState) -> PipelineState:\n",
        "    \"\"\"Analyzes grammatical correctness using LanguageTool.\"\"\"\n",
        "    matches = grammar_tool.check(state.cleaned_text)\n",
        "    num_errors = len(matches)\n",
        "    total_words = max(len(state.cleaned_text.split()), 1)\n",
        "\n",
        "    # Normalize error count to a score between 0 and 1\n",
        "    normalized_errors = num_errors / total_words\n",
        "    state.grammar_score = max(0, min(1, 1 - math.log1p(normalized_errors)))  # log1p(x) = log(1 + x)\n",
        "\n",
        "    return state"
      ],
      "metadata": {
        "id": "fkzEVsoMqsY4"
      },
      "execution_count": null,
      "outputs": []
    },
    {
      "cell_type": "code",
      "source": [
        "def readability_analysis(state: PipelineState) -> PipelineState:\n",
        "    \"\"\"Analyzes readability using multiple metrics.\"\"\"\n",
        "\n",
        "    # Get readability scores\n",
        "    flesch_score = textstat.flesch_reading_ease(state.cleaned_text)\n",
        "    smog_score = textstat.smog_index(state.cleaned_text)  # Measures polysyllabic words per sentence\n",
        "    ari_score = textstat.automated_readability_index(state.cleaned_text)  # Evaluates complexity based on character count per word\n",
        "\n",
        "    # Normalize scores\n",
        "    flesch_normalized = max(0, min((flesch_score + 30) / 130, 1))  # Shift to fit 0-1 scale\n",
        "    smog_normalized = max(0, min(1 - (smog_score / 20), 1))  # Higher SMOG = harder to read\n",
        "    ari_normalized = max(0, min(1 - (ari_score / 20), 1))  # Higher ARI = harder to read\n",
        "\n",
        "    # Combine scores for a better measure of readability\n",
        "    state.readability_score = (flesch_normalized + smog_normalized + ari_normalized) / 3\n",
        "\n",
        "    return state\n"
      ],
      "metadata": {
        "id": "-ZgHBZyFquFq"
      },
      "execution_count": null,
      "outputs": []
    },
    {
      "cell_type": "code",
      "source": [
        "def final_evaluation(state: PipelineState) -> PipelineState:\n",
        "    scores = [\n",
        "        state.semantic_score,\n",
        "        state.syntactic_score,\n",
        "        state.grammar_score,\n",
        "        state.readability_score\n",
        "    ]\n",
        "    state.final_score = sum(scores) / len(scores)\n",
        "    return state\n",
        "\n",
        "# LLM feedback node\n",
        "def llm_feedback_node(state: PipelineState) -> PipelineState:\n",
        "    prompt = f\"\"\"\n",
        "    Given the following analysis of a student's answer:\n",
        "\n",
        "    - **Semantic Similarity Score**: {state.semantic_score}\n",
        "    - **Syntactic Score**: {state.syntactic_score}\n",
        "    - **Grammar Score**: {state.grammar_score}\n",
        "    - **Readability Score**: {state.readability_score}\n",
        "\n",
        "    Please generate a final score (0-100) and provide feedback on how the student can improve their answer.\n",
        "    \"\"\"\n",
        "\n",
        "    response = llm.invoke(prompt)\n",
        "    state.llm_feedback = response.content\n",
        "    return state\n"
      ],
      "metadata": {
        "id": "9-Sf7LT4qpZH"
      },
      "execution_count": null,
      "outputs": []
    },
    {
      "cell_type": "code",
      "source": [
        "# Define the graph\n",
        "graph = StateGraph(PipelineState)\n",
        "graph.add_node(\"preprocess\", preprocess_text)\n",
        "graph.add_node(\"semantic\", semantic_analysis)\n",
        "graph.add_node(\"syntactic\", syntactic_analysis)\n",
        "graph.add_node(\"grammar\", grammar_analysis)\n",
        "graph.add_node(\"readability\", readability_analysis)\n",
        "graph.add_node(\"final_evaluation\", final_evaluation)\n",
        "graph.add_node(\"llm_feedback_final\", llm_feedback_node)\n",
        "\n",
        "# Define execution flow\n",
        "graph.add_edge(\"preprocess\", \"semantic\")\n",
        "graph.add_edge(\"semantic\", \"syntactic\")\n",
        "graph.add_edge(\"syntactic\", \"grammar\")\n",
        "graph.add_edge(\"grammar\", \"readability\")\n",
        "graph.add_edge(\"readability\", \"final_evaluation\")\n",
        "graph.add_edge(\"final_evaluation\", \"llm_feedback_final\")\n",
        "\n",
        "graph.set_entry_point(\"preprocess\")\n",
        "\n",
        "# Compile the graph\n",
        "app = graph.compile()\n"
      ],
      "metadata": {
        "id": "5PewLQuGqmoz"
      },
      "execution_count": null,
      "outputs": []
    },
    {
      "cell_type": "code",
      "source": [
        "app"
      ],
      "metadata": {
        "colab": {
          "base_uri": "https://localhost:8080/",
          "height": 747
        },
        "id": "OBenqLgGkKsG",
        "outputId": "83a3b9cb-700c-471b-8857-78fedcd7d69f"
      },
      "execution_count": null,
      "outputs": [
        {
          "output_type": "execute_result",
          "data": {
            "text/plain": [
              "<langgraph.graph.state.CompiledStateGraph object at 0x7de4f12a6d10>"
            ],
            "image/png": "[encoded data removed]"
          },
          "metadata": {},
          "execution_count": 85
        }
      ]
    },
    {
      "cell_type": "code",
      "source": [
        "# Sample Input\n",
        "data = PipelineState(\n",
        "    teacher_text=\"Charles Darwin’s Theory of Evolution by Natural Selection proposes that species evolve over time...\",\n",
        "    student_text=\"Darwin’s Theory of Evolution explains how living things change over time...\"\n",
        ")\n",
        "\n",
        "# Run pipeline\n",
        "result = app.invoke(data)\n",
        "\n",
        "# Output final LLM feedback\n",
        "print(\"\\nFinal LLM Feedback:\\n\", result['llm_feedback'])"
      ],
      "metadata": {
        "colab": {
          "base_uri": "https://localhost:8080/"
        },
        "id": "JRh1pVPYkLut",
        "outputId": "2e8f003f-c168-4eb6-8425-3b2d1424753a"
      },
      "execution_count": null,
      "outputs": [
        {
          "output_type": "stream",
          "name": "stdout",
          "text": [
            "\n",
            "Final LLM Feedback:\n",
            " <think>\n",
            "Okay, so I need to figure out how to help this student improve their answer based on the scores provided. Let me start by understanding each of the scores given.\n",
            "\n",
            "First, the Semantic Similarity Score is 0.799, which is pretty high. That means the student's answer is very close in meaning to the correct answer. They probably understood the question well and included most of the necessary points. But maybe there are some nuances or details they missed, so I should suggest they focus on including more specific details or examples to make their answer even more accurate.\n",
            "\n",
            "Next, the Syntactic Score is 0.7025. This is a bit lower, so the structure of their sentences might not be as clear or varied as it could be. They might be using simpler sentence structures or maybe repeating the same patterns. I should advise them to work on using a mix of sentence lengths and structures to make their writing more engaging and sophisticated.\n",
            "\n",
            "The Grammar Score is a perfect 1, which is great! Their answer is free of grammatical errors, so they have a solid foundation in grammar. They don't need to worry about this aspect, but it's always good to encourage them to keep up the good work.\n",
            "\n",
            "The Readability Score is 0.678, which is the lowest of the bunch. This suggests that their writing might be a bit hard to read, possibly because of word choice or sentence complexity. They might be using overly complex words or not varying their vocabulary enough. I should suggest they use simpler language where possible and vary their vocabulary to make their writing clearer and more accessible.\n",
            "\n",
            "Putting it all together, the student did well semantically and grammatically but needs improvement in syntax and readability. I'll calculate the final score by averaging the four scores: (0.799 + 0.7025 + 1 + 0.678) / 4 = 0.799 + 0.7025 is 1.5015, plus 1 is 2.5015, plus 0.678 is 3.1795. Divided by 4 gives approximately 0.7949, which I'll round up to 79.5, so a final score of 80.\n",
            "\n",
            "In the feedback, I'll highlight their strengths in semantics and grammar, then provide specific tips on improving syntax by varying sentence structures and enhancing readability by simplifying language and expanding vocabulary. I'll make sure to keep the tone encouraging and constructive.\n",
            "</think>\n",
            "\n",
            "**Final Score: 80/100**\n",
            "\n",
            "**Feedback:**\n",
            "\n",
            "* **Strengths:**\n",
            "  - Your answer demonstrates a strong understanding of the topic with a high semantic similarity score, indicating that your content is closely aligned with the correct answer.\n",
            "  - You have excellent grammar skills, as evidenced by a perfect grammar score.\n",
            "\n",
            "* **Areas for Improvement:**\n",
            "  - **Syntax:** Consider varying your sentence structures to enhance clarity and engagement. Practice using a mix of short and long sentences to make your writing more dynamic.\n",
            "  - **Readability:** Aim for simpler language and a varied vocabulary to improve the accessibility of your writing. This will make your ideas clearer and more engaging for readers.\n",
            "\n",
            "Keep up the good work, and with these adjustments, your writing will become even more effective!\n"
          ]
        }
      ]
    },
    {
      "cell_type": "code",
      "source": [
        "!pip install PyMuPDF"
      ],
      "metadata": {
        "colab": {
          "base_uri": "https://localhost:8080/"
        },
        "id": "UKI71FpwtBJ8",
        "outputId": "5b3c95fd-33cf-4a15-c1c6-2b58eb95eae1"
      },
      "execution_count": 88,
      "outputs": [
        {
          "output_type": "stream",
          "name": "stdout",
          "text": [
            "Collecting PyMuPDF\n",
            "  Downloading pymupdf-1.25.3-cp39-abi3-manylinux2014_x86_64.manylinux_2_17_x86_64.whl.metadata (3.4 kB)\n",
            "Downloading pymupdf-1.25.3-cp39-abi3-manylinux2014_x86_64.manylinux_2_17_x86_64.whl (20.0 MB)\n",
            "\u001b[2K   \u001b[90m━━━━━━━━━━━━━━━━━━━━━━━━━━━━━━━━━━━━━━━━\u001b[0m \u001b[32m20.0/20.0 MB\u001b[0m \u001b[31m45.6 MB/s\u001b[0m eta \u001b[36m0:00:00\u001b[0m\n",
            "\u001b[?25hInstalling collected packages: PyMuPDF\n",
            "Successfully installed PyMuPDF-1.25.3\n"
          ]
        }
      ]
    },
    {
      "cell_type": "code",
      "source": [
        "!pip install reportlab"
      ],
      "metadata": {
        "colab": {
          "base_uri": "https://localhost:8080/"
        },
        "id": "_7X5Em3iuDZ2",
        "outputId": "ad4f171a-54ba-4e12-c1fb-398a573477c5"
      },
      "execution_count": 90,
      "outputs": [
        {
          "output_type": "stream",
          "name": "stdout",
          "text": [
            "Collecting reportlab\n",
            "  Downloading reportlab-4.3.0-py3-none-any.whl.metadata (1.5 kB)\n",
            "Requirement already satisfied: pillow>=9.0.0 in /usr/local/lib/python3.11/dist-packages (from reportlab) (11.1.0)\n",
            "Requirement already satisfied: chardet in /usr/local/lib/python3.11/dist-packages (from reportlab) (5.2.0)\n",
            "Downloading reportlab-4.3.0-py3-none-any.whl (1.9 MB)\n",
            "\u001b[2K   \u001b[90m━━━━━━━━━━━━━━━━━━━━━━━━━━━━━━━━━━━━━━━━\u001b[0m \u001b[32m1.9/1.9 MB\u001b[0m \u001b[31m21.0 MB/s\u001b[0m eta \u001b[36m0:00:00\u001b[0m\n",
            "\u001b[?25hInstalling collected packages: reportlab\n",
            "Successfully installed reportlab-4.3.0\n"
          ]
        }
      ]
    },
    {
      "cell_type": "code",
      "source": [
        "from reportlab.lib.pagesizes import letter\n",
        "from reportlab.pdfgen import canvas\n",
        "\n",
        "def create_pdf(text, output_filename=\"output.pdf\"):\n",
        "    \"\"\"Creates a PDF file from the given text.\"\"\"\n",
        "    c = canvas.Canvas(output_filename, pagesize=letter)\n",
        "    width, height = letter\n",
        "    c.setFont(\"Helvetica\", 12)\n",
        "\n",
        "    # Split text into lines\n",
        "    lines = text.split(\"\\n\")\n",
        "    y_position = height - 50  # Start from top\n",
        "\n",
        "    for line in lines:\n",
        "        c.drawString(50, y_position, line)\n",
        "        y_position -= 15  # Move down for next line\n",
        "\n",
        "        # If the page is full, create a new one\n",
        "        if y_position < 50:\n",
        "            c.showPage()\n",
        "            c.setFont(\"Helvetica\", 12)\n",
        "            y_position = height - 50\n",
        "\n",
        "    c.save()\n",
        "    print(f\"PDF saved as {output_filename}\")\n",
        "\n",
        "# Example usage\n",
        "text = \"\"\"\n",
        "6. What is an E-mail? What are the different parts of an E-mail?\n",
        "E-mail (electronic mail) is the most popular exchange of computer-stored messages\n",
        "by telecommunication. A large percentage of the total traffic over the Internet is e\n",
        "mail. E-mail can also be exchanged between online service provider users and in\n",
        "networks other than the Internet, both public and private.\n",
        "DIFFERENT PARTS OF EMAIL:\n",
        "1. Sender: It is also known as the “from line,” this is the name subscribers will see\n",
        "when they receive an email message .The sender name or from line is the outward\n",
        "facing name subscribers will see and can be considered the mask for the reply-to\n",
        "email address.\n",
        "2. Subject: The art of the subject line: what every email marketer directs about. The\n",
        "email subject line is one of the most researched and discussed components of email\n",
        "marketing messages.\n",
        "3. Pre-Header: A well-designed email includes a pre-header. Before subscriber sets\n",
        "foot in store, s/he will look to see what sits at storefront window, especially the\n",
        "email\n",
        "4. Header: Moving from the pre-header to the header, the header is the first part of\n",
        "email’s content. It’s the part of email template that does not change from email to\n",
        "email\n",
        "5. Content: The heart of email is content and images.The information which is to be\n",
        "delivered to the subscriber should be clearly mentioned.\n",
        "6. Context and Design: Depending on the kind of content sending, a well-designed\n",
        "email can come in many forms and should always aim to generate a click.\n",
        "7. Footer: The footer is critical which is generated by  email service provider; if it is\n",
        "not, make sure to include this requirement at the development stage.\n",
        "Unive\n",
        "\"\"\"\n",
        "create_pdf(text, \"teacher.pdf\")\n",
        "\n",
        "# Download the PDF in Colab\n",
        "from google.colab import files\n",
        "files.download(\"teacher.pdf\")"
      ],
      "metadata": {
        "colab": {
          "base_uri": "https://localhost:8080/",
          "height": 34
        },
        "id": "VkkI_6DIuAIr",
        "outputId": "7b68d164-4ee3-4a17-93a2-b22d9718c185"
      },
      "execution_count": 91,
      "outputs": [
        {
          "output_type": "stream",
          "name": "stdout",
          "text": [
            "PDF saved as teacher.pdf\n"
          ]
        },
        {
          "output_type": "display_data",
          "data": {
            "text/plain": [
              "<IPython.core.display.Javascript object>"
            ],
            "application/javascript": [
              "\n",
              "    async function download(id, filename, size) {\n",
              "      if (!google.colab.kernel.accessAllowed) {\n",
              "        return;\n",
              "      }\n",
              "      const div = document.createElement('div');\n",
              "      const label = document.createElement('label');\n",
              "      label.textContent = `Downloading \"${filename}\": `;\n",
              "      div.appendChild(label);\n",
              "      const progress = document.createElement('progress');\n",
              "      progress.max = size;\n",
              "      div.appendChild(progress);\n",
              "      document.body.appendChild(div);\n",
              "\n",
              "      const buffers = [];\n",
              "      let downloaded = 0;\n",
              "\n",
              "      const channel = await google.colab.kernel.comms.open(id);\n",
              "      // Send a message to notify the kernel that we're ready.\n",
              "      channel.send({})\n",
              "\n",
              "      for await (const message of channel.messages) {\n",
              "        // Send a message to notify the kernel that we're ready.\n",
              "        channel.send({})\n",
              "        if (message.buffers) {\n",
              "          for (const buffer of message.buffers) {\n",
              "            buffers.push(buffer);\n",
              "            downloaded += buffer.byteLength;\n",
              "            progress.value = downloaded;\n",
              "          }\n",
              "        }\n",
              "      }\n",
              "      const blob = new Blob(buffers, {type: 'application/binary'});\n",
              "      const a = document.createElement('a');\n",
              "      a.href = window.URL.createObjectURL(blob);\n",
              "      a.download = filename;\n",
              "      div.appendChild(a);\n",
              "      a.click();\n",
              "      div.remove();\n",
              "    }\n",
              "  "
            ]
          },
          "metadata": {}
        },
        {
          "output_type": "display_data",
          "data": {
            "text/plain": [
              "<IPython.core.display.Javascript object>"
            ],
            "application/javascript": [
              "download(\"download_674284c9-0e75-492a-b90e-60972fbf14a5\", \"teacher.pdf\", 2622)"
            ]
          },
          "metadata": {}
        }
      ]
    },
    {
      "cell_type": "code",
      "source": [
        "# Example usage\n",
        "text = \"\"\"\n",
        "What is an Email? What are different parts of Email?\n",
        "Email is a way peoples send messages on internet. It is very popular and mostly used for talking, sometimes for business, sometimes for fun. Many peoples use email every day for different things like sending homework, chatting with friends or sometimes just for nothing. It also work in different networks not only in internet but also in other places.\n",
        "\n",
        "Different Parts of Email:\n",
        "Sender: This is the person who send the email. Their name is show when someone receive it. Sometime the sender can be a person or sometimes a company sending ads.\n",
        "Subject: The subject is very important because it tell what is inside the email. Some people don't read emails if subject is boring.\n",
        "Pre-Header: This is like a small line before opening email. It’s like a trailer of movie but for email.\n",
        "Header: This is part of email that come first. It don’t change much and mostly looks same in all emails.\n",
        "Content: The content is the heart of email, it can be text, images or even just blank sometimes. Some people write very long emails but nobody read that much.\n",
        "Context and Design: If email look nice, more people will read it. Some emails have colors and some just black and white, but all emails have words.\n",
        "Footer: This is last part of email. Sometimes it have company address, sometimes it just say \"Thank You\" or some random stuff. If email is from a scam, footer might not be there.\n",
        "\n",
        "\"\"\"\n",
        "create_pdf(text, \"student.pdf\")\n",
        "\n",
        "# Download the PDF in Colab\n",
        "from google.colab import files\n",
        "files.download(\"student.pdf\")"
      ],
      "metadata": {
        "colab": {
          "base_uri": "https://localhost:8080/",
          "height": 34
        },
        "id": "Yu96IiqcvEDh",
        "outputId": "4a04d561-9d38-416b-d46e-41e77ab508e1"
      },
      "execution_count": 92,
      "outputs": [
        {
          "output_type": "stream",
          "name": "stdout",
          "text": [
            "PDF saved as student.pdf\n"
          ]
        },
        {
          "output_type": "display_data",
          "data": {
            "text/plain": [
              "<IPython.core.display.Javascript object>"
            ],
            "application/javascript": [
              "\n",
              "    async function download(id, filename, size) {\n",
              "      if (!google.colab.kernel.accessAllowed) {\n",
              "        return;\n",
              "      }\n",
              "      const div = document.createElement('div');\n",
              "      const label = document.createElement('label');\n",
              "      label.textContent = `Downloading \"${filename}\": `;\n",
              "      div.appendChild(label);\n",
              "      const progress = document.createElement('progress');\n",
              "      progress.max = size;\n",
              "      div.appendChild(progress);\n",
              "      document.body.appendChild(div);\n",
              "\n",
              "      const buffers = [];\n",
              "      let downloaded = 0;\n",
              "\n",
              "      const channel = await google.colab.kernel.comms.open(id);\n",
              "      // Send a message to notify the kernel that we're ready.\n",
              "      channel.send({})\n",
              "\n",
              "      for await (const message of channel.messages) {\n",
              "        // Send a message to notify the kernel that we're ready.\n",
              "        channel.send({})\n",
              "        if (message.buffers) {\n",
              "          for (const buffer of message.buffers) {\n",
              "            buffers.push(buffer);\n",
              "            downloaded += buffer.byteLength;\n",
              "            progress.value = downloaded;\n",
              "          }\n",
              "        }\n",
              "      }\n",
              "      const blob = new Blob(buffers, {type: 'application/binary'});\n",
              "      const a = document.createElement('a');\n",
              "      a.href = window.URL.createObjectURL(blob);\n",
              "      a.download = filename;\n",
              "      div.appendChild(a);\n",
              "      a.click();\n",
              "      div.remove();\n",
              "    }\n",
              "  "
            ]
          },
          "metadata": {}
        },
        {
          "output_type": "display_data",
          "data": {
            "text/plain": [
              "<IPython.core.display.Javascript object>"
            ],
            "application/javascript": [
              "download(\"download_b44e9db6-acca-4e64-8aed-a5308b610d1f\", \"student.pdf\", 2314)"
            ]
          },
          "metadata": {}
        }
      ]
    },
    {
      "cell_type": "code",
      "source": [
        "#ocr\n",
        "import fitz  # PyMuPDF\n",
        "\n",
        "def extract_text_from_pdf(pdf_path):\n",
        "    \"\"\"Extracts text from a given PDF file.\"\"\"\n",
        "    doc = fitz.open(pdf_path)\n",
        "    text = \"\"\n",
        "    for page in doc:\n",
        "        text += page.get_text(\"text\") + \"\\n\"\n",
        "    return text\n",
        "\n",
        "uploads = ['/content/teacher.pdf','/content/student.pdf']\n",
        "# Extract text from each uploaded PDF\n",
        "pdf_texts = {}\n",
        "for filename in uploads:\n",
        "    pdf_texts[filename] = extract_text_from_pdf(filename)\n",
        "\n",
        "# Print extracted text\n",
        "for filename, text in pdf_texts.items():\n",
        "    print(f\"\\n--- Extracted Text from {filename} ---\\n\")\n",
        "    print(text)"
      ],
      "metadata": {
        "colab": {
          "base_uri": "https://localhost:8080/"
        },
        "id": "7N1xOTP5slPU",
        "outputId": "51881eda-b824-4fbf-eb75-17293d06bb7f"
      },
      "execution_count": 95,
      "outputs": [
        {
          "output_type": "stream",
          "name": "stdout",
          "text": [
            "\n",
            "--- Extracted Text from /content/teacher.pdf ---\n",
            "\n",
            "6. What is an E-mail? What are the different parts of an E-mail? \n",
            "E-mail (electronic mail) is the most popular exchange of computer-stored messages \n",
            "by telecommunication. A large percentage of the total traffic over the Internet is e\n",
            "mail. E-mail can also be exchanged between online service provider users and in \n",
            "networks other than the Internet, both public and private. \n",
            "DIFFERENT PARTS OF EMAIL: \n",
            "1. Sender: It is also known as the “from line,” this is the name subscribers will see \n",
            "when they receive an email message .The sender name or from line is the outward \n",
            "facing name subscribers will see and can be considered the mask for the reply-to \n",
            "email address. \n",
            "2. Subject: The art of the subject line: what every email marketer directs about. The \n",
            "email subject line is one of the most researched and discussed components of email \n",
            "marketing messages.  \n",
            "3. Pre-Header: A well-designed email includes a pre-header. Before subscriber sets \n",
            "foot in store, s/he will look to see what sits at storefront window, especially the \n",
            "email  \n",
            "4. Header: Moving from the pre-header to the header, the header is the first part of \n",
            "email’s content. It’s the part of email template that does not change from email to \n",
            "email  \n",
            "5. Content: The heart of email is content and images.The information which is to be \n",
            "delivered to the subscriber should be clearly mentioned. \n",
            "6. Context and Design: Depending on the kind of content sending, a well-designed \n",
            "email can come in many forms and should always aim to generate a click. \n",
            "7. Footer: The footer is critical which is generated by  email service provider; if it is \n",
            "not, make sure to include this requirement at the development stage. \n",
            "Unive\n",
            "\n",
            "\n",
            "\n",
            "--- Extracted Text from /content/student.pdf ---\n",
            "\n",
            "What is an Email? What are different parts of Email?\n",
            "Email is a way peoples send messages on internet. It is very popular and mostly used for talking, sometim\n",
            "Different Parts of Email:\n",
            "Sender: This is the person who send the email. Their name is show when someone receive it. Sometime th\n",
            "Subject: The subject is very important because it tell what is inside the email. Some people don't read ema\n",
            "Pre-Header: This is like a small line before opening email. It’s like a trailer of movie but for email.\n",
            "Header: This is part of email that come first. It don’t change much and mostly looks same in all emails.\n",
            "Content: The content is the heart of email, it can be text, images or even just blank sometimes. Some peop\n",
            "Context and Design: If email look nice, more people will read it. Some emails have colors and some just bl\n",
            "Footer: This is last part of email. Sometimes it have company address, sometimes it just say \"Thank You\" \n",
            "\n",
            "\n"
          ]
        }
      ]
    },
    {
      "cell_type": "code",
      "source": [
        "print(pdf_texts)"
      ],
      "metadata": {
        "colab": {
          "base_uri": "https://localhost:8080/"
        },
        "id": "tWri7j8rvv1n",
        "outputId": "7bda8015-fac8-4bf5-aeb9-544f97ce890c"
      },
      "execution_count": 96,
      "outputs": [
        {
          "output_type": "stream",
          "name": "stdout",
          "text": [
            "{'/content/teacher.pdf': '6. What is an E-mail? What are the different parts of an E-mail? \\nE-mail (electronic mail) is the most popular exchange of computer-stored messages \\nby telecommunication. A large percentage of the total traffic over the Internet is e\\nmail. E-mail can also be exchanged between online service provider users and in \\nnetworks other than the Internet, both public and private. \\nDIFFERENT PARTS OF EMAIL: \\n1. Sender: It is also known as the “from line,” this is the name subscribers will see \\nwhen they receive an email message .The sender name or from line is the outward \\nfacing name subscribers will see and can be considered the mask for the reply-to \\nemail address. \\n2. Subject: The art of the subject line: what every email marketer directs about. The \\nemail subject line is one of the most researched and discussed components of email \\nmarketing messages.  \\n3. Pre-Header: A well-designed email includes a pre-header. Before subscriber sets \\nfoot in store, s/he will look to see what sits at storefront window, especially the \\nemail  \\n4. Header: Moving from the pre-header to the header, the header is the first part of \\nemail’s content. It’s the part of email template that does not change from email to \\nemail  \\n5. Content: The heart of email is content and images.The information which is to be \\ndelivered to the subscriber should be clearly mentioned. \\n6. Context and Design: Depending on the kind of content sending, a well-designed \\nemail can come in many forms and should always aim to generate a click. \\n7. Footer: The footer is critical which is generated by  email service provider; if it is \\nnot, make sure to include this requirement at the development stage. \\nUnive\\n\\n', '/content/student.pdf': 'What is an Email? What are different parts of Email?\\nEmail is a way peoples send messages on internet. It is very popular and mostly used for talking, sometim\\nDifferent Parts of Email:\\nSender: This is the person who send the email. Their name is show when someone receive it. Sometime th\\nSubject: The subject is very important because it tell what is inside the email. Some people don\\'t read ema\\nPre-Header: This is like a small line before opening email. It’s like a trailer of movie but for email.\\nHeader: This is part of email that come first. It don’t change much and mostly looks same in all emails.\\nContent: The content is the heart of email, it can be text, images or even just blank sometimes. Some peop\\nContext and Design: If email look nice, more people will read it. Some emails have colors and some just bl\\nFooter: This is last part of email. Sometimes it have company address, sometimes it just say \"Thank You\" \\n\\n'}\n"
          ]
        }
      ]
    },
    {
      "cell_type": "code",
      "source": [
        "# Sample Input\n",
        "data = PipelineState(\n",
        "    teacher_text=pdf_texts['/content/teacher.pdf'],\n",
        "    student_text=pdf_texts['/content/student.pdf']\n",
        ")\n",
        "\n",
        "# Run pipeline\n",
        "result = app.invoke(data)\n",
        "\n",
        "# Output final LLM feedback\n",
        "print(\"\\nFinal LLM Feedback:\\n\", result['llm_feedback'])"
      ],
      "metadata": {
        "id": "yeB5PxypnlE-",
        "colab": {
          "base_uri": "https://localhost:8080/"
        },
        "outputId": "eac8e062-4d1b-4e7c-8c02-fd6e560341ff"
      },
      "execution_count": 97,
      "outputs": [
        {
          "output_type": "stream",
          "name": "stdout",
          "text": [
            "\n",
            "Final LLM Feedback:\n",
            " <think>\n",
            "Okay, so I need to figure out how to help this student improve their answer based on the scores provided. Let's break it down.\n",
            "\n",
            "First, the Semantic Similarity Score is 0.813. That means the student's answer is pretty close to the target answer in terms of meaning, but maybe there's room for a bit more accuracy. Maybe they missed some key points or didn't elaborate enough on certain areas.\n",
            "\n",
            "Next, the Syntactic Score is 0.655. That's lower, so the sentence structure might not be as clear or varied as it could be. Perhaps the student's sentences are a bit choppy or not well-connected. They could benefit from working on their sentence formation to make their writing flow better.\n",
            "\n",
            "The Grammar Score is 0.959, which is really high. That means their writing is mostly free of grammatical errors. They have a good handle on the mechanics of writing, so that's a strong point.\n",
            "\n",
            "The Readability Score is 0.709. This suggests that while the answer is understandable, it might be a bit dense or hard to follow in some parts. Maybe the student uses complex sentences that could be simplified or broken down for better clarity.\n",
            "\n",
            "Putting this all together, the student is doing well in terms of grammar but could improve in making their writing clearer and more engaging. They should focus on varying their sentence structures and ensuring that their ideas are presented in a logical flow. Additionally, making sure they cover all key points from the target answer could help boost their semantic similarity.\n",
            "\n",
            "I should also consider how to present this feedback in a constructive way. The student might need specific examples of how to restructure sentences or how to check for completeness in their answers. Maybe suggesting they outline their points before writing could help them stay on track and cover all necessary aspects.\n",
            "\n",
            "I wonder if the lower syntactic and readability scores are related. If their sentences are structurally similar or repetitive, that could affect both scores. Encouraging the use of different sentence structures and transitions might address both issues.\n",
            "\n",
            "Also, since their grammar is strong, they might not need to focus much there, but it's always good to remind them to proofread, just in case. Maybe they can use tools or get a second opinion to catch any minor errors they might have missed.\n",
            "\n",
            "In terms of the final score, averaging the four might give a good overall assessment. Let me calculate that: (0.813 + 0.655 + 0.959 + 0.709) / 4 = roughly 0.784, so around 78.4. Rounding up, maybe 78 or 79.\n",
            "\n",
            "So, the feedback should highlight their strengths in grammar and the areas they can improve in, like structure, clarity, and completeness of their answers. Providing actionable steps will help them know exactly what to work on next time.\n",
            "</think>\n",
            "\n",
            "**Final Score: 78/100**\n",
            "\n",
            "**Feedback:**\n",
            "\n",
            "The student has demonstrated a strong command of grammar, with a score of 0.959, indicating minimal errors in their writing. However, there are areas where improvement can enhance the quality of their answers:\n",
            "\n",
            "1. **Semantic Similarity (0.813):** While the answer is close to the target, there may be key points missed or underdeveloped. Focus on thoroughly addressing all aspects of the question to increase accuracy.\n",
            "\n",
            "2. **Syntactic Structure (0.655):** Vary sentence structures and use transitions to improve flow. Consider revising sentences for clarity and connection to make the writing more engaging.\n",
            "\n",
            "3. **Readability (0.709):** Simplify complex sentences and ensure ideas are logically presented. Outlining before writing can help maintain focus and cover all necessary points.\n",
            "\n",
            "**Actionable Steps:**\n",
            "- Practice structuring sentences with varied beginnings and lengths.\n",
            "- Use transitional phrases to connect ideas smoothly.\n",
            "- Outline key points before writing to ensure completeness.\n",
            "- Consider proofreading tools or peer reviews to catch any overlooked errors.\n",
            "\n",
            "By addressing these areas, the student can enhance their writing's clarity and completeness, leading to higher scores in the future.\n"
          ]
        }
      ]
    },
    {
      "cell_type": "code",
      "source": [],
      "metadata": {
        "id": "XPLh215fv3Nj"
      },
      "execution_count": null,
      "outputs": []
    }
  ]
}