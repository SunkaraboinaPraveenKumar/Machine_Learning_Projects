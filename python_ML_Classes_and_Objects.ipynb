{
  "nbformat": 4,
  "nbformat_minor": 0,
  "metadata": {
    "colab": {
      "provenance": [],
      "authorship_tag": "ABX9TyPmaNof/WfgQRZ5+7WkapGF",
      "include_colab_link": true
    },
    "kernelspec": {
      "name": "python3",
      "display_name": "Python 3"
    },
    "language_info": {
      "name": "python"
    }
  },
  "cells": [
    {
      "cell_type": "markdown",
      "metadata": {
        "id": "view-in-github",
        "colab_type": "text"
      },
      "source": [
        "<a href=\"https://colab.research.google.com/github/SunkaraboinaPraveenKumar/Machine_Learning_Projects/blob/main/python_ML_Classes_and_Objects.ipynb\" target=\"_parent\"><img src=\"https://colab.research.google.com/assets/colab-badge.svg\" alt=\"Open In Colab\"/></a>"
      ]
    },
    {
      "cell_type": "code",
      "execution_count": null,
      "metadata": {
        "id": "_J1RB0fpZVX9"
      },
      "outputs": [],
      "source": [
        "m1=[[1,2,3],[4,5,6]] # p,q\n",
        "m2=[[7,10],[8,11],[9,12]] #q,r"
      ]
    },
    {
      "cell_type": "code",
      "source": [
        "def matmul(m1,m2):\n",
        "  p=len(m1)\n",
        "  q1=len(m1[0])\n",
        "  q2=len(m2)\n",
        "  r=len(m2[0])\n",
        "  m3=[]\n",
        "  for i in range(p):\n",
        "    m3row=[]\n",
        "    for j in range(r):\n",
        "      m3row.append(0)\n",
        "    m3.append(m3row)\n",
        "  if q1==q2:\n",
        "    q=q1\n",
        "    for k in range(p):\n",
        "      m3[k][j]=0\n",
        "      for j in range(r):\n",
        "        for i in range(q):\n",
        "          m3[k][j]+=m1[k][i]*m2[i][j]\n",
        "  else:\n",
        "    print(\"multiplication not possible\")\n",
        "    return\n",
        "  return m3"
      ],
      "metadata": {
        "id": "RzrEaTpUav3q"
      },
      "execution_count": null,
      "outputs": []
    },
    {
      "cell_type": "code",
      "source": [
        "result = matmul(m1,m2)\n",
        "print(result)"
      ],
      "metadata": {
        "colab": {
          "base_uri": "https://localhost:8080/"
        },
        "id": "air2cxyMbDoD",
        "outputId": "7f614bfd-fc48-46d8-a808-5deba4fb718c"
      },
      "execution_count": null,
      "outputs": [
        {
          "output_type": "stream",
          "name": "stdout",
          "text": [
            "[[50, 68], [122, 167]]\n"
          ]
        }
      ]
    },
    {
      "cell_type": "markdown",
      "source": [
        "#Classes in Python"
      ],
      "metadata": {
        "id": "8SgYYzf75nZe"
      }
    },
    {
      "cell_type": "code",
      "source": [
        "class Book:\n",
        "  pass"
      ],
      "metadata": {
        "id": "0cddPJvvb5Gd"
      },
      "execution_count": null,
      "outputs": []
    },
    {
      "cell_type": "code",
      "source": [
        "book1=Book()\n",
        "print(book1)"
      ],
      "metadata": {
        "colab": {
          "base_uri": "https://localhost:8080/"
        },
        "id": "n1SQf7ki5l1a",
        "outputId": "20c8b0d1-dd37-4d39-cd17-fa7fd9ea395c"
      },
      "execution_count": null,
      "outputs": [
        {
          "output_type": "stream",
          "name": "stdout",
          "text": [
            "<__main__.Book object at 0x7f707d052b10>\n"
          ]
        }
      ]
    },
    {
      "cell_type": "code",
      "source": [
        "class Book:\n",
        "  category=\"Literature\"\n",
        "  def print_category(self):\n",
        "    print(f\"The book category is ${self.category}\")"
      ],
      "metadata": {
        "id": "ood0QyQW51TC"
      },
      "execution_count": null,
      "outputs": []
    },
    {
      "cell_type": "code",
      "source": [
        "book1=Book()\n",
        "print(book1)"
      ],
      "metadata": {
        "id": "FxFRGhXU6GB3",
        "colab": {
          "base_uri": "https://localhost:8080/"
        },
        "outputId": "1d256ce1-04fd-42c1-f759-30ebd3fe75fa"
      },
      "execution_count": null,
      "outputs": [
        {
          "output_type": "stream",
          "name": "stdout",
          "text": [
            "<__main__.Book object at 0x7f707c58c3d0>\n"
          ]
        }
      ]
    },
    {
      "cell_type": "code",
      "source": [
        "print(book1.category)\n",
        "book1.print_category"
      ],
      "metadata": {
        "id": "ZmMi3FM56ISQ",
        "colab": {
          "base_uri": "https://localhost:8080/",
          "height": 120
        },
        "outputId": "ed4ec697-13f6-4ea2-aac1-110f4d6f526f"
      },
      "execution_count": null,
      "outputs": [
        {
          "output_type": "stream",
          "name": "stdout",
          "text": [
            "Literature\n"
          ]
        },
        {
          "output_type": "execute_result",
          "data": {
            "text/plain": [
              "<bound method Book.print_category of <__main__.Book object at 0x7f707c58c3d0>>"
            ],
            "text/html": [
              "<div style=\"max-width:800px; border: 1px solid var(--colab-border-color);\"><style>\n",
              "      pre.function-repr-contents {\n",
              "        overflow-x: auto;\n",
              "        padding: 8px 12px;\n",
              "        max-height: 500px;\n",
              "      }\n",
              "\n",
              "      pre.function-repr-contents.function-repr-contents-collapsed {\n",
              "        cursor: pointer;\n",
              "        max-height: 100px;\n",
              "      }\n",
              "    </style>\n",
              "    <pre style=\"white-space: initial; background:\n",
              "         var(--colab-secondary-surface-color); padding: 8px 12px;\n",
              "         border-bottom: 1px solid var(--colab-border-color);\"><b>Book.print_category</b><br/>def print_category()</pre><pre class=\"function-repr-contents function-repr-contents-collapsed\" style=\"\"><a class=\"filepath\" style=\"display:none\" href=\"#\">/content/&lt;ipython-input-49-22b4af5fadf8&gt;</a>&lt;no docstring&gt;</pre></div>"
            ]
          },
          "metadata": {},
          "execution_count": 51
        }
      ]
    },
    {
      "cell_type": "code",
      "source": [
        "class Book:\n",
        "  def __init__(self, title, author,pages, category):\n",
        "    self.title=title\n",
        "    self.author=author\n",
        "    self.pages=pages\n",
        "    self.category=category\n",
        "\n",
        "  def print_category(self):\n",
        "    print(f\"The book category is {self.category}\")"
      ],
      "metadata": {
        "id": "TPq5XMta6Nfs"
      },
      "execution_count": null,
      "outputs": []
    },
    {
      "cell_type": "code",
      "source": [
        "book1=Book(\"The Alchemist\",\"Paulo Coelho\",200,\"Fiction\")"
      ],
      "metadata": {
        "id": "7C3GQ9Ok7RAY"
      },
      "execution_count": null,
      "outputs": []
    },
    {
      "cell_type": "code",
      "source": [
        "print(book1.author)\n",
        "book1.print_category()"
      ],
      "metadata": {
        "colab": {
          "base_uri": "https://localhost:8080/"
        },
        "id": "Ebdy-DLL7Ss7",
        "outputId": "8b005619-7287-4c6c-dcfc-8b1e2d127d02"
      },
      "execution_count": null,
      "outputs": [
        {
          "output_type": "stream",
          "name": "stdout",
          "text": [
            "Paulo Coelho\n",
            "The book category is Fiction\n"
          ]
        }
      ]
    },
    {
      "cell_type": "code",
      "source": [
        "#inheritance"
      ],
      "metadata": {
        "id": "Tc-dH6iM7XGU"
      },
      "execution_count": null,
      "outputs": []
    },
    {
      "cell_type": "code",
      "source": [
        "class eBook(Book):\n",
        "  def __init__(self, title, author, pages, category, price, size_in_mb):\n",
        "    super().__init__(title, author, pages, category)\n",
        "    self.size_in_mb=size_in_mb\n",
        "    self.price=price\n",
        "\n",
        "  def print_attr(self):\n",
        "    print(f\"The book category is {self.category}\")\n",
        "    print(f\"The book price is {self.price}\")\n",
        "    print(f\"The book size is {self.size_in_mb}\")\n",
        "    print(f\"The book title is {self.title}\")\n",
        "    print(f\"The book author is {self.author}\")"
      ],
      "metadata": {
        "id": "afU-qm8G7wuJ"
      },
      "execution_count": null,
      "outputs": []
    },
    {
      "cell_type": "code",
      "source": [
        "book2=eBook(\"The Alchemist\",\"Paulo Coelho\",200,\"Fiction\",100,20)"
      ],
      "metadata": {
        "id": "s2_CdxxF8Q2_"
      },
      "execution_count": null,
      "outputs": []
    },
    {
      "cell_type": "code",
      "source": [
        "book2.print_attr()"
      ],
      "metadata": {
        "colab": {
          "base_uri": "https://localhost:8080/"
        },
        "id": "f0Wwv3zH8VV3",
        "outputId": "732caf37-89ca-4cef-f0e7-90c03f5e99de"
      },
      "execution_count": null,
      "outputs": [
        {
          "output_type": "stream",
          "name": "stdout",
          "text": [
            "The book category is Fiction\n",
            "The book price is 100\n",
            "The book size is 20\n",
            "The book title is The Alchemist\n",
            "The book author is Paulo Coelho\n"
          ]
        }
      ]
    },
    {
      "cell_type": "code",
      "source": [
        "print(isinstance(book2,eBook))"
      ],
      "metadata": {
        "colab": {
          "base_uri": "https://localhost:8080/"
        },
        "id": "KFVbZA9a8WDL",
        "outputId": "42595904-229c-4961-d432-a5b564975648"
      },
      "execution_count": null,
      "outputs": [
        {
          "output_type": "stream",
          "name": "stdout",
          "text": [
            "True\n"
          ]
        }
      ]
    },
    {
      "cell_type": "code",
      "source": [
        "print(book2.price)"
      ],
      "metadata": {
        "colab": {
          "base_uri": "https://localhost:8080/"
        },
        "id": "Bu9AXNaI8iRa",
        "outputId": "5e7d5da3-8640-4c32-c97d-2f9141e07ffc"
      },
      "execution_count": null,
      "outputs": [
        {
          "output_type": "stream",
          "name": "stdout",
          "text": [
            "100\n"
          ]
        }
      ]
    },
    {
      "cell_type": "code",
      "source": [
        "class DetailedBook(eBook):\n",
        "  def __init__(self, title, author, pages, category, price, size_in_mb, rating,reviews):\n",
        "    super().__init__(title, author, pages, category, price, size_in_mb)\n",
        "    self.rating=rating\n",
        "    self.reviews=reviews\n",
        "\n",
        "  def print_attr(self):\n",
        "    super().print_attr()\n",
        "    print(f\"The book rating is {self.rating}\")\n",
        "    print(f\"The book reviews are {self.reviews}\")"
      ],
      "metadata": {
        "id": "vB3quZKd8kVB"
      },
      "execution_count": null,
      "outputs": []
    },
    {
      "cell_type": "code",
      "source": [
        "book_detail=DetailedBook(\"The Alchemist\",\"Paulo Coelho\",200,\"Fiction\",100,20,4.5,1000)"
      ],
      "metadata": {
        "id": "jPYk-fKu9GE9"
      },
      "execution_count": null,
      "outputs": []
    },
    {
      "cell_type": "code",
      "source": [
        "book_detail.print_attr()"
      ],
      "metadata": {
        "colab": {
          "base_uri": "https://localhost:8080/"
        },
        "id": "nPPwgItC9Ii1",
        "outputId": "0088da9e-5c92-44dc-806e-45b634470299"
      },
      "execution_count": null,
      "outputs": [
        {
          "output_type": "stream",
          "name": "stdout",
          "text": [
            "The book category is Fiction\n",
            "The book price is 100\n",
            "The book size is 20\n",
            "The book title is The Alchemist\n",
            "The book author is Paulo Coelho\n",
            "The book rating is 4.5\n",
            "The book reviews are 1000\n"
          ]
        }
      ]
    },
    {
      "cell_type": "code",
      "source": [
        "book_detail.print_category()"
      ],
      "metadata": {
        "colab": {
          "base_uri": "https://localhost:8080/"
        },
        "id": "ke0jqgLf90tU",
        "outputId": "dacc4a37-97e9-4b56-8a3d-4e857c7ea30f"
      },
      "execution_count": null,
      "outputs": [
        {
          "output_type": "stream",
          "name": "stdout",
          "text": [
            "The book category is Fiction\n"
          ]
        }
      ]
    },
    {
      "cell_type": "code",
      "source": [
        "name=\"Alice\"\n",
        "print(name)"
      ],
      "metadata": {
        "colab": {
          "base_uri": "https://localhost:8080/"
        },
        "id": "SOwXciXp-Zik",
        "outputId": "6841158f-c819-4949-dd5f-6175ae4edcde"
      },
      "execution_count": null,
      "outputs": [
        {
          "output_type": "stream",
          "name": "stdout",
          "text": [
            "Alice\n"
          ]
        }
      ]
    },
    {
      "cell_type": "code",
      "source": [
        "print(type(name))"
      ],
      "metadata": {
        "colab": {
          "base_uri": "https://localhost:8080/"
        },
        "id": "hoOW6eB6_TT9",
        "outputId": "0da2164b-3d3b-4fce-89f5-4082f1614a3f"
      },
      "execution_count": null,
      "outputs": [
        {
          "output_type": "stream",
          "name": "stdout",
          "text": [
            "<class 'str'>\n"
          ]
        }
      ]
    },
    {
      "cell_type": "code",
      "source": [
        "# no standalone char datatype in python"
      ],
      "metadata": {
        "id": "kRw8TEFb_VOl"
      },
      "execution_count": null,
      "outputs": []
    },
    {
      "cell_type": "code",
      "source": [
        "int_data=2\n",
        "print(type(int_data))"
      ],
      "metadata": {
        "colab": {
          "base_uri": "https://localhost:8080/"
        },
        "id": "c-yC2-Cw_csa",
        "outputId": "fd9555e8-3689-4eaf-d722-3df7a8160fd2"
      },
      "execution_count": null,
      "outputs": [
        {
          "output_type": "stream",
          "name": "stdout",
          "text": [
            "<class 'int'>\n"
          ]
        }
      ]
    },
    {
      "cell_type": "code",
      "source": [
        "float_data=2.0\n",
        "print(type(float_data))"
      ],
      "metadata": {
        "colab": {
          "base_uri": "https://localhost:8080/"
        },
        "id": "Y5CL1rNq_hL9",
        "outputId": "4a6b44ad-8244-4742-c224-1b1d3a1042fc"
      },
      "execution_count": null,
      "outputs": [
        {
          "output_type": "stream",
          "name": "stdout",
          "text": [
            "<class 'float'>\n"
          ]
        }
      ]
    },
    {
      "cell_type": "code",
      "source": [
        "bool_data=False\n",
        "print(type(bool_data))"
      ],
      "metadata": {
        "colab": {
          "base_uri": "https://localhost:8080/"
        },
        "id": "04opaPx9_kfK",
        "outputId": "bb4816a4-f359-4d66-e53b-eeb7b2c2a8fe"
      },
      "execution_count": null,
      "outputs": [
        {
          "output_type": "stream",
          "name": "stdout",
          "text": [
            "<class 'bool'>\n"
          ]
        }
      ]
    },
    {
      "cell_type": "code",
      "source": [
        "list_data=[1,2,3,4,5]\n",
        "print(type(list_data))"
      ],
      "metadata": {
        "colab": {
          "base_uri": "https://localhost:8080/"
        },
        "id": "8ap09Sl6_pXn",
        "outputId": "c06035d4-8a58-45f6-c568-ace84333dbe2"
      },
      "execution_count": null,
      "outputs": [
        {
          "output_type": "stream",
          "name": "stdout",
          "text": [
            "<class 'list'>\n"
          ]
        }
      ]
    },
    {
      "cell_type": "code",
      "source": [
        "dict_data={\"name\":\"Alice\",\"age\":20}\n",
        "print(type(dict_data))"
      ],
      "metadata": {
        "colab": {
          "base_uri": "https://localhost:8080/"
        },
        "id": "dgXfYykY_sDn",
        "outputId": "99def2aa-ddb3-4632-ab0d-cafc5cec3b92"
      },
      "execution_count": null,
      "outputs": [
        {
          "output_type": "stream",
          "name": "stdout",
          "text": [
            "<class 'dict'>\n"
          ]
        }
      ]
    },
    {
      "cell_type": "code",
      "source": [
        "print(\"name is\", {dict_data[\"name\"]})"
      ],
      "metadata": {
        "colab": {
          "base_uri": "https://localhost:8080/"
        },
        "id": "UsWXy3vJ_uyP",
        "outputId": "0499a137-421e-44ba-dd12-72fb21ddec04"
      },
      "execution_count": null,
      "outputs": [
        {
          "output_type": "stream",
          "name": "stdout",
          "text": [
            "name is {'Alice'}\n"
          ]
        }
      ]
    },
    {
      "cell_type": "code",
      "source": [
        "print(\"name is\", {dict_data.get(\"name\")})"
      ],
      "metadata": {
        "colab": {
          "base_uri": "https://localhost:8080/"
        },
        "id": "p-gcELZR_2Xs",
        "outputId": "d7fc0752-8ddf-4488-afbf-e5411daa65d3"
      },
      "execution_count": null,
      "outputs": [
        {
          "output_type": "stream",
          "name": "stdout",
          "text": [
            "name is {'Alice'}\n"
          ]
        }
      ]
    },
    {
      "cell_type": "code",
      "source": [
        "#Python classes and objects"
      ],
      "metadata": {
        "id": "EP7LbomGAI8N"
      },
      "execution_count": 1,
      "outputs": []
    },
    {
      "cell_type": "code",
      "source": [
        "class Dog:\n",
        "  def __init__(self,name,age):\n",
        "    self.name=name\n",
        "    self.age=age\n",
        "  def bark(self):\n",
        "    print(f\"{self.name} is barking\")\n",
        "\n",
        "my_dog=Dog(\"Chotu\",3)\n",
        "my_dog.bark()"
      ],
      "metadata": {
        "colab": {
          "base_uri": "https://localhost:8080/"
        },
        "id": "4DJc0fzT5VMA",
        "outputId": "cc51fa32-7abe-4720-ded9-b7914b7115cc"
      },
      "execution_count": 3,
      "outputs": [
        {
          "output_type": "stream",
          "name": "stdout",
          "text": [
            "Chotu is barking\n"
          ]
        }
      ]
    },
    {
      "cell_type": "code",
      "source": [
        "print(f\"my dog age is {my_dog.age}\")"
      ],
      "metadata": {
        "colab": {
          "base_uri": "https://localhost:8080/"
        },
        "id": "FnHY7Vu85rrg",
        "outputId": "b47165fc-b202-4ade-98cd-dc01af7c3afc"
      },
      "execution_count": 5,
      "outputs": [
        {
          "output_type": "stream",
          "name": "stdout",
          "text": [
            "my dog age is 3\n"
          ]
        }
      ]
    },
    {
      "cell_type": "code",
      "source": [
        "# __init__ : The constructor, runs when we create a new object\n",
        "# self : Refers to the instance (object) itself\n",
        "# bark: A method (like a function inside a class)"
      ],
      "metadata": {
        "id": "BGuoTt7-573-"
      },
      "execution_count": 6,
      "outputs": []
    },
    {
      "cell_type": "code",
      "source": [
        "# Linear Regression"
      ],
      "metadata": {
        "id": "3dv7Ixhr6Wgy"
      },
      "execution_count": 7,
      "outputs": []
    },
    {
      "cell_type": "code",
      "source": [
        "# price = weight*size+bias\n",
        "# find the best weight and bias that best fits our data\n",
        "# minimize the mean squared error"
      ],
      "metadata": {
        "id": "kGKEApRg6j7u"
      },
      "execution_count": 10,
      "outputs": []
    },
    {
      "cell_type": "code",
      "source": [
        "import numpy as np\n",
        "\n",
        "class LinearRegression:\n",
        "  def __init__(self,learning_rate=0.01,epochs=100):\n",
        "    self.learning_rate=learning_rate\n",
        "    self.epochs=epochs\n",
        "    self.weight=0\n",
        "    self.bias=0\n",
        "\n",
        "  def predict(self, X):\n",
        "    return self.weight*X+self.bias\n",
        "\n",
        "  def compute_loss(self, y_true, y_pred):\n",
        "    return np.mean((y_true-y_pred)**2)\n",
        "\n",
        "  def fit(self, X,y):\n",
        "    # vennila gradient descent\n",
        "    n=len(X)\n",
        "\n",
        "    for i in range(self.epochs):\n",
        "      y_pred=self.predict(X)\n",
        "      dw=(-2/n)*np.sum(X*(y-y_pred))\n",
        "      db=(-2/n)*np.sum(y-y_pred)\n",
        "\n",
        "      self.weight-=self.learning_rate*dw\n",
        "      self.bias-=self.learning_rate*db\n",
        "\n",
        "      if i%10==0:\n",
        "        loss=self.compute_loss(y,y_pred)\n",
        "        print(f\"Epoch {i}, Loss: {loss:.4f}, Weight: {self.weight:.4f}, Bias: {self.bias:.4f}\")\n",
        "\n",
        "  def evaluate(self, X, y):\n",
        "    y_pred=self.predict(X)\n",
        "    loss=self.compute_loss(y,y_pred)\n",
        "    print(f\"Final Loss: {loss:.4f}\")\n",
        ""
      ],
      "metadata": {
        "id": "RiB-1MVc6nCW"
      },
      "execution_count": 12,
      "outputs": []
    },
    {
      "cell_type": "code",
      "source": [
        "# Creating some sample data\n",
        "X=np.array([1,2,3,4,5],dtype=np.float32)\n",
        "y=np.array([2,4,6,8,10],dtype=np.float32)\n",
        "\n",
        "model=LinearRegression(learning_rate=0.01,epochs=100)\n",
        "\n",
        "model.fit(X, y)\n",
        "\n",
        "model.evaluate(X, y)\n",
        "\n",
        "print(\"Predicted Price for size 6:\", model.predict(6))"
      ],
      "metadata": {
        "colab": {
          "base_uri": "https://localhost:8080/"
        },
        "id": "DZUdwdhU7Yy7",
        "outputId": "829845e3-e635-4628-9863-4d8c0b90bdd2"
      },
      "execution_count": 13,
      "outputs": [
        {
          "output_type": "stream",
          "name": "stdout",
          "text": [
            "Epoch 0, Loss: 44.0000, Weight: 0.4400, Bias: 0.1200\n",
            "Epoch 10, Loss: 0.2435, Weight: 1.7674, Bias: 0.4693\n",
            "Epoch 20, Loss: 0.0430, Weight: 1.8609, Bias: 0.4774\n",
            "Epoch 30, Loss: 0.0393, Weight: 1.8713, Bias: 0.4631\n",
            "Epoch 40, Loss: 0.0367, Weight: 1.8759, Bias: 0.4478\n",
            "Epoch 50, Loss: 0.0343, Weight: 1.8801, Bias: 0.4329\n",
            "Epoch 60, Loss: 0.0321, Weight: 1.8841, Bias: 0.4185\n",
            "Epoch 70, Loss: 0.0300, Weight: 1.8880, Bias: 0.4045\n",
            "Epoch 80, Loss: 0.0280, Weight: 1.8917, Bias: 0.3911\n",
            "Epoch 90, Loss: 0.0262, Weight: 1.8953, Bias: 0.3780\n",
            "Final Loss: 0.0245\n",
            "Predicted Price for size 6: 11.757286\n"
          ]
        }
      ]
    },
    {
      "cell_type": "code",
      "source": [
        "# Creating some sample data\n",
        "X=np.array([1,2,3,4,5],dtype=np.float32)\n",
        "y=np.array([2,4,6,8,10],dtype=np.float32)\n",
        "\n",
        "model=LinearRegression(learning_rate=0.01,epochs=500)\n",
        "\n",
        "model.fit(X, y)\n",
        "\n",
        "model.evaluate(X, y)\n",
        "\n",
        "print(\"Predicted Price for size 6:\", model.predict(6))"
      ],
      "metadata": {
        "colab": {
          "base_uri": "https://localhost:8080/"
        },
        "id": "ks7mbzL19nqq",
        "outputId": "9d64bb98-6ad7-45f1-de86-b82317b32a09"
      },
      "execution_count": 14,
      "outputs": [
        {
          "output_type": "stream",
          "name": "stdout",
          "text": [
            "Epoch 0, Loss: 44.0000, Weight: 0.4400, Bias: 0.1200\n",
            "Epoch 10, Loss: 0.2435, Weight: 1.7674, Bias: 0.4693\n",
            "Epoch 20, Loss: 0.0430, Weight: 1.8609, Bias: 0.4774\n",
            "Epoch 30, Loss: 0.0393, Weight: 1.8713, Bias: 0.4631\n",
            "Epoch 40, Loss: 0.0367, Weight: 1.8759, Bias: 0.4478\n",
            "Epoch 50, Loss: 0.0343, Weight: 1.8801, Bias: 0.4329\n",
            "Epoch 60, Loss: 0.0321, Weight: 1.8841, Bias: 0.4185\n",
            "Epoch 70, Loss: 0.0300, Weight: 1.8880, Bias: 0.4045\n",
            "Epoch 80, Loss: 0.0280, Weight: 1.8917, Bias: 0.3911\n",
            "Epoch 90, Loss: 0.0262, Weight: 1.8953, Bias: 0.3780\n",
            "Epoch 100, Loss: 0.0245, Weight: 1.8988, Bias: 0.3655\n",
            "Epoch 110, Loss: 0.0229, Weight: 1.9021, Bias: 0.3533\n",
            "Epoch 120, Loss: 0.0214, Weight: 1.9054, Bias: 0.3415\n",
            "Epoch 130, Loss: 0.0200, Weight: 1.9086, Bias: 0.3301\n",
            "Epoch 140, Loss: 0.0187, Weight: 1.9116, Bias: 0.3192\n",
            "Epoch 150, Loss: 0.0174, Weight: 1.9145, Bias: 0.3085\n",
            "Epoch 160, Loss: 0.0163, Weight: 1.9174, Bias: 0.2982\n",
            "Epoch 170, Loss: 0.0152, Weight: 1.9201, Bias: 0.2883\n",
            "Epoch 180, Loss: 0.0142, Weight: 1.9228, Bias: 0.2787\n",
            "Epoch 190, Loss: 0.0133, Weight: 1.9254, Bias: 0.2694\n",
            "Epoch 200, Loss: 0.0124, Weight: 1.9279, Bias: 0.2605\n",
            "Epoch 210, Loss: 0.0116, Weight: 1.9303, Bias: 0.2518\n",
            "Epoch 220, Loss: 0.0109, Weight: 1.9326, Bias: 0.2434\n",
            "Epoch 230, Loss: 0.0101, Weight: 1.9348, Bias: 0.2353\n",
            "Epoch 240, Loss: 0.0095, Weight: 1.9370, Bias: 0.2275\n",
            "Epoch 250, Loss: 0.0089, Weight: 1.9391, Bias: 0.2199\n",
            "Epoch 260, Loss: 0.0083, Weight: 1.9411, Bias: 0.2126\n",
            "Epoch 270, Loss: 0.0077, Weight: 1.9431, Bias: 0.2055\n",
            "Epoch 280, Loss: 0.0072, Weight: 1.9450, Bias: 0.1986\n",
            "Epoch 290, Loss: 0.0068, Weight: 1.9468, Bias: 0.1920\n",
            "Epoch 300, Loss: 0.0063, Weight: 1.9486, Bias: 0.1856\n",
            "Epoch 310, Loss: 0.0059, Weight: 1.9503, Bias: 0.1795\n",
            "Epoch 320, Loss: 0.0055, Weight: 1.9519, Bias: 0.1735\n",
            "Epoch 330, Loss: 0.0052, Weight: 1.9535, Bias: 0.1677\n",
            "Epoch 340, Loss: 0.0048, Weight: 1.9551, Bias: 0.1621\n",
            "Epoch 350, Loss: 0.0045, Weight: 1.9566, Bias: 0.1567\n",
            "Epoch 360, Loss: 0.0042, Weight: 1.9580, Bias: 0.1515\n",
            "Epoch 370, Loss: 0.0039, Weight: 1.9594, Bias: 0.1465\n",
            "Epoch 380, Loss: 0.0037, Weight: 1.9608, Bias: 0.1416\n",
            "Epoch 390, Loss: 0.0034, Weight: 1.9621, Bias: 0.1369\n",
            "Epoch 400, Loss: 0.0032, Weight: 1.9634, Bias: 0.1323\n",
            "Epoch 410, Loss: 0.0030, Weight: 1.9646, Bias: 0.1279\n",
            "Epoch 420, Loss: 0.0028, Weight: 1.9658, Bias: 0.1236\n",
            "Epoch 430, Loss: 0.0026, Weight: 1.9669, Bias: 0.1195\n",
            "Epoch 440, Loss: 0.0024, Weight: 1.9680, Bias: 0.1155\n",
            "Epoch 450, Loss: 0.0023, Weight: 1.9691, Bias: 0.1117\n",
            "Epoch 460, Loss: 0.0021, Weight: 1.9701, Bias: 0.1080\n",
            "Epoch 470, Loss: 0.0020, Weight: 1.9711, Bias: 0.1044\n",
            "Epoch 480, Loss: 0.0019, Weight: 1.9721, Bias: 0.1009\n",
            "Epoch 490, Loss: 0.0017, Weight: 1.9730, Bias: 0.0975\n",
            "Final Loss: 0.0016\n",
            "Predicted Price for size 6: 11.937373\n"
          ]
        }
      ]
    },
    {
      "cell_type": "code",
      "source": [
        "# Creating some sample data\n",
        "X=np.array([1,2,3,4,5],dtype=np.float32)\n",
        "y=np.array([2,4,6,8,10],dtype=np.float32)\n",
        "\n",
        "model=LinearRegression(learning_rate=0.01,epochs=1000)\n",
        "\n",
        "model.fit(X, y)\n",
        "\n",
        "model.evaluate(X, y)\n",
        "\n",
        "print(\"Predicted Price for size 6:\", model.predict(6))"
      ],
      "metadata": {
        "colab": {
          "base_uri": "https://localhost:8080/"
        },
        "id": "VB_ojiYC93nF",
        "outputId": "8996e7ab-7b70-41c7-9fea-ac979f130760"
      },
      "execution_count": 15,
      "outputs": [
        {
          "output_type": "stream",
          "name": "stdout",
          "text": [
            "Epoch 0, Loss: 44.0000, Weight: 0.4400, Bias: 0.1200\n",
            "Epoch 10, Loss: 0.2435, Weight: 1.7674, Bias: 0.4693\n",
            "Epoch 20, Loss: 0.0430, Weight: 1.8609, Bias: 0.4774\n",
            "Epoch 30, Loss: 0.0393, Weight: 1.8713, Bias: 0.4631\n",
            "Epoch 40, Loss: 0.0367, Weight: 1.8759, Bias: 0.4478\n",
            "Epoch 50, Loss: 0.0343, Weight: 1.8801, Bias: 0.4329\n",
            "Epoch 60, Loss: 0.0321, Weight: 1.8841, Bias: 0.4185\n",
            "Epoch 70, Loss: 0.0300, Weight: 1.8880, Bias: 0.4045\n",
            "Epoch 80, Loss: 0.0280, Weight: 1.8917, Bias: 0.3911\n",
            "Epoch 90, Loss: 0.0262, Weight: 1.8953, Bias: 0.3780\n",
            "Epoch 100, Loss: 0.0245, Weight: 1.8988, Bias: 0.3655\n",
            "Epoch 110, Loss: 0.0229, Weight: 1.9021, Bias: 0.3533\n",
            "Epoch 120, Loss: 0.0214, Weight: 1.9054, Bias: 0.3415\n",
            "Epoch 130, Loss: 0.0200, Weight: 1.9086, Bias: 0.3301\n",
            "Epoch 140, Loss: 0.0187, Weight: 1.9116, Bias: 0.3192\n",
            "Epoch 150, Loss: 0.0174, Weight: 1.9145, Bias: 0.3085\n",
            "Epoch 160, Loss: 0.0163, Weight: 1.9174, Bias: 0.2982\n",
            "Epoch 170, Loss: 0.0152, Weight: 1.9201, Bias: 0.2883\n",
            "Epoch 180, Loss: 0.0142, Weight: 1.9228, Bias: 0.2787\n",
            "Epoch 190, Loss: 0.0133, Weight: 1.9254, Bias: 0.2694\n",
            "Epoch 200, Loss: 0.0124, Weight: 1.9279, Bias: 0.2605\n",
            "Epoch 210, Loss: 0.0116, Weight: 1.9303, Bias: 0.2518\n",
            "Epoch 220, Loss: 0.0109, Weight: 1.9326, Bias: 0.2434\n",
            "Epoch 230, Loss: 0.0101, Weight: 1.9348, Bias: 0.2353\n",
            "Epoch 240, Loss: 0.0095, Weight: 1.9370, Bias: 0.2275\n",
            "Epoch 250, Loss: 0.0089, Weight: 1.9391, Bias: 0.2199\n",
            "Epoch 260, Loss: 0.0083, Weight: 1.9411, Bias: 0.2126\n",
            "Epoch 270, Loss: 0.0077, Weight: 1.9431, Bias: 0.2055\n",
            "Epoch 280, Loss: 0.0072, Weight: 1.9450, Bias: 0.1986\n",
            "Epoch 290, Loss: 0.0068, Weight: 1.9468, Bias: 0.1920\n",
            "Epoch 300, Loss: 0.0063, Weight: 1.9486, Bias: 0.1856\n",
            "Epoch 310, Loss: 0.0059, Weight: 1.9503, Bias: 0.1795\n",
            "Epoch 320, Loss: 0.0055, Weight: 1.9519, Bias: 0.1735\n",
            "Epoch 330, Loss: 0.0052, Weight: 1.9535, Bias: 0.1677\n",
            "Epoch 340, Loss: 0.0048, Weight: 1.9551, Bias: 0.1621\n",
            "Epoch 350, Loss: 0.0045, Weight: 1.9566, Bias: 0.1567\n",
            "Epoch 360, Loss: 0.0042, Weight: 1.9580, Bias: 0.1515\n",
            "Epoch 370, Loss: 0.0039, Weight: 1.9594, Bias: 0.1465\n",
            "Epoch 380, Loss: 0.0037, Weight: 1.9608, Bias: 0.1416\n",
            "Epoch 390, Loss: 0.0034, Weight: 1.9621, Bias: 0.1369\n",
            "Epoch 400, Loss: 0.0032, Weight: 1.9634, Bias: 0.1323\n",
            "Epoch 410, Loss: 0.0030, Weight: 1.9646, Bias: 0.1279\n",
            "Epoch 420, Loss: 0.0028, Weight: 1.9658, Bias: 0.1236\n",
            "Epoch 430, Loss: 0.0026, Weight: 1.9669, Bias: 0.1195\n",
            "Epoch 440, Loss: 0.0024, Weight: 1.9680, Bias: 0.1155\n",
            "Epoch 450, Loss: 0.0023, Weight: 1.9691, Bias: 0.1117\n",
            "Epoch 460, Loss: 0.0021, Weight: 1.9701, Bias: 0.1080\n",
            "Epoch 470, Loss: 0.0020, Weight: 1.9711, Bias: 0.1044\n",
            "Epoch 480, Loss: 0.0019, Weight: 1.9721, Bias: 0.1009\n",
            "Epoch 490, Loss: 0.0017, Weight: 1.9730, Bias: 0.0975\n",
            "Epoch 500, Loss: 0.0016, Weight: 1.9739, Bias: 0.0943\n",
            "Epoch 510, Loss: 0.0015, Weight: 1.9748, Bias: 0.0912\n",
            "Epoch 520, Loss: 0.0014, Weight: 1.9756, Bias: 0.0881\n",
            "Epoch 530, Loss: 0.0013, Weight: 1.9764, Bias: 0.0852\n",
            "Epoch 540, Loss: 0.0012, Weight: 1.9772, Bias: 0.0824\n",
            "Epoch 550, Loss: 0.0012, Weight: 1.9779, Bias: 0.0796\n",
            "Epoch 560, Loss: 0.0011, Weight: 1.9787, Bias: 0.0770\n",
            "Epoch 570, Loss: 0.0010, Weight: 1.9794, Bias: 0.0744\n",
            "Epoch 580, Loss: 0.0009, Weight: 1.9801, Bias: 0.0719\n",
            "Epoch 590, Loss: 0.0009, Weight: 1.9807, Bias: 0.0695\n",
            "Epoch 600, Loss: 0.0008, Weight: 1.9814, Bias: 0.0672\n",
            "Epoch 610, Loss: 0.0008, Weight: 1.9820, Bias: 0.0650\n",
            "Epoch 620, Loss: 0.0007, Weight: 1.9826, Bias: 0.0628\n",
            "Epoch 630, Loss: 0.0007, Weight: 1.9832, Bias: 0.0607\n",
            "Epoch 640, Loss: 0.0006, Weight: 1.9837, Bias: 0.0587\n",
            "Epoch 650, Loss: 0.0006, Weight: 1.9843, Bias: 0.0567\n",
            "Epoch 660, Loss: 0.0006, Weight: 1.9848, Bias: 0.0548\n",
            "Epoch 670, Loss: 0.0005, Weight: 1.9853, Bias: 0.0530\n",
            "Epoch 680, Loss: 0.0005, Weight: 1.9858, Bias: 0.0513\n",
            "Epoch 690, Loss: 0.0004, Weight: 1.9863, Bias: 0.0496\n",
            "Epoch 700, Loss: 0.0004, Weight: 1.9867, Bias: 0.0479\n",
            "Epoch 710, Loss: 0.0004, Weight: 1.9872, Bias: 0.0463\n",
            "Epoch 720, Loss: 0.0004, Weight: 1.9876, Bias: 0.0448\n",
            "Epoch 730, Loss: 0.0003, Weight: 1.9880, Bias: 0.0433\n",
            "Epoch 740, Loss: 0.0003, Weight: 1.9884, Bias: 0.0418\n",
            "Epoch 750, Loss: 0.0003, Weight: 1.9888, Bias: 0.0404\n",
            "Epoch 760, Loss: 0.0003, Weight: 1.9892, Bias: 0.0391\n",
            "Epoch 770, Loss: 0.0003, Weight: 1.9895, Bias: 0.0378\n",
            "Epoch 780, Loss: 0.0002, Weight: 1.9899, Bias: 0.0365\n",
            "Epoch 790, Loss: 0.0002, Weight: 1.9902, Bias: 0.0353\n",
            "Epoch 800, Loss: 0.0002, Weight: 1.9905, Bias: 0.0341\n",
            "Epoch 810, Loss: 0.0002, Weight: 1.9909, Bias: 0.0330\n",
            "Epoch 820, Loss: 0.0002, Weight: 1.9912, Bias: 0.0319\n",
            "Epoch 830, Loss: 0.0002, Weight: 1.9915, Bias: 0.0308\n",
            "Epoch 840, Loss: 0.0002, Weight: 1.9917, Bias: 0.0298\n",
            "Epoch 850, Loss: 0.0002, Weight: 1.9920, Bias: 0.0288\n",
            "Epoch 860, Loss: 0.0001, Weight: 1.9923, Bias: 0.0279\n",
            "Epoch 870, Loss: 0.0001, Weight: 1.9925, Bias: 0.0269\n",
            "Epoch 880, Loss: 0.0001, Weight: 1.9928, Bias: 0.0260\n",
            "Epoch 890, Loss: 0.0001, Weight: 1.9930, Bias: 0.0252\n",
            "Epoch 900, Loss: 0.0001, Weight: 1.9933, Bias: 0.0243\n",
            "Epoch 910, Loss: 0.0001, Weight: 1.9935, Bias: 0.0235\n",
            "Epoch 920, Loss: 0.0001, Weight: 1.9937, Bias: 0.0227\n",
            "Epoch 930, Loss: 0.0001, Weight: 1.9939, Bias: 0.0220\n",
            "Epoch 940, Loss: 0.0001, Weight: 1.9941, Bias: 0.0212\n",
            "Epoch 950, Loss: 0.0001, Weight: 1.9943, Bias: 0.0205\n",
            "Epoch 960, Loss: 0.0001, Weight: 1.9945, Bias: 0.0199\n",
            "Epoch 970, Loss: 0.0001, Weight: 1.9947, Bias: 0.0192\n",
            "Epoch 980, Loss: 0.0001, Weight: 1.9949, Bias: 0.0186\n",
            "Epoch 990, Loss: 0.0001, Weight: 1.9950, Bias: 0.0179\n",
            "Final Loss: 0.0001\n",
            "Predicted Price for size 6: 11.988483\n"
          ]
        }
      ]
    },
    {
      "cell_type": "code",
      "source": [
        "# Creating some sample data\n",
        "X=np.array([1,2,3,4,5],dtype=np.float32)\n",
        "y=np.array([3,7,8,13,14],dtype=np.float32)\n",
        "\n",
        "model=LinearRegression(learning_rate=0.01,epochs=500)\n",
        "\n",
        "model.fit(X, y)\n",
        "\n",
        "model.evaluate(X, y)\n",
        "\n",
        "print(\"Predicted Price for size 6:\", model.predict(7))"
      ],
      "metadata": {
        "colab": {
          "base_uri": "https://localhost:8080/"
        },
        "id": "SPlGSSVu99TF",
        "outputId": "8db85bb8-14b6-43a3-c24a-118d79aaf89a"
      },
      "execution_count": 16,
      "outputs": [
        {
          "output_type": "stream",
          "name": "stdout",
          "text": [
            "Epoch 0, Loss: 97.4000, Weight: 0.6520, Bias: 0.1800\n",
            "Epoch 10, Loss: 1.1612, Weight: 2.6152, Bias: 0.7179\n",
            "Epoch 20, Loss: 0.7262, Weight: 2.7484, Bias: 0.7492\n",
            "Epoch 30, Loss: 0.7240, Weight: 2.7587, Bias: 0.7466\n",
            "Epoch 40, Loss: 0.7237, Weight: 2.7607, Bias: 0.7419\n",
            "Epoch 50, Loss: 0.7234, Weight: 2.7620, Bias: 0.7372\n",
            "Epoch 60, Loss: 0.7232, Weight: 2.7633, Bias: 0.7326\n",
            "Epoch 70, Loss: 0.7230, Weight: 2.7645, Bias: 0.7282\n",
            "Epoch 80, Loss: 0.7228, Weight: 2.7657, Bias: 0.7239\n",
            "Epoch 90, Loss: 0.7226, Weight: 2.7668, Bias: 0.7198\n",
            "Epoch 100, Loss: 0.7225, Weight: 2.7679, Bias: 0.7158\n",
            "Epoch 110, Loss: 0.7223, Weight: 2.7690, Bias: 0.7120\n",
            "Epoch 120, Loss: 0.7221, Weight: 2.7700, Bias: 0.7082\n",
            "Epoch 130, Loss: 0.7220, Weight: 2.7710, Bias: 0.7046\n",
            "Epoch 140, Loss: 0.7219, Weight: 2.7720, Bias: 0.7011\n",
            "Epoch 150, Loss: 0.7218, Weight: 2.7729, Bias: 0.6978\n",
            "Epoch 160, Loss: 0.7216, Weight: 2.7738, Bias: 0.6945\n",
            "Epoch 170, Loss: 0.7215, Weight: 2.7747, Bias: 0.6914\n",
            "Epoch 180, Loss: 0.7214, Weight: 2.7755, Bias: 0.6883\n",
            "Epoch 190, Loss: 0.7213, Weight: 2.7763, Bias: 0.6854\n",
            "Epoch 200, Loss: 0.7212, Weight: 2.7771, Bias: 0.6825\n",
            "Epoch 210, Loss: 0.7212, Weight: 2.7779, Bias: 0.6798\n",
            "Epoch 220, Loss: 0.7211, Weight: 2.7786, Bias: 0.6771\n",
            "Epoch 230, Loss: 0.7210, Weight: 2.7793, Bias: 0.6746\n",
            "Epoch 240, Loss: 0.7210, Weight: 2.7800, Bias: 0.6721\n",
            "Epoch 250, Loss: 0.7209, Weight: 2.7807, Bias: 0.6697\n",
            "Epoch 260, Loss: 0.7208, Weight: 2.7813, Bias: 0.6674\n",
            "Epoch 270, Loss: 0.7208, Weight: 2.7820, Bias: 0.6651\n",
            "Epoch 280, Loss: 0.7207, Weight: 2.7826, Bias: 0.6630\n",
            "Epoch 290, Loss: 0.7207, Weight: 2.7831, Bias: 0.6609\n",
            "Epoch 300, Loss: 0.7206, Weight: 2.7837, Bias: 0.6588\n",
            "Epoch 310, Loss: 0.7206, Weight: 2.7842, Bias: 0.6569\n",
            "Epoch 320, Loss: 0.7206, Weight: 2.7848, Bias: 0.6550\n",
            "Epoch 330, Loss: 0.7205, Weight: 2.7853, Bias: 0.6531\n",
            "Epoch 340, Loss: 0.7205, Weight: 2.7858, Bias: 0.6514\n",
            "Epoch 350, Loss: 0.7205, Weight: 2.7862, Bias: 0.6497\n",
            "Epoch 360, Loss: 0.7204, Weight: 2.7867, Bias: 0.6480\n",
            "Epoch 370, Loss: 0.7204, Weight: 2.7871, Bias: 0.6464\n",
            "Epoch 380, Loss: 0.7204, Weight: 2.7876, Bias: 0.6449\n",
            "Epoch 390, Loss: 0.7203, Weight: 2.7880, Bias: 0.6434\n",
            "Epoch 400, Loss: 0.7203, Weight: 2.7884, Bias: 0.6419\n",
            "Epoch 410, Loss: 0.7203, Weight: 2.7888, Bias: 0.6405\n",
            "Epoch 420, Loss: 0.7203, Weight: 2.7891, Bias: 0.6392\n",
            "Epoch 430, Loss: 0.7203, Weight: 2.7895, Bias: 0.6379\n",
            "Epoch 440, Loss: 0.7202, Weight: 2.7899, Bias: 0.6366\n",
            "Epoch 450, Loss: 0.7202, Weight: 2.7902, Bias: 0.6354\n",
            "Epoch 460, Loss: 0.7202, Weight: 2.7905, Bias: 0.6342\n",
            "Epoch 470, Loss: 0.7202, Weight: 2.7908, Bias: 0.6331\n",
            "Epoch 480, Loss: 0.7202, Weight: 2.7911, Bias: 0.6320\n",
            "Epoch 490, Loss: 0.7202, Weight: 2.7914, Bias: 0.6309\n",
            "Final Loss: 0.7202\n",
            "Predicted Price for size 6: 20.171848\n"
          ]
        }
      ]
    },
    {
      "cell_type": "code",
      "source": [
        "# Creating some sample data\n",
        "X=np.array([1,2,3,4,5],dtype=np.float32)\n",
        "y=np.array([3,6,9,12,15],dtype=np.float32)\n",
        "\n",
        "model=LinearRegression(learning_rate=0.01,epochs=500)\n",
        "\n",
        "model.fit(X, y)\n",
        "\n",
        "model.evaluate(X, y)\n",
        "\n",
        "print(\"Predicted Price for size 6:\", model.predict(7))"
      ],
      "metadata": {
        "colab": {
          "base_uri": "https://localhost:8080/"
        },
        "id": "Lbob4QXP-Fw7",
        "outputId": "6b4e6259-3527-4e66-9820-f9a92d1acd35"
      },
      "execution_count": 17,
      "outputs": [
        {
          "output_type": "stream",
          "name": "stdout",
          "text": [
            "Epoch 0, Loss: 99.0000, Weight: 0.6600, Bias: 0.1800\n",
            "Epoch 10, Loss: 0.5480, Weight: 2.6511, Bias: 0.7039\n",
            "Epoch 20, Loss: 0.0967, Weight: 2.7913, Bias: 0.7161\n",
            "Epoch 30, Loss: 0.0885, Weight: 2.8069, Bias: 0.6946\n",
            "Epoch 40, Loss: 0.0827, Weight: 2.8139, Bias: 0.6717\n",
            "Epoch 50, Loss: 0.0773, Weight: 2.8201, Bias: 0.6493\n",
            "Epoch 60, Loss: 0.0722, Weight: 2.8261, Bias: 0.6277\n",
            "Epoch 70, Loss: 0.0675, Weight: 2.8319, Bias: 0.6068\n",
            "Epoch 80, Loss: 0.0631, Weight: 2.8375, Bias: 0.5866\n",
            "Epoch 90, Loss: 0.0589, Weight: 2.8429, Bias: 0.5671\n",
            "Epoch 100, Loss: 0.0551, Weight: 2.8482, Bias: 0.5482\n",
            "Epoch 110, Loss: 0.0515, Weight: 2.8532, Bias: 0.5299\n",
            "Epoch 120, Loss: 0.0481, Weight: 2.8581, Bias: 0.5123\n",
            "Epoch 130, Loss: 0.0449, Weight: 2.8628, Bias: 0.4952\n",
            "Epoch 140, Loss: 0.0420, Weight: 2.8674, Bias: 0.4787\n",
            "Epoch 150, Loss: 0.0392, Weight: 2.8718, Bias: 0.4628\n",
            "Epoch 160, Loss: 0.0367, Weight: 2.8761, Bias: 0.4474\n",
            "Epoch 170, Loss: 0.0343, Weight: 2.8802, Bias: 0.4325\n",
            "Epoch 180, Loss: 0.0320, Weight: 2.8842, Bias: 0.4181\n",
            "Epoch 190, Loss: 0.0299, Weight: 2.8881, Bias: 0.4042\n",
            "Epoch 200, Loss: 0.0280, Weight: 2.8918, Bias: 0.3907\n",
            "Epoch 210, Loss: 0.0261, Weight: 2.8954, Bias: 0.3777\n",
            "Epoch 220, Loss: 0.0244, Weight: 2.8989, Bias: 0.3651\n",
            "Epoch 230, Loss: 0.0228, Weight: 2.9022, Bias: 0.3530\n",
            "Epoch 240, Loss: 0.0213, Weight: 2.9055, Bias: 0.3412\n",
            "Epoch 250, Loss: 0.0199, Weight: 2.9086, Bias: 0.3298\n",
            "Epoch 260, Loss: 0.0186, Weight: 2.9117, Bias: 0.3189\n",
            "Epoch 270, Loss: 0.0174, Weight: 2.9146, Bias: 0.3082\n",
            "Epoch 280, Loss: 0.0163, Weight: 2.9175, Bias: 0.2980\n",
            "Epoch 290, Loss: 0.0152, Weight: 2.9202, Bias: 0.2880\n",
            "Epoch 300, Loss: 0.0142, Weight: 2.9229, Bias: 0.2785\n",
            "Epoch 310, Loss: 0.0133, Weight: 2.9254, Bias: 0.2692\n",
            "Epoch 320, Loss: 0.0124, Weight: 2.9279, Bias: 0.2602\n",
            "Epoch 330, Loss: 0.0116, Weight: 2.9303, Bias: 0.2516\n",
            "Epoch 340, Loss: 0.0108, Weight: 2.9326, Bias: 0.2432\n",
            "Epoch 350, Loss: 0.0101, Weight: 2.9349, Bias: 0.2351\n",
            "Epoch 360, Loss: 0.0095, Weight: 2.9371, Bias: 0.2273\n",
            "Epoch 370, Loss: 0.0088, Weight: 2.9392, Bias: 0.2197\n",
            "Epoch 380, Loss: 0.0083, Weight: 2.9412, Bias: 0.2124\n",
            "Epoch 390, Loss: 0.0077, Weight: 2.9431, Bias: 0.2053\n",
            "Epoch 400, Loss: 0.0072, Weight: 2.9450, Bias: 0.1985\n",
            "Epoch 410, Loss: 0.0067, Weight: 2.9469, Bias: 0.1919\n",
            "Epoch 420, Loss: 0.0063, Weight: 2.9486, Bias: 0.1855\n",
            "Epoch 430, Loss: 0.0059, Weight: 2.9503, Bias: 0.1793\n",
            "Epoch 440, Loss: 0.0055, Weight: 2.9520, Bias: 0.1733\n",
            "Epoch 450, Loss: 0.0051, Weight: 2.9536, Bias: 0.1675\n",
            "Epoch 460, Loss: 0.0048, Weight: 2.9551, Bias: 0.1620\n",
            "Epoch 470, Loss: 0.0045, Weight: 2.9566, Bias: 0.1566\n",
            "Epoch 480, Loss: 0.0042, Weight: 2.9581, Bias: 0.1514\n",
            "Epoch 490, Loss: 0.0039, Weight: 2.9595, Bias: 0.1463\n",
            "Final Loss: 0.0037\n",
            "Predicted Price for size 6: 20.866747\n"
          ]
        }
      ]
    },
    {
      "cell_type": "code",
      "source": [
        "# Simple Neural Network"
      ],
      "metadata": {
        "id": "lrYdq453-LKx"
      },
      "execution_count": 18,
      "outputs": []
    },
    {
      "cell_type": "code",
      "source": [
        "import numpy as np\n",
        "\n",
        "def sigmoid(x):\n",
        "  return 1/(1+np.exp(-x))\n",
        "\n",
        "def sigmoid_derivate(x):\n",
        "  return sigmoid(x)*(1-sigmoid(x))\n",
        "\n",
        "def relu(x):\n",
        "  return np.maximum(0,x)\n",
        "\n",
        "def relu_derivate(x):\n",
        "  return (x>0).astype(float)\n",
        "\n",
        "class SimpleNeuralNetwork:\n",
        "  def __init__(self, input_size,hidden_size,learning_rate=0.1,epochs=100):\n",
        "    self.w1=np.random.randn(input_size,hidden_size)\n",
        "    self.b1=np.zeros((1,hidden_size))\n",
        "    self.w2=np.random.randn(hidden_size,1)\n",
        "    self.b2=np.zeros((1,1))\n",
        "    self.lr=learning_rate\n",
        "    self.epochs=epochs\n",
        "\n",
        "  def forward(self, X):\n",
        "    # forward pass\n",
        "    self.z1=np.dot(X,self.w1)+self.b1\n",
        "    self.a1=relu(self.z1)\n",
        "    self.z2=np.dot(self.a1,self.w2)+self.b2\n",
        "    self.a2=sigmoid(self.z2)\n",
        "    return self.a2\n",
        "\n",
        "  def compute_loss(self, y_true,y_pred):\n",
        "    # Binary cross entropy loss\n",
        "    return -np.mean(y_true*np.log(y_pred+1e-8)+(1-y_true)*np.log(1-y_pred+1e-8))\n",
        "\n",
        "  def backward(self, X,y_true,y_pred):\n",
        "    m=X.shape[0]\n",
        "\n",
        "    dz2=y_pred-y_true\n",
        "    dw2=np.dot(self.a1.T,dz2)/m\n",
        "    db2=np.sum(dz2,axis=0,keepdims=True)/m\n",
        "\n",
        "    dz1=np.dot(dz2,self.w2.T)*relu_derivate(self.z1)\n",
        "    dw1=np.dot(X.T,dz1)/m\n",
        "    db1=np.sum(dz1,axis=0,keepdims=True)/m\n",
        "\n",
        "    #Update weights and bias\n",
        "    self.w2-=self.lr*dw2\n",
        "    self.b2-=self.lr*db2\n",
        "    self.w1-=self.lr*dw1\n",
        "    self.b1-=self.lr*db1\n",
        "\n",
        "  def fit(self, X, y):\n",
        "    for i in range(self.epochs):\n",
        "      y_pred=self.forward(X)\n",
        "      loss=self.compute_loss(y,y_pred)\n",
        "      self.backward(X,y,y_pred)\n",
        "      if i%10==0:\n",
        "        print(f\"Epoch {i}, Loss: {loss:.4f}\")\n",
        "\n",
        "  def predict(self, X):\n",
        "    probs=self.forward(X)\n",
        "    return (probs>0.5).astype(int)\n"
      ],
      "metadata": {
        "id": "8Dt9gAyO-nvV"
      },
      "execution_count": 19,
      "outputs": []
    },
    {
      "cell_type": "code",
      "source": [
        "# Create a dataset\n",
        "np.random.seed(0)\n",
        "X = np.random.rand(100,2)\n",
        "y=(X[:,1]>X[:,0]).astype(int).reshape(-1,1) # 1 if y>x else 0\n",
        "\n",
        "nn=SimpleNeuralNetwork(epochs=100, input_size=2,hidden_size=2)\n",
        "nn.fit(X,y)\n",
        "\n",
        "test_points=np.array([[0.2,0.8],[0.9,0.1],[0.4,0.5]])\n",
        "predictions=nn.predict(test_points)\n",
        "print(\"Predictions:\",predictions)"
      ],
      "metadata": {
        "colab": {
          "base_uri": "https://localhost:8080/"
        },
        "id": "rvcFMo32CFpJ",
        "outputId": "bb804bad-95b6-4d11-b994-d53eaa6c99eb"
      },
      "execution_count": 22,
      "outputs": [
        {
          "output_type": "stream",
          "name": "stdout",
          "text": [
            "Epoch 0, Loss: 0.6452\n",
            "Epoch 10, Loss: 0.6158\n",
            "Epoch 20, Loss: 0.5891\n",
            "Epoch 30, Loss: 0.5652\n",
            "Epoch 40, Loss: 0.5443\n",
            "Epoch 50, Loss: 0.5252\n",
            "Epoch 60, Loss: 0.5068\n",
            "Epoch 70, Loss: 0.4888\n",
            "Epoch 80, Loss: 0.4713\n",
            "Epoch 90, Loss: 0.4543\n",
            "Predictions: [[1]\n",
            " [0]\n",
            " [0]]\n"
          ]
        }
      ]
    },
    {
      "cell_type": "code",
      "source": [
        "# Create a dataset\n",
        "np.random.seed(0)\n",
        "X = np.random.rand(100,2)\n",
        "y=(X[:,1]>X[:,0]).astype(int).reshape(-1,1) # 1 if y>x else 0\n",
        "\n",
        "nn=SimpleNeuralNetwork(epochs=1000, input_size=2,hidden_size=2)\n",
        "nn.fit(X,y)\n",
        "\n",
        "test_points=np.array([[0.2,0.8],[0.9,0.1],[0.4,0.5]])\n",
        "predictions=nn.predict(test_points)\n",
        "print(\"Predictions:\",predictions)"
      ],
      "metadata": {
        "colab": {
          "base_uri": "https://localhost:8080/"
        },
        "id": "nVMsnixQCjwK",
        "outputId": "10d4b364-0835-4e55-aa30-6a5b1ef7171c"
      },
      "execution_count": 23,
      "outputs": [
        {
          "output_type": "stream",
          "name": "stdout",
          "text": [
            "Epoch 0, Loss: 0.6452\n",
            "Epoch 10, Loss: 0.6158\n",
            "Epoch 20, Loss: 0.5891\n",
            "Epoch 30, Loss: 0.5652\n",
            "Epoch 40, Loss: 0.5443\n",
            "Epoch 50, Loss: 0.5252\n",
            "Epoch 60, Loss: 0.5068\n",
            "Epoch 70, Loss: 0.4888\n",
            "Epoch 80, Loss: 0.4713\n",
            "Epoch 90, Loss: 0.4543\n",
            "Epoch 100, Loss: 0.4378\n",
            "Epoch 110, Loss: 0.4219\n",
            "Epoch 120, Loss: 0.4067\n",
            "Epoch 130, Loss: 0.3920\n",
            "Epoch 140, Loss: 0.3781\n",
            "Epoch 150, Loss: 0.3649\n",
            "Epoch 160, Loss: 0.3523\n",
            "Epoch 170, Loss: 0.3404\n",
            "Epoch 180, Loss: 0.3293\n",
            "Epoch 190, Loss: 0.3188\n",
            "Epoch 200, Loss: 0.3089\n",
            "Epoch 210, Loss: 0.2994\n",
            "Epoch 220, Loss: 0.2905\n",
            "Epoch 230, Loss: 0.2821\n",
            "Epoch 240, Loss: 0.2742\n",
            "Epoch 250, Loss: 0.2667\n",
            "Epoch 260, Loss: 0.2595\n",
            "Epoch 270, Loss: 0.2527\n",
            "Epoch 280, Loss: 0.2462\n",
            "Epoch 290, Loss: 0.2400\n",
            "Epoch 300, Loss: 0.2341\n",
            "Epoch 310, Loss: 0.2285\n",
            "Epoch 320, Loss: 0.2231\n",
            "Epoch 330, Loss: 0.2181\n",
            "Epoch 340, Loss: 0.2133\n",
            "Epoch 350, Loss: 0.2087\n",
            "Epoch 360, Loss: 0.2043\n",
            "Epoch 370, Loss: 0.2000\n",
            "Epoch 380, Loss: 0.1960\n",
            "Epoch 390, Loss: 0.1921\n",
            "Epoch 400, Loss: 0.1883\n",
            "Epoch 410, Loss: 0.1847\n",
            "Epoch 420, Loss: 0.1813\n",
            "Epoch 430, Loss: 0.1780\n",
            "Epoch 440, Loss: 0.1748\n",
            "Epoch 450, Loss: 0.1717\n",
            "Epoch 460, Loss: 0.1687\n",
            "Epoch 470, Loss: 0.1659\n",
            "Epoch 480, Loss: 0.1631\n",
            "Epoch 490, Loss: 0.1605\n",
            "Epoch 500, Loss: 0.1579\n",
            "Epoch 510, Loss: 0.1555\n",
            "Epoch 520, Loss: 0.1531\n",
            "Epoch 530, Loss: 0.1508\n",
            "Epoch 540, Loss: 0.1486\n",
            "Epoch 550, Loss: 0.1465\n",
            "Epoch 560, Loss: 0.1444\n",
            "Epoch 570, Loss: 0.1424\n",
            "Epoch 580, Loss: 0.1405\n",
            "Epoch 590, Loss: 0.1386\n",
            "Epoch 600, Loss: 0.1368\n",
            "Epoch 610, Loss: 0.1351\n",
            "Epoch 620, Loss: 0.1334\n",
            "Epoch 630, Loss: 0.1317\n",
            "Epoch 640, Loss: 0.1301\n",
            "Epoch 650, Loss: 0.1285\n",
            "Epoch 660, Loss: 0.1270\n",
            "Epoch 670, Loss: 0.1255\n",
            "Epoch 680, Loss: 0.1240\n",
            "Epoch 690, Loss: 0.1226\n",
            "Epoch 700, Loss: 0.1212\n",
            "Epoch 710, Loss: 0.1199\n",
            "Epoch 720, Loss: 0.1186\n",
            "Epoch 730, Loss: 0.1173\n",
            "Epoch 740, Loss: 0.1161\n",
            "Epoch 750, Loss: 0.1148\n",
            "Epoch 760, Loss: 0.1136\n",
            "Epoch 770, Loss: 0.1125\n",
            "Epoch 780, Loss: 0.1114\n",
            "Epoch 790, Loss: 0.1103\n",
            "Epoch 800, Loss: 0.1092\n",
            "Epoch 810, Loss: 0.1081\n",
            "Epoch 820, Loss: 0.1071\n",
            "Epoch 830, Loss: 0.1061\n",
            "Epoch 840, Loss: 0.1051\n",
            "Epoch 850, Loss: 0.1041\n",
            "Epoch 860, Loss: 0.1032\n",
            "Epoch 870, Loss: 0.1023\n",
            "Epoch 880, Loss: 0.1014\n",
            "Epoch 890, Loss: 0.1005\n",
            "Epoch 900, Loss: 0.0996\n",
            "Epoch 910, Loss: 0.0988\n",
            "Epoch 920, Loss: 0.0979\n",
            "Epoch 930, Loss: 0.0971\n",
            "Epoch 940, Loss: 0.0963\n",
            "Epoch 950, Loss: 0.0956\n",
            "Epoch 960, Loss: 0.0948\n",
            "Epoch 970, Loss: 0.0941\n",
            "Epoch 980, Loss: 0.0933\n",
            "Epoch 990, Loss: 0.0926\n",
            "Predictions: [[1]\n",
            " [0]\n",
            " [1]]\n"
          ]
        }
      ]
    },
    {
      "cell_type": "code",
      "source": [],
      "metadata": {
        "id": "OjXySpRrDCzC"
      },
      "execution_count": null,
      "outputs": []
    }
  ]
}