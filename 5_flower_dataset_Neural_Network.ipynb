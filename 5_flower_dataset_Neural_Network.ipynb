{
  "nbformat": 4,
  "nbformat_minor": 0,
  "metadata": {
    "colab": {
      "provenance": [],
      "gpuType": "T4",
      "include_colab_link": true
    },
    "kernelspec": {
      "name": "python3",
      "display_name": "Python 3"
    },
    "language_info": {
      "name": "python"
    },
    "accelerator": "GPU"
  },
  "cells": [
    {
      "cell_type": "markdown",
      "metadata": {
        "id": "view-in-github",
        "colab_type": "text"
      },
      "source": [
        "<a href=\"https://colab.research.google.com/github/SunkaraboinaPraveenKumar/Machine_Learning_Projects/blob/main/5_flower_dataset_Neural_Network.ipynb\" target=\"_parent\"><img src=\"https://colab.research.google.com/assets/colab-badge.svg\" alt=\"Open In Colab\"/></a>"
      ]
    },
    {
      "cell_type": "code",
      "execution_count": 1,
      "metadata": {
        "id": "A5P-egthYAXu"
      },
      "outputs": [],
      "source": [
        "import wandb\n",
        "from wandb.integration.keras import WandbMetricsLogger\n",
        "\n",
        "import tensorflow as tf\n",
        "import matplotlib.pyplot as plt\n",
        "from tensorflow import keras"
      ]
    },
    {
      "cell_type": "code",
      "source": [
        "sweep_config = {\n",
        "\n",
        "    'method' : 'grid',\n",
        "    'metric' : {\n",
        "        'name': 'val_accuracy',\n",
        "        'goal': 'maximize'\n",
        "                },\n",
        "    'parameters' : {\n",
        "        'batch_size': {'values': [8,16]},\n",
        "        'learning_rate': {'values': [0.001,0.0001]},\n",
        "        'hidden_nodes': {'values': [128,64]},\n",
        "        'img_size': {'values': [16, 224]},\n",
        "        'epochs': {'values': [5,10]}\n",
        "    }\n",
        "}\n",
        "\n",
        "sweep_id = wandb.sweep(sweep_config, project=\"5-flowers-new-v2\")"
      ],
      "metadata": {
        "colab": {
          "base_uri": "https://localhost:8080/",
          "height": 208
        },
        "id": "GPS9QaKRslgw",
        "outputId": "99e23bfb-8142-4540-fc23-71f5c93ee8ba"
      },
      "execution_count": 2,
      "outputs": [
        {
          "output_type": "stream",
          "name": "stderr",
          "text": [
            "\u001b[34m\u001b[1mwandb\u001b[0m: Using wandb-core as the SDK backend.  Please refer to https://wandb.me/wandb-core for more information.\n"
          ]
        },
        {
          "output_type": "display_data",
          "data": {
            "text/plain": [
              "<IPython.core.display.Javascript object>"
            ],
            "application/javascript": [
              "\n",
              "        window._wandbApiKey = new Promise((resolve, reject) => {\n",
              "            function loadScript(url) {\n",
              "            return new Promise(function(resolve, reject) {\n",
              "                let newScript = document.createElement(\"script\");\n",
              "                newScript.onerror = reject;\n",
              "                newScript.onload = resolve;\n",
              "                document.body.appendChild(newScript);\n",
              "                newScript.src = url;\n",
              "            });\n",
              "            }\n",
              "            loadScript(\"https://cdn.jsdelivr.net/npm/postmate/build/postmate.min.js\").then(() => {\n",
              "            const iframe = document.createElement('iframe')\n",
              "            iframe.style.cssText = \"width:0;height:0;border:none\"\n",
              "            document.body.appendChild(iframe)\n",
              "            const handshake = new Postmate({\n",
              "                container: iframe,\n",
              "                url: 'https://wandb.ai/authorize'\n",
              "            });\n",
              "            const timeout = setTimeout(() => reject(\"Couldn't auto authenticate\"), 5000)\n",
              "            handshake.then(function(child) {\n",
              "                child.on('authorize', data => {\n",
              "                    clearTimeout(timeout)\n",
              "                    resolve(data)\n",
              "                });\n",
              "            });\n",
              "            })\n",
              "        });\n",
              "    "
            ]
          },
          "metadata": {}
        },
        {
          "output_type": "stream",
          "name": "stderr",
          "text": [
            "\u001b[34m\u001b[1mwandb\u001b[0m: Logging into wandb.ai. (Learn how to deploy a W&B server locally: https://wandb.me/wandb-server)\n",
            "\u001b[34m\u001b[1mwandb\u001b[0m: You can find your API key in your browser here: https://wandb.ai/authorize\n",
            "wandb: Paste an API key from your profile and hit enter:"
          ]
        },
        {
          "name": "stdout",
          "output_type": "stream",
          "text": [
            " ··········\n"
          ]
        },
        {
          "output_type": "stream",
          "name": "stderr",
          "text": [
            "\u001b[34m\u001b[1mwandb\u001b[0m: \u001b[33mWARNING\u001b[0m If you're specifying your api key in code, ensure this code is not shared publicly.\n",
            "\u001b[34m\u001b[1mwandb\u001b[0m: \u001b[33mWARNING\u001b[0m Consider setting the WANDB_API_KEY environment variable, or running `wandb login` from the command line.\n",
            "\u001b[34m\u001b[1mwandb\u001b[0m: No netrc file found, creating one.\n",
            "\u001b[34m\u001b[1mwandb\u001b[0m: Appending key for api.wandb.ai to your netrc file: /root/.netrc\n"
          ]
        },
        {
          "output_type": "stream",
          "name": "stdout",
          "text": [
            "Create sweep with ID: chlcahoq\n",
            "Sweep URL: https://wandb.ai/praveenkumar-aiml27-jntuh-university/5-flowers-new-v2/sweeps/chlcahoq\n"
          ]
        }
      ]
    },
    {
      "cell_type": "code",
      "source": [
        "def train():\n",
        "  with wandb.init() as run:\n",
        "    config = wandb.config\n",
        "\n",
        "    # Constants\n",
        "    IMG_HEIGHT = config.img_size\n",
        "    IMG_WIDTH = config.img_size\n",
        "    IMG_CHANNELS = 3\n",
        "    CLASS_NAMES = [\"daisy\", \"dandelion\", \"roses\", \"sunflowers\", \"tulips\"]\n",
        "\n",
        "    def read_and_decode(filename, resize_dims):\n",
        "        img_bytes = tf.io.read_file(filename)\n",
        "        img = tf.image.decode_jpeg(img_bytes, channels=IMG_CHANNELS)\n",
        "        img = tf.image.convert_image_dtype(img, tf.float32)\n",
        "        img = tf.image.resize(img, resize_dims)\n",
        "        return img\n",
        "\n",
        "    def parse_csvline(csv_line):\n",
        "        record_default = [\"\", \"\"]\n",
        "        filename, label_string = tf.io.decode_csv(csv_line, record_default)\n",
        "\n",
        "        img = read_and_decode(filename, [IMG_HEIGHT, IMG_WIDTH])\n",
        "\n",
        "        # Convert label string to an integer index\n",
        "        label = tf.where(tf.equal(CLASS_NAMES, label_string))[0, 0]\n",
        "\n",
        "        return img, label\n",
        "\n",
        "    # Define datasets\n",
        "    train_dataset = (\n",
        "        tf.data.TextLineDataset(\"gs://cloud-ml-data/img/flower_photos/train_set.csv\")\n",
        "        .map(parse_csvline, num_parallel_calls=tf.data.AUTOTUNE)\n",
        "        .batch(config.batch_size)\n",
        "        .prefetch(tf.data.AUTOTUNE)\n",
        "    )\n",
        "\n",
        "    eval_dataset = (\n",
        "        tf.data.TextLineDataset(\"gs://cloud-ml-data/img/flower_photos/eval_set.csv\")\n",
        "        .map(parse_csvline, num_parallel_calls=tf.data.AUTOTUNE)\n",
        "        .batch(config.batch_size)\n",
        "        .prefetch(tf.data.AUTOTUNE)\n",
        "    )\n",
        "\n",
        "\n",
        "    model = keras.Sequential([\n",
        "        keras.layers.Flatten(input_shape=(IMG_HEIGHT, IMG_WIDTH, IMG_CHANNELS)),\n",
        "        keras.layers.Dense(config.hidden_nodes, activation=\"relu\"),\n",
        "        keras.layers.Dense(len(CLASS_NAMES), activation=\"softmax\")\n",
        "    ])\n",
        "\n",
        "    model.compile(\n",
        "          optimizer=\"adam\",\n",
        "          loss=tf.keras.losses.SparseCategoricalCrossentropy(from_logits=False),\n",
        "          metrics=[\"accuracy\"]\n",
        "      )\n",
        "\n",
        "    model.fit(\n",
        "      train_dataset,\n",
        "      validation_data=eval_dataset,\n",
        "      epochs=config.epochs,\n",
        "      callbacks=[WandbMetricsLogger(log_freq=5)]\n",
        "      )"
      ],
      "metadata": {
        "id": "9jQcBQhrwj3o"
      },
      "execution_count": 3,
      "outputs": []
    },
    {
      "cell_type": "code",
      "source": [
        "wandb.agent(sweep_id, function=train)"
      ],
      "metadata": {
        "colab": {
          "base_uri": "https://localhost:8080/",
          "height": 436
        },
        "id": "PxlnkgNKsPty",
        "outputId": "f322c746-e3fb-4f96-9e42-1cf7743fee7b"
      },
      "execution_count": null,
      "outputs": [
        {
          "metadata": {
            "tags": null
          },
          "name": "stderr",
          "output_type": "stream",
          "text": [
            "\u001b[34m\u001b[1mwandb\u001b[0m: Agent Starting Run: tt7bw3gc with config:\n",
            "\u001b[34m\u001b[1mwandb\u001b[0m: \tbatch_size: 8\n",
            "\u001b[34m\u001b[1mwandb\u001b[0m: \tepochs: 5\n",
            "\u001b[34m\u001b[1mwandb\u001b[0m: \thidden_nodes: 128\n",
            "\u001b[34m\u001b[1mwandb\u001b[0m: \timg_size: 16\n",
            "\u001b[34m\u001b[1mwandb\u001b[0m: \tlearning_rate: 0.001\n",
            "\u001b[34m\u001b[1mwandb\u001b[0m: Currently logged in as: \u001b[33mpraveenkumar-aiml27\u001b[0m (\u001b[33mpraveenkumar-aiml27-jntuh-university\u001b[0m) to \u001b[32mhttps://api.wandb.ai\u001b[0m. Use \u001b[1m`wandb login --relogin`\u001b[0m to force relogin\n"
          ]
        },
        {
          "data": {
            "text/html": [
              "Tracking run with wandb version 0.19.9"
            ],
            "text/plain": [
              "<IPython.core.display.HTML object>"
            ]
          },
          "metadata": {},
          "output_type": "display_data"
        },
        {
          "data": {
            "text/html": [
              "Run data is saved locally in <code>/content/wandb/run-20250422_040416-tt7bw3gc</code>"
            ],
            "text/plain": [
              "<IPython.core.display.HTML object>"
            ]
          },
          "metadata": {},
          "output_type": "display_data"
        },
        {
          "data": {
            "text/html": [
              "Syncing run <strong><a href='https://wandb.ai/praveenkumar-aiml27-jntuh-university/5-flowers-new-v2/runs/tt7bw3gc' target=\"_blank\">unique-sweep-1</a></strong> to <a href='https://wandb.ai/praveenkumar-aiml27-jntuh-university/5-flowers-new-v2' target=\"_blank\">Weights & Biases</a> (<a href='https://wandb.me/developer-guide' target=\"_blank\">docs</a>)<br>Sweep page: <a href='https://wandb.ai/praveenkumar-aiml27-jntuh-university/5-flowers-new-v2/sweeps/chlcahoq' target=\"_blank\">https://wandb.ai/praveenkumar-aiml27-jntuh-university/5-flowers-new-v2/sweeps/chlcahoq</a>"
            ],
            "text/plain": [
              "<IPython.core.display.HTML object>"
            ]
          },
          "metadata": {},
          "output_type": "display_data"
        },
        {
          "data": {
            "text/html": [
              " View project at <a href='https://wandb.ai/praveenkumar-aiml27-jntuh-university/5-flowers-new-v2' target=\"_blank\">https://wandb.ai/praveenkumar-aiml27-jntuh-university/5-flowers-new-v2</a>"
            ],
            "text/plain": [
              "<IPython.core.display.HTML object>"
            ]
          },
          "metadata": {},
          "output_type": "display_data"
        },
        {
          "data": {
            "text/html": [
              " View sweep at <a href='https://wandb.ai/praveenkumar-aiml27-jntuh-university/5-flowers-new-v2/sweeps/chlcahoq' target=\"_blank\">https://wandb.ai/praveenkumar-aiml27-jntuh-university/5-flowers-new-v2/sweeps/chlcahoq</a>"
            ],
            "text/plain": [
              "<IPython.core.display.HTML object>"
            ]
          },
          "metadata": {},
          "output_type": "display_data"
        },
        {
          "data": {
            "text/html": [
              " View run at <a href='https://wandb.ai/praveenkumar-aiml27-jntuh-university/5-flowers-new-v2/runs/tt7bw3gc' target=\"_blank\">https://wandb.ai/praveenkumar-aiml27-jntuh-university/5-flowers-new-v2/runs/tt7bw3gc</a>"
            ],
            "text/plain": [
              "<IPython.core.display.HTML object>"
            ]
          },
          "metadata": {},
          "output_type": "display_data"
        },
        {
          "metadata": {
            "tags": null
          },
          "name": "stderr",
          "output_type": "stream",
          "text": [
            "/usr/local/lib/python3.11/dist-packages/keras/src/layers/reshaping/flatten.py:37: UserWarning: Do not pass an `input_shape`/`input_dim` argument to a layer. When using Sequential models, prefer using an `Input(shape)` object as the first layer in the model instead.\n",
            "  super().__init__(**kwargs)\n"
          ]
        },
        {
          "metadata": {
            "tags": null
          },
          "name": "stdout",
          "output_type": "stream",
          "text": [
            "Epoch 1/5\n",
            "    413/Unknown \u001b[1m737s\u001b[0m 2s/step - accuracy: 0.3376 - loss: 1.5188"
          ]
        },
        {
          "metadata": {
            "tags": null
          },
          "name": "stderr",
          "output_type": "stream",
          "text": [
            "/usr/local/lib/python3.11/dist-packages/keras/src/trainers/epoch_iterator.py:151: UserWarning: Your input ran out of data; interrupting training. Make sure that your dataset or generator can generate at least `steps_per_epoch * epochs` batches. You may need to use the `.repeat()` function when building your dataset.\n",
            "  self._interrupted_warning()\n"
          ]
        },
        {
          "metadata": {
            "tags": null
          },
          "name": "stdout",
          "output_type": "stream",
          "text": [
            "\u001b[1m413/413\u001b[0m \u001b[32m━━━━━━━━━━━━━━━━━━━━\u001b[0m\u001b[37m\u001b[0m \u001b[1m818s\u001b[0m 2s/step - accuracy: 0.3377 - loss: 1.5185 - val_accuracy: 0.4649 - val_loss: 1.2367\n",
            "Epoch 2/5\n",
            "\u001b[1m413/413\u001b[0m \u001b[32m━━━━━━━━━━━━━━━━━━━━\u001b[0m\u001b[37m\u001b[0m \u001b[1m728s\u001b[0m 2s/step - accuracy: 0.4373 - loss: 1.2622 - val_accuracy: 0.4703 - val_loss: 1.2219\n",
            "Epoch 3/5\n"
          ]
        }
      ]
    }
  ]
}