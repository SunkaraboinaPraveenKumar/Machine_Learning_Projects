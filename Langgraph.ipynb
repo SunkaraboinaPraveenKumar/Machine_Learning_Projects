{
  "nbformat": 4,
  "nbformat_minor": 0,
  "metadata": {
    "colab": {
      "provenance": [],
      "authorship_tag": "ABX9TyM0VCwhiUWPys2yOKgKKPya",
      "include_colab_link": true
    },
    "kernelspec": {
      "name": "python3",
      "display_name": "Python 3"
    },
    "language_info": {
      "name": "python"
    }
  },
  "cells": [
    {
      "cell_type": "markdown",
      "metadata": {
        "id": "view-in-github",
        "colab_type": "text"
      },
      "source": [
        "<a href=\"https://colab.research.google.com/github/SunkaraboinaPraveenKumar/Machine_Learning_Projects/blob/main/Langgraph.ipynb\" target=\"_parent\"><img src=\"https://colab.research.google.com/assets/colab-badge.svg\" alt=\"Open In Colab\"/></a>"
      ]
    },
    {
      "cell_type": "code",
      "execution_count": 1,
      "metadata": {
        "colab": {
          "base_uri": "https://localhost:8080/"
        },
        "id": "Ded8xplOeSsI",
        "outputId": "cc69d897-ded9-4917-cebb-4366fbfde9da"
      },
      "outputs": [
        {
          "output_type": "stream",
          "name": "stdout",
          "text": [
            "Collecting langgraph\n",
            "  Downloading langgraph-0.3.18-py3-none-any.whl.metadata (7.5 kB)\n",
            "Requirement already satisfied: langchain-core<0.4,>=0.1 in /usr/local/lib/python3.11/dist-packages (from langgraph) (0.3.45)\n",
            "Collecting langgraph-checkpoint<3.0.0,>=2.0.10 (from langgraph)\n",
            "  Downloading langgraph_checkpoint-2.0.21-py3-none-any.whl.metadata (4.6 kB)\n",
            "Collecting langgraph-prebuilt<0.2,>=0.1.1 (from langgraph)\n",
            "  Downloading langgraph_prebuilt-0.1.3-py3-none-any.whl.metadata (5.0 kB)\n",
            "Collecting langgraph-sdk<0.2.0,>=0.1.42 (from langgraph)\n",
            "  Downloading langgraph_sdk-0.1.58-py3-none-any.whl.metadata (1.8 kB)\n",
            "Requirement already satisfied: langsmith<0.4,>=0.1.125 in /usr/local/lib/python3.11/dist-packages (from langchain-core<0.4,>=0.1->langgraph) (0.3.15)\n",
            "Requirement already satisfied: tenacity!=8.4.0,<10.0.0,>=8.1.0 in /usr/local/lib/python3.11/dist-packages (from langchain-core<0.4,>=0.1->langgraph) (9.0.0)\n",
            "Requirement already satisfied: jsonpatch<2.0,>=1.33 in /usr/local/lib/python3.11/dist-packages (from langchain-core<0.4,>=0.1->langgraph) (1.33)\n",
            "Requirement already satisfied: PyYAML>=5.3 in /usr/local/lib/python3.11/dist-packages (from langchain-core<0.4,>=0.1->langgraph) (6.0.2)\n",
            "Requirement already satisfied: packaging<25,>=23.2 in /usr/local/lib/python3.11/dist-packages (from langchain-core<0.4,>=0.1->langgraph) (24.2)\n",
            "Requirement already satisfied: typing-extensions>=4.7 in /usr/local/lib/python3.11/dist-packages (from langchain-core<0.4,>=0.1->langgraph) (4.12.2)\n",
            "Requirement already satisfied: pydantic<3.0.0,>=2.5.2 in /usr/local/lib/python3.11/dist-packages (from langchain-core<0.4,>=0.1->langgraph) (2.10.6)\n",
            "Requirement already satisfied: msgpack<2.0.0,>=1.1.0 in /usr/local/lib/python3.11/dist-packages (from langgraph-checkpoint<3.0.0,>=2.0.10->langgraph) (1.1.0)\n",
            "Requirement already satisfied: httpx>=0.25.2 in /usr/local/lib/python3.11/dist-packages (from langgraph-sdk<0.2.0,>=0.1.42->langgraph) (0.28.1)\n",
            "Requirement already satisfied: orjson>=3.10.1 in /usr/local/lib/python3.11/dist-packages (from langgraph-sdk<0.2.0,>=0.1.42->langgraph) (3.10.15)\n",
            "Requirement already satisfied: anyio in /usr/local/lib/python3.11/dist-packages (from httpx>=0.25.2->langgraph-sdk<0.2.0,>=0.1.42->langgraph) (4.9.0)\n",
            "Requirement already satisfied: certifi in /usr/local/lib/python3.11/dist-packages (from httpx>=0.25.2->langgraph-sdk<0.2.0,>=0.1.42->langgraph) (2025.1.31)\n",
            "Requirement already satisfied: httpcore==1.* in /usr/local/lib/python3.11/dist-packages (from httpx>=0.25.2->langgraph-sdk<0.2.0,>=0.1.42->langgraph) (1.0.7)\n",
            "Requirement already satisfied: idna in /usr/local/lib/python3.11/dist-packages (from httpx>=0.25.2->langgraph-sdk<0.2.0,>=0.1.42->langgraph) (3.10)\n",
            "Requirement already satisfied: h11<0.15,>=0.13 in /usr/local/lib/python3.11/dist-packages (from httpcore==1.*->httpx>=0.25.2->langgraph-sdk<0.2.0,>=0.1.42->langgraph) (0.14.0)\n",
            "Requirement already satisfied: jsonpointer>=1.9 in /usr/local/lib/python3.11/dist-packages (from jsonpatch<2.0,>=1.33->langchain-core<0.4,>=0.1->langgraph) (3.0.0)\n",
            "Requirement already satisfied: requests<3,>=2 in /usr/local/lib/python3.11/dist-packages (from langsmith<0.4,>=0.1.125->langchain-core<0.4,>=0.1->langgraph) (2.32.3)\n",
            "Requirement already satisfied: requests-toolbelt<2.0.0,>=1.0.0 in /usr/local/lib/python3.11/dist-packages (from langsmith<0.4,>=0.1.125->langchain-core<0.4,>=0.1->langgraph) (1.0.0)\n",
            "Requirement already satisfied: zstandard<0.24.0,>=0.23.0 in /usr/local/lib/python3.11/dist-packages (from langsmith<0.4,>=0.1.125->langchain-core<0.4,>=0.1->langgraph) (0.23.0)\n",
            "Requirement already satisfied: annotated-types>=0.6.0 in /usr/local/lib/python3.11/dist-packages (from pydantic<3.0.0,>=2.5.2->langchain-core<0.4,>=0.1->langgraph) (0.7.0)\n",
            "Requirement already satisfied: pydantic-core==2.27.2 in /usr/local/lib/python3.11/dist-packages (from pydantic<3.0.0,>=2.5.2->langchain-core<0.4,>=0.1->langgraph) (2.27.2)\n",
            "Requirement already satisfied: charset-normalizer<4,>=2 in /usr/local/lib/python3.11/dist-packages (from requests<3,>=2->langsmith<0.4,>=0.1.125->langchain-core<0.4,>=0.1->langgraph) (3.4.1)\n",
            "Requirement already satisfied: urllib3<3,>=1.21.1 in /usr/local/lib/python3.11/dist-packages (from requests<3,>=2->langsmith<0.4,>=0.1.125->langchain-core<0.4,>=0.1->langgraph) (2.3.0)\n",
            "Requirement already satisfied: sniffio>=1.1 in /usr/local/lib/python3.11/dist-packages (from anyio->httpx>=0.25.2->langgraph-sdk<0.2.0,>=0.1.42->langgraph) (1.3.1)\n",
            "Downloading langgraph-0.3.18-py3-none-any.whl (136 kB)\n",
            "\u001b[2K   \u001b[90m━━━━━━━━━━━━━━━━━━━━━━━━━━━━━━━━━━━━━━━━\u001b[0m \u001b[32m136.5/136.5 kB\u001b[0m \u001b[31m884.6 kB/s\u001b[0m eta \u001b[36m0:00:00\u001b[0m\n",
            "\u001b[?25hDownloading langgraph_checkpoint-2.0.21-py3-none-any.whl (41 kB)\n",
            "\u001b[2K   \u001b[90m━━━━━━━━━━━━━━━━━━━━━━━━━━━━━━━━━━━━━━━━\u001b[0m \u001b[32m41.2/41.2 kB\u001b[0m \u001b[31m2.0 MB/s\u001b[0m eta \u001b[36m0:00:00\u001b[0m\n",
            "\u001b[?25hDownloading langgraph_prebuilt-0.1.3-py3-none-any.whl (24 kB)\n",
            "Downloading langgraph_sdk-0.1.58-py3-none-any.whl (46 kB)\n",
            "\u001b[2K   \u001b[90m━━━━━━━━━━━━━━━━━━━━━━━━━━━━━━━━━━━━━━━━\u001b[0m \u001b[32m46.5/46.5 kB\u001b[0m \u001b[31m2.2 MB/s\u001b[0m eta \u001b[36m0:00:00\u001b[0m\n",
            "\u001b[?25hInstalling collected packages: langgraph-sdk, langgraph-checkpoint, langgraph-prebuilt, langgraph\n",
            "Successfully installed langgraph-0.3.18 langgraph-checkpoint-2.0.21 langgraph-prebuilt-0.1.3 langgraph-sdk-0.1.58\n"
          ]
        }
      ],
      "source": [
        "!pip install langgraph"
      ]
    },
    {
      "cell_type": "code",
      "source": [
        "import langgraph"
      ],
      "metadata": {
        "id": "1subLHnbeWqQ"
      },
      "execution_count": 2,
      "outputs": []
    },
    {
      "cell_type": "code",
      "source": [
        "# pydantic is used to validate the information your agent parses"
      ],
      "metadata": {
        "id": "MbOR_hrjeboX"
      },
      "execution_count": 3,
      "outputs": []
    },
    {
      "cell_type": "code",
      "source": [
        "from google.colab import userdata\n",
        "import os\n",
        "os.environ['GROQ_API_KEY']=userdata.get('groq_api_key')"
      ],
      "metadata": {
        "id": "e_elT5kwejrh"
      },
      "execution_count": 4,
      "outputs": []
    },
    {
      "cell_type": "code",
      "source": [
        "EMAILS = [\n",
        "    # Email 0\n",
        "    \"\"\"\n",
        "    Date: October 15, 2024\n",
        "    From: Occupational Safety and Health Administration (OSHA)\n",
        "    To: Blue Ridge Construction, project 111232345 - Downtown Office\n",
        "    Complex Location: Dallas, TX\n",
        "\n",
        "    During a recent inspection of your construction site at 123 Main\n",
        "    Street,\n",
        "    the following safety violations were identified:\n",
        "\n",
        "    Lack of fall protection: Workers on scaffolding above 10 feet\n",
        "    were without required harnesses or other fall protection\n",
        "    equipment. Unsafe scaffolding setup: Several scaffolding\n",
        "    structures were noted as\n",
        "    lacking secure base plates and bracing, creating potential\n",
        "    collapse risks.\n",
        "    Inadequate personal protective equipment (PPE): Multiple\n",
        "    workers were\n",
        "    found without proper PPE, including hard hats and safety\n",
        "    glasses.\n",
        "    Required Corrective Actions:\n",
        "\n",
        "    Install guardrails and fall arrest systems on all scaffolding\n",
        "    over 10 feet. Conduct an inspection of all scaffolding\n",
        "    structures and reinforce unstable sections. Ensure all\n",
        "    workers on-site are provided\n",
        "    with necessary PPE and conduct safety training on proper\n",
        "    usage.\n",
        "    Deadline for Compliance: All violations must be rectified\n",
        "    by November 10, 2024. Failure to comply may result in fines\n",
        "    of up to\n",
        "    $25,000 per violation.\n",
        "\n",
        "    Contact: For questions or to confirm compliance, please reach\n",
        "    out to the\n",
        "    OSHA regional office at (555) 123-4567 or email\n",
        "    compliance.osha@osha.gov.\n",
        "    \"\"\",\n",
        "    # Email 1\n",
        "    \"\"\"\n",
        "    From: debby@stack.com\n",
        "    Hey Betsy,\n",
        "    Here's your invoice for $1000 for the cookies you ordered.\n",
        "    \"\"\",\n",
        "    # Email 2\n",
        "    \"\"\"\n",
        "    From: tdavid@companyxyz.com\n",
        "    Hi Paul,\n",
        "    We have an issue with the HVAC system your team installed in\n",
        "    apartment 1235. We'd like to request maintenance or a refund.\n",
        "    Thanks,\n",
        "    Terrance\n",
        "    \"\"\",\n",
        "    # Email 3\n",
        "    \"\"\"\n",
        "    Date: January 10, 2025\n",
        "    From: City of Los Angeles Building and Safety Department\n",
        "    To: West Coast Development, project 345678123 - Sunset Luxury\n",
        "    Condominiums\n",
        "    Location: Los Angeles, CA\n",
        "    Following an inspection of your site at 456 Sunset Boulevard, we have\n",
        "    identified the following building code violations:\n",
        "    Electrical Wiring: Exposed wiring was found in the underground parking\n",
        "    garage, posing a safety hazard. Fire Safety: Insufficient fire\n",
        "    extinguishers were available across multiple floors of the structure\n",
        "    under construction.\n",
        "    Structural Integrity: The temporary support beams in the eastern wing\n",
        "    do not meet the load-bearing standards specified in local building\n",
        "    codes.\n",
        "    Required Corrective Actions:\n",
        "    Replace or properly secure exposed wiring to meet electrical safety\n",
        "    standards. Install additional fire extinguishers in compliance with\n",
        "    fire code requirements. Reinforce or replace temporary support beams\n",
        "    to ensure structural stability. Deadline for Compliance: Violations\n",
        "    must be addressed no later than February 5,\n",
        "    2025. Failure to comply may result in\n",
        "    a stop-work order and additional fines.\n",
        "    Contact: For questions or to schedule a re-inspection, please contact\n",
        "    the Building and Safety Department at\n",
        "    (555) 456-7890 or email inspections@lacity.gov.\n",
        "    \"\"\",\n",
        "]"
      ],
      "metadata": {
        "id": "V8oCuQWEeswM"
      },
      "execution_count": 5,
      "outputs": []
    },
    {
      "cell_type": "markdown",
      "source": [
        "LangGraph is all about implementing LLM applications as directed graphs."
      ],
      "metadata": {
        "id": "IFMpwMDie_ZS"
      }
    },
    {
      "cell_type": "markdown",
      "source": [
        "You can think of a directed graph as a sequence of instructions composed of nodes and edges, that tell you how to complete a task. In LangGraph, nodes represent actions that your graph can take, such as calling a function, and edges tell you which node to go to next."
      ],
      "metadata": {
        "id": "IyiOs_S7fGfp"
      }
    },
    {
      "cell_type": "markdown",
      "source": [
        "Your job is to build a tool that can read these emails, extract critical information from them, and notify the correct internal team who will take action. The first step you’ll take to accomplish this is to build a LangChain chain that uses an LLM to extract structured fields from a regulatory notice email. You start by defining a Pydantic BaseModel that describes all the fields you want to extract from the email:"
      ],
      "metadata": {
        "id": "InrZan3lfeXr"
      }
    },
    {
      "cell_type": "code",
      "source": [
        "!pip install langchain langchain_groq langchain_core"
      ],
      "metadata": {
        "colab": {
          "base_uri": "https://localhost:8080/"
        },
        "id": "LDCKw017finU",
        "outputId": "c137b571-0c21-41d3-c07b-c1e22060857a"
      },
      "execution_count": 6,
      "outputs": [
        {
          "output_type": "stream",
          "name": "stdout",
          "text": [
            "Requirement already satisfied: langchain in /usr/local/lib/python3.11/dist-packages (0.3.20)\n",
            "Collecting langchain_groq\n",
            "  Downloading langchain_groq-0.3.1-py3-none-any.whl.metadata (2.6 kB)\n",
            "Requirement already satisfied: langchain_core in /usr/local/lib/python3.11/dist-packages (0.3.45)\n",
            "Requirement already satisfied: langchain-text-splitters<1.0.0,>=0.3.6 in /usr/local/lib/python3.11/dist-packages (from langchain) (0.3.6)\n",
            "Requirement already satisfied: langsmith<0.4,>=0.1.17 in /usr/local/lib/python3.11/dist-packages (from langchain) (0.3.15)\n",
            "Requirement already satisfied: pydantic<3.0.0,>=2.7.4 in /usr/local/lib/python3.11/dist-packages (from langchain) (2.10.6)\n",
            "Requirement already satisfied: SQLAlchemy<3,>=1.4 in /usr/local/lib/python3.11/dist-packages (from langchain) (2.0.39)\n",
            "Requirement already satisfied: requests<3,>=2 in /usr/local/lib/python3.11/dist-packages (from langchain) (2.32.3)\n",
            "Requirement already satisfied: PyYAML>=5.3 in /usr/local/lib/python3.11/dist-packages (from langchain) (6.0.2)\n",
            "Collecting langchain_core\n",
            "  Downloading langchain_core-0.3.47-py3-none-any.whl.metadata (5.9 kB)\n",
            "Collecting groq<1,>=0.4.1 (from langchain_groq)\n",
            "  Downloading groq-0.20.0-py3-none-any.whl.metadata (15 kB)\n",
            "Requirement already satisfied: tenacity!=8.4.0,<10.0.0,>=8.1.0 in /usr/local/lib/python3.11/dist-packages (from langchain_core) (9.0.0)\n",
            "Requirement already satisfied: jsonpatch<2.0,>=1.33 in /usr/local/lib/python3.11/dist-packages (from langchain_core) (1.33)\n",
            "Requirement already satisfied: packaging<25,>=23.2 in /usr/local/lib/python3.11/dist-packages (from langchain_core) (24.2)\n",
            "Requirement already satisfied: typing-extensions>=4.7 in /usr/local/lib/python3.11/dist-packages (from langchain_core) (4.12.2)\n",
            "Requirement already satisfied: anyio<5,>=3.5.0 in /usr/local/lib/python3.11/dist-packages (from groq<1,>=0.4.1->langchain_groq) (4.9.0)\n",
            "Requirement already satisfied: distro<2,>=1.7.0 in /usr/local/lib/python3.11/dist-packages (from groq<1,>=0.4.1->langchain_groq) (1.9.0)\n",
            "Requirement already satisfied: httpx<1,>=0.23.0 in /usr/local/lib/python3.11/dist-packages (from groq<1,>=0.4.1->langchain_groq) (0.28.1)\n",
            "Requirement already satisfied: sniffio in /usr/local/lib/python3.11/dist-packages (from groq<1,>=0.4.1->langchain_groq) (1.3.1)\n",
            "Requirement already satisfied: jsonpointer>=1.9 in /usr/local/lib/python3.11/dist-packages (from jsonpatch<2.0,>=1.33->langchain_core) (3.0.0)\n",
            "Requirement already satisfied: orjson<4.0.0,>=3.9.14 in /usr/local/lib/python3.11/dist-packages (from langsmith<0.4,>=0.1.17->langchain) (3.10.15)\n",
            "Requirement already satisfied: requests-toolbelt<2.0.0,>=1.0.0 in /usr/local/lib/python3.11/dist-packages (from langsmith<0.4,>=0.1.17->langchain) (1.0.0)\n",
            "Requirement already satisfied: zstandard<0.24.0,>=0.23.0 in /usr/local/lib/python3.11/dist-packages (from langsmith<0.4,>=0.1.17->langchain) (0.23.0)\n",
            "Requirement already satisfied: annotated-types>=0.6.0 in /usr/local/lib/python3.11/dist-packages (from pydantic<3.0.0,>=2.7.4->langchain) (0.7.0)\n",
            "Requirement already satisfied: pydantic-core==2.27.2 in /usr/local/lib/python3.11/dist-packages (from pydantic<3.0.0,>=2.7.4->langchain) (2.27.2)\n",
            "Requirement already satisfied: charset-normalizer<4,>=2 in /usr/local/lib/python3.11/dist-packages (from requests<3,>=2->langchain) (3.4.1)\n",
            "Requirement already satisfied: idna<4,>=2.5 in /usr/local/lib/python3.11/dist-packages (from requests<3,>=2->langchain) (3.10)\n",
            "Requirement already satisfied: urllib3<3,>=1.21.1 in /usr/local/lib/python3.11/dist-packages (from requests<3,>=2->langchain) (2.3.0)\n",
            "Requirement already satisfied: certifi>=2017.4.17 in /usr/local/lib/python3.11/dist-packages (from requests<3,>=2->langchain) (2025.1.31)\n",
            "Requirement already satisfied: greenlet!=0.4.17 in /usr/local/lib/python3.11/dist-packages (from SQLAlchemy<3,>=1.4->langchain) (3.1.1)\n",
            "Requirement already satisfied: httpcore==1.* in /usr/local/lib/python3.11/dist-packages (from httpx<1,>=0.23.0->groq<1,>=0.4.1->langchain_groq) (1.0.7)\n",
            "Requirement already satisfied: h11<0.15,>=0.13 in /usr/local/lib/python3.11/dist-packages (from httpcore==1.*->httpx<1,>=0.23.0->groq<1,>=0.4.1->langchain_groq) (0.14.0)\n",
            "Downloading langchain_groq-0.3.1-py3-none-any.whl (15 kB)\n",
            "Downloading langchain_core-0.3.47-py3-none-any.whl (417 kB)\n",
            "\u001b[2K   \u001b[90m━━━━━━━━━━━━━━━━━━━━━━━━━━━━━━━━━━━━━━━━\u001b[0m \u001b[32m417.1/417.1 kB\u001b[0m \u001b[31m9.1 MB/s\u001b[0m eta \u001b[36m0:00:00\u001b[0m\n",
            "\u001b[?25hDownloading groq-0.20.0-py3-none-any.whl (124 kB)\n",
            "\u001b[2K   \u001b[90m━━━━━━━━━━━━━━━━━━━━━━━━━━━━━━━━━━━━━━━━\u001b[0m \u001b[32m124.9/124.9 kB\u001b[0m \u001b[31m8.6 MB/s\u001b[0m eta \u001b[36m0:00:00\u001b[0m\n",
            "\u001b[?25hInstalling collected packages: groq, langchain_core, langchain_groq\n",
            "  Attempting uninstall: langchain_core\n",
            "    Found existing installation: langchain-core 0.3.45\n",
            "    Uninstalling langchain-core-0.3.45:\n",
            "      Successfully uninstalled langchain-core-0.3.45\n",
            "Successfully installed groq-0.20.0 langchain_core-0.3.47 langchain_groq-0.3.1\n"
          ]
        }
      ]
    },
    {
      "cell_type": "code",
      "source": [
        "from datetime import datetime, date\n",
        "from langchain_core.prompts import ChatPromptTemplate\n",
        "from langchain_groq import ChatGroq\n",
        "from pydantic import BaseModel, Field, computed_field\n",
        "\n",
        "class NoticeEmailExtract(BaseModel):\n",
        "    date_of_notice_str: str | None = Field(\n",
        "        default=None,\n",
        "        exclude=True,\n",
        "        repr=False,\n",
        "        description=\"\"\"The date of the notice (if any) reformatted\n",
        "        to match YYYY-mm-dd\"\"\",\n",
        "    )\n",
        "    entity_name: str | None = Field(\n",
        "        default=None,\n",
        "        description=\"\"\"The name of the entity sending the notice (if present\n",
        "        in the message)\"\"\",\n",
        "    )\n",
        "    entity_phone: str | None = Field(\n",
        "        default=None,\n",
        "        description=\"\"\"The phone number of the entity sending the notice\n",
        "        (if present in the message)\"\"\",\n",
        "    )\n",
        "    entity_email: str | None = Field(\n",
        "        default=None,\n",
        "        description=\"\"\"The email of the entity sending the notice\n",
        "        (if present in the message)\"\"\",\n",
        "    )\n",
        "    project_id: int | None = Field(\n",
        "        default=None,\n",
        "        description=\"\"\"The project ID (if present in the message) -\n",
        "        must be an integer\"\"\",\n",
        "    )\n",
        "    site_location: str | None = Field(\n",
        "        default=None,\n",
        "        description=\"\"\"The site location of the project (if present\n",
        "        in the message). Use the full address if possible.\"\"\",\n",
        "    )\n",
        "    violation_type: str | None = Field(\n",
        "        default=None,\n",
        "        description=\"\"\"The type of violation (if present in the\n",
        "        message)\"\"\",\n",
        "    )\n",
        "    required_changes: str | None = Field(\n",
        "        default=None,\n",
        "        description=\"\"\"The required changes specified by the entity\n",
        "        (if present in the message)\"\"\",\n",
        "    )\n",
        "    compliance_deadline_str: str | None = Field(\n",
        "        default=None,\n",
        "        exclude=True,\n",
        "        repr=False,\n",
        "        description=\"\"\"The date that the company must comply (if any)\n",
        "        reformatted to match YYYY-mm-dd\"\"\",\n",
        "    )\n",
        "    max_potential_fine: float | None = Field(\n",
        "        default=None,\n",
        "        description=\"\"\"The maximum potential fine\n",
        "        (if any)\"\"\",\n",
        "    )\n",
        "\n",
        "    @staticmethod\n",
        "    def _convert_string_to_date(date_str: str | None) -> date | None:\n",
        "        try:\n",
        "            return datetime.strptime(date_str, \"%Y-%m-%d\").date()\n",
        "        except Exception as e:\n",
        "            print(e)\n",
        "            return None\n",
        "\n",
        "    @computed_field\n",
        "    @property\n",
        "    def date_of_notice(self) -> date | None:\n",
        "        return self._convert_string_to_date(self.date_of_notice_str)\n",
        "\n",
        "    @computed_field\n",
        "    @property\n",
        "    def compliance_deadline(self) -> date | None:\n",
        "        return self._convert_string_to_date(self.compliance_deadline_str)"
      ],
      "metadata": {
        "id": "x8-DRxZ9e6bM"
      },
      "execution_count": 7,
      "outputs": []
    },
    {
      "cell_type": "code",
      "source": [
        "info_parse_prompt = ChatPromptTemplate.from_messages(\n",
        "    [\n",
        "        (\n",
        "            \"system\",\n",
        "            \"\"\"\n",
        "            Parse the date of notice, sending entity name, sending entity\n",
        "            phone, sending entity email, project id, site location,\n",
        "            violation type, required changes, compliance deadline, and\n",
        "            maximum potential fine from the message. If any of the fields\n",
        "            aren't present, don't populate them. Try to cast dates into\n",
        "            the YYYY-mm-dd format. Don't populate fields if they're not\n",
        "            present in the message.\n",
        "\n",
        "            Here's the notice message:\n",
        "\n",
        "            {message}\n",
        "            \"\"\",\n",
        "        )\n",
        "    ]\n",
        ")\n",
        "\n",
        "notice_parser_model = ChatGroq(model=\"llama-3.3-70b-versatile\", temperature=0)\n",
        "\n",
        "NOTICE_PARSER_CHAIN = (\n",
        "    info_parse_prompt\n",
        "    | notice_parser_model.with_structured_output(NoticeEmailExtract)\n",
        ")"
      ],
      "metadata": {
        "id": "2klNKOVMhwb_"
      },
      "execution_count": 8,
      "outputs": []
    },
    {
      "cell_type": "code",
      "source": [
        "info_parse_prompt = ChatPromptTemplate.from_messages(\n",
        "    [\n",
        "        (\n",
        "            \"system\",\n",
        "            \"\"\"\n",
        "            Parse the date of notice, sending entity name, sending entity\n",
        "            phone, sending entity email, project id, site location,\n",
        "            violation type, required changes, compliance deadline, and\n",
        "            maximum potential fine from the message. If any of the fields\n",
        "            aren't present, don't populate them. Try to cast dates into\n",
        "            the YYYY-mm-dd format. Don't populate fields if they're not\n",
        "            present in the message.\n",
        "\n",
        "            Here's the notice message:\n",
        "\n",
        "            {message}\n",
        "            \"\"\",\n",
        "        )\n",
        "    ]\n",
        ")\n",
        "\n",
        "notice_parser_model = ChatGroq(model=\"llama-3.3-70b-versatile\", temperature=0)\n",
        "\n",
        "NOTICE_PARSER_CHAIN = (\n",
        "    info_parse_prompt\n",
        "    | notice_parser_model.with_structured_output(NoticeEmailExtract)\n",
        ")"
      ],
      "metadata": {
        "id": "RN09DLRNiW0A"
      },
      "execution_count": 10,
      "outputs": []
    },
    {
      "cell_type": "code",
      "source": [
        "NOTICE_PARSER_CHAIN.invoke({\"message\": EMAILS[0]})"
      ],
      "metadata": {
        "colab": {
          "base_uri": "https://localhost:8080/"
        },
        "id": "nTWKtDGGsog1",
        "outputId": "e4fa23d1-39cc-4752-e8a4-509e92a90d8f"
      },
      "execution_count": 11,
      "outputs": [
        {
          "output_type": "execute_result",
          "data": {
            "text/plain": [
              "NoticeEmailExtract(entity_name='Occupational Safety and Health Administration (OSHA)', entity_phone='(555) 123-4567', entity_email='compliance.osha@osha.gov', project_id=111232345, site_location='123 Main Street, Dallas, TX', violation_type='Lack of fall protection, Unsafe scaffolding setup, Inadequate personal protective equipment (PPE)', required_changes='Install guardrails and fall arrest systems on all scaffolding over 10 feet. Conduct an inspection of all scaffolding structures and reinforce unstable sections. Ensure all workers on-site are provided with necessary PPE and conduct safety training on proper usage.', max_potential_fine=25000.0, date_of_notice=datetime.date(2024, 10, 15), compliance_deadline=datetime.date(2024, 11, 10))"
            ]
          },
          "metadata": {},
          "execution_count": 11
        }
      ]
    },
    {
      "cell_type": "code",
      "source": [
        "from langchain_groq import ChatGroq\n",
        "from langchain_core.prompts import ChatPromptTemplate\n",
        "from pydantic import BaseModel, Field\n",
        "\n",
        "class EscalationCheck(BaseModel):\n",
        "  needs_escalation: bool=Field(\n",
        "      description=\"\"\"Whether the notice requires escalation\n",
        "        according to specified criteria\"\"\"\n",
        "  )\n",
        "\n",
        "escalation_prompt=ChatPromptTemplate.from_messages(\n",
        "    [\n",
        "        (\n",
        "            \"system\",\n",
        "            \"\"\"\n",
        "            Determine whether the following notice received\n",
        "            from a regulatory body requires immediate escalation.\n",
        "            Immediate escalation is required when {escalation_criteria}.\n",
        "\n",
        "            Here's the notice message:\n",
        "\n",
        "            {message}\n",
        "            \"\"\",\n",
        "        )\n",
        "    ]\n",
        ")\n",
        "\n",
        "escalation_check_model=ChatGroq(model=\"llama-3.3-70b-versatile\", temperature=0)\n",
        "\n",
        "ESCALATION_CHECK_CHAIN=(\n",
        "    escalation_prompt\n",
        "    | escalation_check_model.with_structured_output(EscalationCheck)\n",
        ")"
      ],
      "metadata": {
        "id": "7I6D0DiktDVj"
      },
      "execution_count": 13,
      "outputs": []
    },
    {
      "cell_type": "code",
      "source": [
        "escalation_criteria = \"\"\"There is currently water damage\n",
        "... or potential water damage reported\"\"\""
      ],
      "metadata": {
        "id": "3VRwJ-e9tsIh"
      },
      "execution_count": 14,
      "outputs": []
    },
    {
      "cell_type": "code",
      "source": [
        "message = \"\"\"Several cracks in the foundation have been identified along with water leak\"\"\""
      ],
      "metadata": {
        "id": "Vk5PuZjVuJg9"
      },
      "execution_count": 17,
      "outputs": []
    },
    {
      "cell_type": "code",
      "source": [
        "ESCALATION_CHECK_CHAIN.invoke(\n",
        "     {\"message\": message, \"escalation_criteria\": escalation_criteria}\n",
        ")"
      ],
      "metadata": {
        "colab": {
          "base_uri": "https://localhost:8080/"
        },
        "id": "g455WFeduJ6k",
        "outputId": "89dfaa08-e33b-4898-9d25-643958575b47"
      },
      "execution_count": 18,
      "outputs": [
        {
          "output_type": "execute_result",
          "data": {
            "text/plain": [
              "EscalationCheck(needs_escalation=True)"
            ]
          },
          "metadata": {},
          "execution_count": 18
        }
      ]
    },
    {
      "cell_type": "code",
      "source": [
        "message=\"The wheel chair ramps are too steep\"\n",
        "\n",
        "ESCALATION_CHECK_CHAIN.invoke(\n",
        "     {\"message\": message, \"escalation_criteria\": escalation_criteria}\n",
        ")"
      ],
      "metadata": {
        "colab": {
          "base_uri": "https://localhost:8080/"
        },
        "id": "lGVMU0xJuRzQ",
        "outputId": "ca4237d6-a431-4c99-9f02-caf3bb343dd0"
      },
      "execution_count": 19,
      "outputs": [
        {
          "output_type": "execute_result",
          "data": {
            "text/plain": [
              "EscalationCheck(needs_escalation=False)"
            ]
          },
          "metadata": {},
          "execution_count": 19
        }
      ]
    },
    {
      "cell_type": "markdown",
      "source": [
        "Now that you’ve built the notice parsing and escalation check chains, you need to orchestrate them and add additional functionality that your company requires to process notice emails. To do this, you’ll use LangGraph’s StateGraph to create a graph that builds upon NOTICE_PARSER_CHAIN and ESCALATION_CHECK_CHAIN. Before getting started, you’ll want to initialize a logger that you’ll use throughout this tutorial:"
      ],
      "metadata": {
        "id": "quIOYVEHuuIO"
      }
    },
    {
      "cell_type": "code",
      "source": [
        "import logging\n",
        "\n",
        "logging.getLogger(\"httpx\").setLevel(logging.WARNING)\n",
        "logging.basicConfig(\n",
        "    level=logging.INFO, format=\"%(asctime)s - %(levelname)s - %(message)s\"\n",
        ")\n",
        "LOGGER = logging.getLogger(__name__)"
      ],
      "metadata": {
        "id": "jHFVzDAYuYcL"
      },
      "execution_count": 20,
      "outputs": []
    },
    {
      "cell_type": "code",
      "source": [
        "from typing import TypedDict\n",
        "from langgraph.graph import END, START, StateGraph\n",
        "from pydantic import EmailStr"
      ],
      "metadata": {
        "id": "peN1pVT8uvkk"
      },
      "execution_count": 22,
      "outputs": []
    },
    {
      "cell_type": "code",
      "source": [
        "class GraphState(TypedDict):\n",
        "    notice_message: str\n",
        "    notice_email_extract: NoticeEmailExtract | None\n",
        "    escalation_text_criteria: str\n",
        "    escalation_dollar_criteria: float\n",
        "    requires_escalation: bool\n",
        "    escalation_emails: list[EmailStr] | None\n",
        "    follow_ups: dict[str, bool] | None\n",
        "    current_follow_up: str | None\n",
        "\n",
        "workflow = StateGraph(GraphState)"
      ],
      "metadata": {
        "id": "iJ9rhLKBu74m"
      },
      "execution_count": 23,
      "outputs": []
    },
    {
      "cell_type": "code",
      "source": [
        "def parse_notice_message_node(state:GraphState)->GraphState:\n",
        "    \"\"\"Use the notice parser chain to extract fields from the notice\"\"\"\n",
        "    notice_email_extract = NOTICE_PARSER_CHAIN.invoke(\n",
        "        {\"message\": state[\"notice_message\"]}\n",
        "    )\n",
        "    state[\"notice_email_extract\"] = notice_email_extract\n",
        "    return state"
      ],
      "metadata": {
        "id": "uaUCOlB3vBWH"
      },
      "execution_count": 24,
      "outputs": []
    },
    {
      "cell_type": "code",
      "source": [
        "def check_escalation_status_node(state: GraphState) -> GraphState:\n",
        "    \"\"\"Determine whether a notice needs escalation\"\"\"\n",
        "    text_check = ESCALATION_CHECK_CHAIN.invoke(\n",
        "        {\n",
        "            \"escalation_criteria\": state[\"escalation_text_criteria\"],\n",
        "            \"message\": state[\"notice_message\"],\n",
        "        }\n",
        "    ).needs_escalation\n",
        "\n",
        "    if (\n",
        "        text_check\n",
        "        or state[\"notice_email_extract\"].max_potential_fine\n",
        "        >= state[\"escalation_dollar_criteria\"]\n",
        "    ):\n",
        "        state[\"requires_escalation\"] = True\n",
        "    else:\n",
        "        state[\"requires_escalation\"] = False\n",
        "\n",
        "    return state\n",
        "\n",
        "workflow.add_node(\"parse_notice_message\", parse_notice_message_node)\n",
        "workflow.add_node(\"check_escalation_status\", check_escalation_status_node)"
      ],
      "metadata": {
        "colab": {
          "base_uri": "https://localhost:8080/"
        },
        "id": "Q9j0FGuQwXwv",
        "outputId": "c2fe9a34-a496-4a22-a5df-c9628aced734"
      },
      "execution_count": 25,
      "outputs": [
        {
          "output_type": "execute_result",
          "data": {
            "text/plain": [
              "<langgraph.graph.state.StateGraph at 0x79e901658a10>"
            ]
          },
          "metadata": {},
          "execution_count": 25
        }
      ]
    },
    {
      "cell_type": "markdown",
      "source": [
        " In general, all node functions accept the graph state, perform some action, update the graph state, and return the graph state."
      ],
      "metadata": {
        "id": "26ogDiRtwmZF"
      }
    },
    {
      "cell_type": "markdown",
      "source": [
        "The next thing you need to do is add edges to your graph. Edges control the flow of data between nodes in your graph"
      ],
      "metadata": {
        "id": "SzzIba8FwzHl"
      }
    },
    {
      "cell_type": "code",
      "source": [
        "# ...\n",
        "\n",
        "workflow.add_edge(START, \"parse_notice_message\")\n",
        "workflow.add_edge(\"parse_notice_message\", \"check_escalation_status\")\n",
        "workflow.add_edge(\"check_escalation_status\", END)\n",
        "\n",
        "NOTICE_EXTRACTION_GRAPH = workflow.compile()"
      ],
      "metadata": {
        "id": "R38g1RoywdLY"
      },
      "execution_count": 26,
      "outputs": []
    },
    {
      "cell_type": "code",
      "source": [
        "!pip install pydantic[email]"
      ],
      "metadata": {
        "colab": {
          "base_uri": "https://localhost:8080/"
        },
        "id": "jxLLh31KxHwI",
        "outputId": "08bbb43d-1b9e-4e9e-c89e-28b91f27790a"
      },
      "execution_count": 29,
      "outputs": [
        {
          "output_type": "stream",
          "name": "stdout",
          "text": [
            "Requirement already satisfied: pydantic[email] in /usr/local/lib/python3.11/dist-packages (2.10.6)\n",
            "Requirement already satisfied: annotated-types>=0.6.0 in /usr/local/lib/python3.11/dist-packages (from pydantic[email]) (0.7.0)\n",
            "Requirement already satisfied: pydantic-core==2.27.2 in /usr/local/lib/python3.11/dist-packages (from pydantic[email]) (2.27.2)\n",
            "Requirement already satisfied: typing-extensions>=4.12.2 in /usr/local/lib/python3.11/dist-packages (from pydantic[email]) (4.12.2)\n",
            "Collecting email-validator>=2.0.0 (from pydantic[email])\n",
            "  Downloading email_validator-2.2.0-py3-none-any.whl.metadata (25 kB)\n",
            "Collecting dnspython>=2.0.0 (from email-validator>=2.0.0->pydantic[email])\n",
            "  Downloading dnspython-2.7.0-py3-none-any.whl.metadata (5.8 kB)\n",
            "Requirement already satisfied: idna>=2.0.0 in /usr/local/lib/python3.11/dist-packages (from email-validator>=2.0.0->pydantic[email]) (3.10)\n",
            "Downloading email_validator-2.2.0-py3-none-any.whl (33 kB)\n",
            "Downloading dnspython-2.7.0-py3-none-any.whl (313 kB)\n",
            "\u001b[2K   \u001b[90m━━━━━━━━━━━━━━━━━━━━━━━━━━━━━━━━━━━━━━━━\u001b[0m \u001b[32m313.6/313.6 kB\u001b[0m \u001b[31m8.3 MB/s\u001b[0m eta \u001b[36m0:00:00\u001b[0m\n",
            "\u001b[?25hInstalling collected packages: dnspython, email-validator\n",
            "Successfully installed dnspython-2.7.0 email-validator-2.2.0\n"
          ]
        }
      ]
    },
    {
      "cell_type": "code",
      "source": [
        "image_data = NOTICE_EXTRACTION_GRAPH.get_graph().draw_mermaid_png()\n",
        "with open(\"notice_extraction_graph.png\", mode=\"wb\") as f:\n",
        "  f.write(image_data)"
      ],
      "metadata": {
        "id": "Cvke_X9-w0p7"
      },
      "execution_count": 30,
      "outputs": []
    },
    {
      "cell_type": "code",
      "source": [
        "initial_state = {\n",
        "    \"notice_message\": EMAILS[0],\n",
        "    \"notice_email_extract\": None,\n",
        "    \"escalation_text_criteria\": \"\"\"There's a risk of fire or\n",
        "    water damage at the site\"\"\",\n",
        "    \"escalation_dollar_criteria\": 100_000,\n",
        "    \"requires_escalation\": False,\n",
        "    \"escalation_emails\": [\"brog@abc.com\", \"bigceo@company.com\"],\n",
        "}"
      ],
      "metadata": {
        "id": "DoC7mmKfw7S8"
      },
      "execution_count": 31,
      "outputs": []
    },
    {
      "cell_type": "code",
      "source": [
        "final_state=NOTICE_EXTRACTION_GRAPH.invoke(initial_state)"
      ],
      "metadata": {
        "id": "M_Lxd1EoxbtT"
      },
      "execution_count": 32,
      "outputs": []
    },
    {
      "cell_type": "code",
      "source": [
        "final_state[\"notice_email_extract\"]"
      ],
      "metadata": {
        "colab": {
          "base_uri": "https://localhost:8080/"
        },
        "id": "aIWgFrPDxgOp",
        "outputId": "6424a1c6-dcd5-4d06-e3fc-f79e12c843a7"
      },
      "execution_count": 33,
      "outputs": [
        {
          "output_type": "execute_result",
          "data": {
            "text/plain": [
              "NoticeEmailExtract(entity_name='Occupational Safety and Health Administration (OSHA)', entity_phone='(555) 123-4567', entity_email='compliance.osha@osha.gov', project_id=111232345, site_location='123 Main Street, Dallas, TX', violation_type='Lack of fall protection, Unsafe scaffolding setup, Inadequate personal protective equipment (PPE)', required_changes='Install guardrails and fall arrest systems on all scaffolding over 10 feet. Conduct an inspection of all scaffolding structures and reinforce unstable sections. Ensure all workers on-site are provided with necessary PPE and conduct safety training on proper usage.', max_potential_fine=25000.0, date_of_notice=datetime.date(2024, 10, 15), compliance_deadline=datetime.date(2024, 11, 10))"
            ]
          },
          "metadata": {},
          "execution_count": 33
        }
      ]
    },
    {
      "cell_type": "code",
      "source": [
        "final_state[\"requires_escalation\"]"
      ],
      "metadata": {
        "colab": {
          "base_uri": "https://localhost:8080/"
        },
        "id": "7p2XTuPAxjEC",
        "outputId": "bd671b10-913e-40fe-da09-a41715658594"
      },
      "execution_count": 34,
      "outputs": [
        {
          "output_type": "execute_result",
          "data": {
            "text/plain": [
              "False"
            ]
          },
          "metadata": {},
          "execution_count": 34
        }
      ]
    },
    {
      "cell_type": "markdown",
      "source": [
        "So far, you’ve built a graph with a couple of nodes and edges between them that can’t do much more than a chain. In this section, you’ll learn about conditional edges, which you can use to move beyond chain-like structures to create intricate, conditional, and even cyclic workflows."
      ],
      "metadata": {
        "id": "Dr8H6i9XxuyG"
      }
    },
    {
      "cell_type": "code",
      "source": [
        "import random\n",
        "import time\n",
        "from pydantic import EmailStr\n",
        "\n",
        "def send_escalation_email(\n",
        "    notice_email_extract: NoticeEmailExtract,\n",
        "    escalation_emails: list[EmailStr]\n",
        ") -> None:\n",
        "    \"\"\"Simulate sending escalation emails\"\"\"\n",
        "    for email in escalation_emails:\n",
        "        time.sleep(1)\n",
        "\n",
        "def create_legal_ticket(\n",
        "    current_follow_ups: dict[str, bool] | None,\n",
        "    notice_email_extract: NoticeEmailExtract,\n",
        ") -> str | None:\n",
        "    \"\"\"Simulate creating a legal ticket using your company's API.\"\"\"\n",
        "    time.sleep(2)\n",
        "\n",
        "    follow_ups = [\n",
        "        None,\n",
        "        \"\"\"Does this message mention the states of Texas,\n",
        "        Georgia, or New Jersey?\"\"\",\n",
        "        \"\"\"Did this notice involve an issue with FakeAirCo's\n",
        "        HVAC system?\"\"\",\n",
        "    ]\n",
        "\n",
        "    if current_follow_ups:\n",
        "        follow_ups = [\n",
        "            f for f in follow_ups if f not in current_follow_ups.keys()\n",
        "        ]\n",
        "    follow_up = random.choice(follow_ups)\n",
        "    if not follow_up:\n",
        "        return follow_up\n",
        "    return follow_up"
      ],
      "metadata": {
        "id": "DYGI6KTUxmZF"
      },
      "execution_count": 36,
      "outputs": []
    },
    {
      "cell_type": "code",
      "source": [
        "from typing import TypedDict\n",
        "from langgraph.graph import END, START, StateGraph\n",
        "from pydantic import EmailStr\n",
        "\n",
        "\n",
        "def send_escalation_email_node(state: GraphState) -> GraphState:\n",
        "    \"\"\"Send an escalation email\"\"\"\n",
        "    send_escalation_email(\n",
        "        notice_email_extract=state[\"notice_email_extract\"],\n",
        "        escalation_emails=state[\"escalation_emails\"],\n",
        "    )\n",
        "    return state\n",
        "\n",
        "def create_legal_ticket_node(state: GraphState) -> GraphState:\n",
        "    \"\"\"Node to create a legal ticket\"\"\"\n",
        "    follow_up = create_legal_ticket(\n",
        "        current_follow_ups=state.get(\"follow_ups\"),\n",
        "        notice_email_extract=state[\"notice_email_extract\"],\n",
        "    )\n",
        "    state[\"current_follow_up\"] = follow_up\n",
        "    return state"
      ],
      "metadata": {
        "id": "vmjuUuL4yDMS"
      },
      "execution_count": 37,
      "outputs": []
    },
    {
      "cell_type": "code",
      "source": [
        "# ...\n",
        "\n",
        "def route_escalation_status_edge(state: GraphState) -> str:\n",
        "    \"\"\"Determine whether to send an escalation email or\n",
        "    create a legal ticket\"\"\"\n",
        "    if state[\"requires_escalation\"]:\n",
        "        return \"send_escalation_email\"\n",
        "    return \"create_legal_ticket\"\n",
        "\n",
        "\n",
        "workflow.add_node(\"send_escalation_email\", send_escalation_email_node)\n",
        "workflow.add_node(\"create_legal_ticket\", create_legal_ticket_node)\n",
        "\n",
        "workflow.add_edge(START, \"parse_notice_message\")\n",
        "workflow.add_edge(\"parse_notice_message\", \"check_escalation_status\")\n",
        "workflow.add_conditional_edges(\n",
        "    \"check_escalation_status\",\n",
        "    route_escalation_status_edge,\n",
        "    {\n",
        "        \"send_escalation_email\": \"send_escalation_email\",\n",
        "        \"create_legal_ticket\": \"create_legal_ticket\",\n",
        "    },\n",
        ")\n",
        "workflow.add_edge(\"send_escalation_email\", \"create_legal_ticket\")\n",
        "workflow.add_edge(\"create_legal_ticket\", END)\n",
        "\n",
        "NOTICE_EXTRACTION_GRAPH = workflow.compile()"
      ],
      "metadata": {
        "colab": {
          "base_uri": "https://localhost:8080/"
        },
        "id": "6EAxkvwfyfXY",
        "outputId": "8b2a2058-86dd-4cf1-f856-5450f0a07869"
      },
      "execution_count": 41,
      "outputs": [
        {
          "output_type": "stream",
          "name": "stderr",
          "text": [
            "WARNING:langgraph.graph.state:Adding a node to a graph that has already been compiled. This will not be reflected in the compiled graph.\n",
            "WARNING:langgraph.graph.state:Adding a node to a graph that has already been compiled. This will not be reflected in the compiled graph.\n",
            "WARNING:langgraph.graph.graph:Adding an edge to a graph that has already been compiled. This will not be reflected in the compiled graph.\n",
            "WARNING:langgraph.graph.graph:Adding an edge to a graph that has already been compiled. This will not be reflected in the compiled graph.\n",
            "WARNING:langgraph.graph.state:Adding an edge to a graph that has already been compiled. This will not be reflected in the compiled graph.\n",
            "WARNING:langgraph.graph.graph:Adding an edge to a graph that has already been compiled. This will not be reflected in the compiled graph.\n",
            "WARNING:langgraph.graph.graph:Adding an edge to a graph that has already been compiled. This will not be reflected in the compiled graph.\n"
          ]
        }
      ]
    },
    {
      "cell_type": "code",
      "source": [
        "NOTICE_EXTRACTION_GRAPH"
      ],
      "metadata": {
        "colab": {
          "base_uri": "https://localhost:8080/",
          "height": 548
        },
        "id": "1ipYkYX0y6bE",
        "outputId": "cf954995-9b58-4d0a-c008-a9b390e8a113"
      },
      "execution_count": 42,
      "outputs": [
        {
          "output_type": "execute_result",
          "data": {
            "text/plain": [
              "<langgraph.graph.state.CompiledStateGraph object at 0x79e90165d710>"
            ],
            "image/png": "[encoded data removed]"
          },
          "metadata": {},
          "execution_count": 42
        }
      ]
    },
    {
      "cell_type": "code",
      "source": [
        "initial_state_no_escalation = {\n",
        "    \"notice_message\": EMAILS[0],\n",
        "    \"notice_email_extract\": None,\n",
        "    \"escalation_text_criteria\": \"\"\"There's a risk of water\n",
        "     damage at the site\"\"\",\n",
        "    \"escalation_dollar_criteria\": 100_000,\n",
        "    \"requires_escalation\": False,\n",
        "    \"escalation_emails\": [\"brog@abc.com\", \"bigceo@company.com\"],\n",
        "}\n",
        "\n",
        "initial_state_escalation = {\n",
        "    \"notice_message\": EMAILS[0],\n",
        "    \"notice_email_extract\": None,\n",
        "    \"escalation_text_criteria\": \"\"\"Workers explicitly violating\n",
        "     safety protocols\"\"\",\n",
        "    \"escalation_dollar_criteria\": 100_000,\n",
        "    \"requires_escalation\": False,\n",
        "    \"escalation_emails\": [\"brog@abc.com\", \"bigceo@company.com\"],\n",
        "}"
      ],
      "metadata": {
        "id": "o-rFnstA0M7S"
      },
      "execution_count": 43,
      "outputs": []
    },
    {
      "cell_type": "code",
      "source": [
        "no_esc_result = NOTICE_EXTRACTION_GRAPH.invoke(initial_state_no_escalation)"
      ],
      "metadata": {
        "id": "FMw1Ip6h05z1"
      },
      "execution_count": 46,
      "outputs": []
    },
    {
      "cell_type": "code",
      "source": [
        "no_esc_result[\"requires_escalation\"]"
      ],
      "metadata": {
        "colab": {
          "base_uri": "https://localhost:8080/"
        },
        "id": "m1bYFFe_0wQS",
        "outputId": "60137982-8e83-4aae-df0d-3ef06aaed87b"
      },
      "execution_count": 47,
      "outputs": [
        {
          "output_type": "execute_result",
          "data": {
            "text/plain": [
              "False"
            ]
          },
          "metadata": {},
          "execution_count": 47
        }
      ]
    },
    {
      "cell_type": "code",
      "source": [
        "esc_result = NOTICE_EXTRACTION_GRAPH.invoke(initial_state_escalation)"
      ],
      "metadata": {
        "id": "-CdPciwN03dJ"
      },
      "execution_count": 48,
      "outputs": []
    },
    {
      "cell_type": "code",
      "source": [
        "esc_result[\"requires_escalation\"]"
      ],
      "metadata": {
        "colab": {
          "base_uri": "https://localhost:8080/"
        },
        "id": "iY8z-At60z9H",
        "outputId": "a84dad83-f9a1-4412-b672-bd45528769a3"
      },
      "execution_count": 49,
      "outputs": [
        {
          "output_type": "execute_result",
          "data": {
            "text/plain": [
              "True"
            ]
          },
          "metadata": {},
          "execution_count": 49
        }
      ]
    },
    {
      "cell_type": "code",
      "source": [
        "from langchain_groq import ChatGroq\n",
        "from langchain_core.prompts import ChatPromptTemplate\n",
        "from pydantic import BaseModel, Field\n",
        "\n",
        "class BinaryAnswer(BaseModel):\n",
        "    is_true: bool = Field(\n",
        "        description=\"\"\"Whether the answer to the question is yes or no.\n",
        "        True if yes otherwise False.\"\"\"\n",
        "    )\n",
        "\n",
        "binary_question_prompt = ChatPromptTemplate.from_messages(\n",
        "    [\n",
        "        (\n",
        "            \"system\",\n",
        "            \"\"\"\n",
        "            Answer this question as True for \"yes\" and False for \"no\".\n",
        "            No other answers are allowed:\n",
        "\n",
        "            {question}\n",
        "            \"\"\",\n",
        "        )\n",
        "    ]\n",
        ")\n",
        "\n",
        "binary_question_model = ChatGroq(model=\"llama-3.3-70b-versatile\", temperature=0)\n",
        "\n",
        "BINARY_QUESTION_CHAIN = (\n",
        "    binary_question_prompt\n",
        "    | binary_question_model.with_structured_output(BinaryAnswer)\n",
        ")"
      ],
      "metadata": {
        "id": "hXPDCoxK00WR"
      },
      "execution_count": 50,
      "outputs": []
    },
    {
      "cell_type": "code",
      "source": [
        "from typing import TypedDict\n",
        "from langgraph.graph import END, START, StateGraph\n",
        "from pydantic import EmailStr\n",
        "\n",
        "def answer_follow_up_question_node(state: GraphState) -> GraphState:\n",
        "    \"\"\"Answer follow-up questions about the notice using\n",
        "    BINARY_QUESTION_CHAIN\"\"\"\n",
        "    if state[\"current_follow_up\"]:\n",
        "        question = state[\"current_follow_up\"] + \" \" + state[\"notice_message\"]\n",
        "        answer = BINARY_QUESTION_CHAIN.invoke({\"question\": question})\n",
        "        if state.get(\"follow_ups\"):\n",
        "            state[\"follow_ups\"][state[\"current_follow_up\"]] = answer\n",
        "        else:\n",
        "            state[\"follow_ups\"] = {state[\"current_follow_up\"]: answer}\n",
        "    return state"
      ],
      "metadata": {
        "id": "8W-kPAZs1S4m"
      },
      "execution_count": 51,
      "outputs": []
    },
    {
      "cell_type": "code",
      "source": [
        "# ...\n",
        "\n",
        "def route_follow_up_edge(state: GraphState) -> str:\n",
        "    \"\"\"Determine whether a follow-up question is required\"\"\"\n",
        "    if state.get(\"current_follow_up\"):\n",
        "        return \"answer_follow_up_question\"\n",
        "    return END\n",
        "\n",
        "# ..."
      ],
      "metadata": {
        "id": "l4EWcQnC1b3o"
      },
      "execution_count": 52,
      "outputs": []
    },
    {
      "cell_type": "code",
      "source": [
        "# ...\n",
        "\n",
        "workflow.add_edge(START, \"parse_notice_message\")\n",
        "workflow.add_edge(\"parse_notice_message\", \"check_escalation_status\")\n",
        "workflow.add_conditional_edges(\n",
        "    \"create_legal_ticket\",\n",
        "    route_follow_up_edge,\n",
        "    {\n",
        "        \"answer_follow_up_question\": \"answer_follow_up_question\",\n",
        "        END: END,\n",
        "    },\n",
        ")\n",
        "\n",
        "workflow.add_edge(\"send_escalation_email\", \"create_legal_ticket\")\n",
        "workflow.add_edge(\"answer_follow_up_question\", \"create_legal_ticket\")\n",
        "\n",
        "NOTICE_EXTRACTION_GRAPH = workflow.compile()"
      ],
      "metadata": {
        "colab": {
          "base_uri": "https://localhost:8080/"
        },
        "id": "wqokpgcr1hdN",
        "outputId": "50bdd39e-b4d8-40a6-ea05-4509c9376328"
      },
      "execution_count": 59,
      "outputs": [
        {
          "output_type": "stream",
          "name": "stderr",
          "text": [
            "WARNING:langgraph.graph.graph:Adding an edge to a graph that has already been compiled. This will not be reflected in the compiled graph.\n",
            "WARNING:langgraph.graph.graph:Adding an edge to a graph that has already been compiled. This will not be reflected in the compiled graph.\n",
            "WARNING:langgraph.graph.state:Adding an edge to a graph that has already been compiled. This will not be reflected in the compiled graph.\n",
            "WARNING:langgraph.graph.graph:Adding an edge to a graph that has already been compiled. This will not be reflected in the compiled graph.\n",
            "WARNING:langgraph.graph.graph:Adding an edge to a graph that has already been compiled. This will not be reflected in the compiled graph.\n"
          ]
        }
      ]
    },
    {
      "cell_type": "code",
      "source": [
        "NOTICE_EXTRACTION_GRAPH"
      ],
      "metadata": {
        "colab": {
          "base_uri": "https://localhost:8080/",
          "height": 563
        },
        "id": "DUUSA1qj1jJd",
        "outputId": "fe2289cc-f748-4aaa-df47-2067a2a63293"
      },
      "execution_count": 60,
      "outputs": [
        {
          "output_type": "execute_result",
          "data": {
            "text/plain": [
              "<langgraph.graph.state.CompiledStateGraph object at 0x79e9004e2950>"
            ],
            "image/png": "[encoded data removed]"
          },
          "metadata": {},
          "execution_count": 60
        }
      ]
    },
    {
      "cell_type": "code",
      "source": [
        "results = NOTICE_EXTRACTION_GRAPH.invoke(initial_state_escalation)"
      ],
      "metadata": {
        "id": "p7-9IE9L1_1A"
      },
      "execution_count": 61,
      "outputs": []
    },
    {
      "cell_type": "code",
      "source": [
        "results[\"follow_ups\"]"
      ],
      "metadata": {
        "colab": {
          "base_uri": "https://localhost:8080/"
        },
        "id": "wHYDUB1S2CP0",
        "outputId": "ce6791a6-ca51-441b-bbc7-7930db010a18"
      },
      "execution_count": 62,
      "outputs": [
        {
          "output_type": "execute_result",
          "data": {
            "text/plain": [
              "{\"Did this notice involve an issue with FakeAirCo's\\n        HVAC system?\": BinaryAnswer(is_true=False)}"
            ]
          },
          "metadata": {},
          "execution_count": 62
        }
      ]
    },
    {
      "cell_type": "code",
      "source": [],
      "metadata": {
        "id": "eEvOLsq12CyC"
      },
      "execution_count": 62,
      "outputs": []
    }
  ]
}