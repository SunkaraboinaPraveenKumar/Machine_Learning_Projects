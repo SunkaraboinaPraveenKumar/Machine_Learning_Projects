{
  "nbformat": 4,
  "nbformat_minor": 0,
  "metadata": {
    "colab": {
      "provenance": [],
      "authorship_tag": "ABX9TyPPZ5OZ3Clz7/rQ/qdHiIMh",
      "include_colab_link": true
    },
    "kernelspec": {
      "name": "python3",
      "display_name": "Python 3"
    },
    "language_info": {
      "name": "python"
    }
  },
  "cells": [
    {
      "cell_type": "markdown",
      "metadata": {
        "id": "view-in-github",
        "colab_type": "text"
      },
      "source": [
        "<a href=\"https://colab.research.google.com/github/SunkaraboinaPraveenKumar/Machine_Learning_Projects/blob/main/BuildingLassoRegression.ipynb\" target=\"_parent\"><img src=\"https://colab.research.google.com/assets/colab-badge.svg\" alt=\"Open In Colab\"/></a>"
      ]
    },
    {
      "cell_type": "code",
      "execution_count": 1,
      "metadata": {
        "id": "6RDvJvG1zldj"
      },
      "outputs": [],
      "source": [
        "#Importing the dependencies\n",
        "import numpy as np"
      ]
    },
    {
      "cell_type": "code",
      "source": [
        "#creating a class for LassoRegression\n",
        "class Lasso_Regression:\n",
        "  #initiating the hyper parameters learning rate and no of epochs or iterations\n",
        "  def __init__(self,learning_rate,no_of_iterations,lambda_parameter):\n",
        "    self.learning_rate=learning_rate\n",
        "    self.no_of_iterations=no_of_iterations\n",
        "    self.lambda_parameter=lambda_parameter\n",
        "  #Fitting the dataset to Lasso Regression\n",
        "  def fit(self,X,Y):\n",
        "    # m number of data points in the dataset --> no of rows\n",
        "    # n is number of input features or columns in the dataset\n",
        "    self.m,self.n=X.shape\n",
        "    #initializing weight and bias as zeroes\n",
        "    self.w=np.zeros(self.n)\n",
        "    self.b=0\n",
        "    self.X=X\n",
        "    self.Y=Y\n",
        "    #gradient descent implementation for optimum values of weight and bias\n",
        "    for i in range(self.no_of_iterations):\n",
        "      self.updateweights()\n",
        "  #function for updating the weights and bias value\n",
        "  def update_weights(self):\n",
        "    #linear equation\n",
        "    Y_prediction=self.predict(self.X)\n",
        "    # gradients (dw,db)\n",
        "    dw=np.zeros(self.n)\n",
        "    #gradient of weight\n",
        "    for i in range(self.n):\n",
        "      if self.w[i]>0:\n",
        "        dw[i]=(-2/self.m)*(self.X[:,i].dot(self.Y-Y_prediction))+self.lambda_parameter\n",
        "      else:\n",
        "        dw[i]=(-2/self.m)*(self.X[:,i].dot(self.Y-Y_prediction))-self.lambda_parameter\n",
        "    db=(-2/self.m)*np.sum(self.Y-Y_prediction)\n",
        "    self.w=self.w-self.learning_rate*dw\n",
        "    self.b=self.b-self.learning_rate*db\n",
        "  #predicting the Target variable\n",
        "  def predict(self,X):\n",
        "    return X.dot(self.w)+self.b"
      ],
      "metadata": {
        "id": "bhSU-dHU0s8I"
      },
      "execution_count": 8,
      "outputs": []
    },
    {
      "cell_type": "code",
      "source": [
        "model=Lasso_Regression(learning_rate=0.001,no_of_iterations=1000,lambda_parameter=0.01)"
      ],
      "metadata": {
        "id": "Y4OwQBa21fwn"
      },
      "execution_count": 9,
      "outputs": []
    },
    {
      "cell_type": "code",
      "source": [],
      "metadata": {
        "id": "RKPPFxGF6Cvi"
      },
      "execution_count": null,
      "outputs": []
    }
  ]
}