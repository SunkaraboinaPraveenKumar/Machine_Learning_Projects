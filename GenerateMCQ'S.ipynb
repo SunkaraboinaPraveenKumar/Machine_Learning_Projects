{
  "nbformat": 4,
  "nbformat_minor": 0,
  "metadata": {
    "colab": {
      "provenance": [],
      "authorship_tag": "ABX9TyNO2GFNyf02yOWUG9vhj6lK",
      "include_colab_link": true
    },
    "kernelspec": {
      "name": "python3",
      "display_name": "Python 3"
    },
    "language_info": {
      "name": "python"
    }
  },
  "cells": [
    {
      "cell_type": "markdown",
      "metadata": {
        "id": "view-in-github",
        "colab_type": "text"
      },
      "source": [
        "<a href=\"https://colab.research.google.com/github/SunkaraboinaPraveenKumar/Machine_Learning_Projects/blob/main/GenerateMCQ'S.ipynb\" target=\"_parent\"><img src=\"https://colab.research.google.com/assets/colab-badge.svg\" alt=\"Open In Colab\"/></a>"
      ]
    },
    {
      "cell_type": "code",
      "execution_count": 6,
      "metadata": {
        "id": "PL0Va6YjhoTh"
      },
      "outputs": [],
      "source": [
        "import spacy\n",
        "import random\n",
        "from collections import Counter"
      ]
    },
    {
      "cell_type": "code",
      "source": [
        "num_questions=5"
      ],
      "metadata": {
        "id": "o635ua1cjc8M"
      },
      "execution_count": 7,
      "outputs": []
    },
    {
      "cell_type": "code",
      "source": [
        "nlp=spacy.load('en_core_web_sm')"
      ],
      "metadata": {
        "id": "d8yvIHjhjBZ2"
      },
      "execution_count": 15,
      "outputs": []
    },
    {
      "cell_type": "code",
      "source": [
        "doc=nlp(\"The capital of France is Paris. Mars is known as the Red Planet. 'Hamlet' was written by William Shakespeare. The chemical symbol 'O' represents Oxygen. The largest ocean on Earth is the Pacific Ocean. The Mona Lisa was painted by Leonardo da Vinci. Portuguese is the primary language spoken in Brazil. The square root of 64 is 8. The smallest prime number is 2. HTML is not a programming language; it is a markup language.\")"
      ],
      "metadata": {
        "id": "39aP-IjxjWfN"
      },
      "execution_count": 21,
      "outputs": []
    },
    {
      "cell_type": "code",
      "source": [
        "doc.sents"
      ],
      "metadata": {
        "colab": {
          "base_uri": "https://localhost:8080/"
        },
        "id": "DsSCr3yJkhs-",
        "outputId": "c4049b54-eec8-4551-fd18-1fcc45d28a74"
      },
      "execution_count": 22,
      "outputs": [
        {
          "output_type": "execute_result",
          "data": {
            "text/plain": [
              "<generator at 0x7bd84a62a340>"
            ]
          },
          "metadata": {},
          "execution_count": 22
        }
      ]
    },
    {
      "cell_type": "code",
      "source": [
        "sentences=[sent.text for sent in doc.sents]"
      ],
      "metadata": {
        "id": "ihcs5xSQkjxM"
      },
      "execution_count": 27,
      "outputs": []
    },
    {
      "cell_type": "code",
      "source": [
        "sentences"
      ],
      "metadata": {
        "colab": {
          "base_uri": "https://localhost:8080/"
        },
        "id": "8QFA1zXwlq8d",
        "outputId": "7877f82d-7c2f-43a5-86d0-32f24234cfe8"
      },
      "execution_count": 28,
      "outputs": [
        {
          "output_type": "execute_result",
          "data": {
            "text/plain": [
              "['The capital of France is Paris.',\n",
              " 'Mars is known as the Red Planet.',\n",
              " \"'Hamlet' was written by William Shakespeare.\",\n",
              " \"The chemical symbol 'O' represents Oxygen.\",\n",
              " 'The largest ocean on Earth is the Pacific Ocean.',\n",
              " 'The Mona Lisa was painted by Leonardo da Vinci.',\n",
              " 'Portuguese is the primary language spoken in Brazil.',\n",
              " 'The square root of 64 is 8.',\n",
              " 'The smallest prime number is 2.',\n",
              " 'HTML is not a programming language; it is a markup language.']"
            ]
          },
          "metadata": {},
          "execution_count": 28
        }
      ]
    },
    {
      "cell_type": "code",
      "source": [
        "len(sentences)"
      ],
      "metadata": {
        "colab": {
          "base_uri": "https://localhost:8080/"
        },
        "id": "vI8i6KdClv08",
        "outputId": "a5a15819-6161-4ce6-aeea-19b3f8e47ee4"
      },
      "execution_count": 29,
      "outputs": [
        {
          "output_type": "execute_result",
          "data": {
            "text/plain": [
              "10"
            ]
          },
          "metadata": {},
          "execution_count": 29
        }
      ]
    },
    {
      "cell_type": "code",
      "source": [
        "selected_sentences=random.sample(sentences,min(num_questions,len(sentences)))\n",
        "selected_sentences"
      ],
      "metadata": {
        "colab": {
          "base_uri": "https://localhost:8080/"
        },
        "id": "dd9lPuVClybT",
        "outputId": "d60f8be1-ebc9-4659-e356-2e50ebba662f"
      },
      "execution_count": 33,
      "outputs": [
        {
          "output_type": "execute_result",
          "data": {
            "text/plain": [
              "['The capital of France is Paris.',\n",
              " 'Portuguese is the primary language spoken in Brazil.',\n",
              " 'The largest ocean on Earth is the Pacific Ocean.',\n",
              " \"The chemical symbol 'O' represents Oxygen.\",\n",
              " 'HTML is not a programming language; it is a markup language.']"
            ]
          },
          "metadata": {},
          "execution_count": 33
        }
      ]
    },
    {
      "cell_type": "code",
      "source": [
        "mcqs=[]\n",
        "#Generate MCQs for each selective sentences\n",
        "for sentence in selected_sentences:\n",
        "  sentence=sentence.lower()\n",
        "  # process with spacy\n",
        "  sent_doc=nlp(sentence)\n",
        "  #Extract entities(nouns)\n",
        "  nouns=[token.text for token in sent_doc if token.pos_==\"NOUN\"]\n",
        "\n",
        "  if len(nouns)<2:\n",
        "    continue\n",
        "  noun_counts=Counter(nouns)\n",
        "\n",
        "  if noun_counts:\n",
        "    subject=noun_counts.most_common(1)[0][0]\n",
        "    answer_choices = [subject]\n",
        "    question_stem=sentence.replace(subject,\"________\")\n",
        "    for _ in range(3):\n",
        "      distractor=random.choice(list(set(nouns) - set([subject])))\n",
        "      answer_choices.append(distractor)\n",
        "\n",
        "    random.shuffle(answer_choices)\n",
        "    correct_answer = chr(64+answer_choices.index(subject)+1)\n",
        "    mcqs.append((question_stem,answer_choices,correct_answer))"
      ],
      "metadata": {
        "id": "BKLTKCo4mN-g"
      },
      "execution_count": 48,
      "outputs": []
    },
    {
      "cell_type": "code",
      "source": [
        "mcqs"
      ],
      "metadata": {
        "colab": {
          "base_uri": "https://localhost:8080/"
        },
        "id": "uXYveoNOnHEB",
        "outputId": "321ab974-592f-4c8d-8564-307e6688da83"
      },
      "execution_count": 49,
      "outputs": [
        {
          "output_type": "execute_result",
          "data": {
            "text/plain": [
              "[('the largest ________ on earth is the pacific ________.',\n",
              "  ['earth', 'ocean', 'earth', 'earth'],\n",
              "  'B'),\n",
              " (\"the chemical ________ 'o' represents oxygen.\",\n",
              "  ['symbol', 'oxygen', 'oxygen', 'oxygen'],\n",
              "  'A'),\n",
              " ('html is not a programming ________; it is a markup ________.',\n",
              "  ['html', 'html', 'html', 'language'],\n",
              "  'D')]"
            ]
          },
          "metadata": {},
          "execution_count": 49
        }
      ]
    },
    {
      "cell_type": "code",
      "source": [
        "import spacy\n",
        "from collections import Counter\n",
        "import random\n",
        "\n",
        "nlp=spacy.load(\"en_core_web_sm\")\n",
        "\n",
        "def generate_mcqs(text,num_questions):\n",
        "  if text is None:\n",
        "    return []\n",
        "  doc=nlp(text)\n",
        "\n",
        "  sentences=[sent.text for sent in doc.sents]\n",
        "\n",
        "  selected_sentences = random.sample(sentences,min(num_questions,len(sentences)))\n",
        "  mcqs=[]\n",
        "  #Generate MCQs for each selective sentences\n",
        "  for sentence in selected_sentences:\n",
        "    # process with spacy\n",
        "    sent_doc=nlp(sentence)\n",
        "    #Extract entities(nouns)\n",
        "    nouns=[token.text for token in sent_doc if token.pos_==\"NOUN\"]\n",
        "\n",
        "    if len(nouns)<2:\n",
        "      continue\n",
        "    noun_counts=Counter(nouns)\n",
        "\n",
        "    if noun_counts:\n",
        "      subject=noun_counts.most_common(1)[0][0]\n",
        "      answer_choices = [subject]\n",
        "      question_stem=sentence.replace(subject,\"________\")\n",
        "      distractors =list(set(nouns)-{subject})\n",
        "\n",
        "      while len(distractors)<3:\n",
        "        distractors.append(\"[Distractor]\")\n",
        "      random.shuffle(distractors)\n",
        "      for distractor in distractors[:3]:\n",
        "        answer_choices.append(distractor)\n",
        "\n",
        "      random.shuffle(answer_choices)\n",
        "      correct_answer = chr(64+answer_choices.index(subject)+1)\n",
        "      mcqs.append((question_stem,answer_choices,correct_answer))\n",
        "  return mcqs\n"
      ],
      "metadata": {
        "id": "cB7uc4bgqMZB"
      },
      "execution_count": 72,
      "outputs": []
    },
    {
      "cell_type": "code",
      "source": [
        "text=\"\"\"\n",
        "The advancements in artificial intelligence (AI) over the past few decades have revolutionized numerous industries, from healthcare to finance, and from manufacturing to education. In healthcare, AI has enabled the development of sophisticated diagnostic tools that can analyze medical images with incredible accuracy, often surpassing human capabilities. Machine learning algorithms can predict patient outcomes, optimize treatment plans, and even assist in drug discovery. In the financial sector, AI-driven algorithms are employed for high-frequency trading, fraud detection, and risk management, helping institutions make data-driven decisions with unparalleled speed and precision. The manufacturing industry has seen the rise of AI-powered automation, where robots and smart systems enhance production efficiency, reduce errors, and ensure safety in the workplace. Education has also benefited from AI, with personalized learning platforms that adapt to the needs of individual students, providing tailored content and feedback. Moreover, AI-powered tools help educators analyze student performance, identify learning gaps, and create customized curricula to address those gaps. Despite these advancements, the rise of AI has also sparked ethical debates concerning job displacement, privacy concerns, and the potential for bias in AI systems. As AI continues to evolve, it is crucial for society to address these challenges and ensure that the benefits of AI are distributed equitably across all sectors.\n",
        "\"\"\"\n",
        "results=generate_mcqs(text,num_questions=5)\n",
        "\n",
        "for i,mcq in enumerate(results,start=1):\n",
        "  question_stem,answer_choices,correct_answer=mcq\n",
        "  print(f\"Question{i}: {question_stem}\")\n",
        "  for j,choice in enumerate(answer_choices,start=1):\n",
        "    print(f\"{chr(64+j)}: {choice}\")\n",
        "  print(f\"Correct Answer: {correct_answer}\")\n",
        "  print(\"====================================================\")"
      ],
      "metadata": {
        "colab": {
          "base_uri": "https://localhost:8080/"
        },
        "id": "_QeWv8AorOhV",
        "outputId": "b547a033-6da0-405c-9918-e372917baa3c"
      },
      "execution_count": 73,
      "outputs": [
        {
          "output_type": "stream",
          "name": "stdout",
          "text": [
            "Question1: Moreover, AI-powered tools help educators analyze student performance, identify learning ________, and create customized curricula to address those ________.\n",
            "A: performance\n",
            "B: educators\n",
            "C: gaps\n",
            "D: curricula\n",
            "Correct Answer: C\n",
            "====================================================\n",
            "Question2: \n",
            "The ________ in artificial intelligence (AI) over the past few decades have revolutionized numerous industries, from healthcare to finance, and from manufacturing to education.\n",
            "A: education\n",
            "B: decades\n",
            "C: advancements\n",
            "D: industries\n",
            "Correct Answer: C\n",
            "====================================================\n",
            "Question3: In the financial ________, AI-driven algorithms are employed for high-frequency trading, fraud detection, and risk management, helping institutions make data-driven decisions with unparalleled speed and precision.\n",
            "A: frequency\n",
            "B: sector\n",
            "C: detection\n",
            "D: risk\n",
            "Correct Answer: B\n",
            "====================================================\n",
            "Question4: The ________ industry has seen the rise of AI-powered automation, where robots and smart systems enhance production efficiency, reduce errors, and ensure safety in the workplace.\n",
            "A: manufacturing\n",
            "B: automation\n",
            "C: rise\n",
            "D: errors\n",
            "Correct Answer: A\n",
            "====================================================\n",
            "Question5: ________ has also benefited from AI, with personalized learning platforms that adapt to the needs of individual students, providing tailored content and feedback.\n",
            "A: Education\n",
            "B: learning\n",
            "C: needs\n",
            "D: feedback\n",
            "Correct Answer: A\n",
            "====================================================\n"
          ]
        }
      ]
    },
    {
      "cell_type": "code",
      "source": [],
      "metadata": {
        "id": "JLFQB3tyr8fE"
      },
      "execution_count": null,
      "outputs": []
    }
  ]
}