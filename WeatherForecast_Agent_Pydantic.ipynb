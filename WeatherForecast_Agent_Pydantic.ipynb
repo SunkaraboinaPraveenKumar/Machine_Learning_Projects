{
  "nbformat": 4,
  "nbformat_minor": 0,
  "metadata": {
    "colab": {
      "provenance": [],
      "authorship_tag": "ABX9TyPF+cPFWPTi24lJCk2VqnEk",
      "include_colab_link": true
    },
    "kernelspec": {
      "name": "python3",
      "display_name": "Python 3"
    },
    "language_info": {
      "name": "python"
    }
  },
  "cells": [
    {
      "cell_type": "markdown",
      "metadata": {
        "id": "view-in-github",
        "colab_type": "text"
      },
      "source": [
        "<a href=\"https://colab.research.google.com/github/SunkaraboinaPraveenKumar/Machine_Learning_Projects/blob/main/WeatherForecast_Agent_Pydantic.ipynb\" target=\"_parent\"><img src=\"https://colab.research.google.com/assets/colab-badge.svg\" alt=\"Open In Colab\"/></a>"
      ]
    },
    {
      "cell_type": "code",
      "execution_count": 6,
      "metadata": {
        "id": "xHzSypYxuYbJ",
        "colab": {
          "base_uri": "https://localhost:8080/"
        },
        "outputId": "b698fed5-5ade-4470-efbf-9f726e568e43"
      },
      "outputs": [
        {
          "output_type": "stream",
          "name": "stdout",
          "text": [
            "Requirement already satisfied: pydantic-ai==0.1.3 in /usr/local/lib/python3.11/dist-packages (0.1.3)\n",
            "Requirement already satisfied: pydantic-ai-slim==0.1.3 in /usr/local/lib/python3.11/dist-packages (from pydantic-ai-slim[anthropic,bedrock,cli,cohere,evals,groq,mcp,mistral,openai,vertexai]==0.1.3->pydantic-ai==0.1.3) (0.1.3)\n",
            "Requirement already satisfied: eval-type-backport>=0.2.0 in /usr/local/lib/python3.11/dist-packages (from pydantic-ai-slim==0.1.3->pydantic-ai-slim[anthropic,bedrock,cli,cohere,evals,groq,mcp,mistral,openai,vertexai]==0.1.3->pydantic-ai==0.1.3) (0.2.2)\n",
            "Requirement already satisfied: griffe>=1.3.2 in /usr/local/lib/python3.11/dist-packages (from pydantic-ai-slim==0.1.3->pydantic-ai-slim[anthropic,bedrock,cli,cohere,evals,groq,mcp,mistral,openai,vertexai]==0.1.3->pydantic-ai==0.1.3) (1.7.2)\n",
            "Requirement already satisfied: httpx>=0.27 in /usr/local/lib/python3.11/dist-packages (from pydantic-ai-slim==0.1.3->pydantic-ai-slim[anthropic,bedrock,cli,cohere,evals,groq,mcp,mistral,openai,vertexai]==0.1.3->pydantic-ai==0.1.3) (0.28.1)\n",
            "Requirement already satisfied: opentelemetry-api>=1.28.0 in /usr/local/lib/python3.11/dist-packages (from pydantic-ai-slim==0.1.3->pydantic-ai-slim[anthropic,bedrock,cli,cohere,evals,groq,mcp,mistral,openai,vertexai]==0.1.3->pydantic-ai==0.1.3) (1.32.1)\n",
            "Requirement already satisfied: pydantic-graph==0.1.3 in /usr/local/lib/python3.11/dist-packages (from pydantic-ai-slim==0.1.3->pydantic-ai-slim[anthropic,bedrock,cli,cohere,evals,groq,mcp,mistral,openai,vertexai]==0.1.3->pydantic-ai==0.1.3) (0.1.3)\n",
            "Requirement already satisfied: pydantic>=2.10 in /usr/local/lib/python3.11/dist-packages (from pydantic-ai-slim==0.1.3->pydantic-ai-slim[anthropic,bedrock,cli,cohere,evals,groq,mcp,mistral,openai,vertexai]==0.1.3->pydantic-ai==0.1.3) (2.11.3)\n",
            "Requirement already satisfied: typing-inspection>=0.4.0 in /usr/local/lib/python3.11/dist-packages (from pydantic-ai-slim==0.1.3->pydantic-ai-slim[anthropic,bedrock,cli,cohere,evals,groq,mcp,mistral,openai,vertexai]==0.1.3->pydantic-ai==0.1.3) (0.4.0)\n",
            "Requirement already satisfied: anthropic>=0.49.0 in /usr/local/lib/python3.11/dist-packages (from pydantic-ai-slim[anthropic,bedrock,cli,cohere,evals,groq,mcp,mistral,openai,vertexai]==0.1.3->pydantic-ai==0.1.3) (0.50.0)\n",
            "Requirement already satisfied: boto3>=1.35.74 in /usr/local/lib/python3.11/dist-packages (from pydantic-ai-slim[anthropic,bedrock,cli,cohere,evals,groq,mcp,mistral,openai,vertexai]==0.1.3->pydantic-ai==0.1.3) (1.38.0)\n",
            "Requirement already satisfied: argcomplete>=3.5.0 in /usr/local/lib/python3.11/dist-packages (from pydantic-ai-slim[anthropic,bedrock,cli,cohere,evals,groq,mcp,mistral,openai,vertexai]==0.1.3->pydantic-ai==0.1.3) (3.6.2)\n",
            "Requirement already satisfied: prompt-toolkit>=3 in /usr/local/lib/python3.11/dist-packages (from pydantic-ai-slim[anthropic,bedrock,cli,cohere,evals,groq,mcp,mistral,openai,vertexai]==0.1.3->pydantic-ai==0.1.3) (3.0.51)\n",
            "Requirement already satisfied: rich>=13 in /usr/local/lib/python3.11/dist-packages (from pydantic-ai-slim[anthropic,bedrock,cli,cohere,evals,groq,mcp,mistral,openai,vertexai]==0.1.3->pydantic-ai==0.1.3) (13.9.4)\n",
            "Requirement already satisfied: cohere>=5.13.11 in /usr/local/lib/python3.11/dist-packages (from pydantic-ai-slim[anthropic,bedrock,cli,cohere,evals,groq,mcp,mistral,openai,vertexai]==0.1.3->pydantic-ai==0.1.3) (5.15.0)\n",
            "Requirement already satisfied: pydantic-evals==0.1.3 in /usr/local/lib/python3.11/dist-packages (from pydantic-ai-slim[anthropic,bedrock,cli,cohere,evals,groq,mcp,mistral,openai,vertexai]==0.1.3->pydantic-ai==0.1.3) (0.1.3)\n",
            "Requirement already satisfied: groq>=0.15.0 in /usr/local/lib/python3.11/dist-packages (from pydantic-ai-slim[anthropic,bedrock,cli,cohere,evals,groq,mcp,mistral,openai,vertexai]==0.1.3->pydantic-ai==0.1.3) (0.23.0)\n",
            "Requirement already satisfied: mcp>=1.5.0 in /usr/local/lib/python3.11/dist-packages (from pydantic-ai-slim[anthropic,bedrock,cli,cohere,evals,groq,mcp,mistral,openai,vertexai]==0.1.3->pydantic-ai==0.1.3) (1.6.0)\n",
            "Requirement already satisfied: mistralai>=1.2.5 in /usr/local/lib/python3.11/dist-packages (from pydantic-ai-slim[anthropic,bedrock,cli,cohere,evals,groq,mcp,mistral,openai,vertexai]==0.1.3->pydantic-ai==0.1.3) (1.7.0)\n",
            "Requirement already satisfied: openai>=1.74.0 in /usr/local/lib/python3.11/dist-packages (from pydantic-ai-slim[anthropic,bedrock,cli,cohere,evals,groq,mcp,mistral,openai,vertexai]==0.1.3->pydantic-ai==0.1.3) (1.75.0)\n",
            "Requirement already satisfied: google-auth>=2.36.0 in /usr/local/lib/python3.11/dist-packages (from pydantic-ai-slim[anthropic,bedrock,cli,cohere,evals,groq,mcp,mistral,openai,vertexai]==0.1.3->pydantic-ai==0.1.3) (2.38.0)\n",
            "Requirement already satisfied: requests>=2.32.3 in /usr/local/lib/python3.11/dist-packages (from pydantic-ai-slim[anthropic,bedrock,cli,cohere,evals,groq,mcp,mistral,openai,vertexai]==0.1.3->pydantic-ai==0.1.3) (2.32.3)\n",
            "Requirement already satisfied: anyio>=0 in /usr/local/lib/python3.11/dist-packages (from pydantic-evals==0.1.3->pydantic-ai-slim[anthropic,bedrock,cli,cohere,evals,groq,mcp,mistral,openai,vertexai]==0.1.3->pydantic-ai==0.1.3) (4.9.0)\n",
            "Requirement already satisfied: logfire-api>=1.2.0 in /usr/local/lib/python3.11/dist-packages (from pydantic-evals==0.1.3->pydantic-ai-slim[anthropic,bedrock,cli,cohere,evals,groq,mcp,mistral,openai,vertexai]==0.1.3->pydantic-ai==0.1.3) (3.14.0)\n",
            "Requirement already satisfied: pyyaml>=6.0.2 in /usr/local/lib/python3.11/dist-packages (from pydantic-evals==0.1.3->pydantic-ai-slim[anthropic,bedrock,cli,cohere,evals,groq,mcp,mistral,openai,vertexai]==0.1.3->pydantic-ai==0.1.3) (6.0.2)\n",
            "Requirement already satisfied: distro<2,>=1.7.0 in /usr/local/lib/python3.11/dist-packages (from anthropic>=0.49.0->pydantic-ai-slim[anthropic,bedrock,cli,cohere,evals,groq,mcp,mistral,openai,vertexai]==0.1.3->pydantic-ai==0.1.3) (1.9.0)\n",
            "Requirement already satisfied: jiter<1,>=0.4.0 in /usr/local/lib/python3.11/dist-packages (from anthropic>=0.49.0->pydantic-ai-slim[anthropic,bedrock,cli,cohere,evals,groq,mcp,mistral,openai,vertexai]==0.1.3->pydantic-ai==0.1.3) (0.9.0)\n",
            "Requirement already satisfied: sniffio in /usr/local/lib/python3.11/dist-packages (from anthropic>=0.49.0->pydantic-ai-slim[anthropic,bedrock,cli,cohere,evals,groq,mcp,mistral,openai,vertexai]==0.1.3->pydantic-ai==0.1.3) (1.3.1)\n",
            "Requirement already satisfied: typing-extensions<5,>=4.10 in /usr/local/lib/python3.11/dist-packages (from anthropic>=0.49.0->pydantic-ai-slim[anthropic,bedrock,cli,cohere,evals,groq,mcp,mistral,openai,vertexai]==0.1.3->pydantic-ai==0.1.3) (4.13.2)\n",
            "Requirement already satisfied: botocore<1.39.0,>=1.38.0 in /usr/local/lib/python3.11/dist-packages (from boto3>=1.35.74->pydantic-ai-slim[anthropic,bedrock,cli,cohere,evals,groq,mcp,mistral,openai,vertexai]==0.1.3->pydantic-ai==0.1.3) (1.38.0)\n",
            "Requirement already satisfied: jmespath<2.0.0,>=0.7.1 in /usr/local/lib/python3.11/dist-packages (from boto3>=1.35.74->pydantic-ai-slim[anthropic,bedrock,cli,cohere,evals,groq,mcp,mistral,openai,vertexai]==0.1.3->pydantic-ai==0.1.3) (1.0.1)\n",
            "Requirement already satisfied: s3transfer<0.13.0,>=0.12.0 in /usr/local/lib/python3.11/dist-packages (from boto3>=1.35.74->pydantic-ai-slim[anthropic,bedrock,cli,cohere,evals,groq,mcp,mistral,openai,vertexai]==0.1.3->pydantic-ai==0.1.3) (0.12.0)\n",
            "Requirement already satisfied: fastavro<2.0.0,>=1.9.4 in /usr/local/lib/python3.11/dist-packages (from cohere>=5.13.11->pydantic-ai-slim[anthropic,bedrock,cli,cohere,evals,groq,mcp,mistral,openai,vertexai]==0.1.3->pydantic-ai==0.1.3) (1.10.0)\n",
            "Requirement already satisfied: httpx-sse==0.4.0 in /usr/local/lib/python3.11/dist-packages (from cohere>=5.13.11->pydantic-ai-slim[anthropic,bedrock,cli,cohere,evals,groq,mcp,mistral,openai,vertexai]==0.1.3->pydantic-ai==0.1.3) (0.4.0)\n",
            "Requirement already satisfied: pydantic-core<3.0.0,>=2.18.2 in /usr/local/lib/python3.11/dist-packages (from cohere>=5.13.11->pydantic-ai-slim[anthropic,bedrock,cli,cohere,evals,groq,mcp,mistral,openai,vertexai]==0.1.3->pydantic-ai==0.1.3) (2.33.1)\n",
            "Requirement already satisfied: tokenizers<1,>=0.15 in /usr/local/lib/python3.11/dist-packages (from cohere>=5.13.11->pydantic-ai-slim[anthropic,bedrock,cli,cohere,evals,groq,mcp,mistral,openai,vertexai]==0.1.3->pydantic-ai==0.1.3) (0.21.1)\n",
            "Requirement already satisfied: types-requests<3.0.0,>=2.0.0 in /usr/local/lib/python3.11/dist-packages (from cohere>=5.13.11->pydantic-ai-slim[anthropic,bedrock,cli,cohere,evals,groq,mcp,mistral,openai,vertexai]==0.1.3->pydantic-ai==0.1.3) (2.32.0.20250328)\n",
            "Requirement already satisfied: cachetools<6.0,>=2.0.0 in /usr/local/lib/python3.11/dist-packages (from google-auth>=2.36.0->pydantic-ai-slim[anthropic,bedrock,cli,cohere,evals,groq,mcp,mistral,openai,vertexai]==0.1.3->pydantic-ai==0.1.3) (5.5.2)\n",
            "Requirement already satisfied: pyasn1-modules>=0.2.1 in /usr/local/lib/python3.11/dist-packages (from google-auth>=2.36.0->pydantic-ai-slim[anthropic,bedrock,cli,cohere,evals,groq,mcp,mistral,openai,vertexai]==0.1.3->pydantic-ai==0.1.3) (0.4.2)\n",
            "Requirement already satisfied: rsa<5,>=3.1.4 in /usr/local/lib/python3.11/dist-packages (from google-auth>=2.36.0->pydantic-ai-slim[anthropic,bedrock,cli,cohere,evals,groq,mcp,mistral,openai,vertexai]==0.1.3->pydantic-ai==0.1.3) (4.9.1)\n",
            "Requirement already satisfied: colorama>=0.4 in /usr/local/lib/python3.11/dist-packages (from griffe>=1.3.2->pydantic-ai-slim==0.1.3->pydantic-ai-slim[anthropic,bedrock,cli,cohere,evals,groq,mcp,mistral,openai,vertexai]==0.1.3->pydantic-ai==0.1.3) (0.4.6)\n",
            "Requirement already satisfied: certifi in /usr/local/lib/python3.11/dist-packages (from httpx>=0.27->pydantic-ai-slim==0.1.3->pydantic-ai-slim[anthropic,bedrock,cli,cohere,evals,groq,mcp,mistral,openai,vertexai]==0.1.3->pydantic-ai==0.1.3) (2025.1.31)\n",
            "Requirement already satisfied: httpcore==1.* in /usr/local/lib/python3.11/dist-packages (from httpx>=0.27->pydantic-ai-slim==0.1.3->pydantic-ai-slim[anthropic,bedrock,cli,cohere,evals,groq,mcp,mistral,openai,vertexai]==0.1.3->pydantic-ai==0.1.3) (1.0.8)\n",
            "Requirement already satisfied: idna in /usr/local/lib/python3.11/dist-packages (from httpx>=0.27->pydantic-ai-slim==0.1.3->pydantic-ai-slim[anthropic,bedrock,cli,cohere,evals,groq,mcp,mistral,openai,vertexai]==0.1.3->pydantic-ai==0.1.3) (3.10)\n",
            "Requirement already satisfied: h11<0.15,>=0.13 in /usr/local/lib/python3.11/dist-packages (from httpcore==1.*->httpx>=0.27->pydantic-ai-slim==0.1.3->pydantic-ai-slim[anthropic,bedrock,cli,cohere,evals,groq,mcp,mistral,openai,vertexai]==0.1.3->pydantic-ai==0.1.3) (0.14.0)\n",
            "Requirement already satisfied: pydantic-settings>=2.5.2 in /usr/local/lib/python3.11/dist-packages (from mcp>=1.5.0->pydantic-ai-slim[anthropic,bedrock,cli,cohere,evals,groq,mcp,mistral,openai,vertexai]==0.1.3->pydantic-ai==0.1.3) (2.9.1)\n",
            "Requirement already satisfied: sse-starlette>=1.6.1 in /usr/local/lib/python3.11/dist-packages (from mcp>=1.5.0->pydantic-ai-slim[anthropic,bedrock,cli,cohere,evals,groq,mcp,mistral,openai,vertexai]==0.1.3->pydantic-ai==0.1.3) (2.2.1)\n",
            "Requirement already satisfied: starlette>=0.27 in /usr/local/lib/python3.11/dist-packages (from mcp>=1.5.0->pydantic-ai-slim[anthropic,bedrock,cli,cohere,evals,groq,mcp,mistral,openai,vertexai]==0.1.3->pydantic-ai==0.1.3) (0.46.2)\n",
            "Requirement already satisfied: uvicorn>=0.23.1 in /usr/local/lib/python3.11/dist-packages (from mcp>=1.5.0->pydantic-ai-slim[anthropic,bedrock,cli,cohere,evals,groq,mcp,mistral,openai,vertexai]==0.1.3->pydantic-ai==0.1.3) (0.34.2)\n",
            "Requirement already satisfied: python-dateutil>=2.8.2 in /usr/local/lib/python3.11/dist-packages (from mistralai>=1.2.5->pydantic-ai-slim[anthropic,bedrock,cli,cohere,evals,groq,mcp,mistral,openai,vertexai]==0.1.3->pydantic-ai==0.1.3) (2.8.2)\n",
            "Requirement already satisfied: tqdm>4 in /usr/local/lib/python3.11/dist-packages (from openai>=1.74.0->pydantic-ai-slim[anthropic,bedrock,cli,cohere,evals,groq,mcp,mistral,openai,vertexai]==0.1.3->pydantic-ai==0.1.3) (4.67.1)\n",
            "Requirement already satisfied: deprecated>=1.2.6 in /usr/local/lib/python3.11/dist-packages (from opentelemetry-api>=1.28.0->pydantic-ai-slim==0.1.3->pydantic-ai-slim[anthropic,bedrock,cli,cohere,evals,groq,mcp,mistral,openai,vertexai]==0.1.3->pydantic-ai==0.1.3) (1.2.18)\n",
            "Requirement already satisfied: importlib-metadata<8.7.0,>=6.0 in /usr/local/lib/python3.11/dist-packages (from opentelemetry-api>=1.28.0->pydantic-ai-slim==0.1.3->pydantic-ai-slim[anthropic,bedrock,cli,cohere,evals,groq,mcp,mistral,openai,vertexai]==0.1.3->pydantic-ai==0.1.3) (8.6.1)\n",
            "Requirement already satisfied: wcwidth in /usr/local/lib/python3.11/dist-packages (from prompt-toolkit>=3->pydantic-ai-slim[anthropic,bedrock,cli,cohere,evals,groq,mcp,mistral,openai,vertexai]==0.1.3->pydantic-ai==0.1.3) (0.2.13)\n",
            "Requirement already satisfied: annotated-types>=0.6.0 in /usr/local/lib/python3.11/dist-packages (from pydantic>=2.10->pydantic-ai-slim==0.1.3->pydantic-ai-slim[anthropic,bedrock,cli,cohere,evals,groq,mcp,mistral,openai,vertexai]==0.1.3->pydantic-ai==0.1.3) (0.7.0)\n",
            "Requirement already satisfied: charset-normalizer<4,>=2 in /usr/local/lib/python3.11/dist-packages (from requests>=2.32.3->pydantic-ai-slim[anthropic,bedrock,cli,cohere,evals,groq,mcp,mistral,openai,vertexai]==0.1.3->pydantic-ai==0.1.3) (3.4.1)\n",
            "Requirement already satisfied: urllib3<3,>=1.21.1 in /usr/local/lib/python3.11/dist-packages (from requests>=2.32.3->pydantic-ai-slim[anthropic,bedrock,cli,cohere,evals,groq,mcp,mistral,openai,vertexai]==0.1.3->pydantic-ai==0.1.3) (2.3.0)\n",
            "Requirement already satisfied: markdown-it-py>=2.2.0 in /usr/local/lib/python3.11/dist-packages (from rich>=13->pydantic-ai-slim[anthropic,bedrock,cli,cohere,evals,groq,mcp,mistral,openai,vertexai]==0.1.3->pydantic-ai==0.1.3) (3.0.0)\n",
            "Requirement already satisfied: pygments<3.0.0,>=2.13.0 in /usr/local/lib/python3.11/dist-packages (from rich>=13->pydantic-ai-slim[anthropic,bedrock,cli,cohere,evals,groq,mcp,mistral,openai,vertexai]==0.1.3->pydantic-ai==0.1.3) (2.18.0)\n",
            "Requirement already satisfied: wrapt<2,>=1.10 in /usr/local/lib/python3.11/dist-packages (from deprecated>=1.2.6->opentelemetry-api>=1.28.0->pydantic-ai-slim==0.1.3->pydantic-ai-slim[anthropic,bedrock,cli,cohere,evals,groq,mcp,mistral,openai,vertexai]==0.1.3->pydantic-ai==0.1.3) (1.17.2)\n",
            "Requirement already satisfied: zipp>=3.20 in /usr/local/lib/python3.11/dist-packages (from importlib-metadata<8.7.0,>=6.0->opentelemetry-api>=1.28.0->pydantic-ai-slim==0.1.3->pydantic-ai-slim[anthropic,bedrock,cli,cohere,evals,groq,mcp,mistral,openai,vertexai]==0.1.3->pydantic-ai==0.1.3) (3.21.0)\n",
            "Requirement already satisfied: mdurl~=0.1 in /usr/local/lib/python3.11/dist-packages (from markdown-it-py>=2.2.0->rich>=13->pydantic-ai-slim[anthropic,bedrock,cli,cohere,evals,groq,mcp,mistral,openai,vertexai]==0.1.3->pydantic-ai==0.1.3) (0.1.2)\n",
            "Requirement already satisfied: pyasn1<0.7.0,>=0.6.1 in /usr/local/lib/python3.11/dist-packages (from pyasn1-modules>=0.2.1->google-auth>=2.36.0->pydantic-ai-slim[anthropic,bedrock,cli,cohere,evals,groq,mcp,mistral,openai,vertexai]==0.1.3->pydantic-ai==0.1.3) (0.6.1)\n",
            "Requirement already satisfied: python-dotenv>=0.21.0 in /usr/local/lib/python3.11/dist-packages (from pydantic-settings>=2.5.2->mcp>=1.5.0->pydantic-ai-slim[anthropic,bedrock,cli,cohere,evals,groq,mcp,mistral,openai,vertexai]==0.1.3->pydantic-ai==0.1.3) (1.1.0)\n",
            "Requirement already satisfied: six>=1.5 in /usr/local/lib/python3.11/dist-packages (from python-dateutil>=2.8.2->mistralai>=1.2.5->pydantic-ai-slim[anthropic,bedrock,cli,cohere,evals,groq,mcp,mistral,openai,vertexai]==0.1.3->pydantic-ai==0.1.3) (1.17.0)\n",
            "Requirement already satisfied: huggingface-hub<1.0,>=0.16.4 in /usr/local/lib/python3.11/dist-packages (from tokenizers<1,>=0.15->cohere>=5.13.11->pydantic-ai-slim[anthropic,bedrock,cli,cohere,evals,groq,mcp,mistral,openai,vertexai]==0.1.3->pydantic-ai==0.1.3) (0.30.2)\n",
            "Requirement already satisfied: click>=7.0 in /usr/local/lib/python3.11/dist-packages (from uvicorn>=0.23.1->mcp>=1.5.0->pydantic-ai-slim[anthropic,bedrock,cli,cohere,evals,groq,mcp,mistral,openai,vertexai]==0.1.3->pydantic-ai==0.1.3) (8.1.8)\n",
            "Requirement already satisfied: filelock in /usr/local/lib/python3.11/dist-packages (from huggingface-hub<1.0,>=0.16.4->tokenizers<1,>=0.15->cohere>=5.13.11->pydantic-ai-slim[anthropic,bedrock,cli,cohere,evals,groq,mcp,mistral,openai,vertexai]==0.1.3->pydantic-ai==0.1.3) (3.18.0)\n",
            "Requirement already satisfied: fsspec>=2023.5.0 in /usr/local/lib/python3.11/dist-packages (from huggingface-hub<1.0,>=0.16.4->tokenizers<1,>=0.15->cohere>=5.13.11->pydantic-ai-slim[anthropic,bedrock,cli,cohere,evals,groq,mcp,mistral,openai,vertexai]==0.1.3->pydantic-ai==0.1.3) (2025.3.2)\n",
            "Requirement already satisfied: packaging>=20.9 in /usr/local/lib/python3.11/dist-packages (from huggingface-hub<1.0,>=0.16.4->tokenizers<1,>=0.15->cohere>=5.13.11->pydantic-ai-slim[anthropic,bedrock,cli,cohere,evals,groq,mcp,mistral,openai,vertexai]==0.1.3->pydantic-ai==0.1.3) (24.2)\n"
          ]
        }
      ],
      "source": [
        "!pip install pydantic-ai==0.1.3"
      ]
    },
    {
      "cell_type": "code",
      "source": [
        "import nest_asyncio\n",
        "nest_asyncio.apply()"
      ],
      "metadata": {
        "id": "1apgLia6ugcF"
      },
      "execution_count": 14,
      "outputs": []
    },
    {
      "cell_type": "markdown",
      "source": [
        "weather forecast tool"
      ],
      "metadata": {
        "id": "YzPt8mzBuvzI"
      }
    },
    {
      "cell_type": "code",
      "source": [
        "from google.colab import userdata\n",
        "os.environ[\"GROQ_API_KEY\"]=userdata.get(\"groq_api_key\")\n",
        "os.environ[\"WEATHER_API_KEY\"]=userdata.get(\"WEATHER_API_KEY\")"
      ],
      "metadata": {
        "id": "jVWXEZpzxxzr"
      },
      "execution_count": 15,
      "outputs": []
    },
    {
      "cell_type": "code",
      "source": [
        "import requests\n",
        "BASE_URL=\"https://api.openweathermap.org/data/2.5/weather\"\n",
        "\n",
        "\n",
        "def find_weather(city:str)->dict:\n",
        "  \"\"\"This function returns the current weather forecast for the given city\"\"\"\n",
        "  units=\"metric\"\n",
        "  params={\n",
        "      \"q\":city,\n",
        "      \"appid\":os.getenv('WEATHER_API_KEY'),\n",
        "      \"units\":units\n",
        "  }\n",
        "  response=requests.get(BASE_URL,params=params)\n",
        "  if response.status_code==200:\n",
        "    return response.json()\n",
        "  else:\n",
        "    raise Exception(f\"Error fetching weather data. Status code: {response.status_code}\")"
      ],
      "metadata": {
        "id": "NLIQViVIuofn"
      },
      "execution_count": 16,
      "outputs": []
    },
    {
      "cell_type": "code",
      "source": [
        "find_weather(\"Hyderabad\")"
      ],
      "metadata": {
        "id": "n6VPh35twFbz",
        "colab": {
          "base_uri": "https://localhost:8080/"
        },
        "outputId": "f2846aec-bcf7-4564-f15c-a64f722175ab"
      },
      "execution_count": 17,
      "outputs": [
        {
          "output_type": "execute_result",
          "data": {
            "text/plain": [
              "{'coord': {'lon': 78.4744, 'lat': 17.3753},\n",
              " 'weather': [{'id': 721,\n",
              "   'main': 'Haze',\n",
              "   'description': 'haze',\n",
              "   'icon': '50d'}],\n",
              " 'base': 'stations',\n",
              " 'main': {'temp': 33.23,\n",
              "  'feels_like': 35.62,\n",
              "  'temp_min': 32.73,\n",
              "  'temp_max': 33.23,\n",
              "  'pressure': 1010,\n",
              "  'humidity': 46,\n",
              "  'sea_level': 1010,\n",
              "  'grnd_level': 948},\n",
              " 'visibility': 5000,\n",
              " 'wind': {'speed': 5.14, 'deg': 210},\n",
              " 'clouds': {'all': 20},\n",
              " 'dt': 1745380287,\n",
              " 'sys': {'type': 1,\n",
              "  'id': 9214,\n",
              "  'country': 'IN',\n",
              "  'sunrise': 1745367885,\n",
              "  'sunset': 1745413427},\n",
              " 'timezone': 19800,\n",
              " 'id': 1269843,\n",
              " 'name': 'Hyderabad',\n",
              " 'cod': 200}"
            ]
          },
          "metadata": {},
          "execution_count": 17
        }
      ]
    },
    {
      "cell_type": "markdown",
      "source": [
        "Pydantic Agent"
      ],
      "metadata": {
        "id": "VSySCl7zxQ61"
      }
    },
    {
      "cell_type": "code",
      "source": [
        "import os\n",
        "import requests\n",
        "from pydantic import BaseModel\n",
        "from pydantic_ai import Agent, RunContext\n",
        "from pydantic_ai.settings import ModelSettings"
      ],
      "metadata": {
        "id": "Cd1G7O0Qw8Ty"
      },
      "execution_count": 18,
      "outputs": []
    },
    {
      "cell_type": "code",
      "source": [
        "class WeatherForeCast(BaseModel):\n",
        "  location:str\n",
        "  description:str\n",
        "  temperature_celsius:float"
      ],
      "metadata": {
        "id": "5MqAVNySxe-m"
      },
      "execution_count": 19,
      "outputs": []
    },
    {
      "cell_type": "code",
      "source": [
        "weather_agent = Agent(\n",
        "    model=\"groq:llama-3.3-70b-versatile\",\n",
        "    model_settings=ModelSettings(temperature=0.2),\n",
        "    output_type=str,\n",
        "    system_prompt=\"You are helpful agent weather assistant. Use the 'get_weather_forecast' tool to find the weather forecast for a given city. Provide clean and friendly answers.\"\n",
        ")"
      ],
      "metadata": {
        "id": "yqDNh46Hxomz"
      },
      "execution_count": 20,
      "outputs": []
    },
    {
      "cell_type": "code",
      "source": [
        "@weather_agent.tool\n",
        "def get_weather_forecast(ctx:RunContext, city:str)->WeatherForeCast:\n",
        "  \"\"\"\n",
        "  Returns current weather forecast for a given city using OpenWeatherMap API.\n",
        "  \"\"\"\n",
        "  url = \"https://api.openweathermap.org/data/2.5/weather\"\n",
        "  api_key = os.getenv('WEATHER_API_KEY')\n",
        "  params = {\n",
        "      \"q\": city,\n",
        "      \"appid\": api_key,\n",
        "      \"units\": \"metric\"\n",
        "  }\n",
        "  response = requests.get(url, params=params).json()\n",
        "  return WeatherForeCast(\n",
        "      location=response[\"name\"],\n",
        "      description=response[\"weather\"][0][\"description\"].capitalize(),\n",
        "      temperature_celsius=response[\"main\"][\"temp\"]\n",
        "  )"
      ],
      "metadata": {
        "id": "pxCwrWcOy7tp"
      },
      "execution_count": 21,
      "outputs": []
    },
    {
      "cell_type": "code",
      "source": [
        "question = input(\"⛅Ask about the weather:\")\n",
        "result = weather_agent.run_sync(question)\n",
        "print(\"\\n📍Forecast: \", result.output)"
      ],
      "metadata": {
        "colab": {
          "base_uri": "https://localhost:8080/"
        },
        "id": "x-wjSfXZzjPS",
        "outputId": "c9cca6b0-8220-47ed-95b4-3d5de8f59ada"
      },
      "execution_count": 24,
      "outputs": [
        {
          "output_type": "stream",
          "name": "stdout",
          "text": [
            "⛅Ask about the weather:Delhi\n",
            "\n",
            "📍Forecast:  The current weather forecast for Delhi is Haze with a temperature of 31.05 degrees Celsius.\n"
          ]
        }
      ]
    },
    {
      "cell_type": "code",
      "source": [],
      "metadata": {
        "id": "t5noQwny0Q47"
      },
      "execution_count": null,
      "outputs": []
    }
  ]
}