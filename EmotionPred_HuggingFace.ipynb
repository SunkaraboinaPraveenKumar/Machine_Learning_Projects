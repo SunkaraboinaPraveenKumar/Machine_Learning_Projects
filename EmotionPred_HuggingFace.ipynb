{
  "nbformat": 4,
  "nbformat_minor": 0,
  "metadata": {
    "colab": {
      "provenance": [],
      "gpuType": "T4",
      "authorship_tag": "ABX9TyN6090bGSOhjNUgE7+utoju",
      "include_colab_link": true
    },
    "kernelspec": {
      "name": "python3",
      "display_name": "Python 3"
    },
    "language_info": {
      "name": "python"
    },
    "accelerator": "GPU"
  },
  "cells": [
    {
      "cell_type": "markdown",
      "metadata": {
        "id": "view-in-github",
        "colab_type": "text"
      },
      "source": [
        "<a href=\"https://colab.research.google.com/github/SunkaraboinaPraveenKumar/Machine_Learning_Projects/blob/main/EmotionPred_HuggingFace.ipynb\" target=\"_parent\"><img src=\"https://colab.research.google.com/assets/colab-badge.svg\" alt=\"Open In Colab\"/></a>"
      ]
    },
    {
      "cell_type": "code",
      "execution_count": 1,
      "metadata": {
        "colab": {
          "base_uri": "https://localhost:8080/"
        },
        "id": "3PdIrPWSP0QR",
        "outputId": "b50759b4-1b77-42c3-8855-7c9fe2c05258"
      },
      "outputs": [
        {
          "output_type": "stream",
          "name": "stdout",
          "text": [
            "Requirement already satisfied: transformers in /usr/local/lib/python3.10/dist-packages (4.44.2)\n",
            "Requirement already satisfied: filelock in /usr/local/lib/python3.10/dist-packages (from transformers) (3.15.4)\n",
            "Requirement already satisfied: huggingface-hub<1.0,>=0.23.2 in /usr/local/lib/python3.10/dist-packages (from transformers) (0.23.5)\n",
            "Requirement already satisfied: numpy>=1.17 in /usr/local/lib/python3.10/dist-packages (from transformers) (1.26.4)\n",
            "Requirement already satisfied: packaging>=20.0 in /usr/local/lib/python3.10/dist-packages (from transformers) (24.1)\n",
            "Requirement already satisfied: pyyaml>=5.1 in /usr/local/lib/python3.10/dist-packages (from transformers) (6.0.2)\n",
            "Requirement already satisfied: regex!=2019.12.17 in /usr/local/lib/python3.10/dist-packages (from transformers) (2024.5.15)\n",
            "Requirement already satisfied: requests in /usr/local/lib/python3.10/dist-packages (from transformers) (2.32.3)\n",
            "Requirement already satisfied: safetensors>=0.4.1 in /usr/local/lib/python3.10/dist-packages (from transformers) (0.4.4)\n",
            "Requirement already satisfied: tokenizers<0.20,>=0.19 in /usr/local/lib/python3.10/dist-packages (from transformers) (0.19.1)\n",
            "Requirement already satisfied: tqdm>=4.27 in /usr/local/lib/python3.10/dist-packages (from transformers) (4.66.5)\n",
            "Requirement already satisfied: fsspec>=2023.5.0 in /usr/local/lib/python3.10/dist-packages (from huggingface-hub<1.0,>=0.23.2->transformers) (2024.6.1)\n",
            "Requirement already satisfied: typing-extensions>=3.7.4.3 in /usr/local/lib/python3.10/dist-packages (from huggingface-hub<1.0,>=0.23.2->transformers) (4.12.2)\n",
            "Requirement already satisfied: charset-normalizer<4,>=2 in /usr/local/lib/python3.10/dist-packages (from requests->transformers) (3.3.2)\n",
            "Requirement already satisfied: idna<4,>=2.5 in /usr/local/lib/python3.10/dist-packages (from requests->transformers) (3.8)\n",
            "Requirement already satisfied: urllib3<3,>=1.21.1 in /usr/local/lib/python3.10/dist-packages (from requests->transformers) (2.0.7)\n",
            "Requirement already satisfied: certifi>=2017.4.17 in /usr/local/lib/python3.10/dist-packages (from requests->transformers) (2024.7.4)\n",
            "Requirement already satisfied: accelerate in /usr/local/lib/python3.10/dist-packages (0.33.0)\n",
            "Requirement already satisfied: numpy<2.0.0,>=1.17 in /usr/local/lib/python3.10/dist-packages (from accelerate) (1.26.4)\n",
            "Requirement already satisfied: packaging>=20.0 in /usr/local/lib/python3.10/dist-packages (from accelerate) (24.1)\n",
            "Requirement already satisfied: psutil in /usr/local/lib/python3.10/dist-packages (from accelerate) (5.9.5)\n",
            "Requirement already satisfied: pyyaml in /usr/local/lib/python3.10/dist-packages (from accelerate) (6.0.2)\n",
            "Requirement already satisfied: torch>=1.10.0 in /usr/local/lib/python3.10/dist-packages (from accelerate) (2.4.0+cu121)\n",
            "Requirement already satisfied: huggingface-hub>=0.21.0 in /usr/local/lib/python3.10/dist-packages (from accelerate) (0.23.5)\n",
            "Requirement already satisfied: safetensors>=0.3.1 in /usr/local/lib/python3.10/dist-packages (from accelerate) (0.4.4)\n",
            "Requirement already satisfied: filelock in /usr/local/lib/python3.10/dist-packages (from huggingface-hub>=0.21.0->accelerate) (3.15.4)\n",
            "Requirement already satisfied: fsspec>=2023.5.0 in /usr/local/lib/python3.10/dist-packages (from huggingface-hub>=0.21.0->accelerate) (2024.6.1)\n",
            "Requirement already satisfied: requests in /usr/local/lib/python3.10/dist-packages (from huggingface-hub>=0.21.0->accelerate) (2.32.3)\n",
            "Requirement already satisfied: tqdm>=4.42.1 in /usr/local/lib/python3.10/dist-packages (from huggingface-hub>=0.21.0->accelerate) (4.66.5)\n",
            "Requirement already satisfied: typing-extensions>=3.7.4.3 in /usr/local/lib/python3.10/dist-packages (from huggingface-hub>=0.21.0->accelerate) (4.12.2)\n",
            "Requirement already satisfied: sympy in /usr/local/lib/python3.10/dist-packages (from torch>=1.10.0->accelerate) (1.13.2)\n",
            "Requirement already satisfied: networkx in /usr/local/lib/python3.10/dist-packages (from torch>=1.10.0->accelerate) (3.3)\n",
            "Requirement already satisfied: jinja2 in /usr/local/lib/python3.10/dist-packages (from torch>=1.10.0->accelerate) (3.1.4)\n",
            "Requirement already satisfied: MarkupSafe>=2.0 in /usr/local/lib/python3.10/dist-packages (from jinja2->torch>=1.10.0->accelerate) (2.1.5)\n",
            "Requirement already satisfied: charset-normalizer<4,>=2 in /usr/local/lib/python3.10/dist-packages (from requests->huggingface-hub>=0.21.0->accelerate) (3.3.2)\n",
            "Requirement already satisfied: idna<4,>=2.5 in /usr/local/lib/python3.10/dist-packages (from requests->huggingface-hub>=0.21.0->accelerate) (3.8)\n",
            "Requirement already satisfied: urllib3<3,>=1.21.1 in /usr/local/lib/python3.10/dist-packages (from requests->huggingface-hub>=0.21.0->accelerate) (2.0.7)\n",
            "Requirement already satisfied: certifi>=2017.4.17 in /usr/local/lib/python3.10/dist-packages (from requests->huggingface-hub>=0.21.0->accelerate) (2024.7.4)\n",
            "Requirement already satisfied: mpmath<1.4,>=1.1.0 in /usr/local/lib/python3.10/dist-packages (from sympy->torch>=1.10.0->accelerate) (1.3.0)\n",
            "Requirement already satisfied: datasets in /usr/local/lib/python3.10/dist-packages (2.21.0)\n",
            "Requirement already satisfied: filelock in /usr/local/lib/python3.10/dist-packages (from datasets) (3.15.4)\n",
            "Requirement already satisfied: numpy>=1.17 in /usr/local/lib/python3.10/dist-packages (from datasets) (1.26.4)\n",
            "Requirement already satisfied: pyarrow>=15.0.0 in /usr/local/lib/python3.10/dist-packages (from datasets) (17.0.0)\n",
            "Requirement already satisfied: dill<0.3.9,>=0.3.0 in /usr/local/lib/python3.10/dist-packages (from datasets) (0.3.8)\n",
            "Requirement already satisfied: pandas in /usr/local/lib/python3.10/dist-packages (from datasets) (2.1.4)\n",
            "Requirement already satisfied: requests>=2.32.2 in /usr/local/lib/python3.10/dist-packages (from datasets) (2.32.3)\n",
            "Requirement already satisfied: tqdm>=4.66.3 in /usr/local/lib/python3.10/dist-packages (from datasets) (4.66.5)\n",
            "Requirement already satisfied: xxhash in /usr/local/lib/python3.10/dist-packages (from datasets) (3.5.0)\n",
            "Requirement already satisfied: multiprocess in /usr/local/lib/python3.10/dist-packages (from datasets) (0.70.16)\n",
            "Requirement already satisfied: fsspec<=2024.6.1,>=2023.1.0 in /usr/local/lib/python3.10/dist-packages (from fsspec[http]<=2024.6.1,>=2023.1.0->datasets) (2024.6.1)\n",
            "Requirement already satisfied: aiohttp in /usr/local/lib/python3.10/dist-packages (from datasets) (3.10.5)\n",
            "Requirement already satisfied: huggingface-hub>=0.21.2 in /usr/local/lib/python3.10/dist-packages (from datasets) (0.23.5)\n",
            "Requirement already satisfied: packaging in /usr/local/lib/python3.10/dist-packages (from datasets) (24.1)\n",
            "Requirement already satisfied: pyyaml>=5.1 in /usr/local/lib/python3.10/dist-packages (from datasets) (6.0.2)\n",
            "Requirement already satisfied: aiohappyeyeballs>=2.3.0 in /usr/local/lib/python3.10/dist-packages (from aiohttp->datasets) (2.4.0)\n",
            "Requirement already satisfied: aiosignal>=1.1.2 in /usr/local/lib/python3.10/dist-packages (from aiohttp->datasets) (1.3.1)\n",
            "Requirement already satisfied: attrs>=17.3.0 in /usr/local/lib/python3.10/dist-packages (from aiohttp->datasets) (24.2.0)\n",
            "Requirement already satisfied: frozenlist>=1.1.1 in /usr/local/lib/python3.10/dist-packages (from aiohttp->datasets) (1.4.1)\n",
            "Requirement already satisfied: multidict<7.0,>=4.5 in /usr/local/lib/python3.10/dist-packages (from aiohttp->datasets) (6.0.5)\n",
            "Requirement already satisfied: yarl<2.0,>=1.0 in /usr/local/lib/python3.10/dist-packages (from aiohttp->datasets) (1.9.4)\n",
            "Requirement already satisfied: async-timeout<5.0,>=4.0 in /usr/local/lib/python3.10/dist-packages (from aiohttp->datasets) (4.0.3)\n",
            "Requirement already satisfied: typing-extensions>=3.7.4.3 in /usr/local/lib/python3.10/dist-packages (from huggingface-hub>=0.21.2->datasets) (4.12.2)\n",
            "Requirement already satisfied: charset-normalizer<4,>=2 in /usr/local/lib/python3.10/dist-packages (from requests>=2.32.2->datasets) (3.3.2)\n",
            "Requirement already satisfied: idna<4,>=2.5 in /usr/local/lib/python3.10/dist-packages (from requests>=2.32.2->datasets) (3.8)\n",
            "Requirement already satisfied: urllib3<3,>=1.21.1 in /usr/local/lib/python3.10/dist-packages (from requests>=2.32.2->datasets) (2.0.7)\n",
            "Requirement already satisfied: certifi>=2017.4.17 in /usr/local/lib/python3.10/dist-packages (from requests>=2.32.2->datasets) (2024.7.4)\n",
            "Requirement already satisfied: python-dateutil>=2.8.2 in /usr/local/lib/python3.10/dist-packages (from pandas->datasets) (2.8.2)\n",
            "Requirement already satisfied: pytz>=2020.1 in /usr/local/lib/python3.10/dist-packages (from pandas->datasets) (2024.1)\n",
            "Requirement already satisfied: tzdata>=2022.1 in /usr/local/lib/python3.10/dist-packages (from pandas->datasets) (2024.1)\n",
            "Requirement already satisfied: six>=1.5 in /usr/local/lib/python3.10/dist-packages (from python-dateutil>=2.8.2->pandas->datasets) (1.16.0)\n",
            "Requirement already satisfied: bertviz in /usr/local/lib/python3.10/dist-packages (1.4.0)\n",
            "Requirement already satisfied: transformers>=2.0 in /usr/local/lib/python3.10/dist-packages (from bertviz) (4.44.2)\n",
            "Requirement already satisfied: torch>=1.0 in /usr/local/lib/python3.10/dist-packages (from bertviz) (2.4.0+cu121)\n",
            "Requirement already satisfied: tqdm in /usr/local/lib/python3.10/dist-packages (from bertviz) (4.66.5)\n",
            "Requirement already satisfied: boto3 in /usr/local/lib/python3.10/dist-packages (from bertviz) (1.35.10)\n",
            "Requirement already satisfied: requests in /usr/local/lib/python3.10/dist-packages (from bertviz) (2.32.3)\n",
            "Requirement already satisfied: regex in /usr/local/lib/python3.10/dist-packages (from bertviz) (2024.5.15)\n",
            "Requirement already satisfied: sentencepiece in /usr/local/lib/python3.10/dist-packages (from bertviz) (0.1.99)\n",
            "Requirement already satisfied: filelock in /usr/local/lib/python3.10/dist-packages (from torch>=1.0->bertviz) (3.15.4)\n",
            "Requirement already satisfied: typing-extensions>=4.8.0 in /usr/local/lib/python3.10/dist-packages (from torch>=1.0->bertviz) (4.12.2)\n",
            "Requirement already satisfied: sympy in /usr/local/lib/python3.10/dist-packages (from torch>=1.0->bertviz) (1.13.2)\n",
            "Requirement already satisfied: networkx in /usr/local/lib/python3.10/dist-packages (from torch>=1.0->bertviz) (3.3)\n",
            "Requirement already satisfied: jinja2 in /usr/local/lib/python3.10/dist-packages (from torch>=1.0->bertviz) (3.1.4)\n",
            "Requirement already satisfied: fsspec in /usr/local/lib/python3.10/dist-packages (from torch>=1.0->bertviz) (2024.6.1)\n",
            "Requirement already satisfied: huggingface-hub<1.0,>=0.23.2 in /usr/local/lib/python3.10/dist-packages (from transformers>=2.0->bertviz) (0.23.5)\n",
            "Requirement already satisfied: numpy>=1.17 in /usr/local/lib/python3.10/dist-packages (from transformers>=2.0->bertviz) (1.26.4)\n",
            "Requirement already satisfied: packaging>=20.0 in /usr/local/lib/python3.10/dist-packages (from transformers>=2.0->bertviz) (24.1)\n",
            "Requirement already satisfied: pyyaml>=5.1 in /usr/local/lib/python3.10/dist-packages (from transformers>=2.0->bertviz) (6.0.2)\n",
            "Requirement already satisfied: safetensors>=0.4.1 in /usr/local/lib/python3.10/dist-packages (from transformers>=2.0->bertviz) (0.4.4)\n",
            "Requirement already satisfied: tokenizers<0.20,>=0.19 in /usr/local/lib/python3.10/dist-packages (from transformers>=2.0->bertviz) (0.19.1)\n",
            "Requirement already satisfied: botocore<1.36.0,>=1.35.10 in /usr/local/lib/python3.10/dist-packages (from boto3->bertviz) (1.35.10)\n",
            "Requirement already satisfied: jmespath<2.0.0,>=0.7.1 in /usr/local/lib/python3.10/dist-packages (from boto3->bertviz) (1.0.1)\n",
            "Requirement already satisfied: s3transfer<0.11.0,>=0.10.0 in /usr/local/lib/python3.10/dist-packages (from boto3->bertviz) (0.10.2)\n",
            "Requirement already satisfied: charset-normalizer<4,>=2 in /usr/local/lib/python3.10/dist-packages (from requests->bertviz) (3.3.2)\n",
            "Requirement already satisfied: idna<4,>=2.5 in /usr/local/lib/python3.10/dist-packages (from requests->bertviz) (3.8)\n",
            "Requirement already satisfied: urllib3<3,>=1.21.1 in /usr/local/lib/python3.10/dist-packages (from requests->bertviz) (2.0.7)\n",
            "Requirement already satisfied: certifi>=2017.4.17 in /usr/local/lib/python3.10/dist-packages (from requests->bertviz) (2024.7.4)\n",
            "Requirement already satisfied: python-dateutil<3.0.0,>=2.1 in /usr/local/lib/python3.10/dist-packages (from botocore<1.36.0,>=1.35.10->boto3->bertviz) (2.8.2)\n",
            "Requirement already satisfied: MarkupSafe>=2.0 in /usr/local/lib/python3.10/dist-packages (from jinja2->torch>=1.0->bertviz) (2.1.5)\n",
            "Requirement already satisfied: mpmath<1.4,>=1.1.0 in /usr/local/lib/python3.10/dist-packages (from sympy->torch>=1.0->bertviz) (1.3.0)\n",
            "Requirement already satisfied: six>=1.5 in /usr/local/lib/python3.10/dist-packages (from python-dateutil<3.0.0,>=2.1->botocore<1.36.0,>=1.35.10->boto3->bertviz) (1.16.0)\n",
            "Requirement already satisfied: umap-learn in /usr/local/lib/python3.10/dist-packages (0.5.6)\n",
            "Requirement already satisfied: numpy>=1.17 in /usr/local/lib/python3.10/dist-packages (from umap-learn) (1.26.4)\n",
            "Requirement already satisfied: scipy>=1.3.1 in /usr/local/lib/python3.10/dist-packages (from umap-learn) (1.13.1)\n",
            "Requirement already satisfied: scikit-learn>=0.22 in /usr/local/lib/python3.10/dist-packages (from umap-learn) (1.3.2)\n",
            "Requirement already satisfied: numba>=0.51.2 in /usr/local/lib/python3.10/dist-packages (from umap-learn) (0.60.0)\n",
            "Requirement already satisfied: pynndescent>=0.5 in /usr/local/lib/python3.10/dist-packages (from umap-learn) (0.5.13)\n",
            "Requirement already satisfied: tqdm in /usr/local/lib/python3.10/dist-packages (from umap-learn) (4.66.5)\n",
            "Requirement already satisfied: llvmlite<0.44,>=0.43.0dev0 in /usr/local/lib/python3.10/dist-packages (from numba>=0.51.2->umap-learn) (0.43.0)\n",
            "Requirement already satisfied: joblib>=0.11 in /usr/local/lib/python3.10/dist-packages (from pynndescent>=0.5->umap-learn) (1.4.2)\n",
            "Requirement already satisfied: threadpoolctl>=2.0.0 in /usr/local/lib/python3.10/dist-packages (from scikit-learn>=0.22->umap-learn) (3.5.0)\n"
          ]
        }
      ],
      "source": [
        "!pip install -U transformers\n",
        "!pip install -U accelerate\n",
        "!pip install -U datasets\n",
        "!pip install -U bertviz\n",
        "!pip install -U umap-learn"
      ]
    },
    {
      "cell_type": "code",
      "source": [
        "import pandas as pd\n",
        "from datasets import list_datasets"
      ],
      "metadata": {
        "id": "CuRpjI-vQ47D"
      },
      "execution_count": 2,
      "outputs": []
    },
    {
      "cell_type": "code",
      "source": [
        "all_datasets=list_datasets()"
      ],
      "metadata": {
        "colab": {
          "base_uri": "https://localhost:8080/"
        },
        "id": "UsWHCPlpRKZv",
        "outputId": "e662fef3-a85a-490a-890c-e18521438c67"
      },
      "execution_count": 3,
      "outputs": [
        {
          "output_type": "stream",
          "name": "stderr",
          "text": [
            "<ipython-input-3-72a8cfa9b2f3>:1: FutureWarning: list_datasets is deprecated and will be removed in the next major version of datasets. Use 'huggingface_hub.list_datasets' instead.\n",
            "  all_datasets=list_datasets()\n",
            "/usr/local/lib/python3.10/dist-packages/huggingface_hub/utils/_token.py:89: UserWarning: \n",
            "The secret `HF_TOKEN` does not exist in your Colab secrets.\n",
            "To authenticate with the Hugging Face Hub, create a token in your settings tab (https://huggingface.co/settings/tokens), set it as secret in your Google Colab and restart your session.\n",
            "You will be able to reuse this secret in all of your notebooks.\n",
            "Please note that authentication is recommended but still optional to access public models or datasets.\n",
            "  warnings.warn(\n"
          ]
        }
      ]
    },
    {
      "cell_type": "code",
      "source": [
        "len(all_datasets)"
      ],
      "metadata": {
        "colab": {
          "base_uri": "https://localhost:8080/"
        },
        "id": "AsqjZEU0RNFf",
        "outputId": "a03c660a-c630-4d0c-fd0a-f631a3d85f49"
      },
      "execution_count": 4,
      "outputs": [
        {
          "output_type": "execute_result",
          "data": {
            "text/plain": [
              "203918"
            ]
          },
          "metadata": {},
          "execution_count": 4
        }
      ]
    },
    {
      "cell_type": "code",
      "source": [
        "all_datasets"
      ],
      "metadata": {
        "colab": {
          "base_uri": "https://localhost:8080/"
        },
        "id": "zVn40GUSRSSK",
        "outputId": "ad2e63a7-5f24-4203-a705-7ba5ff787507"
      },
      "execution_count": 5,
      "outputs": [
        {
          "output_type": "execute_result",
          "data": {
            "text/plain": [
              "['amirveyseh/acronym_identification',\n",
              " 'ade-benchmark-corpus/ade_corpus_v2',\n",
              " 'UCLNLP/adversarial_qa',\n",
              " 'Yale-LILY/aeslc',\n",
              " 'nwu-ctext/afrikaans_ner_corpus',\n",
              " 'fancyzhx/ag_news',\n",
              " 'allenai/ai2_arc',\n",
              " 'google/air_dialogue',\n",
              " 'komari6/ajgt_twitter_ar',\n",
              " 'legacy-datasets/allegro_reviews',\n",
              " 'tblard/allocine',\n",
              " 'mutiyama/alt',\n",
              " 'fancyzhx/amazon_polarity',\n",
              " 'defunct-datasets/amazon_reviews_multi',\n",
              " 'defunct-datasets/amazon_us_reviews',\n",
              " 'sewon/ambig_qa',\n",
              " 'nala-cub/americas_nli',\n",
              " 'legacy-datasets/ami',\n",
              " 'gavinxing/amttl',\n",
              " 'facebook/anli',\n",
              " 'sealuzh/app_reviews',\n",
              " 'deepmind/aqua_rat',\n",
              " 'google-research-datasets/aquamuse',\n",
              " 'bigIR/ar_cov19',\n",
              " 'hadyelsahar/ar_res_reviews',\n",
              " 'iabufarha/ar_sarcasm',\n",
              " 'abuelkhair-corpus/arabic_billion_words',\n",
              " 'QCRI/arabic_pos_dialect',\n",
              " 'halabi2016/arabic_speech_corpus',\n",
              " 'hsseinmz/arcd',\n",
              " 'ramybaly/arsentd_lev',\n",
              " 'allenai/art',\n",
              " 'arxiv-community/arxiv_dataset',\n",
              " 'tuanphong/ascent_kb',\n",
              " 'achrafothman/aslg_pc12',\n",
              " 'AmazonScience/asnq',\n",
              " 'facebook/asset',\n",
              " 'nilc-nlp/assin',\n",
              " 'nilc-nlp/assin2',\n",
              " 'allenai/atomic',\n",
              " 'nwu-ctext/autshumato',\n",
              " 'facebook/babi_qa',\n",
              " 'legacy-datasets/banking77',\n",
              " 'phiwi/bbaw_egyptian',\n",
              " 'midas/bbc_hindi_nli',\n",
              " 'spyysalo/bc2gm_corpus',\n",
              " 'AI-Lab-Makerere/beans',\n",
              " 'nectec/best2009',\n",
              " 'Helsinki-NLP/bianet',\n",
              " 'Helsinki-NLP/bible_para',\n",
              " 'NortheasternUniversity/big_patent',\n",
              " 'FiscalNote/billsum',\n",
              " 'microsoft/bing_coronavirus_query_set',\n",
              " 'nlpaueb/biomrc',\n",
              " 'tabilab/biosses',\n",
              " 'TheBritishLibrary/blbooks',\n",
              " 'TheBritishLibrary/blbooksgenre',\n",
              " 'ParlAI/blended_skill_talk',\n",
              " 'nyu-mll/blimp',\n",
              " 'barilan/blog_authorship_corpus',\n",
              " 'rezacsedu/bn_hate_speech',\n",
              " 'bnl-data/bnl_newspapers',\n",
              " 'bookcorpus/bookcorpus',\n",
              " 'defunct-datasets/bookcorpusopen',\n",
              " 'google/boolq',\n",
              " 'clarin-pl/bprec',\n",
              " 'allenai/break_data',\n",
              " 'UFRGS/brwac',\n",
              " 'ryo0634/bsd_ja_en',\n",
              " 'community-datasets/bswac',\n",
              " 'dataset-org/c3',\n",
              " 'legacy-datasets/c4',\n",
              " 'china-ai-law-challenge/cail2018',\n",
              " 'community-datasets/caner',\n",
              " 'soarescmsa/capes',\n",
              " 'kchawla123/casino',\n",
              " 'community-datasets/catalonia_independence',\n",
              " 'microsoft/cats_vs_dogs',\n",
              " 'community-datasets/cawac',\n",
              " 'cam-cst/cbt',\n",
              " 'statmt/cc100',\n",
              " 'vblagoje/cc_news',\n",
              " 'ahelk/ccaligned_multilingual',\n",
              " 'community-datasets/cdsc',\n",
              " 'ptaszynski/cdt',\n",
              " 'sagteam/cedr_v1',\n",
              " 'google-research-datasets/cfq',\n",
              " 'shiyue/chr_en',\n",
              " 'uoft-cs/cifar10',\n",
              " 'uoft-cs/cifar100',\n",
              " 'google-research-datasets/circa',\n",
              " 'google/civil_comments',\n",
              " 'community-datasets/clickbait_news_bg',\n",
              " 'tdiggelm/climate_fever',\n",
              " 'clinc/clinc_oos',\n",
              " 'clue/clue',\n",
              " 'hfl/cmrc2018',\n",
              " 'festvox/cmu_hinglish_dog',\n",
              " 'abisee/cnn_dailymail',\n",
              " 'google-research-datasets/coached_conv_pref',\n",
              " 'google-research-datasets/coarse_discourse',\n",
              " 'jaredfern/codah',\n",
              " 'code-search-net/code_search_net',\n",
              " 'google/code_x_glue_cc_clone_detection_big_clone_bench',\n",
              " 'google/code_x_glue_cc_clone_detection_poj104',\n",
              " 'google/code_x_glue_cc_cloze_testing_all',\n",
              " 'google/code_x_glue_cc_cloze_testing_maxmin',\n",
              " 'google/code_x_glue_cc_code_completion_line',\n",
              " 'google/code_x_glue_cc_code_completion_token',\n",
              " 'google/code_x_glue_cc_code_refinement',\n",
              " 'google/code_x_glue_cc_code_to_code_trans',\n",
              " 'google/code_x_glue_cc_defect_detection',\n",
              " 'google/code_x_glue_ct_code_to_text',\n",
              " 'google/code_x_glue_tc_nl_code_search_adv',\n",
              " 'google/code_x_glue_tc_text_to_code',\n",
              " 'google/code_x_glue_tt_text_to_text',\n",
              " 'iamrishiraj/com_qa',\n",
              " 'allenai/common_gen',\n",
              " 'speechbrain/common_language',\n",
              " 'legacy-datasets/common_voice',\n",
              " 'tau/commonsense_qa',\n",
              " 'hendrycks/competition_math',\n",
              " 'asuglia/compguesswhat',\n",
              " 'conceptnet5/conceptnet5',\n",
              " 'eriktks/conll2000',\n",
              " 'eriktks/conll2002',\n",
              " 'eriktks/conll2003',\n",
              " 'ZihanWangKi/conllpp',\n",
              " 'CFPB/consumer-finance-complaints',\n",
              " 'convai-challenge/conv_ai',\n",
              " 'convai-challenge/conv_ai_2',\n",
              " 'convai-challenge/conv_ai_3',\n",
              " 'pchristm/conv_questions',\n",
              " 'stanfordnlp/coqa',\n",
              " 'allenai/cord19',\n",
              " 'cornell-movie-dialog/cornell_movie_dialog',\n",
              " 'Salesforce/cos_e',\n",
              " 'allenai/cosmos_qa',\n",
              " 'ucrelnlp/counter',\n",
              " 'castorini/covid_qa_castorini',\n",
              " 'deepset/covid_qa_deepset',\n",
              " 'UCSD-AI4H/covid_qa_ucsd',\n",
              " 'community-datasets/covid_tweets_japanese',\n",
              " 'facebook/covost2',\n",
              " 'rishitdagli/cppe-5',\n",
              " 'stanfordnlp/craigslist_bargains',\n",
              " 'google-research-datasets/crawl_domain',\n",
              " 'microsoft/crd3',\n",
              " 'community-datasets/crime_and_punish',\n",
              " 'nyu-mll/crows_pairs',\n",
              " 'aviaefrat/cryptonite',\n",
              " 'community-datasets/cs_restaurants',\n",
              " 'theatticusproject/cuad-qa',\n",
              " 'facebook/curiosity_dialogs',\n",
              " 'li2017dailydialog/daily_dialog',\n",
              " 'alexandrainst/dane',\n",
              " 'community-datasets/danish_political_comments',\n",
              " 'Yale-LILY/dart',\n",
              " 'datacommonsorg/datacommons_factcheck',\n",
              " 'fancyzhx/dbpedia_14',\n",
              " 'benjaminvdb/dbrd',\n",
              " 'mikelewis0/deal_or_no_dialog',\n",
              " 'community-datasets/definite_pronoun_resolution',\n",
              " 'jcblaise/dengue_filipino',\n",
              " 'dataset-org/dialog_re',\n",
              " 'community-datasets/diplomacy_detection',\n",
              " 'community-datasets/disaster_response_messages',\n",
              " 'google-research-datasets/discofuse',\n",
              " 'sileod/discovery',\n",
              " 'google-research-datasets/disfl_qa',\n",
              " 'IBM/doc2dial',\n",
              " 'thunlp/docred',\n",
              " 'community-datasets/doqa',\n",
              " 'dataset-org/dream',\n",
              " 'ucinlp/drop',\n",
              " 'ibm/duorc',\n",
              " 'corona-tweet/dutch_social',\n",
              " 'community-datasets/dyk',\n",
              " 'tuetschek/e2e_nlg',\n",
              " 'tuetschek/e2e_nlg_cleaned',\n",
              " 'Helsinki-NLP/ecb',\n",
              " 'AUEB-NLP/ecthr_cases',\n",
              " 'tugstugi/eduge',\n",
              " 'community-datasets/ehealth_kd',\n",
              " 'Helsinki-NLP/eitb_parcc',\n",
              " 'tulipa762/electricity_load_diagrams',\n",
              " 'defunct-datasets/eli5',\n",
              " 'rexarski/eli5_category',\n",
              " 'Helsinki-NLP/emea',\n",
              " 'SemEvalWorkshop/emo',\n",
              " 'dair-ai/emotion',\n",
              " 'emotone-ar-cicling2017/emotone_ar',\n",
              " 'facebook/empathetic_dialogues',\n",
              " 'ThiagoCF05/enriched_web_nlg',\n",
              " 'CogComp/eraser_multi_rc',\n",
              " 'esnli/esnli',\n",
              " 'google-research-datasets/eth_py150_open',\n",
              " 'iamollas/ethos',\n",
              " 'community-datasets/eu_regulatory_ir',\n",
              " 'NLP-AUEB/eurlex',\n",
              " 'community-datasets/euronews',\n",
              " 'community-datasets/europa_eac_tm',\n",
              " 'community-datasets/europa_ecdc_tm',\n",
              " 'Helsinki-NLP/europarl',\n",
              " 'uwnlp/event2Mind',\n",
              " 'jaydeyoung/evidence_infer_treatment',\n",
              " 'mhardalov/exams',\n",
              " 'factckbr/factckbr',\n",
              " 'community-datasets/fake_news_english',\n",
              " 'jcblaise/fake_news_filipino',\n",
              " 'community-datasets/farsi_news',\n",
              " 'zalando-datasets/fashion_mnist',\n",
              " 'fever/fever',\n",
              " 'thunlp/few_rel',\n",
              " 'takala/financial_phrasebank',\n",
              " 'mpsilfve/finer',\n",
              " 'facebook-llama/flores',\n",
              " 'GETALP/flue',\n",
              " 'ethz/food101',\n",
              " 'illuin/fquad',\n",
              " 'KelvinJiang/freebase_qa',\n",
              " 'google-research-datasets/gap',\n",
              " 'GEM/gem',\n",
              " 'airesearch/generated_reviews_enth',\n",
              " 'community-datasets/generics_kb',\n",
              " 'elenanereiss/german_legal_entity_recognition',\n",
              " 'tudarmstadt-lt/germaner',\n",
              " 'GermanEval/germeval_14',\n",
              " 'Helsinki-NLP/giga_fren',\n",
              " 'Harvard/gigaword',\n",
              " 'community-datasets/glucose',\n",
              " 'nyu-mll/glue',\n",
              " 'community-datasets/gnad10',\n",
              " 'google-research-datasets/go_emotions',\n",
              " 'allenai/gooaq',\n",
              " 'google-research-datasets/google_wellformed_query',\n",
              " 'dki-lab/grail_qa',\n",
              " 'google-research-datasets/great_code',\n",
              " 'AI-team-UoA/greek_legal_code',\n",
              " 'Efstathios/guardian_authorship',\n",
              " 'community-datasets/gutenberg_time',\n",
              " 'jhu-cogsci/hans',\n",
              " 'usc-isi/hansards',\n",
              " 'Elnagara/hard',\n",
              " 'Linguateca/harem',\n",
              " 'community-datasets/has_part',\n",
              " 'legacy-datasets/hate_offensive',\n",
              " 'odegiber/hate_speech18',\n",
              " 'hate-speech-filipino/hate_speech_filipino',\n",
              " 'tdavidson/hate_speech_offensive',\n",
              " 'community-datasets/hate_speech_pl',\n",
              " 'hate-speech-portuguese/hate_speech_portuguese',\n",
              " 'Hate-speech-CNERG/hatexplain',\n",
              " 'UdS-LSV/hausa_voa_ner',\n",
              " 'UdS-LSV/hausa_voa_topics',\n",
              " 'NirantK/hda_nli_hindi',\n",
              " 'dvilares/head_qa',\n",
              " 'ImperialCollegeLondon/health_fact',\n",
              " 'projectbenyehuda/hebrew_projectbenyehuda',\n",
              " 'omilab/hebrew_sentiment',\n",
              " 'community-datasets/hebrew_this_world',\n",
              " 'Rowan/hellaswag',\n",
              " 'cais/mmlu',\n",
              " 'pary/hind_encorp',\n",
              " 'midas/hindi_discourse',\n",
              " 'allenai/hippocorpus',\n",
              " 'nanyang-technological-university-singapore/hkcancor',\n",
              " 'philippelaban/hlgd',\n",
              " 'dravidianlangtech/hope_edi',\n",
              " 'hotpotqa/hotpot_qa',\n",
              " 'hover-nlp/hover',\n",
              " 'community-datasets/hrenwac_para',\n",
              " 'community-datasets/hrwac',\n",
              " 'SemEvalWorkshop/humicroedit',\n",
              " 'wenhu/hybrid_qa',\n",
              " 'SemEvalWorkshop/hyperpartisan_news_detection',\n",
              " 'iapp/iapp_wiki_qa_squad',\n",
              " 'community-datasets/id_clickbait',\n",
              " 'fajrikoto/id_liputan6',\n",
              " 'grit-id/id_nergrit_corpus',\n",
              " 'community-datasets/id_newspapers_2018',\n",
              " 'cahya/id_panl_bppt',\n",
              " 'ilhamfp/id_puisi',\n",
              " 'ignatius/igbo_english_machine_translation',\n",
              " 'ignatius/igbo_monolingual',\n",
              " 'ignatius/igbo_ner',\n",
              " 'kmi-linguistics/ilist',\n",
              " 'stanfordnlp/imdb',\n",
              " 'mirfan899/imdb_urdu_reviews',\n",
              " 'facebook/imppres',\n",
              " 'ai4bharat/indic_glue',\n",
              " 'afaji/indonli',\n",
              " 'indonlp/indonlu',\n",
              " 'UT-CompLing/inquisitive_qg',\n",
              " 'yavuzkomecoglu/interpress_news_category_tr',\n",
              " 'yavuzkomecoglu/interpress_news_category_tr_lite',\n",
              " 'jkkummerfeld/irc_disentangle',\n",
              " 'nwu-ctext/isixhosa_ner_corpus',\n",
              " 'nwu-ctext/isizulu_ner_corpus',\n",
              " 'IWSLT/iwslt2017',\n",
              " 'jeopardy-datasets/jeopardy',\n",
              " 'jhu-clsp/jfleg',\n",
              " 'google/jigsaw_toxicity_pred',\n",
              " 'google/jigsaw_unintended_bias',\n",
              " 'jnlpba/jnlpba',\n",
              " 'community-datasets/journalists_questions',\n",
              " 'AdWeeb/kan_hope',\n",
              " 'gaurvar/kannada_news',\n",
              " 'thu-coai/kd_conv_with_kb',\n",
              " 'Helsinki-NLP/kde4',\n",
              " 'google-research-datasets/kelm',\n",
              " 'facebook/kilt_tasks',\n",
              " 'facebook/kilt_wikipedia',\n",
              " 'andreniyongabo/kinnews_kirnews',\n",
              " 'klue/klue',\n",
              " 'wicho/kor_3i4k',\n",
              " 'inmoonlight/kor_hate',\n",
              " 'nlp-kmu/kor_ner',\n",
              " 'kakaobrain/kor_nli',\n",
              " 'kakaobrain/kor_nlu',\n",
              " 'songys/kor_qpair',\n",
              " 'wicho/kor_sae',\n",
              " 'SpellOnYou/kor_sarcasm',\n",
              " 'mohamedadaly/labr',\n",
              " 'facebook/lama',\n",
              " 'cimec/lambada',\n",
              " 'josecannete/large_spanish_corpus',\n",
              " 'universityofbucharest/laroseda',\n",
              " 'mohnish/lc_quad',\n",
              " 'peluz/lener_br',\n",
              " 'coastalcph/lex_glue',\n",
              " 'ucsbnlp/liar',\n",
              " 'openslr/librispeech_asr',\n",
              " 'openslr/librispeech_lm',\n",
              " 'IBM/limit',\n",
              " 'lince-benchmark/lince',\n",
              " 'cambridgeltl/linnaeus',\n",
              " 'PKU-TANGENT/liveqa',\n",
              " 'keithito/lj_speech',\n",
              " 'billion-word-benchmark/lm1b',\n",
              " 'lst-nectec/lst20',\n",
              " 'cis-lmu/m_lama',\n",
              " 'nilc-nlp/mac_morpho',\n",
              " 'shanasai/makhzan',\n",
              " 'masakhane/masakhaner',\n",
              " 'deepmind/math_dataset',\n",
              " 'allenai/math_qa',\n",
              " 'WHUIR/matinf',\n",
              " 'google-research-datasets/mbpp',\n",
              " 'legacy-datasets/mc4',\n",
              " 'CogComp/mc_taco',\n",
              " 'facebook/md_gender_bias',\n",
              " 'facebook/mdd',\n",
              " 'QAngaroo/med_hop',\n",
              " 'McGill-NLP/medal',\n",
              " 'UCSD26/medical_dialog',\n",
              " 'curaihealth/medical_questions_pairs',\n",
              " 'UdS-LSV/menyo20k_mt',\n",
              " 'microsoft/meta_woz',\n",
              " 'midas/metooma',\n",
              " 'Zaid/metrec',\n",
              " 'PierreColombo/miam',\n",
              " 'siripragadashashank/mkb',\n",
              " 'apple/mkqa',\n",
              " 'facebook/mlqa',\n",
              " 'reciTAL/mlsum',\n",
              " 'ylecun/mnist',\n",
              " 'anthonychen/mocha',\n",
              " 'universityofbucharest/moroco',\n",
              " 'eraser-benchmark/movie_rationales',\n",
              " 'mrqa-workshop/mrqa',\n",
              " 'microsoft/ms_marco',\n",
              " 'microsoft/ms_terms',\n",
              " 'microsoft/msr_genomics_kbcomp',\n",
              " 'microsoft/msr_sqa',\n",
              " 'microsoft/msr_text_compression',\n",
              " 'microsoft/msr_zhen_translation_parity',\n",
              " 'levow/msra_ner',\n",
              " 'IWSLT/mt_eng_vietnamese',\n",
              " 'us-lsi/muchocine',\n",
              " 'jerbarnes/multi_booked',\n",
              " 'coastalcph/multi_eurlex',\n",
              " 'alexfabbri/multi_news',\n",
              " 'nyu-mll/multi_nli',\n",
              " 'nyu-mll/multi_nli_mismatch',\n",
              " 'Helsinki-NLP/multi_para_crawl',\n",
              " 'google-research-datasets/multi_re_qa',\n",
              " 'pfb30/multi_woz_v22',\n",
              " 'yaolu/multi_x_science_sum',\n",
              " 'IBM/multidoc2dial',\n",
              " 'legacy-datasets/multilingual_librispeech',\n",
              " 'stanfordnlp/mutual_friends',\n",
              " 'salesforce/mwsc',\n",
              " 'ayehninnkhine/myanmar_news',\n",
              " 'deepmind/narrativeqa',\n",
              " 'deepmind/narrativeqa_manual',\n",
              " 'google-research-datasets/natural_questions',\n",
              " 'ncbi/ncbi_disease',\n",
              " 'nwu-ctext/nchlt',\n",
              " 'ncslgr/ncslgr',\n",
              " 'rtw-cmu/nell',\n",
              " 'facebook/neural_code_search',\n",
              " 'Helsinki-NLP/news_commentary',\n",
              " 'google-research-datasets/newsgroup',\n",
              " 'jcblaise/newsph',\n",
              " 'jcblaise/newsph_nli',\n",
              " 'liaad/newspop',\n",
              " 'Maluuba/newsqa',\n",
              " 'lil-lab/newsroom',\n",
              " 'nkjp/nkjp-ner',\n",
              " 'boun-tabi/nli_tr',\n",
              " 'xingkunliuxtracta/nlu_evaluation_data',\n",
              " 'ltgoslo/norec',\n",
              " 'ltgoslo/norne',\n",
              " 'ljos/norwegian_ner',\n",
              " 'google-research-datasets/nq_open',\n",
              " 'e9t/nsmc',\n",
              " 'INK-USC/numer_sense',\n",
              " 'yanaiela/numeric_fused_head',\n",
              " 'community-datasets/oclar',\n",
              " 'vpmoreira/offcombr',\n",
              " 'coltekin/offenseval2020_tr',\n",
              " 'community-datasets/offenseval_dravidian',\n",
              " 'Helsinki-NLP/ofis_publik',\n",
              " 'community-datasets/ohsumed',\n",
              " 'knowitall/ollie',\n",
              " 'OFAI/omp',\n",
              " 'iastate/onestop_english',\n",
              " 'malmaud/onestop_qa',\n",
              " 'Helsinki-NLP/open_subtitles',\n",
              " 'openai/openai_humaneval',\n",
              " 'allenai/openbookqa',\n",
              " 'openslr/openslr',\n",
              " 'Skylion007/openwebtext',\n",
              " 'kavgan/opinosis',\n",
              " 'Helsinki-NLP/opus-100',\n",
              " 'Helsinki-NLP/opus_books',\n",
              " 'Helsinki-NLP/opus_dgt',\n",
              " 'Helsinki-NLP/opus_dogc',\n",
              " 'Helsinki-NLP/opus_elhuyar',\n",
              " 'Helsinki-NLP/euconst',\n",
              " 'Helsinki-NLP/opus_finlex',\n",
              " 'Helsinki-NLP/opus_fiskmo',\n",
              " 'Helsinki-NLP/opus_gnome',\n",
              " 'Helsinki-NLP/opus_infopankki',\n",
              " 'Helsinki-NLP/opus_memat',\n",
              " 'Helsinki-NLP/opus_montenegrinsubs',\n",
              " 'Helsinki-NLP/opus_openoffice',\n",
              " 'Helsinki-NLP/opus_paracrawl',\n",
              " 'Helsinki-NLP/opus_rf',\n",
              " 'Helsinki-NLP/opus_tedtalks',\n",
              " 'Helsinki-NLP/opus_ubuntu',\n",
              " 'Helsinki-NLP/opus_wikipedia',\n",
              " 'Helsinki-NLP/opus_xhosanavy',\n",
              " 'EdinburghNLP/orange_sum',\n",
              " 'oscar-corpus/oscar',\n",
              " 'ParaCrawl/para_crawl',\n",
              " 'ParaPat/para_pat',\n",
              " 'community-datasets/parsinlu_reading_comprehension',\n",
              " 'yukimasano/pass',\n",
              " 'google-research-datasets/paws-x',\n",
              " 'google-research-datasets/paws',\n",
              " 'peixiang/pec',\n",
              " 'allenai/peer_read',\n",
              " 'peoples-daily-ner/peoples_daily_ner',\n",
              " 'community-datasets/per_sent',\n",
              " 'HaniehPoostchi/persian_ner',\n",
              " 'deepmind/pg19',\n",
              " 'Helsinki-NLP/php',\n",
              " 'AgentPublic/piaf',\n",
              " 'jerin/pib',\n",
              " 'ybisk/piqa',\n",
              " 'HooshvareLab/pn_summary',\n",
              " 'google-research-datasets/poem_sentiment',\n",
              " 'clarin-pl/polemo2',\n",
              " 'poleval/poleval2019_cyberbullying',\n",
              " 'poleval/poleval2019_mt',\n",
              " 'maciej-ogrodniczuk/polsum',\n",
              " 'rmyeid/polyglot_ner',\n",
              " 'PyThaiNLP/prachathai67k',\n",
              " 'sileod/pragmeval',\n",
              " 'community-datasets/proto_qa',\n",
              " 'community-datasets/psc',\n",
              " 'ptb-text-only/ptb_text_only',\n",
              " 'ncbi/pubmed',\n",
              " 'qiaojin/PubMedQA',\n",
              " '1stvamp/py_ast',\n",
              " 'community-datasets/qa4mre',\n",
              " 'luheng/qa_srl',\n",
              " 'community-datasets/qa_zre',\n",
              " 'community-datasets/qangaroo',\n",
              " 'community-datasets/qanta',\n",
              " 'allenai/qasc',\n",
              " 'allenai/qasper',\n",
              " 'google-research-datasets/qed',\n",
              " 'Helsinki-NLP/qed_amara',\n",
              " 'allenai/quac',\n",
              " 'textmachinelab/quail',\n",
              " 'community-datasets/quarel',\n",
              " 'allenai/quartz',\n",
              " 'quora-competitions/quora',\n",
              " 'allenai/quoref',\n",
              " 'ehovy/race',\n",
              " 'community-datasets/re_dial',\n",
              " 'mhardalov/reasoning_bg',\n",
              " 'mbien/recipe_nlg',\n",
              " 'community-datasets/reclor',\n",
              " 'kdexd/red_caps',\n",
              " 'webis/tldr-17',\n",
              " 'ctr4si/reddit_tifu',\n",
              " 'eleftheria/refresd',\n",
              " 'ucirvine/reuters21578',\n",
              " 'INK-USC/riddle_sense',\n",
              " 'dumitrescustefan/ro_sent',\n",
              " 'dumitrescustefan/ro_sts',\n",
              " 'dumitrescustefan/ro_sts_parallel',\n",
              " 'community-datasets/roman_urdu',\n",
              " 'community-datasets/ronec',\n",
              " 'allenai/ropes',\n",
              " 'cornell-movie-review-data/rotten_tomatoes',\n",
              " 'RussianNLP/russian_super_glue',\n",
              " 'Samsung/samsum',\n",
              " 'surajp/sanskrit_classic',\n",
              " 'inparallel/saudinewsnet',\n",
              " 'kuznetsoffandrey/sberquad',\n",
              " 'scan-tasks/scan-tasks',\n",
              " 'airesearch/scb_mt_enth_2020',\n",
              " 'zhoubolei/scene_parse_150',\n",
              " 'google-research-datasets/schema_guided_dstc8',\n",
              " 'allenai/scicite',\n",
              " 'community-datasets/scielo',\n",
              " 'armanc/scientific_papers',\n",
              " 'allenai/scifact',\n",
              " 'allenai/sciq',\n",
              " 'allenai/scitail',\n",
              " 'allenai/scitldr',\n",
              " 'kyunghyuncho/search_qa',\n",
              " 'hirupert/sede',\n",
              " 'community-datasets/selqa',\n",
              " 'SemEvalWorkshop/sem_eval_2010_task_8',\n",
              " 'SemEvalWorkshop/sem_eval_2014_task_1',\n",
              " 'SemEvalWorkshop/sem_eval_2018_task_1',\n",
              " 'SemEvalWorkshop/sem_eval_2020_task_11',\n",
              " 'google-research-datasets/sent_comp',\n",
              " 'senti-lex/senti_lex',\n",
              " 'community-datasets/senti_ws',\n",
              " 'stanfordnlp/sentiment140',\n",
              " 'community-datasets/sepedi_ner',\n",
              " 'nwu-ctext/sesotho_ner_corpus',\n",
              " 'community-datasets/setimes',\n",
              " 'nwu-ctext/setswana_ner_corpus',\n",
              " 'UCLNLP/sharc',\n",
              " 'nikhilweee/sharc_modified',\n",
              " 'RobZamp/sick',\n",
              " 'eusip/silicone',\n",
              " 'fbougares/simple_questions_v2',\n",
              " 'nwu-ctext/siswati_ner_corpus',\n",
              " 'dfki-nlp/smartdata',\n",
              " 'ucirvine/sms_spam',\n",
              " 'sonos-nlu-benchmark/snips_built_in_intents',\n",
              " 'stanfordnlp/snli',\n",
              " 'SNOW-NLP/snow_simplified_japanese_corpus',\n",
              " 'community-datasets/so_stacksample',\n",
              " 'allenai/social_bias_frames',\n",
              " 'allenai/social_i_qa',\n",
              " 'boschresearch/sofc_materials_articles',\n",
              " 'community-datasets/sogou_news',\n",
              " 'crscardellino/spanish_billion_words',\n",
              " 'Helsinki-NLP/spc',\n",
              " 'spyysalo/species_800',\n",
              " 'google/speech_commands',\n",
              " 'xlangai/spider',\n",
              " 'rajpurkar/squad',\n",
              " 'stanfordnlp/squad_adversarial',\n",
              " 'ccasimiro/squad_es',\n",
              " 'crux82/squad_it',\n",
              " 'KorQuAD/squad_kor_v1',\n",
              " 'KorQuAD/squad_kor_v2',\n",
              " 'nunorc/squad_v1_pt',\n",
              " 'rajpurkar/squad_v2',\n",
              " 'ludwigschmidt/squadshifts',\n",
              " 'community-datasets/srwac',\n",
              " 'stanfordnlp/sst',\n",
              " 'McGill-NLP/stereoset',\n",
              " 'LSDSem/story_cloze',\n",
              " 'timpal0l/stsb_mt_sv',\n",
              " 'PhilipMay/stsb_multi_mt',\n",
              " 'community-datasets/style_change_detection',\n",
              " 'megagonlabs/subjqa',\n",
              " 'aps/super_glue',\n",
              " 's3prl/superb',\n",
              " 'ufldl-stanford/svhn',\n",
              " 'allenai/swag',\n",
              " 'uestc-swahili/swahili',\n",
              " 'community-datasets/swahili_news',\n",
              " 'cgpotts/swda',\n",
              " 'community-datasets/swedish_medical_ner',\n",
              " 'klintan/swedish_ner_corpus',\n",
              " 'timpal0l/swedish_reviews',\n",
              " 'rcds/swiss_judgment_prediction',\n",
              " 'wenhu/tab_fact',\n",
              " 'community-datasets/tamilmixsentiment',\n",
              " 'Helsinki-NLP/tanzil',\n",
              " 'community-datasets/tapaco',\n",
              " 'community-datasets/tashkeela',\n",
              " 'google-research-datasets/taskmaster1',\n",
              " 'google-research-datasets/taskmaster2',\n",
              " 'google-research-datasets/taskmaster3',\n",
              " 'Helsinki-NLP/tatoeba',\n",
              " 'neulab/ted_hrlr',\n",
              " 'Helsinki-NLP/ted_iwlst2013',\n",
              " 'neulab/ted_multi',\n",
              " 'IWSLT/ted_talks_iwslt',\n",
              " 'community-datasets/telugu_books',\n",
              " 'community-datasets/telugu_news',\n",
              " 'Helsinki-NLP/tep_en_fa_para',\n",
              " 'alevkov95/text2log',\n",
              " 'tmu-nlp/thai_toxicity_tweet',\n",
              " 'wannaphong/thainer',\n",
              " 'pythainlp/thaiqa_squad',\n",
              " 'nakhun/thaisum',\n",
              " 'EleutherAI/pile',\n",
              " 'defunct-datasets/the_pile_books3',\n",
              " 'defunct-datasets/the_pile_openwebtext2',\n",
              " 'defunct-datasets/the_pile_stack_exchange',\n",
              " 'Helsinki-NLP/tilde_model',\n",
              " 'google-research-datasets/time_dial',\n",
              " 'community-datasets/times_of_india_news_headlines',\n",
              " 'timit-asr/timit_asr',\n",
              " 'karpathy/tiny_shakespeare',\n",
              " 'jitkapat/tlc',\n",
              " 'tmu-nlp/tmu_gfm_dataset',\n",
              " 'JAugusto97/told-br',\n",
              " 'google-research-datasets/totto',\n",
              " 'CogComp/trec',\n",
              " 'mandarjoshi/trivia_qa',\n",
              " 'fbougares/tsac',\n",
              " 'savasy/ttc4900',\n",
              " 'chaymafourati/tunizi',\n",
              " 'allenai/tuple_ie',\n",
              " 'community-datasets/turk',\n",
              " 'turkic-interlingua/turkic_xwmt',\n",
              " 'mkeskin/turkish_movie_sentiment',\n",
              " 'erayyildiz/turkish_ner',\n",
              " 'fthbrmnby/turkish_product_reviews',\n",
              " 'community-datasets/turkish_shrinked_ner',\n",
              " 'TurkuNLP/turku_ner_corpus',\n",
              " 'cardiffnlp/tweet_eval',\n",
              " 'ucsbnlp/tweet_qa',\n",
              " 'alt-qsri/tweets_ar_en_parallel',\n",
              " 'tweets-hate-speech-detection/tweets_hate_speech_detection',\n",
              " 'ajesujoba/twi_text_c3',\n",
              " 'ajesujoba/twi_wordsim353',\n",
              " 'google-research-datasets/tydiqa',\n",
              " 'ubuntu-dialogs-corpus/ubuntu_dialogs_corpus',\n",
              " 'community-datasets/udhr',\n",
              " 'community-datasets/um005',\n",
              " 'Helsinki-NLP/un_ga',\n",
              " 'Helsinki-NLP/multiun',\n",
              " 'Helsinki-NLP/un_pc',\n",
              " 'universal-dependencies/universal_dependencies',\n",
              " 'unimorph/universal_morphologies',\n",
              " 'community-datasets/urdu_fake_news',\n",
              " 'community-datasets/urdu_sentiment_corpus',\n",
              " 'CSTR-Edinburgh/vctk',\n",
              " 'AILAB-VNUHCM/vivos',\n",
              " 'webnlg-challenge/web_nlg',\n",
              " 'HDLTex/web_of_science',\n",
              " 'Stanford/web_questions',\n",
              " 'hltcoe/weibo_ner',\n",
              " 'bea2019st/wi_locness',\n",
              " 'CUHK-CSE/wider_face',\n",
              " 'google/wiki40b',\n",
              " 'neulab/wiki_asp',\n",
              " 'google-research-datasets/wiki_atomic_edits',\n",
              " 'chaojiang06/wiki_auto',\n",
              " 'michaelauli/wiki_bio',\n",
              " 'facebook/wiki_dpr',\n",
              " 'QAngaroo/wiki_hop',\n",
              " 'esdurmus/wiki_lingua',\n",
              " 'facebook/wiki_movies',\n",
              " 'microsoft/wiki_qa',\n",
              " 'qcri/wiki_qa_ar',\n",
              " 'community-datasets/wiki_snippets',\n",
              " 'Helsinki-NLP/wiki_source',\n",
              " 'google-research-datasets/wiki_split',\n",
              " 'm3hrdadfi/wiki_summary',\n",
              " 'unimelb-nlp/wikiann',\n",
              " 'gboleda/wikicorpus',\n",
              " 'wangwilliamyang/wikihow',\n",
              " 'legacy-datasets/wikipedia',\n",
              " 'Salesforce/wikisql',\n",
              " 'Salesforce/wikitext',\n",
              " 'clt-dlsu/wikitext_tl39',\n",
              " 'MartinThoma/wili_2018',\n",
              " 'uclanlp/wino_bias',\n",
              " 'ErnestSDavis/winograd_wsc',\n",
              " 'allenai/winogrande',\n",
              " 'allenai/wiqa',\n",
              " 'pythainlp/wisesight1000',\n",
              " 'pythainlp/wisesight_sentiment',\n",
              " 'wmt/wmt14',\n",
              " 'wmt/wmt15',\n",
              " 'wmt/wmt16',\n",
              " 'wmt/wmt17',\n",
              " 'wmt/wmt18',\n",
              " 'wmt/wmt19',\n",
              " 'wmt/wmt20_mlqe_task1',\n",
              " 'wmt/wmt20_mlqe_task2',\n",
              " 'wmt/wmt20_mlqe_task3',\n",
              " 'wmt/wmt_t2t',\n",
              " 'leondz/wnut_17',\n",
              " 'Wongnai/wongnai_reviews',\n",
              " 'PolyAI/woz_dialogue',\n",
              " 'CLARIN-PL/wrbsc',\n",
              " 'ZurichNLP/x_stance',\n",
              " 'cambridgeltl/xcopa',\n",
              " 'INK-USC/xcsr',\n",
              " 'Helsinki-NLP/xed_en_fi',\n",
              " 'microsoft/xglue',\n",
              " 'facebook/xnli',\n",
              " 'akariasai/xor_tydi_qa',\n",
              " 'google/xquad',\n",
              " 'google-research-datasets/xquad_r',\n",
              " 'EdinburghNLP/xsum',\n",
              " 'google-research-datasets/xsum_factuality',\n",
              " 'google/xtreme',\n",
              " 'nfL6/yahoo_answers_qa',\n",
              " 'community-datasets/yahoo_answers_topics',\n",
              " 'fancyzhx/yelp_polarity',\n",
              " 'Yelp/yelp_review_full',\n",
              " 'UdS-LSV/yoruba_bbc_topics',\n",
              " 'ajesujoba/yoruba_gv_ner',\n",
              " 'ajesujoba/yoruba_text_c3',\n",
              " 'ajesujoba/yoruba_wordsim353',\n",
              " 'community-datasets/youtube_caption_corrections',\n",
              " 'allenai/zest',\n",
              " '0n1xus/codexglue',\n",
              " '0n1xus/pytorrent-standalone',\n",
              " 'AConsApart/anime_subtitles_DialoGPT',\n",
              " 'AHussain0418/day2_data',\n",
              " 'AHussain0418/day4data',\n",
              " 'AHussain0418/demo_data',\n",
              " 'AI-Sweden/SuperLim',\n",
              " 'AI-it/khs_service_test',\n",
              " 'AI-it/korean-hate-speech',\n",
              " 'ARKseal/YFCC14M_subset_webdataset',\n",
              " 'ARTeLab/fanpage',\n",
              " 'ARTeLab/ilpost',\n",
              " 'ARTeLab/mlsum-it',\n",
              " 'ASCCCCCCCC/amazon_zh',\n",
              " 'ASCCCCCCCC/amazon_zh_simple',\n",
              " 'Abdo1Kamr/Arabic_Hadith',\n",
              " 'Abirate/code_net_dataset',\n",
              " 'Abirate/code_net_dev_dataset',\n",
              " 'Abirate/code_net_test_final_dataset',\n",
              " 'Abirate/english_quotes',\n",
              " 'Abirate/french_book_reviews',\n",
              " 'AdWeeb/DravidianMT',\n",
              " 'Adnan/Urdu_News_Headlines',\n",
              " 'AhmadSawal/qa',\n",
              " 'AhmedSSoliman/CoNaLa',\n",
              " 'Aisha/BAAD16',\n",
              " 'Aisha/BAAD6',\n",
              " 'Akila/ForgottenRealmsWikiDataset',\n",
              " 'Akshith/aa',\n",
              " 'Akshith/g_rock',\n",
              " 'Akshith/test',\n",
              " 'adorkin/extended_tweet_emojis',\n",
              " 'AlekseyKorshuk/comedy-scripts',\n",
              " 'AlekseyKorshuk/horror-scripts',\n",
              " 'AlexMaclean/all-deletion-compressions',\n",
              " 'AlexMaclean/wikipedia-deletion-compressions',\n",
              " 'AlexZapolskii/zapolskii-amazon',\n",
              " 'Aliseyfi/event_token_type',\n",
              " 'Alvenir/nst-da-16khz',\n",
              " 'AndrewMcDowell/de_corpora_parliament_processed',\n",
              " 'Annabelleabbott/real-fake-news-workshop',\n",
              " 'Annielytics/DoctorsNotes',\n",
              " 'Anurag-Singh-creator/task',\n",
              " 'Anurag-Singh-creator/tasks',\n",
              " 'ApiInferenceTest/asr_dummy',\n",
              " 'Arnold/hausa_common_voice',\n",
              " 'AryanLala/autonlp-data-Scientific_Title_Generator',\n",
              " 'Atsushi/fungi_diagnostic_chars_comparison_japanese',\n",
              " 'Atsushi/fungi_indexed_mycological_papers_japanese',\n",
              " 'Atsushi/fungi_trait_circus_database',\n",
              " 'Avishekavi/Avi',\n",
              " 'Babelscape/rebel-dataset',\n",
              " 'Babelscape/wikineural',\n",
              " 'BatuhanYilmaz/github-issues',\n",
              " 'Baybars/parla_text_corpus',\n",
              " 'BeIR/beir-corpus',\n",
              " 'BeIR/beir',\n",
              " 'Lacito/pangloss',\n",
              " 'Binbin/my_dataset',\n",
              " 'BlakesOrb6/Fred-Flintstone',\n",
              " 'Bosio/pacman',\n",
              " 'Bosio/pacman_descriptions',\n",
              " 'TheBritishLibrary/EThOS-PhD-metadata',\n",
              " 'CAGER/rick',\n",
              " 'CALM/arwiki',\n",
              " 'CAiRE/ASCEND',\n",
              " 'CShorten/KerasBERT',\n",
              " 'ChadxxxxHall/Inter-vision',\n",
              " 'Champion/vpc2020_clear_anon_speech',\n",
              " 'Check/a_re_gi',\n",
              " 'Check/region_1',\n",
              " 'Check/region_2',\n",
              " 'Check/region_3',\n",
              " 'Check/region_4',\n",
              " 'Check/region_5',\n",
              " 'Check/region_6',\n",
              " 'Check/region_7',\n",
              " 'Check/region_8',\n",
              " 'Check/region_9',\n",
              " 'Check/regions',\n",
              " 'Check/vverify',\n",
              " 'Cheranga/test',\n",
              " 'ChristophSchuhmann/MS_COCO_2017_URL_TEXT',\n",
              " 'Chun/dataset',\n",
              " 'Chuu/Vhh',\n",
              " 'CodedotAI/code-clippy-tfrecords',\n",
              " 'CodedotAI/code_clippy',\n",
              " 'CodedotAI/code_clippy_github',\n",
              " 'Crives/haha',\n",
              " 'Cropinky/flatearther',\n",
              " 'Cropinky/rap_lyrics_english',\n",
              " 'Cropinky/wow_fishing_bobber',\n",
              " 'Cyberfish/pos_tagger',\n",
              " 'Cyberfish/text_error_correction',\n",
              " 'CyranoB/polarity',\n",
              " 'DDSC/angry-tweets',\n",
              " 'DDSC/dkhate',\n",
              " 'DDSC/europarl',\n",
              " 'DDSC/lcc',\n",
              " 'DDSC/reddit-da-asr-preprocessed',\n",
              " 'DDSC/reddit-da',\n",
              " 'DELith/github-issues',\n",
              " 'DSCI511G1/COP26_Energy_Transition_Tweets',\n",
              " 'DanL/scientific-challenges-and-directions-dataset',\n",
              " 'Daniele/dante-corpus',\n",
              " 'Darren/data',\n",
              " 'Nexdata/accented_english',\n",
              " 'Nexdata/accented_mandarin',\n",
              " 'Nexdata/chinese_dialect',\n",
              " 'Nexdata/mandarin_chinese',\n",
              " 'Nexdata/mixed_speech_chinese_english',\n",
              " 'Nexdata/multi_language',\n",
              " 'Nexdata/multi_language_conversation',\n",
              " 'Davlan/conll2003_de_noMISC',\n",
              " 'Davlan/conll2003_noMISC',\n",
              " 'Davlan/masakhanerV1',\n",
              " 'DelgadoPanadero/Pokemon',\n",
              " 'DeskDown/ALTDataset',\n",
              " 'DeskDown/ALTDataset_en-to-fil-vi-id-ms-ja-khm',\n",
              " 'DiFronzo/Human_Activity_Recognition',\n",
              " 'Dmitriy612/1',\n",
              " 'Doohae/klue-mrc-bm25',\n",
              " 'Doohae/modern_music_re',\n",
              " 'DoyyingFace/github-embeddings-doy',\n",
              " 'DoyyingFace/github-issues-doy',\n",
              " 'DrishtiSharma/as_opus100_processed',\n",
              " 'DrishtiSharma/bg_opus100_processed',\n",
              " 'DrishtiSharma/br_opus100_processed',\n",
              " 'DrishtiSharma/hi_opus100_processed',\n",
              " 'DrishtiSharma/kk_opus100_processed',\n",
              " 'DrishtiSharma/mr_opus100_processed',\n",
              " 'DrishtiSharma/or_opus100_processed',\n",
              " 'DrishtiSharma/sl_opus100_processed',\n",
              " 'DrishtiSharma/sr_opus100_processed',\n",
              " 'EMBO/biolang',\n",
              " 'EMBO/sd-nlp',\n",
              " 'ESZER/H',\n",
              " 'Emanuel/UD_Portuguese-Bosque',\n",
              " 'Emma121/aaaaa',\n",
              " 'Emma121/testtest',\n",
              " 'Enes3774/data',\n",
              " 'Exr0n/wiki-entity-similarity',\n",
              " 'Eymen3455/xsum_tr',\n",
              " 'FIG-Loneliness/FIG-Loneliness',\n",
              " 'FL33TW00D/test-dataset',\n",
              " 'FRTNX/cosuju',\n",
              " 'FRTNX/worldbank-projects',\n",
              " 'Felix-ML/quoteli3',\n",
              " 'Finnish-NLP/mc4_fi_cleaned',\n",
              " 'Firoj/HumAID',\n",
              " 'Francois/futures_es',\n",
              " 'Fraser/mnist-text-default',\n",
              " 'Fraser/mnist-text-no-spaces',\n",
              " 'Fraser/mnist-text-small',\n",
              " 'Fraser/dream-coder',\n",
              " 'Fraser/python-lines',\n",
              " 'Fraser/python-state-changes',\n",
              " 'Fraser/short-jokes',\n",
              " 'Fraser/wiki_sentences',\n",
              " 'GEM/ART',\n",
              " 'GEM/BiSECT',\n",
              " 'GEM/CrossWOZ',\n",
              " 'GEM/OrangeSum',\n",
              " 'GEM/RiSAWOZ',\n",
              " 'GEM/RotoWire_English-German',\n",
              " 'GEM/SIMPITIKI',\n",
              " 'GEM/SciDuet',\n",
              " 'GEM/Taskmaster',\n",
              " 'GEM/cochrane-simplification',\n",
              " 'GEM/common_gen',\n",
              " 'GEM/conversational_weather',\n",
              " 'GEM/cs_restaurants',\n",
              " 'GEM/dart',\n",
              " 'GEM/dstc10_track2_task2',\n",
              " 'GEM/e2e_nlg',\n",
              " 'GEM/indonlg',\n",
              " 'GEM/mlb_data_to_text',\n",
              " 'GEM/mlsum',\n",
              " 'GEM/opusparcus',\n",
              " 'GEM/references',\n",
              " 'GEM/schema_guided_dialog',\n",
              " 'GEM/sportsett_basketball',\n",
              " 'GEM/squad_v2',\n",
              " 'GEM/surface_realisation_st_2020',\n",
              " 'GEM/totto',\n",
              " 'GEM/turku_hockey_data2text',\n",
              " 'GEM/turku_paraphrase_corpus',\n",
              " 'GEM-submissions/v1-outputs-and-scores',\n",
              " 'GEM/viggo',\n",
              " 'GEM/web_nlg',\n",
              " 'GEM/wiki_auto_asset_turk',\n",
              " 'GEM/wiki_cat_sum',\n",
              " 'GEM/wiki_lingua',\n",
              " 'GEM/xlsum',\n",
              " 'GEM/xsum',\n",
              " 'GEM-submissions/GEM__bart_base_schema_guided_dialog__1645547915',\n",
              " 'GEM-submissions/Leo__bart-large__1645784880',\n",
              " 'GEM-submissions/Leo__mbart-large-cc25__1645802644',\n",
              " 'GEM-submissions/lewtun__hugging-face-test-t5-base.outputs.json-36bf2a59__1645558682',\n",
              " 'GEM-submissions/lewtun__hugging-face-test-t5-base.outputs.json-36bf2a59__1645559101',\n",
              " 'GEM-submissions/lewtun__hugging-face-test-t5-base.outputs.json-36bf2a59__1645800191',\n",
              " 'GEM-submissions/lewtun__hugging-face-test-t5-base.outputs.json-36bf2a59__1646049378',\n",
              " 'GEM-submissions/lewtun__hugging-face-test-t5-base.outputs.json-36bf2a59__1646049424',\n",
              " 'GEM-submissions/lewtun__hugging-face-test-t5-base.outputs.json-36bf2a59__1646049601',\n",
              " 'GEM-submissions/lewtun__hugging-face-test-t5-base.outputs.json-36bf2a59__1646049876',\n",
              " 'GEM-submissions/lewtun__hugging-face-test-t5-base.outputs.json-36bf2a59__1646050898',\n",
              " 'GEM-submissions/lewtun__hugging-face-test-t5-base.outputs.json-36bf2a59__1646051364',\n",
              " 'GEM-submissions/lewtun__hugging-face-test-t5-base.outputs.json-36bf2a59__1646052073',\n",
              " 'GEM-submissions/lewtun__this-is-a-test__1646052811',\n",
              " 'GEM-submissions/lewtun__this-is-a-test__1646230987',\n",
              " 'GEM-submissions/ratishsp',\n",
              " 'GEM-submissions/submission-scores',\n",
              " 'GV05/shlomit_speech',\n",
              " 'Gabriel/quora_swe',\n",
              " 'GalacticAI/Noirset',\n",
              " 'Gauravadlakha1509/new_one',\n",
              " 'GeoffVdr/cv8_trainval_processed',\n",
              " 'GonzaloA/fake_news',\n",
              " 'Graphcore/gqa-lxmert',\n",
              " 'Graphcore/gqa',\n",
              " 'Graphcore/vqa-lxmert',\n",
              " 'Graphcore/vqa',\n",
              " 'Graphcore/wikipedia-bert-128',\n",
              " 'Graphcore/wikipedia-bert-512',\n",
              " 'GroNLP/ik-nlp-22_pestyle',\n",
              " 'GroNLP/ik-nlp-22_slp',\n",
              " 'GroNLP/ik-nlp-22_transqe',\n",
              " 'GroNLP/ik-nlp-22_winemag',\n",
              " 'HHousen/ParaSCI',\n",
              " 'HHousen/msrp',\n",
              " 'HHousen/quora',\n",
              " 'HUPD/hupd',\n",
              " 'Halilyesilceng/autonlp-data-nameEntityRecognition',\n",
              " 'HarleyQ/WitcherDialogue',\n",
              " 'HarrisDePerceptron/sv_corpora_parliament_processed',\n",
              " 'HarrisDePerceptron/ur_corpora_pib',\n",
              " 'Harveenchadha/bol-models',\n",
              " 'Harveenchadha/indic-voice',\n",
              " 'HarveyBWest/mybot',\n",
              " 'Hellisotherpeople/DebateSum',\n",
              " 'Helsinki-NLP/tatoeba_mt',\n",
              " 'HenryAI/KerasAPIReference.txt',\n",
              " 'HenryAI/KerasBERTv1-Data',\n",
              " 'HenryAI/KerasCodeExamples.txt',\n",
              " 'HenryAI/KerasDeveloperGuides.txt',\n",
              " 'Huertas97/autonlp-data-mami-semeval-20-21',\n",
              " 'Husain/intent-classification-en-fr',\n",
              " 'IFSTalfredoswald/MBTI',\n",
              " 'Iftoo95/Arabic_Sentiment_and_Topics',\n",
              " 'IlyaGusev/gazeta',\n",
              " 'IlyaGusev/headline_cause',\n",
              " 'Intel/WEC-Eng',\n",
              " 'Ishwar/Senti',\n",
              " 'Iskaj/dutch_corpora_parliament_processed',\n",
              " 'JIWON/nil_dataset',\n",
              " 'JIsanan/war-ceb-wikipedia',\n",
              " 'Jack0508/TED2020_kor',\n",
              " 'Jack0508/TED2020_vi',\n",
              " 'Jack0508/TED2020vi_kor',\n",
              " 'Jack0508/demo',\n",
              " 'Jack0508/eng_vi_demo',\n",
              " 'Jack0508/test',\n",
              " 'Jack0508/vi-ko-TED-txt',\n",
              " ...]"
            ]
          },
          "metadata": {},
          "execution_count": 5
        }
      ]
    },
    {
      "cell_type": "code",
      "source": [
        "'dair-ai/emotion' in all_datasets"
      ],
      "metadata": {
        "colab": {
          "base_uri": "https://localhost:8080/"
        },
        "id": "pdkAllOMReQu",
        "outputId": "55f5ee30-baea-4c96-9160-5ccee31a34fd"
      },
      "execution_count": 6,
      "outputs": [
        {
          "output_type": "execute_result",
          "data": {
            "text/plain": [
              "True"
            ]
          },
          "metadata": {},
          "execution_count": 6
        }
      ]
    },
    {
      "cell_type": "code",
      "source": [
        "from datasets import load_dataset\n",
        "\n",
        "emotion=load_dataset('emotion')"
      ],
      "metadata": {
        "id": "JR_2x78lRqUv"
      },
      "execution_count": 7,
      "outputs": []
    },
    {
      "cell_type": "code",
      "source": [
        "emotion"
      ],
      "metadata": {
        "colab": {
          "base_uri": "https://localhost:8080/"
        },
        "id": "kliCrGwORy_b",
        "outputId": "30a080b7-53a5-49c9-a983-7e928909e801"
      },
      "execution_count": 8,
      "outputs": [
        {
          "output_type": "execute_result",
          "data": {
            "text/plain": [
              "DatasetDict({\n",
              "    train: Dataset({\n",
              "        features: ['text', 'label'],\n",
              "        num_rows: 16000\n",
              "    })\n",
              "    validation: Dataset({\n",
              "        features: ['text', 'label'],\n",
              "        num_rows: 2000\n",
              "    })\n",
              "    test: Dataset({\n",
              "        features: ['text', 'label'],\n",
              "        num_rows: 2000\n",
              "    })\n",
              "})"
            ]
          },
          "metadata": {},
          "execution_count": 8
        }
      ]
    },
    {
      "cell_type": "code",
      "source": [
        "emotion.set_format(type='pandas')"
      ],
      "metadata": {
        "id": "hJzADEjkR2wo"
      },
      "execution_count": 9,
      "outputs": []
    },
    {
      "cell_type": "code",
      "source": [
        "emotion"
      ],
      "metadata": {
        "colab": {
          "base_uri": "https://localhost:8080/"
        },
        "id": "BPMwYuBmR-Vp",
        "outputId": "25eb41fb-ee99-44ca-cf46-017baca5d78f"
      },
      "execution_count": 10,
      "outputs": [
        {
          "output_type": "execute_result",
          "data": {
            "text/plain": [
              "DatasetDict({\n",
              "    train: Dataset({\n",
              "        features: ['text', 'label'],\n",
              "        num_rows: 16000\n",
              "    })\n",
              "    validation: Dataset({\n",
              "        features: ['text', 'label'],\n",
              "        num_rows: 2000\n",
              "    })\n",
              "    test: Dataset({\n",
              "        features: ['text', 'label'],\n",
              "        num_rows: 2000\n",
              "    })\n",
              "})"
            ]
          },
          "metadata": {},
          "execution_count": 10
        }
      ]
    },
    {
      "cell_type": "code",
      "source": [
        "df=emotion['train'][:]"
      ],
      "metadata": {
        "id": "mJtLvn3NSAoe"
      },
      "execution_count": 11,
      "outputs": []
    },
    {
      "cell_type": "code",
      "source": [
        "df.head()"
      ],
      "metadata": {
        "colab": {
          "base_uri": "https://localhost:8080/",
          "height": 206
        },
        "id": "jEjg3DvVSDqY",
        "outputId": "4289b5dd-4697-4999-940b-f19bee8d24f1"
      },
      "execution_count": 12,
      "outputs": [
        {
          "output_type": "execute_result",
          "data": {
            "text/plain": [
              "                                                text  label\n",
              "0                            i didnt feel humiliated      0\n",
              "1  i can go from feeling so hopeless to so damned...      0\n",
              "2   im grabbing a minute to post i feel greedy wrong      3\n",
              "3  i am ever feeling nostalgic about the fireplac...      2\n",
              "4                               i am feeling grouchy      3"
            ],
            "text/html": [
              "\n",
              "  <div id=\"df-0cf5a443-d7fb-40d0-a4dd-64d316b26995\" class=\"colab-df-container\">\n",
              "    <div>\n",
              "<style scoped>\n",
              "    .dataframe tbody tr th:only-of-type {\n",
              "        vertical-align: middle;\n",
              "    }\n",
              "\n",
              "    .dataframe tbody tr th {\n",
              "        vertical-align: top;\n",
              "    }\n",
              "\n",
              "    .dataframe thead th {\n",
              "        text-align: right;\n",
              "    }\n",
              "</style>\n",
              "<table border=\"1\" class=\"dataframe\">\n",
              "  <thead>\n",
              "    <tr style=\"text-align: right;\">\n",
              "      <th></th>\n",
              "      <th>text</th>\n",
              "      <th>label</th>\n",
              "    </tr>\n",
              "  </thead>\n",
              "  <tbody>\n",
              "    <tr>\n",
              "      <th>0</th>\n",
              "      <td>i didnt feel humiliated</td>\n",
              "      <td>0</td>\n",
              "    </tr>\n",
              "    <tr>\n",
              "      <th>1</th>\n",
              "      <td>i can go from feeling so hopeless to so damned...</td>\n",
              "      <td>0</td>\n",
              "    </tr>\n",
              "    <tr>\n",
              "      <th>2</th>\n",
              "      <td>im grabbing a minute to post i feel greedy wrong</td>\n",
              "      <td>3</td>\n",
              "    </tr>\n",
              "    <tr>\n",
              "      <th>3</th>\n",
              "      <td>i am ever feeling nostalgic about the fireplac...</td>\n",
              "      <td>2</td>\n",
              "    </tr>\n",
              "    <tr>\n",
              "      <th>4</th>\n",
              "      <td>i am feeling grouchy</td>\n",
              "      <td>3</td>\n",
              "    </tr>\n",
              "  </tbody>\n",
              "</table>\n",
              "</div>\n",
              "    <div class=\"colab-df-buttons\">\n",
              "\n",
              "  <div class=\"colab-df-container\">\n",
              "    <button class=\"colab-df-convert\" onclick=\"convertToInteractive('df-0cf5a443-d7fb-40d0-a4dd-64d316b26995')\"\n",
              "            title=\"Convert this dataframe to an interactive table.\"\n",
              "            style=\"display:none;\">\n",
              "\n",
              "  <svg xmlns=\"http://www.w3.org/2000/svg\" height=\"24px\" viewBox=\"0 -960 960 960\">\n",
              "    <path d=\"M120-120v-720h720v720H120Zm60-500h600v-160H180v160Zm220 220h160v-160H400v160Zm0 220h160v-160H400v160ZM180-400h160v-160H180v160Zm440 0h160v-160H620v160ZM180-180h160v-160H180v160Zm440 0h160v-160H620v160Z\"/>\n",
              "  </svg>\n",
              "    </button>\n",
              "\n",
              "  <style>\n",
              "    .colab-df-container {\n",
              "      display:flex;\n",
              "      gap: 12px;\n",
              "    }\n",
              "\n",
              "    .colab-df-convert {\n",
              "      background-color: #E8F0FE;\n",
              "      border: none;\n",
              "      border-radius: 50%;\n",
              "      cursor: pointer;\n",
              "      display: none;\n",
              "      fill: #1967D2;\n",
              "      height: 32px;\n",
              "      padding: 0 0 0 0;\n",
              "      width: 32px;\n",
              "    }\n",
              "\n",
              "    .colab-df-convert:hover {\n",
              "      background-color: #E2EBFA;\n",
              "      box-shadow: 0px 1px 2px rgba(60, 64, 67, 0.3), 0px 1px 3px 1px rgba(60, 64, 67, 0.15);\n",
              "      fill: #174EA6;\n",
              "    }\n",
              "\n",
              "    .colab-df-buttons div {\n",
              "      margin-bottom: 4px;\n",
              "    }\n",
              "\n",
              "    [theme=dark] .colab-df-convert {\n",
              "      background-color: #3B4455;\n",
              "      fill: #D2E3FC;\n",
              "    }\n",
              "\n",
              "    [theme=dark] .colab-df-convert:hover {\n",
              "      background-color: #434B5C;\n",
              "      box-shadow: 0px 1px 3px 1px rgba(0, 0, 0, 0.15);\n",
              "      filter: drop-shadow(0px 1px 2px rgba(0, 0, 0, 0.3));\n",
              "      fill: #FFFFFF;\n",
              "    }\n",
              "  </style>\n",
              "\n",
              "    <script>\n",
              "      const buttonEl =\n",
              "        document.querySelector('#df-0cf5a443-d7fb-40d0-a4dd-64d316b26995 button.colab-df-convert');\n",
              "      buttonEl.style.display =\n",
              "        google.colab.kernel.accessAllowed ? 'block' : 'none';\n",
              "\n",
              "      async function convertToInteractive(key) {\n",
              "        const element = document.querySelector('#df-0cf5a443-d7fb-40d0-a4dd-64d316b26995');\n",
              "        const dataTable =\n",
              "          await google.colab.kernel.invokeFunction('convertToInteractive',\n",
              "                                                    [key], {});\n",
              "        if (!dataTable) return;\n",
              "\n",
              "        const docLinkHtml = 'Like what you see? Visit the ' +\n",
              "          '<a target=\"_blank\" href=https://colab.research.google.com/notebooks/data_table.ipynb>data table notebook</a>'\n",
              "          + ' to learn more about interactive tables.';\n",
              "        element.innerHTML = '';\n",
              "        dataTable['output_type'] = 'display_data';\n",
              "        await google.colab.output.renderOutput(dataTable, element);\n",
              "        const docLink = document.createElement('div');\n",
              "        docLink.innerHTML = docLinkHtml;\n",
              "        element.appendChild(docLink);\n",
              "      }\n",
              "    </script>\n",
              "  </div>\n",
              "\n",
              "\n",
              "<div id=\"df-e1e822c0-18db-40bd-b4ea-3886af48a1ed\">\n",
              "  <button class=\"colab-df-quickchart\" onclick=\"quickchart('df-e1e822c0-18db-40bd-b4ea-3886af48a1ed')\"\n",
              "            title=\"Suggest charts\"\n",
              "            style=\"display:none;\">\n",
              "\n",
              "<svg xmlns=\"http://www.w3.org/2000/svg\" height=\"24px\"viewBox=\"0 0 24 24\"\n",
              "     width=\"24px\">\n",
              "    <g>\n",
              "        <path d=\"M19 3H5c-1.1 0-2 .9-2 2v14c0 1.1.9 2 2 2h14c1.1 0 2-.9 2-2V5c0-1.1-.9-2-2-2zM9 17H7v-7h2v7zm4 0h-2V7h2v10zm4 0h-2v-4h2v4z\"/>\n",
              "    </g>\n",
              "</svg>\n",
              "  </button>\n",
              "\n",
              "<style>\n",
              "  .colab-df-quickchart {\n",
              "      --bg-color: #E8F0FE;\n",
              "      --fill-color: #1967D2;\n",
              "      --hover-bg-color: #E2EBFA;\n",
              "      --hover-fill-color: #174EA6;\n",
              "      --disabled-fill-color: #AAA;\n",
              "      --disabled-bg-color: #DDD;\n",
              "  }\n",
              "\n",
              "  [theme=dark] .colab-df-quickchart {\n",
              "      --bg-color: #3B4455;\n",
              "      --fill-color: #D2E3FC;\n",
              "      --hover-bg-color: #434B5C;\n",
              "      --hover-fill-color: #FFFFFF;\n",
              "      --disabled-bg-color: #3B4455;\n",
              "      --disabled-fill-color: #666;\n",
              "  }\n",
              "\n",
              "  .colab-df-quickchart {\n",
              "    background-color: var(--bg-color);\n",
              "    border: none;\n",
              "    border-radius: 50%;\n",
              "    cursor: pointer;\n",
              "    display: none;\n",
              "    fill: var(--fill-color);\n",
              "    height: 32px;\n",
              "    padding: 0;\n",
              "    width: 32px;\n",
              "  }\n",
              "\n",
              "  .colab-df-quickchart:hover {\n",
              "    background-color: var(--hover-bg-color);\n",
              "    box-shadow: 0 1px 2px rgba(60, 64, 67, 0.3), 0 1px 3px 1px rgba(60, 64, 67, 0.15);\n",
              "    fill: var(--button-hover-fill-color);\n",
              "  }\n",
              "\n",
              "  .colab-df-quickchart-complete:disabled,\n",
              "  .colab-df-quickchart-complete:disabled:hover {\n",
              "    background-color: var(--disabled-bg-color);\n",
              "    fill: var(--disabled-fill-color);\n",
              "    box-shadow: none;\n",
              "  }\n",
              "\n",
              "  .colab-df-spinner {\n",
              "    border: 2px solid var(--fill-color);\n",
              "    border-color: transparent;\n",
              "    border-bottom-color: var(--fill-color);\n",
              "    animation:\n",
              "      spin 1s steps(1) infinite;\n",
              "  }\n",
              "\n",
              "  @keyframes spin {\n",
              "    0% {\n",
              "      border-color: transparent;\n",
              "      border-bottom-color: var(--fill-color);\n",
              "      border-left-color: var(--fill-color);\n",
              "    }\n",
              "    20% {\n",
              "      border-color: transparent;\n",
              "      border-left-color: var(--fill-color);\n",
              "      border-top-color: var(--fill-color);\n",
              "    }\n",
              "    30% {\n",
              "      border-color: transparent;\n",
              "      border-left-color: var(--fill-color);\n",
              "      border-top-color: var(--fill-color);\n",
              "      border-right-color: var(--fill-color);\n",
              "    }\n",
              "    40% {\n",
              "      border-color: transparent;\n",
              "      border-right-color: var(--fill-color);\n",
              "      border-top-color: var(--fill-color);\n",
              "    }\n",
              "    60% {\n",
              "      border-color: transparent;\n",
              "      border-right-color: var(--fill-color);\n",
              "    }\n",
              "    80% {\n",
              "      border-color: transparent;\n",
              "      border-right-color: var(--fill-color);\n",
              "      border-bottom-color: var(--fill-color);\n",
              "    }\n",
              "    90% {\n",
              "      border-color: transparent;\n",
              "      border-bottom-color: var(--fill-color);\n",
              "    }\n",
              "  }\n",
              "</style>\n",
              "\n",
              "  <script>\n",
              "    async function quickchart(key) {\n",
              "      const quickchartButtonEl =\n",
              "        document.querySelector('#' + key + ' button');\n",
              "      quickchartButtonEl.disabled = true;  // To prevent multiple clicks.\n",
              "      quickchartButtonEl.classList.add('colab-df-spinner');\n",
              "      try {\n",
              "        const charts = await google.colab.kernel.invokeFunction(\n",
              "            'suggestCharts', [key], {});\n",
              "      } catch (error) {\n",
              "        console.error('Error during call to suggestCharts:', error);\n",
              "      }\n",
              "      quickchartButtonEl.classList.remove('colab-df-spinner');\n",
              "      quickchartButtonEl.classList.add('colab-df-quickchart-complete');\n",
              "    }\n",
              "    (() => {\n",
              "      let quickchartButtonEl =\n",
              "        document.querySelector('#df-e1e822c0-18db-40bd-b4ea-3886af48a1ed button');\n",
              "      quickchartButtonEl.style.display =\n",
              "        google.colab.kernel.accessAllowed ? 'block' : 'none';\n",
              "    })();\n",
              "  </script>\n",
              "</div>\n",
              "\n",
              "    </div>\n",
              "  </div>\n"
            ],
            "application/vnd.google.colaboratory.intrinsic+json": {
              "type": "dataframe",
              "variable_name": "df",
              "summary": "{\n  \"name\": \"df\",\n  \"rows\": 16000,\n  \"fields\": [\n    {\n      \"column\": \"text\",\n      \"properties\": {\n        \"dtype\": \"string\",\n        \"num_unique_values\": 15969,\n        \"samples\": [\n          \"i feel rather imbicilic or at least complacent\",\n          \"i was in the bathroom i had sat down to pee it was to make me feel submissive again per instructions\",\n          \"i am thrilled with the way my skin and hair feel if you are like me you are skeptical\"\n        ],\n        \"semantic_type\": \"\",\n        \"description\": \"\"\n      }\n    },\n    {\n      \"column\": \"label\",\n      \"properties\": {\n        \"dtype\": \"number\",\n        \"std\": 1,\n        \"min\": 0,\n        \"max\": 5,\n        \"num_unique_values\": 6,\n        \"samples\": [\n          0,\n          3,\n          1\n        ],\n        \"semantic_type\": \"\",\n        \"description\": \"\"\n      }\n    }\n  ]\n}"
            }
          },
          "metadata": {},
          "execution_count": 12
        }
      ]
    },
    {
      "cell_type": "code",
      "source": [
        "classes=emotion['train'].features['label'].names"
      ],
      "metadata": {
        "id": "qR12b5ifSLrU"
      },
      "execution_count": 13,
      "outputs": []
    },
    {
      "cell_type": "code",
      "source": [
        "classes"
      ],
      "metadata": {
        "colab": {
          "base_uri": "https://localhost:8080/"
        },
        "id": "NvoDyCifSO0Q",
        "outputId": "024beccd-7941-4e68-d36c-e259b0544b88"
      },
      "execution_count": 14,
      "outputs": [
        {
          "output_type": "execute_result",
          "data": {
            "text/plain": [
              "['sadness', 'joy', 'love', 'anger', 'fear', 'surprise']"
            ]
          },
          "metadata": {},
          "execution_count": 14
        }
      ]
    },
    {
      "cell_type": "code",
      "source": [
        "df['label_name']=df['label'].apply(lambda x: classes[x])"
      ],
      "metadata": {
        "id": "VWz2EM59SaLs"
      },
      "execution_count": 15,
      "outputs": []
    },
    {
      "cell_type": "code",
      "source": [
        "df.head()"
      ],
      "metadata": {
        "colab": {
          "base_uri": "https://localhost:8080/",
          "height": 206
        },
        "id": "Jr4cEBAeSjJf",
        "outputId": "90cae04e-efc8-4dd6-eaa1-6654209b39af"
      },
      "execution_count": 16,
      "outputs": [
        {
          "output_type": "execute_result",
          "data": {
            "text/plain": [
              "                                                text  label label_name\n",
              "0                            i didnt feel humiliated      0    sadness\n",
              "1  i can go from feeling so hopeless to so damned...      0    sadness\n",
              "2   im grabbing a minute to post i feel greedy wrong      3      anger\n",
              "3  i am ever feeling nostalgic about the fireplac...      2       love\n",
              "4                               i am feeling grouchy      3      anger"
            ],
            "text/html": [
              "\n",
              "  <div id=\"df-18918773-fd1b-4c07-9d1e-63f9dbdd9f0b\" class=\"colab-df-container\">\n",
              "    <div>\n",
              "<style scoped>\n",
              "    .dataframe tbody tr th:only-of-type {\n",
              "        vertical-align: middle;\n",
              "    }\n",
              "\n",
              "    .dataframe tbody tr th {\n",
              "        vertical-align: top;\n",
              "    }\n",
              "\n",
              "    .dataframe thead th {\n",
              "        text-align: right;\n",
              "    }\n",
              "</style>\n",
              "<table border=\"1\" class=\"dataframe\">\n",
              "  <thead>\n",
              "    <tr style=\"text-align: right;\">\n",
              "      <th></th>\n",
              "      <th>text</th>\n",
              "      <th>label</th>\n",
              "      <th>label_name</th>\n",
              "    </tr>\n",
              "  </thead>\n",
              "  <tbody>\n",
              "    <tr>\n",
              "      <th>0</th>\n",
              "      <td>i didnt feel humiliated</td>\n",
              "      <td>0</td>\n",
              "      <td>sadness</td>\n",
              "    </tr>\n",
              "    <tr>\n",
              "      <th>1</th>\n",
              "      <td>i can go from feeling so hopeless to so damned...</td>\n",
              "      <td>0</td>\n",
              "      <td>sadness</td>\n",
              "    </tr>\n",
              "    <tr>\n",
              "      <th>2</th>\n",
              "      <td>im grabbing a minute to post i feel greedy wrong</td>\n",
              "      <td>3</td>\n",
              "      <td>anger</td>\n",
              "    </tr>\n",
              "    <tr>\n",
              "      <th>3</th>\n",
              "      <td>i am ever feeling nostalgic about the fireplac...</td>\n",
              "      <td>2</td>\n",
              "      <td>love</td>\n",
              "    </tr>\n",
              "    <tr>\n",
              "      <th>4</th>\n",
              "      <td>i am feeling grouchy</td>\n",
              "      <td>3</td>\n",
              "      <td>anger</td>\n",
              "    </tr>\n",
              "  </tbody>\n",
              "</table>\n",
              "</div>\n",
              "    <div class=\"colab-df-buttons\">\n",
              "\n",
              "  <div class=\"colab-df-container\">\n",
              "    <button class=\"colab-df-convert\" onclick=\"convertToInteractive('df-18918773-fd1b-4c07-9d1e-63f9dbdd9f0b')\"\n",
              "            title=\"Convert this dataframe to an interactive table.\"\n",
              "            style=\"display:none;\">\n",
              "\n",
              "  <svg xmlns=\"http://www.w3.org/2000/svg\" height=\"24px\" viewBox=\"0 -960 960 960\">\n",
              "    <path d=\"M120-120v-720h720v720H120Zm60-500h600v-160H180v160Zm220 220h160v-160H400v160Zm0 220h160v-160H400v160ZM180-400h160v-160H180v160Zm440 0h160v-160H620v160ZM180-180h160v-160H180v160Zm440 0h160v-160H620v160Z\"/>\n",
              "  </svg>\n",
              "    </button>\n",
              "\n",
              "  <style>\n",
              "    .colab-df-container {\n",
              "      display:flex;\n",
              "      gap: 12px;\n",
              "    }\n",
              "\n",
              "    .colab-df-convert {\n",
              "      background-color: #E8F0FE;\n",
              "      border: none;\n",
              "      border-radius: 50%;\n",
              "      cursor: pointer;\n",
              "      display: none;\n",
              "      fill: #1967D2;\n",
              "      height: 32px;\n",
              "      padding: 0 0 0 0;\n",
              "      width: 32px;\n",
              "    }\n",
              "\n",
              "    .colab-df-convert:hover {\n",
              "      background-color: #E2EBFA;\n",
              "      box-shadow: 0px 1px 2px rgba(60, 64, 67, 0.3), 0px 1px 3px 1px rgba(60, 64, 67, 0.15);\n",
              "      fill: #174EA6;\n",
              "    }\n",
              "\n",
              "    .colab-df-buttons div {\n",
              "      margin-bottom: 4px;\n",
              "    }\n",
              "\n",
              "    [theme=dark] .colab-df-convert {\n",
              "      background-color: #3B4455;\n",
              "      fill: #D2E3FC;\n",
              "    }\n",
              "\n",
              "    [theme=dark] .colab-df-convert:hover {\n",
              "      background-color: #434B5C;\n",
              "      box-shadow: 0px 1px 3px 1px rgba(0, 0, 0, 0.15);\n",
              "      filter: drop-shadow(0px 1px 2px rgba(0, 0, 0, 0.3));\n",
              "      fill: #FFFFFF;\n",
              "    }\n",
              "  </style>\n",
              "\n",
              "    <script>\n",
              "      const buttonEl =\n",
              "        document.querySelector('#df-18918773-fd1b-4c07-9d1e-63f9dbdd9f0b button.colab-df-convert');\n",
              "      buttonEl.style.display =\n",
              "        google.colab.kernel.accessAllowed ? 'block' : 'none';\n",
              "\n",
              "      async function convertToInteractive(key) {\n",
              "        const element = document.querySelector('#df-18918773-fd1b-4c07-9d1e-63f9dbdd9f0b');\n",
              "        const dataTable =\n",
              "          await google.colab.kernel.invokeFunction('convertToInteractive',\n",
              "                                                    [key], {});\n",
              "        if (!dataTable) return;\n",
              "\n",
              "        const docLinkHtml = 'Like what you see? Visit the ' +\n",
              "          '<a target=\"_blank\" href=https://colab.research.google.com/notebooks/data_table.ipynb>data table notebook</a>'\n",
              "          + ' to learn more about interactive tables.';\n",
              "        element.innerHTML = '';\n",
              "        dataTable['output_type'] = 'display_data';\n",
              "        await google.colab.output.renderOutput(dataTable, element);\n",
              "        const docLink = document.createElement('div');\n",
              "        docLink.innerHTML = docLinkHtml;\n",
              "        element.appendChild(docLink);\n",
              "      }\n",
              "    </script>\n",
              "  </div>\n",
              "\n",
              "\n",
              "<div id=\"df-3e9e1804-d642-4f3d-98e3-12139177f165\">\n",
              "  <button class=\"colab-df-quickchart\" onclick=\"quickchart('df-3e9e1804-d642-4f3d-98e3-12139177f165')\"\n",
              "            title=\"Suggest charts\"\n",
              "            style=\"display:none;\">\n",
              "\n",
              "<svg xmlns=\"http://www.w3.org/2000/svg\" height=\"24px\"viewBox=\"0 0 24 24\"\n",
              "     width=\"24px\">\n",
              "    <g>\n",
              "        <path d=\"M19 3H5c-1.1 0-2 .9-2 2v14c0 1.1.9 2 2 2h14c1.1 0 2-.9 2-2V5c0-1.1-.9-2-2-2zM9 17H7v-7h2v7zm4 0h-2V7h2v10zm4 0h-2v-4h2v4z\"/>\n",
              "    </g>\n",
              "</svg>\n",
              "  </button>\n",
              "\n",
              "<style>\n",
              "  .colab-df-quickchart {\n",
              "      --bg-color: #E8F0FE;\n",
              "      --fill-color: #1967D2;\n",
              "      --hover-bg-color: #E2EBFA;\n",
              "      --hover-fill-color: #174EA6;\n",
              "      --disabled-fill-color: #AAA;\n",
              "      --disabled-bg-color: #DDD;\n",
              "  }\n",
              "\n",
              "  [theme=dark] .colab-df-quickchart {\n",
              "      --bg-color: #3B4455;\n",
              "      --fill-color: #D2E3FC;\n",
              "      --hover-bg-color: #434B5C;\n",
              "      --hover-fill-color: #FFFFFF;\n",
              "      --disabled-bg-color: #3B4455;\n",
              "      --disabled-fill-color: #666;\n",
              "  }\n",
              "\n",
              "  .colab-df-quickchart {\n",
              "    background-color: var(--bg-color);\n",
              "    border: none;\n",
              "    border-radius: 50%;\n",
              "    cursor: pointer;\n",
              "    display: none;\n",
              "    fill: var(--fill-color);\n",
              "    height: 32px;\n",
              "    padding: 0;\n",
              "    width: 32px;\n",
              "  }\n",
              "\n",
              "  .colab-df-quickchart:hover {\n",
              "    background-color: var(--hover-bg-color);\n",
              "    box-shadow: 0 1px 2px rgba(60, 64, 67, 0.3), 0 1px 3px 1px rgba(60, 64, 67, 0.15);\n",
              "    fill: var(--button-hover-fill-color);\n",
              "  }\n",
              "\n",
              "  .colab-df-quickchart-complete:disabled,\n",
              "  .colab-df-quickchart-complete:disabled:hover {\n",
              "    background-color: var(--disabled-bg-color);\n",
              "    fill: var(--disabled-fill-color);\n",
              "    box-shadow: none;\n",
              "  }\n",
              "\n",
              "  .colab-df-spinner {\n",
              "    border: 2px solid var(--fill-color);\n",
              "    border-color: transparent;\n",
              "    border-bottom-color: var(--fill-color);\n",
              "    animation:\n",
              "      spin 1s steps(1) infinite;\n",
              "  }\n",
              "\n",
              "  @keyframes spin {\n",
              "    0% {\n",
              "      border-color: transparent;\n",
              "      border-bottom-color: var(--fill-color);\n",
              "      border-left-color: var(--fill-color);\n",
              "    }\n",
              "    20% {\n",
              "      border-color: transparent;\n",
              "      border-left-color: var(--fill-color);\n",
              "      border-top-color: var(--fill-color);\n",
              "    }\n",
              "    30% {\n",
              "      border-color: transparent;\n",
              "      border-left-color: var(--fill-color);\n",
              "      border-top-color: var(--fill-color);\n",
              "      border-right-color: var(--fill-color);\n",
              "    }\n",
              "    40% {\n",
              "      border-color: transparent;\n",
              "      border-right-color: var(--fill-color);\n",
              "      border-top-color: var(--fill-color);\n",
              "    }\n",
              "    60% {\n",
              "      border-color: transparent;\n",
              "      border-right-color: var(--fill-color);\n",
              "    }\n",
              "    80% {\n",
              "      border-color: transparent;\n",
              "      border-right-color: var(--fill-color);\n",
              "      border-bottom-color: var(--fill-color);\n",
              "    }\n",
              "    90% {\n",
              "      border-color: transparent;\n",
              "      border-bottom-color: var(--fill-color);\n",
              "    }\n",
              "  }\n",
              "</style>\n",
              "\n",
              "  <script>\n",
              "    async function quickchart(key) {\n",
              "      const quickchartButtonEl =\n",
              "        document.querySelector('#' + key + ' button');\n",
              "      quickchartButtonEl.disabled = true;  // To prevent multiple clicks.\n",
              "      quickchartButtonEl.classList.add('colab-df-spinner');\n",
              "      try {\n",
              "        const charts = await google.colab.kernel.invokeFunction(\n",
              "            'suggestCharts', [key], {});\n",
              "      } catch (error) {\n",
              "        console.error('Error during call to suggestCharts:', error);\n",
              "      }\n",
              "      quickchartButtonEl.classList.remove('colab-df-spinner');\n",
              "      quickchartButtonEl.classList.add('colab-df-quickchart-complete');\n",
              "    }\n",
              "    (() => {\n",
              "      let quickchartButtonEl =\n",
              "        document.querySelector('#df-3e9e1804-d642-4f3d-98e3-12139177f165 button');\n",
              "      quickchartButtonEl.style.display =\n",
              "        google.colab.kernel.accessAllowed ? 'block' : 'none';\n",
              "    })();\n",
              "  </script>\n",
              "</div>\n",
              "\n",
              "    </div>\n",
              "  </div>\n"
            ],
            "application/vnd.google.colaboratory.intrinsic+json": {
              "type": "dataframe",
              "variable_name": "df",
              "summary": "{\n  \"name\": \"df\",\n  \"rows\": 16000,\n  \"fields\": [\n    {\n      \"column\": \"text\",\n      \"properties\": {\n        \"dtype\": \"string\",\n        \"num_unique_values\": 15969,\n        \"samples\": [\n          \"i feel rather imbicilic or at least complacent\",\n          \"i was in the bathroom i had sat down to pee it was to make me feel submissive again per instructions\",\n          \"i am thrilled with the way my skin and hair feel if you are like me you are skeptical\"\n        ],\n        \"semantic_type\": \"\",\n        \"description\": \"\"\n      }\n    },\n    {\n      \"column\": \"label\",\n      \"properties\": {\n        \"dtype\": \"number\",\n        \"std\": 1,\n        \"min\": 0,\n        \"max\": 5,\n        \"num_unique_values\": 6,\n        \"samples\": [\n          0,\n          3,\n          1\n        ],\n        \"semantic_type\": \"\",\n        \"description\": \"\"\n      }\n    },\n    {\n      \"column\": \"label_name\",\n      \"properties\": {\n        \"dtype\": \"category\",\n        \"num_unique_values\": 6,\n        \"samples\": [\n          \"sadness\",\n          \"anger\",\n          \"joy\"\n        ],\n        \"semantic_type\": \"\",\n        \"description\": \"\"\n      }\n    }\n  ]\n}"
            }
          },
          "metadata": {},
          "execution_count": 16
        }
      ]
    },
    {
      "cell_type": "code",
      "source": [
        "import matplotlib.pyplot as plt"
      ],
      "metadata": {
        "id": "ZxMCiZA-SkIt"
      },
      "execution_count": 17,
      "outputs": []
    },
    {
      "cell_type": "code",
      "source": [
        "label_counts=df['label_name'].value_counts(ascending=True)"
      ],
      "metadata": {
        "id": "HEY0OxOLSq_P"
      },
      "execution_count": 18,
      "outputs": []
    },
    {
      "cell_type": "code",
      "source": [
        "label_counts.plot.barh()\n",
        "plt.title('Frequency of Classes')\n",
        "plt.show()"
      ],
      "metadata": {
        "colab": {
          "base_uri": "https://localhost:8080/",
          "height": 452
        },
        "id": "57L_cWmLSucw",
        "outputId": "b1843f5a-3d17-44de-9e17-67c0c7c3a11d"
      },
      "execution_count": 19,
      "outputs": [
        {
          "output_type": "display_data",
          "data": {
            "text/plain": [
              "<Figure size 640x480 with 1 Axes>"
            ],
            "image/png": "[encoded data removed]"
          },
          "metadata": {}
        }
      ]
    },
    {
      "cell_type": "code",
      "source": [
        "df['Words Per Tweet']=df['text'].str.split().apply(len)"
      ],
      "metadata": {
        "id": "ZHUcGCtYS4u_"
      },
      "execution_count": 20,
      "outputs": []
    },
    {
      "cell_type": "code",
      "source": [
        "df.boxplot('Words Per Tweet',by='label_name',figsize=(10,10))\n",
        "plt.show()"
      ],
      "metadata": {
        "colab": {
          "base_uri": "https://localhost:8080/",
          "height": 680
        },
        "id": "XzmhlxhdTWly",
        "outputId": "d8ea97d8-a94d-4314-ecb8-5addc4f1cfe4"
      },
      "execution_count": 21,
      "outputs": [
        {
          "output_type": "display_data",
          "data": {
            "text/plain": [
              "<Figure size 1000x1000 with 1 Axes>"
            ],
            "image/png": "[encoded data removed]"
          },
          "metadata": {}
        }
      ]
    },
    {
      "cell_type": "code",
      "source": [
        "from transformers import AutoTokenizer\n",
        "model_ckpt='distilbert-base-uncased'\n",
        "tokenizer=AutoTokenizer.from_pretrained(model_ckpt)"
      ],
      "metadata": {
        "colab": {
          "base_uri": "https://localhost:8080/"
        },
        "id": "Vq0tzuuSTxQK",
        "outputId": "22a7f337-d8fb-4746-a4df-e4dad722c94b"
      },
      "execution_count": 22,
      "outputs": [
        {
          "output_type": "stream",
          "name": "stderr",
          "text": [
            "/usr/local/lib/python3.10/dist-packages/transformers/tokenization_utils_base.py:1601: FutureWarning: `clean_up_tokenization_spaces` was not set. It will be set to `True` by default. This behavior will be depracted in transformers v4.45, and will be then set to `False` by default. For more details check this issue: https://github.com/huggingface/transformers/issues/31884\n",
            "  warnings.warn(\n"
          ]
        }
      ]
    },
    {
      "cell_type": "code",
      "source": [
        "text=\"I love machine Learning!. Tokenization is awesome\"\n",
        "encoded_text=tokenizer(text)\n",
        "print(encoded_text)"
      ],
      "metadata": {
        "colab": {
          "base_uri": "https://localhost:8080/"
        },
        "id": "-ILtOsRDZCRZ",
        "outputId": "8aebf3cd-dea0-438b-a276-3082c5105f5d"
      },
      "execution_count": 23,
      "outputs": [
        {
          "output_type": "stream",
          "name": "stdout",
          "text": [
            "{'input_ids': [101, 1045, 2293, 3698, 4083, 999, 1012, 19204, 3989, 2003, 12476, 102], 'attention_mask': [1, 1, 1, 1, 1, 1, 1, 1, 1, 1, 1, 1]}\n"
          ]
        }
      ]
    },
    {
      "cell_type": "code",
      "source": [
        "tokens=tokenizer.convert_ids_to_tokens(encoded_text.input_ids)\n",
        "print(tokens)"
      ],
      "metadata": {
        "colab": {
          "base_uri": "https://localhost:8080/"
        },
        "id": "AYn7EyQ8ZPRK",
        "outputId": "62535351-ae3d-4db2-94c1-4761df374c27"
      },
      "execution_count": 24,
      "outputs": [
        {
          "output_type": "stream",
          "name": "stdout",
          "text": [
            "['[CLS]', 'i', 'love', 'machine', 'learning', '!', '.', 'token', '##ization', 'is', 'awesome', '[SEP]']\n"
          ]
        }
      ]
    },
    {
      "cell_type": "code",
      "source": [
        "tokenizer.vocab_size, tokenizer.model_max_length"
      ],
      "metadata": {
        "colab": {
          "base_uri": "https://localhost:8080/"
        },
        "id": "3Wk6ShbaZj0i",
        "outputId": "6b5d8bcb-18b4-4c5f-e161-a21565035045"
      },
      "execution_count": 25,
      "outputs": [
        {
          "output_type": "execute_result",
          "data": {
            "text/plain": [
              "(30522, 512)"
            ]
          },
          "metadata": {},
          "execution_count": 25
        }
      ]
    },
    {
      "cell_type": "markdown",
      "source": [
        "Tokenization of emotion data"
      ],
      "metadata": {
        "id": "bBEqk4v4aJCV"
      }
    },
    {
      "cell_type": "code",
      "source": [
        "emotion.reset_format()"
      ],
      "metadata": {
        "id": "7Ezt-GXDaATE"
      },
      "execution_count": 26,
      "outputs": []
    },
    {
      "cell_type": "code",
      "source": [
        "#map\n",
        "\n",
        "def tokenize(batch):\n",
        "  temp=tokenizer(batch['text'],padding=True,truncation=True)\n",
        "  return temp\n",
        "\n",
        "print(tokenize(emotion['train'][:5]))"
      ],
      "metadata": {
        "colab": {
          "base_uri": "https://localhost:8080/"
        },
        "id": "1A3i_SSnaTDt",
        "outputId": "7a72b162-78e2-49d1-c8bd-4950696cbdd2"
      },
      "execution_count": 27,
      "outputs": [
        {
          "output_type": "stream",
          "name": "stdout",
          "text": [
            "{'input_ids': [[101, 1045, 2134, 2102, 2514, 26608, 102, 0, 0, 0, 0, 0, 0, 0, 0, 0, 0, 0, 0, 0, 0, 0, 0], [101, 1045, 2064, 2175, 2013, 3110, 2061, 20625, 2000, 2061, 9636, 17772, 2074, 2013, 2108, 2105, 2619, 2040, 14977, 1998, 2003, 8300, 102], [101, 10047, 9775, 1037, 3371, 2000, 2695, 1045, 2514, 20505, 3308, 102, 0, 0, 0, 0, 0, 0, 0, 0, 0, 0, 0], [101, 1045, 2572, 2412, 3110, 16839, 9080, 12863, 2055, 1996, 13788, 1045, 2097, 2113, 2008, 2009, 2003, 2145, 2006, 1996, 3200, 102, 0], [101, 1045, 2572, 3110, 24665, 7140, 11714, 102, 0, 0, 0, 0, 0, 0, 0, 0, 0, 0, 0, 0, 0, 0, 0]], 'attention_mask': [[1, 1, 1, 1, 1, 1, 1, 0, 0, 0, 0, 0, 0, 0, 0, 0, 0, 0, 0, 0, 0, 0, 0], [1, 1, 1, 1, 1, 1, 1, 1, 1, 1, 1, 1, 1, 1, 1, 1, 1, 1, 1, 1, 1, 1, 1], [1, 1, 1, 1, 1, 1, 1, 1, 1, 1, 1, 1, 0, 0, 0, 0, 0, 0, 0, 0, 0, 0, 0], [1, 1, 1, 1, 1, 1, 1, 1, 1, 1, 1, 1, 1, 1, 1, 1, 1, 1, 1, 1, 1, 1, 0], [1, 1, 1, 1, 1, 1, 1, 1, 0, 0, 0, 0, 0, 0, 0, 0, 0, 0, 0, 0, 0, 0, 0]]}\n"
          ]
        }
      ]
    },
    {
      "cell_type": "code",
      "source": [
        "emotions_encoded=emotion.map(tokenize,batched=True,batch_size=None)"
      ],
      "metadata": {
        "id": "e-SY5drBa5sJ"
      },
      "execution_count": 28,
      "outputs": []
    },
    {
      "cell_type": "code",
      "source": [
        "emotions_encoded"
      ],
      "metadata": {
        "colab": {
          "base_uri": "https://localhost:8080/"
        },
        "id": "RaOP40IabTy1",
        "outputId": "72471b39-bc79-41fd-dea8-8f09875e4a0d"
      },
      "execution_count": 29,
      "outputs": [
        {
          "output_type": "execute_result",
          "data": {
            "text/plain": [
              "DatasetDict({\n",
              "    train: Dataset({\n",
              "        features: ['text', 'label', 'input_ids', 'attention_mask'],\n",
              "        num_rows: 16000\n",
              "    })\n",
              "    validation: Dataset({\n",
              "        features: ['text', 'label', 'input_ids', 'attention_mask'],\n",
              "        num_rows: 2000\n",
              "    })\n",
              "    test: Dataset({\n",
              "        features: ['text', 'label', 'input_ids', 'attention_mask'],\n",
              "        num_rows: 2000\n",
              "    })\n",
              "})"
            ]
          },
          "metadata": {},
          "execution_count": 29
        }
      ]
    },
    {
      "cell_type": "markdown",
      "source": [
        "Model Building"
      ],
      "metadata": {
        "id": "1csbSk8_bcmA"
      }
    },
    {
      "cell_type": "code",
      "source": [
        "text"
      ],
      "metadata": {
        "colab": {
          "base_uri": "https://localhost:8080/",
          "height": 35
        },
        "id": "4UfGrUvtbYDJ",
        "outputId": "c2cec58d-be9f-4b9d-c73f-95881c70ef18"
      },
      "execution_count": 30,
      "outputs": [
        {
          "output_type": "execute_result",
          "data": {
            "text/plain": [
              "'I love machine Learning!. Tokenization is awesome'"
            ],
            "application/vnd.google.colaboratory.intrinsic+json": {
              "type": "string"
            }
          },
          "metadata": {},
          "execution_count": 30
        }
      ]
    },
    {
      "cell_type": "code",
      "source": [
        "inputs=tokenizer(text,return_tensors='pt')\n",
        "inputs"
      ],
      "metadata": {
        "colab": {
          "base_uri": "https://localhost:8080/"
        },
        "id": "cHFitEPJbeVD",
        "outputId": "3b6df197-ada4-496b-871c-b37bff08e2b8"
      },
      "execution_count": 31,
      "outputs": [
        {
          "output_type": "execute_result",
          "data": {
            "text/plain": [
              "{'input_ids': tensor([[  101,  1045,  2293,  3698,  4083,   999,  1012, 19204,  3989,  2003,\n",
              "         12476,   102]]), 'attention_mask': tensor([[1, 1, 1, 1, 1, 1, 1, 1, 1, 1, 1, 1]])}"
            ]
          },
          "metadata": {},
          "execution_count": 31
        }
      ]
    },
    {
      "cell_type": "code",
      "source": [
        "from transformers import AutoModel\n",
        "import torch\n",
        "\n",
        "model=AutoModel.from_pretrained(model_ckpt)"
      ],
      "metadata": {
        "id": "_q-6QAQKbjcG"
      },
      "execution_count": 32,
      "outputs": []
    },
    {
      "cell_type": "code",
      "source": [
        "model"
      ],
      "metadata": {
        "colab": {
          "base_uri": "https://localhost:8080/"
        },
        "id": "pFaDGIzUb4No",
        "outputId": "90f8b90b-81cc-4815-d031-9178c95bcde2"
      },
      "execution_count": 33,
      "outputs": [
        {
          "output_type": "execute_result",
          "data": {
            "text/plain": [
              "DistilBertModel(\n",
              "  (embeddings): Embeddings(\n",
              "    (word_embeddings): Embedding(30522, 768, padding_idx=0)\n",
              "    (position_embeddings): Embedding(512, 768)\n",
              "    (LayerNorm): LayerNorm((768,), eps=1e-12, elementwise_affine=True)\n",
              "    (dropout): Dropout(p=0.1, inplace=False)\n",
              "  )\n",
              "  (transformer): Transformer(\n",
              "    (layer): ModuleList(\n",
              "      (0-5): 6 x TransformerBlock(\n",
              "        (attention): MultiHeadSelfAttention(\n",
              "          (dropout): Dropout(p=0.1, inplace=False)\n",
              "          (q_lin): Linear(in_features=768, out_features=768, bias=True)\n",
              "          (k_lin): Linear(in_features=768, out_features=768, bias=True)\n",
              "          (v_lin): Linear(in_features=768, out_features=768, bias=True)\n",
              "          (out_lin): Linear(in_features=768, out_features=768, bias=True)\n",
              "        )\n",
              "        (sa_layer_norm): LayerNorm((768,), eps=1e-12, elementwise_affine=True)\n",
              "        (ffn): FFN(\n",
              "          (dropout): Dropout(p=0.1, inplace=False)\n",
              "          (lin1): Linear(in_features=768, out_features=3072, bias=True)\n",
              "          (lin2): Linear(in_features=3072, out_features=768, bias=True)\n",
              "          (activation): GELUActivation()\n",
              "        )\n",
              "        (output_layer_norm): LayerNorm((768,), eps=1e-12, elementwise_affine=True)\n",
              "      )\n",
              "    )\n",
              "  )\n",
              ")"
            ]
          },
          "metadata": {},
          "execution_count": 33
        }
      ]
    },
    {
      "cell_type": "code",
      "source": [
        "with torch.no_grad():\n",
        "  outputs=model(**inputs)\n",
        "\n",
        "last_hidden_states=outputs.last_hidden_state"
      ],
      "metadata": {
        "id": "96rp-4wJb6m_"
      },
      "execution_count": 34,
      "outputs": []
    },
    {
      "cell_type": "code",
      "source": [
        "outputs"
      ],
      "metadata": {
        "colab": {
          "base_uri": "https://localhost:8080/"
        },
        "id": "HpQw4rkjcSRi",
        "outputId": "355834c4-880a-4d9d-f691-b1bee5e08b24"
      },
      "execution_count": 35,
      "outputs": [
        {
          "output_type": "execute_result",
          "data": {
            "text/plain": [
              "BaseModelOutput(last_hidden_state=tensor([[[-0.0886, -0.2149, -0.1689,  ..., -0.0873,  0.2789,  0.5058],\n",
              "         [ 0.4888,  0.1527, -0.1430,  ...,  0.0074,  0.5571,  0.4564],\n",
              "         [ 0.6903,  0.6416,  0.4528,  ..., -0.0707,  0.4100,  0.1986],\n",
              "         ...,\n",
              "         [-0.0752,  0.0228,  0.1196,  ..., -0.0155,  0.0925,  0.5272],\n",
              "         [ 0.3473, -0.1479,  0.1116,  ...,  0.1363, -0.0076,  0.0483],\n",
              "         [ 0.9303,  0.1891, -0.5633,  ...,  0.0727, -0.6529, -0.1950]]]), hidden_states=None, attentions=None)"
            ]
          },
          "metadata": {},
          "execution_count": 35
        }
      ]
    },
    {
      "cell_type": "code",
      "source": [
        "last_hidden_states.shape"
      ],
      "metadata": {
        "colab": {
          "base_uri": "https://localhost:8080/"
        },
        "id": "wdsvXP4HcTrZ",
        "outputId": "538450fc-ae4e-4786-f8d8-473348df9022"
      },
      "execution_count": 36,
      "outputs": [
        {
          "output_type": "execute_result",
          "data": {
            "text/plain": [
              "torch.Size([1, 12, 768])"
            ]
          },
          "metadata": {},
          "execution_count": 36
        }
      ]
    },
    {
      "cell_type": "code",
      "source": [
        "# Fine Tuning"
      ],
      "metadata": {
        "id": "VsdIKQaYcXep"
      },
      "execution_count": 37,
      "outputs": []
    },
    {
      "cell_type": "code",
      "source": [
        "from transformers import AutoModelForSequenceClassification"
      ],
      "metadata": {
        "id": "EapecM8OcyWb"
      },
      "execution_count": 38,
      "outputs": []
    },
    {
      "cell_type": "code",
      "source": [
        "num_labels=len(classes)\n",
        "device = torch.device(\"cuda\" if torch.cuda.is_available() else \"cpu\")\n",
        "model=AutoModelForSequenceClassification.from_pretrained(model_ckpt,num_labels=num_labels).to(device)"
      ],
      "metadata": {
        "colab": {
          "base_uri": "https://localhost:8080/"
        },
        "id": "cfzDn4__d2st",
        "outputId": "829394fb-c658-4258-bdcc-f88943de59ce"
      },
      "execution_count": 39,
      "outputs": [
        {
          "output_type": "stream",
          "name": "stderr",
          "text": [
            "Some weights of DistilBertForSequenceClassification were not initialized from the model checkpoint at distilbert-base-uncased and are newly initialized: ['classifier.bias', 'classifier.weight', 'pre_classifier.bias', 'pre_classifier.weight']\n",
            "You should probably TRAIN this model on a down-stream task to be able to use it for predictions and inference.\n"
          ]
        }
      ]
    },
    {
      "cell_type": "code",
      "source": [
        "device"
      ],
      "metadata": {
        "colab": {
          "base_uri": "https://localhost:8080/"
        },
        "id": "yNaWxp-veI0c",
        "outputId": "ab25212f-f94d-41ef-9343-26135a0080b0"
      },
      "execution_count": 40,
      "outputs": [
        {
          "output_type": "execute_result",
          "data": {
            "text/plain": [
              "device(type='cuda')"
            ]
          },
          "metadata": {},
          "execution_count": 40
        }
      ]
    },
    {
      "cell_type": "code",
      "source": [
        "from transformers import TrainingArguments"
      ],
      "metadata": {
        "id": "to4wZ3uTeTGu"
      },
      "execution_count": 41,
      "outputs": []
    },
    {
      "cell_type": "code",
      "source": [
        "batch_size=64\n",
        "model_name=\"distilbert-finetuned-emotion\"\n",
        "\n",
        "training_args=TrainingArguments(output_dir=model_name,\n",
        "                                num_train_epochs=2,\n",
        "                                learning_rate=2e-5,\n",
        "                                per_device_eval_batch_size=batch_size,\n",
        "                                per_device_train_batch_size=batch_size,\n",
        "                                weight_decay=0.01,\n",
        "                                evaluation_strategy='epoch',\n",
        "                                disable_tqdm=False\n",
        "                                )\n"
      ],
      "metadata": {
        "colab": {
          "base_uri": "https://localhost:8080/"
        },
        "id": "KbNnXFMmegKP",
        "outputId": "cdd34aea-b1df-4587-ccf8-0ca5c462118c"
      },
      "execution_count": 42,
      "outputs": [
        {
          "output_type": "stream",
          "name": "stderr",
          "text": [
            "/usr/local/lib/python3.10/dist-packages/transformers/training_args.py:1525: FutureWarning: `evaluation_strategy` is deprecated and will be removed in version 4.46 of 🤗 Transformers. Use `eval_strategy` instead\n",
            "  warnings.warn(\n"
          ]
        }
      ]
    },
    {
      "cell_type": "code",
      "source": [
        "from sklearn.metrics import accuracy_score,f1_score\n",
        "\n",
        "def compute_metrics(pred):\n",
        "  labels=pred.label_ids\n",
        "  preds=pred.predictions.argmax(-1)\n",
        "  f1=f1_score(labels,preds,average='weighted')\n",
        "  acc=accuracy_score(labels,preds)\n",
        "  return {\"accuracy:\":acc,\"f1\":f1}"
      ],
      "metadata": {
        "id": "cPL_HBr_go9W"
      },
      "execution_count": 43,
      "outputs": []
    },
    {
      "cell_type": "code",
      "source": [
        "from transformers import Trainer\n",
        "\n",
        "trainer=Trainer(model=model,args=training_args,compute_metrics=compute_metrics,train_dataset=emotions_encoded['train'],eval_dataset=emotions_encoded['validation'],tokenizer=tokenizer)"
      ],
      "metadata": {
        "id": "gzccOU8uhZif"
      },
      "execution_count": 44,
      "outputs": []
    },
    {
      "cell_type": "code",
      "source": [
        "trainer.train()"
      ],
      "metadata": {
        "colab": {
          "base_uri": "https://localhost:8080/",
          "height": 207
        },
        "id": "gINH2WbNha1Q",
        "outputId": "84a3138e-91a8-4ec5-eb38-18e70973714e"
      },
      "execution_count": 46,
      "outputs": [
        {
          "output_type": "display_data",
          "data": {
            "text/plain": [
              "<IPython.core.display.HTML object>"
            ],
            "text/html": [
              "\n",
              "    <div>\n",
              "      \n",
              "      <progress value='500' max='500' style='width:300px; height:20px; vertical-align: middle;'></progress>\n",
              "      [500/500 04:17, Epoch 2/2]\n",
              "    </div>\n",
              "    <table border=\"1\" class=\"dataframe\">\n",
              "  <thead>\n",
              " <tr style=\"text-align: left;\">\n",
              "      <th>Epoch</th>\n",
              "      <th>Training Loss</th>\n",
              "      <th>Validation Loss</th>\n",
              "      <th>Accuracy:</th>\n",
              "      <th>F1</th>\n",
              "    </tr>\n",
              "  </thead>\n",
              "  <tbody>\n",
              "    <tr>\n",
              "      <td>1</td>\n",
              "      <td>No log</td>\n",
              "      <td>0.313043</td>\n",
              "      <td>0.903500</td>\n",
              "      <td>0.901958</td>\n",
              "    </tr>\n",
              "    <tr>\n",
              "      <td>2</td>\n",
              "      <td>0.528000</td>\n",
              "      <td>0.218009</td>\n",
              "      <td>0.921000</td>\n",
              "      <td>0.920992</td>\n",
              "    </tr>\n",
              "  </tbody>\n",
              "</table><p>"
            ]
          },
          "metadata": {}
        },
        {
          "output_type": "execute_result",
          "data": {
            "text/plain": [
              "TrainOutput(global_step=500, training_loss=0.52796240234375, metrics={'train_runtime': 259.594, 'train_samples_per_second': 123.269, 'train_steps_per_second': 1.926, 'total_flos': 720342861696000.0, 'train_loss': 0.52796240234375, 'epoch': 2.0})"
            ]
          },
          "metadata": {},
          "execution_count": 46
        }
      ]
    },
    {
      "cell_type": "code",
      "source": [
        "pred_outputs=trainer.predict(emotions_encoded['test'])\n",
        "pred_outputs.metrics"
      ],
      "metadata": {
        "colab": {
          "base_uri": "https://localhost:8080/",
          "height": 121
        },
        "id": "_ShULpD2hnKJ",
        "outputId": "c17d05d5-172a-4eaa-ecff-e29d0ee76f31"
      },
      "execution_count": 48,
      "outputs": [
        {
          "output_type": "display_data",
          "data": {
            "text/plain": [
              "<IPython.core.display.HTML object>"
            ],
            "text/html": []
          },
          "metadata": {}
        },
        {
          "output_type": "execute_result",
          "data": {
            "text/plain": [
              "{'test_loss': 0.2170773595571518,\n",
              " 'test_accuracy:': 0.9195,\n",
              " 'test_f1': 0.9187789626435837,\n",
              " 'test_runtime': 4.1654,\n",
              " 'test_samples_per_second': 480.142,\n",
              " 'test_steps_per_second': 7.682}"
            ]
          },
          "metadata": {},
          "execution_count": 48
        }
      ]
    },
    {
      "cell_type": "code",
      "source": [
        "import numpy as np"
      ],
      "metadata": {
        "id": "M5UgTsL-imi_"
      },
      "execution_count": 49,
      "outputs": []
    },
    {
      "cell_type": "code",
      "source": [
        "y_preds=np.argmax(pred_outputs.predictions,axis=1)\n",
        "y_true=emotions_encoded['test'][:]['label']"
      ],
      "metadata": {
        "id": "RslsUTFPiqgO"
      },
      "execution_count": 50,
      "outputs": []
    },
    {
      "cell_type": "code",
      "source": [
        "from sklearn.metrics import classification_report\n",
        "print(classes)\n",
        "print(classification_report(y_true,y_preds))"
      ],
      "metadata": {
        "colab": {
          "base_uri": "https://localhost:8080/"
        },
        "id": "2hNWpTCki1aB",
        "outputId": "6710a1b8-b8ee-4416-9225-3d311047ba41"
      },
      "execution_count": 51,
      "outputs": [
        {
          "output_type": "stream",
          "name": "stdout",
          "text": [
            "['sadness', 'joy', 'love', 'anger', 'fear', 'surprise']\n",
            "              precision    recall  f1-score   support\n",
            "\n",
            "           0       0.96      0.96      0.96       581\n",
            "           1       0.94      0.94      0.94       695\n",
            "           2       0.78      0.81      0.79       159\n",
            "           3       0.92      0.93      0.92       275\n",
            "           4       0.89      0.91      0.90       224\n",
            "           5       0.87      0.62      0.73        66\n",
            "\n",
            "    accuracy                           0.92      2000\n",
            "   macro avg       0.89      0.86      0.87      2000\n",
            "weighted avg       0.92      0.92      0.92      2000\n",
            "\n"
          ]
        }
      ]
    },
    {
      "cell_type": "code",
      "source": [
        "label_counts"
      ],
      "metadata": {
        "colab": {
          "base_uri": "https://localhost:8080/",
          "height": 303
        },
        "id": "orq0jkSajHWs",
        "outputId": "8bcb4304-604b-4434-82a8-4ff7d3d57eab"
      },
      "execution_count": 52,
      "outputs": [
        {
          "output_type": "execute_result",
          "data": {
            "text/plain": [
              "label_name\n",
              "surprise     572\n",
              "love        1304\n",
              "fear        1937\n",
              "anger       2159\n",
              "sadness     4666\n",
              "joy         5362\n",
              "Name: count, dtype: int64"
            ],
            "text/html": [
              "<div>\n",
              "<style scoped>\n",
              "    .dataframe tbody tr th:only-of-type {\n",
              "        vertical-align: middle;\n",
              "    }\n",
              "\n",
              "    .dataframe tbody tr th {\n",
              "        vertical-align: top;\n",
              "    }\n",
              "\n",
              "    .dataframe thead th {\n",
              "        text-align: right;\n",
              "    }\n",
              "</style>\n",
              "<table border=\"1\" class=\"dataframe\">\n",
              "  <thead>\n",
              "    <tr style=\"text-align: right;\">\n",
              "      <th></th>\n",
              "      <th>count</th>\n",
              "    </tr>\n",
              "    <tr>\n",
              "      <th>label_name</th>\n",
              "      <th></th>\n",
              "    </tr>\n",
              "  </thead>\n",
              "  <tbody>\n",
              "    <tr>\n",
              "      <th>surprise</th>\n",
              "      <td>572</td>\n",
              "    </tr>\n",
              "    <tr>\n",
              "      <th>love</th>\n",
              "      <td>1304</td>\n",
              "    </tr>\n",
              "    <tr>\n",
              "      <th>fear</th>\n",
              "      <td>1937</td>\n",
              "    </tr>\n",
              "    <tr>\n",
              "      <th>anger</th>\n",
              "      <td>2159</td>\n",
              "    </tr>\n",
              "    <tr>\n",
              "      <th>sadness</th>\n",
              "      <td>4666</td>\n",
              "    </tr>\n",
              "    <tr>\n",
              "      <th>joy</th>\n",
              "      <td>5362</td>\n",
              "    </tr>\n",
              "  </tbody>\n",
              "</table>\n",
              "</div><br><label><b>dtype:</b> int64</label>"
            ]
          },
          "metadata": {},
          "execution_count": 52
        }
      ]
    },
    {
      "cell_type": "code",
      "source": [
        "input_encoded=tokenizer(text,return_tensors='pt').to(device)\n",
        "with torch.no_grad():\n",
        "  output=model(**input_encoded)"
      ],
      "metadata": {
        "id": "1bfHiMAVjQgn"
      },
      "execution_count": 54,
      "outputs": []
    },
    {
      "cell_type": "code",
      "source": [
        "output"
      ],
      "metadata": {
        "colab": {
          "base_uri": "https://localhost:8080/"
        },
        "id": "RZvLs_UWkFFz",
        "outputId": "014d7b07-8877-463d-b482-cb8083a75a88"
      },
      "execution_count": 55,
      "outputs": [
        {
          "output_type": "execute_result",
          "data": {
            "text/plain": [
              "SequenceClassifierOutput(loss=None, logits=tensor([[-1.0707,  3.8239, -0.6862, -1.4435, -1.4278, -0.4454]],\n",
              "       device='cuda:0'), hidden_states=None, attentions=None)"
            ]
          },
          "metadata": {},
          "execution_count": 55
        }
      ]
    },
    {
      "cell_type": "code",
      "source": [
        "logits=output.logits\n",
        "pred=torch.argmax(logits,dim=1).item()\n",
        "pred,classes[pred]"
      ],
      "metadata": {
        "colab": {
          "base_uri": "https://localhost:8080/"
        },
        "id": "ME7DtjrAkLYt",
        "outputId": "210954ab-8331-4e4b-949b-99b313bd2da2"
      },
      "execution_count": 56,
      "outputs": [
        {
          "output_type": "execute_result",
          "data": {
            "text/plain": [
              "(1, 'joy')"
            ]
          },
          "metadata": {},
          "execution_count": 56
        }
      ]
    },
    {
      "cell_type": "code",
      "source": [],
      "metadata": {
        "id": "jBXzXnmwkVhA"
      },
      "execution_count": null,
      "outputs": []
    }
  ]
}