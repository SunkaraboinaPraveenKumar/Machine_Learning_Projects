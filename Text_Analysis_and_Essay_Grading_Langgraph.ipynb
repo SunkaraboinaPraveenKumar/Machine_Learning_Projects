{
  "nbformat": 4,
  "nbformat_minor": 0,
  "metadata": {
    "colab": {
      "provenance": [],
      "authorship_tag": "ABX9TyMW2QmUh1U1XNMxlLkZNi14",
      "include_colab_link": true
    },
    "kernelspec": {
      "name": "python3",
      "display_name": "Python 3"
    },
    "language_info": {
      "name": "python"
    }
  },
  "cells": [
    {
      "cell_type": "markdown",
      "metadata": {
        "id": "view-in-github",
        "colab_type": "text"
      },
      "source": [
        "<a href=\"https://colab.research.google.com/github/SunkaraboinaPraveenKumar/Machine_Learning_Projects/blob/main/Text_Analysis_and_Essay_Grading_Langgraph.ipynb\" target=\"_parent\"><img src=\"https://colab.research.google.com/assets/colab-badge.svg\" alt=\"Open In Colab\"/></a>"
      ]
    },
    {
      "cell_type": "markdown",
      "source": [
        "1. Text Classification\n",
        "2. Entity Extraction\n",
        "3. Text Summarization"
      ],
      "metadata": {
        "id": "M0WhmrWQO-it"
      }
    },
    {
      "cell_type": "code",
      "execution_count": 1,
      "metadata": {
        "colab": {
          "base_uri": "https://localhost:8080/"
        },
        "id": "29eRCSueO4Vf",
        "outputId": "b9bada43-6dbf-42ea-c0e9-366e00d91b87"
      },
      "outputs": [
        {
          "output_type": "stream",
          "name": "stdout",
          "text": [
            "Requirement already satisfied: langchain in /usr/local/lib/python3.10/dist-packages (0.3.12)\n",
            "Requirement already satisfied: langchain_core in /usr/local/lib/python3.10/dist-packages (0.3.25)\n",
            "Collecting langchain_community\n",
            "  Downloading langchain_community-0.3.13-py3-none-any.whl.metadata (2.9 kB)\n",
            "Collecting langgraph\n",
            "  Downloading langgraph-0.2.60-py3-none-any.whl.metadata (15 kB)\n",
            "Requirement already satisfied: PyYAML>=5.3 in /usr/local/lib/python3.10/dist-packages (from langchain) (6.0.2)\n",
            "Requirement already satisfied: SQLAlchemy<3,>=1.4 in /usr/local/lib/python3.10/dist-packages (from langchain) (2.0.36)\n",
            "Requirement already satisfied: aiohttp<4.0.0,>=3.8.3 in /usr/local/lib/python3.10/dist-packages (from langchain) (3.11.10)\n",
            "Requirement already satisfied: async-timeout<5.0.0,>=4.0.0 in /usr/local/lib/python3.10/dist-packages (from langchain) (4.0.3)\n",
            "Requirement already satisfied: langchain-text-splitters<0.4.0,>=0.3.3 in /usr/local/lib/python3.10/dist-packages (from langchain) (0.3.3)\n",
            "Requirement already satisfied: langsmith<0.3,>=0.1.17 in /usr/local/lib/python3.10/dist-packages (from langchain) (0.2.3)\n",
            "Requirement already satisfied: numpy<2,>=1.22.4 in /usr/local/lib/python3.10/dist-packages (from langchain) (1.26.4)\n",
            "Requirement already satisfied: pydantic<3.0.0,>=2.7.4 in /usr/local/lib/python3.10/dist-packages (from langchain) (2.10.3)\n",
            "Requirement already satisfied: requests<3,>=2 in /usr/local/lib/python3.10/dist-packages (from langchain) (2.32.3)\n",
            "Requirement already satisfied: tenacity!=8.4.0,<10,>=8.1.0 in /usr/local/lib/python3.10/dist-packages (from langchain) (9.0.0)\n",
            "Requirement already satisfied: jsonpatch<2.0,>=1.33 in /usr/local/lib/python3.10/dist-packages (from langchain_core) (1.33)\n",
            "Requirement already satisfied: packaging<25,>=23.2 in /usr/local/lib/python3.10/dist-packages (from langchain_core) (24.2)\n",
            "Requirement already satisfied: typing-extensions>=4.7 in /usr/local/lib/python3.10/dist-packages (from langchain_core) (4.12.2)\n",
            "Collecting dataclasses-json<0.7,>=0.5.7 (from langchain_community)\n",
            "  Downloading dataclasses_json-0.6.7-py3-none-any.whl.metadata (25 kB)\n",
            "Collecting httpx-sse<0.5.0,>=0.4.0 (from langchain_community)\n",
            "  Downloading httpx_sse-0.4.0-py3-none-any.whl.metadata (9.0 kB)\n",
            "Collecting langchain\n",
            "  Downloading langchain-0.3.13-py3-none-any.whl.metadata (7.1 kB)\n",
            "Collecting langchain_core\n",
            "  Downloading langchain_core-0.3.28-py3-none-any.whl.metadata (6.3 kB)\n",
            "Collecting pydantic-settings<3.0.0,>=2.4.0 (from langchain_community)\n",
            "  Downloading pydantic_settings-2.7.0-py3-none-any.whl.metadata (3.5 kB)\n",
            "Collecting langgraph-checkpoint<3.0.0,>=2.0.4 (from langgraph)\n",
            "  Downloading langgraph_checkpoint-2.0.9-py3-none-any.whl.metadata (4.6 kB)\n",
            "Collecting langgraph-sdk<0.2.0,>=0.1.42 (from langgraph)\n",
            "  Downloading langgraph_sdk-0.1.48-py3-none-any.whl.metadata (1.8 kB)\n",
            "Requirement already satisfied: aiohappyeyeballs>=2.3.0 in /usr/local/lib/python3.10/dist-packages (from aiohttp<4.0.0,>=3.8.3->langchain) (2.4.4)\n",
            "Requirement already satisfied: aiosignal>=1.1.2 in /usr/local/lib/python3.10/dist-packages (from aiohttp<4.0.0,>=3.8.3->langchain) (1.3.2)\n",
            "Requirement already satisfied: attrs>=17.3.0 in /usr/local/lib/python3.10/dist-packages (from aiohttp<4.0.0,>=3.8.3->langchain) (24.3.0)\n",
            "Requirement already satisfied: frozenlist>=1.1.1 in /usr/local/lib/python3.10/dist-packages (from aiohttp<4.0.0,>=3.8.3->langchain) (1.5.0)\n",
            "Requirement already satisfied: multidict<7.0,>=4.5 in /usr/local/lib/python3.10/dist-packages (from aiohttp<4.0.0,>=3.8.3->langchain) (6.1.0)\n",
            "Requirement already satisfied: propcache>=0.2.0 in /usr/local/lib/python3.10/dist-packages (from aiohttp<4.0.0,>=3.8.3->langchain) (0.2.1)\n",
            "Requirement already satisfied: yarl<2.0,>=1.17.0 in /usr/local/lib/python3.10/dist-packages (from aiohttp<4.0.0,>=3.8.3->langchain) (1.18.3)\n",
            "Collecting marshmallow<4.0.0,>=3.18.0 (from dataclasses-json<0.7,>=0.5.7->langchain_community)\n",
            "  Downloading marshmallow-3.23.2-py3-none-any.whl.metadata (7.1 kB)\n",
            "Collecting typing-inspect<1,>=0.4.0 (from dataclasses-json<0.7,>=0.5.7->langchain_community)\n",
            "  Downloading typing_inspect-0.9.0-py3-none-any.whl.metadata (1.5 kB)\n",
            "Requirement already satisfied: jsonpointer>=1.9 in /usr/local/lib/python3.10/dist-packages (from jsonpatch<2.0,>=1.33->langchain_core) (3.0.0)\n",
            "Requirement already satisfied: msgpack<2.0.0,>=1.1.0 in /usr/local/lib/python3.10/dist-packages (from langgraph-checkpoint<3.0.0,>=2.0.4->langgraph) (1.1.0)\n",
            "Requirement already satisfied: httpx>=0.25.2 in /usr/local/lib/python3.10/dist-packages (from langgraph-sdk<0.2.0,>=0.1.42->langgraph) (0.28.1)\n",
            "Requirement already satisfied: orjson>=3.10.1 in /usr/local/lib/python3.10/dist-packages (from langgraph-sdk<0.2.0,>=0.1.42->langgraph) (3.10.12)\n",
            "Requirement already satisfied: requests-toolbelt<2.0.0,>=1.0.0 in /usr/local/lib/python3.10/dist-packages (from langsmith<0.3,>=0.1.17->langchain) (1.0.0)\n",
            "Requirement already satisfied: annotated-types>=0.6.0 in /usr/local/lib/python3.10/dist-packages (from pydantic<3.0.0,>=2.7.4->langchain) (0.7.0)\n",
            "Requirement already satisfied: pydantic-core==2.27.1 in /usr/local/lib/python3.10/dist-packages (from pydantic<3.0.0,>=2.7.4->langchain) (2.27.1)\n",
            "Collecting python-dotenv>=0.21.0 (from pydantic-settings<3.0.0,>=2.4.0->langchain_community)\n",
            "  Downloading python_dotenv-1.0.1-py3-none-any.whl.metadata (23 kB)\n",
            "Requirement already satisfied: charset-normalizer<4,>=2 in /usr/local/lib/python3.10/dist-packages (from requests<3,>=2->langchain) (3.4.0)\n",
            "Requirement already satisfied: idna<4,>=2.5 in /usr/local/lib/python3.10/dist-packages (from requests<3,>=2->langchain) (3.10)\n",
            "Requirement already satisfied: urllib3<3,>=1.21.1 in /usr/local/lib/python3.10/dist-packages (from requests<3,>=2->langchain) (2.2.3)\n",
            "Requirement already satisfied: certifi>=2017.4.17 in /usr/local/lib/python3.10/dist-packages (from requests<3,>=2->langchain) (2024.12.14)\n",
            "Requirement already satisfied: greenlet!=0.4.17 in /usr/local/lib/python3.10/dist-packages (from SQLAlchemy<3,>=1.4->langchain) (3.1.1)\n",
            "Requirement already satisfied: anyio in /usr/local/lib/python3.10/dist-packages (from httpx>=0.25.2->langgraph-sdk<0.2.0,>=0.1.42->langgraph) (3.7.1)\n",
            "Requirement already satisfied: httpcore==1.* in /usr/local/lib/python3.10/dist-packages (from httpx>=0.25.2->langgraph-sdk<0.2.0,>=0.1.42->langgraph) (1.0.7)\n",
            "Requirement already satisfied: h11<0.15,>=0.13 in /usr/local/lib/python3.10/dist-packages (from httpcore==1.*->httpx>=0.25.2->langgraph-sdk<0.2.0,>=0.1.42->langgraph) (0.14.0)\n",
            "Collecting mypy-extensions>=0.3.0 (from typing-inspect<1,>=0.4.0->dataclasses-json<0.7,>=0.5.7->langchain_community)\n",
            "  Downloading mypy_extensions-1.0.0-py3-none-any.whl.metadata (1.1 kB)\n",
            "Requirement already satisfied: sniffio>=1.1 in /usr/local/lib/python3.10/dist-packages (from anyio->httpx>=0.25.2->langgraph-sdk<0.2.0,>=0.1.42->langgraph) (1.3.1)\n",
            "Requirement already satisfied: exceptiongroup in /usr/local/lib/python3.10/dist-packages (from anyio->httpx>=0.25.2->langgraph-sdk<0.2.0,>=0.1.42->langgraph) (1.2.2)\n",
            "Downloading langchain_community-0.3.13-py3-none-any.whl (2.5 MB)\n",
            "\u001b[2K   \u001b[90m━━━━━━━━━━━━━━━━━━━━━━━━━━━━━━━━━━━━━━━━\u001b[0m \u001b[32m2.5/2.5 MB\u001b[0m \u001b[31m22.7 MB/s\u001b[0m eta \u001b[36m0:00:00\u001b[0m\n",
            "\u001b[?25hDownloading langchain-0.3.13-py3-none-any.whl (1.0 MB)\n",
            "\u001b[2K   \u001b[90m━━━━━━━━━━━━━━━━━━━━━━━━━━━━━━━━━━━━━━━━\u001b[0m \u001b[32m1.0/1.0 MB\u001b[0m \u001b[31m12.9 MB/s\u001b[0m eta \u001b[36m0:00:00\u001b[0m\n",
            "\u001b[?25hDownloading langchain_core-0.3.28-py3-none-any.whl (411 kB)\n",
            "\u001b[2K   \u001b[90m━━━━━━━━━━━━━━━━━━━━━━━━━━━━━━━━━━━━━━━━\u001b[0m \u001b[32m411.6/411.6 kB\u001b[0m \u001b[31m8.6 MB/s\u001b[0m eta \u001b[36m0:00:00\u001b[0m\n",
            "\u001b[?25hDownloading langgraph-0.2.60-py3-none-any.whl (135 kB)\n",
            "\u001b[2K   \u001b[90m━━━━━━━━━━━━━━━━━━━━━━━━━━━━━━━━━━━━━━━━\u001b[0m \u001b[32m135.7/135.7 kB\u001b[0m \u001b[31m9.2 MB/s\u001b[0m eta \u001b[36m0:00:00\u001b[0m\n",
            "\u001b[?25hDownloading dataclasses_json-0.6.7-py3-none-any.whl (28 kB)\n",
            "Downloading httpx_sse-0.4.0-py3-none-any.whl (7.8 kB)\n",
            "Downloading langgraph_checkpoint-2.0.9-py3-none-any.whl (37 kB)\n",
            "Downloading langgraph_sdk-0.1.48-py3-none-any.whl (43 kB)\n",
            "\u001b[2K   \u001b[90m━━━━━━━━━━━━━━━━━━━━━━━━━━━━━━━━━━━━━━━━\u001b[0m \u001b[32m43.7/43.7 kB\u001b[0m \u001b[31m2.2 MB/s\u001b[0m eta \u001b[36m0:00:00\u001b[0m\n",
            "\u001b[?25hDownloading pydantic_settings-2.7.0-py3-none-any.whl (29 kB)\n",
            "Downloading marshmallow-3.23.2-py3-none-any.whl (49 kB)\n",
            "\u001b[2K   \u001b[90m━━━━━━━━━━━━━━━━━━━━━━━━━━━━━━━━━━━━━━━━\u001b[0m \u001b[32m49.3/49.3 kB\u001b[0m \u001b[31m2.4 MB/s\u001b[0m eta \u001b[36m0:00:00\u001b[0m\n",
            "\u001b[?25hDownloading python_dotenv-1.0.1-py3-none-any.whl (19 kB)\n",
            "Downloading typing_inspect-0.9.0-py3-none-any.whl (8.8 kB)\n",
            "Downloading mypy_extensions-1.0.0-py3-none-any.whl (4.7 kB)\n",
            "Installing collected packages: python-dotenv, mypy-extensions, marshmallow, httpx-sse, typing-inspect, pydantic-settings, langgraph-sdk, dataclasses-json, langchain_core, langgraph-checkpoint, langgraph, langchain, langchain_community\n",
            "  Attempting uninstall: langchain_core\n",
            "    Found existing installation: langchain-core 0.3.25\n",
            "    Uninstalling langchain-core-0.3.25:\n",
            "      Successfully uninstalled langchain-core-0.3.25\n",
            "  Attempting uninstall: langchain\n",
            "    Found existing installation: langchain 0.3.12\n",
            "    Uninstalling langchain-0.3.12:\n",
            "      Successfully uninstalled langchain-0.3.12\n",
            "Successfully installed dataclasses-json-0.6.7 httpx-sse-0.4.0 langchain-0.3.13 langchain_community-0.3.13 langchain_core-0.3.28 langgraph-0.2.60 langgraph-checkpoint-2.0.9 langgraph-sdk-0.1.48 marshmallow-3.23.2 mypy-extensions-1.0.0 pydantic-settings-2.7.0 python-dotenv-1.0.1 typing-inspect-0.9.0\n"
          ]
        }
      ],
      "source": [
        "!pip install langchain langchain_core langchain_community langgraph"
      ]
    },
    {
      "cell_type": "code",
      "source": [
        "from typing import TypedDict, Dict,List"
      ],
      "metadata": {
        "id": "ww-n2oqDPQsS"
      },
      "execution_count": 2,
      "outputs": []
    },
    {
      "cell_type": "markdown",
      "source": [
        "Build the text processing pipeline\n",
        "1. Define State and Initialize LLM\n",
        "2. Define Node Function\n",
        "3. Create Tools & Build Workflow\n",
        "4. Visualize the Workflow\n",
        "5. Testing a Pipeline"
      ],
      "metadata": {
        "id": "tL8MN-P7PZJC"
      }
    },
    {
      "cell_type": "code",
      "source": [
        "from langgraph.graph import StateGraph, END\n",
        "from langchain.prompts import PromptTemplate\n",
        "from langchain.schema import HumanMessage\n",
        "from langchain_core.runnables.graph import MermaidDrawMethod\n",
        "from IPython.display import display, Image"
      ],
      "metadata": {
        "id": "RxmcZ114PXpV"
      },
      "execution_count": 3,
      "outputs": []
    },
    {
      "cell_type": "code",
      "source": [
        "class State(TypedDict):\n",
        "  text: str\n",
        "  classification:str\n",
        "  entities:List[str]\n",
        "  summary:str"
      ],
      "metadata": {
        "id": "pXOKvfkpQGlE"
      },
      "execution_count": 4,
      "outputs": []
    },
    {
      "cell_type": "code",
      "source": [
        "!pip install langchain_groq"
      ],
      "metadata": {
        "colab": {
          "base_uri": "https://localhost:8080/"
        },
        "id": "U2FeRp3_Qst0",
        "outputId": "448e1013-80da-4e2e-d75c-ad75ed964658"
      },
      "execution_count": 5,
      "outputs": [
        {
          "output_type": "stream",
          "name": "stdout",
          "text": [
            "Collecting langchain_groq\n",
            "  Downloading langchain_groq-0.2.2-py3-none-any.whl.metadata (3.0 kB)\n",
            "Collecting groq<1,>=0.4.1 (from langchain_groq)\n",
            "  Downloading groq-0.13.1-py3-none-any.whl.metadata (14 kB)\n",
            "Requirement already satisfied: langchain-core<0.4.0,>=0.3.27 in /usr/local/lib/python3.10/dist-packages (from langchain_groq) (0.3.28)\n",
            "Requirement already satisfied: anyio<5,>=3.5.0 in /usr/local/lib/python3.10/dist-packages (from groq<1,>=0.4.1->langchain_groq) (3.7.1)\n",
            "Requirement already satisfied: distro<2,>=1.7.0 in /usr/local/lib/python3.10/dist-packages (from groq<1,>=0.4.1->langchain_groq) (1.9.0)\n",
            "Requirement already satisfied: httpx<1,>=0.23.0 in /usr/local/lib/python3.10/dist-packages (from groq<1,>=0.4.1->langchain_groq) (0.28.1)\n",
            "Requirement already satisfied: pydantic<3,>=1.9.0 in /usr/local/lib/python3.10/dist-packages (from groq<1,>=0.4.1->langchain_groq) (2.10.3)\n",
            "Requirement already satisfied: sniffio in /usr/local/lib/python3.10/dist-packages (from groq<1,>=0.4.1->langchain_groq) (1.3.1)\n",
            "Requirement already satisfied: typing-extensions<5,>=4.10 in /usr/local/lib/python3.10/dist-packages (from groq<1,>=0.4.1->langchain_groq) (4.12.2)\n",
            "Requirement already satisfied: PyYAML>=5.3 in /usr/local/lib/python3.10/dist-packages (from langchain-core<0.4.0,>=0.3.27->langchain_groq) (6.0.2)\n",
            "Requirement already satisfied: jsonpatch<2.0,>=1.33 in /usr/local/lib/python3.10/dist-packages (from langchain-core<0.4.0,>=0.3.27->langchain_groq) (1.33)\n",
            "Requirement already satisfied: langsmith<0.3,>=0.1.125 in /usr/local/lib/python3.10/dist-packages (from langchain-core<0.4.0,>=0.3.27->langchain_groq) (0.2.3)\n",
            "Requirement already satisfied: packaging<25,>=23.2 in /usr/local/lib/python3.10/dist-packages (from langchain-core<0.4.0,>=0.3.27->langchain_groq) (24.2)\n",
            "Requirement already satisfied: tenacity!=8.4.0,<10.0.0,>=8.1.0 in /usr/local/lib/python3.10/dist-packages (from langchain-core<0.4.0,>=0.3.27->langchain_groq) (9.0.0)\n",
            "Requirement already satisfied: idna>=2.8 in /usr/local/lib/python3.10/dist-packages (from anyio<5,>=3.5.0->groq<1,>=0.4.1->langchain_groq) (3.10)\n",
            "Requirement already satisfied: exceptiongroup in /usr/local/lib/python3.10/dist-packages (from anyio<5,>=3.5.0->groq<1,>=0.4.1->langchain_groq) (1.2.2)\n",
            "Requirement already satisfied: certifi in /usr/local/lib/python3.10/dist-packages (from httpx<1,>=0.23.0->groq<1,>=0.4.1->langchain_groq) (2024.12.14)\n",
            "Requirement already satisfied: httpcore==1.* in /usr/local/lib/python3.10/dist-packages (from httpx<1,>=0.23.0->groq<1,>=0.4.1->langchain_groq) (1.0.7)\n",
            "Requirement already satisfied: h11<0.15,>=0.13 in /usr/local/lib/python3.10/dist-packages (from httpcore==1.*->httpx<1,>=0.23.0->groq<1,>=0.4.1->langchain_groq) (0.14.0)\n",
            "Requirement already satisfied: jsonpointer>=1.9 in /usr/local/lib/python3.10/dist-packages (from jsonpatch<2.0,>=1.33->langchain-core<0.4.0,>=0.3.27->langchain_groq) (3.0.0)\n",
            "Requirement already satisfied: orjson<4.0.0,>=3.9.14 in /usr/local/lib/python3.10/dist-packages (from langsmith<0.3,>=0.1.125->langchain-core<0.4.0,>=0.3.27->langchain_groq) (3.10.12)\n",
            "Requirement already satisfied: requests<3,>=2 in /usr/local/lib/python3.10/dist-packages (from langsmith<0.3,>=0.1.125->langchain-core<0.4.0,>=0.3.27->langchain_groq) (2.32.3)\n",
            "Requirement already satisfied: requests-toolbelt<2.0.0,>=1.0.0 in /usr/local/lib/python3.10/dist-packages (from langsmith<0.3,>=0.1.125->langchain-core<0.4.0,>=0.3.27->langchain_groq) (1.0.0)\n",
            "Requirement already satisfied: annotated-types>=0.6.0 in /usr/local/lib/python3.10/dist-packages (from pydantic<3,>=1.9.0->groq<1,>=0.4.1->langchain_groq) (0.7.0)\n",
            "Requirement already satisfied: pydantic-core==2.27.1 in /usr/local/lib/python3.10/dist-packages (from pydantic<3,>=1.9.0->groq<1,>=0.4.1->langchain_groq) (2.27.1)\n",
            "Requirement already satisfied: charset-normalizer<4,>=2 in /usr/local/lib/python3.10/dist-packages (from requests<3,>=2->langsmith<0.3,>=0.1.125->langchain-core<0.4.0,>=0.3.27->langchain_groq) (3.4.0)\n",
            "Requirement already satisfied: urllib3<3,>=1.21.1 in /usr/local/lib/python3.10/dist-packages (from requests<3,>=2->langsmith<0.3,>=0.1.125->langchain-core<0.4.0,>=0.3.27->langchain_groq) (2.2.3)\n",
            "Downloading langchain_groq-0.2.2-py3-none-any.whl (14 kB)\n",
            "Downloading groq-0.13.1-py3-none-any.whl (109 kB)\n",
            "\u001b[2K   \u001b[90m━━━━━━━━━━━━━━━━━━━━━━━━━━━━━━━━━━━━━━━━\u001b[0m \u001b[32m109.1/109.1 kB\u001b[0m \u001b[31m9.3 MB/s\u001b[0m eta \u001b[36m0:00:00\u001b[0m\n",
            "\u001b[?25hInstalling collected packages: groq, langchain_groq\n",
            "Successfully installed groq-0.13.1 langchain_groq-0.2.2\n"
          ]
        }
      ]
    },
    {
      "cell_type": "code",
      "source": [
        "from google.colab import userdata\n",
        "import os\n",
        "os.environ['GROQ_API_KEY']=userdata.get('groq_api_key')"
      ],
      "metadata": {
        "id": "I7PTKb0RRHoU"
      },
      "execution_count": 6,
      "outputs": []
    },
    {
      "cell_type": "code",
      "source": [
        "from langchain_groq import ChatGroq\n",
        "llm = ChatGroq(\n",
        "    temperature=0,\n",
        "    model=\"llama-3.3-70b-versatile\"\n",
        ")\n",
        "result = llm.invoke(\"What is LLM?\")\n",
        "result.content"
      ],
      "metadata": {
        "colab": {
          "base_uri": "https://localhost:8080/",
          "height": 243
        },
        "id": "Q2FZ3lWGQ6mZ",
        "outputId": "61fd0de0-ea3a-48a7-dd40-abadcf6e22f0"
      },
      "execution_count": 7,
      "outputs": [
        {
          "output_type": "execute_result",
          "data": {
            "text/plain": [
              "'LLM stands for Large Language Model. It refers to a type of artificial intelligence (AI) designed to process and understand human language at a large scale. LLMs are trained on vast amounts of text data, which enables them to learn patterns, relationships, and structures of language, allowing them to generate human-like text, answer questions, and even converse with humans.\\n\\nLLMs are typically based on deep learning architectures, such as transformer models, and are trained using massive datasets of text from various sources, including books, articles, research papers, and websites. This training allows LLMs to develop a broad understanding of language, including grammar, syntax, semantics, and pragmatics.\\n\\nSome key features of LLMs include:\\n\\n1. **Language understanding**: LLMs can comprehend and interpret human language, including nuances and context.\\n2. **Text generation**: LLMs can generate coherent and natural-sounding text, often indistinguishable from human-written text.\\n3. **Conversational capabilities**: LLMs can engage in conversation, answering questions and responding to prompts.\\n4. **Knowledge retrieval**: LLMs can retrieve information from their vast training datasets to answer questions and provide information on a wide range of topics.\\n\\nLLMs have many applications, including:\\n\\n1. **Virtual assistants**: LLMs power virtual assistants like chatbots, voice assistants, and language translation systems.\\n2. **Content generation**: LLMs can generate content, such as articles, social media posts, and even entire books.\\n3. **Language translation**: LLMs can translate text from one language to another, often with high accuracy.\\n4. **Sentiment analysis**: LLMs can analyze text to determine sentiment, emotion, and tone.\\n\\nExamples of LLMs include language models like BERT, RoBERTa, and transformer-based models like those developed by Google, Microsoft, and Facebook.'"
            ],
            "application/vnd.google.colaboratory.intrinsic+json": {
              "type": "string"
            }
          },
          "metadata": {},
          "execution_count": 7
        }
      ]
    },
    {
      "cell_type": "code",
      "source": [
        "# Node Functions\n",
        "def classification_node(state:State):\n",
        "  \"Research, News, Blog, or Others\"\n",
        "  prompt = PromptTemplate(\n",
        "      input_variable=[\"text\"],\n",
        "      template=\"Classify the following text into one of the Categories: News, Blog, Research,or Others.\\n\\nText:{text}\\n\\nCategory:\"\n",
        "  )\n",
        "\n",
        "  message = HumanMessage(content=prompt.format(text=state[\"text\"]))\n",
        "  classification = llm.invoke([message]).content.strip()\n",
        "  return {\"classification\":classification}\n",
        "\n",
        "def entity_extraction_node(state:State):\n",
        "  prompt = PromptTemplate(\n",
        "      input_variable=[\"text\"],\n",
        "      template=\"Extracting all the entities (Person, Organization, Location) from the following text. Provide the result as a comma separated list.\\n\\n Text:{text}\\n\\nEntities\",\n",
        "  )\n",
        "  message = HumanMessage(content=prompt.format(text=state[\"text\"]))\n",
        "  entities = llm.invoke([message]).content.strip().split(\",\")\n",
        "  return {\"entities\":entities}\n",
        "\n",
        "def summarization_node(state:State):\n",
        "  prompt = PromptTemplate(\n",
        "      input_variable=[\"text\"],\n",
        "      template=\"Summarize the following text.\\n\\nText:{text}\\n\\nSummary:\",\n",
        "  )\n",
        "  message = HumanMessage(content=prompt.format(text=state[\"text\"]))\n",
        "  summary = llm.invoke([message]).content.strip()\n",
        "  return {\"summary\":summary}"
      ],
      "metadata": {
        "id": "W0KSBBvtRp5i"
      },
      "execution_count": 8,
      "outputs": []
    },
    {
      "cell_type": "code",
      "source": [
        "workflow = StateGraph(State)\n",
        "\n",
        "workflow.add_node(\"classification_node\",classification_node)\n",
        "workflow.add_node(\"entity_extraction_node\",entity_extraction_node)\n",
        "workflow.add_node(\"summarization_node\",summarization_node)\n",
        "\n",
        "workflow.set_entry_point(\"classification_node\")\n",
        "\n",
        "workflow.add_edge(\"classification_node\",\"entity_extraction_node\")\n",
        "workflow.add_edge(\"entity_extraction_node\",\"summarization_node\")\n",
        "workflow.add_edge(\"summarization_node\",END)\n",
        "\n",
        "app = workflow.compile()"
      ],
      "metadata": {
        "id": "GElSR_1bTER4"
      },
      "execution_count": 9,
      "outputs": []
    },
    {
      "cell_type": "code",
      "source": [
        "# Visualize the workflow\n",
        "display(Image(\n",
        "  app.get_graph().draw_mermaid_png(\n",
        "      draw_method=MermaidDrawMethod.API\n",
        "  )\n",
        "))"
      ],
      "metadata": {
        "colab": {
          "base_uri": "https://localhost:8080/",
          "height": 449
        },
        "id": "nHQiOot5UiHw",
        "outputId": "a09c5222-a85c-4bab-8f22-e8444450bc10"
      },
      "execution_count": 10,
      "outputs": [
        {
          "output_type": "display_data",
          "data": {
            "image/png": "[encoded data removed]",
            "text/plain": [
              "<IPython.core.display.Image object>"
            ]
          },
          "metadata": {}
        }
      ]
    },
    {
      "cell_type": "code",
      "source": [
        "# Testing the Pipeline"
      ],
      "metadata": {
        "id": "uwQqmEn8Us9D"
      },
      "execution_count": 11,
      "outputs": []
    },
    {
      "cell_type": "code",
      "source": [
        "SAMPLE_TEXT = \"\"\"\n",
        "The tech company InnovateX, based in San Francisco, announced the launch of its latest product, the AI-powered assistant called NeuronX, during a press conference on December 15, 2024. This assistant is designed to revolutionize productivity by integrating seamlessly with existing tools like Slack, Microsoft Teams, and Zoom.\n",
        "\n",
        "During the event, John Smith, CEO of InnovateX, emphasized the company’s commitment to leveraging artificial intelligence to solve real-world problems. He stated that NeuronX incorporates cutting-edge natural language processing (NLP) algorithms to provide users with contextual insights, task management features, and seamless meeting scheduling.\n",
        "\n",
        "Additionally, InnovateX revealed its partnership with GreenTech Solutions, a leader in sustainable technology, to integrate eco-friendly AI practices into NeuronX’s development. This initiative aligns with global efforts to reduce carbon emissions from AI computation.\n",
        "\n",
        "The launch has sparked interest across industries, with early adopters in the healthcare and education sectors praising its potential. Critics, however, have raised concerns about privacy and data security, especially given the increasing reliance on cloud-based AI solutions.\n",
        "\"\"\"\n",
        "state_input = {\"text\":SAMPLE_TEXT}\n",
        "result = app.invoke(state_input)\n",
        "print(result)"
      ],
      "metadata": {
        "colab": {
          "base_uri": "https://localhost:8080/"
        },
        "id": "dPNhTeUiU7Py",
        "outputId": "683ee511-ab94-42f1-a369-cb594f72da3e"
      },
      "execution_count": 12,
      "outputs": [
        {
          "output_type": "stream",
          "name": "stdout",
          "text": [
            "{'text': '\\nThe tech company InnovateX, based in San Francisco, announced the launch of its latest product, the AI-powered assistant called NeuronX, during a press conference on December 15, 2024. This assistant is designed to revolutionize productivity by integrating seamlessly with existing tools like Slack, Microsoft Teams, and Zoom.\\n\\nDuring the event, John Smith, CEO of InnovateX, emphasized the company’s commitment to leveraging artificial intelligence to solve real-world problems. He stated that NeuronX incorporates cutting-edge natural language processing (NLP) algorithms to provide users with contextual insights, task management features, and seamless meeting scheduling.\\n\\nAdditionally, InnovateX revealed its partnership with GreenTech Solutions, a leader in sustainable technology, to integrate eco-friendly AI practices into NeuronX’s development. This initiative aligns with global efforts to reduce carbon emissions from AI computation.\\n\\nThe launch has sparked interest across industries, with early adopters in the healthcare and education sectors praising its potential. Critics, however, have raised concerns about privacy and data security, especially given the increasing reliance on cloud-based AI solutions.\\n', 'classification': 'Category: News\\n\\nThe text appears to be a news article, as it reports on a recent event (the launch of NeuronX) and provides factual information about the product, the company, and its partnerships. The text also includes quotes from the CEO and mentions the reactions of various stakeholders, which is typical of news reporting. Additionally, the text is written in a neutral and objective tone, which is also characteristic of news articles.', 'entities': ['InnovateX', ' San Francisco', ' NeuronX', ' Slack', ' Microsoft Teams', ' Zoom', ' John Smith', ' GreenTech Solutions', ' December'], 'summary': 'InnovateX, a San Francisco-based tech company, has launched NeuronX, an AI-powered assistant designed to boost productivity by integrating with tools like Slack and Zoom. The assistant uses natural language processing algorithms to provide contextual insights and task management features. InnovateX has also partnered with GreenTech Solutions to incorporate eco-friendly AI practices. While the launch has generated interest, concerns about privacy and data security have been raised, particularly with the increasing reliance on cloud-based AI solutions.'}\n"
          ]
        }
      ]
    },
    {
      "cell_type": "code",
      "source": [
        "print(\"Classification :\",result['classification'])\n",
        "print(\"\\n\")\n",
        "print(\"Entities :\",result['entities'])\n",
        "print(\"\\n\")\n",
        "print(\"Summary :\",result['summary'])"
      ],
      "metadata": {
        "colab": {
          "base_uri": "https://localhost:8080/"
        },
        "id": "HC7ajpDlVeXt",
        "outputId": "8b5394be-9391-4bde-c137-2d11f43e2717"
      },
      "execution_count": 13,
      "outputs": [
        {
          "output_type": "stream",
          "name": "stdout",
          "text": [
            "Classification : Category: News\n",
            "\n",
            "The text appears to be a news article, as it reports on a recent event (the launch of NeuronX) and provides factual information about the product, the company, and its partnerships. The text also includes quotes from the CEO and mentions the reactions of various stakeholders, which is typical of news reporting. Additionally, the text is written in a neutral and objective tone, which is also characteristic of news articles.\n",
            "\n",
            "\n",
            "Entities : ['InnovateX', ' San Francisco', ' NeuronX', ' Slack', ' Microsoft Teams', ' Zoom', ' John Smith', ' GreenTech Solutions', ' December']\n",
            "\n",
            "\n",
            "Summary : InnovateX, a San Francisco-based tech company, has launched NeuronX, an AI-powered assistant designed to boost productivity by integrating with tools like Slack and Zoom. The assistant uses natural language processing algorithms to provide contextual insights and task management features. InnovateX has also partnered with GreenTech Solutions to incorporate eco-friendly AI practices. While the launch has generated interest, concerns about privacy and data security have been raised, particularly with the increasing reliance on cloud-based AI solutions.\n"
          ]
        }
      ]
    },
    {
      "cell_type": "markdown",
      "source": [
        "## Essay Grading"
      ],
      "metadata": {
        "id": "ilvQEjJyaehT"
      }
    },
    {
      "cell_type": "markdown",
      "source": [
        "1. Content Relevance\n",
        "2. Grammar Check\n",
        "3. Structure Analysis\n",
        "4. Depth of Analysis"
      ],
      "metadata": {
        "id": "Bhl-dBTOa_W2"
      }
    },
    {
      "cell_type": "code",
      "source": [
        "from typing import TypedDict\n",
        "from langgraph.graph import StateGraph,END\n",
        "from langchain.prompts import ChatPromptTemplate\n",
        "from langchain_core.runnables.graph import MermaidDrawMethod\n",
        "from IPython.display import display, Image\n",
        "import re"
      ],
      "metadata": {
        "id": "ET5ql8EgVwPz"
      },
      "execution_count": 17,
      "outputs": []
    },
    {
      "cell_type": "code",
      "source": [
        "class State(TypedDict):\n",
        "  essay:str\n",
        "  relevance_score: float\n",
        "  grammar_score: float\n",
        "  structure_score: float\n",
        "  depth_score: float\n",
        "  final_score:float"
      ],
      "metadata": {
        "id": "v9LGwvpubhws"
      },
      "execution_count": 19,
      "outputs": []
    },
    {
      "cell_type": "code",
      "source": [
        "from google.colab import userdata\n",
        "import os\n",
        "os.environ['GROQ_API_KEY']=userdata.get('groq_api_key')"
      ],
      "metadata": {
        "id": "SzZWoMlRcdWL"
      },
      "execution_count": 20,
      "outputs": []
    },
    {
      "cell_type": "code",
      "source": [
        "# LLM Initialization\n",
        "from langchain_groq import ChatGroq\n",
        "llm = ChatGroq(\n",
        "    temperature=0,\n",
        "    model=\"llama-3.3-70b-versatile\"\n",
        ")\n",
        "result = llm.invoke(\"What is OPEN AI?\")\n",
        "result.content"
      ],
      "metadata": {
        "colab": {
          "base_uri": "https://localhost:8080/",
          "height": 243
        },
        "id": "QRAFS0oicSI7",
        "outputId": "6c45547f-b102-468a-c82c-90a34ce0a7f1"
      },
      "execution_count": 24,
      "outputs": [
        {
          "output_type": "execute_result",
          "data": {
            "text/plain": [
              "'OpenAI is a non-profit artificial intelligence (AI) research organization that aims to develop and promote friendly AI that benefits humanity. The organization was founded in 2015 by a group of technology entrepreneurs, including Elon Musk, Sam Altman, and Greg Brockman, among others.\\n\\nOpenAI\\'s primary goal is to advance the field of AI in a way that is transparent, accountable, and beneficial to society as a whole. To achieve this, the organization focuses on several key areas:\\n\\n1. **Research**: OpenAI conducts research in various areas of AI, including machine learning, natural language processing, computer vision, and robotics.\\n2. **Development**: The organization develops and releases open-source AI software and tools, such as language models, chatbots, and other AI-powered applications.\\n3. **Deployment**: OpenAI works with partners to deploy AI systems in real-world settings, such as healthcare, education, and transportation.\\n4. **Safety and Governance**: The organization prioritizes the development of AI systems that are safe, secure, and aligned with human values.\\n\\nSome of OpenAI\\'s notable achievements include:\\n\\n1. **Language Models**: OpenAI has developed several state-of-the-art language models, including GPT-3, which can generate human-like text and has been used in various applications, such as chatbots and content generation.\\n2. **Robotics**: OpenAI has made significant advancements in robotics, including the development of robotic arms that can perform complex tasks, such as manipulation and grasping.\\n3. **Gaming**: OpenAI has developed AI systems that can play complex games, such as Dota 2 and Quake III Arena, at a level comparable to human experts.\\n\\nOpenAI\\'s work has the potential to drive significant advancements in various fields, from healthcare and education to transportation and energy. By prioritizing transparency, accountability, and safety, the organization aims to ensure that AI is developed and used in ways that benefit humanity as a whole.\\n\\nIn 2019, OpenAI transitioned from a non-profit to a \"capped-profit\" model, which allows the organization to raise capital and invest in its research and development efforts while maintaining its commitment to transparency and accountability.'"
            ],
            "application/vnd.google.colaboratory.intrinsic+json": {
              "type": "string"
            }
          },
          "metadata": {},
          "execution_count": 24
        }
      ]
    },
    {
      "cell_type": "code",
      "source": [
        "### Grading Node Function\n",
        "\n",
        "import re\n",
        "\n",
        "def extract_score(content: str) -> float:\n",
        "    match = re.search(r\"Score: \\s*(\\d+(\\.\\d+)?)\", content)\n",
        "    if not match:\n",
        "        raise ValueError(\"Score not found in response. Ensure the response format is correct.\")\n",
        "    return float(match.group(1))\n",
        "\n",
        "def check_relevance(state: State) -> State:\n",
        "    prompt = ChatPromptTemplate.from_template(\n",
        "        \"Analyze the relevance of the following essay to the given topic. \"\n",
        "        \"Provide a relevance score between 0 and 1. \"\n",
        "        \"Your response should start with 'Score:' followed by a numeric score, \"\n",
        "        \"then provide your explanation about relevance.\\n\\nEssay: {essay}\"\n",
        "    )\n",
        "    result = llm.invoke(prompt.format(essay=state[\"essay\"]))\n",
        "    try:\n",
        "        score = extract_score(result.content)\n",
        "    except ValueError as e:\n",
        "        print(\"Error in relevance check:\", e)\n",
        "        score = 0.0  # Default or fallback score\n",
        "    state[\"relevance_score\"] = score\n",
        "    return state\n",
        "\n",
        "def check_grammar(state: State) -> State:\n",
        "    prompt = ChatPromptTemplate.from_template(\n",
        "        \"Analyze the grammar and language of the following essay. \"\n",
        "        \"Provide a grammar score between 0 and 1. \"\n",
        "        \"Your response should start with 'Score:' followed by a numeric score, \"\n",
        "        \"then provide your explanation.\\n\\nEssay: {essay}\"\n",
        "    )\n",
        "    result = llm.invoke(prompt.format(essay=state[\"essay\"]))\n",
        "    try:\n",
        "        score = extract_score(result.content)\n",
        "    except ValueError as e:\n",
        "        print(\"Error in grammar check:\", e)\n",
        "        score = 0.0  # Default or fallback score\n",
        "    state[\"grammar_score\"] = score\n",
        "    return state\n",
        "\n",
        "def analyze_structure(state: State) -> State:\n",
        "    prompt = ChatPromptTemplate.from_template(\n",
        "        \"Analyze the structure of the following essay. \"\n",
        "        \"Provide a structure score between 0 and 1. \"\n",
        "        \"Your response should start with 'Score:' followed by a numeric score, \"\n",
        "        \"then provide your explanation.\\n\\nEssay: {essay}\"\n",
        "    )\n",
        "    result = llm.invoke(prompt.format(essay=state[\"essay\"]))\n",
        "    try:\n",
        "        score = extract_score(result.content)\n",
        "    except ValueError as e:\n",
        "        print(\"Error in structure analysis:\", e)\n",
        "        score = 0.0  # Default or fallback score\n",
        "    state[\"structure_score\"] = score\n",
        "    return state\n",
        "\n",
        "def evaluate_depth(state: State) -> State:\n",
        "    prompt = ChatPromptTemplate.from_template(\n",
        "        \"Analyze the depth of analysis in the following essay. \"\n",
        "        \"Provide a depth score between 0 and 1. \"\n",
        "        \"Your response should start with 'Score:' followed by a numeric score, \"\n",
        "        \"then provide your explanation.\\n\\nEssay: {essay}\"\n",
        "    )\n",
        "    result = llm.invoke(prompt.format(essay=state[\"essay\"]))\n",
        "    try:\n",
        "        score = extract_score(result.content)\n",
        "    except ValueError as e:\n",
        "        print(\"Error in depth analysis:\", e)\n",
        "        score = 0.0  # Default or fallback score\n",
        "    state[\"depth_score\"] = score\n",
        "    return state\n",
        "\n",
        "def calculate_final_score(state: State) -> State:\n",
        "    state[\"final_score\"] = (\n",
        "        state[\"relevance_score\"] * 0.3 +\n",
        "        state[\"grammar_score\"] * 0.2 +\n",
        "        state[\"structure_score\"] * 0.2 +\n",
        "        state[\"depth_score\"] * 0.3\n",
        "    ) / 4\n",
        "    return state\n",
        "\n"
      ],
      "metadata": {
        "id": "GOeF3HWYcgYL"
      },
      "execution_count": 55,
      "outputs": []
    },
    {
      "cell_type": "code",
      "source": [
        "# Workflow Definition\n",
        "workflow = StateGraph(State)\n",
        "workflow.add_node(\"check_relevance\",check_relevance)\n",
        "workflow.add_node(\"check_grammar\",check_grammar)\n",
        "workflow.add_node(\"evaluate_depth\",evaluate_depth)\n",
        "workflow.add_node(\"analyze_structure\",analyze_structure)\n",
        "workflow.add_node(\"calculate_final_score\",calculate_final_score)\n",
        "\n",
        "# edges conditional\n",
        "workflow.add_conditional_edges(\n",
        "    \"check_relevance\",\n",
        "    lambda x:\"check_grammar\" if x[\"relevance_score\"] > 0.5 else \"calculate_final_score\",\n",
        ")\n",
        "workflow.add_conditional_edges(\n",
        "    \"check_grammar\",\n",
        "    lambda x:\"analyze_structure\" if x[\"grammar_score\"] > 0.5 else \"calculate_final_score\",\n",
        ")\n",
        "workflow.add_conditional_edges(\n",
        "    \"analyze_structure\",\n",
        "    lambda x:\"evaluate_depth\" if x[\"structure_score\"] > 0.5 else \"calculate_final_score\",\n",
        ")\n",
        "workflow.add_conditional_edges(\n",
        "    \"evaluate_depth\",\n",
        "    lambda x:\"calculate_final_score\"\n",
        ")"
      ],
      "metadata": {
        "colab": {
          "base_uri": "https://localhost:8080/"
        },
        "id": "APRM6BUTfyuh",
        "outputId": "3bc60a14-fa0c-4086-ed31-c7d32a802ea5"
      },
      "execution_count": 63,
      "outputs": [
        {
          "output_type": "execute_result",
          "data": {
            "text/plain": [
              "<langgraph.graph.state.StateGraph at 0x7f999e5eb0a0>"
            ]
          },
          "metadata": {},
          "execution_count": 63
        }
      ]
    },
    {
      "cell_type": "code",
      "source": [
        "workflow.set_entry_point(\"check_relevance\")\n",
        "workflow.add_edge(\"calculate_final_score\",END)\n",
        "\n",
        "app=workflow.compile()"
      ],
      "metadata": {
        "id": "XNyJLIO4hkZM"
      },
      "execution_count": 64,
      "outputs": []
    },
    {
      "cell_type": "code",
      "source": [
        "display(\n",
        "    Image(\n",
        "        app.get_graph().draw_mermaid_png(\n",
        "            draw_method=MermaidDrawMethod.API\n",
        "        )\n",
        "    )\n",
        ")"
      ],
      "metadata": {
        "colab": {
          "base_uri": "https://localhost:8080/",
          "height": 600
        },
        "id": "tMoVbr7Ihydg",
        "outputId": "3a481a27-2c43-48bc-9d8d-e6dad9ec148f"
      },
      "execution_count": 65,
      "outputs": [
        {
          "output_type": "display_data",
          "data": {
            "image/png": "[encoded data removed]",
            "text/plain": [
              "<IPython.core.display.Image object>"
            ]
          },
          "metadata": {}
        }
      ]
    },
    {
      "cell_type": "code",
      "source": [
        "# Essay Grading Function"
      ],
      "metadata": {
        "id": "-eyJtEHNh8cM"
      },
      "execution_count": 66,
      "outputs": []
    },
    {
      "cell_type": "code",
      "source": [
        "def grade_essay(essay:str)->dict:\n",
        "  initial_state = State(\n",
        "      essay=essay,\n",
        "      relevance_score=0.0,\n",
        "      grammar_score=0.0,\n",
        "      structure_score=0.0,\n",
        "      depth_score=0.0,\n",
        "      final_score=0.0\n",
        "  )\n",
        "  result = app.invoke(initial_state)\n",
        "  return result"
      ],
      "metadata": {
        "id": "JJvC4zZKiEpw"
      },
      "execution_count": 67,
      "outputs": []
    },
    {
      "cell_type": "code",
      "source": [
        "sample_essay=\"\"\"\n",
        "Write an Essay on 'The Importance of Environmental Conservation'\n",
        "\n",
        "In the modern era, the significance of environmental conservation cannot be overstated. As humanity continues to industrialize and expand its influence, the natural world faces unprecedented challenges. From climate change to deforestation, the need for proactive efforts to protect the environment has never been more urgent. Environmental conservation is essential not only for preserving biodiversity but also for ensuring a sustainable future for generations to come.\n",
        "\n",
        "One of the primary reasons to prioritize environmental conservation is the preservation of biodiversity. Earth is home to millions of species, each playing a vital role in maintaining ecological balance. The destruction of habitats, driven by deforestation and urbanization, leads to the extinction of species at an alarming rate. For instance, the loss of pollinators such as bees has significant repercussions for agriculture and food production. By conserving natural habitats and protecting endangered species, we safeguard the intricate web of life that sustains human existence.\n",
        "\n",
        "In addition to biodiversity, environmental conservation is critical for mitigating climate change. Human activities, particularly the burning of fossil fuels, have led to an increase in greenhouse gas emissions. This has resulted in global warming, rising sea levels, and extreme weather events. Conservation efforts, such as reforestation and the transition to renewable energy sources, can help reduce carbon emissions and stabilize the climate. Furthermore, protecting forests and wetlands ensures the continued absorption of carbon dioxide, a crucial factor in combating climate change.\n",
        "\n",
        "Another vital aspect of environmental conservation is the sustainable management of natural resources. Overexploitation of resources such as water, minerals, and fossil fuels depletes these essential commodities and harms ecosystems. For example, overfishing has led to the collapse of marine populations, threatening both ecological stability and the livelihoods of coastal communities. By adopting sustainable practices, we can balance human needs with environmental preservation, ensuring resources remain available for future generations.\n",
        "\n",
        "Public awareness and education also play a pivotal role in fostering environmental conservation. When individuals understand the consequences of their actions on the environment, they are more likely to adopt eco-friendly habits. Initiatives such as recycling programs, clean energy campaigns, and environmental education in schools empower communities to contribute to conservation efforts. Collective action, driven by informed citizens, has the potential to bring about meaningful change on a global scale.\n",
        "\n",
        "In conclusion, environmental conservation is a cornerstone of a sustainable future. By preserving biodiversity, mitigating climate change, and managing natural resources responsibly, humanity can ensure the well-being of the planet and its inhabitants. The responsibility lies with governments, organizations, and individuals alike to prioritize and act on conservation efforts. Only through collective commitment and proactive measures can we secure a healthy and thriving planet for generations to come.\n",
        "\"\"\""
      ],
      "metadata": {
        "id": "cFhFNFgriZa4"
      },
      "execution_count": 68,
      "outputs": []
    },
    {
      "cell_type": "code",
      "source": [
        "result = grade_essay(sample_essay)\n",
        "print(result)"
      ],
      "metadata": {
        "colab": {
          "base_uri": "https://localhost:8080/"
        },
        "id": "X-3JZqAJisgK",
        "outputId": "809fc956-dc81-47d5-83c8-78abde8eacd7"
      },
      "execution_count": 69,
      "outputs": [
        {
          "output_type": "stream",
          "name": "stdout",
          "text": [
            "{'essay': \"\\nWrite an Essay on 'The Importance of Environmental Conservation'\\n\\nIn the modern era, the significance of environmental conservation cannot be overstated. As humanity continues to industrialize and expand its influence, the natural world faces unprecedented challenges. From climate change to deforestation, the need for proactive efforts to protect the environment has never been more urgent. Environmental conservation is essential not only for preserving biodiversity but also for ensuring a sustainable future for generations to come.\\n\\nOne of the primary reasons to prioritize environmental conservation is the preservation of biodiversity. Earth is home to millions of species, each playing a vital role in maintaining ecological balance. The destruction of habitats, driven by deforestation and urbanization, leads to the extinction of species at an alarming rate. For instance, the loss of pollinators such as bees has significant repercussions for agriculture and food production. By conserving natural habitats and protecting endangered species, we safeguard the intricate web of life that sustains human existence.\\n\\nIn addition to biodiversity, environmental conservation is critical for mitigating climate change. Human activities, particularly the burning of fossil fuels, have led to an increase in greenhouse gas emissions. This has resulted in global warming, rising sea levels, and extreme weather events. Conservation efforts, such as reforestation and the transition to renewable energy sources, can help reduce carbon emissions and stabilize the climate. Furthermore, protecting forests and wetlands ensures the continued absorption of carbon dioxide, a crucial factor in combating climate change.\\n\\nAnother vital aspect of environmental conservation is the sustainable management of natural resources. Overexploitation of resources such as water, minerals, and fossil fuels depletes these essential commodities and harms ecosystems. For example, overfishing has led to the collapse of marine populations, threatening both ecological stability and the livelihoods of coastal communities. By adopting sustainable practices, we can balance human needs with environmental preservation, ensuring resources remain available for future generations.\\n\\nPublic awareness and education also play a pivotal role in fostering environmental conservation. When individuals understand the consequences of their actions on the environment, they are more likely to adopt eco-friendly habits. Initiatives such as recycling programs, clean energy campaigns, and environmental education in schools empower communities to contribute to conservation efforts. Collective action, driven by informed citizens, has the potential to bring about meaningful change on a global scale.\\n\\nIn conclusion, environmental conservation is a cornerstone of a sustainable future. By preserving biodiversity, mitigating climate change, and managing natural resources responsibly, humanity can ensure the well-being of the planet and its inhabitants. The responsibility lies with governments, organizations, and individuals alike to prioritize and act on conservation efforts. Only through collective commitment and proactive measures can we secure a healthy and thriving planet for generations to come.\\n\", 'relevance_score': 1.0, 'grammar_score': 0.95, 'structure_score': 0.9, 'depth_score': 0.7, 'final_score': 0.22}\n"
          ]
        }
      ]
    },
    {
      "cell_type": "code",
      "source": [
        "result = grade_essay(sample_essay)\n",
        "print(result)"
      ],
      "metadata": {
        "colab": {
          "base_uri": "https://localhost:8080/"
        },
        "id": "np-9NeqmjHPj",
        "outputId": "168d31af-55ad-42a9-f201-2939078476d2"
      },
      "execution_count": 70,
      "outputs": [
        {
          "output_type": "stream",
          "name": "stdout",
          "text": [
            "{'essay': \"\\nWrite an Essay on 'The Importance of Environmental Conservation'\\n\\nIn the modern era, the significance of environmental conservation cannot be overstated. As humanity continues to industrialize and expand its influence, the natural world faces unprecedented challenges. From climate change to deforestation, the need for proactive efforts to protect the environment has never been more urgent. Environmental conservation is essential not only for preserving biodiversity but also for ensuring a sustainable future for generations to come.\\n\\nOne of the primary reasons to prioritize environmental conservation is the preservation of biodiversity. Earth is home to millions of species, each playing a vital role in maintaining ecological balance. The destruction of habitats, driven by deforestation and urbanization, leads to the extinction of species at an alarming rate. For instance, the loss of pollinators such as bees has significant repercussions for agriculture and food production. By conserving natural habitats and protecting endangered species, we safeguard the intricate web of life that sustains human existence.\\n\\nIn addition to biodiversity, environmental conservation is critical for mitigating climate change. Human activities, particularly the burning of fossil fuels, have led to an increase in greenhouse gas emissions. This has resulted in global warming, rising sea levels, and extreme weather events. Conservation efforts, such as reforestation and the transition to renewable energy sources, can help reduce carbon emissions and stabilize the climate. Furthermore, protecting forests and wetlands ensures the continued absorption of carbon dioxide, a crucial factor in combating climate change.\\n\\nAnother vital aspect of environmental conservation is the sustainable management of natural resources. Overexploitation of resources such as water, minerals, and fossil fuels depletes these essential commodities and harms ecosystems. For example, overfishing has led to the collapse of marine populations, threatening both ecological stability and the livelihoods of coastal communities. By adopting sustainable practices, we can balance human needs with environmental preservation, ensuring resources remain available for future generations.\\n\\nPublic awareness and education also play a pivotal role in fostering environmental conservation. When individuals understand the consequences of their actions on the environment, they are more likely to adopt eco-friendly habits. Initiatives such as recycling programs, clean energy campaigns, and environmental education in schools empower communities to contribute to conservation efforts. Collective action, driven by informed citizens, has the potential to bring about meaningful change on a global scale.\\n\\nIn conclusion, environmental conservation is a cornerstone of a sustainable future. By preserving biodiversity, mitigating climate change, and managing natural resources responsibly, humanity can ensure the well-being of the planet and its inhabitants. The responsibility lies with governments, organizations, and individuals alike to prioritize and act on conservation efforts. Only through collective commitment and proactive measures can we secure a healthy and thriving planet for generations to come.\\n\", 'relevance_score': 1.0, 'grammar_score': 0.95, 'structure_score': 0.9, 'depth_score': 0.7, 'final_score': 0.22}\n"
          ]
        }
      ]
    },
    {
      "cell_type": "code",
      "source": [
        "print(f\"Final Score : {result['final_score']:.2f}\\n\")\n",
        "print(f\"Relevance Score : {result['relevance_score']:.2f}\\n\")\n",
        "print(f\"Grammar Score : {result['grammar_score']:.2f}\\n\")\n",
        "print(f\"Depth Score : {result['depth_score']:.2f}\\n\")\n",
        "print(f\"Structure Score : {result['structure_score']:.2f}\\n\")"
      ],
      "metadata": {
        "colab": {
          "base_uri": "https://localhost:8080/"
        },
        "id": "RhjOgNIukD1m",
        "outputId": "2212e403-dff9-42f1-ad29-81de3925ed77"
      },
      "execution_count": 71,
      "outputs": [
        {
          "output_type": "stream",
          "name": "stdout",
          "text": [
            "Final Score : 0.22\n",
            "\n",
            "Relevance Score : 1.00\n",
            "\n",
            "Grammar Score : 0.95\n",
            "\n",
            "Depth Score : 0.70\n",
            "\n",
            "Structure Score : 0.90\n",
            "\n"
          ]
        }
      ]
    },
    {
      "cell_type": "code",
      "source": [],
      "metadata": {
        "id": "D36Eg15akw5W"
      },
      "execution_count": 71,
      "outputs": []
    }
  ]
}