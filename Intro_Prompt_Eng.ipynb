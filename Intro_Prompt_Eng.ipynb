{
  "nbformat": 4,
  "nbformat_minor": 0,
  "metadata": {
    "colab": {
      "provenance": [],
      "authorship_tag": "ABX9TyM29qBJNYkOgVcsLmmRxBPb",
      "include_colab_link": true
    },
    "kernelspec": {
      "name": "python3",
      "display_name": "Python 3"
    },
    "language_info": {
      "name": "python"
    }
  },
  "cells": [
    {
      "cell_type": "markdown",
      "metadata": {
        "id": "view-in-github",
        "colab_type": "text"
      },
      "source": [
        "<a href=\"https://colab.research.google.com/github/SunkaraboinaPraveenKumar/Machine_Learning_Projects/blob/main/Intro_Prompt_Eng.ipynb\" target=\"_parent\"><img src=\"https://colab.research.google.com/assets/colab-badge.svg\" alt=\"Open In Colab\"/></a>"
      ]
    },
    {
      "cell_type": "markdown",
      "source": [
        "1. Single-turn prompts\n",
        "2. Multi-turn prompts(conversations)\n",
        "\n",
        "**Key Components**\n",
        "1. Single-turn Prompts:\n",
        "   One-Shot interactions with the language model.\n",
        "2. Multi-turn Prompts: Series of interactions that maintain context.\n",
        "3. Prompt Templates: Reusable structures for consistent prompting.\n",
        "4. Conversation Chains: Maintaining context across multiple interactions"
      ],
      "metadata": {
        "id": "7QVothPsBkLT"
      }
    },
    {
      "cell_type": "code",
      "execution_count": 1,
      "metadata": {
        "colab": {
          "base_uri": "https://localhost:8080/"
        },
        "id": "QvXDcEOqBXuw",
        "outputId": "7257c867-9679-4293-e30c-c06220f308cb"
      },
      "outputs": [
        {
          "output_type": "stream",
          "name": "stdout",
          "text": [
            "Requirement already satisfied: langchain in /usr/local/lib/python3.10/dist-packages (0.3.12)\n",
            "Requirement already satisfied: langchain_core in /usr/local/lib/python3.10/dist-packages (0.3.25)\n",
            "Collecting langchain_groq\n",
            "  Downloading langchain_groq-0.2.2-py3-none-any.whl.metadata (3.0 kB)\n",
            "Requirement already satisfied: PyYAML>=5.3 in /usr/local/lib/python3.10/dist-packages (from langchain) (6.0.2)\n",
            "Requirement already satisfied: SQLAlchemy<3,>=1.4 in /usr/local/lib/python3.10/dist-packages (from langchain) (2.0.36)\n",
            "Requirement already satisfied: aiohttp<4.0.0,>=3.8.3 in /usr/local/lib/python3.10/dist-packages (from langchain) (3.11.10)\n",
            "Requirement already satisfied: async-timeout<5.0.0,>=4.0.0 in /usr/local/lib/python3.10/dist-packages (from langchain) (4.0.3)\n",
            "Requirement already satisfied: langchain-text-splitters<0.4.0,>=0.3.3 in /usr/local/lib/python3.10/dist-packages (from langchain) (0.3.3)\n",
            "Requirement already satisfied: langsmith<0.3,>=0.1.17 in /usr/local/lib/python3.10/dist-packages (from langchain) (0.2.3)\n",
            "Requirement already satisfied: numpy<2,>=1.22.4 in /usr/local/lib/python3.10/dist-packages (from langchain) (1.26.4)\n",
            "Requirement already satisfied: pydantic<3.0.0,>=2.7.4 in /usr/local/lib/python3.10/dist-packages (from langchain) (2.10.3)\n",
            "Requirement already satisfied: requests<3,>=2 in /usr/local/lib/python3.10/dist-packages (from langchain) (2.32.3)\n",
            "Requirement already satisfied: tenacity!=8.4.0,<10,>=8.1.0 in /usr/local/lib/python3.10/dist-packages (from langchain) (9.0.0)\n",
            "Requirement already satisfied: jsonpatch<2.0,>=1.33 in /usr/local/lib/python3.10/dist-packages (from langchain_core) (1.33)\n",
            "Requirement already satisfied: packaging<25,>=23.2 in /usr/local/lib/python3.10/dist-packages (from langchain_core) (24.2)\n",
            "Requirement already satisfied: typing-extensions>=4.7 in /usr/local/lib/python3.10/dist-packages (from langchain_core) (4.12.2)\n",
            "Collecting groq<1,>=0.4.1 (from langchain_groq)\n",
            "  Downloading groq-0.13.1-py3-none-any.whl.metadata (14 kB)\n",
            "Collecting langchain_core\n",
            "  Downloading langchain_core-0.3.29-py3-none-any.whl.metadata (6.3 kB)\n",
            "Requirement already satisfied: aiohappyeyeballs>=2.3.0 in /usr/local/lib/python3.10/dist-packages (from aiohttp<4.0.0,>=3.8.3->langchain) (2.4.4)\n",
            "Requirement already satisfied: aiosignal>=1.1.2 in /usr/local/lib/python3.10/dist-packages (from aiohttp<4.0.0,>=3.8.3->langchain) (1.3.2)\n",
            "Requirement already satisfied: attrs>=17.3.0 in /usr/local/lib/python3.10/dist-packages (from aiohttp<4.0.0,>=3.8.3->langchain) (24.3.0)\n",
            "Requirement already satisfied: frozenlist>=1.1.1 in /usr/local/lib/python3.10/dist-packages (from aiohttp<4.0.0,>=3.8.3->langchain) (1.5.0)\n",
            "Requirement already satisfied: multidict<7.0,>=4.5 in /usr/local/lib/python3.10/dist-packages (from aiohttp<4.0.0,>=3.8.3->langchain) (6.1.0)\n",
            "Requirement already satisfied: propcache>=0.2.0 in /usr/local/lib/python3.10/dist-packages (from aiohttp<4.0.0,>=3.8.3->langchain) (0.2.1)\n",
            "Requirement already satisfied: yarl<2.0,>=1.17.0 in /usr/local/lib/python3.10/dist-packages (from aiohttp<4.0.0,>=3.8.3->langchain) (1.18.3)\n",
            "Requirement already satisfied: anyio<5,>=3.5.0 in /usr/local/lib/python3.10/dist-packages (from groq<1,>=0.4.1->langchain_groq) (3.7.1)\n",
            "Requirement already satisfied: distro<2,>=1.7.0 in /usr/local/lib/python3.10/dist-packages (from groq<1,>=0.4.1->langchain_groq) (1.9.0)\n",
            "Requirement already satisfied: httpx<1,>=0.23.0 in /usr/local/lib/python3.10/dist-packages (from groq<1,>=0.4.1->langchain_groq) (0.28.1)\n",
            "Requirement already satisfied: sniffio in /usr/local/lib/python3.10/dist-packages (from groq<1,>=0.4.1->langchain_groq) (1.3.1)\n",
            "Requirement already satisfied: jsonpointer>=1.9 in /usr/local/lib/python3.10/dist-packages (from jsonpatch<2.0,>=1.33->langchain_core) (3.0.0)\n",
            "Requirement already satisfied: orjson<4.0.0,>=3.9.14 in /usr/local/lib/python3.10/dist-packages (from langsmith<0.3,>=0.1.17->langchain) (3.10.12)\n",
            "Requirement already satisfied: requests-toolbelt<2.0.0,>=1.0.0 in /usr/local/lib/python3.10/dist-packages (from langsmith<0.3,>=0.1.17->langchain) (1.0.0)\n",
            "Requirement already satisfied: annotated-types>=0.6.0 in /usr/local/lib/python3.10/dist-packages (from pydantic<3.0.0,>=2.7.4->langchain) (0.7.0)\n",
            "Requirement already satisfied: pydantic-core==2.27.1 in /usr/local/lib/python3.10/dist-packages (from pydantic<3.0.0,>=2.7.4->langchain) (2.27.1)\n",
            "Requirement already satisfied: charset-normalizer<4,>=2 in /usr/local/lib/python3.10/dist-packages (from requests<3,>=2->langchain) (3.4.0)\n",
            "Requirement already satisfied: idna<4,>=2.5 in /usr/local/lib/python3.10/dist-packages (from requests<3,>=2->langchain) (3.10)\n",
            "Requirement already satisfied: urllib3<3,>=1.21.1 in /usr/local/lib/python3.10/dist-packages (from requests<3,>=2->langchain) (2.2.3)\n",
            "Requirement already satisfied: certifi>=2017.4.17 in /usr/local/lib/python3.10/dist-packages (from requests<3,>=2->langchain) (2024.12.14)\n",
            "Requirement already satisfied: greenlet!=0.4.17 in /usr/local/lib/python3.10/dist-packages (from SQLAlchemy<3,>=1.4->langchain) (3.1.1)\n",
            "Requirement already satisfied: exceptiongroup in /usr/local/lib/python3.10/dist-packages (from anyio<5,>=3.5.0->groq<1,>=0.4.1->langchain_groq) (1.2.2)\n",
            "Requirement already satisfied: httpcore==1.* in /usr/local/lib/python3.10/dist-packages (from httpx<1,>=0.23.0->groq<1,>=0.4.1->langchain_groq) (1.0.7)\n",
            "Requirement already satisfied: h11<0.15,>=0.13 in /usr/local/lib/python3.10/dist-packages (from httpcore==1.*->httpx<1,>=0.23.0->groq<1,>=0.4.1->langchain_groq) (0.14.0)\n",
            "Downloading langchain_groq-0.2.2-py3-none-any.whl (14 kB)\n",
            "Downloading langchain_core-0.3.29-py3-none-any.whl (411 kB)\n",
            "\u001b[2K   \u001b[90m━━━━━━━━━━━━━━━━━━━━━━━━━━━━━━━━━━━━━━━━\u001b[0m \u001b[32m411.6/411.6 kB\u001b[0m \u001b[31m7.6 MB/s\u001b[0m eta \u001b[36m0:00:00\u001b[0m\n",
            "\u001b[?25hDownloading groq-0.13.1-py3-none-any.whl (109 kB)\n",
            "\u001b[2K   \u001b[90m━━━━━━━━━━━━━━━━━━━━━━━━━━━━━━━━━━━━━━━━\u001b[0m \u001b[32m109.1/109.1 kB\u001b[0m \u001b[31m8.1 MB/s\u001b[0m eta \u001b[36m0:00:00\u001b[0m\n",
            "\u001b[?25hInstalling collected packages: groq, langchain_core, langchain_groq\n",
            "  Attempting uninstall: langchain_core\n",
            "    Found existing installation: langchain-core 0.3.25\n",
            "    Uninstalling langchain-core-0.3.25:\n",
            "      Successfully uninstalled langchain-core-0.3.25\n",
            "Successfully installed groq-0.13.1 langchain_core-0.3.29 langchain_groq-0.2.2\n"
          ]
        }
      ],
      "source": [
        "!pip install langchain langchain_core langchain_groq"
      ]
    },
    {
      "cell_type": "code",
      "source": [
        "from google.colab import userdata\n",
        "import os\n",
        "os.environ['GROQ_API_KEY'] = userdata.get('groq_api_key')"
      ],
      "metadata": {
        "id": "Z0tWdAjhCokX"
      },
      "execution_count": 2,
      "outputs": []
    },
    {
      "cell_type": "code",
      "source": [
        "from langchain_groq import ChatGroq\n",
        "from langchain.prompts import PromptTemplate\n",
        "llm = ChatGroq(\n",
        "    temperature=0,\n",
        "    model_name=\"llama-3.3-70b-versatile\"\n",
        ")"
      ],
      "metadata": {
        "id": "jK3F93fKCoxV"
      },
      "execution_count": 4,
      "outputs": []
    },
    {
      "cell_type": "code",
      "source": [
        "basic_prompt = \"Explain the concept of Prompt Eng. in one Sentence\"\n",
        "llm.invoke(basic_prompt).content"
      ],
      "metadata": {
        "colab": {
          "base_uri": "https://localhost:8080/",
          "height": 70
        },
        "id": "255T7PDUDIYx",
        "outputId": "ec0b056e-4e7b-424e-cdd6-bfe923bbc22b"
      },
      "execution_count": 5,
      "outputs": [
        {
          "output_type": "execute_result",
          "data": {
            "text/plain": [
              "'Prompt Engineering refers to the process of designing, optimizing, and refining text prompts or inputs to elicit specific, accurate, and relevant responses from artificial intelligence (AI) models, such as language models or chatbots.'"
            ],
            "application/vnd.google.colaboratory.intrinsic+json": {
              "type": "string"
            }
          },
          "metadata": {},
          "execution_count": 5
        }
      ]
    },
    {
      "cell_type": "markdown",
      "source": [
        "Prompt Structure"
      ],
      "metadata": {
        "id": "fRFstfEeD7W8"
      }
    },
    {
      "cell_type": "code",
      "source": [
        "structured_prompt = PromptTemplate(\n",
        "    input_variables=[\"topic\"],\n",
        "    template=\"Explain the concept of {topic} in one Sentence\"\n",
        ")\n",
        "\n",
        "chain = structured_prompt | llm\n",
        "input_variables = {\"topic\":\"prompt eng.\"}\n",
        "chain.invoke(input_variables).content"
      ],
      "metadata": {
        "colab": {
          "base_uri": "https://localhost:8080/",
          "height": 70
        },
        "id": "GPtDA7xXETuJ",
        "outputId": "dfa06097-cee7-4674-d50b-380990287a29"
      },
      "execution_count": 7,
      "outputs": [
        {
          "output_type": "execute_result",
          "data": {
            "text/plain": [
              "'Prompt engineering refers to the process of designing and optimizing text prompts to effectively interact with artificial intelligence (AI) models, such as language models, to elicit specific, accurate, and relevant responses.'"
            ],
            "application/vnd.google.colaboratory.intrinsic+json": {
              "type": "string"
            }
          },
          "metadata": {},
          "execution_count": 7
        }
      ]
    },
    {
      "cell_type": "markdown",
      "source": [
        "Importance of Prompt Engineering"
      ],
      "metadata": {
        "id": "1qkhz4iTEiS0"
      }
    },
    {
      "cell_type": "code",
      "source": [
        "prompts = [\n",
        "    \"List 4 application of AI in healthcare\",\n",
        "    \"Explain how AI is revolutionizing healthcare, with 4 specific example\",\n",
        "    \"You are a doctor. Describe 4 ways AI has improved your daily work in the hospital\"\n",
        "]\n",
        "\n",
        "for i, prompt in enumerate(prompts, 1):\n",
        "  print(f\"Prompt{i}\")\n",
        "  print(prompt)\n",
        "  print(\"\\n Response: \")\n",
        "  print(llm.invoke(prompt).content)\n",
        "  print(\"-\"*100)"
      ],
      "metadata": {
        "colab": {
          "base_uri": "https://localhost:8080/"
        },
        "id": "cE0aqsryEcVC",
        "outputId": "816c99d2-d250-49bc-e1f7-4546616c2994"
      },
      "execution_count": 8,
      "outputs": [
        {
          "output_type": "stream",
          "name": "stdout",
          "text": [
            "Prompt1\n",
            "List 4 application of AI in healthcare\n",
            "\n",
            " Response: \n",
            "Here are 4 applications of AI in healthcare:\n",
            "\n",
            "1. **Disease Diagnosis**: AI algorithms can analyze medical images, patient data, and lab results to help doctors diagnose diseases more accurately and quickly. For example, AI-powered computer vision can detect abnormalities in X-rays, CT scans, and MRIs, while machine learning algorithms can analyze electronic health records to identify patterns and predict patient outcomes.\n",
            "\n",
            "2. **Personalized Medicine**: AI can help tailor treatment plans to individual patients based on their unique genetic profiles, medical histories, and lifestyle factors. This approach, known as precision medicine, can lead to more effective treatments and better patient outcomes. AI can also help identify potential drug interactions and side effects, allowing doctors to adjust treatment plans accordingly.\n",
            "\n",
            "3. **Predictive Analytics**: AI-powered predictive analytics can help healthcare professionals forecast patient outcomes, identify high-risk patients, and prevent hospital readmissions. By analyzing large datasets, AI algorithms can identify patterns and trends that may not be apparent to human clinicians, enabling early interventions and more targeted care.\n",
            "\n",
            "4. **Virtual Nursing Assistants**: AI-powered virtual nursing assistants can help patients manage chronic conditions, adhere to medication regimens, and monitor their vital signs remotely. These virtual assistants can also provide patients with personalized health advice, answer medical questions, and connect them with healthcare professionals when needed, reducing the burden on human clinicians and improving patient engagement.\n",
            "----------------------------------------------------------------------------------------------------\n",
            "Prompt2\n",
            "Explain how AI is revolutionizing healthcare, with 4 specific example\n",
            "\n",
            " Response: \n",
            "Artificial intelligence (AI) is revolutionizing healthcare by improving patient outcomes, streamlining clinical workflows, and enhancing the overall quality of care. Here are 4 specific examples of how AI is transforming the healthcare industry:\n",
            "\n",
            "1. **Medical Imaging Analysis**: AI-powered algorithms can analyze medical images such as X-rays, CT scans, and MRIs to help doctors diagnose diseases more accurately and quickly. For instance, Google's AI-powered LYNA (Lymph Node Assistant) can detect breast cancer from lymph node biopsies with a high degree of accuracy, reducing the need for human interpretation and minimizing the risk of false negatives. This technology has the potential to improve cancer diagnosis and treatment outcomes.\n",
            "\n",
            "2. **Personalized Medicine and Predictive Analytics**: AI can analyze large amounts of patient data, including genetic information, medical histories, and lifestyle factors, to predict patient outcomes and tailor treatment plans to individual needs. For example, IBM's Watson for Oncology uses AI to analyze cancer patient data and provide personalized treatment recommendations based on the latest medical research and clinical trials. This approach can help doctors develop more effective treatment plans and improve patient outcomes.\n",
            "\n",
            "3. **Chatbots and Virtual Nursing Assistants**: AI-powered chatbots and virtual nursing assistants can help patients manage their health and well-being remotely, reducing the need for hospital visits and improving patient engagement. For instance, Mayo Clinic's AskMayoExpert chatbot uses AI to provide patients with personalized health advice and connect them with healthcare professionals for further guidance. This technology can help patients take a more active role in their healthcare and improve health outcomes.\n",
            "\n",
            "4. **Clinical Decision Support Systems**: AI-powered clinical decision support systems can analyze large amounts of medical data and provide doctors with real-time recommendations on diagnosis, treatment, and patient care. For example, Epic Systems' AI-powered clinical decision support system can analyze patient data and alert doctors to potential medication errors, allergic reactions, and other safety concerns. This technology can help reduce medical errors, improve patient safety, and enhance the overall quality of care.\n",
            "\n",
            "These examples illustrate the significant impact AI is having on the healthcare industry, from improving diagnosis and treatment outcomes to enhancing patient engagement and streamlining clinical workflows. As AI technology continues to evolve, we can expect to see even more innovative applications of AI in healthcare, leading to better patient outcomes and improved healthcare systems.\n",
            "----------------------------------------------------------------------------------------------------\n",
            "Prompt3\n",
            "You are a doctor. Describe 4 ways AI has improved your daily work in the hospital\n",
            "\n",
            " Response: \n",
            "As a doctor, I've witnessed firsthand the significant impact of Artificial Intelligence (AI) on my daily work in the hospital. Here are 4 ways AI has improved my daily routine:\n",
            "\n",
            "1. **Streamlined Patient Data Analysis**: AI-powered algorithms help me analyze large amounts of patient data, including medical histories, lab results, and imaging studies. This enables me to quickly identify patterns, diagnose conditions more accurately, and develop personalized treatment plans. For instance, AI can help me analyze genomic data to identify genetic mutations associated with specific diseases, allowing me to provide targeted therapies.\n",
            "\n",
            "2. **Enhanced Imaging Diagnostics**: AI-assisted imaging tools have revolutionized the way I interpret medical images such as X-rays, CT scans, and MRIs. AI algorithms can detect abnormalities, such as tumors or fractures, and highlight them for my review. This not only saves me time but also reduces the likelihood of human error. Additionally, AI can help me prioritize cases, ensuring that the most critical patients receive timely attention.\n",
            "\n",
            "3. **Optimized Clinical Decision Support**: AI-driven clinical decision support systems (CDSS) provide me with real-time, evidence-based recommendations for patient care. These systems analyze patient data, medical literature, and treatment guidelines to suggest the most effective courses of action. For example, AI can help me choose the most appropriate antibiotic for a patient based on their specific infection, medical history, and potential allergies.\n",
            "\n",
            "4. **Automated Administrative Tasks**: AI has also improved my daily workflow by automating routine administrative tasks, such as documentation and billing. AI-powered tools can extract relevant information from patient records, generate accurate bills, and even assist with insurance claims. This frees up more time for me to focus on direct patient care, allowing me to provide more personalized attention and improve overall patient outcomes.\n",
            "\n",
            "Overall, AI has transformed my daily work in the hospital, enabling me to provide more efficient, effective, and compassionate care to my patients. By leveraging AI's capabilities, I can stay up-to-date with the latest medical research, streamline my workflow, and ultimately deliver better health outcomes for my patients.\n",
            "----------------------------------------------------------------------------------------------------\n"
          ]
        }
      ]
    },
    {
      "cell_type": "markdown",
      "source": [
        "Role in AI and LLM"
      ],
      "metadata": {
        "id": "UlGAYocnF5lQ"
      }
    },
    {
      "cell_type": "code",
      "source": [
        "fact_check_prompt = PromptTemplate(\n",
        "    input_variables=[\"statement\"],\n",
        "    template=\"\"\"Evaluate the following statement for factual accuracy. If it's incorrect provide the correct information\n",
        "    Statement: {statement}\n",
        "    Evaluation:\n",
        "    \"\"\"\n",
        ")\n",
        "\n",
        "chain = fact_check_prompt | llm\n",
        "print(chain.invoke(\"Indian is Richest Country before Colonolization of Britishers.\").content)"
      ],
      "metadata": {
        "colab": {
          "base_uri": "https://localhost:8080/"
        },
        "id": "Biv7eM6JFWdC",
        "outputId": "bd137de5-72dc-40d9-8809-6d84f13631bc"
      },
      "execution_count": 9,
      "outputs": [
        {
          "output_type": "stream",
          "name": "stdout",
          "text": [
            "Evaluation: The statement \"Indian is Richest Country before Colonization of Britishers\" is partially correct but requires clarification and context.\n",
            "\n",
            "Historically, the Indian subcontinent, which includes present-day India, Pakistan, and Bangladesh, was indeed one of the wealthiest regions in the world before the British colonization. The region was a major center of trade, commerce, and industry, with a long history of cultural, scientific, and economic achievements.\n",
            "\n",
            "According to the economist Angus Maddison, in 1700, India's GDP was approximately 24.4% of the world's total GDP, while China's was around 22.3%, and Europe's was around 18.8%. India was a major producer of textiles, spices, and other luxury goods, which were in high demand globally.\n",
            "\n",
            "However, it's essential to note that the concept of a \"country\" as we understand it today did not exist during that time. The Indian subcontinent was a collection of various kingdoms, empires, and princely states, each with their own systems of governance, economy, and culture.\n",
            "\n",
            "The British colonization of India, which began in the mid-18th century, had a devastating impact on the Indian economy. The British East India Company's exploitation of India's resources, the imposition of heavy taxes, and the destruction of traditional industries led to a significant decline in India's economic prosperity.\n",
            "\n",
            "Correct information:\n",
            "- The Indian subcontinent was one of the wealthiest regions in the world before British colonization.\n",
            "- The region was a major center of trade, commerce, and industry, with a long history of cultural, scientific, and economic achievements.\n",
            "- The concept of a \"country\" as we understand it today did not exist during that time, and the Indian subcontinent was a collection of various kingdoms, empires, and princely states.\n",
            "- The British colonization of India had a devastating impact on the Indian economy, leading to a significant decline in India's economic prosperity.\n",
            "\n",
            "In conclusion, while the statement is partially correct, it requires clarification and context to accurately reflect the historical reality of the Indian subcontinent before British colonization.\n"
          ]
        }
      ]
    },
    {
      "cell_type": "code",
      "source": [
        "fact_check_prompt = PromptTemplate(\n",
        "    input_variables=[\"statement\"],\n",
        "    template=\"\"\"Evaluate the following statement for factual accuracy. If it's incorrect provide the correct information\n",
        "    Statement: {statement}\n",
        "    Evaluation:\n",
        "    \"\"\"\n",
        ")\n",
        "\n",
        "chain = fact_check_prompt | llm\n",
        "print(chain.invoke(\"Indian is Richest Country\").content)"
      ],
      "metadata": {
        "colab": {
          "base_uri": "https://localhost:8080/"
        },
        "id": "TjWSC6DrGz3U",
        "outputId": "d859b0fe-0fb3-4e42-ff34-457dee3a4e6e"
      },
      "execution_count": 10,
      "outputs": [
        {
          "output_type": "stream",
          "name": "stdout",
          "text": [
            "Evaluation: The statement \"Indian is Richest Country\" is incorrect.\n",
            "\n",
            "According to the International Monetary Fund (IMF), the richest countries in the world are typically measured by their Gross Domestic Product (GDP) per capita, which is the total value of goods and services produced within a country divided by its population.\n",
            "\n",
            "As of 2022, the top 5 richest countries in the world are:\n",
            "\n",
            "1. Qatar - GDP per capita: $69,862\n",
            "2. Luxembourg - GDP per capita: $67,993\n",
            "3. Singapore - GDP per capita: $64,581\n",
            "4. Ireland - GDP per capita: $63,655\n",
            "5. Norway - GDP per capita: $62,759\n",
            "\n",
            "India, on the other hand, has a GDP per capita of around $2,134 (2022 estimates), which ranks it 139th in the world in terms of GDP per capita.\n",
            "\n",
            "It's worth noting that India is a rapidly growing economy and has made significant progress in recent years, but it still faces significant development challenges and poverty remains a major issue in the country.\n",
            "\n",
            "Correct information: India is not the richest country in the world, but it is a large and growing economy with a significant potential for future growth and development.\n"
          ]
        }
      ]
    },
    {
      "cell_type": "markdown",
      "source": [
        "Complex Problem Solving"
      ],
      "metadata": {
        "id": "Qv4FaAEOHHeJ"
      }
    },
    {
      "cell_type": "code",
      "source": [
        "problem_solving_prompt = PromptTemplate(\n",
        "    input_variables=[\"problem\"],\n",
        "    template=\"\"\"Solve ths following problem step by step:\n",
        "    Problem: {problem}\n",
        "    Solution:\n",
        "    \"\"\"\n",
        ")\n",
        "\n",
        "chain = problem_solving_prompt | llm\n",
        "print(chain.invoke(\"A rectangle has a length of 10 cm and a width of 5 cm. What is its area in square centimeters?\").content)"
      ],
      "metadata": {
        "colab": {
          "base_uri": "https://localhost:8080/"
        },
        "id": "scyx-_puHGyo",
        "outputId": "87c2a198-b9fa-4a7b-fb55-0529290d8571"
      },
      "execution_count": 11,
      "outputs": [
        {
          "output_type": "stream",
          "name": "stdout",
          "text": [
            "To find the area of the rectangle, we need to follow these steps:\n",
            "\n",
            "1. **Identify the formula for the area of a rectangle**: The formula for the area of a rectangle is given by length times width. In mathematical terms, this is represented as Area = length × width.\n",
            "\n",
            "2. **Plug in the given values**: We are given that the length of the rectangle is 10 cm and the width is 5 cm. Using the formula, we substitute these values: Area = 10 cm × 5 cm.\n",
            "\n",
            "3. **Calculate the area**: Now, we perform the multiplication to find the area: 10 cm × 5 cm = 50 square centimeters.\n",
            "\n",
            "Therefore, the area of the rectangle is 50 square centimeters.\n",
            "\n",
            "Solution: The area of the rectangle is 50 square centimeters.\n"
          ]
        }
      ]
    },
    {
      "cell_type": "markdown",
      "source": [
        "Multi-turn Prompts"
      ],
      "metadata": {
        "id": "vJPpkIveIDVi"
      }
    },
    {
      "cell_type": "code",
      "source": [
        "from langchain.chains import ConversationChain\n",
        "from langchain.memory import ConversationBufferMemory"
      ],
      "metadata": {
        "id": "rAK55kCrHn61"
      },
      "execution_count": 12,
      "outputs": []
    },
    {
      "cell_type": "code",
      "source": [
        "conversation = ConversationChain(\n",
        "    llm=llm,\n",
        "    verbose=True,\n",
        "    memory=ConversationBufferMemory()\n",
        ")\n",
        "\n",
        "print(conversation.predict(input=\"What is a galaxy?\"))\n",
        "print(conversation.predict(input=\"How many galaxies are there in the universe?\"))\n",
        "print(conversation.predict(input=\"What's the name of the galaxy we live in?\"))"
      ],
      "metadata": {
        "colab": {
          "base_uri": "https://localhost:8080/"
        },
        "id": "dpHii3ObISwC",
        "outputId": "32479b1f-b8ba-4c4f-ec4d-a0dc1e006eb9"
      },
      "execution_count": 13,
      "outputs": [
        {
          "output_type": "stream",
          "name": "stderr",
          "text": [
            "<ipython-input-13-73aa02bc1b64>:4: LangChainDeprecationWarning: Please see the migration guide at: https://python.langchain.com/docs/versions/migrating_memory/\n",
            "  memory=ConversationBufferMemory()\n",
            "<ipython-input-13-73aa02bc1b64>:1: LangChainDeprecationWarning: The class `ConversationChain` was deprecated in LangChain 0.2.7 and will be removed in 1.0. Use :meth:`~RunnableWithMessageHistory: https://python.langchain.com/v0.2/api_reference/core/runnables/langchain_core.runnables.history.RunnableWithMessageHistory.html` instead.\n",
            "  conversation = ConversationChain(\n"
          ]
        },
        {
          "output_type": "stream",
          "name": "stdout",
          "text": [
            "\n",
            "\n",
            "\u001b[1m> Entering new ConversationChain chain...\u001b[0m\n",
            "Prompt after formatting:\n",
            "\u001b[32;1m\u001b[1;3mThe following is a friendly conversation between a human and an AI. The AI is talkative and provides lots of specific details from its context. If the AI does not know the answer to a question, it truthfully says it does not know.\n",
            "\n",
            "Current conversation:\n",
            "\n",
            "Human: What is a galaxy?\n",
            "AI:\u001b[0m\n",
            "\n",
            "\u001b[1m> Finished chain.\u001b[0m\n",
            "A galaxy is a massive, gravitationally bound system consisting of stars, stellar remnants, interstellar gas, dust, and dark matter, typically dominated by a central supermassive black hole. The Milky Way, for example, is the galaxy that contains our solar system, and it's estimated to contain between 200 and 400 billion stars. Galaxies come in a variety of shapes and sizes, ranging from dwarf galaxies with just a few billion stars to giant elliptical galaxies with trillions of stars.\n",
            "\n",
            "In fact, galaxies are thought to have formed in the early universe through the gravitational collapse of gas and dust, and they've been evolving ever since through mergers, star formation, and other processes. The study of galaxies is a fascinating field of astronomy, with scientists using a range of observational and theoretical techniques to understand their structure, evolution, and role in the universe.\n",
            "\n",
            "By the way, did you know that the term \"galaxy\" comes from the Greek word \"galaxias,\" meaning \"milky,\" which was used to describe the appearance of the Milky Way in the night sky? The concept of galaxies as separate, distinct systems has been developed over centuries, with major contributions from astronomers like William Herschel, Edwin Hubble, and many others. Would you like to know more about a specific type of galaxy or the history of galaxy research?\n",
            "\n",
            "\n",
            "\u001b[1m> Entering new ConversationChain chain...\u001b[0m\n",
            "Prompt after formatting:\n",
            "\u001b[32;1m\u001b[1;3mThe following is a friendly conversation between a human and an AI. The AI is talkative and provides lots of specific details from its context. If the AI does not know the answer to a question, it truthfully says it does not know.\n",
            "\n",
            "Current conversation:\n",
            "Human: What is a galaxy?\n",
            "AI: A galaxy is a massive, gravitationally bound system consisting of stars, stellar remnants, interstellar gas, dust, and dark matter, typically dominated by a central supermassive black hole. The Milky Way, for example, is the galaxy that contains our solar system, and it's estimated to contain between 200 and 400 billion stars. Galaxies come in a variety of shapes and sizes, ranging from dwarf galaxies with just a few billion stars to giant elliptical galaxies with trillions of stars.\n",
            "\n",
            "In fact, galaxies are thought to have formed in the early universe through the gravitational collapse of gas and dust, and they've been evolving ever since through mergers, star formation, and other processes. The study of galaxies is a fascinating field of astronomy, with scientists using a range of observational and theoretical techniques to understand their structure, evolution, and role in the universe.\n",
            "\n",
            "By the way, did you know that the term \"galaxy\" comes from the Greek word \"galaxias,\" meaning \"milky,\" which was used to describe the appearance of the Milky Way in the night sky? The concept of galaxies as separate, distinct systems has been developed over centuries, with major contributions from astronomers like William Herschel, Edwin Hubble, and many others. Would you like to know more about a specific type of galaxy or the history of galaxy research?\n",
            "Human: How many galaxies are there in the universe?\n",
            "AI:\u001b[0m\n",
            "\n",
            "\u001b[1m> Finished chain.\u001b[0m\n",
            "Estimating the exact number of galaxies in the universe is a challenging task, but based on observations and simulations, scientists have made various estimates. According to the Hubble Space Telescope's observations, there are approximately 100 to 200 billion galaxies in the observable universe. However, this number is likely an underestimate, as there may be many galaxies that are too distant or too faint to be detected with current technology.\n",
            "\n",
            "In fact, a 2020 study using data from the Hubble Space Telescope and other observations estimated that there could be as many as 292 billion galaxies in the observable universe, although this number is still considered uncertain. It's also important to note that the universe is still expanding, and there may be galaxies beyond what we can observe, often referred to as the \"cosmic horizon.\"\n",
            "\n",
            "To give you a better idea, the Sloan Great Wall, a vast network of galaxy filaments, is estimated to contain thousands of galaxies, while the Laniakea Supercluster, which contains the Milky Way, is thought to comprise tens of thousands of galaxies. The distribution of galaxies in the universe is not uniform, with many galaxies clustered together in groups, clusters, and superclusters, while others are isolated and solitary.\n",
            "\n",
            "Would you like to know more about the distribution of galaxies, the different types of galaxy clusters, or the ongoing efforts to map the universe?\n",
            "\n",
            "\n",
            "\u001b[1m> Entering new ConversationChain chain...\u001b[0m\n",
            "Prompt after formatting:\n",
            "\u001b[32;1m\u001b[1;3mThe following is a friendly conversation between a human and an AI. The AI is talkative and provides lots of specific details from its context. If the AI does not know the answer to a question, it truthfully says it does not know.\n",
            "\n",
            "Current conversation:\n",
            "Human: What is a galaxy?\n",
            "AI: A galaxy is a massive, gravitationally bound system consisting of stars, stellar remnants, interstellar gas, dust, and dark matter, typically dominated by a central supermassive black hole. The Milky Way, for example, is the galaxy that contains our solar system, and it's estimated to contain between 200 and 400 billion stars. Galaxies come in a variety of shapes and sizes, ranging from dwarf galaxies with just a few billion stars to giant elliptical galaxies with trillions of stars.\n",
            "\n",
            "In fact, galaxies are thought to have formed in the early universe through the gravitational collapse of gas and dust, and they've been evolving ever since through mergers, star formation, and other processes. The study of galaxies is a fascinating field of astronomy, with scientists using a range of observational and theoretical techniques to understand their structure, evolution, and role in the universe.\n",
            "\n",
            "By the way, did you know that the term \"galaxy\" comes from the Greek word \"galaxias,\" meaning \"milky,\" which was used to describe the appearance of the Milky Way in the night sky? The concept of galaxies as separate, distinct systems has been developed over centuries, with major contributions from astronomers like William Herschel, Edwin Hubble, and many others. Would you like to know more about a specific type of galaxy or the history of galaxy research?\n",
            "Human: How many galaxies are there in the universe?\n",
            "AI: Estimating the exact number of galaxies in the universe is a challenging task, but based on observations and simulations, scientists have made various estimates. According to the Hubble Space Telescope's observations, there are approximately 100 to 200 billion galaxies in the observable universe. However, this number is likely an underestimate, as there may be many galaxies that are too distant or too faint to be detected with current technology.\n",
            "\n",
            "In fact, a 2020 study using data from the Hubble Space Telescope and other observations estimated that there could be as many as 292 billion galaxies in the observable universe, although this number is still considered uncertain. It's also important to note that the universe is still expanding, and there may be galaxies beyond what we can observe, often referred to as the \"cosmic horizon.\"\n",
            "\n",
            "To give you a better idea, the Sloan Great Wall, a vast network of galaxy filaments, is estimated to contain thousands of galaxies, while the Laniakea Supercluster, which contains the Milky Way, is thought to comprise tens of thousands of galaxies. The distribution of galaxies in the universe is not uniform, with many galaxies clustered together in groups, clusters, and superclusters, while others are isolated and solitary.\n",
            "\n",
            "Would you like to know more about the distribution of galaxies, the different types of galaxy clusters, or the ongoing efforts to map the universe?\n",
            "Human: What's the name of the galaxy we live in?\n",
            "AI:\u001b[0m\n",
            "\n",
            "\u001b[1m> Finished chain.\u001b[0m\n",
            "The galaxy we live in is called the Milky Way. It's a barred spiral galaxy, consisting of hundreds of billions of stars, as well as various types of interstellar gas and dust. The Milky Way is estimated to be about 100,000 light-years in diameter, and it's thought to contain a supermassive black hole at its center, known as Sagittarius A* (Sgr A*).\n",
            "\n",
            "The Milky Way is also part of the Local Group of galaxies, which includes the Andromeda Galaxy, the Triangulum Galaxy, and several smaller galaxies. Our solar system is located in one of the outer spiral arms of the Milky Way, known as the Orion Arm, which is about 27,000 light-years from the center of the galaxy.\n",
            "\n",
            "By the way, the name \"Milky Way\" comes from the galaxy's appearance as a bright, hazy band of light in the night sky, which was described by the ancient Greeks as \"galaxias,\" or \"milky.\" The term was later adopted into Latin as \"via lactea,\" and eventually into various other languages, including English.\n",
            "\n",
            "Would you like to know more about the structure and composition of the Milky Way, or perhaps the history of its discovery and exploration?\n"
          ]
        }
      ]
    },
    {
      "cell_type": "code",
      "source": [
        "# Single-turn prompts\n",
        "prompts = [\n",
        "    \"What is the capital of France?\",\n",
        "    \"What is its population?\",\n",
        "    \"What is the city's most famous landmark?\"\n",
        "]\n",
        "\n",
        "print(\"Single-turn responses:\")\n",
        "for prompt in prompts:\n",
        "    print(f\"Q: {prompt}\")\n",
        "    print(f\"A: {llm.invoke(prompt).content}\\n\")"
      ],
      "metadata": {
        "colab": {
          "base_uri": "https://localhost:8080/"
        },
        "id": "xn-iwVYIIfWp",
        "outputId": "5df00eac-22c5-487b-dcf6-440273cf9e01"
      },
      "execution_count": 14,
      "outputs": [
        {
          "output_type": "stream",
          "name": "stdout",
          "text": [
            "Single-turn responses:\n",
            "Q: What is the capital of France?\n",
            "A: The capital of France is Paris.\n",
            "\n",
            "Q: What is its population?\n",
            "A: I don't have enough information to provide the population of a specific place. Could you please provide more context or specify the location you are referring to? I'll do my best to provide the most up-to-date population information available.\n",
            "\n",
            "Q: What is the city's most famous landmark?\n",
            "A: I'm not sure which city you're referring to. There are many cities around the world, each with its own unique landmarks. Could you please specify the city you're interested in? I'd be happy to help you with that information.\n",
            "\n"
          ]
        }
      ]
    },
    {
      "cell_type": "code",
      "source": [
        "# Multi-turn prompts\n",
        "print(\"Multi-turn responses:\")\n",
        "conversation = ConversationChain(llm=llm, memory=ConversationBufferMemory())\n",
        "for prompt in prompts:\n",
        "    print(f\"Q: {prompt}\")\n",
        "    print(f\"A: {conversation.predict(input=prompt)}\\n\")"
      ],
      "metadata": {
        "colab": {
          "base_uri": "https://localhost:8080/"
        },
        "id": "S66gSdhhI621",
        "outputId": "c00d77e9-0426-49b4-8714-6bf80264b5e8"
      },
      "execution_count": 15,
      "outputs": [
        {
          "output_type": "stream",
          "name": "stdout",
          "text": [
            "Multi-turn responses:\n",
            "Q: What is the capital of France?\n",
            "A: The capital of France is Paris. It's a beautiful city known for its iconic landmarks like the Eiffel Tower, which stands at an impressive 324 meters tall, and the Louvre Museum, which houses an extensive collection of art and artifacts, including the famous Mona Lisa painting by Leonardo da Vinci. Paris is also often referred to as the \"City of Light\" due to its historical significance in the Enlightenment period and its stunning cityscape, which is adorned with picturesque riverside quays, charming cafes, and magnificent architecture. Would you like to know more about Paris or France in general?\n",
            "\n",
            "Q: What is its population?\n",
            "A: The population of Paris is approximately 2.16 million people within the city limits, but the metropolitan area, also known as the Île-de-France region, has a population of around 12.2 million people, making it one of the most populous urban areas in Europe. It's worth noting that the population of Paris can fluctuate depending on the time of year, with many tourists visiting the city, especially during the summer months and peak travel seasons. According to the French National Institute for Statistics and Economic Studies (INSEE), the population of Paris has been steadily increasing over the years, with a growth rate of about 0.5% per annum. Would you like to know more about the demographics of Paris or perhaps its economy and infrastructure?\n",
            "\n",
            "Q: What is the city's most famous landmark?\n",
            "A: The city's most famous landmark is undoubtedly the Eiffel Tower, also known as the \"Iron Lady.\" It was built for the 1889 World's Fair, held in Paris to commemorate the 100th anniversary of the French Revolution, and it was intended to be a temporary structure. However, it became an instant iconic symbol of Paris and France, and it has been preserved and restored over the years. The Eiffel Tower stands at an impressive 324 meters (1,063 feet) tall, and it was the tallest man-made structure in the world when it was first built. It is made of over 18,000 pieces of wrought iron and weighs around 7,300 tons. The tower has been visited by millions of people over the years and has been featured in countless films, literature, and artwork. In fact, it is estimated that the Eiffel Tower is the most-visited paid monument in the world, with over 7 million visitors per year. Would you like to know more about the history of the Eiffel Tower, its construction, or perhaps its interesting facts and trivia?\n",
            "\n"
          ]
        }
      ]
    },
    {
      "cell_type": "markdown",
      "source": [
        "**Zero Shot Prompting**"
      ],
      "metadata": {
        "id": "PLrMz1G0JQWO"
      }
    },
    {
      "cell_type": "code",
      "source": [
        "print(llm.invoke(\"What is Zero Shot Prompting and its methods point wise?\").content)"
      ],
      "metadata": {
        "colab": {
          "base_uri": "https://localhost:8080/"
        },
        "id": "Xe20jO_EJAn7",
        "outputId": "412f00b0-e83f-4834-cbc4-587e0750df91"
      },
      "execution_count": 17,
      "outputs": [
        {
          "output_type": "stream",
          "name": "stdout",
          "text": [
            "Zero-Shot Prompting is a technique used in natural language processing (NLP) and machine learning to elicit specific responses from language models without providing any training examples. The goal is to craft a prompt that guides the model to generate a desired output, even if it has never seen a similar task or example before. Here are the methods of Zero-Shot Prompting point-wise:\n",
            "\n",
            "**Methods of Zero-Shot Prompting:**\n",
            "\n",
            "1. **Primed Prompting**: This involves adding a few examples or hints to the prompt to guide the model towards the desired output.\n",
            "2. **Chain-of-Thought Prompting**: This method involves breaking down a complex task into a series of simpler tasks, with each task building on the previous one.\n",
            "3. **Few-Shot Prompting**: This method involves providing a few examples of the desired output, along with a prompt that asks the model to generate more examples.\n",
            "4. **Zero-Shot Classification**: This method involves using a prompt to classify text into predefined categories, without providing any training examples.\n",
            "5. **Text-to-Text Prompting**: This method involves using a prompt to generate text based on a given input text, without providing any training examples.\n",
            "6. **Role-Based Prompting**: This method involves defining a role or persona for the model to adopt, and then using a prompt to elicit a response in character.\n",
            "7. **Least-to-Most Prompting**: This method involves starting with a simple prompt and gradually increasing the complexity of the prompt until the desired output is achieved.\n",
            "8. **Iterative Prompting**: This method involves using a series of prompts to refine the output, with each prompt building on the previous one.\n",
            "9. **Self-Consistency Prompting**: This method involves using a prompt to generate multiple responses, and then selecting the response that is most consistent with the others.\n",
            "10. **Meta-Prompting**: This method involves using a prompt to generate a new prompt, which is then used to generate the final output.\n",
            "\n",
            "**Key considerations for Zero-Shot Prompting:**\n",
            "\n",
            "* **Prompt engineering**: The quality of the prompt is crucial in Zero-Shot Prompting. A well-crafted prompt can elicit a desired response, while a poorly crafted prompt may not.\n",
            "* **Model capacity**: The capacity of the language model is also important, as a more powerful model is more likely to generate a desired response.\n",
            "* **Task complexity**: The complexity of the task is also a factor, as more complex tasks may require more sophisticated prompts or models.\n",
            "* **Evaluation metrics**: The choice of evaluation metrics is also important, as different metrics may be more or less suitable for different tasks and prompts.\n",
            "\n",
            "Overall, Zero-Shot Prompting is a powerful technique for eliciting specific responses from language models, and can be used in a wide range of applications, from text generation to question answering and beyond.\n"
          ]
        }
      ]
    },
    {
      "cell_type": "markdown",
      "source": [
        "Direct Task Specification"
      ],
      "metadata": {
        "id": "UY13uHgVJpo4"
      }
    },
    {
      "cell_type": "code",
      "source": [
        "def create_chain(prompt_template):\n",
        "  prompt = PromptTemplate.from_template(prompt_template)\n",
        "  return prompt|llm"
      ],
      "metadata": {
        "id": "kLFjaLBPKC0p"
      },
      "execution_count": 22,
      "outputs": []
    },
    {
      "cell_type": "code",
      "source": [
        "direct_task_prompt = \"\"\"\n",
        "Classify the sentiment of the following text as positive, negative, or neutral.\n",
        "Don't explain your reasoning, just provide classification\n",
        "Text : {text}\n",
        "Sentiment:\n",
        "\"\"\"\n",
        "direct_task_chain = create_chain(direct_task_prompt)\n",
        "texts = [\n",
        "    \"The new cafe in town has such a cozy vibe, and the coffee is excellent!\",\n",
        "    \"The book was okay, but I wouldn't say it stood out compared to others I've read.\",\n",
        "    \"The online shopping experience was frustrating; the website kept crashing.\"\n",
        "]\n",
        "for text in texts:\n",
        "  print(f\"Text: {text}\")\n",
        "  print(f\"Sentiment: {direct_task_chain.invoke({'text':text}).content}\\n\")"
      ],
      "metadata": {
        "colab": {
          "base_uri": "https://localhost:8080/"
        },
        "id": "Iwbdw4Y6Jawx",
        "outputId": "afedd21b-16ea-48da-c440-e6fdd0bbc443"
      },
      "execution_count": 23,
      "outputs": [
        {
          "output_type": "stream",
          "name": "stdout",
          "text": [
            "Text: The new cafe in town has such a cozy vibe, and the coffee is excellent!\n",
            "Sentiment: Positive\n",
            "\n",
            "Text: The book was okay, but I wouldn't say it stood out compared to others I've read.\n",
            "Sentiment: Neutral\n",
            "\n",
            "Text: The online shopping experience was frustrating; the website kept crashing.\n",
            "Sentiment: Negative\n",
            "\n"
          ]
        }
      ]
    },
    {
      "cell_type": "markdown",
      "source": [
        "Format Specification"
      ],
      "metadata": {
        "id": "5AySlwHWLb3v"
      }
    },
    {
      "cell_type": "code",
      "source": [
        "format_spec_prompt = \"\"\"Generate a short news article about {topic}.\n",
        "Structure your response in the following format:\n",
        "\n",
        "Headline: [A catchy headline for the article]\n",
        "\n",
        "Lead: [A brief introductory paragraph summarizing the key points]\n",
        "\n",
        "Body: [2-3 short paragraphs providing more details]\n",
        "\n",
        "Conclusion: [A concluding sentence or call to action]\"\"\"\n",
        "\n",
        "format_spec_chain = create_chain(format_spec_prompt)\n",
        "\n",
        "topic = \"Breakthrough in renewable energy storage technology\"\n",
        "result = format_spec_chain.invoke({\"topic\": topic}).content\n",
        "print(result)"
      ],
      "metadata": {
        "colab": {
          "base_uri": "https://localhost:8080/"
        },
        "id": "mvXU-bXAKOV-",
        "outputId": "a72bacd3-303c-43f6-f4c6-060f94a03e33"
      },
      "execution_count": 24,
      "outputs": [
        {
          "output_type": "stream",
          "name": "stdout",
          "text": [
            "Headline: Revolutionizing Renewable Energy: Breakthrough in Storage Technology Unveiled\n",
            "\n",
            "Lead: In a significant leap forward for the renewable energy sector, scientists have announced a groundbreaking innovation in energy storage technology, enabling more efficient and cost-effective storage of solar and wind power. This development is poised to transform the way we harness and utilize renewable energy, paving the way for a cleaner, more sustainable future. The new technology promises to address one of the major hurdles in widespread adoption of renewable energy sources: the ability to store excess energy for later use.\n",
            "\n",
            "Body: The breakthrough, achieved by a team of researchers at a leading energy institute, involves the creation of advanced battery systems that can store large amounts of energy at a significantly lower cost than existing technologies. These batteries are designed to be highly durable, with a lifespan of up to 20 years, and can be easily integrated into existing power grids. According to the researchers, the new technology has the potential to reduce energy storage costs by as much as 50%, making renewable energy a more viable option for both residential and commercial applications. Furthermore, the technology is also expected to enhance grid stability and reliability, allowing for a higher percentage of renewable energy sources to be incorporated into the energy mix.\n",
            "\n",
            "The implications of this breakthrough are far-reaching, with potential applications in a wide range of fields, from electric vehicles to smart homes. As the world continues to transition towards a low-carbon economy, innovations like this will play a crucial role in driving the adoption of renewable energy sources. With the global demand for energy storage solutions expected to skyrocket in the coming years, this breakthrough could not have come at a more opportune time. As the technology continues to evolve and improve, we can expect to see significant advancements in the field of renewable energy.\n",
            "\n",
            "Conclusion: As the world moves towards a more sustainable future, this breakthrough in renewable energy storage technology is a significant step in the right direction, and it is now up to governments, industries, and individuals to work together to harness its full potential and create a cleaner, more energy-efficient world for generations to come.\n"
          ]
        }
      ]
    },
    {
      "cell_type": "markdown",
      "source": [
        "Multi-Step Reasoning"
      ],
      "metadata": {
        "id": "EPQea_ZJLxgU"
      }
    },
    {
      "cell_type": "code",
      "source": [
        "multi_step_prompt = \"\"\"Analyze the following text for its main argument, supporting evidence, and potential counterarguments.\n",
        "Provide your analysis in the following steps:\n",
        "\n",
        "1. Main Argument: Identify and state the primary claim or thesis.\n",
        "2. Supporting Evidence: List the key points or evidence used to support the main argument.\n",
        "3. Potential Counterarguments: Suggest possible objections or alternative viewpoints to the main argument.\n",
        "\n",
        "Text: {text}\n",
        "\n",
        "Analysis:\"\"\"\n",
        "\n",
        "multi_step_chain = create_chain(multi_step_prompt)\n",
        "\n",
        "text = \"\"\"Remote work has become increasingly popular in recent years, offering numerous advantages to both employees and employers.\n",
        "Workers enjoy greater flexibility, reduced commuting time, and the ability to create a more personalized work environment.\n",
        "Employers benefit from lower office costs and access to a broader talent pool.\n",
        "However, challenges such as maintaining team collaboration, managing productivity, and ensuring data security still persist, making the transition to remote work not without its drawbacks.\"\"\"\n",
        "\n",
        "result = multi_step_chain.invoke({\"text\": text}).content\n",
        "print(result)"
      ],
      "metadata": {
        "colab": {
          "base_uri": "https://localhost:8080/"
        },
        "id": "rc_HFQ_FLtJN",
        "outputId": "b171b163-f418-4fea-a301-2f6ad6ff4524"
      },
      "execution_count": 25,
      "outputs": [
        {
          "output_type": "stream",
          "name": "stdout",
          "text": [
            "Here's the analysis of the text:\n",
            "\n",
            "1. **Main Argument**: The primary claim or thesis is that remote work has become increasingly popular and offers numerous advantages to both employees and employers, despite some challenges that still need to be addressed.\n",
            "\n",
            "2. **Supporting Evidence**: The key points or evidence used to support the main argument include:\n",
            "   - Greater flexibility for workers\n",
            "   - Reduced commuting time for workers\n",
            "   - Ability for workers to create a personalized work environment\n",
            "   - Lower office costs for employers\n",
            "   - Access to a broader talent pool for employers\n",
            "\n",
            "3. **Potential Counterarguments**: Some possible objections or alternative viewpoints to the main argument could be:\n",
            "   - The lack of face-to-face interaction may lead to decreased employee morale, motivation, or sense of community.\n",
            "   - Remote work may not be suitable for all types of jobs or industries, particularly those that require hands-on training or teamwork.\n",
            "   - The potential for distractions at home, such as family members or household chores, may negatively impact worker productivity.\n",
            "   - The increased reliance on technology may exacerbate existing issues, such as social isolation or the blurring of work-life boundaries.\n",
            "   - Some employers may struggle to establish trust with remote workers, potentially leading to micromanaging or decreased autonomy.\n"
          ]
        }
      ]
    },
    {
      "cell_type": "markdown",
      "source": [
        "Comparative Analysis"
      ],
      "metadata": {
        "id": "XwkGawbfMB8-"
      }
    },
    {
      "cell_type": "code",
      "source": [
        "task = \"Describe the benefits and challenges of artificial intelligence in healthcare\"\n",
        "\n",
        "def compare_prompts(task, prompt_templates):\n",
        "    print(f\"Task: {task}\\n\")\n",
        "    for name, template in prompt_templates.items():\n",
        "        chain = create_chain(template)\n",
        "        result = chain.invoke({\"task\": task}).content\n",
        "        print(f\"{name} Prompt Result:\")\n",
        "        print(result)\n",
        "        print(\"\\n\" + \"-\"*50 + \"\\n\")\n",
        "\n",
        "prompt_templates = {\n",
        "    \"Basic\": \"Describe {task}.\",\n",
        "    \"Structured\": \"\"\"Describe {task} by addressing the following points:\n",
        "1. Benefits of AI in healthcare\n",
        "2. Challenges associated with AI in healthcare\n",
        "3. Examples of current AI applications in healthcare\n",
        "4. Future prospects and trends in the field\"\"\"\n",
        "}\n",
        "\n",
        "compare_prompts(task, prompt_templates)"
      ],
      "metadata": {
        "colab": {
          "base_uri": "https://localhost:8080/"
        },
        "id": "hQKZnh-oL4yr",
        "outputId": "95ac5dc5-e3af-4a87-b001-6fd6ba83641a"
      },
      "execution_count": 26,
      "outputs": [
        {
          "output_type": "stream",
          "name": "stdout",
          "text": [
            "Task: Describe the benefits and challenges of artificial intelligence in healthcare\n",
            "\n",
            "Basic Prompt Result:\n",
            "The integration of artificial intelligence (AI) in healthcare has the potential to revolutionize the industry, offering numerous benefits and posing significant challenges. Here are some of the key advantages and disadvantages of AI in healthcare:\n",
            "\n",
            "**Benefits:**\n",
            "\n",
            "1. **Improved Diagnosis**: AI-powered algorithms can analyze large amounts of medical data, including images, lab results, and patient histories, to help doctors diagnose diseases more accurately and quickly.\n",
            "2. **Personalized Medicine**: AI can help tailor treatment plans to individual patients based on their unique characteristics, medical histories, and genetic profiles.\n",
            "3. **Enhanced Patient Engagement**: AI-powered chatbots and virtual assistants can help patients manage their health, schedule appointments, and access medical information.\n",
            "4. **Streamlined Clinical Workflows**: AI can automate routine administrative tasks, such as data entry and paperwork, freeing up healthcare professionals to focus on more complex and high-value tasks.\n",
            "5. **Predictive Analytics**: AI can analyze large datasets to identify patterns and predict patient outcomes, allowing healthcare providers to intervene early and prevent complications.\n",
            "6. **Remote Monitoring**: AI-powered sensors and wearables can monitor patients remotely, enabling healthcare providers to track patient health and respond to changes in real-time.\n",
            "7. **Reduced Costs**: AI can help reduce healthcare costs by minimizing unnecessary tests, procedures, and hospitalizations.\n",
            "\n",
            "**Challenges:**\n",
            "\n",
            "1. **Data Quality and Integration**: AI algorithms require high-quality, standardized data to produce accurate results. Integrating data from different sources and formats can be a significant challenge.\n",
            "2. **Regulatory Frameworks**: The development and deployment of AI in healthcare must comply with regulatory frameworks, such as HIPAA, which can be complex and time-consuming.\n",
            "3. **Bias and Fairness**: AI algorithms can perpetuate existing biases and disparities in healthcare if they are trained on biased data or designed with a narrow perspective.\n",
            "4. **Cybersecurity**: AI-powered healthcare systems can be vulnerable to cyberattacks, which can compromise patient data and disrupt clinical operations.\n",
            "5. **Clinical Validation**: AI algorithms must be clinically validated to ensure they are safe and effective in real-world settings.\n",
            "6. **Workforce Disruption**: The adoption of AI in healthcare may displace some jobs, such as administrative and clerical roles, while creating new ones, such as AI developer and data scientist positions.\n",
            "7. **Patient Trust and Acceptance**: Patients may be hesitant to trust AI-powered healthcare systems, particularly if they are not transparent or explainable.\n",
            "8. **Liability and Accountability**: The use of AI in healthcare raises questions about liability and accountability, particularly in cases where AI algorithms make mistakes or cause harm.\n",
            "9. **Scalability and Interoperability**: AI-powered healthcare systems must be scalable and interoperable with existing healthcare infrastructure to ensure seamless integration and widespread adoption.\n",
            "10. **Continuous Learning and Updating**: AI algorithms must be continuously updated and refined to ensure they remain accurate and effective in the face of changing healthcare landscapes and emerging diseases.\n",
            "\n",
            "Overall, the benefits of AI in healthcare are significant, but they must be carefully weighed against the challenges and limitations of this technology. By addressing these challenges and ensuring the responsible development and deployment of AI, healthcare providers can harness the full potential of AI to improve patient outcomes, enhance the quality of care, and reduce healthcare costs.\n",
            "\n",
            "--------------------------------------------------\n",
            "\n",
            "Structured Prompt Result:\n",
            "The integration of artificial intelligence (AI) in healthcare has revolutionized the medical industry, offering numerous benefits, posing challenges, and presenting opportunities for future growth. Here's a comprehensive overview of the benefits, challenges, current applications, and future prospects of AI in healthcare:\n",
            "\n",
            "### 1. Benefits of AI in Healthcare\n",
            "\n",
            "The benefits of AI in healthcare are multifaceted, enhancing patient care, streamlining clinical workflows, and improving health outcomes. Some key benefits include:\n",
            "- **Enhanced Diagnostic Accuracy**: AI algorithms can analyze large amounts of medical data, including images and patient histories, to provide more accurate diagnoses than human clinicians in some cases.\n",
            "- **Personalized Medicine**: By analyzing genetic profiles, medical histories, and lifestyle data, AI can help tailor treatment plans to individual patients, leading to more effective care.\n",
            "- **Streamlined Clinical Workflows**: AI can automate routine administrative tasks, freeing up healthcare professionals to focus on more complex and high-value tasks.\n",
            "- **Predictive Analytics**: AI can analyze data to predict patient outcomes, helping to prevent complications and reduce hospital readmissions.\n",
            "- **Improved Patient Engagement**: AI-powered chatbots and virtual assistants can enhance patient engagement by providing timely health advice, medication reminders, and support.\n",
            "\n",
            "### 2. Challenges Associated with AI in Healthcare\n",
            "\n",
            "Despite the benefits, the adoption of AI in healthcare also poses several challenges:\n",
            "- **Data Quality and Availability**: AI algorithms require high-quality, diverse, and large datasets to learn and make accurate predictions. Ensuring data privacy and security is also a significant challenge.\n",
            "- **Regulatory Frameworks**: The development and implementation of AI in healthcare must comply with stringent regulatory requirements, which can be complex and vary by jurisdiction.\n",
            "- **Clinical Validation**: AI systems must undergo rigorous clinical validation to ensure they are safe and effective, which can be time-consuming and costly.\n",
            "- **Ethical Considerations**: There are ethical concerns around the use of AI in healthcare, including bias in AI algorithms, transparency in decision-making, and the potential for job displacement.\n",
            "- **Integration with Existing Systems**: AI solutions must be integrated with existing healthcare systems and infrastructure, which can be challenging due to the complexity and variability of these systems.\n",
            "\n",
            "### 3. Examples of Current AI Applications in Healthcare\n",
            "\n",
            "AI is already being applied in various areas of healthcare, including:\n",
            "- **Medical Imaging**: AI is used to analyze medical images such as X-rays, CT scans, and MRIs to detect abnormalities and diagnose conditions like cancer.\n",
            "- **Clinical Decision Support Systems**: AI-powered systems provide healthcare professionals with clinical decision support, offering recommendations on diagnoses, treatments, and patient care plans.\n",
            "- **Virtual Nursing Assistants**: AI-driven chatbots and virtual assistants are being used to support patient care, providing information, and assisting with routine tasks.\n",
            "- **Predictive Analytics for Patient Outcomes**: AI is used to predict patient outcomes, such as the likelihood of readmission or the risk of developing certain conditions, allowing for proactive interventions.\n",
            "- **Drug Discovery and Development**: AI is applied in the discovery and development of new drugs, helping to identify potential candidates, predict efficacy, and streamline clinical trials.\n",
            "\n",
            "### 4. Future Prospects and Trends in the Field\n",
            "\n",
            "The future of AI in healthcare is promising, with several trends and prospects on the horizon:\n",
            "- **Increased Adoption of AI-Powered Diagnostic Tools**: Expect to see more widespread use of AI in diagnostic imaging and clinical decision support.\n",
            "- **Expansion of Personalized Medicine**: AI will play a crucial role in advancing personalized medicine, tailoring treatments to individual genetic profiles and medical histories.\n",
            "- **Growth of Telehealth and Virtual Care**: AI will support the growth of telehealth services, enabling remote patient monitoring, virtual consultations, and personalized health advice.\n",
            "- **Development of Explainable AI (XAI)**: There will be a focus on developing XAI models that provide transparent and interpretable decisions, addressing ethical and regulatory concerns.\n",
            "- **Integration of AI with Internet of Medical Things (IoMT)**: The integration of AI with IoMT devices will enhance real-time monitoring, predictive maintenance, and personalized healthcare services.\n",
            "\n",
            "In conclusion, AI has the potential to transform healthcare by improving patient outcomes, streamlining clinical workflows, and enhancing the overall quality of care. However, addressing the challenges associated with AI adoption, such as data quality, regulatory compliance, and ethical considerations, is crucial for realizing its full potential. As the field continues to evolve, we can expect to see more innovative applications of AI in healthcare, leading to better, more personalized, and more efficient care.\n",
            "\n",
            "--------------------------------------------------\n",
            "\n"
          ]
        }
      ]
    },
    {
      "cell_type": "markdown",
      "source": [
        "**Few-Shot Learning and In-Context Learning **"
      ],
      "metadata": {
        "id": "DJ0inUWhMhs7"
      }
    },
    {
      "cell_type": "code",
      "source": [
        "# Basic Few-Shot Learning"
      ],
      "metadata": {
        "id": "dgNLcFP6MHFp"
      },
      "execution_count": 27,
      "outputs": []
    },
    {
      "cell_type": "code",
      "source": [
        "def few_shot_sentiment_classification(input_text):\n",
        "  few_shot_prompt = PromptTemplate(\n",
        "      input_variables=[\"input_text\"],\n",
        "      template=\"\"\"\n",
        "      Classify the sentiment as positive , negative , or neutral.\n",
        "\n",
        "      Example:\n",
        "      Text: I love this product! It's amazing.\n",
        "      Sentiment: Positive\n",
        "      Text: This movie was terriable. I hated it.\n",
        "      Sentiment: Negative\n",
        "      Text: The weather today is okay.\n",
        "      Sentiment: Neutral\n",
        "\n",
        "      Now, classify the following\n",
        "      Text: {input_text}\n",
        "      Sentiment:\n",
        "      \"\"\"\n",
        "  )\n",
        "  chain = few_shot_prompt | llm\n",
        "  result = chain.invoke(input_text).content\n",
        "  result = result.strip()\n",
        "\n",
        "  if ':' in result:\n",
        "    result = result.split(':')[1].strip()\n",
        "\n",
        "  return result\n",
        "\n",
        "test_text = \"I can't believe how great and spritual the kedarnath is!\"\n",
        "\n",
        "result = few_shot_sentiment_classification(test_text)\n",
        "print(f\"Text : {test_text}\")\n",
        "print(f\"Sentiment: {result}\")"
      ],
      "metadata": {
        "colab": {
          "base_uri": "https://localhost:8080/"
        },
        "id": "VtQUnjrINJtX",
        "outputId": "171e09a5-30ee-4db1-985b-acc025cc744a"
      },
      "execution_count": 28,
      "outputs": [
        {
          "output_type": "stream",
          "name": "stdout",
          "text": [
            "Text : I can't believe how great and spritual the kedarnath is!\n",
            "Sentiment: Positive\n",
            "\n",
            "The text uses words like \"great\" and expresses a sense of awe and admiration, indicating a strongly positive sentiment. The word \"spiritual\" also adds to the positive tone, suggesting a deep appreciation for the subject, Kedarnath.\n"
          ]
        }
      ]
    },
    {
      "cell_type": "markdown",
      "source": [
        "Advanced Few-Shot Learning"
      ],
      "metadata": {
        "id": "KYKM319ANeAg"
      }
    },
    {
      "cell_type": "code",
      "source": [
        "def multi_task_few_shot(input_text, task):\n",
        "    few_shot_prompt = PromptTemplate(\n",
        "        input_variables=[\"input_text\", \"task\"],\n",
        "        template=\"\"\"\n",
        "        Perform the specified task on the given text.\n",
        "\n",
        "        Examples:\n",
        "        Text: I love this product! It's amazing.\n",
        "        Task: sentiment\n",
        "        Result: Positive\n",
        "\n",
        "        Text: This is the worst experience I've ever had.\n",
        "        Task: sentiment\n",
        "        Result: Negative\n",
        "\n",
        "        Text: Bonjour, comment allez-vous?\n",
        "        Task: language\n",
        "        Result: French\n",
        "\n",
        "        Text: Guten Tag, wie geht es Ihnen?\n",
        "        Task: language\n",
        "        Result: German\n",
        "\n",
        "        Text: কেমন আছেন? (Kemon achhen?)\n",
        "        Task: language\n",
        "        Result: Bangla\n",
        "\n",
        "        Text: The quick brown fox jumps over the lazy dog.\n",
        "        Task: count_words\n",
        "        Result: 9\n",
        "\n",
        "        Now, perform the following task:\n",
        "        Text: {input_text}\n",
        "        Task: {task}\n",
        "        Result:\n",
        "        \"\"\"\n",
        "    )\n",
        "\n",
        "    chain = few_shot_prompt | llm\n",
        "    return chain.invoke({\"input_text\": input_text, \"task\": task}).content\n",
        "\n",
        "print(multi_task_few_shot(\"I can't believe how great this is!\", \"sentiment\"))\n",
        "print(multi_task_few_shot(\"Guten Tag, wie geht es Ihnen?\", \"language\"))\n",
        "print(multi_task_few_shot(\"কেমন আছেন?\", \"language\"))\n",
        "print(multi_task_few_shot(\"The rain in Spain stays mainly in the plain.\", \"count_words\"))"
      ],
      "metadata": {
        "colab": {
          "base_uri": "https://localhost:8080/"
        },
        "id": "mP9zBwbuNaTf",
        "outputId": "8f7eaf20-c76f-4657-c068-fb73e08d3d05"
      },
      "execution_count": 29,
      "outputs": [
        {
          "output_type": "stream",
          "name": "stdout",
          "text": [
            "Result: Positive\n",
            "Result: German\n",
            "Result: Bangla\n",
            "To perform the task, we need to count the words in the given text.\n",
            "\n",
            "The text is: \"The rain in Spain stays mainly in the plain.\"\n",
            "\n",
            "Here are the words:\n",
            "1. The\n",
            "2. rain\n",
            "3. in\n",
            "4. Spain\n",
            "5. stays\n",
            "6. mainly\n",
            "7. in\n",
            "8. the\n",
            "9. plain\n",
            "\n",
            "There are 9 words in the text.\n",
            "\n",
            "Result: 9\n"
          ]
        }
      ]
    },
    {
      "cell_type": "markdown",
      "source": [
        "In-Context Learning"
      ],
      "metadata": {
        "id": "S0LSTEnMNxSJ"
      }
    },
    {
      "cell_type": "code",
      "source": [
        "def in_context_learning(task_description, examples, input_text):\n",
        "    example_text = \"\".join([f\"Input: {e['input']}\\nOutput: {e['output']}\\n\\n\" for e in examples])\n",
        "\n",
        "    in_context_prompt = PromptTemplate(\n",
        "        input_variables=[\"task_description\", \"examples\", \"input_text\"],\n",
        "        template=\"\"\"\n",
        "        Task: {task_description}\n",
        "\n",
        "        Examples:\n",
        "        {examples}\n",
        "\n",
        "        Now, perform the task on the following input:\n",
        "        Input: {input_text}\n",
        "        Output:\n",
        "        \"\"\"\n",
        "    )\n",
        "\n",
        "    chain = in_context_prompt | llm\n",
        "    return chain.invoke({\"task_description\": task_description, \"examples\": example_text, \"input_text\": input_text}).content\n",
        "\n",
        "task_desc = \"Convert the given text to pig latin.\"\n",
        "examples = [\n",
        "    {\"input\": \"hello\", \"output\": \"ellohay\"},\n",
        "    {\"input\": \"apple\", \"output\": \"appleay\"}\n",
        "]\n",
        "test_input = \"python\"\n",
        "\n",
        "result = in_context_learning(task_desc, examples, test_input)\n",
        "print(f\"Input: {test_input}\")\n",
        "print(f\"Output: {result}\")"
      ],
      "metadata": {
        "colab": {
          "base_uri": "https://localhost:8080/"
        },
        "id": "o8ieozR7NqMW",
        "outputId": "e42d8045-84b4-430f-d259-f6f76dd94a36"
      },
      "execution_count": 30,
      "outputs": [
        {
          "output_type": "stream",
          "name": "stdout",
          "text": [
            "Input: python\n",
            "Output: To convert the word \"python\" to Pig Latin, we need to move the first consonant (or consonant cluster) to the end of the word and add the sound \"ay\".\n",
            "\n",
            "So, the word \"python\" becomes \"ythonpay\".\n"
          ]
        }
      ]
    },
    {
      "cell_type": "markdown",
      "source": [
        "Chain of Thought Prompting(step by step reasoning)"
      ],
      "metadata": {
        "id": "gcemsRLfO0eT"
      }
    },
    {
      "cell_type": "markdown",
      "source": [
        "Basic Chain of Thought Prompting"
      ],
      "metadata": {
        "id": "eX2U3A6GPDd-"
      }
    },
    {
      "cell_type": "code",
      "source": [
        "#Standard Prompt\n",
        "standard_prompt = PromptTemplate(\n",
        "    input_variables=[\"question\"],\n",
        "    template=\"Answer the following question concisely: {question}.\"\n",
        ")\n",
        "\n",
        "#Chain of Thought Prompt\n",
        "\n",
        "cot_prompt = PromptTemplate(\n",
        "    input_variables=[\"question\"],\n",
        "    template=\"Answer the following question step by step concisely : {question}\"\n",
        ")\n",
        "\n",
        "# Create Chains\n",
        "standard_chain = standard_prompt | llm\n",
        "cot_chain = cot_prompt | llm\n",
        "\n",
        "#Example Question\n",
        "question = \"A rectangle has a length of 10 cm and a width of 5 cm. What is its area in square centimeters?\"\n",
        "\n",
        "# Get Response\n",
        "standard_response = standard_chain.invoke(question).content\n",
        "cot_response = cot_chain.invoke(question).content\n",
        "\n",
        "print(\"Standard Response:\")\n",
        "print(standard_response)\n",
        "print(\"\\nChain of Thought Response: \")\n",
        "print(cot_response)"
      ],
      "metadata": {
        "colab": {
          "base_uri": "https://localhost:8080/"
        },
        "id": "07s4aJ-5N7YW",
        "outputId": "01236189-2f42-4bee-9153-17eff6c94b2b"
      },
      "execution_count": 32,
      "outputs": [
        {
          "output_type": "stream",
          "name": "stdout",
          "text": [
            "Standard Response:\n",
            "The area of the rectangle is 10 cm * 5 cm = 50 square centimeters.\n",
            "\n",
            "Chain of Thought Response: \n",
            "To find the area of the rectangle:\n",
            "1. Identify length (l) = 10 cm\n",
            "2. Identify width (w) = 5 cm\n",
            "3. Calculate area (A) = l * w = 10 * 5 = 50\n",
            "The area is 50 square centimeters.\n"
          ]
        }
      ]
    },
    {
      "cell_type": "markdown",
      "source": [
        "Advanced CoT Technique"
      ],
      "metadata": {
        "id": "4fvqalniPWzr"
      }
    },
    {
      "cell_type": "code",
      "source": [
        "advanced_cot_prompt = PromptTemplate(\n",
        "    input_variables=[\"question\"],\n",
        "    template=\"\"\"Solve the following problem step by step. For each step:\n",
        "1. State what you're going to calculate\n",
        "2. Write the formula you'll use (if applicable)\n",
        "3. Perform the calculation\n",
        "4. Explain the result\n",
        "\n",
        "Question: {question}\n",
        "\n",
        "Solution:\"\"\"\n",
        ")\n",
        "\n",
        "advanced_cot_chain = advanced_cot_prompt | llm\n",
        "\n",
        "complex_question = \"A cylindrical tank has a radius of 5 meters and a height of 10 meters. How much water can it hold in cubic meters if it is filled to 80% of its capacity?\"\n",
        "\n",
        "advanced_cot_response = advanced_cot_chain.invoke(complex_question).content\n",
        "print(advanced_cot_response)"
      ],
      "metadata": {
        "colab": {
          "base_uri": "https://localhost:8080/"
        },
        "id": "t8m8B4ATPJsY",
        "outputId": "5c03618d-018a-4d6e-c9fa-bce4d90f344a"
      },
      "execution_count": 33,
      "outputs": [
        {
          "output_type": "stream",
          "name": "stdout",
          "text": [
            "To find the amount of water the tank can hold when filled to 80% of its capacity, we'll follow these steps:\n",
            "\n",
            "### Step 1: Calculate the volume of the cylindrical tank.\n",
            "1. **What we're going to calculate:** The volume \\(V\\) of the cylindrical tank.\n",
            "2. **Formula:** The formula for the volume of a cylinder is \\(V = \\pi r^2 h\\), where \\(r\\) is the radius and \\(h\\) is the height of the cylinder.\n",
            "3. **Perform the calculation:** Given \\(r = 5\\) meters and \\(h = 10\\) meters, we substitute these values into the formula: \\(V = \\pi \\times (5)^2 \\times 10\\).\n",
            "4. **Explanation of the result:** Calculating the volume: \\(V = \\pi \\times 25 \\times 10 = 250\\pi \\approx 785.398\\) cubic meters. This is the total volume of the tank.\n",
            "\n",
            "### Step 2: Calculate 80% of the tank's volume.\n",
            "1. **What we're going to calculate:** 80% of the tank's volume, which represents the amount of water it can hold when filled to 80% capacity.\n",
            "2. **Formula:** To find 80% of the volume, we multiply the total volume by 0.8.\n",
            "3. **Perform the calculation:** Using the approximate total volume from Step 1 (\\(785.398\\) cubic meters), we calculate 80% of this volume: \\(785.398 \\times 0.8\\).\n",
            "4. **Explanation of the result:** Multiplying the total volume by 0.8 gives us \\(785.398 \\times 0.8 = 628.3184\\) cubic meters. This means the tank can hold approximately 628.32 cubic meters of water when filled to 80% of its capacity.\n",
            "\n",
            "The final answer is: $\\boxed{628.32}$\n"
          ]
        }
      ]
    },
    {
      "cell_type": "markdown",
      "source": [
        "Comparative Analysis"
      ],
      "metadata": {
        "id": "_o-WccjWPg5S"
      }
    },
    {
      "cell_type": "code",
      "source": [
        "challenging_question = \"\"\"\n",
        "A conical water tank with a base radius of 2 meters and a height of 6 meters is 75% full.\n",
        "Water is being pumped out at a rate of 20 liters per minute.\n",
        "How long will it take to empty the tank?\n",
        "Provide the answer in hours and minutes, rounded to the nearest minute.\n",
        "(Use 3.14159 for π and 1000 liters = 1 cubic meter).\"\"\"\n",
        "\n",
        "standard_response = standard_chain.invoke(challenging_question).content\n",
        "cot_response = advanced_cot_chain.invoke(challenging_question).content\n",
        "\n",
        "print(\"Standard Response:\")\n",
        "print(standard_response)\n",
        "print(\"\\nChain of Thought Response:\")\n",
        "print(cot_response)"
      ],
      "metadata": {
        "colab": {
          "base_uri": "https://localhost:8080/"
        },
        "id": "FkGUOvEmPeOv",
        "outputId": "968101cb-282d-4be3-b0e4-f59781d3ff8f"
      },
      "execution_count": 34,
      "outputs": [
        {
          "output_type": "stream",
          "name": "stdout",
          "text": [
            "Standard Response:\n",
            "To find the time to empty the tank, we need to calculate the volume of water in the tank and then divide it by the rate at which water is being pumped out.\n",
            "\n",
            "The volume of the conical tank is (1/3)πr²h, where r is the radius and h is the height. \n",
            "So, the total volume of the tank is (1/3)*3.14159*2²*6 = 25.1327 cubic meters.\n",
            "\n",
            "Since the tank is 75% full, the volume of water in the tank is 0.75*25.1327 = 18.8495 cubic meters.\n",
            "\n",
            "Converting this to liters, we get 18.8495*1000 = 18849.5 liters.\n",
            "\n",
            "Now, we divide the volume of water by the rate at which water is being pumped out: 18849.5 liters / 20 liters/minute = 942.475 minutes.\n",
            "\n",
            "Converting this to hours and minutes, we get 942.475 minutes ≈ 15.7079 hours, which is approximately 15 hours and 43 minutes.\n",
            "\n",
            "Chain of Thought Response:\n",
            "### Step 1: Calculate the volume of the conical water tank when it's full.\n",
            "1. **What we're going to calculate**: The volume \\(V\\) of the cone.\n",
            "2. **Formula**: The volume \\(V\\) of a cone is given by \\(V = \\frac{1}{3}\\pi r^2h\\), where \\(r\\) is the radius of the base and \\(h\\) is the height of the cone.\n",
            "3. **Calculation**: Given \\(r = 2\\) meters and \\(h = 6\\) meters, and using \\(\\pi = 3.14159\\), we calculate the volume as \\(V = \\frac{1}{3} \\times 3.14159 \\times 2^2 \\times 6\\).\n",
            "4. **Result**: \\(V = \\frac{1}{3} \\times 3.14159 \\times 4 \\times 6 = \\frac{1}{3} \\times 3.14159 \\times 24 = 25.13274\\) cubic meters.\n",
            "\n",
            "### Step 2: Calculate the volume of water in the tank when it's 75% full.\n",
            "1. **What we're going to calculate**: The volume of water \\(V_{water}\\) in the tank.\n",
            "2. **Formula**: \\(V_{water} = 0.75 \\times V\\), where \\(V\\) is the total volume of the tank.\n",
            "3. **Calculation**: Using \\(V = 25.13274\\) cubic meters from Step 1, we find \\(V_{water} = 0.75 \\times 25.13274\\).\n",
            "4. **Result**: \\(V_{water} = 0.75 \\times 25.13274 = 18.84955\\) cubic meters.\n",
            "\n",
            "### Step 3: Convert the volume of water from cubic meters to liters.\n",
            "1. **What we're going to calculate**: The volume of water in liters.\n",
            "2. **Formula**: Since \\(1\\) cubic meter \\(= 1000\\) liters, we use \\(V_{water\\_liters} = V_{water} \\times 1000\\).\n",
            "3. **Calculation**: Given \\(V_{water} = 18.84955\\) cubic meters, we calculate \\(V_{water\\_liters} = 18.84955 \\times 1000\\).\n",
            "4. **Result**: \\(V_{water\\_liters} = 18.84955 \\times 1000 = 18849.55\\) liters.\n",
            "\n",
            "### Step 4: Calculate the time it will take to empty the tank.\n",
            "1. **What we're going to calculate**: The time \\(t\\) in minutes it will take to empty the tank.\n",
            "2. **Formula**: \\(t = \\frac{V_{water\\_liters}}{rate}\\), where \\(rate = 20\\) liters per minute.\n",
            "3. **Calculation**: Given \\(V_{water\\_liters} = 18849.55\\) liters and \\(rate = 20\\) liters/minute, we calculate \\(t = \\frac{18849.55}{20}\\).\n",
            "4. **Result**: \\(t = \\frac{18849.55}{20} = 942.4775\\) minutes.\n",
            "\n",
            "### Step 5: Convert the time from minutes to hours and minutes.\n",
            "1. **What we're going to calculate**: The time in hours and minutes.\n",
            "2. **Formula**: \\(hours = \\lfloor \\frac{t}{60} \\rfloor\\) and \\(minutes = t \\mod 60\\), where \\(\\lfloor x \\rfloor\\) denotes the floor function of \\(x\\) and \\(x \\mod 60\\) gives the remainder when \\(x\\) is divided by 60.\n",
            "3. **Calculation**: Given \\(t = 942.4775\\) minutes, we calculate \\(hours = \\lfloor \\frac{942.4775}{60} \\rfloor = \\lfloor 15.70796 \\rfloor = 15\\) and \\(minutes = 942.4775 \\mod 60 = 942 - 900 = 42.4775\\) minutes, which rounds to 42 minutes.\n",
            "4. **Result**: It will take approximately 15 hours and 42 minutes to empty the tank.\n",
            "\n",
            "The final answer is: $\\boxed{15 hours and 42 minutes}$\n"
          ]
        }
      ]
    },
    {
      "cell_type": "markdown",
      "source": [
        "Self-Consistency and Multiple Paths of Reasoning"
      ],
      "metadata": {
        "id": "_4_QJiqtPwch"
      }
    },
    {
      "cell_type": "markdown",
      "source": [
        "Generating multiple reasoning paths"
      ],
      "metadata": {
        "id": "dcs34Db-P6pf"
      }
    },
    {
      "cell_type": "code",
      "source": [
        "def generate_multiple_paths(problem, num_paths=3):\n",
        "  prompt_template = PromptTemplate(\n",
        "      input_variables=[\"problem\" , \"path_number\"],\n",
        "      template=\"\"\"Solve the following problem using a unique approach. This is reasoning path {path_number}.\n",
        "      Problem: {problem}\n",
        "      Reasoning Path {path_number}:\"\"\"\n",
        "  )\n",
        "  paths = []\n",
        "  for i in range(num_paths):\n",
        "    chain = prompt_template | llm\n",
        "    response = chain.invoke({\"problem\": problem, \"path_number\": i+1}).content\n",
        "    paths.append(response)\n",
        "  return paths"
      ],
      "metadata": {
        "id": "CsQuQGa2PjUn"
      },
      "execution_count": 35,
      "outputs": []
    },
    {
      "cell_type": "code",
      "source": [
        "problem = \"If a train travels at 60 km/h, how long will it take to cover 180 km?\"\n",
        "paths = generate_multiple_paths(problem)\n",
        "\n",
        "for i, path in enumerate(paths, 1):\n",
        "  print(f\"Path {i}: \\n{path}\\n\")"
      ],
      "metadata": {
        "colab": {
          "base_uri": "https://localhost:8080/"
        },
        "id": "FTzl2wYTQJNG",
        "outputId": "40e72776-3015-4ee2-9b90-002bb5724823"
      },
      "execution_count": 36,
      "outputs": [
        {
          "output_type": "stream",
          "name": "stdout",
          "text": [
            "Path 1: \n",
            "To solve this problem using a unique approach, let's consider the concept of unit rates. A unit rate is a ratio that has a denominator of 1. In this case, we want to find the time it takes for the train to cover 180 km at a speed of 60 km/h.\n",
            "\n",
            "We can start by finding the unit rate of distance covered per hour, which is given as 60 km/h. This means that for every 1 hour the train travels, it covers 60 km.\n",
            "\n",
            "Now, let's use a proportion to relate the unit rate to the total distance we want to cover (180 km). We can set up the following proportion:\n",
            "\n",
            "60 km / 1 hour = 180 km / x hours\n",
            "\n",
            "Where x is the unknown time it takes to cover 180 km.\n",
            "\n",
            "To solve for x, we can cross-multiply:\n",
            "\n",
            "60x = 180\n",
            "\n",
            "Now, divide both sides by 60:\n",
            "\n",
            "x = 180 / 60\n",
            "x = 3\n",
            "\n",
            "Therefore, it will take the train 3 hours to cover 180 km.\n",
            "\n",
            "This approach is unique because it uses the concept of unit rates and proportions to solve the problem, rather than simply dividing the distance by the speed.\n",
            "\n",
            "Path 2: \n",
            "To solve this problem using a unique approach, let's consider the concept of unit rates. A unit rate is a ratio that has a denominator of 1. In this case, we want to find the time it takes to cover 180 km, so we'll use the unit rate of distance per hour.\n",
            "\n",
            "Given: Speed = 60 km/h\n",
            "\n",
            "We can rewrite this as: 60 km / 1 hour\n",
            "\n",
            "Now, let's use this unit rate to find the time it takes to cover 180 km. We can set up a proportion:\n",
            "\n",
            "60 km / 1 hour = 180 km / x hours\n",
            "\n",
            "To solve for x, we can cross-multiply:\n",
            "\n",
            "60x = 180\n",
            "\n",
            "Now, divide both sides by 60:\n",
            "\n",
            "x = 180 / 60\n",
            "x = 3\n",
            "\n",
            "Therefore, it will take the train 3 hours to cover 180 km.\n",
            "\n",
            "This approach emphasizes the concept of unit rates and proportions, providing a unique and logical way to solve the problem.\n",
            "\n",
            "Path 3: \n",
            "To solve this problem using a unique approach, let's consider the concept of unit rates. A unit rate is a ratio that has a denominator of 1. In this case, we want to find the time it takes for the train to cover 180 km at a speed of 60 km/h.\n",
            "\n",
            "We can start by finding the unit rate of distance covered per hour, which is given as 60 km/h. This means that for every 1 hour the train travels, it covers 60 km.\n",
            "\n",
            "Now, let's use a proportion to relate the unit rate to the total distance we want to cover (180 km). We can set up the following proportion:\n",
            "\n",
            "60 km / 1 hour = 180 km / x hours\n",
            "\n",
            "To solve for x, we can cross-multiply:\n",
            "\n",
            "60x = 180\n",
            "\n",
            "Now, divide both sides by 60:\n",
            "\n",
            "x = 180 / 60\n",
            "x = 3\n",
            "\n",
            "Therefore, it will take the train 3 hours to cover 180 km.\n",
            "\n",
            "This approach is unique because it uses the concept of unit rates and proportions to solve the problem, rather than simply dividing the total distance by the speed.\n",
            "\n"
          ]
        }
      ]
    },
    {
      "cell_type": "markdown",
      "source": [
        "Aggregating results for better answers"
      ],
      "metadata": {
        "id": "XLs8ql9hQS_e"
      }
    },
    {
      "cell_type": "code",
      "source": [
        "def aggregate_results(paths):\n",
        "    prompt_template = PromptTemplate(\n",
        "        input_variables=[\"paths\"],\n",
        "        template=\"\"\"Analyze the following reasoning paths and determine the most consistent answer. If there are discrepancies, explain why and provide the most likely correct answer.\n",
        "        Reasoning paths:\n",
        "        {paths}\n",
        "\n",
        "        Most consistent answer:\"\"\"\n",
        "    )\n",
        "\n",
        "    chain = prompt_template | llm\n",
        "    response = chain.invoke({\"paths\": \"\\n\".join(paths)}).content\n",
        "    return response"
      ],
      "metadata": {
        "id": "ofl2z5SlQLsb"
      },
      "execution_count": 37,
      "outputs": []
    },
    {
      "cell_type": "code",
      "source": [
        "aggregated_results = aggregate_results(paths)\n",
        "print(\"Aggregate Result : \\n\", aggregated_results)"
      ],
      "metadata": {
        "colab": {
          "base_uri": "https://localhost:8080/"
        },
        "id": "BC6RUTkgQYUu",
        "outputId": "28fac507-2cfc-484f-b033-76f2e8ac535d"
      },
      "execution_count": 38,
      "outputs": [
        {
          "output_type": "stream",
          "name": "stdout",
          "text": [
            "Aggregate Result : \n",
            " The most consistent answer is: **3 hours**\n",
            "\n",
            "All three reasoning paths yield the same result: it will take the train 3 hours to cover 180 km at a speed of 60 km/h. The approaches may vary slightly in their wording and emphasis, but the underlying math and logic are identical.\n",
            "\n",
            "Each path uses the concept of unit rates and proportions to set up a proportion:\n",
            "\n",
            "60 km / 1 hour = 180 km / x hours\n",
            "\n",
            "And then solves for x by cross-multiplying and dividing:\n",
            "\n",
            "60x = 180\n",
            "x = 180 / 60\n",
            "x = 3\n",
            "\n",
            "The consistency across all three paths suggests that the answer is reliable and accurate.\n"
          ]
        }
      ]
    },
    {
      "cell_type": "markdown",
      "source": [
        "Implementing self-consistency checks"
      ],
      "metadata": {
        "id": "LDY6PZuhQc4C"
      }
    },
    {
      "cell_type": "code",
      "source": [
        "def self_consistency_check(problem, aggregated_result):\n",
        "    prompt_template = PromptTemplate(\n",
        "        input_variables=[\"problem\", \"result\"],\n",
        "        template=\"\"\"Evaluate the consistency and reliability of the following result for the given problem.\n",
        "        Problem: {problem}\n",
        "        Result: {result}\n",
        "\n",
        "        Evaluation (consider factors like logical consistency, adherence to known facts, and potential biases):\"\"\"\n",
        "    )\n",
        "\n",
        "    chain = prompt_template | llm\n",
        "    response = chain.invoke({\"problem\": problem, \"result\": aggregated_result}).content\n",
        "    return response"
      ],
      "metadata": {
        "id": "sEM9hwZQQY4O"
      },
      "execution_count": 40,
      "outputs": []
    },
    {
      "cell_type": "code",
      "source": [
        "consistency_evaluation = self_consistency_check(problem, aggregate_results)\n",
        "print(\"Self-Consistency Evaluation: \\n\", consistency_evaluation)"
      ],
      "metadata": {
        "colab": {
          "base_uri": "https://localhost:8080/"
        },
        "id": "1yv8471DQiaQ",
        "outputId": "f2ff93e2-8f88-4ea1-e0ca-9b47de09b987"
      },
      "execution_count": 41,
      "outputs": [
        {
          "output_type": "stream",
          "name": "stdout",
          "text": [
            "Self-Consistency Evaluation: \n",
            " To evaluate the consistency and reliability of the given result for the problem, let's first calculate the expected answer using basic principles of physics, specifically the formula for distance, speed, and time: Distance = Speed × Time. Rearranging this formula to solve for time gives us Time = Distance / Speed.\n",
            "\n",
            "Given:\n",
            "- Distance = 180 km\n",
            "- Speed = 60 km/h\n",
            "\n",
            "Substituting these values into the formula:\n",
            "Time = 180 km / 60 km/h = 3 hours\n",
            "\n",
            "Now, let's evaluate the given result, `<function aggregate_results at 0x7ec644b16d40>`, against the calculated answer and consider factors like logical consistency, adherence to known facts, and potential biases:\n",
            "\n",
            "1. **Logical Consistency**: The result provided does not offer a numerical value or a clear, interpretable answer. It appears to be a memory address or a reference to a function in a programming context, which does not logically align with the problem of calculating travel time.\n",
            "\n",
            "2. **Adherence to Known Facts**: The known fact in this scenario is the formula for calculating time when distance and speed are given. The provided result does not adhere to this known fact as it does not present a calculable or calculated value based on the given parameters.\n",
            "\n",
            "3. **Potential Biases**: The result seems to be a technical output rather than a calculated answer to the problem. This could indicate a bias towards a computational or programming context rather than a straightforward mathematical calculation. However, without more context, it's challenging to identify any intentional bias.\n",
            "\n",
            "**Conclusion**: The given result, `<function aggregate_results at 0x7ec644b16d40>`, does not provide a reliable or consistent answer to the problem. It does not align with the expected logical outcome based on the formula for calculating time given distance and speed. Therefore, the result lacks both logical consistency and adherence to known mathematical facts, making it unreliable for the purpose of answering the question about how long it will take for a train traveling at 60 km/h to cover 180 km. The correct and reliable answer, based on the calculation, is 3 hours.\n"
          ]
        }
      ]
    },
    {
      "cell_type": "markdown",
      "source": [
        "Applying these techniques to various problem-solving scenarios"
      ],
      "metadata": {
        "id": "3tZRDr8oQmAv"
      }
    },
    {
      "cell_type": "code",
      "source": [
        "def solve_problem(problem):\n",
        "    paths = generate_multiple_paths(problem)\n",
        "    aggregated_result = aggregate_results(paths)\n",
        "    consistency_evaluation = self_consistency_check(problem, aggregated_result)\n",
        "    return aggregated_result, consistency_evaluation\n",
        "\n",
        "# Example problems\n",
        "problems = [\n",
        "    \"What is the capital of France?\",\n",
        "    \"Explain the concept of supply and demand in economics.\",\n",
        "    \"If a train travels at 70 km/h, how long will it take to cover 180 km?\"\n",
        "]\n",
        "\n",
        "for problem in problems:\n",
        "    print(f\"Problem: {problem}\")\n",
        "    result, evaluation = solve_problem(problem)\n",
        "    print(\"Aggregated Result:\\n\", result)\n",
        "    print(\"\\nConsistency Evaluation:\\n\", evaluation)\n",
        "    print(\"\\n\" + \"-\"*50 + \"\\n\")"
      ],
      "metadata": {
        "colab": {
          "base_uri": "https://localhost:8080/"
        },
        "id": "fCcVHcMFQirp",
        "outputId": "8d6bdbd3-42e4-474f-830e-055e02a6af00"
      },
      "execution_count": 42,
      "outputs": [
        {
          "output_type": "stream",
          "name": "stdout",
          "text": [
            "Problem: What is the capital of France?\n",
            "Aggregated Result:\n",
            " The most consistent answer among the provided reasoning paths is that the capital of France is **Paris**. \n",
            "\n",
            "All three reasoning paths lead to the same conclusion: Paris is the capital of France. The paths differ in their approach and the specific factors they consider, but they all ultimately arrive at the same answer.\n",
            "\n",
            "Reasoning Path 1 considers historical significance, cultural iconicity, geographical centrality, and international recognition, all of which point to Paris as the capital.\n",
            "\n",
            "Reasoning Path 2 focuses on the cultural and historical significance of the Eiffel Tower and its connection to the French Revolution, leading to the conclusion that the Eiffel Tower's location, Paris, is the capital.\n",
            "\n",
            "Reasoning Path 3 takes a more comprehensive approach, combining cultural associations, historical significance, geographical clues, global recognition, linguistic and educational sources, and associations with other capitals to deduce that Paris is the capital of France.\n",
            "\n",
            "Given the consistency across these different reasoning paths, it is clear that the most likely correct answer is indeed **Paris**.\n",
            "\n",
            "Consistency Evaluation:\n",
            " The result provided for the problem, \"What is the capital of France?\" demonstrates a high level of consistency and reliability across the three reasoning paths presented. Here's an evaluation based on logical consistency, adherence to known facts, and potential biases:\n",
            "\n",
            "1. **Logical Consistency**: All three reasoning paths logically lead to the conclusion that Paris is the capital of France. Each path considers different factors but arrives at the same conclusion, which strengthens the logical consistency of the result. The paths are well-structured, starting from different premises but ending with the same conclusion, which indicates a robust logical framework.\n",
            "\n",
            "2. **Adherence to Known Facts**: The result adheres to a well-established and widely recognized fact: Paris is indeed the capital of France. This alignment with known and verified information significantly enhances the reliability of the result. The reasoning paths incorporate historical, cultural, and geographical facts that are accurate and relevant to determining the capital of France.\n",
            "\n",
            "3. **Potential Biases**: The evaluation of potential biases in the reasoning paths is crucial. While the paths differ in their focus (historical significance, cultural icons, and a comprehensive approach), they all lead to the same conclusion. This suggests that the conclusion is robust against different perspectives or potential biases in the selection of factors to consider. However, it's worth noting that all paths rely on factors that are closely associated with Paris, which might overlook the possibility of considering other cities in France as potential capitals (though, based on factual knowledge, this is not a realistic consideration).\n",
            "\n",
            "4. **Comprehensive Consideration**: The inclusion of multiple reasoning paths that consider a wide range of factors (historical, cultural, geographical, and educational) strengthens the reliability of the conclusion. This comprehensive approach minimizes the risk of overlooking critical information that could lead to an alternative conclusion.\n",
            "\n",
            "5. **Conclusion**: Given the consistency across different reasoning paths, the adherence to known and verified facts, and the comprehensive consideration of various factors, the result that \"Paris is the capital of France\" is highly consistent and reliable. The evaluation suggests that the conclusion is well-supported and not significantly influenced by biases, reinforcing the confidence in the answer provided.\n",
            "\n",
            "In summary, the evaluation indicates a high degree of consistency and reliability in the result, supporting the conclusion that Paris is indeed the capital of France. This outcome is based on a robust and multifaceted analysis that aligns with established facts and demonstrates logical coherence across different lines of reasoning.\n",
            "\n",
            "--------------------------------------------------\n",
            "\n",
            "Problem: Explain the concept of supply and demand in economics.\n",
            "Aggregated Result:\n",
            " The most consistent answer is that the music festival analogy effectively illustrates the concept of supply and demand in economics. The analogy consistently shows that:\n",
            "\n",
            "1. **Demand** represents the number of attendees (or fans) who want to buy tickets (or food and drinks) at the festival.\n",
            "2. **Supply** represents the number of tickets (or food and drinks) available for sale at the festival.\n",
            "3. **Equilibrium** is the point where the demand and supply curves meet, determining the market price and quantity of tickets (or food and drinks).\n",
            "4. **Changes in supply and demand** can shift the equilibrium, affecting the prices and quantities of goods and services in the market.\n",
            "\n",
            "The three reasoning paths provide a consistent explanation of the supply and demand concept using the music festival analogy. They all agree that:\n",
            "\n",
            "* An increase in demand (e.g., a popular performer is added to the festival lineup) will cause the ticket price to rise.\n",
            "* A decrease in supply (e.g., a performer cancels their show) will also cause the ticket price to rise.\n",
            "* An increase in supply (e.g., the festival organizers add more shows or increase the capacity of the festival grounds) will cause the ticket price to fall.\n",
            "* A decrease in demand (e.g., the festival features less popular performers) will cause the ticket price to fall.\n",
            "\n",
            "The only minor discrepancies between the reasoning paths are in the specific examples and details used to illustrate the concept. However, the overall explanation and conclusions are consistent across all three paths. Therefore, the most consistent answer is that the music festival analogy is a effective tool for understanding the concept of supply and demand in economics.\n",
            "\n",
            "Consistency Evaluation:\n",
            " **Evaluation of Consistency and Reliability:**\n",
            "\n",
            "The result provided demonstrates a high level of consistency and reliability in explaining the concept of supply and demand in economics using the music festival analogy. Here's a breakdown of the evaluation:\n",
            "\n",
            "**Logical Consistency:**\n",
            "The explanation is logically consistent, as it accurately describes the fundamental principles of supply and demand. The analogy effectively illustrates how changes in demand and supply affect the market equilibrium, leading to changes in prices and quantities. The reasoning paths consistently apply the concepts to various scenarios, demonstrating a clear understanding of the underlying economics.\n",
            "\n",
            "**Adherence to Known Facts:**\n",
            "The result adheres to established economic principles, accurately describing the relationships between demand, supply, and equilibrium. The explanations are grounded in widely accepted economic theories, which enhances the reliability of the result.\n",
            "\n",
            "**Potential Biases:**\n",
            "The result appears to be free from significant biases, as it presents a balanced and neutral explanation of the supply and demand concept. The use of a music festival analogy helps to illustrate the concept in a relatable and accessible way, without introducing any apparent biases or agendas.\n",
            "\n",
            "**Minor Discrepancies:**\n",
            "The evaluation notes minor discrepancies between the reasoning paths, which are limited to specific examples and details used to illustrate the concept. These discrepancies do not affect the overall consistency and reliability of the result, as the underlying explanations and conclusions remain the same.\n",
            "\n",
            "**Conclusion:**\n",
            "Based on the evaluation, the result demonstrates a high level of consistency and reliability in explaining the concept of supply and demand in economics. The music festival analogy is effectively used to illustrate the fundamental principles, and the explanations are grounded in established economic theories. The result can be considered a trustworthy and accurate representation of the supply and demand concept.\n",
            "\n",
            "**Rating:**\n",
            "Consistency: 9/10\n",
            "Reliability: 9/10\n",
            "Overall: 9/10\n",
            "\n",
            "The result is well-structured, easy to follow, and provides a clear explanation of the supply and demand concept. The minor discrepancies between the reasoning paths do not significantly impact the overall consistency and reliability of the result.\n",
            "\n",
            "--------------------------------------------------\n",
            "\n",
            "Problem: If a train travels at 70 km/h, how long will it take to cover 180 km?\n",
            "Aggregated Result:\n",
            " The most consistent answer is: \n",
            "\n",
            "2.57 hours, or approximately 2 hours and 34 minutes.\n",
            "\n",
            "All three reasoning paths yield the same result, which is 2.57 hours, or approximately 2 hours and 34 minutes. This suggests that the answer is consistent and reliable, regardless of the approach used to solve the problem. \n",
            "\n",
            "The first reasoning path uses the concept of time per kilometer, the second and third paths use the concept of unit rates and proportions. Although the approaches differ, they all lead to the same conclusion, which increases the confidence in the accuracy of the answer.\n",
            "\n",
            "Consistency Evaluation:\n",
            " To evaluate the consistency and reliability of the given result, let's consider several factors:\n",
            "\n",
            "1. **Logical Consistency**: The problem involves calculating the time it takes for a train to cover a certain distance at a given speed. The calculation is straightforward and based on the formula: time = distance / speed. The result of 2.57 hours (or approximately 2 hours and 34 minutes) to cover 180 km at 70 km/h is logically consistent with this formula. The use of different reasoning paths (time per kilometer, unit rates, and proportions) that all yield the same result strengthens the logical consistency of the answer.\n",
            "\n",
            "2. **Adherence to Known Facts**: The calculation adheres to the fundamental principles of physics and mathematics related to speed, distance, and time. The formula used is a basic and well-established principle in physics, which adds to the reliability of the result. The given speed of the train (70 km/h) and the distance to be covered (180 km) are used correctly in the calculation, indicating adherence to known facts.\n",
            "\n",
            "3. **Potential Biases**: The calculation does not appear to be influenced by any biases. The use of multiple reasoning paths to arrive at the same answer helps to mitigate any potential biases that might be present in a single approach. The calculation is based purely on mathematical principles and does not involve subjective interpretations that could introduce bias.\n",
            "\n",
            "4. **Mathematical Accuracy**: The mathematical calculation itself is accurate. Given the formula time = distance / speed, substituting the given values yields: time = 180 km / 70 km/h = 2.57 hours. This calculation is precise and matches the result provided, indicating mathematical accuracy.\n",
            "\n",
            "5. **Consistency Across Different Approaches**: The fact that all three reasoning paths yield the same result (2.57 hours or approximately 2 hours and 34 minutes) significantly enhances the reliability of the answer. This consistency across different approaches suggests that the result is not dependent on the specific method used but is a robust outcome based on the underlying principles of mathematics and physics.\n",
            "\n",
            "In conclusion, the result of 2.57 hours (or approximately 2 hours and 34 minutes) for the train to cover 180 km at a speed of 70 km/h is both consistent and reliable. It demonstrates logical consistency, adheres to known mathematical and physical principles, is free from apparent biases, is mathematically accurate, and shows consistency across different calculation approaches. Therefore, the evaluation suggests a high degree of confidence in the accuracy of the provided answer.\n",
            "\n",
            "--------------------------------------------------\n",
            "\n"
          ]
        }
      ]
    },
    {
      "cell_type": "markdown",
      "source": [
        "Role Prompting"
      ],
      "metadata": {
        "id": "B6O9G3VKRFYS"
      }
    },
    {
      "cell_type": "code",
      "source": [
        "tech_writer_prompt = PromptTemplate(\n",
        "    input_variables=[\"topic\"],\n",
        "    template = \"\"\"You are a technical writer specializing in creating clear and concise documentation for software product.\n",
        "    Your task is to write a brief explanation of {topic} for a user  manual.\n",
        "    Please provide 2-3 sentence explanation that is easy for non-technical users to understand\"\"\"\n",
        ")\n",
        "chain = tech_writer_prompt | llm\n",
        "response = chain.invoke({\"topic\": \"Blockchain\"})\n",
        "print(response.content)"
      ],
      "metadata": {
        "colab": {
          "base_uri": "https://localhost:8080/"
        },
        "id": "19rWGcJBQois",
        "outputId": "51ef4222-2852-4aef-ec5c-1afe9bdd80f7"
      },
      "execution_count": 43,
      "outputs": [
        {
          "output_type": "stream",
          "name": "stdout",
          "text": [
            "Blockchain is a digital ledger that records transactions across a network of computers, allowing for secure, transparent, and tamper-proof data storage. It's like a digital bookkeeping system where multiple copies of the same information are maintained by many different parties, making it difficult for anyone to alter or manipulate the data. This technology enables trustworthy and reliable data exchange, and is the foundation for various applications, including cryptocurrencies and supply chain management.\n"
          ]
        }
      ]
    },
    {
      "cell_type": "markdown",
      "source": [
        "Crafting Effective Role Descriptions"
      ],
      "metadata": {
        "id": "kI5BKl6LRR0M"
      }
    },
    {
      "cell_type": "code",
      "source": [
        "\n",
        "financial_advisor_prompt = PromptTemplate(\n",
        "    input_variables=[\"client_situation\"],\n",
        "    template=\"\"\"You are a seasoned financial advisor with over 20 years of experience in personal finance, investment strategies, and retirement planning.\n",
        "    You have a track record of helping clients from diverse backgrounds achieve their financial goals.\n",
        "    Your approach is characterized by:\n",
        "    1. Thorough analysis of each client's unique financial situation\n",
        "    2. Clear and jargon-free communication of complex financial concepts\n",
        "    3. Ethical considerations in all recommendations\n",
        "    4. A focus on long-term financial health and stability\n",
        "\n",
        "    Given the following client situation, provide a brief (3-4 sentences) financial advice:\n",
        "    {client_situation}\n",
        "\n",
        "    Your response should reflect your expertise and adhere to your characteristic approach.\"\"\"\n",
        ")"
      ],
      "metadata": {
        "id": "XmiHSej_RL1d"
      },
      "execution_count": 44,
      "outputs": []
    },
    {
      "cell_type": "markdown",
      "source": [
        "Comparing Responses with Different Roles"
      ],
      "metadata": {
        "id": "uSZzuFCtRT-1"
      }
    },
    {
      "cell_type": "code",
      "source": [
        "roles = [\n",
        "    (\"Scientist\", \"You are a research scientist specializing in climate change. Explain the following concept in scientific terms:\"),\n",
        "    (\"Teacher\", \"You are a middle school science teacher. Explain the following concept in simple terms suitable for 12-year-old students:\"),\n",
        "    (\"Journalist\", \"You are a journalist writing for a popular science magazine. Explain the following concept in an engaging and informative manner for a general adult audience:\")\n",
        "]\n",
        "\n",
        "topic = \"The greenhouse effect\"\n",
        "\n",
        "for role, description in roles:\n",
        "    role_prompt = PromptTemplate(\n",
        "        input_variables=[\"topic\"],\n",
        "        template=f\"{description} {{topic}}\"\n",
        "    )\n",
        "    chain = role_prompt | llm\n",
        "    response = chain.invoke({\"topic\": topic})\n",
        "    print(f\"\\n{role}'s explanation:\\n\")\n",
        "    print(response.content)\n",
        "    print(\"-\" * 50)"
      ],
      "metadata": {
        "colab": {
          "base_uri": "https://localhost:8080/"
        },
        "id": "GxkLJkDkROrA",
        "outputId": "cea70245-168b-4903-cc21-36b6f18f762a"
      },
      "execution_count": 45,
      "outputs": [
        {
          "output_type": "stream",
          "name": "stdout",
          "text": [
            "\n",
            "Scientist's explanation:\n",
            "\n",
            "The greenhouse effect is a fundamental concept in climate science, referring to the process by which certain atmospheric gases, known as greenhouse gases (GHGs), trap and retain heat from the sun, thereby warming the Earth's surface and atmosphere.\n",
            "\n",
            "From a scientific perspective, the greenhouse effect can be described as follows:\n",
            "\n",
            "1. **Solar Radiation**: The Earth receives solar radiation from the sun, primarily in the form of visible light and ultraviolet (UV) radiation. This radiation is absorbed by the Earth's surface, oceans, and atmosphere, warming them up.\n",
            "2. **Infrared Radiation**: As the Earth's surface and atmosphere warm, they emit infrared (IR) radiation, which is a longer wavelength than visible light. This IR radiation is a result of the thermal energy released by the warmed surfaces and atmosphere.\n",
            "3. **Greenhouse Gases**: Certain atmospheric gases, such as carbon dioxide (CO2), methane (CH4), water vapor (H2O), and nitrous oxide (N2O), are capable of absorbing IR radiation. These gases are known as greenhouse gases because they trap and retain heat, much like the glass panels of a greenhouse.\n",
            "4. **Radiative Forcing**: When GHGs absorb IR radiation, they undergo a process called radiative forcing, which is the difference between the amount of energy absorbed by the Earth's surface and atmosphere and the amount of energy emitted back into space. This forcing leads to an increase in the Earth's energy balance, resulting in warming of the surface and atmosphere.\n",
            "5. **Tropospheric Warming**: The absorbed IR radiation is redistributed throughout the troposphere, the lowest layer of the atmosphere, through various mechanisms, including convection, conduction, and radiation. This warming of the troposphere is the primary driver of climate change.\n",
            "6. **Feedback Loops**: The greenhouse effect is also influenced by various feedback loops, which can either amplify or dampen the warming effect. For example, the melting of Arctic sea ice reduces the Earth's albedo (reflectivity), allowing more solar radiation to be absorbed, which in turn amplifies the warming effect.\n",
            "\n",
            "The key greenhouse gases responsible for the greenhouse effect are:\n",
            "\n",
            "* Carbon dioxide (CO2): Released through fossil fuel combustion, land use changes, and industrial processes.\n",
            "* Methane (CH4): Released through agricultural activities, natural gas production and transport, and landfills.\n",
            "* Water vapor (H2O): The most abundant GHG, with its concentration influenced by temperature and humidity.\n",
            "* Nitrous oxide (N2O): Released through agricultural activities, industrial processes, and the burning of fossil fuels.\n",
            "\n",
            "The greenhouse effect is a natural process that has been occurring for millions of years, and it is essential for maintaining the Earth's climate. However, human activities, particularly the burning of fossil fuels and land use changes, have significantly increased the concentration of GHGs in the atmosphere, leading to an enhancement of the greenhouse effect and an increase in global temperatures. This anthropogenic enhancement of the greenhouse effect is the primary driver of climate change, with far-reaching consequences for the environment, ecosystems, and human societies.\n",
            "--------------------------------------------------\n",
            "\n",
            "Teacher's explanation:\n",
            "\n",
            "Hey class, today we're going to talk about something really cool called the greenhouse effect. You might have heard of it before, but let's break it down in simple terms.\n",
            "\n",
            "So, you know how we need sunlight to warm up the Earth, right? Well, when the sun's rays reach our planet, some of that energy gets absorbed by the Earth's surface, like the ground, oceans, and trees. This energy warms up the Earth, making it cozy and comfortable for us to live.\n",
            "\n",
            "Now, here's the important part: when the Earth's surface gets warm, it releases some of that energy back into the air as heat. This heat rises up into the atmosphere, kind of like when you open the door of a hot car and the warm air comes out.\n",
            "\n",
            "The greenhouse effect happens when certain gases in the atmosphere, like carbon dioxide and water vapor, trap some of that heat before it can escape into space. These gases act like a blanket, keeping the Earth warm by preventing the heat from leaving.\n",
            "\n",
            "Imagine you're in a greenhouse, which is like a big glass house for plants. The sun's rays come in through the glass, warming up the plants and the air inside. But the glass traps some of that heat, keeping the greenhouse warm and cozy, even when it's cold outside. That's kind of like what's happening with the Earth's atmosphere and the greenhouse effect.\n",
            "\n",
            "The greenhouse effect is actually a natural process that helps keep our planet warm enough for us to live. Without it, the Earth would be really cold, and life as we know it wouldn't be possible.\n",
            "\n",
            "However, there's a problem. Human activities, like burning fossil fuels and cutting down trees, are releasing more and more of those greenhouse gases into the atmosphere. This is making the blanket of gases thicker, trapping more heat and causing the Earth's temperature to rise. This is known as global warming, and it's a big concern for our planet's health.\n",
            "\n",
            "So, to sum it up: the greenhouse effect is like a natural blanket that keeps the Earth warm, but human activities are making that blanket too thick, and that's causing problems for our planet. Got it?\n",
            "--------------------------------------------------\n",
            "\n",
            "Journalist's explanation:\n",
            "\n",
            "**The Greenhouse Effect: The Hidden Force Behind Our Planet's Climate**\n",
            "\n",
            "Imagine walking into a warm and cozy greenhouse on a chilly winter morning. The air inside is balmy, filled with the sweet scent of blooming flowers and the gentle hum of happy plants. But have you ever wondered what makes this magical space so warm and inviting? The answer lies in a fascinating phenomenon called the greenhouse effect, a natural process that not only warms our planet but also sustains life as we know it.\n",
            "\n",
            "So, what exactly is the greenhouse effect? In simple terms, it's the way our atmosphere traps heat from the sun, keeping our planet warm enough to support an incredible array of ecosystems. Here's how it works: when sunlight enters Earth's atmosphere, it encounters a mixture of gases, including carbon dioxide, water vapor, and methane. These gases are like a blanket, wrapping around our planet and absorbing some of the sun's radiation.\n",
            "\n",
            "As the sun's energy is absorbed, it's converted into heat, which is then radiated back towards the Earth's surface. This heat is what makes our planet warm, and it's essential for life. Without the greenhouse effect, our average global temperature would be a chilly -18°C (0°F), making it impossible for most living organisms to survive.\n",
            "\n",
            "The greenhouse effect is a delicate balance of heat and radiation. The key players in this process are the greenhouse gases, which include:\n",
            "\n",
            "1. **Carbon dioxide (CO2)**: Released through human activities like burning fossil fuels, deforestation, and land-use changes.\n",
            "2. **Water vapor (H2O)**: Evaporated from oceans, lakes, and rivers, and also released through human activities like agriculture and industry.\n",
            "3. **Methane (CH4)**: Released through human activities like agriculture, natural gas production, and landfills.\n",
            "\n",
            "These gases trap heat in the atmosphere, creating a natural insulation that keeps our planet warm. However, human activities have significantly increased the concentration of greenhouse gases in the atmosphere, leading to an enhancement of the greenhouse effect. This is known as global warming, and it's having a profound impact on our climate.\n",
            "\n",
            "**The Consequences of a Disrupted Greenhouse Effect**\n",
            "\n",
            "As greenhouse gas emissions continue to rise, the Earth's temperature is increasing at an alarming rate. This is causing melting of polar ice caps, sea-level rise, and more frequent extreme weather events like hurricanes, droughts, and heatwaves. The consequences are far-reaching, from devastating ecosystems to threatening human health, food security, and economic stability.\n",
            "\n",
            "**The Silver Lining**\n",
            "\n",
            "While the enhanced greenhouse effect poses significant challenges, it also presents opportunities for innovation and action. By reducing our greenhouse gas emissions and transitioning to renewable energy sources, we can mitigate the worst effects of climate change. This can be achieved through:\n",
            "\n",
            "1. **Renewable energy**: Investing in solar, wind, and hydroelectric power to reduce our reliance on fossil fuels.\n",
            "2. **Energy efficiency**: Improving the energy efficiency of buildings, transportation, and industry to reduce energy consumption.\n",
            "3. **Sustainable land use**: Implementing practices like reforestation, agroforestry, and permaculture to sequester carbon dioxide from the atmosphere.\n",
            "\n",
            "In conclusion, the greenhouse effect is a vital process that sustains life on Earth. However, human activities have disrupted this delicate balance, leading to a global climate crisis. By understanding the science behind the greenhouse effect and taking collective action to reduce our greenhouse gas emissions, we can work towards a more sustainable future and preserve the beauty and diversity of our planet for generations to come.\n",
            "--------------------------------------------------\n"
          ]
        }
      ]
    },
    {
      "cell_type": "code",
      "source": [
        "# Refining Role Descriptions"
      ],
      "metadata": {
        "id": "SpJKcK6xReLV"
      },
      "execution_count": 47,
      "outputs": []
    },
    {
      "cell_type": "code",
      "source": [
        "storyteller_prompt = PromptTemplate(\n",
        "    input_variables=[\"style\", \"scenario\"],\n",
        "    template=\"\"\"You are a master storyteller known for your ability to adapt to various narrative styles.\n",
        "    Your current task is to write in the style of {style}.\n",
        "    Key characteristics of this style include:\n",
        "    1. {style_char1}\n",
        "    2. {style_char2}\n",
        "    3. {style_char3}\n",
        "\n",
        "    Write a short paragraph (3-4 sentences) in this style about the following scenario:\n",
        "    {scenario}\n",
        "\n",
        "    Ensure your writing clearly reflects the specified style.\"\"\"\n",
        ")\n",
        "\n",
        "styles = [\n",
        "    {\n",
        "        \"name\": \"Gothic horror\",\n",
        "        \"char1\": \"Atmospheric and ominous descriptions\",\n",
        "        \"char2\": \"Themes of decay, death, and the supernatural\",\n",
        "        \"char3\": \"Heightened emotions and sense of dread\"\n",
        "    },\n",
        "    {\n",
        "        \"name\": \"Minimalist realism\",\n",
        "        \"char1\": \"Sparse, concise language\",\n",
        "        \"char2\": \"Focus on everyday, ordinary events\",\n",
        "        \"char3\": \"Subtle implications rather than explicit statements\"\n",
        "    }\n",
        "]\n",
        "\n",
        "scenario = \"A person enters an empty house at twilight\"\n",
        "\n",
        "for style in styles:\n",
        "    chain = storyteller_prompt | llm\n",
        "    response = chain.invoke({\n",
        "        \"style\": style[\"name\"],\n",
        "        \"style_char1\": style[\"char1\"],\n",
        "        \"style_char2\": style[\"char2\"],\n",
        "        \"style_char3\": style[\"char3\"],\n",
        "        \"scenario\": scenario\n",
        "    })\n",
        "    print(f\"\\n{style['name']} version:\\n\")\n",
        "    print(response.content)\n",
        "    print(\"-\" * 50)"
      ],
      "metadata": {
        "colab": {
          "base_uri": "https://localhost:8080/"
        },
        "id": "njEH5cIqRXOA",
        "outputId": "dcdd12d0-7680-4e4e-d173-a7f12330fa6a"
      },
      "execution_count": 48,
      "outputs": [
        {
          "output_type": "stream",
          "name": "stdout",
          "text": [
            "\n",
            "Gothic horror version:\n",
            "\n",
            "As the last wisps of twilight succumbed to the all-consuming darkness, the crumbling mansion loomed before me, its turrets and spires reaching towards the moon like skeletal fingers. The wind died, and an unearthly stillness fell over the deserted estate, as if the very house itself was holding its breath in anticipation of my entrance. I stepped across the threshold, my footsteps echoing through the vacant halls like a death knell, and was immediately enveloped by an aura of decay and forgotten sorrow. The shadows within seemed to writhe and twist around me, like living darkness, as I stood frozen, my heart heavy with the foreboding that I was not alone in this forsaken place.\n",
            "--------------------------------------------------\n",
            "\n",
            "Minimalist realism version:\n",
            "\n",
            "The person stepped into the house, the door creaking shut behind them. Twilight seeped through the windows, casting faint shadows on the walls. The air inside was still, thick with the scent of old furniture. They stood, their eyes adjusting to the dim light, the silence a palpable thing.\n",
            "--------------------------------------------------\n"
          ]
        }
      ]
    },
    {
      "cell_type": "code",
      "source": [],
      "metadata": {
        "id": "y09vwEmiRl2Q"
      },
      "execution_count": null,
      "outputs": []
    }
  ]
}