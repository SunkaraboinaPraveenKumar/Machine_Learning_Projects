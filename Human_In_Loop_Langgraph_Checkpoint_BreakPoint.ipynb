{
  "nbformat": 4,
  "nbformat_minor": 0,
  "metadata": {
    "colab": {
      "provenance": [],
      "authorship_tag": "ABX9TyPaP3BQ9r1czAApPFVhvJO6",
      "include_colab_link": true
    },
    "kernelspec": {
      "name": "python3",
      "display_name": "Python 3"
    },
    "language_info": {
      "name": "python"
    }
  },
  "cells": [
    {
      "cell_type": "markdown",
      "metadata": {
        "id": "view-in-github",
        "colab_type": "text"
      },
      "source": [
        "<a href=\"https://colab.research.google.com/github/SunkaraboinaPraveenKumar/Machine_Learning_Projects/blob/main/Human_In_Loop_Langgraph_Checkpoint_BreakPoint.ipynb\" target=\"_parent\"><img src=\"https://colab.research.google.com/assets/colab-badge.svg\" alt=\"Open In Colab\"/></a>"
      ]
    },
    {
      "cell_type": "code",
      "source": [
        "!pip install langchain langgraph langchain_community langchain_groq"
      ],
      "metadata": {
        "colab": {
          "base_uri": "https://localhost:8080/"
        },
        "id": "8RF6_Y9pCb5w",
        "outputId": "9aafb5ec-c02d-434f-f471-a7e7a8d6ff01"
      },
      "execution_count": null,
      "outputs": [
        {
          "output_type": "stream",
          "name": "stdout",
          "text": [
            "Requirement already satisfied: langchain in /usr/local/lib/python3.11/dist-packages (0.3.14)\n",
            "Collecting langgraph\n",
            "  Downloading langgraph-0.2.66-py3-none-any.whl.metadata (16 kB)\n",
            "Collecting langchain_community\n",
            "  Downloading langchain_community-0.3.15-py3-none-any.whl.metadata (2.9 kB)\n",
            "Collecting langchain_groq\n",
            "  Downloading langchain_groq-0.2.3-py3-none-any.whl.metadata (3.0 kB)\n",
            "Requirement already satisfied: PyYAML>=5.3 in /usr/local/lib/python3.11/dist-packages (from langchain) (6.0.2)\n",
            "Requirement already satisfied: SQLAlchemy<3,>=1.4 in /usr/local/lib/python3.11/dist-packages (from langchain) (2.0.37)\n",
            "Requirement already satisfied: aiohttp<4.0.0,>=3.8.3 in /usr/local/lib/python3.11/dist-packages (from langchain) (3.11.11)\n",
            "Requirement already satisfied: langchain-core<0.4.0,>=0.3.29 in /usr/local/lib/python3.11/dist-packages (from langchain) (0.3.29)\n",
            "Requirement already satisfied: langchain-text-splitters<0.4.0,>=0.3.3 in /usr/local/lib/python3.11/dist-packages (from langchain) (0.3.5)\n",
            "Requirement already satisfied: langsmith<0.3,>=0.1.17 in /usr/local/lib/python3.11/dist-packages (from langchain) (0.2.10)\n",
            "Requirement already satisfied: numpy<2,>=1.22.4 in /usr/local/lib/python3.11/dist-packages (from langchain) (1.26.4)\n",
            "Requirement already satisfied: pydantic<3.0.0,>=2.7.4 in /usr/local/lib/python3.11/dist-packages (from langchain) (2.10.5)\n",
            "Requirement already satisfied: requests<3,>=2 in /usr/local/lib/python3.11/dist-packages (from langchain) (2.32.3)\n",
            "Requirement already satisfied: tenacity!=8.4.0,<10,>=8.1.0 in /usr/local/lib/python3.11/dist-packages (from langchain) (9.0.0)\n",
            "Collecting langgraph-checkpoint<3.0.0,>=2.0.10 (from langgraph)\n",
            "  Downloading langgraph_checkpoint-2.0.10-py3-none-any.whl.metadata (4.6 kB)\n",
            "Collecting langgraph-sdk<0.2.0,>=0.1.42 (from langgraph)\n",
            "  Downloading langgraph_sdk-0.1.51-py3-none-any.whl.metadata (1.8 kB)\n",
            "Collecting dataclasses-json<0.7,>=0.5.7 (from langchain_community)\n",
            "  Downloading dataclasses_json-0.6.7-py3-none-any.whl.metadata (25 kB)\n",
            "Collecting httpx-sse<0.5.0,>=0.4.0 (from langchain_community)\n",
            "  Downloading httpx_sse-0.4.0-py3-none-any.whl.metadata (9.0 kB)\n",
            "Collecting langchain\n",
            "  Downloading langchain-0.3.15-py3-none-any.whl.metadata (7.1 kB)\n",
            "Collecting langchain-core<0.4.0,>=0.3.29 (from langchain)\n",
            "  Downloading langchain_core-0.3.31-py3-none-any.whl.metadata (6.3 kB)\n",
            "Collecting pydantic-settings<3.0.0,>=2.4.0 (from langchain_community)\n",
            "  Downloading pydantic_settings-2.7.1-py3-none-any.whl.metadata (3.5 kB)\n",
            "Collecting groq<1,>=0.4.1 (from langchain_groq)\n",
            "  Downloading groq-0.15.0-py3-none-any.whl.metadata (14 kB)\n",
            "Requirement already satisfied: aiohappyeyeballs>=2.3.0 in /usr/local/lib/python3.11/dist-packages (from aiohttp<4.0.0,>=3.8.3->langchain) (2.4.4)\n",
            "Requirement already satisfied: aiosignal>=1.1.2 in /usr/local/lib/python3.11/dist-packages (from aiohttp<4.0.0,>=3.8.3->langchain) (1.3.2)\n",
            "Requirement already satisfied: attrs>=17.3.0 in /usr/local/lib/python3.11/dist-packages (from aiohttp<4.0.0,>=3.8.3->langchain) (24.3.0)\n",
            "Requirement already satisfied: frozenlist>=1.1.1 in /usr/local/lib/python3.11/dist-packages (from aiohttp<4.0.0,>=3.8.3->langchain) (1.5.0)\n",
            "Requirement already satisfied: multidict<7.0,>=4.5 in /usr/local/lib/python3.11/dist-packages (from aiohttp<4.0.0,>=3.8.3->langchain) (6.1.0)\n",
            "Requirement already satisfied: propcache>=0.2.0 in /usr/local/lib/python3.11/dist-packages (from aiohttp<4.0.0,>=3.8.3->langchain) (0.2.1)\n",
            "Requirement already satisfied: yarl<2.0,>=1.17.0 in /usr/local/lib/python3.11/dist-packages (from aiohttp<4.0.0,>=3.8.3->langchain) (1.18.3)\n",
            "Collecting marshmallow<4.0.0,>=3.18.0 (from dataclasses-json<0.7,>=0.5.7->langchain_community)\n",
            "  Downloading marshmallow-3.25.1-py3-none-any.whl.metadata (7.3 kB)\n",
            "Collecting typing-inspect<1,>=0.4.0 (from dataclasses-json<0.7,>=0.5.7->langchain_community)\n",
            "  Downloading typing_inspect-0.9.0-py3-none-any.whl.metadata (1.5 kB)\n",
            "Requirement already satisfied: anyio<5,>=3.5.0 in /usr/local/lib/python3.11/dist-packages (from groq<1,>=0.4.1->langchain_groq) (3.7.1)\n",
            "Requirement already satisfied: distro<2,>=1.7.0 in /usr/local/lib/python3.11/dist-packages (from groq<1,>=0.4.1->langchain_groq) (1.9.0)\n",
            "Requirement already satisfied: httpx<1,>=0.23.0 in /usr/local/lib/python3.11/dist-packages (from groq<1,>=0.4.1->langchain_groq) (0.28.1)\n",
            "Requirement already satisfied: sniffio in /usr/local/lib/python3.11/dist-packages (from groq<1,>=0.4.1->langchain_groq) (1.3.1)\n",
            "Requirement already satisfied: typing-extensions<5,>=4.10 in /usr/local/lib/python3.11/dist-packages (from groq<1,>=0.4.1->langchain_groq) (4.12.2)\n",
            "Requirement already satisfied: jsonpatch<2.0,>=1.33 in /usr/local/lib/python3.11/dist-packages (from langchain-core<0.4.0,>=0.3.29->langchain) (1.33)\n",
            "Requirement already satisfied: packaging<25,>=23.2 in /usr/local/lib/python3.11/dist-packages (from langchain-core<0.4.0,>=0.3.29->langchain) (24.2)\n",
            "Requirement already satisfied: msgpack<2.0.0,>=1.1.0 in /usr/local/lib/python3.11/dist-packages (from langgraph-checkpoint<3.0.0,>=2.0.10->langgraph) (1.1.0)\n",
            "Requirement already satisfied: orjson>=3.10.1 in /usr/local/lib/python3.11/dist-packages (from langgraph-sdk<0.2.0,>=0.1.42->langgraph) (3.10.14)\n",
            "Requirement already satisfied: requests-toolbelt<2.0.0,>=1.0.0 in /usr/local/lib/python3.11/dist-packages (from langsmith<0.3,>=0.1.17->langchain) (1.0.0)\n",
            "Requirement already satisfied: annotated-types>=0.6.0 in /usr/local/lib/python3.11/dist-packages (from pydantic<3.0.0,>=2.7.4->langchain) (0.7.0)\n",
            "Requirement already satisfied: pydantic-core==2.27.2 in /usr/local/lib/python3.11/dist-packages (from pydantic<3.0.0,>=2.7.4->langchain) (2.27.2)\n",
            "Collecting python-dotenv>=0.21.0 (from pydantic-settings<3.0.0,>=2.4.0->langchain_community)\n",
            "  Downloading python_dotenv-1.0.1-py3-none-any.whl.metadata (23 kB)\n",
            "Requirement already satisfied: charset-normalizer<4,>=2 in /usr/local/lib/python3.11/dist-packages (from requests<3,>=2->langchain) (3.4.1)\n",
            "Requirement already satisfied: idna<4,>=2.5 in /usr/local/lib/python3.11/dist-packages (from requests<3,>=2->langchain) (3.10)\n",
            "Requirement already satisfied: urllib3<3,>=1.21.1 in /usr/local/lib/python3.11/dist-packages (from requests<3,>=2->langchain) (2.3.0)\n",
            "Requirement already satisfied: certifi>=2017.4.17 in /usr/local/lib/python3.11/dist-packages (from requests<3,>=2->langchain) (2024.12.14)\n",
            "Requirement already satisfied: greenlet!=0.4.17 in /usr/local/lib/python3.11/dist-packages (from SQLAlchemy<3,>=1.4->langchain) (3.1.1)\n",
            "Requirement already satisfied: httpcore==1.* in /usr/local/lib/python3.11/dist-packages (from httpx<1,>=0.23.0->groq<1,>=0.4.1->langchain_groq) (1.0.7)\n",
            "Requirement already satisfied: h11<0.15,>=0.13 in /usr/local/lib/python3.11/dist-packages (from httpcore==1.*->httpx<1,>=0.23.0->groq<1,>=0.4.1->langchain_groq) (0.14.0)\n",
            "Requirement already satisfied: jsonpointer>=1.9 in /usr/local/lib/python3.11/dist-packages (from jsonpatch<2.0,>=1.33->langchain-core<0.4.0,>=0.3.29->langchain) (3.0.0)\n",
            "Collecting mypy-extensions>=0.3.0 (from typing-inspect<1,>=0.4.0->dataclasses-json<0.7,>=0.5.7->langchain_community)\n",
            "  Downloading mypy_extensions-1.0.0-py3-none-any.whl.metadata (1.1 kB)\n",
            "Downloading langgraph-0.2.66-py3-none-any.whl (145 kB)\n",
            "\u001b[2K   \u001b[90m━━━━━━━━━━━━━━━━━━━━━━━━━━━━━━━━━━━━━━━━\u001b[0m \u001b[32m145.3/145.3 kB\u001b[0m \u001b[31m6.6 MB/s\u001b[0m eta \u001b[36m0:00:00\u001b[0m\n",
            "\u001b[?25hDownloading langchain_community-0.3.15-py3-none-any.whl (2.5 MB)\n",
            "\u001b[2K   \u001b[90m━━━━━━━━━━━━━━━━━━━━━━━━━━━━━━━━━━━━━━━━\u001b[0m \u001b[32m2.5/2.5 MB\u001b[0m \u001b[31m21.4 MB/s\u001b[0m eta \u001b[36m0:00:00\u001b[0m\n",
            "\u001b[?25hDownloading langchain-0.3.15-py3-none-any.whl (1.0 MB)\n",
            "\u001b[2K   \u001b[90m━━━━━━━━━━━━━━━━━━━━━━━━━━━━━━━━━━━━━━━━\u001b[0m \u001b[32m1.0/1.0 MB\u001b[0m \u001b[31m27.0 MB/s\u001b[0m eta \u001b[36m0:00:00\u001b[0m\n",
            "\u001b[?25hDownloading langchain_groq-0.2.3-py3-none-any.whl (14 kB)\n",
            "Downloading dataclasses_json-0.6.7-py3-none-any.whl (28 kB)\n",
            "Downloading groq-0.15.0-py3-none-any.whl (109 kB)\n",
            "\u001b[2K   \u001b[90m━━━━━━━━━━━━━━━━━━━━━━━━━━━━━━━━━━━━━━━━\u001b[0m \u001b[32m109.6/109.6 kB\u001b[0m \u001b[31m6.3 MB/s\u001b[0m eta \u001b[36m0:00:00\u001b[0m\n",
            "\u001b[?25hDownloading httpx_sse-0.4.0-py3-none-any.whl (7.8 kB)\n",
            "Downloading langchain_core-0.3.31-py3-none-any.whl (412 kB)\n",
            "\u001b[2K   \u001b[90m━━━━━━━━━━━━━━━━━━━━━━━━━━━━━━━━━━━━━━━━\u001b[0m \u001b[32m412.2/412.2 kB\u001b[0m \u001b[31m21.0 MB/s\u001b[0m eta \u001b[36m0:00:00\u001b[0m\n",
            "\u001b[?25hDownloading langgraph_checkpoint-2.0.10-py3-none-any.whl (37 kB)\n",
            "Downloading langgraph_sdk-0.1.51-py3-none-any.whl (44 kB)\n",
            "\u001b[2K   \u001b[90m━━━━━━━━━━━━━━━━━━━━━━━━━━━━━━━━━━━━━━━━\u001b[0m \u001b[32m44.7/44.7 kB\u001b[0m \u001b[31m2.5 MB/s\u001b[0m eta \u001b[36m0:00:00\u001b[0m\n",
            "\u001b[?25hDownloading pydantic_settings-2.7.1-py3-none-any.whl (29 kB)\n",
            "Downloading marshmallow-3.25.1-py3-none-any.whl (49 kB)\n",
            "\u001b[2K   \u001b[90m━━━━━━━━━━━━━━━━━━━━━━━━━━━━━━━━━━━━━━━━\u001b[0m \u001b[32m49.6/49.6 kB\u001b[0m \u001b[31m2.6 MB/s\u001b[0m eta \u001b[36m0:00:00\u001b[0m\n",
            "\u001b[?25hDownloading python_dotenv-1.0.1-py3-none-any.whl (19 kB)\n",
            "Downloading typing_inspect-0.9.0-py3-none-any.whl (8.8 kB)\n",
            "Downloading mypy_extensions-1.0.0-py3-none-any.whl (4.7 kB)\n",
            "Installing collected packages: python-dotenv, mypy-extensions, marshmallow, httpx-sse, typing-inspect, pydantic-settings, langgraph-sdk, groq, dataclasses-json, langchain-core, langgraph-checkpoint, langchain_groq, langgraph, langchain, langchain_community\n",
            "  Attempting uninstall: langchain-core\n",
            "    Found existing installation: langchain-core 0.3.29\n",
            "    Uninstalling langchain-core-0.3.29:\n",
            "      Successfully uninstalled langchain-core-0.3.29\n",
            "  Attempting uninstall: langchain\n",
            "    Found existing installation: langchain 0.3.14\n",
            "    Uninstalling langchain-0.3.14:\n",
            "      Successfully uninstalled langchain-0.3.14\n",
            "Successfully installed dataclasses-json-0.6.7 groq-0.15.0 httpx-sse-0.4.0 langchain-0.3.15 langchain-core-0.3.31 langchain_community-0.3.15 langchain_groq-0.2.3 langgraph-0.2.66 langgraph-checkpoint-2.0.10 langgraph-sdk-0.1.51 marshmallow-3.25.1 mypy-extensions-1.0.0 pydantic-settings-2.7.1 python-dotenv-1.0.1 typing-inspect-0.9.0\n"
          ]
        }
      ]
    },
    {
      "cell_type": "code",
      "execution_count": null,
      "metadata": {
        "id": "VRFCPtuYydub"
      },
      "outputs": [],
      "source": [
        "from typing import Annotated\n",
        "import operator,json\n",
        "from typing import TypedDict, Annotated, Sequence\n",
        "from typing_extensions import TypedDict\n",
        "from langchain_core.messages import BaseMessage\n",
        "from langgraph.checkpoint.memory import MemorySaver\n",
        "from langgraph.graph import StateGraph,END,START\n",
        "from langgraph.graph.message import add_messages\n",
        "from langgraph.prebuilt import ToolNode, tools_condition\n",
        "from langchain_core.tools import tool\n",
        "from langchain_community.tools.tavily_search import TavilySearchResults\n",
        "from langchain_community.tools import DuckDuckGoSearchRun"
      ]
    },
    {
      "cell_type": "code",
      "source": [
        "import os\n",
        "from google.colab import userdata\n",
        "os.environ['GROQ_API_KEY']=userdata.get('groq_api_key')\n",
        "os.environ['TAVILY_API_KEY']=userdata.get('TAVILY_API_KEY')"
      ],
      "metadata": {
        "id": "0YrDrwaGCioy"
      },
      "execution_count": null,
      "outputs": []
    },
    {
      "cell_type": "code",
      "source": [
        "from langchain_groq import ChatGroq\n",
        "llm=ChatGroq(model_name=\"Gemma2-9b-It\")"
      ],
      "metadata": {
        "id": "9AsoN53iCuG2"
      },
      "execution_count": null,
      "outputs": []
    },
    {
      "cell_type": "code",
      "source": [
        "llm.invoke(\"hi\").content"
      ],
      "metadata": {
        "colab": {
          "base_uri": "https://localhost:8080/",
          "height": 35
        },
        "id": "XI5lFKbqC18l",
        "outputId": "a7c3cb25-6766-4e3b-ef01-96622e9c7c1e"
      },
      "execution_count": null,
      "outputs": [
        {
          "output_type": "execute_result",
          "data": {
            "text/plain": [
              "'Hi there! 👋  How can I help you today?\\n'"
            ],
            "application/vnd.google.colaboratory.intrinsic+json": {
              "type": "string"
            }
          },
          "metadata": {},
          "execution_count": 5
        }
      ]
    },
    {
      "cell_type": "code",
      "source": [
        "@tool\n",
        "def multiply(first_number:int, second_number:int)->int:\n",
        "    \"\"\"multiply two integer number\"\"\"\n",
        "    return first_number * second_number"
      ],
      "metadata": {
        "id": "c9WGvtLNC352"
      },
      "execution_count": null,
      "outputs": []
    },
    {
      "cell_type": "code",
      "source": [
        "multiply.invoke({\"first_number\":24,\"second_number\":364})"
      ],
      "metadata": {
        "colab": {
          "base_uri": "https://localhost:8080/"
        },
        "id": "7QAvsDg_DFVQ",
        "outputId": "990855f6-6946-420b-9fa0-bea0b0443805"
      },
      "execution_count": null,
      "outputs": [
        {
          "output_type": "execute_result",
          "data": {
            "text/plain": [
              "8736"
            ]
          },
          "metadata": {},
          "execution_count": 7
        }
      ]
    },
    {
      "cell_type": "code",
      "source": [
        "!pip install duckduckgo-search"
      ],
      "metadata": {
        "colab": {
          "base_uri": "https://localhost:8080/"
        },
        "id": "xFT5VcPyDfT9",
        "outputId": "accc1e42-f48d-4c8f-8d3e-4eeff39e1564"
      },
      "execution_count": null,
      "outputs": [
        {
          "output_type": "stream",
          "name": "stdout",
          "text": [
            "Collecting duckduckgo-search\n",
            "  Downloading duckduckgo_search-7.2.1-py3-none-any.whl.metadata (17 kB)\n",
            "Requirement already satisfied: click>=8.1.7 in /usr/local/lib/python3.11/dist-packages (from duckduckgo-search) (8.1.8)\n",
            "Collecting primp>=0.10.0 (from duckduckgo-search)\n",
            "  Downloading primp-0.10.1-cp38-abi3-manylinux_2_17_x86_64.manylinux2014_x86_64.whl.metadata (12 kB)\n",
            "Requirement already satisfied: lxml>=5.3.0 in /usr/local/lib/python3.11/dist-packages (from duckduckgo-search) (5.3.0)\n",
            "Downloading duckduckgo_search-7.2.1-py3-none-any.whl (19 kB)\n",
            "Downloading primp-0.10.1-cp38-abi3-manylinux_2_17_x86_64.manylinux2014_x86_64.whl (3.3 MB)\n",
            "\u001b[2K   \u001b[90m━━━━━━━━━━━━━━━━━━━━━━━━━━━━━━━━━━━━━━━━\u001b[0m \u001b[32m3.3/3.3 MB\u001b[0m \u001b[31m26.1 MB/s\u001b[0m eta \u001b[36m0:00:00\u001b[0m\n",
            "\u001b[?25hInstalling collected packages: primp, duckduckgo-search\n",
            "Successfully installed duckduckgo-search-7.2.1 primp-0.10.1\n"
          ]
        }
      ]
    },
    {
      "cell_type": "code",
      "source": [
        "@tool\n",
        "def search(query:str):\n",
        "  \"\"\"Perform the web search on the user query\"\"\"\n",
        "  search = DuckDuckGoSearchRun()\n",
        "  return search.run(query)"
      ],
      "metadata": {
        "id": "DVl6dHRDDH_i"
      },
      "execution_count": null,
      "outputs": []
    },
    {
      "cell_type": "code",
      "source": [
        "search(\"who is a First CM of Telangana?\")"
      ],
      "metadata": {
        "colab": {
          "base_uri": "https://localhost:8080/",
          "height": 298
        },
        "id": "e_AZvt_LDabg",
        "outputId": "003f6fe4-06ca-4e2b-8ef5-c5876d23e0e3"
      },
      "execution_count": null,
      "outputs": [
        {
          "output_type": "stream",
          "name": "stderr",
          "text": [
            "<ipython-input-10-acee834ac6e4>:1: LangChainDeprecationWarning: The method `BaseTool.__call__` was deprecated in langchain-core 0.1.47 and will be removed in 1.0. Use :meth:`~invoke` instead.\n",
            "  search(\"who is a First CM of Telangana?\")\n"
          ]
        },
        {
          "output_type": "execute_result",
          "data": {
            "text/plain": [
              "\"First Chief Minister of Telangana . Kalvakuntla Chandrashekar Rao is the first chief minister of Telangana. He served as the first chief minister from 2 June 2014 to 12 December 2018. He has served for two terms as CM of Telangana making a total tenure of over 9 years as CM. He is also known as KCR. K Chandrashekar Rao as Telangana's first CM. He played an important role in creating the separate state of Telangana in 2014. After the death of YS Reddy (then Chief Minister of Andhra Pradesh), he started a fast unto death on 29 November 2009. After fasting for 11 days, a new state was approved by the Government of India. ... First Chief Ministers of Telangana . Chandrashekar Rao, often referred to as KCR, is a prominent figure in Telangana's politics. Born on February 17, 1954, he emerged as a driving force behind the movement for Telangana statehood. As the founding leader of the Telangana Rashtra Samithi (TRS) party, KCR played a important role in advocating ... Chief Ministers of Telangana Interesting Fact. K. Chandrashekar Rao, commonly known as KCR, is the first Chief Minister of Telangana. He assumed office on June 2, 2014, when the state of Telangana was formed. KCR is the founder and leader of the Telangana Rashtra Samithi (TRS) party. Telangana's First Chief Minister - Leadership in Telangana Movement. Rao played a pivotal role in the Telangana movement, advocating for the formation of a separate state. In 2001, he founded the Telangana Rashtra Samithi (TRS), which later became the Bharat Rashtra Samithi (BRS). His relentless efforts and mass mobilization led to ...\""
            ],
            "application/vnd.google.colaboratory.intrinsic+json": {
              "type": "string"
            }
          },
          "metadata": {},
          "execution_count": 10
        }
      ]
    },
    {
      "cell_type": "code",
      "source": [
        "tools=[search, multiply]"
      ],
      "metadata": {
        "id": "hPjMYNPJDdti"
      },
      "execution_count": null,
      "outputs": []
    },
    {
      "cell_type": "code",
      "source": [
        "model_with_tools=llm.bind_tools(tools)"
      ],
      "metadata": {
        "id": "8I3f8BBfDwLl"
      },
      "execution_count": null,
      "outputs": []
    },
    {
      "cell_type": "code",
      "source": [
        "tool_mapping={tool.name: tool for tool in tools}"
      ],
      "metadata": {
        "id": "PviNfAm2DzAN"
      },
      "execution_count": null,
      "outputs": []
    },
    {
      "cell_type": "code",
      "source": [
        "tool_mapping"
      ],
      "metadata": {
        "colab": {
          "base_uri": "https://localhost:8080/"
        },
        "id": "6JknFShYD27m",
        "outputId": "79e1b9ff-e157-47d1-fd62-883e559cb618"
      },
      "execution_count": null,
      "outputs": [
        {
          "output_type": "execute_result",
          "data": {
            "text/plain": [
              "{'search': StructuredTool(name='search', description='Perform the web search on the user query', args_schema=<class 'langchain_core.utils.pydantic.search'>, func=<function search at 0x7abb28f81620>),\n",
              " 'multiply': StructuredTool(name='multiply', description='multiply two integer number', args_schema=<class 'langchain_core.utils.pydantic.multiply'>, func=<function multiply at 0x7abb28f82020>)}"
            ]
          },
          "metadata": {},
          "execution_count": 14
        }
      ]
    },
    {
      "cell_type": "code",
      "source": [
        "response = model_with_tools.invoke(\"Who is President of US?\")"
      ],
      "metadata": {
        "id": "Rz8laAlAD4WI"
      },
      "execution_count": null,
      "outputs": []
    },
    {
      "cell_type": "code",
      "source": [
        "response"
      ],
      "metadata": {
        "colab": {
          "base_uri": "https://localhost:8080/"
        },
        "id": "k39l9KNAD_gq",
        "outputId": "e9003e51-6089-4b97-b305-131a1b56a45d"
      },
      "execution_count": null,
      "outputs": [
        {
          "output_type": "execute_result",
          "data": {
            "text/plain": [
              "AIMessage(content='', additional_kwargs={'tool_calls': [{'id': 'call_xnpe', 'function': {'arguments': '{\"query\":\"Who is the President of the US?\"}', 'name': 'search'}, 'type': 'function'}]}, response_metadata={'token_usage': {'completion_tokens': 86, 'prompt_tokens': 1074, 'total_tokens': 1160, 'completion_time': 0.156363636, 'prompt_time': 0.034546978, 'queue_time': 0.021775182000000004, 'total_time': 0.190910614}, 'model_name': 'Gemma2-9b-It', 'system_fingerprint': 'fp_10c08bf97d', 'finish_reason': 'tool_calls', 'logprobs': None}, id='run-aa7a5e47-af1c-4d61-ba9f-08bf74ea35b1-0', tool_calls=[{'name': 'search', 'args': {'query': 'Who is the President of the US?'}, 'id': 'call_xnpe', 'type': 'tool_call'}], usage_metadata={'input_tokens': 1074, 'output_tokens': 86, 'total_tokens': 1160})"
            ]
          },
          "metadata": {},
          "execution_count": 16
        }
      ]
    },
    {
      "cell_type": "code",
      "source": [
        "tool_details=response.additional_kwargs.get(\"tool_calls\")"
      ],
      "metadata": {
        "id": "yRzcQ4DVEAHn"
      },
      "execution_count": null,
      "outputs": []
    },
    {
      "cell_type": "code",
      "source": [
        "tool_details"
      ],
      "metadata": {
        "colab": {
          "base_uri": "https://localhost:8080/"
        },
        "id": "MYHgJtbzEEIf",
        "outputId": "caaeeea5-7c22-4120-f351-4f8232f47066"
      },
      "execution_count": null,
      "outputs": [
        {
          "output_type": "execute_result",
          "data": {
            "text/plain": [
              "[{'id': 'call_xnpe',\n",
              "  'function': {'arguments': '{\"query\":\"Who is the President of the US?\"}',\n",
              "   'name': 'search'},\n",
              "  'type': 'function'}]"
            ]
          },
          "metadata": {},
          "execution_count": 18
        }
      ]
    },
    {
      "cell_type": "code",
      "source": [
        "tool_details[0][\"function\"][\"name\"]"
      ],
      "metadata": {
        "colab": {
          "base_uri": "https://localhost:8080/",
          "height": 35
        },
        "id": "-lIAPnGiEHcK",
        "outputId": "d2af34c8-bf11-4efc-bdcc-b0ad17e37318"
      },
      "execution_count": null,
      "outputs": [
        {
          "output_type": "execute_result",
          "data": {
            "text/plain": [
              "'search'"
            ],
            "application/vnd.google.colaboratory.intrinsic+json": {
              "type": "string"
            }
          },
          "metadata": {},
          "execution_count": 19
        }
      ]
    },
    {
      "cell_type": "code",
      "source": [
        "tool_details[0][\"function\"][\"arguments\"]"
      ],
      "metadata": {
        "colab": {
          "base_uri": "https://localhost:8080/",
          "height": 35
        },
        "id": "tiF3c3CGELH6",
        "outputId": "40a374fd-6692-44fd-f10a-cbfc9298edf3"
      },
      "execution_count": null,
      "outputs": [
        {
          "output_type": "execute_result",
          "data": {
            "text/plain": [
              "'{\"query\":\"Who is the President of the US?\"}'"
            ],
            "application/vnd.google.colaboratory.intrinsic+json": {
              "type": "string"
            }
          },
          "metadata": {},
          "execution_count": 20
        }
      ]
    },
    {
      "cell_type": "code",
      "source": [
        "json.loads(tool_details[0][\"function\"][\"arguments\"])"
      ],
      "metadata": {
        "colab": {
          "base_uri": "https://localhost:8080/"
        },
        "id": "_sTgROwXEfuV",
        "outputId": "14fa9949-09cd-4260-944b-94c28289527d"
      },
      "execution_count": null,
      "outputs": [
        {
          "output_type": "execute_result",
          "data": {
            "text/plain": [
              "{'query': 'Who is the President of the US?'}"
            ]
          },
          "metadata": {},
          "execution_count": 21
        }
      ]
    },
    {
      "cell_type": "code",
      "source": [
        "tool_mapping[tool_details[0][\"function\"][\"name\"]].invoke(json.loads(tool_details[0][\"function\"][\"arguments\"]))"
      ],
      "metadata": {
        "colab": {
          "base_uri": "https://localhost:8080/",
          "height": 243
        },
        "id": "JLIjrPteEh1W",
        "outputId": "5ae3f51e-bbc6-4f6e-9d16-70a4aedb544f"
      },
      "execution_count": null,
      "outputs": [
        {
          "output_type": "execute_result",
          "data": {
            "text/plain": [
              "'The president of the United States is the head of state and head of government of the United States, [1] indirectly elected to a four-year term via the Electoral College. [2] The officeholder leads the executive branch of the federal government and is the commander-in-chief of the United States Armed Forces. [3] The first president, George ... WASHINGTON − Donald Trump was sworn in Monday as the 47th president of the United States, returning to the White House after overcoming four criminal indictments and two assassination attempts ... Donald Trump, 78, is the United States president once again after taking the oath of office from inside the U.S. Capitol rotunda on Monday, Jan. 20. He and newly inaugurated Vice President J.D ... Donald Trump has officially become the 47th president of the United States. In a special ceremony called an inauguration , President Trump took over from Joe Biden as America\\'s new leader. The 45th and now 47th president of the United States swore the oath of office on a Bible held by Chief Justice John Roberts. \"The golden age of America begins now,\" Trump said after he took ...'"
            ],
            "application/vnd.google.colaboratory.intrinsic+json": {
              "type": "string"
            }
          },
          "metadata": {},
          "execution_count": 22
        }
      ]
    },
    {
      "cell_type": "code",
      "source": [
        "class AgentState(TypedDict):\n",
        "  messages:Annotated[Sequence[BaseMessage],operator.add]"
      ],
      "metadata": {
        "id": "0lxcxOThEqxa"
      },
      "execution_count": null,
      "outputs": []
    },
    {
      "cell_type": "code",
      "source": [
        "def invoke_model(state:AgentState):\n",
        "  messages=state['messages']\n",
        "  question=messages[-1]\n",
        "  return {\"messages\":[model_with_tools.invoke(question)]}"
      ],
      "metadata": {
        "id": "PJmMNS2VFE-A"
      },
      "execution_count": null,
      "outputs": []
    },
    {
      "cell_type": "code",
      "source": [
        "def invoke_tool(state:AgentState):\n",
        "  tool_details = state['messages'][-1].additional_kwargs.get(\"tool_calls\",[])[0]\n",
        "\n",
        "  if tool_details is None:\n",
        "    raise Exception(\"No Tool call found\")\n",
        "\n",
        "  print(f'selected tool: {tool_details.get(\"function\").get(\"name\")}')\n",
        "\n",
        "  if tool_details.get(\"function\").get(\"name\") == \"search\":\n",
        "    response = input(prompt=f\"[y/n] continue with expensive web search?\")\n",
        "    if response == \"n\":\n",
        "      raise Exception(\"web search discarded\")\n",
        "\n",
        "  response = tool_mapping[tool_details['function']['name']].invoke(json.loads(tool_details['function']['arguments']))\n",
        "  return {\"messages\":[response]}\n"
      ],
      "metadata": {
        "id": "9xXbKQlPFSX6"
      },
      "execution_count": null,
      "outputs": []
    },
    {
      "cell_type": "code",
      "source": [
        "def router(state):\n",
        "  tool_calls=state['messages'][-1].additional_kwargs.get(\"tool_calls\",[])\n",
        "  if len(tool_calls):\n",
        "    return \"tool\"\n",
        "  else:\n",
        "    return \"end\""
      ],
      "metadata": {
        "id": "dlTCkCxZFfLF"
      },
      "execution_count": null,
      "outputs": []
    },
    {
      "cell_type": "code",
      "source": [
        "graph=StateGraph(AgentState)\n",
        "graph.add_node(\"ai_assistant\",invoke_model)\n",
        "graph.add_node(\"tool\",invoke_tool)"
      ],
      "metadata": {
        "colab": {
          "base_uri": "https://localhost:8080/"
        },
        "id": "9mnDRPWFFpJy",
        "outputId": "f1edaa31-d349-432d-f9f4-8b5b5f28d02e"
      },
      "execution_count": null,
      "outputs": [
        {
          "output_type": "execute_result",
          "data": {
            "text/plain": [
              "<langgraph.graph.state.StateGraph at 0x7abb28fb56d0>"
            ]
          },
          "metadata": {},
          "execution_count": 27
        }
      ]
    },
    {
      "cell_type": "code",
      "source": [
        "graph.add_conditional_edges(\"ai_assistant\",router,{\"tool\":\"tool\",\"end\":END})\n",
        "graph.add_edge(\"tool\",END)\n",
        "\n",
        "graph.set_entry_point(\"ai_assistant\")"
      ],
      "metadata": {
        "colab": {
          "base_uri": "https://localhost:8080/"
        },
        "id": "X_aJDJaCF0Pg",
        "outputId": "b0aeaeaf-399d-409e-96d3-7d4199f4316b"
      },
      "execution_count": null,
      "outputs": [
        {
          "output_type": "execute_result",
          "data": {
            "text/plain": [
              "<langgraph.graph.state.StateGraph at 0x7abb28fb56d0>"
            ]
          },
          "metadata": {},
          "execution_count": 28
        }
      ]
    },
    {
      "cell_type": "code",
      "source": [
        "app=graph.compile()"
      ],
      "metadata": {
        "id": "mMjsj-WiGBtI"
      },
      "execution_count": null,
      "outputs": []
    },
    {
      "cell_type": "code",
      "source": [
        "app"
      ],
      "metadata": {
        "colab": {
          "base_uri": "https://localhost:8080/",
          "height": 350
        },
        "id": "dUs57gYmGDXK",
        "outputId": "828e1880-2c3f-4294-a773-6b8b80d0c12a"
      },
      "execution_count": null,
      "outputs": [
        {
          "output_type": "execute_result",
          "data": {
            "text/plain": [
              "<langgraph.graph.state.CompiledStateGraph object at 0x7abb28db9d10>"
            ],
            "image/png": "[encoded data removed]"
          },
          "metadata": {},
          "execution_count": 30
        }
      ]
    },
    {
      "cell_type": "code",
      "source": [
        "for s in app.stream({\"messages\":['who is upcoming president of USA?']}):\n",
        "    print(list(s.values())[0])\n",
        "    print('----------------')"
      ],
      "metadata": {
        "colab": {
          "base_uri": "https://localhost:8080/"
        },
        "id": "LDWKvaWwGD3U",
        "outputId": "e778fe5e-7c2b-4656-b5b2-83dc8c8b313d"
      },
      "execution_count": null,
      "outputs": [
        {
          "output_type": "stream",
          "name": "stdout",
          "text": [
            "{'messages': [AIMessage(content='', additional_kwargs={'tool_calls': [{'id': 'call_mprj', 'function': {'arguments': '{\"query\":\"upcoming president of USA\"}', 'name': 'search'}, 'type': 'function'}]}, response_metadata={'token_usage': {'completion_tokens': 83, 'prompt_tokens': 1075, 'total_tokens': 1158, 'completion_time': 0.150909091, 'prompt_time': 0.035046177, 'queue_time': 0.021316263000000002, 'total_time': 0.185955268}, 'model_name': 'Gemma2-9b-It', 'system_fingerprint': 'fp_10c08bf97d', 'finish_reason': 'tool_calls', 'logprobs': None}, id='run-ef148afa-d603-4a83-8aa4-6a9b5eb6412c-0', tool_calls=[{'name': 'search', 'args': {'query': 'upcoming president of USA'}, 'id': 'call_mprj', 'type': 'tool_call'}], usage_metadata={'input_tokens': 1075, 'output_tokens': 83, 'total_tokens': 1158})]}\n",
            "----------------\n",
            "selected tool: search\n",
            "[y/n] continue with expensive web search?y\n",
            "{'messages': [\"Republican Donald Trump will be the next US president, after he defeated Democrat Kamala Harris in November's election. Trump previously served as US president between 2017 and 2021. No. Trump is ... Alex Brandon. President Joe Biden and President-elect Donald Trump walk out to the presidential limousine, as they depart the White House, Monday, Jan. 20, 2025, in Washington, enroute to the Capitol. Donald Trump will officially become the 47th President of the United States at a ceremony called the inauguration. Inauguration day will take place on Monday 20 January and is the day Donald Trump ... A historic start: Mr. Trump, 78, became the oldest person ever inaugurated as president, eclipsing President Biden, who was five months younger when he took the oath four years ago. Mr. Vance, 40 ... Inauguration Day is only one week away as President-elect Donald Trump readies his administration for his second term in office and he prepares to become the 47th President of the United States ...\"]}\n",
            "----------------\n"
          ]
        }
      ]
    },
    {
      "cell_type": "code",
      "source": [
        "for s in app.stream({\"messages\":['who is upcoming president of USA?']}):\n",
        "    print(list(s.values())[0])\n",
        "    print('----------------')"
      ],
      "metadata": {
        "colab": {
          "base_uri": "https://localhost:8080/"
        },
        "id": "VAcWabDTH53m",
        "outputId": "452fc030-d1b9-4785-c79a-997402233458"
      },
      "execution_count": null,
      "outputs": [
        {
          "output_type": "stream",
          "name": "stdout",
          "text": [
            "{'messages': [AIMessage(content='', additional_kwargs={'tool_calls': [{'id': 'call_9b24', 'function': {'arguments': '{\"query\":\"upcoming president of USA\"}', 'name': 'search'}, 'type': 'function'}]}, response_metadata={'token_usage': {'completion_tokens': 82, 'prompt_tokens': 1075, 'total_tokens': 1157, 'completion_time': 0.149090909, 'prompt_time': 0.043805091, 'queue_time': 0.021756558000000002, 'total_time': 0.192896}, 'model_name': 'Gemma2-9b-It', 'system_fingerprint': 'fp_10c08bf97d', 'finish_reason': 'tool_calls', 'logprobs': None}, id='run-c76788af-d59c-4344-9e39-7feb9a52f975-0', tool_calls=[{'name': 'search', 'args': {'query': 'upcoming president of USA'}, 'id': 'call_9b24', 'type': 'tool_call'}], usage_metadata={'input_tokens': 1075, 'output_tokens': 82, 'total_tokens': 1157})]}\n",
            "----------------\n",
            "selected tool: search\n",
            "[y/n] continue with expensive web search?y\n",
            "{'messages': [\"Republican Donald Trump will be the next US president, after he defeated Democrat Kamala Harris in November's election. Trump previously served as US president between 2017 and 2021. No. Trump is ... Donald Trump will officially become the 47th President of the United States at a ceremony called the inauguration. Inauguration day will take place on Monday 20 January and is the day Donald Trump ... When will Donald Trump be sworn into office? 07:11 President-elect Donald Trump is the projected winner of the 2024 election, besting Vice President Kamala Harris for the highest office in the ... Donald J. Trump, the once and now future president, capped an improbable political comeback by defeating Vice President Kamala Harris on promises to turbocharge the economy and deport undocumented ... Vice President Kamala Harris speaks as former President Donald Trump listens during a presidential debate at the National Constitution Center in Philadelphia on September 10, 2024. Saul Loeb/AFP ...\"]}\n",
            "----------------\n"
          ]
        }
      ]
    },
    {
      "cell_type": "code",
      "source": [
        "for s in app.stream({\"messages\":['Multiply 23 and 29']}):\n",
        "    print(list(s.values())[0])\n",
        "    print('----------------')"
      ],
      "metadata": {
        "colab": {
          "base_uri": "https://localhost:8080/"
        },
        "id": "xuO88jPwH9MQ",
        "outputId": "f0eed6f8-9292-4b2c-c11a-f9fba4bc9ae0"
      },
      "execution_count": null,
      "outputs": [
        {
          "output_type": "stream",
          "name": "stdout",
          "text": [
            "{'messages': [AIMessage(content='', additional_kwargs={'tool_calls': [{'id': 'call_pjw9', 'function': {'arguments': '{\"first_number\":23,\"second_number\":29}', 'name': 'multiply'}, 'type': 'function'}]}, response_metadata={'token_usage': {'completion_tokens': 91, 'prompt_tokens': 1076, 'total_tokens': 1167, 'completion_time': 0.165454545, 'prompt_time': 0.059303946, 'queue_time': 0.020859463, 'total_time': 0.224758491}, 'model_name': 'Gemma2-9b-It', 'system_fingerprint': 'fp_10c08bf97d', 'finish_reason': 'tool_calls', 'logprobs': None}, id='run-6792c0d5-fef7-41b6-a95f-90a8ef06cacc-0', tool_calls=[{'name': 'multiply', 'args': {'first_number': 23, 'second_number': 29}, 'id': 'call_pjw9', 'type': 'tool_call'}], usage_metadata={'input_tokens': 1076, 'output_tokens': 91, 'total_tokens': 1167})]}\n",
            "----------------\n",
            "selected tool: multiply\n",
            "{'messages': [667]}\n",
            "----------------\n"
          ]
        }
      ]
    },
    {
      "cell_type": "code",
      "source": [
        "for s in app.stream({\"messages\":['what is total amount of money on earth?']}):\n",
        "    print(list(s.values())[0])\n",
        "    print('----------------')"
      ],
      "metadata": {
        "colab": {
          "base_uri": "https://localhost:8080/"
        },
        "id": "uqb3OlXsIEHu",
        "outputId": "bae100c2-b386-4e41-d5fc-f0fb9ffcd5a7"
      },
      "execution_count": null,
      "outputs": [
        {
          "output_type": "stream",
          "name": "stdout",
          "text": [
            "{'messages': [AIMessage(content='', additional_kwargs={'tool_calls': [{'id': 'call_4ad3', 'function': {'arguments': '{\"query\":\"total amount of money on earth\"}', 'name': 'search'}, 'type': 'function'}]}, response_metadata={'token_usage': {'completion_tokens': 85, 'prompt_tokens': 1077, 'total_tokens': 1162, 'completion_time': 0.154545455, 'prompt_time': 0.059489484, 'queue_time': 0.052803856, 'total_time': 0.214034939}, 'model_name': 'Gemma2-9b-It', 'system_fingerprint': 'fp_10c08bf97d', 'finish_reason': 'tool_calls', 'logprobs': None}, id='run-53e312d2-3b41-4d47-a9c7-865a2b69534b-0', tool_calls=[{'name': 'search', 'args': {'query': 'total amount of money on earth'}, 'id': 'call_4ad3', 'type': 'tool_call'}], usage_metadata={'input_tokens': 1077, 'output_tokens': 85, 'total_tokens': 1162})]}\n",
            "----------------\n",
            "selected tool: search\n",
            "[y/n] continue with expensive web search?y\n",
            "{'messages': [\"The total amount of money in the world can be measured and expressed in many different ways, so it's difficult to give a specific answer. Money Supply If you're curious about the total value of notes and coins in circulation, the Bank for International Settlements estimated it to be $8,275,000,000,000, or $8.28 trillion U.S. dollars, across ... Money in the form of investments, derivatives, and cryptocurrencies exceeds $3.3 quadrillion. This is what it looks like written out: $3,300,000,000,000,000. That's a lot of zeros. This is a much more significant amount compared to the total money in the stock market, which is a mere $95 trillion. Money in the Stock Market For instance, the total M1 supply worldwide was estimated at $48.9 trillion as of late 2022. When you add in M2, the total money supply can reach staggering amounts, showing just how much money is circulating in the economy. The Impact of Money Supply on the Economy. The amount of money in circulation can greatly affect our economy. As of September 20, 2023, the Federal Reserve estimated that the total amount of currency in circulation was approximately $2.33 trillion. How much money is there on Earth? There is an estimated value of approximately $5 quadrillion for the Earth, according to calculations made by Dr. Greg Laughlin in 2020. Who is on the $1000 dollar bill? The total amount of money in the world is a complex calculation that includes various forms of money, from physical currency to bank deposits and digital assets. As of 2024, The broadest measure, M3, includes everything from physical currency to larger institutional assets and is estimated to total around $120 trillion in 2024.\"]}\n",
            "----------------\n"
          ]
        }
      ]
    },
    {
      "cell_type": "code",
      "source": [
        "from langchain_groq import ChatGroq\n",
        "llm=ChatGroq(model_name=\"Gemma2-9b-It\")"
      ],
      "metadata": {
        "id": "REdlHeLwISVc"
      },
      "execution_count": null,
      "outputs": []
    },
    {
      "cell_type": "code",
      "source": [
        "class AgentState(TypedDict):\n",
        "  messages:Annotated[list, add_messages]"
      ],
      "metadata": {
        "id": "VtZLJZtXIYRc"
      },
      "execution_count": null,
      "outputs": []
    },
    {
      "cell_type": "code",
      "source": [
        "tools=[search]"
      ],
      "metadata": {
        "id": "v3GTvJAJAG54"
      },
      "execution_count": null,
      "outputs": []
    },
    {
      "cell_type": "code",
      "source": [
        "llm_with_tools=llm.bind_tools(tools)"
      ],
      "metadata": {
        "id": "FPut3EuqAKKH"
      },
      "execution_count": null,
      "outputs": []
    },
    {
      "cell_type": "code",
      "source": [
        "def ai_assistant(state:AgentState):\n",
        "  return {\"messages\":[llm_with_tools.invoke(state[\"messages\"])]}"
      ],
      "metadata": {
        "id": "gZ-nWUK1ANDp"
      },
      "execution_count": null,
      "outputs": []
    },
    {
      "cell_type": "code",
      "source": [
        "memory=MemorySaver()"
      ],
      "metadata": {
        "id": "yAxmDZfJAU44"
      },
      "execution_count": null,
      "outputs": []
    },
    {
      "cell_type": "code",
      "source": [
        "graph_builder=StateGraph(AgentState)\n",
        "graph_builder.add_node(\"ai_assistant\",ai_assistant)\n",
        "tool_node=ToolNode(tools=tools)\n",
        "graph_builder.add_node(\"tools\",tool_node)"
      ],
      "metadata": {
        "colab": {
          "base_uri": "https://localhost:8080/"
        },
        "id": "vuJicX8iAXWv",
        "outputId": "76f11da8-1245-4d8a-b522-a2d4a91914e2"
      },
      "execution_count": null,
      "outputs": [
        {
          "output_type": "execute_result",
          "data": {
            "text/plain": [
              "<langgraph.graph.state.StateGraph at 0x7abb16fb52d0>"
            ]
          },
          "metadata": {},
          "execution_count": 41
        }
      ]
    },
    {
      "cell_type": "code",
      "source": [
        "graph_builder.add_edge(START,\"ai_assistant\")\n",
        "graph_builder.add_conditional_edges(\n",
        "    \"ai_assistant\",\n",
        "    tools_condition,\n",
        ")\n",
        "graph_builder.add_edge(\"tools\",\"ai_assistant\")"
      ],
      "metadata": {
        "colab": {
          "base_uri": "https://localhost:8080/"
        },
        "id": "IWk4CQqtAj4o",
        "outputId": "8aa6b1e5-d0d6-4b9d-a946-428d2902732a"
      },
      "execution_count": null,
      "outputs": [
        {
          "output_type": "execute_result",
          "data": {
            "text/plain": [
              "<langgraph.graph.state.StateGraph at 0x7abb16fb52d0>"
            ]
          },
          "metadata": {},
          "execution_count": 42
        }
      ]
    },
    {
      "cell_type": "code",
      "source": [
        "app2=graph_builder.compile(\n",
        "    checkpointer=memory,\n",
        "    interrupt_before=[\"tools\"]\n",
        ")"
      ],
      "metadata": {
        "id": "MpXB2Pk5A0Oj"
      },
      "execution_count": null,
      "outputs": []
    },
    {
      "cell_type": "code",
      "source": [
        "app2"
      ],
      "metadata": {
        "colab": {
          "base_uri": "https://localhost:8080/",
          "height": 308
        },
        "id": "Q7Ap-C0BA6Zu",
        "outputId": "ae90151b-49ae-453a-dfe6-2d57101abec8"
      },
      "execution_count": null,
      "outputs": [
        {
          "output_type": "execute_result",
          "data": {
            "text/plain": [
              "<langgraph.graph.state.CompiledStateGraph object at 0x7abb29b25bd0>"
            ],
            "image/png": "[encoded data removed]"
          },
          "metadata": {},
          "execution_count": 44
        }
      ]
    },
    {
      "cell_type": "code",
      "source": [
        "user_input = \"what is current a capital of india?\"\n",
        "config = {\"configurable\": {\"thread_id\": \"1\"}}"
      ],
      "metadata": {
        "id": "Ql9EOnTfA85U"
      },
      "execution_count": null,
      "outputs": []
    },
    {
      "cell_type": "code",
      "source": [
        "# The config is the **second positional argument** to stream() or invoke()!\n",
        "events = app2.stream(\n",
        "    {\"messages\": [(\"user\", user_input)]}, config, stream_mode=\"values\"\n",
        ")"
      ],
      "metadata": {
        "id": "Aw-ga6ZOBAwQ"
      },
      "execution_count": null,
      "outputs": []
    },
    {
      "cell_type": "code",
      "source": [
        "for event in events:\n",
        "    if \"messages\" in event:\n",
        "        event[\"messages\"][-1].pretty_print()"
      ],
      "metadata": {
        "colab": {
          "base_uri": "https://localhost:8080/"
        },
        "id": "3O98N1NLBC1D",
        "outputId": "a2195405-b2ff-4509-c557-a1a1cfed5d0e"
      },
      "execution_count": null,
      "outputs": [
        {
          "output_type": "stream",
          "name": "stdout",
          "text": [
            "================================\u001b[1m Human Message \u001b[0m=================================\n",
            "\n",
            "what is current a capital of india?\n",
            "==================================\u001b[1m Ai Message \u001b[0m==================================\n",
            "Tool Calls:\n",
            "  search (call_wc4y)\n",
            " Call ID: call_wc4y\n",
            "  Args:\n",
            "    query: what is the capital of india\n"
          ]
        }
      ]
    },
    {
      "cell_type": "code",
      "source": [
        "snapshot = app2.get_state(config)\n",
        "snapshot.next"
      ],
      "metadata": {
        "colab": {
          "base_uri": "https://localhost:8080/"
        },
        "id": "xJCsBlZ-BE35",
        "outputId": "4bc7a9c3-8120-4282-b813-40e4a402185d"
      },
      "execution_count": null,
      "outputs": [
        {
          "output_type": "execute_result",
          "data": {
            "text/plain": [
              "('tools',)"
            ]
          },
          "metadata": {},
          "execution_count": 48
        }
      ]
    },
    {
      "cell_type": "code",
      "source": [
        "last_message=snapshot.values[\"messages\"][-1]"
      ],
      "metadata": {
        "id": "KPhy8jHMBKUT"
      },
      "execution_count": null,
      "outputs": []
    },
    {
      "cell_type": "code",
      "source": [
        "last_message.tool_calls"
      ],
      "metadata": {
        "colab": {
          "base_uri": "https://localhost:8080/"
        },
        "id": "SA3PslCcBMu1",
        "outputId": "81978fa1-64af-4a67-af30-32d7e6ec14f0"
      },
      "execution_count": null,
      "outputs": [
        {
          "output_type": "execute_result",
          "data": {
            "text/plain": [
              "[{'name': 'search',\n",
              "  'args': {'query': 'what is the capital of india'},\n",
              "  'id': 'call_wc4y',\n",
              "  'type': 'tool_call'}]"
            ]
          },
          "metadata": {},
          "execution_count": 50
        }
      ]
    },
    {
      "cell_type": "code",
      "source": [
        "# `None` will append nothing new to the current state, letting it resume as if it had never been interrupted\n",
        "events = app2.stream(None, config, stream_mode=\"values\")"
      ],
      "metadata": {
        "id": "QdSAJA2EBOgA"
      },
      "execution_count": null,
      "outputs": []
    },
    {
      "cell_type": "code",
      "source": [
        "for event in events:\n",
        "    if \"messages\" in event:\n",
        "        event[\"messages\"][-1].pretty_print()"
      ],
      "metadata": {
        "colab": {
          "base_uri": "https://localhost:8080/"
        },
        "id": "Xgsj_TVIBQhd",
        "outputId": "31eb830d-086a-4158-82bc-cb0d34f38fd1"
      },
      "execution_count": null,
      "outputs": [
        {
          "output_type": "stream",
          "name": "stdout",
          "text": [
            "==================================\u001b[1m Ai Message \u001b[0m==================================\n",
            "Tool Calls:\n",
            "  search (call_wc4y)\n",
            " Call ID: call_wc4y\n",
            "  Args:\n",
            "    query: what is the capital of india\n",
            "=================================\u001b[1m Tool Message \u001b[0m=================================\n",
            "Name: search\n",
            "\n",
            "New Delhi, national capital of India. It is situated in the north-central part of the country on the west bank of the Yamuna River, adjacent to and just south of Delhi city (Old Delhi) and within the Delhi national capital territory. Learn more about New Delhi in this article. Delhi is a city and national capital territory in north-central India. The city of Delhi actually consists of two components: Old Delhi, in the north, the historic city; and New Delhi, in the south, since 1947 the capital of India, built in the first part of the 20th century as the capital of British India. India, country that occupies the greater part of South Asia.It is made up of 28 states and eight union territories, and its national capital is New Delhi, built in the 20th century just south of the historic hub of Old Delhi to serve as India's administrative center.Its government is a constitutional republic that represents a highly diverse population consisting of thousands of ethnic ... The capital city of India is New Delhi, situated in the northern part of the country. It was officially declared the capital of India in 1911 during British rule, replacing Kolkata. New Delhi serves as the political, cultural, and administrative center of India. The city is renowned for its rich history, diverse culture, and architectural ... The real capital of India is New Delhi, located in the north-central part of the country to the west of the Yamuna River. It was declared as the capital of India and construction of New Delhi began in 1911. Before that, the capital of India was Calcutta (now Kolkata). What is the original name of the capital of India? The original name of the ...\n",
            "==================================\u001b[1m Ai Message \u001b[0m==================================\n",
            "\n",
            "New Delhi\n"
          ]
        }
      ]
    },
    {
      "cell_type": "code",
      "source": [
        "user_input = \"what is a weather there?\"\n",
        "\n",
        "config = {\"configurable\": {\"thread_id\": \"1\"}}"
      ],
      "metadata": {
        "id": "8yhtkS3qBTT1"
      },
      "execution_count": null,
      "outputs": []
    },
    {
      "cell_type": "code",
      "source": [
        "# The config is the **second positional argument** to stream() or invoke()!\n",
        "events = app2.stream(\n",
        "    {\"messages\": [(\"user\", user_input)]}, config, stream_mode=\"values\"\n",
        ")"
      ],
      "metadata": {
        "id": "B3MFIEEzBX2y"
      },
      "execution_count": null,
      "outputs": []
    },
    {
      "cell_type": "code",
      "source": [
        "for event in events:\n",
        "    if \"messages\" in event:\n",
        "        event[\"messages\"][-1].pretty_print()"
      ],
      "metadata": {
        "colab": {
          "base_uri": "https://localhost:8080/"
        },
        "id": "WDBEBgzqBaPy",
        "outputId": "1b309fad-aa67-425c-feff-ee92860ddfc6"
      },
      "execution_count": null,
      "outputs": [
        {
          "output_type": "stream",
          "name": "stdout",
          "text": [
            "================================\u001b[1m Human Message \u001b[0m=================================\n",
            "\n",
            "what is a weather there?\n",
            "==================================\u001b[1m Ai Message \u001b[0m==================================\n",
            "Tool Calls:\n",
            "  search (call_skcr)\n",
            " Call ID: call_skcr\n",
            "  Args:\n",
            "    query: weather in New Delhi\n"
          ]
        }
      ]
    },
    {
      "cell_type": "code",
      "source": [
        "snapshot = app2.get_state(config)\n",
        "snapshot.next"
      ],
      "metadata": {
        "colab": {
          "base_uri": "https://localhost:8080/"
        },
        "id": "M2BtTTOYBbvR",
        "outputId": "a1ce6e7c-22ce-4d54-856d-93e9ed2a9c28"
      },
      "execution_count": null,
      "outputs": [
        {
          "output_type": "execute_result",
          "data": {
            "text/plain": [
              "('tools',)"
            ]
          },
          "metadata": {},
          "execution_count": 56
        }
      ]
    },
    {
      "cell_type": "code",
      "source": [
        "last_message=snapshot.values[\"messages\"][-1]\n",
        "last_message.tool_calls"
      ],
      "metadata": {
        "colab": {
          "base_uri": "https://localhost:8080/"
        },
        "id": "2GTzdfLPBgeK",
        "outputId": "321dfa27-4a70-4e81-9eb1-6b5239963c3c"
      },
      "execution_count": null,
      "outputs": [
        {
          "output_type": "execute_result",
          "data": {
            "text/plain": [
              "[{'name': 'search',\n",
              "  'args': {'query': 'weather in New Delhi'},\n",
              "  'id': 'call_skcr',\n",
              "  'type': 'tool_call'}]"
            ]
          },
          "metadata": {},
          "execution_count": 57
        }
      ]
    },
    {
      "cell_type": "code",
      "source": [
        "# `None` will append nothing new to the current state, letting it resume as if it had never been interrupted\n",
        "events = app2.stream(None, config, stream_mode=\"values\")"
      ],
      "metadata": {
        "id": "XovV0KUJBkEn"
      },
      "execution_count": null,
      "outputs": []
    },
    {
      "cell_type": "code",
      "source": [
        "for event in events:\n",
        "    if \"messages\" in event:\n",
        "        event[\"messages\"][-1].pretty_print()"
      ],
      "metadata": {
        "id": "rWvbfOSmBqaC"
      },
      "execution_count": null,
      "outputs": []
    },
    {
      "cell_type": "code",
      "source": [
        "app2.get_state(config)"
      ],
      "metadata": {
        "colab": {
          "base_uri": "https://localhost:8080/"
        },
        "id": "CgUBuL-LBr2O",
        "outputId": "2f686eda-fb2a-4a53-c370-127c81f1e992"
      },
      "execution_count": null,
      "outputs": [
        {
          "output_type": "execute_result",
          "data": {
            "text/plain": [
              "StateSnapshot(values={'messages': [HumanMessage(content='what is current a capital of india?', additional_kwargs={}, response_metadata={}, id='2c804e6c-c9af-4659-b955-c32ba5d7c053'), AIMessage(content='', additional_kwargs={'tool_calls': [{'id': 'call_wc4y', 'function': {'arguments': '{\"query\":\"what is the capital of india\"}', 'name': 'search'}, 'type': 'function'}]}, response_metadata={'token_usage': {'completion_tokens': 84, 'prompt_tokens': 947, 'total_tokens': 1031, 'completion_time': 0.152727273, 'prompt_time': 0.038600926, 'queue_time': 0.021952354, 'total_time': 0.191328199}, 'model_name': 'Gemma2-9b-It', 'system_fingerprint': 'fp_10c08bf97d', 'finish_reason': 'tool_calls', 'logprobs': None}, id='run-b9e67cca-2427-456a-86b2-93d18c238777-0', tool_calls=[{'name': 'search', 'args': {'query': 'what is the capital of india'}, 'id': 'call_wc4y', 'type': 'tool_call'}], usage_metadata={'input_tokens': 947, 'output_tokens': 84, 'total_tokens': 1031}), ToolMessage(content=\"New Delhi, national capital of India. It is situated in the north-central part of the country on the west bank of the Yamuna River, adjacent to and just south of Delhi city (Old Delhi) and within the Delhi national capital territory. Learn more about New Delhi in this article. Delhi is a city and national capital territory in north-central India. The city of Delhi actually consists of two components: Old Delhi, in the north, the historic city; and New Delhi, in the south, since 1947 the capital of India, built in the first part of the 20th century as the capital of British India. India, country that occupies the greater part of South Asia.It is made up of 28 states and eight union territories, and its national capital is New Delhi, built in the 20th century just south of the historic hub of Old Delhi to serve as India's administrative center.Its government is a constitutional republic that represents a highly diverse population consisting of thousands of ethnic ... The capital city of India is New Delhi, situated in the northern part of the country. It was officially declared the capital of India in 1911 during British rule, replacing Kolkata. New Delhi serves as the political, cultural, and administrative center of India. The city is renowned for its rich history, diverse culture, and architectural ... The real capital of India is New Delhi, located in the north-central part of the country to the west of the Yamuna River. It was declared as the capital of India and construction of New Delhi began in 1911. Before that, the capital of India was Calcutta (now Kolkata). What is the original name of the capital of India? The original name of the ...\", name='search', id='3ea97a90-1942-4e65-a897-c564c6a843a8', tool_call_id='call_wc4y'), AIMessage(content='New Delhi', additional_kwargs={}, response_metadata={'token_usage': {'completion_tokens': 4, 'prompt_tokens': 1378, 'total_tokens': 1382, 'completion_time': 0.007272727, 'prompt_time': 0.056918402, 'queue_time': 0.08019035699999999, 'total_time': 0.064191129}, 'model_name': 'Gemma2-9b-It', 'system_fingerprint': 'fp_10c08bf97d', 'finish_reason': 'stop', 'logprobs': None}, id='run-d7953de8-c863-4250-8236-d5b263596ce1-0', usage_metadata={'input_tokens': 1378, 'output_tokens': 4, 'total_tokens': 1382}), HumanMessage(content='what is a weather there?', additional_kwargs={}, response_metadata={}, id='69be64b6-13f6-4a65-83b6-24206370e67b'), AIMessage(content='', additional_kwargs={'tool_calls': [{'id': 'call_skcr', 'function': {'arguments': '{\"query\":\"weather in New Delhi\"}', 'name': 'search'}, 'type': 'function'}]}, response_metadata={'token_usage': {'completion_tokens': 46, 'prompt_tokens': 1396, 'total_tokens': 1442, 'completion_time': 0.083636364, 'prompt_time': 0.058424037, 'queue_time': 0.025869249999999996, 'total_time': 0.142060401}, 'model_name': 'Gemma2-9b-It', 'system_fingerprint': 'fp_10c08bf97d', 'finish_reason': 'tool_calls', 'logprobs': None}, id='run-1ec3a1e4-428e-4283-8864-0cb285f15797-0', tool_calls=[{'name': 'search', 'args': {'query': 'weather in New Delhi'}, 'id': 'call_skcr', 'type': 'tool_call'}], usage_metadata={'input_tokens': 1396, 'output_tokens': 46, 'total_tokens': 1442})]}, next=('tools',), config={'configurable': {'thread_id': '1', 'checkpoint_ns': '', 'checkpoint_id': '1efd896c-12ac-65fe-8006-89631c80ca2b'}}, metadata={'source': 'loop', 'writes': {'ai_assistant': {'messages': [AIMessage(content='', additional_kwargs={'tool_calls': [{'id': 'call_skcr', 'function': {'arguments': '{\"query\":\"weather in New Delhi\"}', 'name': 'search'}, 'type': 'function'}]}, response_metadata={'token_usage': {'completion_tokens': 46, 'prompt_tokens': 1396, 'total_tokens': 1442, 'completion_time': 0.083636364, 'prompt_time': 0.058424037, 'queue_time': 0.025869249999999996, 'total_time': 0.142060401}, 'model_name': 'Gemma2-9b-It', 'system_fingerprint': 'fp_10c08bf97d', 'finish_reason': 'tool_calls', 'logprobs': None}, id='run-1ec3a1e4-428e-4283-8864-0cb285f15797-0', tool_calls=[{'name': 'search', 'args': {'query': 'weather in New Delhi'}, 'id': 'call_skcr', 'type': 'tool_call'}], usage_metadata={'input_tokens': 1396, 'output_tokens': 46, 'total_tokens': 1442})]}}, 'thread_id': '1', 'step': 6, 'parents': {}}, created_at='2025-01-22T07:59:06.927424+00:00', parent_config={'configurable': {'thread_id': '1', 'checkpoint_ns': '', 'checkpoint_id': '1efd896c-0ea2-6d97-8005-0f9fde7eaf87'}}, tasks=(PregelTask(id='e1d0373f-8b15-870e-52c2-17f571186f11', name='tools', path=('__pregel_pull', 'tools'), error=None, interrupts=(), state=None, result=None),))"
            ]
          },
          "metadata": {},
          "execution_count": 59
        }
      ]
    },
    {
      "cell_type": "code",
      "source": [
        "snapshot=app2.get_state(config)\n",
        "snapshot.next"
      ],
      "metadata": {
        "colab": {
          "base_uri": "https://localhost:8080/"
        },
        "id": "fZvdYtvnBsec",
        "outputId": "00501219-729e-47d6-f429-00e30eb8a6d2"
      },
      "execution_count": null,
      "outputs": [
        {
          "output_type": "execute_result",
          "data": {
            "text/plain": [
              "('tools',)"
            ]
          },
          "metadata": {},
          "execution_count": 60
        }
      ]
    },
    {
      "cell_type": "code",
      "source": [
        "user_input = \"give me the recent news of it?\"\n",
        "\n",
        "config = {\"configurable\": {\"thread_id\": \"1\"}}\n"
      ],
      "metadata": {
        "id": "IZYAu4P4Byst"
      },
      "execution_count": null,
      "outputs": []
    },
    {
      "cell_type": "code",
      "source": [
        "# The config is the **second positional argument** to stream() or invoke()!\n",
        "events = app2.stream(\n",
        "    {\"messages\": [(\"user\", user_input)]}, config, stream_mode=\"values\"\n",
        ")\n",
        "for event in events:\n",
        "    if \"messages\" in event:\n",
        "        event[\"messages\"][-1].pretty_print()\n",
        "\n",
        "snapshot=app2.get_state(config)\n",
        "current_message = snapshot.values[\"messages\"][-1]\n",
        "current_message.pretty_print()"
      ],
      "metadata": {
        "colab": {
          "base_uri": "https://localhost:8080/"
        },
        "id": "fr1EblibB0pb",
        "outputId": "53f853f8-6571-490d-fe92-580e13663e55"
      },
      "execution_count": null,
      "outputs": [
        {
          "output_type": "stream",
          "name": "stdout",
          "text": [
            "================================\u001b[1m Human Message \u001b[0m=================================\n",
            "\n",
            "give me the recent news of it?\n",
            "==================================\u001b[1m Ai Message \u001b[0m==================================\n",
            "Tool Calls:\n",
            "  search (call_06nx)\n",
            " Call ID: call_06nx\n",
            "  Args:\n",
            "    query: recent news New Delhi\n",
            "==================================\u001b[1m Ai Message \u001b[0m==================================\n",
            "Tool Calls:\n",
            "  search (call_06nx)\n",
            " Call ID: call_06nx\n",
            "  Args:\n",
            "    query: recent news New Delhi\n"
          ]
        }
      ]
    },
    {
      "cell_type": "code",
      "source": [
        "tool_call_id = current_message.tool_calls[0][\"id\"]\n",
        "tool_call_id"
      ],
      "metadata": {
        "colab": {
          "base_uri": "https://localhost:8080/",
          "height": 35
        },
        "id": "2sANjhIyB_3n",
        "outputId": "01ab1dc8-641e-427d-d8ac-a6818f743d6a"
      },
      "execution_count": null,
      "outputs": [
        {
          "output_type": "execute_result",
          "data": {
            "text/plain": [
              "'call_06nx'"
            ],
            "application/vnd.google.colaboratory.intrinsic+json": {
              "type": "string"
            }
          },
          "metadata": {},
          "execution_count": 63
        }
      ]
    },
    {
      "cell_type": "code",
      "source": [
        "from langchain_core.messages import AIMessage, ToolMessage\n",
        "answer = \"it is just related to raining which is happing on daily basis\"\n",
        "new_messages = [\n",
        "    ToolMessage(content=answer, tool_call_id=tool_call_id),\n",
        "    AIMessage(content=answer),\n",
        "]"
      ],
      "metadata": {
        "id": "Q7QvnIHyCEod"
      },
      "execution_count": null,
      "outputs": []
    },
    {
      "cell_type": "code",
      "source": [
        "app2.update_state(\n",
        "    config,\n",
        "    {\"messages\": new_messages},\n",
        ")"
      ],
      "metadata": {
        "colab": {
          "base_uri": "https://localhost:8080/"
        },
        "id": "uxjiacC9CO14",
        "outputId": "6ad32df7-7f4e-4088-ce00-ce81e8382ad1"
      },
      "execution_count": null,
      "outputs": [
        {
          "output_type": "execute_result",
          "data": {
            "text/plain": [
              "{'configurable': {'thread_id': '1',\n",
              "  'checkpoint_ns': '',\n",
              "  'checkpoint_id': '1efd8974-8cce-6609-800a-1d48324d5643'}}"
            ]
          },
          "metadata": {},
          "execution_count": 66
        }
      ]
    },
    {
      "cell_type": "code",
      "source": [
        "print(app2.get_state(config).values[\"messages\"][-1:])"
      ],
      "metadata": {
        "colab": {
          "base_uri": "https://localhost:8080/"
        },
        "id": "UpOGEQWrCPBx",
        "outputId": "2f0355de-ba99-4663-c008-ffc8907f125d"
      },
      "execution_count": null,
      "outputs": [
        {
          "output_type": "stream",
          "name": "stdout",
          "text": [
            "[AIMessage(content='it is just related to raining which is happing on daily basis', additional_kwargs={}, response_metadata={}, id='0c2e49cd-6380-4a01-88fd-1f0927fb6936')]\n"
          ]
        }
      ]
    },
    {
      "cell_type": "code",
      "source": [],
      "metadata": {
        "id": "1GD7s-06CTVh"
      },
      "execution_count": null,
      "outputs": []
    }
  ]
}