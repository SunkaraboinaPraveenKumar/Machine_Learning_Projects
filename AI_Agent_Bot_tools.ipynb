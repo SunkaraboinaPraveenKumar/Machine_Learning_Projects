{
  "nbformat": 4,
  "nbformat_minor": 0,
  "metadata": {
    "colab": {
      "provenance": [],
      "authorship_tag": "ABX9TyOsTl26B7Ly/g4x15MuVGNr",
      "include_colab_link": true
    },
    "kernelspec": {
      "name": "python3",
      "display_name": "Python 3"
    },
    "language_info": {
      "name": "python"
    }
  },
  "cells": [
    {
      "cell_type": "markdown",
      "metadata": {
        "id": "view-in-github",
        "colab_type": "text"
      },
      "source": [
        "<a href=\"https://colab.research.google.com/github/SunkaraboinaPraveenKumar/Machine_Learning_Projects/blob/main/AI_Agent_Bot_tools.ipynb\" target=\"_parent\"><img src=\"https://colab.research.google.com/assets/colab-badge.svg\" alt=\"Open In Colab\"/></a>"
      ]
    },
    {
      "cell_type": "code",
      "execution_count": 31,
      "metadata": {
        "colab": {
          "base_uri": "https://localhost:8080/"
        },
        "id": "_NENvbqHIwZq",
        "outputId": "527b0505-8d4c-46f7-9942-4a29f5cbbdbb"
      },
      "outputs": [
        {
          "output_type": "stream",
          "name": "stdout",
          "text": [
            "Requirement already satisfied: langchain in /usr/local/lib/python3.10/dist-packages (0.3.14)\n",
            "Requirement already satisfied: langchain_groq in /usr/local/lib/python3.10/dist-packages (0.2.3)\n",
            "Requirement already satisfied: langchain_community in /usr/local/lib/python3.10/dist-packages (0.3.14)\n",
            "Requirement already satisfied: langgraph in /usr/local/lib/python3.10/dist-packages (0.2.61)\n",
            "Requirement already satisfied: rizaio in /usr/local/lib/python3.10/dist-packages (0.4.0)\n",
            "Requirement already satisfied: graphviz in /usr/local/lib/python3.10/dist-packages (0.20.3)\n",
            "Requirement already satisfied: PyYAML>=5.3 in /usr/local/lib/python3.10/dist-packages (from langchain) (6.0.2)\n",
            "Requirement already satisfied: SQLAlchemy<3,>=1.4 in /usr/local/lib/python3.10/dist-packages (from langchain) (2.0.36)\n",
            "Requirement already satisfied: aiohttp<4.0.0,>=3.8.3 in /usr/local/lib/python3.10/dist-packages (from langchain) (3.11.11)\n",
            "Requirement already satisfied: async-timeout<5.0.0,>=4.0.0 in /usr/local/lib/python3.10/dist-packages (from langchain) (4.0.3)\n",
            "Requirement already satisfied: langchain-core<0.4.0,>=0.3.29 in /usr/local/lib/python3.10/dist-packages (from langchain) (0.3.29)\n",
            "Requirement already satisfied: langchain-text-splitters<0.4.0,>=0.3.3 in /usr/local/lib/python3.10/dist-packages (from langchain) (0.3.4)\n",
            "Requirement already satisfied: langsmith<0.3,>=0.1.17 in /usr/local/lib/python3.10/dist-packages (from langchain) (0.2.10)\n",
            "Requirement already satisfied: numpy<2,>=1.22.4 in /usr/local/lib/python3.10/dist-packages (from langchain) (1.26.4)\n",
            "Requirement already satisfied: pydantic<3.0.0,>=2.7.4 in /usr/local/lib/python3.10/dist-packages (from langchain) (2.10.4)\n",
            "Requirement already satisfied: requests<3,>=2 in /usr/local/lib/python3.10/dist-packages (from langchain) (2.32.3)\n",
            "Requirement already satisfied: tenacity!=8.4.0,<10,>=8.1.0 in /usr/local/lib/python3.10/dist-packages (from langchain) (9.0.0)\n",
            "Requirement already satisfied: groq<1,>=0.4.1 in /usr/local/lib/python3.10/dist-packages (from langchain_groq) (0.14.0)\n",
            "Requirement already satisfied: dataclasses-json<0.7,>=0.5.7 in /usr/local/lib/python3.10/dist-packages (from langchain_community) (0.6.7)\n",
            "Requirement already satisfied: httpx-sse<0.5.0,>=0.4.0 in /usr/local/lib/python3.10/dist-packages (from langchain_community) (0.4.0)\n",
            "Requirement already satisfied: pydantic-settings<3.0.0,>=2.4.0 in /usr/local/lib/python3.10/dist-packages (from langchain_community) (2.7.1)\n",
            "Requirement already satisfied: langgraph-checkpoint<3.0.0,>=2.0.4 in /usr/local/lib/python3.10/dist-packages (from langgraph) (2.0.9)\n",
            "Requirement already satisfied: langgraph-sdk<0.2.0,>=0.1.42 in /usr/local/lib/python3.10/dist-packages (from langgraph) (0.1.48)\n",
            "Requirement already satisfied: anyio<5,>=3.5.0 in /usr/local/lib/python3.10/dist-packages (from rizaio) (3.7.1)\n",
            "Requirement already satisfied: distro<2,>=1.7.0 in /usr/local/lib/python3.10/dist-packages (from rizaio) (1.9.0)\n",
            "Requirement already satisfied: httpx<1,>=0.23.0 in /usr/local/lib/python3.10/dist-packages (from rizaio) (0.28.1)\n",
            "Requirement already satisfied: sniffio in /usr/local/lib/python3.10/dist-packages (from rizaio) (1.3.1)\n",
            "Requirement already satisfied: typing-extensions<5,>=4.10 in /usr/local/lib/python3.10/dist-packages (from rizaio) (4.12.2)\n",
            "Requirement already satisfied: aiohappyeyeballs>=2.3.0 in /usr/local/lib/python3.10/dist-packages (from aiohttp<4.0.0,>=3.8.3->langchain) (2.4.4)\n",
            "Requirement already satisfied: aiosignal>=1.1.2 in /usr/local/lib/python3.10/dist-packages (from aiohttp<4.0.0,>=3.8.3->langchain) (1.3.2)\n",
            "Requirement already satisfied: attrs>=17.3.0 in /usr/local/lib/python3.10/dist-packages (from aiohttp<4.0.0,>=3.8.3->langchain) (24.3.0)\n",
            "Requirement already satisfied: frozenlist>=1.1.1 in /usr/local/lib/python3.10/dist-packages (from aiohttp<4.0.0,>=3.8.3->langchain) (1.5.0)\n",
            "Requirement already satisfied: multidict<7.0,>=4.5 in /usr/local/lib/python3.10/dist-packages (from aiohttp<4.0.0,>=3.8.3->langchain) (6.1.0)\n",
            "Requirement already satisfied: propcache>=0.2.0 in /usr/local/lib/python3.10/dist-packages (from aiohttp<4.0.0,>=3.8.3->langchain) (0.2.1)\n",
            "Requirement already satisfied: yarl<2.0,>=1.17.0 in /usr/local/lib/python3.10/dist-packages (from aiohttp<4.0.0,>=3.8.3->langchain) (1.18.3)\n",
            "Requirement already satisfied: idna>=2.8 in /usr/local/lib/python3.10/dist-packages (from anyio<5,>=3.5.0->rizaio) (3.10)\n",
            "Requirement already satisfied: exceptiongroup in /usr/local/lib/python3.10/dist-packages (from anyio<5,>=3.5.0->rizaio) (1.2.2)\n",
            "Requirement already satisfied: marshmallow<4.0.0,>=3.18.0 in /usr/local/lib/python3.10/dist-packages (from dataclasses-json<0.7,>=0.5.7->langchain_community) (3.24.2)\n",
            "Requirement already satisfied: typing-inspect<1,>=0.4.0 in /usr/local/lib/python3.10/dist-packages (from dataclasses-json<0.7,>=0.5.7->langchain_community) (0.9.0)\n",
            "Requirement already satisfied: certifi in /usr/local/lib/python3.10/dist-packages (from httpx<1,>=0.23.0->rizaio) (2024.12.14)\n",
            "Requirement already satisfied: httpcore==1.* in /usr/local/lib/python3.10/dist-packages (from httpx<1,>=0.23.0->rizaio) (1.0.7)\n",
            "Requirement already satisfied: h11<0.15,>=0.13 in /usr/local/lib/python3.10/dist-packages (from httpcore==1.*->httpx<1,>=0.23.0->rizaio) (0.14.0)\n",
            "Requirement already satisfied: jsonpatch<2.0,>=1.33 in /usr/local/lib/python3.10/dist-packages (from langchain-core<0.4.0,>=0.3.29->langchain) (1.33)\n",
            "Requirement already satisfied: packaging<25,>=23.2 in /usr/local/lib/python3.10/dist-packages (from langchain-core<0.4.0,>=0.3.29->langchain) (24.2)\n",
            "Requirement already satisfied: msgpack<2.0.0,>=1.1.0 in /usr/local/lib/python3.10/dist-packages (from langgraph-checkpoint<3.0.0,>=2.0.4->langgraph) (1.1.0)\n",
            "Requirement already satisfied: orjson>=3.10.1 in /usr/local/lib/python3.10/dist-packages (from langgraph-sdk<0.2.0,>=0.1.42->langgraph) (3.10.13)\n",
            "Requirement already satisfied: requests-toolbelt<2.0.0,>=1.0.0 in /usr/local/lib/python3.10/dist-packages (from langsmith<0.3,>=0.1.17->langchain) (1.0.0)\n",
            "Requirement already satisfied: annotated-types>=0.6.0 in /usr/local/lib/python3.10/dist-packages (from pydantic<3.0.0,>=2.7.4->langchain) (0.7.0)\n",
            "Requirement already satisfied: pydantic-core==2.27.2 in /usr/local/lib/python3.10/dist-packages (from pydantic<3.0.0,>=2.7.4->langchain) (2.27.2)\n",
            "Requirement already satisfied: python-dotenv>=0.21.0 in /usr/local/lib/python3.10/dist-packages (from pydantic-settings<3.0.0,>=2.4.0->langchain_community) (1.0.1)\n",
            "Requirement already satisfied: charset-normalizer<4,>=2 in /usr/local/lib/python3.10/dist-packages (from requests<3,>=2->langchain) (3.4.1)\n",
            "Requirement already satisfied: urllib3<3,>=1.21.1 in /usr/local/lib/python3.10/dist-packages (from requests<3,>=2->langchain) (2.3.0)\n",
            "Requirement already satisfied: greenlet!=0.4.17 in /usr/local/lib/python3.10/dist-packages (from SQLAlchemy<3,>=1.4->langchain) (3.1.1)\n",
            "Requirement already satisfied: jsonpointer>=1.9 in /usr/local/lib/python3.10/dist-packages (from jsonpatch<2.0,>=1.33->langchain-core<0.4.0,>=0.3.29->langchain) (3.0.0)\n",
            "Requirement already satisfied: mypy-extensions>=0.3.0 in /usr/local/lib/python3.10/dist-packages (from typing-inspect<1,>=0.4.0->dataclasses-json<0.7,>=0.5.7->langchain_community) (1.0.0)\n"
          ]
        }
      ],
      "source": [
        "!pip install langchain langchain_groq langchain_community langgraph rizaio graphviz"
      ]
    },
    {
      "cell_type": "code",
      "source": [
        "import os\n",
        "from google.colab import userdata\n",
        "\n",
        "groq_api_key=userdata.get('groq_api_key')\n",
        "os.environ['RIZA_API_KEY']=userdata.get('RIZA_API_KEY')\n",
        "os.environ['TAVILY_API_KEY']=userdata.get('TAVILY_API_KEY')"
      ],
      "metadata": {
        "id": "K6HZLS6QI-Un"
      },
      "execution_count": 32,
      "outputs": []
    },
    {
      "cell_type": "code",
      "source": [
        "from typing import Annotated\n",
        "from typing_extensions import TypedDict\n",
        "\n",
        "from langgraph.graph import StateGraph\n",
        "from langgraph.graph.message import add_messages\n",
        "from langgraph.prebuilt import ToolNode, tools_condition\n",
        "\n",
        "from langchain_community.tools.tavily_search import TavilySearchResults\n",
        "from langchain_community.tools.riza.command import ExecPython"
      ],
      "metadata": {
        "id": "oLUi4Db5LRjl"
      },
      "execution_count": 33,
      "outputs": []
    },
    {
      "cell_type": "code",
      "source": [
        "from langchain_groq import ChatGroq\n",
        "llm = ChatGroq(\n",
        "    groq_api_key=groq_api_key,\n",
        "    model_name=\"llama-3.2-90b-vision-preview\"\n",
        ")\n",
        "\n",
        "llm"
      ],
      "metadata": {
        "colab": {
          "base_uri": "https://localhost:8080/"
        },
        "id": "E7xM-1o2L1uC",
        "outputId": "c312ddd2-e46a-4f68-fa8b-10b9bbd19054"
      },
      "execution_count": 34,
      "outputs": [
        {
          "output_type": "execute_result",
          "data": {
            "text/plain": [
              "ChatGroq(client=<groq.resources.chat.completions.Completions object at 0x7e30b9e92020>, async_client=<groq.resources.chat.completions.AsyncCompletions object at 0x7e30b9e934f0>, model_name='llama-3.2-90b-vision-preview', model_kwargs={}, groq_api_key=SecretStr('**********'))"
            ]
          },
          "metadata": {},
          "execution_count": 34
        }
      ]
    },
    {
      "cell_type": "code",
      "source": [
        "llm.invoke('Hi, How are You?')"
      ],
      "metadata": {
        "colab": {
          "base_uri": "https://localhost:8080/"
        },
        "id": "JeXh8z5DModW",
        "outputId": "72445f82-e5c5-48ba-834d-bcedcc48f061"
      },
      "execution_count": 35,
      "outputs": [
        {
          "output_type": "execute_result",
          "data": {
            "text/plain": [
              "AIMessage(content=\"I'm just a computer program, so I don't have feelings, but thanks for asking. How can I assist you today?\", additional_kwargs={}, response_metadata={'token_usage': {'completion_tokens': 27, 'prompt_tokens': 41, 'total_tokens': 68, 'completion_time': 0.113653845, 'prompt_time': 0.005347001, 'queue_time': 0.056179279000000006, 'total_time': 0.119000846}, 'model_name': 'llama-3.2-90b-vision-preview', 'system_fingerprint': 'fp_07b97e5459', 'finish_reason': 'stop', 'logprobs': None}, id='run-b81c4e2a-3ee2-46cd-a2a5-0c968dc40b85-0', usage_metadata={'input_tokens': 41, 'output_tokens': 27, 'total_tokens': 68})"
            ]
          },
          "metadata": {},
          "execution_count": 35
        }
      ]
    },
    {
      "cell_type": "code",
      "source": [
        "tools_tavily=TavilySearchResults(max_results=3)\n",
        "tool_code_interpreter=ExecPython()\n",
        "tools=[tools_tavily, tool_code_interpreter]"
      ],
      "metadata": {
        "id": "akGrAnV1MuDR"
      },
      "execution_count": 36,
      "outputs": []
    },
    {
      "cell_type": "code",
      "source": [
        "llm_with_tools = llm.bind_tools(tools=tools)"
      ],
      "metadata": {
        "id": "YoTPFUsRM7Nc"
      },
      "execution_count": 37,
      "outputs": []
    },
    {
      "cell_type": "code",
      "source": [
        "llm_with_tools.invoke('Give me current Trending events in USA?')"
      ],
      "metadata": {
        "colab": {
          "base_uri": "https://localhost:8080/"
        },
        "id": "4xIcxId3M_BJ",
        "outputId": "a85ed4b0-50ea-4220-bf1d-db7a67f995bc"
      },
      "execution_count": 38,
      "outputs": [
        {
          "output_type": "execute_result",
          "data": {
            "text/plain": [
              "AIMessage(content='', additional_kwargs={'tool_calls': [{'id': 'call_r33d', 'function': {'arguments': '{\"query\": \"current trending events in USA\"}', 'name': 'tavily_search_results_json'}, 'type': 'function'}]}, response_metadata={'token_usage': {'completion_tokens': 22, 'prompt_tokens': 416, 'total_tokens': 438, 'completion_time': 0.131276946, 'prompt_time': 0.069910363, 'queue_time': 0.09841129500000001, 'total_time': 0.201187309}, 'model_name': 'llama-3.2-90b-vision-preview', 'system_fingerprint': 'fp_07b97e5459', 'finish_reason': 'tool_calls', 'logprobs': None}, id='run-341f5a7e-7947-488e-b43d-8a8ae14e5702-0', tool_calls=[{'name': 'tavily_search_results_json', 'args': {'query': 'current trending events in USA'}, 'id': 'call_r33d', 'type': 'tool_call'}], usage_metadata={'input_tokens': 416, 'output_tokens': 22, 'total_tokens': 438})"
            ]
          },
          "metadata": {},
          "execution_count": 38
        }
      ]
    },
    {
      "cell_type": "code",
      "source": [
        "response = llm.invoke('''\n",
        "### What is the output of print(['a']+[2])\n",
        "''')\n",
        "\n",
        "if hasattr(response, 'content'):\n",
        "  print('AI response Content:', response.content)\n",
        "else:\n",
        "  print('AI Response:',response)"
      ],
      "metadata": {
        "colab": {
          "base_uri": "https://localhost:8080/"
        },
        "id": "3f3anJCdNF1N",
        "outputId": "f5ee5269-d536-4663-8f06-d0268870a9a5"
      },
      "execution_count": 39,
      "outputs": [
        {
          "output_type": "stream",
          "name": "stdout",
          "text": [
            "AI response Content: The output of `print(['a'] + [2])` will be:\n",
            "\n",
            "```\n",
            "['a', 2]\n",
            "```\n",
            "\n",
            "In Python, when you use the `+` operator with lists, it concatenates the two lists into a new list. So, `['a'] + [2]` creates a new list that contains all the elements from the first list (`['a']`) followed by all the elements from the second list (`[2]`).\n"
          ]
        }
      ]
    },
    {
      "cell_type": "code",
      "source": [
        "class State(TypedDict):\n",
        "  messages:Annotated[list, add_messages]"
      ],
      "metadata": {
        "id": "5gXJsl51NvO6"
      },
      "execution_count": 40,
      "outputs": []
    },
    {
      "cell_type": "code",
      "source": [
        "# Define a chatbot function that takes a state as input and returns a new state with updated messages\n",
        "def chatbot(state: State):\n",
        "  return {\"messages\":[llm_with_tools.invoke(state[\"messages\"])]} ## Invoke the LLM on the Input messages"
      ],
      "metadata": {
        "id": "uxiE4R0KN5Hc"
      },
      "execution_count": 41,
      "outputs": []
    },
    {
      "cell_type": "code",
      "source": [
        "graph_builder = StateGraph(State)\n",
        "graph_builder.add_node(\"chatbot\",chatbot)\n",
        "tool_node=ToolNode(tools=tools)\n",
        "graph_builder.add_node(\"tools\",tool_node)\n",
        "graph_builder.add_conditional_edges(\n",
        "    \"chatbot\",\n",
        "    tools_condition,\n",
        ")\n",
        "\n",
        "graph_builder.add_edge(\"tools\",\"chatbot\")\n",
        "graph_builder.set_entry_point(\"chatbot\")\n",
        "\n",
        "graph = graph_builder.compile()"
      ],
      "metadata": {
        "id": "7t_dARtfOP7b"
      },
      "execution_count": 42,
      "outputs": []
    },
    {
      "cell_type": "code",
      "source": [
        "from IPython.display import Image, display\n",
        "try:\n",
        "  display(Image(graph.get_graph().draw_mermaid_png()))\n",
        "except Exception:\n",
        "  display(Image(graph.get_graph().draw_graphviz_png()))"
      ],
      "metadata": {
        "colab": {
          "base_uri": "https://localhost:8080/",
          "height": 266
        },
        "id": "qpa7tUHHOzQZ",
        "outputId": "8e5dd467-cc15-4715-bf2f-daadb5011395"
      },
      "execution_count": 43,
      "outputs": [
        {
          "output_type": "display_data",
          "data": {
            "image/png": "[encoded data removed]",
            "text/plain": [
              "<IPython.core.display.Image object>"
            ]
          },
          "metadata": {}
        }
      ]
    },
    {
      "cell_type": "code",
      "source": [
        "def stream_graph_updates(user_input:str):\n",
        "  \"\"\"\n",
        "  Streams updates from the compiled graph based on user input.\n",
        "\n",
        "  Args:\n",
        "    user_input (str): The user's input message.\n",
        "\n",
        "  Prints:\n",
        "    str: The assistant's response message.\n",
        "  \"\"\"\n",
        "\n",
        "  initial_state = {\"messages\":[(\"user\",user_input)]}\n",
        "\n",
        "  for event in graph.stream(initial_state):\n",
        "    for value in event.values():\n",
        "      print(\"Assistant:\", value[\"messages\"][-1].content)"
      ],
      "metadata": {
        "id": "6DfoL9uyPCWb"
      },
      "execution_count": 44,
      "outputs": []
    },
    {
      "cell_type": "code",
      "source": [
        "while True:\n",
        "  try:\n",
        "    user_input = input(\"User: \")\n",
        "    if user_input.lower() in [\"quit\",\"exit\",\"q\"]:\n",
        "      print(\"Goodbye!\")\n",
        "      break\n",
        "    stream_graph_updates(user_input)\n",
        "  except Exception as e:\n",
        "    print(\"Exceptions occured during processing:\",e)\n",
        "    stream_graph_updates(user_input)\n",
        "    break"
      ],
      "metadata": {
        "colab": {
          "base_uri": "https://localhost:8080/"
        },
        "id": "obNDlNKlPu7R",
        "outputId": "dc8e784a-34fd-413c-cd24-b90f2a848f76"
      },
      "execution_count": 45,
      "outputs": [
        {
          "output_type": "stream",
          "name": "stdout",
          "text": [
            "User: What is Latest News in Tirupati?\n",
            "Assistant: \n",
            "Assistant: [{\"url\": \"https://www.youtube.com/watch?v=-nrvDJh-5eo\", \"content\": \"At least 6 persons lost their lives and several others sustained injuries after a stampede broke out at the Tirupati Temple on January 08.\"}, {\"url\": \"https://www.livemint.com/news/india/tirupati-stampede-news-live-updates-tirumala-balaji-temple-ttd-dead-injured-andhra-pradesh-cm-naidu-pawan-kalyan-11736392283938.html\", \"content\": \"Tirupati Stampede News LIVE: At least six people were killed in a temple stampede in Tirumala Tirupati. Andhra Pradesh Chief Minister\"}, {\"url\": \"https://www.hindustantimes.com/india-news/tirupati-stampede-live-updates-deaths-injuries-vaikunta-dwara-darshanam-ticket-andhra-pradesh-101736355724734.html\", \"content\": \"Tirupati stampede live updates: At least six people were killed and several others injured after a stampede broke out near Tirupati's Vishnu\"}]\n",
            "Assistant: There has been a recent stampede at the Tirupati Temple, which has resulted in at least 6 deaths and several injuries.\n",
            "User: What is Latest News in BRS Telangana?\n",
            "Assistant: \n",
            "Assistant: [{\"url\": \"https://www.siasat.com/telangana-brs-leaders-under-house-arrest-ahead-of-ktrs-acb-questioning-3161943/\", \"content\": \"Hyderabad: Bharat Rashtra Samithi (BRS) leaders, including MLA T Harish Rao, were placed under house arrest on Thursday, January 9, ahead of BRS working president KT Rama Rao's (KTR) questioning by the Anti Corruption Bureau (ACB) in the alleged Formula E scam worth 54.88 crore.\"}, {\"url\": \"https://www.indiatvnews.com/telangana/news-telangana-brs-chief-kt-rama-rao-summoned-by-acb-for-questioning-on-jan-6-in-formula-e-race-case-2025-01-03-969374\", \"content\": \"Bharat Rashrta Samithi (BRS) president KT Rama Rao (KTR) has been summoned by the Telangana Anti Corruption Bureau (ACB) for questioning in the Formula E race case, on January 6, at 10 am. The\"}, {\"url\": \"https://telanganatoday.com/acb-questions-ktr-brs-leaders-remain-stationed-at-telangana-bhavan\", \"content\": \"Hyderabad: Even as the ACB continued to question BRS working president KT Rama Rao in the Formula-E race case, senior party leaders remained alert and monitored the situation from the party headquarters in Telangana Bhavan on Thursday.. Rama Rao reached the ACB office in Banjara Hills at 10 am as per the notice issued to him, along with his lawyer and was escorted into the interrogation room.\"}]\n",
            "Assistant: As of January 9, 2025, the latest news in BRS Telangana includes the house arrest of BRS leaders, including MLA T Harish Rao, ahead of KT Rama Rao's questioning by the Anti Corruption Bureau (ACB) in the alleged Formula E scam worth 54.88 crore, as well as the ongoing questioning of KT Rama Rao by the ACB in the same case.\n",
            "User: exit\n",
            "Goodbye!\n"
          ]
        }
      ]
    },
    {
      "cell_type": "code",
      "source": [
        "user_input=\"run the python code to find permutations present in 'aabc' sequence?\"\n",
        "\n",
        "events = graph.stream(\n",
        "    {\"messages\":[(\"user\",user_input)]}, stream_mode=\"values\"\n",
        ")\n",
        "\n",
        "for event in events:\n",
        "  event[\"messages\"][-1].pretty_print()"
      ],
      "metadata": {
        "id": "meiQemTKQH64",
        "colab": {
          "base_uri": "https://localhost:8080/"
        },
        "outputId": "07558ff2-4778-402b-b642-28cbe6fbabf5"
      },
      "execution_count": 46,
      "outputs": [
        {
          "output_type": "stream",
          "name": "stdout",
          "text": [
            "================================\u001b[1m Human Message \u001b[0m=================================\n",
            "\n",
            "run the python code to find permutations present in 'aabc' sequence?\n",
            "==================================\u001b[1m Ai Message \u001b[0m==================================\n",
            "Tool Calls:\n",
            "  riza_exec_python (call_62vn)\n",
            " Call ID: call_62vn\n",
            "  Args:\n",
            "    code: import itertools\n",
            "print(list(itertools.permutations('aabc')))\n",
            "=================================\u001b[1m Tool Message \u001b[0m=================================\n",
            "Name: riza_exec_python\n",
            "\n",
            "[('a', 'a', 'b', 'c'), ('a', 'a', 'c', 'b'), ('a', 'b', 'a', 'c'), ('a', 'b', 'c', 'a'), ('a', 'c', 'a', 'b'), ('a', 'c', 'b', 'a'), ('a', 'a', 'b', 'c'), ('a', 'a', 'c', 'b'), ('a', 'b', 'a', 'c'), ('a', 'b', 'c', 'a'), ('a', 'c', 'a', 'b'), ('a', 'c', 'b', 'a'), ('b', 'a', 'a', 'c'), ('b', 'a', 'c', 'a'), ('b', 'a', 'a', 'c'), ('b', 'a', 'c', 'a'), ('b', 'c', 'a', 'a'), ('b', 'c', 'a', 'a'), ('c', 'a', 'a', 'b'), ('c', 'a', 'b', 'a'), ('c', 'a', 'a', 'b'), ('c', 'a', 'b', 'a'), ('c', 'b', 'a', 'a'), ('c', 'b', 'a', 'a')]\n",
            "\n",
            "==================================\u001b[1m Ai Message \u001b[0m==================================\n",
            "\n",
            "The code has been executed, and it has generated all possible permutations of the sequence 'aabc'.\n"
          ]
        }
      ]
    },
    {
      "cell_type": "code",
      "source": [],
      "metadata": {
        "id": "OI4ZjAKIRVOj"
      },
      "execution_count": null,
      "outputs": []
    }
  ]
}