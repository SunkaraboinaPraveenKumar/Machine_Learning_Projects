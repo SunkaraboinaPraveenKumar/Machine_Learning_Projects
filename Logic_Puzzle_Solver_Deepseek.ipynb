{
  "nbformat": 4,
  "nbformat_minor": 0,
  "metadata": {
    "colab": {
      "provenance": [],
      "gpuType": "T4",
      "authorship_tag": "ABX9TyMf4JbLcHW0MzvuFcYzYDtZ",
      "include_colab_link": true
    },
    "kernelspec": {
      "name": "python3",
      "display_name": "Python 3"
    },
    "language_info": {
      "name": "python"
    },
    "accelerator": "GPU"
  },
  "cells": [
    {
      "cell_type": "markdown",
      "metadata": {
        "id": "view-in-github",
        "colab_type": "text"
      },
      "source": [
        "<a href=\"https://colab.research.google.com/github/SunkaraboinaPraveenKumar/Machine_Learning_Projects/blob/main/Logic_Puzzle_Solver_Deepseek.ipynb\" target=\"_parent\"><img src=\"https://colab.research.google.com/assets/colab-badge.svg\" alt=\"Open In Colab\"/></a>"
      ]
    },
    {
      "cell_type": "code",
      "execution_count": 1,
      "metadata": {
        "colab": {
          "base_uri": "https://localhost:8080/"
        },
        "id": "cuVpEsZnGQwW",
        "outputId": "3e5fe0bd-55f5-4a5b-8e62-77d955535257"
      },
      "outputs": [
        {
          "output_type": "stream",
          "name": "stdout",
          "text": [
            "\u001b[2K   \u001b[90m━━━━━━━━━━━━━━━━━━━━━━━━━━━━━━━━━━━━━━━━\u001b[0m \u001b[32m363.4/363.4 MB\u001b[0m \u001b[31m4.3 MB/s\u001b[0m eta \u001b[36m0:00:00\u001b[0m\n",
            "\u001b[2K   \u001b[90m━━━━━━━━━━━━━━━━━━━━━━━━━━━━━━━━━━━━━━━━\u001b[0m \u001b[32m13.8/13.8 MB\u001b[0m \u001b[31m76.7 MB/s\u001b[0m eta \u001b[36m0:00:00\u001b[0m\n",
            "\u001b[2K   \u001b[90m━━━━━━━━━━━━━━━━━━━━━━━━━━━━━━━━━━━━━━━━\u001b[0m \u001b[32m24.6/24.6 MB\u001b[0m \u001b[31m62.1 MB/s\u001b[0m eta \u001b[36m0:00:00\u001b[0m\n",
            "\u001b[2K   \u001b[90m━━━━━━━━━━━━━━━━━━━━━━━━━━━━━━━━━━━━━━━━\u001b[0m \u001b[32m883.7/883.7 kB\u001b[0m \u001b[31m41.3 MB/s\u001b[0m eta \u001b[36m0:00:00\u001b[0m\n",
            "\u001b[2K   \u001b[90m━━━━━━━━━━━━━━━━━━━━━━━━━━━━━━━━━━━━━━━━\u001b[0m \u001b[32m664.8/664.8 MB\u001b[0m \u001b[31m2.0 MB/s\u001b[0m eta \u001b[36m0:00:00\u001b[0m\n",
            "\u001b[2K   \u001b[90m━━━━━━━━━━━━━━━━━━━━━━━━━━━━━━━━━━━━━━━━\u001b[0m \u001b[32m211.5/211.5 MB\u001b[0m \u001b[31m5.1 MB/s\u001b[0m eta \u001b[36m0:00:00\u001b[0m\n",
            "\u001b[2K   \u001b[90m━━━━━━━━━━━━━━━━━━━━━━━━━━━━━━━━━━━━━━━━\u001b[0m \u001b[32m56.3/56.3 MB\u001b[0m \u001b[31m9.4 MB/s\u001b[0m eta \u001b[36m0:00:00\u001b[0m\n",
            "\u001b[2K   \u001b[90m━━━━━━━━━━━━━━━━━━━━━━━━━━━━━━━━━━━━━━━━\u001b[0m \u001b[32m127.9/127.9 MB\u001b[0m \u001b[31m8.7 MB/s\u001b[0m eta \u001b[36m0:00:00\u001b[0m\n",
            "\u001b[2K   \u001b[90m━━━━━━━━━━━━━━━━━━━━━━━━━━━━━━━━━━━━━━━━\u001b[0m \u001b[32m207.5/207.5 MB\u001b[0m \u001b[31m5.1 MB/s\u001b[0m eta \u001b[36m0:00:00\u001b[0m\n",
            "\u001b[2K   \u001b[90m━━━━━━━━━━━━━━━━━━━━━━━━━━━━━━━━━━━━━━━━\u001b[0m \u001b[32m21.1/21.1 MB\u001b[0m \u001b[31m59.3 MB/s\u001b[0m eta \u001b[36m0:00:00\u001b[0m\n",
            "\u001b[2K   \u001b[90m━━━━━━━━━━━━━━━━━━━━━━━━━━━━━━━━━━━━━━━━\u001b[0m \u001b[32m57.8/57.8 MB\u001b[0m \u001b[31m11.4 MB/s\u001b[0m eta \u001b[36m0:00:00\u001b[0m\n",
            "\u001b[2K   \u001b[90m━━━━━━━━━━━━━━━━━━━━━━━━━━━━━━━━━━━━━━━━\u001b[0m \u001b[32m321.9/321.9 kB\u001b[0m \u001b[31m25.3 MB/s\u001b[0m eta \u001b[36m0:00:00\u001b[0m\n",
            "\u001b[2K   \u001b[90m━━━━━━━━━━━━━━━━━━━━━━━━━━━━━━━━━━━━━━━━\u001b[0m \u001b[32m2.9/2.9 MB\u001b[0m \u001b[31m63.6 MB/s\u001b[0m eta \u001b[36m0:00:00\u001b[0m\n",
            "\u001b[2K   \u001b[90m━━━━━━━━━━━━━━━━━━━━━━━━━━━━━━━━━━━━━━━━\u001b[0m \u001b[32m121.9/121.9 kB\u001b[0m \u001b[31m10.2 MB/s\u001b[0m eta \u001b[36m0:00:00\u001b[0m\n",
            "\u001b[2K   \u001b[90m━━━━━━━━━━━━━━━━━━━━━━━━━━━━━━━━━━━━━━━━\u001b[0m \u001b[32m94.8/94.8 kB\u001b[0m \u001b[31m7.8 MB/s\u001b[0m eta \u001b[36m0:00:00\u001b[0m\n",
            "\u001b[2K   \u001b[90m━━━━━━━━━━━━━━━━━━━━━━━━━━━━━━━━━━━━━━━━\u001b[0m \u001b[32m12.4/12.4 MB\u001b[0m \u001b[31m69.4 MB/s\u001b[0m eta \u001b[36m0:00:00\u001b[0m\n",
            "\u001b[2K   \u001b[90m━━━━━━━━━━━━━━━━━━━━━━━━━━━━━━━━━━━━━━━━\u001b[0m \u001b[32m71.5/71.5 kB\u001b[0m \u001b[31m5.8 MB/s\u001b[0m eta \u001b[36m0:00:00\u001b[0m\n",
            "\u001b[2K   \u001b[90m━━━━━━━━━━━━━━━━━━━━━━━━━━━━━━━━━━━━━━━━\u001b[0m \u001b[32m62.3/62.3 kB\u001b[0m \u001b[31m5.4 MB/s\u001b[0m eta \u001b[36m0:00:00\u001b[0m\n",
            "\u001b[2K   \u001b[90m━━━━━━━━━━━━━━━━━━━━━━━━━━━━━━━━━━━━━━━━\u001b[0m \u001b[32m422.9/422.9 kB\u001b[0m \u001b[31m26.6 MB/s\u001b[0m eta \u001b[36m0:00:00\u001b[0m\n",
            "\u001b[2K   \u001b[90m━━━━━━━━━━━━━━━━━━━━━━━━━━━━━━━━━━━━━━━━\u001b[0m \u001b[32m969.6/969.6 kB\u001b[0m \u001b[31m43.6 MB/s\u001b[0m eta \u001b[36m0:00:00\u001b[0m\n",
            "\u001b[2K   \u001b[90m━━━━━━━━━━━━━━━━━━━━━━━━━━━━━━━━━━━━━━━━\u001b[0m \u001b[32m286.6/286.6 kB\u001b[0m \u001b[31m20.6 MB/s\u001b[0m eta \u001b[36m0:00:00\u001b[0m\n",
            "\u001b[?25h"
          ]
        }
      ],
      "source": [
        "!pip install torch gradio pillow easyocr -q groq"
      ]
    },
    {
      "cell_type": "code",
      "source": [
        "import easyocr\n",
        "import groq\n",
        "reader = easyocr.Reader(['en'])"
      ],
      "metadata": {
        "colab": {
          "base_uri": "https://localhost:8080/"
        },
        "id": "9puhljqxGaA5",
        "outputId": "a3b43323-5459-486d-c94d-990236040256"
      },
      "execution_count": 2,
      "outputs": [
        {
          "output_type": "stream",
          "name": "stderr",
          "text": [
            "WARNING:easyocr.easyocr:Downloading detection model, please wait. This may take several minutes depending upon your network connection.\n"
          ]
        },
        {
          "output_type": "stream",
          "name": "stdout",
          "text": [
            "Progress: |██████████████████████████████████████████████████| 100.0% Complete"
          ]
        },
        {
          "output_type": "stream",
          "name": "stderr",
          "text": [
            "WARNING:easyocr.easyocr:Downloading recognition model, please wait. This may take several minutes depending upon your network connection.\n"
          ]
        },
        {
          "output_type": "stream",
          "name": "stdout",
          "text": [
            "Progress: |██████████████████████████████████████████████████| 100.0% Complete"
          ]
        }
      ]
    },
    {
      "cell_type": "code",
      "source": [
        "from google.colab import userdata\n",
        "import os\n",
        "os.environ['GROQ_API_KEY']=userdata.get('groq_api_key')"
      ],
      "metadata": {
        "id": "_YdN91HSGjMk"
      },
      "execution_count": 3,
      "outputs": []
    },
    {
      "cell_type": "code",
      "source": [
        "client = groq.Client(api_key=os.environ['GROQ_API_KEY'])"
      ],
      "metadata": {
        "id": "8kJtJjdvGt_Q"
      },
      "execution_count": 4,
      "outputs": []
    },
    {
      "cell_type": "code",
      "source": [
        "def solve_puzzle(image):\n",
        "  try:\n",
        "    image_path=\"uploaded_puzzle.png\"\n",
        "    image.save(image_path)\n",
        "\n",
        "    results = reader.readtext(image_path)\n",
        "    extracted_text = \" \".join([res[1] for res in results])\n",
        "\n",
        "    extracted_text.replace(\"??\",\"?\")\n",
        "    if \"?\" not in extracted_text:\n",
        "      extracted_text+=\"?\"\n",
        "\n",
        "    print(\"Extracted Text:\",extracted_text)\n",
        "\n",
        "    refined_text = extracted_text.replace('x','*').replace(\"X\",'*').replace(\"=\",\" = \").strip()\n",
        "    print(\"Refined Text:\",refined_text)\n",
        "    puzzle_prompt = (\n",
        "      f\"You are an AI specialized in solving puzzles. Analyze the following, identify hidden patterns or rules, and provide the missing values step by step reasoning.\"\n",
        "      f\"\\nPuzzle:\\n {refined_text}\\n\"\n",
        "      \"Format Your Response strictly as follows:\\n\"\n",
        "      \"1. **Given Equation**:\\n - (original equations)\\n\"\n",
        "      \"2. **Pattern Identified:**:\\n (explain the hidden logic)\\n\"\n",
        "      \"3. **Step-by-step calculation**:\\n - For (input values):\\n  (calculation and result)\\n\"\n",
        "      \"4. **Final Answer**:\\n - (Answer = X)\\n\"\n",
        "      )\n",
        "\n",
        "    response = client.chat.completions.create(\n",
        "        model=\"deepseek-r1-distill-llama-70b\",\n",
        "        messages=[{\"role\":\"user\",\"content\":puzzle_prompt}],\n",
        "        temperature=0,\n",
        "        max_tokens=1000\n",
        "    )\n",
        "\n",
        "    if response and response.choices:\n",
        "      return response.choices[0].message.content.strip()\n",
        "    else:\n",
        "      return \"Error\"\n",
        "  except Exception as e:\n",
        "    return f\"Error: {str(e)}\""
      ],
      "metadata": {
        "id": "Ucg2tjVdG0vp"
      },
      "execution_count": 21,
      "outputs": []
    },
    {
      "cell_type": "code",
      "source": [
        "!pip install pillow"
      ],
      "metadata": {
        "colab": {
          "base_uri": "https://localhost:8080/"
        },
        "id": "tFaJ9sG-IxpI",
        "outputId": "2f043fcd-59e8-4fa7-e1b6-3b41531a0017"
      },
      "execution_count": 22,
      "outputs": [
        {
          "output_type": "stream",
          "name": "stdout",
          "text": [
            "Requirement already satisfied: pillow in /usr/local/lib/python3.11/dist-packages (11.1.0)\n"
          ]
        }
      ]
    },
    {
      "cell_type": "code",
      "source": [
        "from PIL import Image\n",
        "img = Image.open(\"/content/puzzle.png\")"
      ],
      "metadata": {
        "id": "JKHzgHrSH_S7"
      },
      "execution_count": 23,
      "outputs": []
    },
    {
      "cell_type": "code",
      "source": [
        "solve_puzzle(img)"
      ],
      "metadata": {
        "colab": {
          "base_uri": "https://localhost:8080/",
          "height": 298
        },
        "id": "yeXNg2V9IQ5J",
        "outputId": "977edf49-10cd-4027-e893-ed0d2ae1eb8f"
      },
      "execution_count": 24,
      "outputs": [
        {
          "output_type": "stream",
          "name": "stdout",
          "text": [
            "Extracted Text: 8 9 3 | 1| 8 | 9 9 | 7 | | C 2 | 8 | 6 | 5 | 2 1 | | 2 | 6 3 6 4 | 4 | 2 | 9 | 7 3 Ws] | 49 2 2 | | 3 | |5| 7 | 8 4 | 2 11 |5?\n",
            "Refined Text: 8 9 3 | 1| 8 | 9 9 | 7 | | C 2 | 8 | 6 | 5 | 2 1 | | 2 | 6 3 6 4 | 4 | 2 | 9 | 7 3 Ws] | 49 2 2 | | 3 | |5| 7 | 8 4 | 2 11 |5?\n"
          ]
        },
        {
          "output_type": "execute_result",
          "data": {
            "text/plain": [
              "\"<think>\\nOkay, so I'm trying to solve this puzzle that was given. It looks like a series of numbers and some missing values represented by question marks. The puzzle is laid out in a specific format, and I need to figure out the hidden pattern or rule that connects these numbers. Let me break it down step by step.\\n\\nFirst, I'll write down the given equation as it's presented:\\n\\n8 9 3 | 1| 8 | 9 9 | 7 | | C 2 | 8 | 6 | 5 | 2 1 | | 2 | 6 3 6 4 | 4 | 2 | 9 | 7 3 Ws] | 49 2 2 | | 3 | |5| 7 | 8 4 | 2 11 |5?\\n\\nHmm, this looks a bit messy. I notice that there are numbers separated by spaces and some are grouped with pipes |. There are also some letters like C and Ws, which might be abbreviations or part of the pattern. The question marks at the end indicate missing values that I need to find.\\n\\nI think the first step is to see if there's a mathematical relationship between the numbers. Maybe each group of numbers is connected through some operation like addition, subtraction, multiplication, or division. Alternatively, it could be something like the sum of digits or differences between numbers.\\n\\nLooking at the first few numbers: 8, 9, 3. Maybe these are being operated on to get the next number, which is 1. Let me check: 8 + 9 + 3 equals 20, which doesn't relate to 1. Maybe it's the sum modulo something? 20 mod 19 is 1, but that seems arbitrary. Alternatively, maybe it's the difference between the highest and lowest numbers: 9 - 3 = 6, which isn't 1 either. Maybe it's the number of even numbers or something else. 8 is even, 9 is odd, 3 is odd, so only one even number, which could be 1. That might fit.\\n\\nNext group: 8, 9, 9. If I apply the same logic, how many even numbers are there? 8 is even, 9 and 9 are odd. So again, one even number, which would be 1. But the next number is 7, not 1. So that doesn't fit. Maybe it's the sum of even numbers minus the sum of odd numbers. For the first group: 8 (even) and 9+3=12 (odd). 8 - 12 = -4, which doesn't relate to 1. Hmm, not helpful.\\n\\nLet me try another approach. Maybe it's the sum of the digits. For 8,9,3: 8+9+3=20. Maybe 20 is being reduced to 1 by some method, like 2+0=2, but that's not 1. Alternatively, maybe it's the number of vowels in the spelled-out numbers. Eight has two vowels, nine has two, three has one. Total vowels: 2+2+1=5, which isn't 1. That doesn't fit either.\\n\\nWait, maybe it's the count of something else. Let's see the next group: 8,9,9. The next number is 7. If I take the first group's result as 1, maybe 8,9,3 leads to 1, and then 8,9,9 leads to 7. How? Maybe 8+9+9=26, and 26 mod 10 is 6, but that's not 7. Alternatively, 8+9+9=26, and 2+6=8, which is not 7. Maybe it's the number of letters in the spelled-out numbers: eight (5), nine (4), nine (4). Total letters: 5+4+4=13, which doesn't relate to 7.\\n\\nThis isn't working. Maybe I should look for a different pattern. Perhaps each group is being halved or something. 8,9,3: maybe (8+9)/3=17/3≈5.666, which isn't 1. Not helpful.\\n\\nWait, maybe it's the difference between the first and last numbers. 8 and 3: 8-3=5, but the result is 1. Doesn't fit. Alternatively, 9-3=6, which isn't 1 either.\\n\\nLet me look further into the puzzle. After the first few groups, there's a C and some numbers. Maybe C stands for something, like the number of letters or a\""
            ],
            "application/vnd.google.colaboratory.intrinsic+json": {
              "type": "string"
            }
          },
          "metadata": {},
          "execution_count": 24
        }
      ]
    },
    {
      "cell_type": "code",
      "source": [
        "from PIL import Image\n",
        "img = Image.open(\"/content/puzzle.jpg\")"
      ],
      "metadata": {
        "id": "OSxWZf3wISN6"
      },
      "execution_count": 25,
      "outputs": []
    },
    {
      "cell_type": "code",
      "source": [
        "result = solve_puzzle(img)"
      ],
      "metadata": {
        "colab": {
          "base_uri": "https://localhost:8080/"
        },
        "id": "HqDhVkIDI6ni",
        "outputId": "c2fffb53-cd30-48c3-d776-80b9cd09d884"
      },
      "execution_count": 27,
      "outputs": [
        {
          "output_type": "stream",
          "name": "stdout",
          "text": [
            "Extracted Text: Can You Solve This Number Puzzle: ? 2 + 10 = 24 3 + 6 = 27 7 + 2 = 63 5 + 3 29 1\n",
            "Refined Text: Can You Solve This Number Puzzle: ? 2 + 10  =  24 3 + 6  =  27 7 + 2  =  63 5 + 3 29 1\n"
          ]
        }
      ]
    },
    {
      "cell_type": "code",
      "source": [
        "print(result)"
      ],
      "metadata": {
        "colab": {
          "base_uri": "https://localhost:8080/"
        },
        "id": "xh9WifigI8JA",
        "outputId": "35d23711-2c06-4867-9166-aba1b20a6aae"
      },
      "execution_count": 28,
      "outputs": [
        {
          "output_type": "stream",
          "name": "stdout",
          "text": [
            "<think>\n",
            "Okay, so I've got this number puzzle here, and I need to figure out the missing value. Let me look at the equations given:\n",
            "\n",
            "? 2 + 10 = 24  \n",
            "3 + 6 = 27  \n",
            "7 + 2 = 63  \n",
            "5 + 3 = 29  \n",
            "1\n",
            "\n",
            "Hmm, I need to find out what the question mark is. Let me see if I can spot a pattern here.\n",
            "\n",
            "Starting with the first equation: 2 + 10 equals 24. Wait, 2 plus 10 is 12, but the result is 24. That's double of 12. Maybe that's a clue. Let me check the next one.\n",
            "\n",
            "3 + 6 equals 27. 3 plus 6 is 9, and 9 times 3 is 27. Oh, interesting. So maybe the operation isn't just addition. Let me see the next one.\n",
            "\n",
            "7 + 2 equals 63. 7 plus 2 is 9, and 9 times 7 is 63. Wait, that's consistent with the previous one. So maybe the pattern is (a + b) multiplied by a? Let me test that.\n",
            "\n",
            "For the first equation: (2 + 10) = 12, then 12 times 2 is 24. That works. Second equation: (3 + 6) = 9, 9 times 3 is 27. Third equation: (7 + 2) = 9, 9 times 7 is 63. Fourth equation: 5 + 3 = 8, 8 times 5 is 40, but the result is 29. Wait, that doesn't fit. Hmm, maybe I'm wrong.\n",
            "\n",
            "Let me try another approach. Maybe it's (a multiplied by b) plus a. Let's see:\n",
            "\n",
            "First equation: 2 * 10 = 20, plus 2 is 22. Not 24. Doesn't fit.\n",
            "\n",
            "Alternatively, maybe it's a squared plus b. 2² +10=4+10=14, not 24.\n",
            "\n",
            "Wait, maybe it's (a + b) multiplied by a. Let me check again.\n",
            "\n",
            "First equation: (2 +10)=12, 12*2=24. Correct.\n",
            "\n",
            "Second: (3+6)=9, 9*3=27. Correct.\n",
            "\n",
            "Third: (7+2)=9, 9*7=63. Correct.\n",
            "\n",
            "Fourth: (5+3)=8, 8*5=40. But the result is 29. That doesn't match. So maybe my pattern is wrong.\n",
            "\n",
            "Wait, maybe it's (a + b) multiplied by something else. Let me see the fourth equation again: 5 +3=8, but the result is 29. 8*3=24, plus 5 is 29. Oh, maybe it's (a + b) multiplied by a, then add b. Let me test that.\n",
            "\n",
            "First equation: (2+10)=12, 12*2=24 +10=34. No, that's not 24.\n",
            "\n",
            "Alternatively, maybe (a + b) multiplied by a, then subtract something. 12*2=24, which is the result. So that works.\n",
            "\n",
            "Second equation: (3+6)=9, 9*3=27. Correct.\n",
            "\n",
            "Third: (7+2)=9, 9*7=63. Correct.\n",
            "\n",
            "Fourth: (5+3)=8, 8*5=40. But the result is 29. Hmm, that doesn't fit. Maybe I'm missing something.\n",
            "\n",
            "Wait, maybe it's (a + b) multiplied by a, but only for the first three. The fourth one is different. Maybe the pattern changes or there's another rule.\n",
            "\n",
            "Alternatively, maybe it's a different operation. Let me think about the fourth equation: 5 +3=8, but the result is 29. 5*3=15, plus 5+3=8, 15+8=23, not 29.\n",
            "\n",
            "Wait, 5^3 is 125, which is too big. Maybe 5*5 +3=28, close to 29. Or 5*5 +4=29, but that doesn't fit.\n",
            "\n",
            "Alternatively, maybe it's (a squared) + (b squared). 5² +3²=25+9=34, not 29.\n",
            "\n",
            "Wait, maybe it's a^3 + b. 5^3=125 +3=128, no. Not helpful.\n",
            "\n",
            "Let me look at the last part: 1. Maybe that's the next equation, but it's incomplete. So the pattern must fit all given equations except the last one, which is incomplete.\n",
            "\n",
            "Wait, maybe the pattern is (a +\n"
          ]
        }
      ]
    },
    {
      "cell_type": "code",
      "source": [
        "from PIL import Image\n",
        "img = Image.open(\"/content/puzzle.jpg\")\n",
        "result = solve_puzzle(img)\n",
        "print(result)"
      ],
      "metadata": {
        "colab": {
          "base_uri": "https://localhost:8080/"
        },
        "id": "gQIBAGQzLu9k",
        "outputId": "91856883-df4a-412a-d69e-fa050cca4922"
      },
      "execution_count": 29,
      "outputs": [
        {
          "output_type": "stream",
          "name": "stdout",
          "text": [
            "Extracted Text: Salve the Nurnber Puzzle? 18 20 100 21 147 Sawaal.com\n",
            "Refined Text: Salve the Nurnber Puzzle? 18 20 100 21 147 Sawaal.com\n",
            "<think>\n",
            "Okay, so I've got this puzzle here: 18, 20, 100, 21, 147, and I need to figure out the pattern or rule that connects these numbers. The question is asking for the missing value, which I assume is the next number in the sequence or maybe the one that replaces \"Sawaal.com\" if that's part of the puzzle. Let me start by writing down the numbers to see if I can spot any obvious patterns.\n",
            "\n",
            "First, the numbers given are 18, 20, 100, 21, 147. Hmm, they don't seem to be in an arithmetic or geometric progression. Let me check the differences between consecutive numbers:\n",
            "\n",
            "20 - 18 = 2\n",
            "100 - 20 = 80\n",
            "21 - 100 = -79\n",
            "147 - 21 = 126\n",
            "\n",
            "These differences don't form a clear pattern. Maybe it's something else. Let me think about other possibilities. Sometimes, in number puzzles, each number is derived from the previous one using a specific operation or rule. Maybe it's related to the digits themselves.\n",
            "\n",
            "Looking at 18: the digits are 1 and 8. If I add them, 1 + 8 = 9. But the next number is 20, which is 2 and 0, adding to 2. That doesn't seem to help. Maybe multiplication? 1*8=8, but 20 is next, which is 2*0=0. Not matching.\n",
            "\n",
            "Wait, maybe it's about the number of letters when the number is spelled out. Let's try that.\n",
            "\n",
            "18 in English is \"eighteen,\" which has 8 letters. The next number is 20, which is \"twenty,\" also 6 letters. Hmm, but 8 to 6 doesn't explain the jump to 100. Let me check 100: \"one hundred\" has 11 letters. Then 21 is \"twenty-one,\" which is 11 letters as well. Then 147 is \"one hundred forty-seven,\" which is 20 letters. So the letter counts are 8, 6, 11, 11, 20. I don't see a clear pattern here either.\n",
            "\n",
            "Maybe it's something to do with factors or multiples. Let's see:\n",
            "\n",
            "18 factors: 1, 2, 3, 6, 9, 18\n",
            "20 factors: 1, 2, 4, 5, 10, 20\n",
            "100 factors: 1, 2, 4, 5, 10, 20, 25, 50, 100\n",
            "21 factors: 1, 3, 7, 21\n",
            "147 factors: 1, 3, 7, 21, 49, 147\n",
            "\n",
            "Not sure if that helps. Maybe the number of factors? 18 has 6, 20 has 6, 100 has 9, 21 has 4, 147 has 6. Doesn't seem to form a pattern.\n",
            "\n",
            "Another approach: maybe it's related to the previous number in some way. Let's see:\n",
            "\n",
            "From 18 to 20: 18 + 2 = 20\n",
            "From 20 to 100: 20 * 5 = 100\n",
            "From 100 to 21: 100 - 79 = 21\n",
            "From 21 to 147: 21 * 7 = 147\n",
            "\n",
            "Hmm, the operations are +2, *5, -79, *7. That seems too random. Maybe not.\n",
            "\n",
            "Wait, perhaps it's related to the sum of the digits multiplied by something. Let's try:\n",
            "\n",
            "18: 1+8=9. Maybe 9*2=18, but the next number is 20, which is 2+0=2, 2*10=20. Then 100: 1+0+0=1, 1*100=100. Then 21: 2+1=3, 3*7=21. Then 147:1+4+7=12, 12*12.25=147? That doesn't make sense because 12*12.25 is 147, but that's not a clean operation.\n",
            "\n",
            "Alternatively, maybe it's the sum of the digits multiplied by a certain number. Let's see:\n",
            "\n",
            "18: sum=9, 9*2=18\n",
            "20: sum=2, 2*10=20\n",
            "100: sum=1, 1*100=100\n",
            "21: sum=3, 3*7=21\n",
            "147: sum=12, 12*12.25=147. Hmm, but 12.25 is not an integer, so maybe that's not it.\n",
            "\n",
            "Wait, maybe it's the sum of the digits\n"
          ]
        }
      ]
    },
    {
      "cell_type": "code",
      "source": [
        "import gradio as gr\n",
        "\n",
        "interface = gr.Interface(\n",
        "    fn=solve_puzzle,\n",
        "    inputs=gr.Image(type='pil'),\n",
        "    outputs=\"text\",\n",
        "    title=\"Logic Puzzle Solver\",\n",
        "    description=\"Upload an image of a logic puzzle and get the solution.\"\n",
        ")\n",
        "interface.launch(debug=True)"
      ],
      "metadata": {
        "colab": {
          "base_uri": "https://localhost:8080/",
          "height": 680
        },
        "id": "zpi40NBmMQVo",
        "outputId": "5f186475-0d75-4610-82f3-dcf850bf1e66"
      },
      "execution_count": null,
      "outputs": [
        {
          "output_type": "stream",
          "name": "stdout",
          "text": [
            "Running Gradio in a Colab notebook requires sharing enabled. Automatically setting `share=True` (you can turn this off by setting `share=False` in `launch()` explicitly).\n",
            "\n",
            "Colab notebook detected. This cell will run indefinitely so that you can see errors and logs. To turn off, set debug=False in launch().\n",
            "* Running on public URL: https://d7310e0034a9bf38d9.gradio.live\n",
            "\n",
            "This share link expires in 72 hours. For free permanent hosting and GPU upgrades, run `gradio deploy` from the terminal in the working directory to deploy to Hugging Face Spaces (https://huggingface.co/spaces)\n"
          ]
        },
        {
          "output_type": "display_data",
          "data": {
            "text/plain": [
              "<IPython.core.display.HTML object>"
            ],
            "text/html": [
              "<div><iframe src=\"https://d7310e0034a9bf38d9.gradio.live\" width=\"100%\" height=\"500\" allow=\"autoplay; camera; microphone; clipboard-read; clipboard-write;\" frameborder=\"0\" allowfullscreen></iframe></div>"
            ]
          },
          "metadata": {}
        },
        {
          "output_type": "stream",
          "name": "stdout",
          "text": [
            "Extracted Text: Salve the Nurnber Puzzle? 18 20 100 21 147 Sawaal.com\n",
            "Refined Text: Salve the Nurnber Puzzle? 18 20 100 21 147 Sawaal.com\n"
          ]
        }
      ]
    },
    {
      "cell_type": "code",
      "source": [],
      "metadata": {
        "id": "wEb3nlZTM3b9"
      },
      "execution_count": null,
      "outputs": []
    }
  ]
}