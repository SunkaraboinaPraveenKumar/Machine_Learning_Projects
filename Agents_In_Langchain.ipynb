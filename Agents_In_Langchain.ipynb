{
  "nbformat": 4,
  "nbformat_minor": 0,
  "metadata": {
    "colab": {
      "provenance": [],
      "authorship_tag": "ABX9TyPQ6ccKx6pd17QHUHAfGgYq",
      "include_colab_link": true
    },
    "kernelspec": {
      "name": "python3",
      "display_name": "Python 3"
    },
    "language_info": {
      "name": "python"
    }
  },
  "cells": [
    {
      "cell_type": "markdown",
      "metadata": {
        "id": "view-in-github",
        "colab_type": "text"
      },
      "source": [
        "<a href=\"https://colab.research.google.com/github/SunkaraboinaPraveenKumar/Machine_Learning_Projects/blob/main/Agents_In_Langchain.ipynb\" target=\"_parent\"><img src=\"https://colab.research.google.com/assets/colab-badge.svg\" alt=\"Open In Colab\"/></a>"
      ]
    },
    {
      "cell_type": "code",
      "execution_count": 1,
      "metadata": {
        "colab": {
          "base_uri": "https://localhost:8080/"
        },
        "id": "mKOwJRmjFdyA",
        "outputId": "34539d26-3f99-4ae8-cf0f-a5e5c2dbb822"
      },
      "outputs": [
        {
          "output_type": "stream",
          "name": "stdout",
          "text": [
            "Requirement already satisfied: langchain in /usr/local/lib/python3.11/dist-packages (0.3.24)\n",
            "Collecting langchain-groq\n",
            "  Downloading langchain_groq-0.3.2-py3-none-any.whl.metadata (2.6 kB)\n",
            "Collecting langgraph\n",
            "  Downloading langgraph-0.4.1-py3-none-any.whl.metadata (7.9 kB)\n",
            "Requirement already satisfied: langchain-core<1.0.0,>=0.3.55 in /usr/local/lib/python3.11/dist-packages (from langchain) (0.3.56)\n",
            "Requirement already satisfied: langchain-text-splitters<1.0.0,>=0.3.8 in /usr/local/lib/python3.11/dist-packages (from langchain) (0.3.8)\n",
            "Requirement already satisfied: langsmith<0.4,>=0.1.17 in /usr/local/lib/python3.11/dist-packages (from langchain) (0.3.38)\n",
            "Requirement already satisfied: pydantic<3.0.0,>=2.7.4 in /usr/local/lib/python3.11/dist-packages (from langchain) (2.11.3)\n",
            "Requirement already satisfied: SQLAlchemy<3,>=1.4 in /usr/local/lib/python3.11/dist-packages (from langchain) (2.0.40)\n",
            "Requirement already satisfied: requests<3,>=2 in /usr/local/lib/python3.11/dist-packages (from langchain) (2.32.3)\n",
            "Requirement already satisfied: PyYAML>=5.3 in /usr/local/lib/python3.11/dist-packages (from langchain) (6.0.2)\n",
            "Collecting groq<1,>=0.4.1 (from langchain-groq)\n",
            "  Downloading groq-0.23.1-py3-none-any.whl.metadata (15 kB)\n",
            "Collecting langgraph-checkpoint<3.0.0,>=2.0.10 (from langgraph)\n",
            "  Downloading langgraph_checkpoint-2.0.25-py3-none-any.whl.metadata (4.6 kB)\n",
            "Collecting langgraph-prebuilt>=0.1.8 (from langgraph)\n",
            "  Downloading langgraph_prebuilt-0.1.8-py3-none-any.whl.metadata (5.0 kB)\n",
            "Collecting langgraph-sdk>=0.1.42 (from langgraph)\n",
            "  Downloading langgraph_sdk-0.1.66-py3-none-any.whl.metadata (1.8 kB)\n",
            "Collecting xxhash<4.0.0,>=3.5.0 (from langgraph)\n",
            "  Downloading xxhash-3.5.0-cp311-cp311-manylinux_2_17_x86_64.manylinux2014_x86_64.whl.metadata (12 kB)\n",
            "Requirement already satisfied: anyio<5,>=3.5.0 in /usr/local/lib/python3.11/dist-packages (from groq<1,>=0.4.1->langchain-groq) (4.9.0)\n",
            "Requirement already satisfied: distro<2,>=1.7.0 in /usr/local/lib/python3.11/dist-packages (from groq<1,>=0.4.1->langchain-groq) (1.9.0)\n",
            "Requirement already satisfied: httpx<1,>=0.23.0 in /usr/local/lib/python3.11/dist-packages (from groq<1,>=0.4.1->langchain-groq) (0.28.1)\n",
            "Requirement already satisfied: sniffio in /usr/local/lib/python3.11/dist-packages (from groq<1,>=0.4.1->langchain-groq) (1.3.1)\n",
            "Requirement already satisfied: typing-extensions<5,>=4.10 in /usr/local/lib/python3.11/dist-packages (from groq<1,>=0.4.1->langchain-groq) (4.13.2)\n",
            "Requirement already satisfied: tenacity!=8.4.0,<10.0.0,>=8.1.0 in /usr/local/lib/python3.11/dist-packages (from langchain-core<1.0.0,>=0.3.55->langchain) (9.1.2)\n",
            "Requirement already satisfied: jsonpatch<2.0,>=1.33 in /usr/local/lib/python3.11/dist-packages (from langchain-core<1.0.0,>=0.3.55->langchain) (1.33)\n",
            "Requirement already satisfied: packaging<25,>=23.2 in /usr/local/lib/python3.11/dist-packages (from langchain-core<1.0.0,>=0.3.55->langchain) (24.2)\n",
            "Collecting ormsgpack<2.0.0,>=1.8.0 (from langgraph-checkpoint<3.0.0,>=2.0.10->langgraph)\n",
            "  Downloading ormsgpack-1.9.1-cp311-cp311-manylinux_2_17_x86_64.manylinux2014_x86_64.whl.metadata (43 kB)\n",
            "\u001b[2K     \u001b[90m━━━━━━━━━━━━━━━━━━━━━━━━━━━━━━━━━━━━━━━━\u001b[0m \u001b[32m43.5/43.5 kB\u001b[0m \u001b[31m1.4 MB/s\u001b[0m eta \u001b[36m0:00:00\u001b[0m\n",
            "\u001b[?25hRequirement already satisfied: orjson>=3.10.1 in /usr/local/lib/python3.11/dist-packages (from langgraph-sdk>=0.1.42->langgraph) (3.10.17)\n",
            "Requirement already satisfied: requests-toolbelt<2.0.0,>=1.0.0 in /usr/local/lib/python3.11/dist-packages (from langsmith<0.4,>=0.1.17->langchain) (1.0.0)\n",
            "Requirement already satisfied: zstandard<0.24.0,>=0.23.0 in /usr/local/lib/python3.11/dist-packages (from langsmith<0.4,>=0.1.17->langchain) (0.23.0)\n",
            "Requirement already satisfied: annotated-types>=0.6.0 in /usr/local/lib/python3.11/dist-packages (from pydantic<3.0.0,>=2.7.4->langchain) (0.7.0)\n",
            "Requirement already satisfied: pydantic-core==2.33.1 in /usr/local/lib/python3.11/dist-packages (from pydantic<3.0.0,>=2.7.4->langchain) (2.33.1)\n",
            "Requirement already satisfied: typing-inspection>=0.4.0 in /usr/local/lib/python3.11/dist-packages (from pydantic<3.0.0,>=2.7.4->langchain) (0.4.0)\n",
            "Requirement already satisfied: charset-normalizer<4,>=2 in /usr/local/lib/python3.11/dist-packages (from requests<3,>=2->langchain) (3.4.1)\n",
            "Requirement already satisfied: idna<4,>=2.5 in /usr/local/lib/python3.11/dist-packages (from requests<3,>=2->langchain) (3.10)\n",
            "Requirement already satisfied: urllib3<3,>=1.21.1 in /usr/local/lib/python3.11/dist-packages (from requests<3,>=2->langchain) (2.4.0)\n",
            "Requirement already satisfied: certifi>=2017.4.17 in /usr/local/lib/python3.11/dist-packages (from requests<3,>=2->langchain) (2025.4.26)\n",
            "Requirement already satisfied: greenlet>=1 in /usr/local/lib/python3.11/dist-packages (from SQLAlchemy<3,>=1.4->langchain) (3.2.1)\n",
            "Requirement already satisfied: httpcore==1.* in /usr/local/lib/python3.11/dist-packages (from httpx<1,>=0.23.0->groq<1,>=0.4.1->langchain-groq) (1.0.9)\n",
            "Requirement already satisfied: h11>=0.16 in /usr/local/lib/python3.11/dist-packages (from httpcore==1.*->httpx<1,>=0.23.0->groq<1,>=0.4.1->langchain-groq) (0.16.0)\n",
            "Requirement already satisfied: jsonpointer>=1.9 in /usr/local/lib/python3.11/dist-packages (from jsonpatch<2.0,>=1.33->langchain-core<1.0.0,>=0.3.55->langchain) (3.0.0)\n",
            "Downloading langchain_groq-0.3.2-py3-none-any.whl (15 kB)\n",
            "Downloading langgraph-0.4.1-py3-none-any.whl (151 kB)\n",
            "\u001b[2K   \u001b[90m━━━━━━━━━━━━━━━━━━━━━━━━━━━━━━━━━━━━━━━━\u001b[0m \u001b[32m151.2/151.2 kB\u001b[0m \u001b[31m6.8 MB/s\u001b[0m eta \u001b[36m0:00:00\u001b[0m\n",
            "\u001b[?25hDownloading groq-0.23.1-py3-none-any.whl (127 kB)\n",
            "\u001b[2K   \u001b[90m━━━━━━━━━━━━━━━━━━━━━━━━━━━━━━━━━━━━━━━━\u001b[0m \u001b[32m127.4/127.4 kB\u001b[0m \u001b[31m7.6 MB/s\u001b[0m eta \u001b[36m0:00:00\u001b[0m\n",
            "\u001b[?25hDownloading langgraph_checkpoint-2.0.25-py3-none-any.whl (42 kB)\n",
            "\u001b[2K   \u001b[90m━━━━━━━━━━━━━━━━━━━━━━━━━━━━━━━━━━━━━━━━\u001b[0m \u001b[32m42.3/42.3 kB\u001b[0m \u001b[31m1.6 MB/s\u001b[0m eta \u001b[36m0:00:00\u001b[0m\n",
            "\u001b[?25hDownloading langgraph_prebuilt-0.1.8-py3-none-any.whl (25 kB)\n",
            "Downloading langgraph_sdk-0.1.66-py3-none-any.whl (47 kB)\n",
            "\u001b[2K   \u001b[90m━━━━━━━━━━━━━━━━━━━━━━━━━━━━━━━━━━━━━━━━\u001b[0m \u001b[32m47.6/47.6 kB\u001b[0m \u001b[31m2.6 MB/s\u001b[0m eta \u001b[36m0:00:00\u001b[0m\n",
            "\u001b[?25hDownloading xxhash-3.5.0-cp311-cp311-manylinux_2_17_x86_64.manylinux2014_x86_64.whl (194 kB)\n",
            "\u001b[2K   \u001b[90m━━━━━━━━━━━━━━━━━━━━━━━━━━━━━━━━━━━━━━━━\u001b[0m \u001b[32m194.8/194.8 kB\u001b[0m \u001b[31m13.1 MB/s\u001b[0m eta \u001b[36m0:00:00\u001b[0m\n",
            "\u001b[?25hDownloading ormsgpack-1.9.1-cp311-cp311-manylinux_2_17_x86_64.manylinux2014_x86_64.whl (223 kB)\n",
            "\u001b[2K   \u001b[90m━━━━━━━━━━━━━━━━━━━━━━━━━━━━━━━━━━━━━━━━\u001b[0m \u001b[32m223.6/223.6 kB\u001b[0m \u001b[31m11.0 MB/s\u001b[0m eta \u001b[36m0:00:00\u001b[0m\n",
            "\u001b[?25hInstalling collected packages: xxhash, ormsgpack, langgraph-sdk, groq, langgraph-checkpoint, langchain-groq, langgraph-prebuilt, langgraph\n",
            "Successfully installed groq-0.23.1 langchain-groq-0.3.2 langgraph-0.4.1 langgraph-checkpoint-2.0.25 langgraph-prebuilt-0.1.8 langgraph-sdk-0.1.66 ormsgpack-1.9.1 xxhash-3.5.0\n"
          ]
        }
      ],
      "source": [
        "!pip install langchain langchain-groq langgraph"
      ]
    },
    {
      "cell_type": "code",
      "source": [
        "from google.colab import userdata\n",
        "import os\n",
        "os.environ['GROQ_API_KEY']=userdata.get('groq_api_key')"
      ],
      "metadata": {
        "id": "kPdaRL15FuUc"
      },
      "execution_count": 2,
      "outputs": []
    },
    {
      "cell_type": "code",
      "source": [
        "!pip install -q langchain-community langchain-core requests duckduckgo-search"
      ],
      "metadata": {
        "colab": {
          "base_uri": "https://localhost:8080/"
        },
        "id": "oFfqJxmWFupY",
        "outputId": "92ed5313-78f5-4986-a642-320f7c20e218"
      },
      "execution_count": 3,
      "outputs": [
        {
          "output_type": "stream",
          "name": "stdout",
          "text": [
            "\u001b[2K   \u001b[90m━━━━━━━━━━━━━━━━━━━━━━━━━━━━━━━━━━━━━━━━\u001b[0m \u001b[32m2.5/2.5 MB\u001b[0m \u001b[31m15.2 MB/s\u001b[0m eta \u001b[36m0:00:00\u001b[0m\n",
            "\u001b[2K   \u001b[90m━━━━━━━━━━━━━━━━━━━━━━━━━━━━━━━━━━━━━━━━\u001b[0m \u001b[32m3.3/3.3 MB\u001b[0m \u001b[31m52.9 MB/s\u001b[0m eta \u001b[36m0:00:00\u001b[0m\n",
            "\u001b[2K   \u001b[90m━━━━━━━━━━━━━━━━━━━━━━━━━━━━━━━━━━━━━━━━\u001b[0m \u001b[32m44.4/44.4 kB\u001b[0m \u001b[31m2.7 MB/s\u001b[0m eta \u001b[36m0:00:00\u001b[0m\n",
            "\u001b[2K   \u001b[90m━━━━━━━━━━━━━━━━━━━━━━━━━━━━━━━━━━━━━━━━\u001b[0m \u001b[32m50.9/50.9 kB\u001b[0m \u001b[31m2.6 MB/s\u001b[0m eta \u001b[36m0:00:00\u001b[0m\n",
            "\u001b[?25h"
          ]
        }
      ]
    },
    {
      "cell_type": "code",
      "source": [
        "from langchain_groq import ChatGroq\n",
        "from langchain_core.tools import tool\n",
        "import requests"
      ],
      "metadata": {
        "id": "z7vXrXg7F1y_"
      },
      "execution_count": 4,
      "outputs": []
    },
    {
      "cell_type": "code",
      "source": [
        "from langchain_community.tools import DuckDuckGoSearchRun\n",
        "search_tool = DuckDuckGoSearchRun()\n",
        "results = search_tool.invoke('top news in india today?')\n",
        "print(results)"
      ],
      "metadata": {
        "colab": {
          "base_uri": "https://localhost:8080/"
        },
        "id": "6N6DTwqlGJAq",
        "outputId": "663da8d8-86ee-45d6-f7fd-4d15074b72d6"
      },
      "execution_count": 5,
      "outputs": [
        {
          "output_type": "stream",
          "name": "stdout",
          "text": [
            "India responds: In the aftermath of a deadly terrorist attack in Pahalgam that killed 26 people, India has suspended the Indus Waters Treaty, besides downgrading diplomatic ties with Pakistan, citing evidence of cross-border involvement. Foreign Secretary Vikram Misri said the Cabinet Committee on Security (CCS), chaired by Prime Minister Narendra Modi, convened shortly after the attack to ... India News | Latest India News | Read latest and breaking news from India. Today's top India news headlines, news on Indian politics, elections, government, business, technology, and Bollywood. Prime Minister Narendra Modi chaired key meetings today, including the Cabinet Committee on Security (CCS). The Cabinet Committee on Security (CCS), chaired by PM Modi, has reviewed the overall security situation in Jammu and Kashmir amid speculation about India's potential response to the Pahalgam terrorist attack, WION learned from sources familiar with the matter. Headlines today: Get news headlines from India and around the world. Today's breaking news on politics, sports, entertainment, business, life style and many more on Times of India India News: Amid rising tensions, Pakistan's information minister claimed credible intelligence suggests a potential Indian military strike within 24-36 hours, wh\n"
          ]
        }
      ]
    },
    {
      "cell_type": "code",
      "source": [
        "results"
      ],
      "metadata": {
        "colab": {
          "base_uri": "https://localhost:8080/",
          "height": 243
        },
        "id": "ky-IORCaGPsY",
        "outputId": "f562f146-6e2f-441e-c8f4-0d3e2a5ce357"
      },
      "execution_count": 6,
      "outputs": [
        {
          "output_type": "execute_result",
          "data": {
            "text/plain": [
              "\"India responds: In the aftermath of a deadly terrorist attack in Pahalgam that killed 26 people, India has suspended the Indus Waters Treaty, besides downgrading diplomatic ties with Pakistan, citing evidence of cross-border involvement. Foreign Secretary Vikram Misri said the Cabinet Committee on Security (CCS), chaired by Prime Minister Narendra Modi, convened shortly after the attack to ... India News | Latest India News | Read latest and breaking news from India. Today's top India news headlines, news on Indian politics, elections, government, business, technology, and Bollywood. Prime Minister Narendra Modi chaired key meetings today, including the Cabinet Committee on Security (CCS). The Cabinet Committee on Security (CCS), chaired by PM Modi, has reviewed the overall security situation in Jammu and Kashmir amid speculation about India's potential response to the Pahalgam terrorist attack, WION learned from sources familiar with the matter. Headlines today: Get news headlines from India and around the world. Today's breaking news on politics, sports, entertainment, business, life style and many more on Times of India India News: Amid rising tensions, Pakistan's information minister claimed credible intelligence suggests a potential Indian military strike within 24-36 hours, wh\""
            ],
            "application/vnd.google.colaboratory.intrinsic+json": {
              "type": "string"
            }
          },
          "metadata": {},
          "execution_count": 6
        }
      ]
    },
    {
      "cell_type": "code",
      "source": [
        "llm = ChatGroq(\n",
        "    model=\"llama-3.3-70b-versatile\"\n",
        ")"
      ],
      "metadata": {
        "id": "gb4lkyhAGR2v"
      },
      "execution_count": 7,
      "outputs": []
    },
    {
      "cell_type": "code",
      "source": [
        "llm.invoke(\"Hi\")"
      ],
      "metadata": {
        "colab": {
          "base_uri": "https://localhost:8080/"
        },
        "id": "stNSNjnOGb1d",
        "outputId": "1402b112-b132-4d6b-e4ed-3e063a8b5654"
      },
      "execution_count": 8,
      "outputs": [
        {
          "output_type": "execute_result",
          "data": {
            "text/plain": [
              "AIMessage(content=\"It's nice to meet you. Is there something I can help you with or would you like to chat?\", additional_kwargs={}, response_metadata={'token_usage': {'completion_tokens': 23, 'prompt_tokens': 36, 'total_tokens': 59, 'completion_time': 0.083636364, 'prompt_time': 0.00387791, 'queue_time': 0.092505384, 'total_time': 0.087514274}, 'model_name': 'llama-3.3-70b-versatile', 'system_fingerprint': 'fp_6507bcfb6f', 'finish_reason': 'stop', 'logprobs': None}, id='run-5fb15a9d-d553-4d83-a8b7-1cb5f4f8b258-0', usage_metadata={'input_tokens': 36, 'output_tokens': 23, 'total_tokens': 59})"
            ]
          },
          "metadata": {},
          "execution_count": 8
        }
      ]
    },
    {
      "cell_type": "code",
      "source": [
        "from langchain.agents import create_react_agent, AgentExecutor\n",
        "from langchain import hub"
      ],
      "metadata": {
        "id": "i7oESu7eGdfw"
      },
      "execution_count": 9,
      "outputs": []
    },
    {
      "cell_type": "code",
      "source": [
        "prompt = hub.pull(\"hwchase17/react\")"
      ],
      "metadata": {
        "colab": {
          "base_uri": "https://localhost:8080/"
        },
        "id": "0QJaBB2GGlPG",
        "outputId": "1fdd7b1e-03eb-4393-d377-7433f065f384"
      },
      "execution_count": 10,
      "outputs": [
        {
          "output_type": "stream",
          "name": "stderr",
          "text": [
            "/usr/local/lib/python3.11/dist-packages/langsmith/client.py:272: LangSmithMissingAPIKeyWarning: API key must be provided when using hosted LangSmith API\n",
            "  warnings.warn(\n"
          ]
        }
      ]
    },
    {
      "cell_type": "code",
      "source": [
        "prompt"
      ],
      "metadata": {
        "colab": {
          "base_uri": "https://localhost:8080/"
        },
        "id": "4ExEnQz0GrM2",
        "outputId": "63d350a8-6c7a-4fd3-8b53-12b539f17e28"
      },
      "execution_count": 11,
      "outputs": [
        {
          "output_type": "execute_result",
          "data": {
            "text/plain": [
              "PromptTemplate(input_variables=['agent_scratchpad', 'input', 'tool_names', 'tools'], input_types={}, partial_variables={}, metadata={'lc_hub_owner': 'hwchase17', 'lc_hub_repo': 'react', 'lc_hub_commit_hash': 'd15fe3c426f1c4b3f37c9198853e4a86e20c425ca7f4752ec0c9b0e97ca7ea4d'}, template='Answer the following questions as best you can. You have access to the following tools:\\n\\n{tools}\\n\\nUse the following format:\\n\\nQuestion: the input question you must answer\\nThought: you should always think about what to do\\nAction: the action to take, should be one of [{tool_names}]\\nAction Input: the input to the action\\nObservation: the result of the action\\n... (this Thought/Action/Action Input/Observation can repeat N times)\\nThought: I now know the final answer\\nFinal Answer: the final answer to the original input question\\n\\nBegin!\\n\\nQuestion: {input}\\nThought:{agent_scratchpad}')"
            ]
          },
          "metadata": {},
          "execution_count": 11
        }
      ]
    },
    {
      "cell_type": "code",
      "source": [
        "# Create React Agent manually with pulled prompt"
      ],
      "metadata": {
        "id": "Y1kW7zbbGsjn"
      },
      "execution_count": 12,
      "outputs": []
    },
    {
      "cell_type": "code",
      "source": [
        "agent = create_react_agent(\n",
        "    llm=llm,\n",
        "    tools=[search_tool],\n",
        "    prompt=prompt\n",
        ")"
      ],
      "metadata": {
        "id": "ZrutvrADGzSF"
      },
      "execution_count": 15,
      "outputs": []
    },
    {
      "cell_type": "code",
      "source": [
        "agent_executor = AgentExecutor(\n",
        "    agent=agent,\n",
        "    tools=[search_tool],\n",
        "    verbose=True\n",
        ")"
      ],
      "metadata": {
        "id": "8K8ElI4tG1fV"
      },
      "execution_count": 16,
      "outputs": []
    },
    {
      "cell_type": "code",
      "source": [
        "# Invoke"
      ],
      "metadata": {
        "id": "EpPjL9Y3HLvs"
      },
      "execution_count": 17,
      "outputs": []
    },
    {
      "cell_type": "code",
      "source": [
        "response = agent_executor.invoke({\"input\":\"Ways to reach Goa from Hyderabad.\"})\n",
        "print(response)"
      ],
      "metadata": {
        "colab": {
          "base_uri": "https://localhost:8080/"
        },
        "id": "YJXKWbIGHNla",
        "outputId": "17ce2c4d-28c1-48c4-ca87-f96e4ece6f41"
      },
      "execution_count": 18,
      "outputs": [
        {
          "output_type": "stream",
          "name": "stdout",
          "text": [
            "\n",
            "\n",
            "\u001b[1m> Entering new AgentExecutor chain...\u001b[0m\n",
            "\u001b[32;1m\u001b[1;3mTo find the ways to reach Goa from Hyderabad, I should first consider the available modes of transportation between the two cities. This includes flights, trains, buses, and car rentals. \n",
            "\n",
            "Action: duckduckgo_search\n",
            "Action Input: Goa from Hyderabad transportation\u001b[0m\u001b[36;1m\u001b[1;3mThe average bus ticket price from Hyderabad to Goa is approximately INR 1275. With redBus, you can access exclusive offers, discounts, and deals, ensuring you get the cheapest bus tickets from Hyderabad to Goa for both private and government or RTC bus operators. The first bus from Hyderabad to Goa starts at 16:45 . The last bus leaves from Hyderabad at 21:15. The minimum bus ticket booking fare is Rs 800 and goes up to Rs 4999, depending on the bus type and bus partner you have chosen. Hyderabad to Goa bus booking starts @ ₹1101 - Get best ticket price on sleeper, volvo, private, government bus ticket booking from Hyderabad to Goa. Use Coupon Code DBSRIDE12 and get discount upto ₹500 and earn reward points on Hyderabad to Goa bus ticket booking with Adani OneApp. Book Hyderabad Bus Tickets. The beginning price of a Hyderabad bus ticket is as low as INR 100. Hyderabad bus ticket price depends on various factors, such as the number of seats you are booking, the category of bus you choose, and the time of your departure. Luxury or sleeper category buses are usually more expensive than regular seater buses. The minimum duration of R National from Hyderabad to Goa bus is approximately 15:30:00. However, the duration of the journey may vary due to traffic, weather conditions or unavoidable circumstances. The first bus of R National from Hyderabad to Goa leaves at 22:20, while the last bus is at 23:25.\u001b[0m\u001b[32;1m\u001b[1;3mThought: The search results provide information about bus transportation from Hyderabad to Goa, including prices, schedules, and booking options. However, I should also consider other modes of transportation, such as flights and trains, to provide a more comprehensive answer.\n",
            "\n",
            "Action: duckduckgo_search\n",
            "Action Input: flights from Hyderabad to Goa\u001b[0m\u001b[36;1m\u001b[1;3mBook Hyderabad to Goa flight tickets at the cheapest price starting at ₹2991. Compare approximately 73 flights of major airlines that fly between Hyderabad and Goa. The shortest flight duration is 1h 10m. ixigo also provides information like flight fares, flight timings, flight schedule changes & stops (if any), etc. How to find cheap flights to Goa (IGOI) from Hyderabad (HYD) in 2025. Looking for cheap tickets from Hyderabad to Goa? Return tickets start from ₹ 5,114 and one-way flights to Goa from Hyderabad start from ₹ 2,612. Here are a few tips on how to secure the best flight price and make your journey as smooth as possible. Simply hit 'search'. Flight deals from Hyderabad to Goa North Manohar International Looking for a cheap last-minute deal or the best round-trip flight from Hyderabad to Goa North Manohar International? Find the lowest prices on one-way and round-trip tickets right here. Goa. $28 per passenger. Currently, all the well-renowned flights offer non-stop flights from Hyderabad to Goa flights. Owing to this factor, you may reach the destination at the average flight duration of 01:18 hrs. Along with this, since the Hyderabad to Goa flight is the most common route: thus, you can try various layover flights. Which aircrafts are used for Hyderabad to Goa flights? Several airlines operate flights from Hyderabad to Goa, including IndiGo, Air India, SpiceJet, and GoAir. The type of aircraft used for these flights can vary depending on the airline and specific flight schedule. However, most airlines typically use narrow-body aircraft such as Airbus A320 ...\u001b[0m\u001b[32;1m\u001b[1;3mThought: The search results provide information about flights from Hyderabad to Goa, including prices, schedules, and booking options. I now have information about two modes of transportation: buses and flights. To provide a more comprehensive answer, I should also consider trains as a mode of transportation.\n",
            "\n",
            "Action: duckduckgo_search\n",
            "Action Input: trains from Hyderabad to Goa\u001b[0m\u001b[36;1m\u001b[1;3mThe fastest train to Goa from Hyderabad is 17021 HYB VSG EXPRESS.From Hyderabad, the train takes 18hr 10min hours to reach Goa. The train starts at 10:05:00 from Hyderabad SC and reaches Goa MAO at 04:15:00. 17021 HYB VSG EXPRESS operates on Thur. Train seat availability for all 4 trains that run from Hyderabad to Goa can be found in above table. Hyderabad to Goa train Fare Fare for trains from Hyderabad to Goa is Rs 1610 in Second AC (2A), Rs 1125 in Third AC (3A), Rs 415 in Sleeper (SL) and Rs 2705 in First AC (1A) in general quota. Traveling by train from Hyderabad Deccan to Goa Madgaon offers a flexible schedule, with numerous trains operating throughout the week. This popular route is well-connected, making it easy for travelers to book Hyderabad Deccan to Goa Madgaon train online at their convenience. With multiple options available every day, passengers can choose a ... Hyderabad: A new bi-weekly express train service has been launched on Sunday, October 6, between Secunderabad and Vasco da Gama in Goa, aimed at enhancing travel options for tourists from Telangana and Andhra Pradesh. ... Flagged off the new Secunderabad-Goa train today from Secunderabad Railway Station. Hyderabad: A new bi-weekly express train (17039/17040) will be introduced between Secunderabad and Vasco da Gama (Goa) to address the increasing number of travellers from Telangana visiting Goa. The train will depart from Secunderabad on Wednesdays and Fridays, while the return trip from Vasco da Gama will commence on Thursdays and Saturdays.\u001b[0m\u001b[32;1m\u001b[1;3mThought: I now have information about three modes of transportation: buses, flights, and trains. I can provide a comprehensive answer to the question about ways to reach Goa from Hyderabad.\n",
            "\n",
            "Final Answer: There are several ways to reach Goa from Hyderabad, including buses, flights, and trains. Bus tickets can be booked starting at ₹1101, with the journey taking around 15-16 hours. Flights are available from ₹2991, with a flight duration of approximately 1 hour and 10 minutes. Trains are also an option, with the fastest train taking around 18 hours and 10 minutes to reach Goa. The train fare varies from ₹2705 in First AC to ₹415 in Sleeper class. Additionally, a new bi-weekly express train service has been launched between Secunderabad and Vasco da Gama in Goa, providing more options for travelers.\u001b[0m\n",
            "\n",
            "\u001b[1m> Finished chain.\u001b[0m\n",
            "{'input': 'Ways to reach Goa from Hyderabad.', 'output': 'There are several ways to reach Goa from Hyderabad, including buses, flights, and trains. Bus tickets can be booked starting at ₹1101, with the journey taking around 15-16 hours. Flights are available from ₹2991, with a flight duration of approximately 1 hour and 10 minutes. Trains are also an option, with the fastest train taking around 18 hours and 10 minutes to reach Goa. The train fare varies from ₹2705 in First AC to ₹415 in Sleeper class. Additionally, a new bi-weekly express train service has been launched between Secunderabad and Vasco da Gama in Goa, providing more options for travelers.'}\n"
          ]
        }
      ]
    },
    {
      "cell_type": "code",
      "source": [
        "response['output']"
      ],
      "metadata": {
        "colab": {
          "base_uri": "https://localhost:8080/",
          "height": 157
        },
        "id": "HmaJEBI6Hek_",
        "outputId": "71828390-a94d-4f74-8b45-224985bb17bd"
      },
      "execution_count": 19,
      "outputs": [
        {
          "output_type": "execute_result",
          "data": {
            "text/plain": [
              "'There are several ways to reach Goa from Hyderabad, including buses, flights, and trains. Bus tickets can be booked starting at ₹1101, with the journey taking around 15-16 hours. Flights are available from ₹2991, with a flight duration of approximately 1 hour and 10 minutes. Trains are also an option, with the fastest train taking around 18 hours and 10 minutes to reach Goa. The train fare varies from ₹2705 in First AC to ₹415 in Sleeper class. Additionally, a new bi-weekly express train service has been launched between Secunderabad and Vasco da Gama in Goa, providing more options for travelers.'"
            ],
            "application/vnd.google.colaboratory.intrinsic+json": {
              "type": "string"
            }
          },
          "metadata": {},
          "execution_count": 19
        }
      ]
    },
    {
      "cell_type": "code",
      "source": [
        "response = agent_executor.invoke({\"input\":\"Give a 10 point review for HIT-3 movie released recently.\"})\n",
        "print(response)\n",
        "response['output']"
      ],
      "metadata": {
        "colab": {
          "base_uri": "https://localhost:8080/",
          "height": 437
        },
        "id": "pC-odAhZHkbM",
        "outputId": "f241a869-e01d-4c17-e1f8-ce63d2b54fda"
      },
      "execution_count": 21,
      "outputs": [
        {
          "output_type": "stream",
          "name": "stdout",
          "text": [
            "\n",
            "\n",
            "\u001b[1m> Entering new AgentExecutor chain...\u001b[0m\n",
            "\u001b[32;1m\u001b[1;3mThought: To provide a 10-point review for the HIT-3 movie, I first need to find information about the movie, including its release date, plot, and reception. \n",
            "\n",
            "Action: duckduckgo_search\n",
            "Action Input: HIT-3 movie review\u001b[0m\u001b[36;1m\u001b[1;3mHIT 3 movie review: An effective Nani sees red in this bloody but rocky action drama HIT 3 movie review: It is clear where the HIT franchise is moving, and the third part had to be mounted on a certain scale to ensure this becomes into a pan-Indian franchise like no other. 'HIT 3' movie review: Nani lifts a visually slick but uneven thriller While Sailesh Kolanu succeeds in presenting Nani in a violent action drama, the film itself is a partially satisfying mix ... In the third installment of the HIT (Homicide Intervention Team) franchise, HIT 3 takes a darker, more personal turn, solidifying the series' status as a reliable name in telugu cinema's thriller genre. Produced by and starring Nani, this film stands out not only as a gritty procedural but also as a tense survival drama with emotional undertones. In a drastic departure from his usual performances, the ever-versatile Nani unleashes his wild side in this high-octane, logic-defying action drama. Following the success of HIT 1 and HIT 2, which ... News Movies Reviews HIT 3 review: Nani's film has its moments, but it's more a miss than a hit. HIT 3 review: Nani's film has its moments, but it's more a miss than a hit 'HIT: The Third Case' is the third instalment from the successful HIT universe created by director Sailesh Kolanu. The film stars Telugu actor Nani and Srinidhi Shetty of KGF ...\u001b[0m\u001b[32;1m\u001b[1;3mThought: Based on the search results, it seems that the HIT-3 movie has received mixed reviews from critics. Some reviewers have praised Nani's performance and the film's action sequences, while others have found the movie to be uneven and lacking in certain aspects. To provide a 10-point review, I would need to consider the pros and cons of the movie and assign a score based on its overall quality.\n",
            "\n",
            "Action: duckduckgo_search\n",
            "Action Input: HIT-3 movie ratings\u001b[0m\u001b[36;1m\u001b[1;3mHIT 3 movie review: It is clear where the HIT franchise is moving, and the third part had to be mounted on a certain scale to ensure this becomes into a pan-Indian franchise like no other. Rating: 3 out of 5 Nani delivers a powerful performance in HIT 3 as Arjun Sarkaar, elevating this investigative thriller despite its weak villain and slow first half. Read the full HIT 3 review, analysis, and rating. ... HIT3 Movie Review 1 hour ago; Retro Movie Review 13 hours ago; KCR scared to take my name, says Revanth Reddy! 1 day ago; Exclusive: Balakrishna ... HIT 3 works best for fans of Hollywood-style action thrillers and stylized storytelling. It may not fully connect with audiences looking for a traditional whodunit or emotional depth. ... HIT 3 Telugu Movie Review. HIT 3 Rating. HIT 3 Hit or Flop. HIT 3 Talk. HIT 3 Public Talk. Nani HIT 3 Review. Nani HIT 3 Final Review. Nani HIT 3 Final Report ... Hit 3 Movie Review. With HIT: The Third Case, Nani plunges headfirst into a darker, grittier zone than we've seen him in before. Directed by Sailesh Kolanu, this third installment in the HIT ... HIT 3 Movie Review: One of the most anticipated Telugu movies, HIT: The Third Case, has been released on the big screens. The movie follows Nani's Arjun Sarkaar, who gets assigned to a high-priority case for HIT in Jammu and Kashmir. The early reviews for the Sailesh Kolanu directorial venture are in, and while Nani's performance is being appreciated by fans, the thriller itself is ...\u001b[0m\u001b[32;1m\u001b[1;3mThought: Based on the search results, it seems that the HIT-3 movie has received mixed reviews from critics. Some reviewers have praised Nani's performance and the film's action sequences, while others have found the movie to be uneven and lacking in certain aspects. The ratings for the movie vary, with some reviewers giving it 3 out of 5 stars. To provide a 10-point review, I would need to consider the pros and cons of the movie and assign a score based on its overall quality.\n",
            "\n",
            "Action: duckduckgo_search\n",
            "Action Input: HIT-3 movie critic reviews\u001b[0m\u001b[36;1m\u001b[1;3mHIT: The 3rd Case Movie Review: Critics Rating: 3.5 stars, click to give your rating/review,Watch it for Nani's most intense outing yet—gritty, stylised, and disturbing in equal measure. Fans What unfolds in the last act of HIT 3 is sheer mayhem, and Nani is terrific in those stunt sequences that have clearly wrung a lot out of him physically and mentally. He delivers a solid performance as the mercurial Arjun Sarkaar, and it is impressive how he maintained the intensity throughout the film. With 'HIT 3', after a point, Arjun Sarkar was more a hero than a character, further astraying from what the first two parts were about. This film is an action thriller, and not an investigative drama. The film can be broken down into three parts: the first half, the post-interval narrative, and the last half an hour (climax). In HIT 3, director Sailesh Kolanu leans into fan service, casting Nani — long embraced by family audiences — in a darker, bloodier setup. The film carries an 'A' certificate, and Nani ... Nani's HIT: The Third Case has finally released in theatres on May 1. The film is an intense crime thriller packed with action and suspense. Directed by Sailesh Kolanu, the film follows a thrilling investigation led by a honest cop, set against the backdrop of the rugged terrains of Kashmir., Reviews News - Times Now\u001b[0m\u001b[32;1m\u001b[1;3mThought: Based on the search results, it seems that the HIT-3 movie has received mixed reviews from critics. Some reviewers have praised Nani's performance and the film's action sequences, while others have found the movie to be uneven and lacking in certain aspects. The ratings for the movie vary, with some reviewers giving it 3 out of 5 stars. To provide a 10-point review, I would need to consider the pros and cons of the movie and assign a score based on its overall quality.\n",
            "\n",
            "Considering the mixed reviews and the varied ratings, I would give the HIT-3 movie a score of 6 out of 10. The movie's action sequences and Nani's performance are notable strengths, but the uneven pacing and lack of emotional depth are notable weaknesses.\n",
            "\n",
            "Final Answer: I would give the HIT-3 movie a score of 6 out of 10. The movie's action sequences and Nani's performance are notable strengths, but the uneven pacing and lack of emotional depth are notable weaknesses.\u001b[0m\n",
            "\n",
            "\u001b[1m> Finished chain.\u001b[0m\n",
            "{'input': 'Give a 10 point review for HIT-3 movie released recently.', 'output': \"I would give the HIT-3 movie a score of 6 out of 10. The movie's action sequences and Nani's performance are notable strengths, but the uneven pacing and lack of emotional depth are notable weaknesses.\"}\n"
          ]
        },
        {
          "output_type": "execute_result",
          "data": {
            "text/plain": [
              "\"I would give the HIT-3 movie a score of 6 out of 10. The movie's action sequences and Nani's performance are notable strengths, but the uneven pacing and lack of emotional depth are notable weaknesses.\""
            ],
            "application/vnd.google.colaboratory.intrinsic+json": {
              "type": "string"
            }
          },
          "metadata": {},
          "execution_count": 21
        }
      ]
    },
    {
      "cell_type": "code",
      "source": [
        "response['output']"
      ],
      "metadata": {
        "colab": {
          "base_uri": "https://localhost:8080/",
          "height": 70
        },
        "id": "gj-1oLwtHwUG",
        "outputId": "08af523b-c455-4b9c-8c3c-c4bf77efcce4"
      },
      "execution_count": 22,
      "outputs": [
        {
          "output_type": "execute_result",
          "data": {
            "text/plain": [
              "\"I would give the HIT-3 movie a score of 6 out of 10. The movie's action sequences and Nani's performance are notable strengths, but the uneven pacing and lack of emotional depth are notable weaknesses.\""
            ],
            "application/vnd.google.colaboratory.intrinsic+json": {
              "type": "string"
            }
          },
          "metadata": {},
          "execution_count": 22
        }
      ]
    },
    {
      "cell_type": "code",
      "source": [
        "response = agent_executor.invoke({\"input\":\"Give a Detailed Preview of today IPL match between SRH vs GT?\"})\n",
        "print(response)"
      ],
      "metadata": {
        "colab": {
          "base_uri": "https://localhost:8080/"
        },
        "id": "by-44FmsH5-E",
        "outputId": "f04f986b-d4ee-4148-dfc7-c7ed3d5a49cd"
      },
      "execution_count": 24,
      "outputs": [
        {
          "output_type": "stream",
          "name": "stdout",
          "text": [
            "\n",
            "\n",
            "\u001b[1m> Entering new AgentExecutor chain...\u001b[0m\n",
            "\u001b[32;1m\u001b[1;3mThought: To provide a detailed preview of today's IPL match between SRH (Sunrisers Hyderabad) and GT (Gujarat Titans), I need to find the latest information about the teams, their current form, and any other relevant details. The best way to get this information is by searching online for the latest news and updates.\n",
            "\n",
            "Action: duckduckgo_search\n",
            "Action Input: SRH vs GT IPL match preview today\u001b[0m\u001b[36;1m\u001b[1;3mIPL 2025 GT vs SRH Match Preview: SRH are almost in must-win territory, whereas another loss for GT could make things tricky for them. ... Today. 3:00 PM. Gladiators chose to field. GT vs SRH IPL 2025 Match Preview: The GT vs SRH Match 51 IPL 2025 toss will kick off at 7 PM. ... (SRH), the clash is set to begin at 7 PM IST today, May 2, at Ahmedabad's Narendra Modi Stadium ... IPL match today, GT vs SRH: Team prediction, head-to-head, Narendra Modi Stadium pitch report, Ahmedabad weather update. TOI Sports Desk / TIMESOFINDIA.COM / Updated: May 2, 2025, 11:21 IST. GT vs SRH: Head-to-Head. GT and SRH have faced each other five times in the IPL and the Titans have won four of them. At the Narendra Modi Stadium, Gujarat have beaten Hyderabad in two out of two. Earlier in the season, GT got a thumping 7-wicket win against SRH in Hyderabad. GT vs SRH: Team news. The good news for GT fans is that Shubman Gill ... IPL 2025, GT vs SRH Live Cricket Score Streaming Online, Pitch-Weather Forecast Report: Gujarat Titans will look to shake off their defeat against the Rajasthan Royals where they were put to the sword by the 14-year-old Vaibhav Suryavanshi who scored the second fastest century in the league's history.Now, the GT must face the ominous duo of Travis Head and Abhishek Sharma as a deep Sunrisers ...\u001b[0m\u001b[32;1m\u001b[1;3mThought: Based on the search results, I have found some useful information about the upcoming IPL match between SRH and GT. The match is scheduled to start at 7 PM IST today, May 2, at the Narendra Modi Stadium in Ahmedabad. The head-to-head record between the two teams shows that GT has won four out of five matches against SRH, including two wins at the Narendra Modi Stadium. GT is looking to bounce back from their previous loss against the Rajasthan Royals, while SRH is in a must-win situation. The pitch and weather conditions at the stadium could also play a crucial role in the match. To provide a more detailed preview, I would like to know more about the current form of the players and the team's strategies.\n",
            "\n",
            "Action: duckduckgo_search\n",
            "Action Input: SRH vs GT IPL match player form and team strategy\u001b[0m\u001b[36;1m\u001b[1;3mGT vs SRH, IPL 2025: Get the fantasy teams, playing XI predictions and squads for the Indian Premier League match between Gujarat Titans and Sunrisers Hyderabad on Friday. ... will be desperate to bag two crucial points and climb up the table as it hosts ninth-placed Sunrisers Hyderabad in an IPL 2025 match at the Narendra Modi Stadium in ... IPL match today, GT vs SRH: Team prediction, head-to-head, Narendra Modi Stadium pitch report, Ahmedabad weather update TOI Sports Desk / TIMESOFINDIA.COM / Updated: May 2, 2025, 11:21 IST Share Gujarat Titans vs Sunrisers Hyderabad Dream11 Team Prediction, Match Preview, Fantasy Cricket Hints: Captain, Probable Playing 11s, Team News; Injury Updates For GT vs SRH Indian Premier League ... The IPL 2025 season brings another exciting fixture as Sunrisers Hyderabad (SRH) take on the in-form Gujarat Titans (GT) on April 6, 2025. Scheduled at the Rajiv Gandhi International Stadium, this match could reshape the early standings of the tournament. Match Details and Broadcast Info. Date: April 6, 2025; Time: GT vs SRH: Head-to-Head. GT and SRH have faced each other five times in the IPL and the Titans have won four of them. At the Narendra Modi Stadium, Gujarat have beaten Hyderabad in two out of two. Earlier in the season, GT got a thumping 7-wicket win against SRH in Hyderabad. GT vs SRH: Team news. The good news for GT fans is that Shubman Gill ...\u001b[0m\u001b[32;1m\u001b[1;3mThought: Based on the search results, I have found some useful information about the upcoming IPL match between SRH and GT. The match is scheduled to start at 7 PM IST today, May 2, at the Narendra Modi Stadium in Ahmedabad. The head-to-head record between the two teams shows that GT has won four out of five matches against SRH, including two wins at the Narendra Modi Stadium. GT is looking to bounce back from their previous loss against the Rajasthan Royals, while SRH is in a must-win situation. The pitch and weather conditions at the stadium could also play a crucial role in the match. To provide a more detailed preview, I would like to know more about the current form of the players and the team's strategies. However, the search results did not provide much information about the current form of the players and the team's strategies.\n",
            "\n",
            "Thought: I now know the final answer\n",
            "Final Answer: The IPL match between SRH and GT is scheduled to start at 7 PM IST today, May 2, at the Narendra Modi Stadium in Ahmedabad. GT has won four out of five matches against SRH, including two wins at the Narendra Modi Stadium. GT is looking to bounce back from their previous loss against the Rajasthan Royals, while SRH is in a must-win situation. The pitch and weather conditions at the stadium could also play a crucial role in the match. SRH will be desperate to bag two crucial points and climb up the table, while GT will look to shake off their defeat and get back to winning ways. The match promises to be an exciting one, with both teams having talented players and a lot to play for.\u001b[0m\n",
            "\n",
            "\u001b[1m> Finished chain.\u001b[0m\n",
            "{'input': 'Give a Detailed Preview of today IPL match between SRH vs GT?', 'output': 'The IPL match between SRH and GT is scheduled to start at 7 PM IST today, May 2, at the Narendra Modi Stadium in Ahmedabad. GT has won four out of five matches against SRH, including two wins at the Narendra Modi Stadium. GT is looking to bounce back from their previous loss against the Rajasthan Royals, while SRH is in a must-win situation. The pitch and weather conditions at the stadium could also play a crucial role in the match. SRH will be desperate to bag two crucial points and climb up the table, while GT will look to shake off their defeat and get back to winning ways. The match promises to be an exciting one, with both teams having talented players and a lot to play for.'}\n"
          ]
        }
      ]
    },
    {
      "cell_type": "code",
      "source": [
        "response['output']"
      ],
      "metadata": {
        "colab": {
          "base_uri": "https://localhost:8080/",
          "height": 174
        },
        "id": "vOHVHJxUIGTu",
        "outputId": "0399611a-4b64-4acd-d4d2-61788c9dd337"
      },
      "execution_count": 25,
      "outputs": [
        {
          "output_type": "execute_result",
          "data": {
            "text/plain": [
              "'The IPL match between SRH and GT is scheduled to start at 7 PM IST today, May 2, at the Narendra Modi Stadium in Ahmedabad. GT has won four out of five matches against SRH, including two wins at the Narendra Modi Stadium. GT is looking to bounce back from their previous loss against the Rajasthan Royals, while SRH is in a must-win situation. The pitch and weather conditions at the stadium could also play a crucial role in the match. SRH will be desperate to bag two crucial points and climb up the table, while GT will look to shake off their defeat and get back to winning ways. The match promises to be an exciting one, with both teams having talented players and a lot to play for.'"
            ],
            "application/vnd.google.colaboratory.intrinsic+json": {
              "type": "string"
            }
          },
          "metadata": {},
          "execution_count": 25
        }
      ]
    },
    {
      "cell_type": "code",
      "source": [
        "# Weather Agent"
      ],
      "metadata": {
        "id": "OcA3haUvIJtk"
      },
      "execution_count": 26,
      "outputs": []
    },
    {
      "cell_type": "code",
      "source": [
        "@tool\n",
        "def get_weather_data(city:str)->str:\n",
        "  \"\"\"\n",
        "  This function fetches the current weather data for a given city\n",
        "  \"\"\"\n",
        "  url = f'https://api.weatherstack.com/current?access_key=4d1d8ae207a8c845a52df8a67bf3623e&query={city}'\n",
        "\n",
        "  response = requests.get(url)\n",
        "\n",
        "  return response.json()"
      ],
      "metadata": {
        "id": "UeQaOQXaJ14T"
      },
      "execution_count": 27,
      "outputs": []
    },
    {
      "cell_type": "code",
      "source": [
        "llm = ChatGroq(\n",
        "    model=\"llama-3.3-70b-versatile\"\n",
        ")"
      ],
      "metadata": {
        "id": "YO4fzeE1KUcv"
      },
      "execution_count": 28,
      "outputs": []
    },
    {
      "cell_type": "code",
      "source": [
        "from langchain.agents import create_react_agent, AgentExecutor\n",
        "from langchain import hub"
      ],
      "metadata": {
        "id": "_tjPsvwMKalW"
      },
      "execution_count": 29,
      "outputs": []
    },
    {
      "cell_type": "code",
      "source": [
        "prompt = hub.pull(\"hwchase17/react\")"
      ],
      "metadata": {
        "colab": {
          "base_uri": "https://localhost:8080/"
        },
        "id": "Vi6YXyIiKhhM",
        "outputId": "a9fd42a5-d7e0-4caf-ee59-58acb8360c4f"
      },
      "execution_count": 30,
      "outputs": [
        {
          "output_type": "stream",
          "name": "stderr",
          "text": [
            "/usr/local/lib/python3.11/dist-packages/langsmith/client.py:272: LangSmithMissingAPIKeyWarning: API key must be provided when using hosted LangSmith API\n",
            "  warnings.warn(\n"
          ]
        }
      ]
    },
    {
      "cell_type": "code",
      "source": [
        "agent = create_react_agent(\n",
        "    llm=llm,\n",
        "    tools=[search_tool,get_weather_data],\n",
        "    prompt=prompt\n",
        ")"
      ],
      "metadata": {
        "id": "UfGKLj-IKkHH"
      },
      "execution_count": 31,
      "outputs": []
    },
    {
      "cell_type": "code",
      "source": [
        "agent_executor=AgentExecutor(\n",
        "    agent=agent,\n",
        "    tools=[search_tool,get_weather_data],\n",
        "    verbose=True\n",
        ")"
      ],
      "metadata": {
        "id": "4zZ6dv3tKqta"
      },
      "execution_count": 32,
      "outputs": []
    },
    {
      "cell_type": "code",
      "source": [
        "response = agent_executor.invoke({\"input\": \"Find the capital of Telangana, then find it's current weather condition\"})\n",
        "print(response)"
      ],
      "metadata": {
        "colab": {
          "base_uri": "https://localhost:8080/"
        },
        "id": "Q9o7unzsKusS",
        "outputId": "bdf5805f-749d-4eb9-e6cc-80d3743e8aee"
      },
      "execution_count": 34,
      "outputs": [
        {
          "output_type": "stream",
          "name": "stdout",
          "text": [
            "\n",
            "\n",
            "\u001b[1m> Entering new AgentExecutor chain...\u001b[0m\n",
            "\u001b[32;1m\u001b[1;3mThought: To answer this question, I need to first find the capital of Telangana, and then find its current weather condition. I know that Telangana is a state in India, but I'm not sure what its capital is. I can use the duckduckgo_search function to find this information.\n",
            "\n",
            "Action: duckduckgo_search\n",
            "Action Input: capital of Telangana\u001b[0m\u001b[36;1m\u001b[1;3mTelangana is a state in south-central India that was formed in 2014 by bifurcating Andhra Pradesh. It has a rich history, culture, and economy, and its capital is Hyderabad, a major city and IT hub. Telangana is a state in south-central India that was carved out of Andhra Pradesh in 2014. Its capital is Hyderabad, a city with a rich cultural and historical heritage. Learn more about Telangana's land, people, climate, wildlife, and economy. Hyderabad, city, Telangana state, south-central India.It is Telangana's largest and most populous city and is the major urban center for all of south-central interior India. From 1956 to 2014 Hyderabad was the capital of Andhra Pradesh state, but, with the creation of Telangana from Andhra Pradesh in 2014, it was redesignated as the capital of both states. Telangana came into existence on June 2, 2014. \"On and from the appointed day (June 2), Hyderabad in the existing State of Andhra Pradesh, shall be the common capital of the state of Telangana and the state of Andhra Pradesh for such period not exceeding ten years,\" said the AP Reorganisation Act. Hyderabad vs. Telangana: Unraveling the Relationship. At first glance, the relationship between Hyderabad and Telangana might seem confusing. Aren't they the same? The short answer is: no. Telangana is a state in India, while Hyderabad is the capital city of that state, and for a period, it also served as the joint capital of the neighboring state of Andhra Pradesh.\u001b[0m\u001b[32;1m\u001b[1;3mI have found that the capital of Telangana is Hyderabad. Now, I need to find the current weather condition in Hyderabad. I can use the get_weather_data function to achieve this.\n",
            "\n",
            "Action: get_weather_data\n",
            "Action Input: Hyderabad\u001b[0m\u001b[33;1m\u001b[1;3m{'request': {'type': 'City', 'query': 'Hyderabad, India', 'language': 'en', 'unit': 'm'}, 'location': {'name': 'Hyderabad', 'country': 'India', 'region': 'Telangana', 'lat': '17.375', 'lon': '78.474', 'timezone_id': 'Asia/Kolkata', 'localtime': '2025-05-02 18:54', 'localtime_epoch': 1746212040, 'utc_offset': '5.50'}, 'current': {'observation_time': '01:24 PM', 'temperature': 35, 'weather_code': 116, 'weather_icons': ['https://cdn.worldweatheronline.com/images/wsymbols01_png_64/wsymbol_0004_black_low_cloud.png'], 'weather_descriptions': ['Partly cloudy'], 'astro': {'sunrise': '05:50 AM', 'sunset': '06:36 PM', 'moonrise': '09:53 AM', 'moonset': '11:39 PM', 'moon_phase': 'Waxing Crescent', 'moon_illumination': 24}, 'air_quality': {'co': '542.05', 'no2': '3.515', 'o3': '169', 'so2': '18.315', 'pm2_5': '62.16', 'pm10': '98.605', 'us-epa-index': '3', 'gb-defra-index': '3'}, 'wind_speed': 14, 'wind_degree': 121, 'wind_dir': 'ESE', 'pressure': 1008, 'precip': 0, 'humidity': 39, 'cloudcover': 50, 'feelslike': 35, 'uv_index': 0, 'visibility': 6, 'is_day': 'no'}}\u001b[0m\u001b[32;1m\u001b[1;3mThought: I now know the final answer\n",
            "Final Answer: The capital of Telangana is Hyderabad, and its current weather condition is partly cloudy with a temperature of 35 degrees Celsius.\u001b[0m\n",
            "\n",
            "\u001b[1m> Finished chain.\u001b[0m\n",
            "{'input': \"Find the capital of Telangana, then find it's current weather condition\", 'output': 'The capital of Telangana is Hyderabad, and its current weather condition is partly cloudy with a temperature of 35 degrees Celsius.'}\n"
          ]
        }
      ]
    },
    {
      "cell_type": "code",
      "source": [
        "response['output']"
      ],
      "metadata": {
        "colab": {
          "base_uri": "https://localhost:8080/",
          "height": 52
        },
        "id": "OIr403t3KwAK",
        "outputId": "ef3fccf0-1ddf-4e44-ef7e-77fef9511ae9"
      },
      "execution_count": 35,
      "outputs": [
        {
          "output_type": "execute_result",
          "data": {
            "text/plain": [
              "'The capital of Telangana is Hyderabad, and its current weather condition is partly cloudy with a temperature of 35 degrees Celsius.'"
            ],
            "application/vnd.google.colaboratory.intrinsic+json": {
              "type": "string"
            }
          },
          "metadata": {},
          "execution_count": 35
        }
      ]
    },
    {
      "cell_type": "code",
      "source": [],
      "metadata": {
        "id": "LgeqAXc1K0SE"
      },
      "execution_count": null,
      "outputs": []
    }
  ]
}