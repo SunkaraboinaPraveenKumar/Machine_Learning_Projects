{
  "cells": [
    {
      "cell_type": "markdown",
      "metadata": {
        "id": "view-in-github",
        "colab_type": "text"
      },
      "source": [
        "<a href=\"https://colab.research.google.com/github/SunkaraboinaPraveenKumar/Machine_Learning_Projects/blob/main/langgraph_bot_memory.ipynb\" target=\"_parent\"><img src=\"https://colab.research.google.com/assets/colab-badge.svg\" alt=\"Open In Colab\"/></a>"
      ]
    },
    {
      "cell_type": "code",
      "source": [
        "!pip install langchain langgraph langchain_groq"
      ],
      "metadata": {
        "colab": {
          "base_uri": "https://localhost:8080/"
        },
        "id": "N82ArFqc4pL7",
        "outputId": "7b2b3011-dcec-4f26-de12-6b41acfea828"
      },
      "execution_count": 12,
      "outputs": [
        {
          "output_type": "stream",
          "name": "stdout",
          "text": [
            "Requirement already satisfied: langchain in /usr/local/lib/python3.11/dist-packages (0.3.14)\n",
            "Collecting langgraph\n",
            "  Downloading langgraph-0.2.65-py3-none-any.whl.metadata (16 kB)\n",
            "Collecting langchain_groq\n",
            "  Downloading langchain_groq-0.2.3-py3-none-any.whl.metadata (3.0 kB)\n",
            "Requirement already satisfied: PyYAML>=5.3 in /usr/local/lib/python3.11/dist-packages (from langchain) (6.0.2)\n",
            "Requirement already satisfied: SQLAlchemy<3,>=1.4 in /usr/local/lib/python3.11/dist-packages (from langchain) (2.0.37)\n",
            "Requirement already satisfied: aiohttp<4.0.0,>=3.8.3 in /usr/local/lib/python3.11/dist-packages (from langchain) (3.11.11)\n",
            "Requirement already satisfied: langchain-core<0.4.0,>=0.3.29 in /usr/local/lib/python3.11/dist-packages (from langchain) (0.3.29)\n",
            "Requirement already satisfied: langchain-text-splitters<0.4.0,>=0.3.3 in /usr/local/lib/python3.11/dist-packages (from langchain) (0.3.5)\n",
            "Requirement already satisfied: langsmith<0.3,>=0.1.17 in /usr/local/lib/python3.11/dist-packages (from langchain) (0.2.10)\n",
            "Requirement already satisfied: numpy<2,>=1.22.4 in /usr/local/lib/python3.11/dist-packages (from langchain) (1.26.4)\n",
            "Requirement already satisfied: pydantic<3.0.0,>=2.7.4 in /usr/local/lib/python3.11/dist-packages (from langchain) (2.10.5)\n",
            "Requirement already satisfied: requests<3,>=2 in /usr/local/lib/python3.11/dist-packages (from langchain) (2.32.3)\n",
            "Requirement already satisfied: tenacity!=8.4.0,<10,>=8.1.0 in /usr/local/lib/python3.11/dist-packages (from langchain) (9.0.0)\n",
            "Collecting langgraph-checkpoint<3.0.0,>=2.0.10 (from langgraph)\n",
            "  Downloading langgraph_checkpoint-2.0.10-py3-none-any.whl.metadata (4.6 kB)\n",
            "Collecting langgraph-sdk<0.2.0,>=0.1.42 (from langgraph)\n",
            "  Downloading langgraph_sdk-0.1.51-py3-none-any.whl.metadata (1.8 kB)\n",
            "Collecting groq<1,>=0.4.1 (from langchain_groq)\n",
            "  Downloading groq-0.15.0-py3-none-any.whl.metadata (14 kB)\n",
            "Requirement already satisfied: aiohappyeyeballs>=2.3.0 in /usr/local/lib/python3.11/dist-packages (from aiohttp<4.0.0,>=3.8.3->langchain) (2.4.4)\n",
            "Requirement already satisfied: aiosignal>=1.1.2 in /usr/local/lib/python3.11/dist-packages (from aiohttp<4.0.0,>=3.8.3->langchain) (1.3.2)\n",
            "Requirement already satisfied: attrs>=17.3.0 in /usr/local/lib/python3.11/dist-packages (from aiohttp<4.0.0,>=3.8.3->langchain) (24.3.0)\n",
            "Requirement already satisfied: frozenlist>=1.1.1 in /usr/local/lib/python3.11/dist-packages (from aiohttp<4.0.0,>=3.8.3->langchain) (1.5.0)\n",
            "Requirement already satisfied: multidict<7.0,>=4.5 in /usr/local/lib/python3.11/dist-packages (from aiohttp<4.0.0,>=3.8.3->langchain) (6.1.0)\n",
            "Requirement already satisfied: propcache>=0.2.0 in /usr/local/lib/python3.11/dist-packages (from aiohttp<4.0.0,>=3.8.3->langchain) (0.2.1)\n",
            "Requirement already satisfied: yarl<2.0,>=1.17.0 in /usr/local/lib/python3.11/dist-packages (from aiohttp<4.0.0,>=3.8.3->langchain) (1.18.3)\n",
            "Requirement already satisfied: anyio<5,>=3.5.0 in /usr/local/lib/python3.11/dist-packages (from groq<1,>=0.4.1->langchain_groq) (3.7.1)\n",
            "Requirement already satisfied: distro<2,>=1.7.0 in /usr/local/lib/python3.11/dist-packages (from groq<1,>=0.4.1->langchain_groq) (1.9.0)\n",
            "Requirement already satisfied: httpx<1,>=0.23.0 in /usr/local/lib/python3.11/dist-packages (from groq<1,>=0.4.1->langchain_groq) (0.28.1)\n",
            "Requirement already satisfied: sniffio in /usr/local/lib/python3.11/dist-packages (from groq<1,>=0.4.1->langchain_groq) (1.3.1)\n",
            "Requirement already satisfied: typing-extensions<5,>=4.10 in /usr/local/lib/python3.11/dist-packages (from groq<1,>=0.4.1->langchain_groq) (4.12.2)\n",
            "Requirement already satisfied: jsonpatch<2.0,>=1.33 in /usr/local/lib/python3.11/dist-packages (from langchain-core<0.4.0,>=0.3.29->langchain) (1.33)\n",
            "Requirement already satisfied: packaging<25,>=23.2 in /usr/local/lib/python3.11/dist-packages (from langchain-core<0.4.0,>=0.3.29->langchain) (24.2)\n",
            "Requirement already satisfied: msgpack<2.0.0,>=1.1.0 in /usr/local/lib/python3.11/dist-packages (from langgraph-checkpoint<3.0.0,>=2.0.10->langgraph) (1.1.0)\n",
            "Requirement already satisfied: orjson>=3.10.1 in /usr/local/lib/python3.11/dist-packages (from langgraph-sdk<0.2.0,>=0.1.42->langgraph) (3.10.14)\n",
            "Requirement already satisfied: requests-toolbelt<2.0.0,>=1.0.0 in /usr/local/lib/python3.11/dist-packages (from langsmith<0.3,>=0.1.17->langchain) (1.0.0)\n",
            "Requirement already satisfied: annotated-types>=0.6.0 in /usr/local/lib/python3.11/dist-packages (from pydantic<3.0.0,>=2.7.4->langchain) (0.7.0)\n",
            "Requirement already satisfied: pydantic-core==2.27.2 in /usr/local/lib/python3.11/dist-packages (from pydantic<3.0.0,>=2.7.4->langchain) (2.27.2)\n",
            "Requirement already satisfied: charset-normalizer<4,>=2 in /usr/local/lib/python3.11/dist-packages (from requests<3,>=2->langchain) (3.4.1)\n",
            "Requirement already satisfied: idna<4,>=2.5 in /usr/local/lib/python3.11/dist-packages (from requests<3,>=2->langchain) (3.10)\n",
            "Requirement already satisfied: urllib3<3,>=1.21.1 in /usr/local/lib/python3.11/dist-packages (from requests<3,>=2->langchain) (2.3.0)\n",
            "Requirement already satisfied: certifi>=2017.4.17 in /usr/local/lib/python3.11/dist-packages (from requests<3,>=2->langchain) (2024.12.14)\n",
            "Requirement already satisfied: greenlet!=0.4.17 in /usr/local/lib/python3.11/dist-packages (from SQLAlchemy<3,>=1.4->langchain) (3.1.1)\n",
            "Requirement already satisfied: httpcore==1.* in /usr/local/lib/python3.11/dist-packages (from httpx<1,>=0.23.0->groq<1,>=0.4.1->langchain_groq) (1.0.7)\n",
            "Requirement already satisfied: h11<0.15,>=0.13 in /usr/local/lib/python3.11/dist-packages (from httpcore==1.*->httpx<1,>=0.23.0->groq<1,>=0.4.1->langchain_groq) (0.14.0)\n",
            "Requirement already satisfied: jsonpointer>=1.9 in /usr/local/lib/python3.11/dist-packages (from jsonpatch<2.0,>=1.33->langchain-core<0.4.0,>=0.3.29->langchain) (3.0.0)\n",
            "Downloading langgraph-0.2.65-py3-none-any.whl (143 kB)\n",
            "\u001b[2K   \u001b[90m━━━━━━━━━━━━━━━━━━━━━━━━━━━━━━━━━━━━━━━━\u001b[0m \u001b[32m143.9/143.9 kB\u001b[0m \u001b[31m4.2 MB/s\u001b[0m eta \u001b[36m0:00:00\u001b[0m\n",
            "\u001b[?25hDownloading langchain_groq-0.2.3-py3-none-any.whl (14 kB)\n",
            "Downloading groq-0.15.0-py3-none-any.whl (109 kB)\n",
            "\u001b[2K   \u001b[90m━━━━━━━━━━━━━━━━━━━━━━━━━━━━━━━━━━━━━━━━\u001b[0m \u001b[32m109.6/109.6 kB\u001b[0m \u001b[31m11.0 MB/s\u001b[0m eta \u001b[36m0:00:00\u001b[0m\n",
            "\u001b[?25hDownloading langgraph_checkpoint-2.0.10-py3-none-any.whl (37 kB)\n",
            "Downloading langgraph_sdk-0.1.51-py3-none-any.whl (44 kB)\n",
            "\u001b[2K   \u001b[90m━━━━━━━━━━━━━━━━━━━━━━━━━━━━━━━━━━━━━━━━\u001b[0m \u001b[32m44.7/44.7 kB\u001b[0m \u001b[31m4.2 MB/s\u001b[0m eta \u001b[36m0:00:00\u001b[0m\n",
            "\u001b[?25hInstalling collected packages: langgraph-sdk, groq, langgraph-checkpoint, langchain_groq, langgraph\n",
            "Successfully installed groq-0.15.0 langchain_groq-0.2.3 langgraph-0.2.65 langgraph-checkpoint-2.0.10 langgraph-sdk-0.1.51\n"
          ]
        }
      ]
    },
    {
      "cell_type": "code",
      "source": [
        "from google.colab import userdata\n",
        "import os\n",
        "os.environ['GROQ_API_KEY']=userdata.get('groq_api_key')"
      ],
      "metadata": {
        "id": "FqJk19X74b2-"
      },
      "execution_count": 13,
      "outputs": []
    },
    {
      "cell_type": "code",
      "execution_count": 14,
      "metadata": {
        "id": "devI7sZP4YM5"
      },
      "outputs": [],
      "source": [
        "from langchain_groq import ChatGroq\n",
        "llm=ChatGroq(model_name=\"Gemma2-9b-It\")"
      ]
    },
    {
      "cell_type": "code",
      "execution_count": 15,
      "metadata": {
        "colab": {
          "base_uri": "https://localhost:8080/",
          "height": 35
        },
        "id": "54pwCjvv4YM6",
        "outputId": "ca7309a8-6f13-48c7-b357-f8d82b62a2d5"
      },
      "outputs": [
        {
          "output_type": "execute_result",
          "data": {
            "text/plain": [
              "'Hi! 👋\\n\\nHow can I help you today? 😊\\n'"
            ],
            "application/vnd.google.colaboratory.intrinsic+json": {
              "type": "string"
            }
          },
          "metadata": {},
          "execution_count": 15
        }
      ],
      "source": [
        "llm.invoke(\"hi\").content"
      ]
    },
    {
      "cell_type": "code",
      "execution_count": 16,
      "metadata": {
        "id": "2so2Uk9G4YM8"
      },
      "outputs": [],
      "source": [
        "from langgraph.graph import StateGraph,MessagesState, START, END\n",
        "from langgraph.graph.message import add_messages\n",
        "from typing import Annotated, Literal, TypedDict\n",
        "from langchain_core.tools import tool\n",
        "from langchain_core.messages import HumanMessage\n",
        "from langgraph.checkpoint.memory import MemorySaver\n",
        "from langgraph.prebuilt import ToolNode"
      ]
    },
    {
      "cell_type": "code",
      "execution_count": 17,
      "metadata": {
        "id": "B47QRkCl4YM9"
      },
      "outputs": [],
      "source": [
        "def call_model(state: MessagesState):\n",
        "    messages = state['messages']\n",
        "    response = llm.invoke(messages)\n",
        "    return {\"messages\": [response]}"
      ]
    },
    {
      "cell_type": "code",
      "execution_count": 18,
      "metadata": {
        "id": "4d3rBg3O4YM9"
      },
      "outputs": [],
      "source": [
        "workflow=StateGraph(MessagesState)\n",
        "workflow.add_node(\"chatbot\",call_model)\n",
        "workflow.add_edge(START, \"chatbot\")\n",
        "workflow.add_edge(\"chatbot\",END)\n",
        "app=workflow.compile()"
      ]
    },
    {
      "cell_type": "code",
      "execution_count": 19,
      "metadata": {
        "colab": {
          "base_uri": "https://localhost:8080/",
          "height": 251
        },
        "id": "AlzUUfEU4YM9",
        "outputId": "6c870647-402f-4165-9fb3-387bd84df050"
      },
      "outputs": [
        {
          "output_type": "display_data",
          "data": {
            "image/png": "[encoded data removed]",
            "text/plain": [
              "<IPython.core.display.Image object>"
            ]
          },
          "metadata": {}
        }
      ],
      "source": [
        "from IPython.display import Image, display\n",
        "display(Image(app.get_graph().draw_mermaid_png()))"
      ]
    },
    {
      "cell_type": "code",
      "execution_count": 21,
      "metadata": {
        "id": "AgaAKP8z4YM9"
      },
      "outputs": [],
      "source": [
        "class MessagesState(TypedDict):\n",
        "    messages: Annotated[list[HumanMessage], add_messages]"
      ]
    },
    {
      "cell_type": "code",
      "execution_count": 22,
      "metadata": {
        "id": "KWoaPtXq4YM-"
      },
      "outputs": [],
      "source": [
        "input={\"messages\":[\"hi, my name is sunny\"]}"
      ]
    },
    {
      "cell_type": "code",
      "execution_count": 23,
      "metadata": {
        "colab": {
          "base_uri": "https://localhost:8080/"
        },
        "id": "8TwYFopM4YM-",
        "outputId": "43b63be2-e0ad-4ea4-96d3-cb6fd42efcf0"
      },
      "outputs": [
        {
          "output_type": "execute_result",
          "data": {
            "text/plain": [
              "{'messages': [HumanMessage(content='hi, my name is sunny', additional_kwargs={}, response_metadata={}, id='db0fd729-71a1-449e-9e17-116dcfab3789'),\n",
              "  AIMessage(content=\"Hello Sunny, it's nice to meet you!\\n\\nWhat can I do for you today? 😊  \\n\\n\", additional_kwargs={}, response_metadata={'token_usage': {'completion_tokens': 26, 'prompt_tokens': 15, 'total_tokens': 41, 'completion_time': 0.047272727, 'prompt_time': 9.4479e-05, 'queue_time': 0.021431469999999998, 'total_time': 0.047367206}, 'model_name': 'Gemma2-9b-It', 'system_fingerprint': 'fp_10c08bf97d', 'finish_reason': 'stop', 'logprobs': None}, id='run-8abf2a28-3afc-40be-9f77-a34230bb2278-0', usage_metadata={'input_tokens': 15, 'output_tokens': 26, 'total_tokens': 41})]}"
            ]
          },
          "metadata": {},
          "execution_count": 23
        }
      ],
      "source": [
        "app.invoke(input)"
      ]
    },
    {
      "cell_type": "code",
      "execution_count": 24,
      "metadata": {
        "colab": {
          "base_uri": "https://localhost:8080/"
        },
        "id": "538VHj7V4YM-",
        "outputId": "82ac8a0e-9dd2-44c8-c36e-64cbee3307d3"
      },
      "outputs": [
        {
          "output_type": "stream",
          "name": "stdout",
          "text": [
            "Output from chatbot Node\n",
            "_______\n",
            "{'messages': [AIMessage(content=\"Hello Sunny, it's nice to meet you! 😊\\n\\nWhat can I do for you today?  \\n\\n\", additional_kwargs={}, response_metadata={'token_usage': {'completion_tokens': 26, 'prompt_tokens': 15, 'total_tokens': 41, 'completion_time': 0.047272727, 'prompt_time': 8.87e-05, 'queue_time': 0.021041419999999998, 'total_time': 0.047361427}, 'model_name': 'Gemma2-9b-It', 'system_fingerprint': 'fp_10c08bf97d', 'finish_reason': 'stop', 'logprobs': None}, id='run-a3ed5b4c-4e23-4448-bee2-4f571a7d833a-0', usage_metadata={'input_tokens': 15, 'output_tokens': 26, 'total_tokens': 41})]}\n",
            "\n",
            "\n"
          ]
        }
      ],
      "source": [
        "for output in app.stream(input):\n",
        "    for key,value in output.items():\n",
        "        print(f\"Output from {key} Node\")\n",
        "        print(\"_______\")\n",
        "        print(value)\n",
        "        print(\"\\n\")"
      ]
    },
    {
      "cell_type": "code",
      "execution_count": 25,
      "metadata": {
        "id": "DNR5qKsy4YM-"
      },
      "outputs": [],
      "source": [
        "@tool\n",
        "def search(query: str):\n",
        "    \"\"\"this is my custom tool.\"\"\"\n",
        "    if \"sf\" in query.lower() or \"san francisco\" in query.lower():\n",
        "        return \"It's 60 degrees and foggy.\"\n",
        "    return \"It's 90 degrees and sunny.\""
      ]
    },
    {
      "cell_type": "code",
      "execution_count": 26,
      "metadata": {
        "colab": {
          "base_uri": "https://localhost:8080/",
          "height": 35
        },
        "id": "_0Mk-NCS4YM_",
        "outputId": "5aa3faa3-60af-417a-9cb8-8e3055247d84"
      },
      "outputs": [
        {
          "output_type": "execute_result",
          "data": {
            "text/plain": [
              "\"It's 60 degrees and foggy.\""
            ],
            "application/vnd.google.colaboratory.intrinsic+json": {
              "type": "string"
            }
          },
          "metadata": {},
          "execution_count": 26
        }
      ],
      "source": [
        "search.invoke(\"what is a temprature in sf?\")"
      ]
    },
    {
      "cell_type": "code",
      "execution_count": 27,
      "metadata": {
        "colab": {
          "base_uri": "https://localhost:8080/",
          "height": 35
        },
        "id": "BC-cxKm24YM_",
        "outputId": "5aa29573-ca4c-4120-a925-2e70879077c2"
      },
      "outputs": [
        {
          "output_type": "execute_result",
          "data": {
            "text/plain": [
              "\"It's 90 degrees and sunny.\""
            ],
            "application/vnd.google.colaboratory.intrinsic+json": {
              "type": "string"
            }
          },
          "metadata": {},
          "execution_count": 27
        }
      ],
      "source": [
        "search.invoke(\"what is a weather in india?\")"
      ]
    },
    {
      "cell_type": "code",
      "execution_count": 28,
      "metadata": {
        "colab": {
          "base_uri": "https://localhost:8080/"
        },
        "id": "15z0fIfq4YM_",
        "outputId": "fa914633-ecc1-477e-e258-bd3feab3415a"
      },
      "outputs": [
        {
          "output_type": "execute_result",
          "data": {
            "text/plain": [
              "StructuredTool(name='search', description='this is my custom tool.', args_schema=<class 'langchain_core.utils.pydantic.search'>, func=<function search at 0x7c6cc8b98680>)"
            ]
          },
          "metadata": {},
          "execution_count": 28
        }
      ],
      "source": [
        "search"
      ]
    },
    {
      "cell_type": "code",
      "execution_count": 29,
      "metadata": {
        "id": "2_KzfCNf4YM_"
      },
      "outputs": [],
      "source": [
        "tools=[search]"
      ]
    },
    {
      "cell_type": "code",
      "execution_count": 30,
      "metadata": {
        "id": "qJhFx9ps4YM_"
      },
      "outputs": [],
      "source": [
        "tool_node=ToolNode(tools)"
      ]
    },
    {
      "cell_type": "code",
      "execution_count": 31,
      "metadata": {
        "id": "tIbvy8ct4YM_"
      },
      "outputs": [],
      "source": [
        "llm_with_tool=llm.bind_tools(tools)"
      ]
    },
    {
      "cell_type": "code",
      "execution_count": 32,
      "metadata": {
        "id": "ZDyYXXdL4YM_"
      },
      "outputs": [],
      "source": [
        "def call_model(state: MessagesState):\n",
        "    messages = state['messages']\n",
        "    response = llm_with_tool.invoke(messages)\n",
        "    return {\"messages\": [response]}"
      ]
    },
    {
      "cell_type": "code",
      "execution_count": 33,
      "metadata": {
        "id": "HzY5-bw-4YM_"
      },
      "outputs": [],
      "source": [
        "response=call_model({\"messages\": [\"hi how are you?\"]})"
      ]
    },
    {
      "cell_type": "code",
      "execution_count": 34,
      "metadata": {
        "colab": {
          "base_uri": "https://localhost:8080/"
        },
        "id": "xPnEjz8m4YM_",
        "outputId": "22479e69-e168-4781-b536-78571a1dea2f"
      },
      "outputs": [
        {
          "output_type": "execute_result",
          "data": {
            "text/plain": [
              "{'messages': [AIMessage(content='', additional_kwargs={'tool_calls': [{'id': 'call_sdew', 'function': {'arguments': '{\"query\":\"how are you?\"}', 'name': 'search'}, 'type': 'function'}]}, response_metadata={'token_usage': {'completion_tokens': 82, 'prompt_tokens': 941, 'total_tokens': 1023, 'completion_time': 0.149090909, 'prompt_time': 0.030202403, 'queue_time': 0.021833577000000003, 'total_time': 0.179293312}, 'model_name': 'Gemma2-9b-It', 'system_fingerprint': 'fp_10c08bf97d', 'finish_reason': 'tool_calls', 'logprobs': None}, id='run-b236e30e-df26-4e10-ac81-a18d6d24dd47-0', tool_calls=[{'name': 'search', 'args': {'query': 'how are you?'}, 'id': 'call_sdew', 'type': 'tool_call'}], usage_metadata={'input_tokens': 941, 'output_tokens': 82, 'total_tokens': 1023})]}"
            ]
          },
          "metadata": {},
          "execution_count": 34
        }
      ],
      "source": [
        "response"
      ]
    },
    {
      "cell_type": "markdown",
      "metadata": {
        "id": "i6Kd4vC84YM_"
      },
      "source": [
        "[AIMessage(content='I am doing well, thank you. How are you?', additional_kwargs={}, response_metadata={'token_usage': {'completion_tokens': 14, 'prompt_tokens': 941, 'total_tokens': 955, 'completion_time': 0.025454545, 'prompt_time': 0.030139486, 'queue_time': 0.0028640919999999986, 'total_time': 0.055594031}, 'model_name': 'Gemma2-9b-It', 'system_fingerprint': 'fp_10c08bf97d', 'finish_reason': 'stop', 'logprobs': None}, id='run-7176e5d9-307e-4644-93e2-99d358198179-0', usage_metadata={'input_tokens': 941, 'output_tokens': 14, 'total_tokens': 955})]"
      ]
    },
    {
      "cell_type": "code",
      "execution_count": 35,
      "metadata": {
        "id": "lUqV7JLQ4YNA"
      },
      "outputs": [],
      "source": [
        "messages = response['messages']"
      ]
    },
    {
      "cell_type": "code",
      "execution_count": 36,
      "metadata": {
        "id": "rv84aaI24YNA"
      },
      "outputs": [],
      "source": [
        "last_message=messages[-1]"
      ]
    },
    {
      "cell_type": "code",
      "execution_count": 37,
      "metadata": {
        "colab": {
          "base_uri": "https://localhost:8080/"
        },
        "id": "QSHEeTRk4YNA",
        "outputId": "86cbf7c8-8161-49f9-df0d-e19791c4047b"
      },
      "outputs": [
        {
          "output_type": "execute_result",
          "data": {
            "text/plain": [
              "[{'name': 'search',\n",
              "  'args': {'query': 'how are you?'},\n",
              "  'id': 'call_sdew',\n",
              "  'type': 'tool_call'}]"
            ]
          },
          "metadata": {},
          "execution_count": 37
        }
      ],
      "source": [
        "last_message.tool_calls"
      ]
    },
    {
      "cell_type": "code",
      "execution_count": 38,
      "metadata": {
        "id": "irq2-7DK4YNA"
      },
      "outputs": [],
      "source": [
        "response=call_model({\"messages\": [\"what is a weather in India?\"]})"
      ]
    },
    {
      "cell_type": "code",
      "execution_count": 39,
      "metadata": {
        "colab": {
          "base_uri": "https://localhost:8080/"
        },
        "id": "AERY0-ca4YNB",
        "outputId": "392a383f-ddec-4d5d-eef2-5b8be8013b35"
      },
      "outputs": [
        {
          "output_type": "execute_result",
          "data": {
            "text/plain": [
              "{'messages': [AIMessage(content='', additional_kwargs={'tool_calls': [{'id': 'call_knf3', 'function': {'arguments': '{\"query\":\"weather in India\"}', 'name': 'search'}, 'type': 'function'}]}, response_metadata={'token_usage': {'completion_tokens': 82, 'prompt_tokens': 943, 'total_tokens': 1025, 'completion_time': 0.149090909, 'prompt_time': 0.030101473, 'queue_time': 0.021166426999999998, 'total_time': 0.179192382}, 'model_name': 'Gemma2-9b-It', 'system_fingerprint': 'fp_10c08bf97d', 'finish_reason': 'tool_calls', 'logprobs': None}, id='run-ac85465f-a0b8-46bc-9c8d-d95eb6411e8e-0', tool_calls=[{'name': 'search', 'args': {'query': 'weather in India'}, 'id': 'call_knf3', 'type': 'tool_call'}], usage_metadata={'input_tokens': 943, 'output_tokens': 82, 'total_tokens': 1025})]}"
            ]
          },
          "metadata": {},
          "execution_count": 39
        }
      ],
      "source": [
        "response"
      ]
    },
    {
      "cell_type": "markdown",
      "metadata": {
        "id": "bk7uxYUy4YNB"
      },
      "source": [
        "[AIMessage(content='', additional_kwargs={'tool_calls': [{'id': 'call_5q56', 'function': {'arguments': '{\"query\":\"weather in India\"}', 'name': 'search'}, 'type': 'function'}]}, response_metadata={'token_usage': {'completion_tokens': 82, 'prompt_tokens': 943, 'total_tokens': 1025, 'completion_time': 0.149090909, 'prompt_time': 0.031104902, 'queue_time': 0.003129146000000003, 'total_time': 0.180195811}, 'model_name': 'Gemma2-9b-It', 'system_fingerprint': 'fp_10c08bf97d', 'finish_reason': 'tool_calls', 'logprobs': None}, id='run-35d08bfe-0844-4902-8d36-71630335dd9e-0', tool_calls=[{'name': 'search', 'args': {'query': 'weather in India'}, 'id': 'call_5q56', 'type': 'tool_call'}], usage_metadata={'input_tokens': 943, 'output_tokens': 82, 'total_tokens': 1025})]"
      ]
    },
    {
      "cell_type": "code",
      "execution_count": 40,
      "metadata": {
        "id": "c1AYn0ul4YNB"
      },
      "outputs": [],
      "source": [
        "messages = response['messages']"
      ]
    },
    {
      "cell_type": "code",
      "execution_count": 41,
      "metadata": {
        "id": "_w8NiptM4YNB"
      },
      "outputs": [],
      "source": [
        "last_message=messages[-1]"
      ]
    },
    {
      "cell_type": "code",
      "execution_count": 42,
      "metadata": {
        "colab": {
          "base_uri": "https://localhost:8080/"
        },
        "id": "MZOZ4P2Z4YNB",
        "outputId": "4423eda4-c4c7-40e4-e6f0-59e000615ad6"
      },
      "outputs": [
        {
          "output_type": "execute_result",
          "data": {
            "text/plain": [
              "[{'name': 'search',\n",
              "  'args': {'query': 'weather in India'},\n",
              "  'id': 'call_knf3',\n",
              "  'type': 'tool_call'}]"
            ]
          },
          "metadata": {},
          "execution_count": 42
        }
      ],
      "source": [
        "last_message.tool_calls"
      ]
    },
    {
      "cell_type": "code",
      "execution_count": 43,
      "metadata": {
        "id": "sYURbCUV4YNB"
      },
      "outputs": [],
      "source": [
        "def router_function(state: MessagesState) -> Literal[\"tools\", END]:\n",
        "    #print(f\"here is a state from should continue {state}\")\n",
        "    messages = state['messages']\n",
        "    last_message = messages[-1]\n",
        "    #print(f\"here is a last message from should continue {last_message}\")\n",
        "    if last_message.tool_calls:\n",
        "        return \"tools\"\n",
        "    return END"
      ]
    },
    {
      "cell_type": "code",
      "execution_count": 44,
      "metadata": {
        "id": "-0uK6wwX4YNB"
      },
      "outputs": [],
      "source": [
        "# Define a new graph\n",
        "workflow = StateGraph(MessagesState)\n",
        "\n",
        "workflow.add_node(\"agent\", call_model)\n",
        "workflow.add_node(\"tools\", tool_node)\n",
        "\n",
        "workflow.add_edge(START, \"agent\")\n",
        "\n",
        "workflow.add_conditional_edges(\"agent\",router_function,{\"tools\": \"tools\", END: END})\n",
        "\n",
        "app = workflow.compile()"
      ]
    },
    {
      "cell_type": "code",
      "execution_count": 45,
      "metadata": {
        "colab": {
          "base_uri": "https://localhost:8080/",
          "height": 266
        },
        "id": "-c4jExpI4YNB",
        "outputId": "b85818f5-4f19-426d-a48b-e351a004c029"
      },
      "outputs": [
        {
          "output_type": "display_data",
          "data": {
            "image/png": "[encoded data removed]",
            "text/plain": [
              "<IPython.core.display.Image object>"
            ]
          },
          "metadata": {}
        }
      ],
      "source": [
        "from IPython.display import Image, display\n",
        "display(Image(app.get_graph().draw_mermaid_png()))"
      ]
    },
    {
      "cell_type": "code",
      "execution_count": 46,
      "metadata": {
        "colab": {
          "base_uri": "https://localhost:8080/"
        },
        "id": "Is996bd34YNB",
        "outputId": "86eb4e85-1678-4055-9457-9a0d96eee8ab"
      },
      "outputs": [
        {
          "output_type": "execute_result",
          "data": {
            "text/plain": [
              "{'messages': [HumanMessage(content='hi how are you?', additional_kwargs={}, response_metadata={}, id='26b1a7a0-70fc-43a9-9797-7de5b3f1858d'),\n",
              "  AIMessage(content='', additional_kwargs={'tool_calls': [{'id': 'call_1y18', 'function': {'arguments': '{\"query\":\"hi how are you\"}', 'name': 'search'}, 'type': 'function'}]}, response_metadata={'token_usage': {'completion_tokens': 83, 'prompt_tokens': 941, 'total_tokens': 1024, 'completion_time': 0.150909091, 'prompt_time': 0.033695702, 'queue_time': 0.022018852999999998, 'total_time': 0.184604793}, 'model_name': 'Gemma2-9b-It', 'system_fingerprint': 'fp_10c08bf97d', 'finish_reason': 'tool_calls', 'logprobs': None}, id='run-97126900-e3b8-410b-a5cc-b8e8157f18d7-0', tool_calls=[{'name': 'search', 'args': {'query': 'hi how are you'}, 'id': 'call_1y18', 'type': 'tool_call'}], usage_metadata={'input_tokens': 941, 'output_tokens': 83, 'total_tokens': 1024}),\n",
              "  ToolMessage(content=\"It's 90 degrees and sunny.\", name='search', id='1637481b-57d1-4dab-96bd-194013f77d1d', tool_call_id='call_1y18')]}"
            ]
          },
          "metadata": {},
          "execution_count": 46
        }
      ],
      "source": [
        "app.invoke({\"messages\": [\"hi how are you?\"]})"
      ]
    },
    {
      "cell_type": "code",
      "execution_count": 47,
      "metadata": {
        "colab": {
          "base_uri": "https://localhost:8080/"
        },
        "id": "yNROazXi4YNB",
        "outputId": "d10a8217-e0ff-4acd-df69-a44658aae3ba"
      },
      "outputs": [
        {
          "output_type": "execute_result",
          "data": {
            "text/plain": [
              "{'messages': [HumanMessage(content='what is the weather in sf', additional_kwargs={}, response_metadata={}, id='60d25e8c-a4b5-4456-8638-b3df441a9241'),\n",
              "  AIMessage(content='', additional_kwargs={'tool_calls': [{'id': 'call_wa9h', 'function': {'arguments': '{\"query\":\"weather in sf\"}', 'name': 'search'}, 'type': 'function'}]}, response_metadata={'token_usage': {'completion_tokens': 81, 'prompt_tokens': 942, 'total_tokens': 1023, 'completion_time': 0.147272727, 'prompt_time': 0.030213012, 'queue_time': 0.021263243999999997, 'total_time': 0.177485739}, 'model_name': 'Gemma2-9b-It', 'system_fingerprint': 'fp_10c08bf97d', 'finish_reason': 'tool_calls', 'logprobs': None}, id='run-e302d60d-b643-43b9-b7d4-4fc6c208c3dc-0', tool_calls=[{'name': 'search', 'args': {'query': 'weather in sf'}, 'id': 'call_wa9h', 'type': 'tool_call'}], usage_metadata={'input_tokens': 942, 'output_tokens': 81, 'total_tokens': 1023}),\n",
              "  ToolMessage(content=\"It's 60 degrees and foggy.\", name='search', id='a4e448ca-294f-46f6-9249-633aa558079a', tool_call_id='call_wa9h')]}"
            ]
          },
          "metadata": {},
          "execution_count": 47
        }
      ],
      "source": [
        "app.invoke({\"messages\": [\"what is the weather in sf\"]})"
      ]
    },
    {
      "cell_type": "code",
      "execution_count": 48,
      "metadata": {
        "colab": {
          "base_uri": "https://localhost:8080/"
        },
        "id": "ZeP3WC7S4YNC",
        "outputId": "9a2fa370-ccc6-4b76-d984-a7f34602ebc0"
      },
      "outputs": [
        {
          "output_type": "stream",
          "name": "stderr",
          "text": [
            "WARNING:langgraph.graph.graph:Adding an edge to a graph that has already been compiled. This will not be reflected in the compiled graph.\n"
          ]
        },
        {
          "output_type": "execute_result",
          "data": {
            "text/plain": [
              "<langgraph.graph.state.StateGraph at 0x7c6cc8be6e10>"
            ]
          },
          "metadata": {},
          "execution_count": 48
        }
      ],
      "source": [
        "workflow.add_edge(\"tools\", 'agent')"
      ]
    },
    {
      "cell_type": "code",
      "execution_count": 49,
      "metadata": {
        "id": "JrM20E944YNC"
      },
      "outputs": [],
      "source": [
        "app = workflow.compile()"
      ]
    },
    {
      "cell_type": "code",
      "execution_count": 50,
      "metadata": {
        "colab": {
          "base_uri": "https://localhost:8080/",
          "height": 266
        },
        "id": "MpbOLUnP4YNC",
        "outputId": "f938a5db-efb3-446d-e663-37ac59cb409a"
      },
      "outputs": [
        {
          "output_type": "display_data",
          "data": {
            "image/png": "[encoded data removed]",
            "text/plain": [
              "<IPython.core.display.Image object>"
            ]
          },
          "metadata": {}
        }
      ],
      "source": [
        "from IPython.display import Image, display\n",
        "display(Image(app.get_graph().draw_mermaid_png()))"
      ]
    },
    {
      "cell_type": "code",
      "execution_count": 51,
      "metadata": {
        "colab": {
          "base_uri": "https://localhost:8080/"
        },
        "id": "q6kIymix4YNC",
        "outputId": "a3214078-8757-4fcf-975d-54ff60f3596d"
      },
      "outputs": [
        {
          "output_type": "stream",
          "name": "stdout",
          "text": [
            "here is output from agent\n",
            "_______\n",
            "{'messages': [AIMessage(content='', additional_kwargs={'tool_calls': [{'id': 'call_vprv', 'function': {'arguments': '{\"query\":\"weather in sf\"}', 'name': 'search'}, 'type': 'function'}]}, response_metadata={'token_usage': {'completion_tokens': 82, 'prompt_tokens': 942, 'total_tokens': 1024, 'completion_time': 0.149090909, 'prompt_time': 0.030212883, 'queue_time': 0.022660517, 'total_time': 0.179303792}, 'model_name': 'Gemma2-9b-It', 'system_fingerprint': 'fp_10c08bf97d', 'finish_reason': 'tool_calls', 'logprobs': None}, id='run-ec4d1b1f-d347-4243-9225-71f7b1f60ecc-0', tool_calls=[{'name': 'search', 'args': {'query': 'weather in sf'}, 'id': 'call_vprv', 'type': 'tool_call'}], usage_metadata={'input_tokens': 942, 'output_tokens': 82, 'total_tokens': 1024})]}\n",
            "\n",
            "\n",
            "here is output from tools\n",
            "_______\n",
            "{'messages': [ToolMessage(content=\"It's 60 degrees and foggy.\", name='search', id='e1997265-1c1c-4f42-9967-e1b4e24a1d40', tool_call_id='call_vprv')]}\n",
            "\n",
            "\n",
            "here is output from agent\n",
            "_______\n",
            "{'messages': [AIMessage(content=\"It's 60 degrees and foggy.\", additional_kwargs={}, response_metadata={'token_usage': {'completion_tokens': 12, 'prompt_tokens': 1020, 'total_tokens': 1032, 'completion_time': 0.021818182, 'prompt_time': 0.032655575, 'queue_time': 0.022353425000000003, 'total_time': 0.054473757}, 'model_name': 'Gemma2-9b-It', 'system_fingerprint': 'fp_10c08bf97d', 'finish_reason': 'stop', 'logprobs': None}, id='run-2f2db38a-6ead-4f24-9f67-bf9f2407e5e9-0', usage_metadata={'input_tokens': 1020, 'output_tokens': 12, 'total_tokens': 1032})]}\n",
            "\n",
            "\n"
          ]
        }
      ],
      "source": [
        "for output in app.stream({\"messages\": [\"what is the weather in sf\"]}):\n",
        "    for key,value in output.items():\n",
        "        print(f\"here is output from {key}\")\n",
        "        print(\"_______\")\n",
        "        print(value)\n",
        "        print(\"\\n\")"
      ]
    },
    {
      "cell_type": "code",
      "execution_count": 52,
      "metadata": {
        "id": "pRxMoEF54YNG"
      },
      "outputs": [],
      "source": [
        "from langgraph.checkpoint.memory import MemorySaver\n",
        "\n",
        "memory = MemorySaver()"
      ]
    },
    {
      "cell_type": "code",
      "execution_count": 53,
      "metadata": {
        "colab": {
          "base_uri": "https://localhost:8080/"
        },
        "id": "TwkRJ1n04YNG",
        "outputId": "90126214-cf7f-4736-bac7-7ee00ddea75d"
      },
      "outputs": [
        {
          "output_type": "execute_result",
          "data": {
            "text/plain": [
              "<langgraph.graph.state.StateGraph at 0x7c6cc8d7a410>"
            ]
          },
          "metadata": {},
          "execution_count": 53
        }
      ],
      "source": [
        "# Define a new graph\n",
        "workflow3 = StateGraph(MessagesState)\n",
        "\n",
        "workflow3.add_node(\"agent\", call_model)\n",
        "workflow3.add_node(\"tools\", tool_node)\n",
        "\n",
        "workflow3.add_edge(START, \"agent\")\n",
        "\n",
        "workflow3.add_conditional_edges(\"agent\",router_function,{\"tools\": \"tools\", END: END})\n",
        "\n",
        "workflow3.add_edge(\"tools\", 'agent')"
      ]
    },
    {
      "cell_type": "code",
      "execution_count": 54,
      "metadata": {
        "id": "mL7uork84YNG"
      },
      "outputs": [],
      "source": [
        "app3 = workflow3.compile(checkpointer = memory)"
      ]
    },
    {
      "cell_type": "code",
      "execution_count": 55,
      "metadata": {
        "colab": {
          "base_uri": "https://localhost:8080/",
          "height": 266
        },
        "id": "kh877rMG4YNG",
        "outputId": "6c6c30db-8d42-421c-ecfa-1cf365708136"
      },
      "outputs": [
        {
          "output_type": "display_data",
          "data": {
            "image/png": "[encoded data removed]",
            "text/plain": [
              "<IPython.core.display.Image object>"
            ]
          },
          "metadata": {}
        }
      ],
      "source": [
        "from IPython.display import Image, display\n",
        "\n",
        "try:\n",
        "    display(Image(app3.get_graph().draw_mermaid_png()))\n",
        "except Exception:\n",
        "    # This requires some extra dependencies and is optional\n",
        "    pass"
      ]
    },
    {
      "cell_type": "code",
      "execution_count": 56,
      "metadata": {
        "id": "ip8CVX3m4YNG"
      },
      "outputs": [],
      "source": [
        "config = {\"configurable\": {\"thread_id\": \"1\"}}"
      ]
    },
    {
      "cell_type": "code",
      "execution_count": 57,
      "metadata": {
        "id": "ESpSmqA14YNG"
      },
      "outputs": [],
      "source": [
        "events = app3.stream(\n",
        "    {\"messages\": [\"Hi there! My name is Sunny.\"]}, config, stream_mode=\"values\"\n",
        ")"
      ]
    },
    {
      "cell_type": "code",
      "execution_count": 58,
      "metadata": {
        "colab": {
          "base_uri": "https://localhost:8080/"
        },
        "id": "Fa-Qn9Ob4YNG",
        "outputId": "edcd9a5c-b342-48a4-bb63-ce1e2121c695"
      },
      "outputs": [
        {
          "output_type": "stream",
          "name": "stdout",
          "text": [
            "================================\u001b[1m Human Message \u001b[0m=================================\n",
            "\n",
            "Hi there! My name is Sunny.\n",
            "==================================\u001b[1m Ai Message \u001b[0m==================================\n",
            "Tool Calls:\n",
            "  search (call_6g93)\n",
            " Call ID: call_6g93\n",
            "  Args:\n",
            "    query: Hello, what is your name?\n",
            "=================================\u001b[1m Tool Message \u001b[0m=================================\n",
            "Name: search\n",
            "\n",
            "It's 90 degrees and sunny.\n",
            "==================================\u001b[1m Ai Message \u001b[0m==================================\n",
            "\n",
            "That's not my name. My name is Sunny.\n"
          ]
        }
      ],
      "source": [
        "for event in events:\n",
        "    event[\"messages\"][-1].pretty_print()"
      ]
    },
    {
      "cell_type": "code",
      "execution_count": 59,
      "metadata": {
        "id": "YkzZHdpK4YNG"
      },
      "outputs": [],
      "source": [
        "events = app3.stream(\n",
        "    {\"messages\": [\"can you tell me what was my name?\"]}, config, stream_mode=\"values\"\n",
        ")"
      ]
    },
    {
      "cell_type": "code",
      "execution_count": 60,
      "metadata": {
        "colab": {
          "base_uri": "https://localhost:8080/"
        },
        "id": "UD7bdGYh4YNG",
        "outputId": "2355448c-bba1-40ce-98ed-972210062ad1"
      },
      "outputs": [
        {
          "output_type": "stream",
          "name": "stdout",
          "text": [
            "================================\u001b[1m Human Message \u001b[0m=================================\n",
            "\n",
            "can you tell me what was my name?\n",
            "==================================\u001b[1m Ai Message \u001b[0m==================================\n",
            "\n",
            "I don't have access to past conversations.  \n",
            "\n",
            "What is your name?\n"
          ]
        }
      ],
      "source": [
        "for event in events:\n",
        "    event[\"messages\"][-1].pretty_print()"
      ]
    },
    {
      "cell_type": "code",
      "execution_count": 61,
      "metadata": {
        "colab": {
          "base_uri": "https://localhost:8080/"
        },
        "id": "Fwu6fbxx4YNG",
        "outputId": "f9682515-33dd-4125-b112-96087206a195"
      },
      "outputs": [
        {
          "output_type": "execute_result",
          "data": {
            "text/plain": [
              "{'v': 1,\n",
              " 'ts': '2025-01-21T17:22:56.800500+00:00',\n",
              " 'id': '1efd81c5-aedf-6f5f-8006-f5c28f492290',\n",
              " 'channel_values': {'messages': [HumanMessage(content='Hi there! My name is Sunny.', additional_kwargs={}, response_metadata={}, id='0eac04b3-8fbc-462e-85d0-15ea098c400e'),\n",
              "   AIMessage(content='', additional_kwargs={'tool_calls': [{'id': 'call_6g93', 'function': {'arguments': '{\"query\":\"Hello, what is your name?\"}', 'name': 'search'}, 'type': 'function'}]}, response_metadata={'token_usage': {'completion_tokens': 85, 'prompt_tokens': 944, 'total_tokens': 1029, 'completion_time': 0.154545455, 'prompt_time': 0.051914592, 'queue_time': 0.020473186999999997, 'total_time': 0.206460047}, 'model_name': 'Gemma2-9b-It', 'system_fingerprint': 'fp_10c08bf97d', 'finish_reason': 'tool_calls', 'logprobs': None}, id='run-ffa79354-9ba3-4eda-9ab8-e91c740d98fe-0', tool_calls=[{'name': 'search', 'args': {'query': 'Hello, what is your name?'}, 'id': 'call_6g93', 'type': 'tool_call'}], usage_metadata={'input_tokens': 944, 'output_tokens': 85, 'total_tokens': 1029}),\n",
              "   ToolMessage(content=\"It's 90 degrees and sunny.\", name='search', id='cf7fb3c5-dc40-4941-8b14-917933e65771', tool_call_id='call_6g93'),\n",
              "   AIMessage(content=\"That's not my name. My name is Sunny.  \\n\", additional_kwargs={}, response_metadata={'token_usage': {'completion_tokens': 16, 'prompt_tokens': 1030, 'total_tokens': 1046, 'completion_time': 0.029090909, 'prompt_time': 0.038397087, 'queue_time': 0.021482901999999998, 'total_time': 0.067487996}, 'model_name': 'Gemma2-9b-It', 'system_fingerprint': 'fp_10c08bf97d', 'finish_reason': 'stop', 'logprobs': None}, id='run-5c314b33-f502-492a-ab87-55024fc84f19-0', usage_metadata={'input_tokens': 1030, 'output_tokens': 16, 'total_tokens': 1046}),\n",
              "   HumanMessage(content='can you tell me what was my name?', additional_kwargs={}, response_metadata={}, id='dce11df7-eb7c-4719-bc04-94be05485313'),\n",
              "   AIMessage(content=\"I don't have access to past conversations.  \\n\\nWhat is your name?\", additional_kwargs={}, response_metadata={'token_usage': {'completion_tokens': 19, 'prompt_tokens': 1063, 'total_tokens': 1082, 'completion_time': 0.034545455, 'prompt_time': 0.034429319, 'queue_time': 0.022360141, 'total_time': 0.068974774}, 'model_name': 'Gemma2-9b-It', 'system_fingerprint': 'fp_10c08bf97d', 'finish_reason': 'stop', 'logprobs': None}, id='run-f2142fab-4190-4e19-8f9c-ecbcba041125-0', usage_metadata={'input_tokens': 1063, 'output_tokens': 19, 'total_tokens': 1082})],\n",
              "  'agent': 'agent'},\n",
              " 'channel_versions': {'__start__': '00000000000000000000000000000007.0.3016306780123037',\n",
              "  'messages': '00000000000000000000000000000008.0.3169385441696039',\n",
              "  'start:agent': '00000000000000000000000000000008.0.2138539142852166',\n",
              "  'agent': '00000000000000000000000000000008.0.045314401519714775',\n",
              "  'branch:agent:router_function:tools': '00000000000000000000000000000004.0.6590703457063662',\n",
              "  'tools': '00000000000000000000000000000005.0.8744471342887963'},\n",
              " 'versions_seen': {'__input__': {},\n",
              "  '__start__': {'__start__': '00000000000000000000000000000006.0.12125479736245515'},\n",
              "  'agent': {'start:agent': '00000000000000000000000000000007.0.1641553368559967',\n",
              "   'tools': '00000000000000000000000000000004.0.9702331945364668'},\n",
              "  'tools': {'branch:agent:router_function:tools': '00000000000000000000000000000003.0.07639053559689601'}},\n",
              " 'pending_sends': []}"
            ]
          },
          "metadata": {},
          "execution_count": 61
        }
      ],
      "source": [
        "memory.get(config)"
      ]
    },
    {
      "cell_type": "code",
      "execution_count": 62,
      "metadata": {
        "id": "ZifD_uNr4YNH"
      },
      "outputs": [],
      "source": [
        "# app.py"
      ]
    },
    {
      "cell_type": "code",
      "source": [
        "import streamlit as st\n",
        "from transformers import pipeline\n",
        "from bot import chatbot\n",
        "\n",
        "mybot=chatbot()\n",
        "workflow=mybot()\n",
        "\n",
        "# Set up the Streamlit app UI\n",
        "st.title(\"ChatBot with LangGraph\")\n",
        "st.write(\"Ask any question, and I'll try to answer it!\")\n",
        "\n",
        "# Input text box for the question\n",
        "question = st.text_input(\"Enter your question here:\")\n",
        "input={\"messages\": [question]}\n",
        "\n",
        "# Button to get the answer\n",
        "if st.button(\"Get Answer\"):\n",
        "    if input:\n",
        "        response=workflow.invoke(input)\n",
        "        st.write(\"**Answer:**\", response['messages'][-1].content)\n",
        "    else:\n",
        "        st.warning(\"Please enter a question to get an answer.\")\n",
        "\n",
        "# Additional styling (optional)\n",
        "st.markdown(\"---\")\n",
        "st.caption(\"Powered by Streamlit and Transformers\")"
      ],
      "metadata": {
        "id": "OcwCCGyD5Dai"
      },
      "execution_count": null,
      "outputs": []
    },
    {
      "cell_type": "code",
      "source": [
        "#bot.py\n",
        "# importing a necessary library\n",
        "from langgraph.graph import StateGraph,MessagesState, START, END\n",
        "from langgraph.graph.message import add_messages\n",
        "from typing import Annotated, Literal, TypedDict\n",
        "from langchain_core.tools import tool\n",
        "from langchain_core.messages import HumanMessage\n",
        "from langgraph.checkpoint.memory import MemorySaver\n",
        "from langgraph.prebuilt import ToolNode\n",
        "from langchain_groq import ChatGroq\n",
        "from langchain_community.tools.tavily_search import TavilySearchResults\n",
        "\n",
        "\n",
        "\n",
        "class chatbot:\n",
        "    def __init__(self):\n",
        "        self.llm=ChatGroq(model_name=\"Gemma2-9b-It\")\n",
        "\n",
        "    def call_tool(self):\n",
        "        tool = TavilySearchResults(max_results=2)\n",
        "        tools = [tool]\n",
        "        self.tool_node = ToolNode(tools=[tool])\n",
        "        self.llm_with_tool=self.llm.bind_tools(tools)\n",
        "\n",
        "    def call_model(self,state: MessagesState):\n",
        "        messages = state['messages']\n",
        "        response = self.llm_with_tool.invoke(messages)\n",
        "        return {\"messages\": [response]}\n",
        "\n",
        "    def router_function(self,state: MessagesState) -> Literal[\"tools\", END]:\n",
        "        messages = state['messages']\n",
        "        last_message = messages[-1]\n",
        "        if last_message.tool_calls:\n",
        "            return \"tools\"\n",
        "        return END\n",
        "\n",
        "\n",
        "\n",
        "    def __call__(self):\n",
        "        self.call_tool()\n",
        "        workflow = StateGraph(MessagesState)\n",
        "        workflow.add_node(\"agent\", self.call_model)\n",
        "        workflow.add_node(\"tools\", self.tool_node)\n",
        "        workflow.add_edge(START, \"agent\")\n",
        "        workflow.add_conditional_edges(\"agent\",self.router_function,{\"tools\": \"tools\", END: END})\n",
        "        workflow.add_edge(\"tools\", 'agent')\n",
        "        self.app = workflow.compile()\n",
        "        return self.app\n",
        "\n",
        "if __name__==\"__main__\":\n",
        "    mybot=chatbot()\n",
        "    workflow=mybot()\n",
        "    response=workflow.invoke({\"messages\": [\"who is a current prime minister of USA?\"]})\n",
        "    print(response['messages'][-1].content)\n",
        "\n",
        ""
      ],
      "metadata": {
        "id": "nXmKl4-q47BD"
      },
      "execution_count": null,
      "outputs": []
    }
  ],
  "metadata": {
    "kernelspec": {
      "display_name": "env",
      "language": "python",
      "name": "python3"
    },
    "language_info": {
      "codemirror_mode": {
        "name": "ipython",
        "version": 3
      },
      "file_extension": ".py",
      "mimetype": "text/x-python",
      "name": "python",
      "nbconvert_exporter": "python",
      "pygments_lexer": "ipython3",
      "version": "3.10.14"
    },
    "colab": {
      "provenance": [],
      "include_colab_link": true
    }
  },
  "nbformat": 4,
  "nbformat_minor": 0
}