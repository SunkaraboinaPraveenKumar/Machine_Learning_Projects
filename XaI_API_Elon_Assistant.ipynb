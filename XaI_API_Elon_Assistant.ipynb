{
  "nbformat": 4,
  "nbformat_minor": 0,
  "metadata": {
    "colab": {
      "provenance": [],
      "authorship_tag": "ABX9TyNbbPFl5NlxlP68iGb0Jkw/",
      "include_colab_link": true
    },
    "kernelspec": {
      "name": "python3",
      "display_name": "Python 3"
    },
    "language_info": {
      "name": "python"
    }
  },
  "cells": [
    {
      "cell_type": "markdown",
      "metadata": {
        "id": "view-in-github",
        "colab_type": "text"
      },
      "source": [
        "<a href=\"https://colab.research.google.com/github/SunkaraboinaPraveenKumar/Machine_Learning_Projects/blob/main/XaI_API_Elon_Assistant.ipynb\" target=\"_parent\"><img src=\"https://colab.research.google.com/assets/colab-badge.svg\" alt=\"Open In Colab\"/></a>"
      ]
    },
    {
      "cell_type": "code",
      "execution_count": 1,
      "metadata": {
        "id": "iHsixCQNT9bD"
      },
      "outputs": [],
      "source": [
        "!pip install openai --quiet"
      ]
    },
    {
      "cell_type": "code",
      "source": [
        "import os\n",
        "import openai"
      ],
      "metadata": {
        "id": "J4lAFYqBUL6J"
      },
      "execution_count": 2,
      "outputs": []
    },
    {
      "cell_type": "code",
      "source": [
        "from google.colab import userdata\n",
        "os.environ['XAI_API_KEY']=userdata.get('XAI_API_KEY')\n",
        "os.environ['OPENAI_API_KEY']=userdata.get('XAI_API_KEY')"
      ],
      "metadata": {
        "id": "9ZkqtsWNU6Z9"
      },
      "execution_count": 6,
      "outputs": []
    },
    {
      "cell_type": "code",
      "source": [
        "import os\n",
        "from openai import OpenAI\n",
        "\n",
        "def create_client():\n",
        "    XAI_API_KEY = \"Add Your xAI API Key\"\n",
        "    client = OpenAI(\n",
        "        base_url=\"https://api.x.ai/v1\",\n",
        "    )\n",
        "    return client\n",
        "\n",
        "def generate_response(client, system_message, prompt):\n",
        "    completion = client.chat.completions.create(\n",
        "        model=\"grok-beta\",\n",
        "        messages=[\n",
        "            {\"role\": \"system\", \"content\": system_message},\n",
        "            {\"role\": \"user\", \"content\": prompt},\n",
        "        ]\n",
        "    )\n",
        "    return completion.choices[0].message.content\n",
        "\n",
        "def summarize_text(client, text):\n",
        "    prompt = f\"Summarize the following text:\\n\\n{text}\"\n",
        "    return generate_response(client, \"\", prompt)\n",
        "\n",
        "def analyze_sentiment(client, text):\n",
        "    prompt = f\"Analyze the sentiment of the following text:\\n\\n{text}\"\n",
        "    return generate_response(client, \"\", prompt)\n",
        "\n",
        "def extract_topics(client, text):\n",
        "    prompt = f\"Extract the key topics from the following text:\\n\\n{text}\"\n",
        "    return generate_response(client, \"\", prompt)\n",
        "\n",
        "if __name__ == \"__main__\":\n",
        "    my_writing_style = \"\"\"In today's digital age, having a strong online presence is crucial for both individuals and businesses. With the right approach, you can leverage social media to connect with like-minded professionals, showcase your skills, and even attract new opportunities. Consistency, authenticity, and understanding your audience are key components of successful online branding. For instance, when creating content, it's essential to provide value and engage meaningfully with your audience. Whether you're sharing insights, highlighting achievements, or discussing industry trends, aim to offer content that resonates and adds value. Remember: people connect with people, so being relatable and genuine will set you apart in the digital landscape.\"\"\"\n",
        "\n",
        "    # Create the assistant\n",
        "    client = create_client()\n",
        "    system_message = f\"Analyze this writing example and mimic its style, tone, and voice: {my_writing_style}\"\n",
        "\n",
        "    # Generate a response\n",
        "    prompt = \"Write a post about this news: A leading tech company has just announced the launch of an innovative AI tool that enhances online interactions by personalizing user experiences and streamlining communication. This tool uses advanced machine learning algorithms to analyze user behavior and preferences, aiming to create more meaningful connections in digital spaces.\"\n",
        "    response = generate_response(client, system_message, prompt)\n",
        "    print(\"Generated Response:\", response)\n",
        "\n",
        "    # Summarize the response\n",
        "    summary = summarize_text(client, response)\n",
        "    print(\"Summary:\", summary)\n",
        "\n",
        "    # Analyze sentiment\n",
        "    sentiment = analyze_sentiment(client, response)\n",
        "    print(\"Sentiment Analysis:\", sentiment)\n",
        "\n",
        "    # Extract topics\n",
        "    topics = extract_topics(client, response)\n",
        "    print(\"Extracted Topics:\", topics)"
      ],
      "metadata": {
        "colab": {
          "base_uri": "https://localhost:8080/"
        },
        "id": "urJEC0wgUOce",
        "outputId": "28bf3b06-2643-4aa1-f161-e5b4ec3153e2"
      },
      "execution_count": 7,
      "outputs": [
        {
          "output_type": "stream",
          "name": "stdout",
          "text": [
            "Generated Response: In the ever-evolving realm of technology, a breakthrough has just hit the scene, and it's set to change the way we interact online. A leading tech company has unveiled a new AI tool designed to revolutionize our digital experiences. This isn't just another update; it's a leap towards a more personalized, seamless, and engaging online world.\n",
            "\n",
            "Imagine a digital companion that not only understands your preferences but anticipates your needs, creating interactions that feel uniquely tailored to you. This innovative AI tool uses sophisticated machine learning algorithms to analyze your online behavior, your likes, dislikes, and even how you communicate. The goal? To foster more meaningful connections in the vast digital landscape.\n",
            "\n",
            "**Here's why this matters:**\n",
            "\n",
            "- **Personalization**: No more one-size-fits-all interactions. This tool ensures that every email, message, or social media interaction feels like it's crafted just for you. Whether you're looking for professional networking or personal connections, this AI learns and adapts to make each encounter more relevant.\n",
            "\n",
            "- **Streamlined Communication**: Time is precious, and this AI tool knows it. It helps in cutting through the noise, allowing for more efficient and effective communication. It's like having a digital butler that ensures your inbox is organized, your social feeds are curated, and your interactions are optimized.\n",
            "\n",
            "- **Creating Value**: In the same vein as creating content that resonates, this AI tool is designed to provide value in every interaction. By understanding your audience, it can suggest content, connections, or conversations that will not only engage but also enrich your online experience.\n",
            "\n",
            "- **Authenticity**: While the tool uses AI, the focus remains on genuine connections. It's about enhancing, not replacing, the human element in digital interactions. By understanding user behavior, it helps in presenting your authentic self in the best light, making your online presence feel more real and relatable.\n",
            "\n",
            "Just like the importance of consistency and authenticity in personal branding, this AI tool brings a level of sophistication to how we connect online. It's about understanding your audience, providing value, and ensuring that every interaction is meaningful. In today's digital age, where online presence is paramount, tools like this are not just innovations; they're essentials for anyone looking to make their mark in the digital world.\n",
            "\n",
            "So, get ready to experience a digital interaction like never before. This AI tool isn't just enhancing your online experience; it's redefining it. Remember, in the digital landscape, people connect with people, and with this tool, those connections are about to get a whole lot more personal and profound.\n",
            "Summary: The text discusses a new AI tool introduced by a leading tech company that aims to transform digital interactions. Here are the key points:\n",
            "\n",
            "- **Purpose**: The AI tool is designed to personalize and streamline online experiences by understanding and anticipating user needs and behaviors.\n",
            "\n",
            "- **Features**:\n",
            "  - **Personalization**: Tailors emails, messages, and social media interactions to individual users.\n",
            "  - **Streamlined Communication**: Organizes inboxes, curates social feeds, and optimizes interactions to save time.\n",
            "  - **Value Creation**: Suggests content and connections that are relevant and engaging, enhancing the user's online experience.\n",
            "  - **Authenticity**: Enhances genuine human connections by presenting users in an authentic way, without replacing the human element.\n",
            "\n",
            "- **Significance**: This tool is not just an enhancement but a fundamental shift in how we connect online, making interactions more meaningful and tailored. It's essential for anyone looking to establish a significant digital presence in today's tech-driven world.\n",
            "\n",
            "- **Conclusion**: The AI tool promises to redefine digital interactions, making them more personal and profound, aligning with the importance of authenticity and consistency in personal branding.\n",
            "Sentiment Analysis: The sentiment analysis of the provided text reveals overwhelmingly **positive** sentiments:\n",
            "\n",
            "1. **Excitement and Optimism**: The text is filled with phrases like \"breakthrough\", \"revolutionize\", \"innovative\", and \"leap towards\", which convey excitement and optimism about the future of digital interaction with the new AI tool.\n",
            "\n",
            "2. **Anticipation**: There's a strong sense of looking forward to what's coming with statements like \"Imagine a digital companion\" and \"get ready to experience a digital interaction like never before.\"\n",
            "\n",
            "3. **Value and Benefit**: The text highlights the benefits and value this tool brings, using words like \"personalized\", \"streamlined\", \"creating value\", and \"authenticity.\" These terms suggest a positive impact on users' digital lives, emphasizing improvement and enhancement.\n",
            "\n",
            "4. **Reassurance**: Despite the focus on AI, there's reassurance that the human element remains crucial, with mentions of \"genuine connections\" and \"presenting your authentic self\", which adds a layer of positive sentiment about maintaining personal touch in digital interactions.\n",
            "\n",
            "5. **Importance and Necessity**: Phrases like \"essentials for anyone looking to make their mark in the digital world\" convey the sentiment that this tool is not just beneficial but necessary, adding to the positive outlook on its utility and impact.\n",
            "\n",
            "Overall, the text does not contain any negative or critical remarks about the AI tool. It focuses solely on the positive aspects, potential, and the transformative impact it could have on digital interactions, fostering a sentiment of hope, excitement, and endorsement.\n",
            "Extracted Topics: Here are the key topics extracted from the provided text:\n",
            "\n",
            "1. **Technology Breakthrough** - Introduction of a new AI tool by a leading tech company.\n",
            "\n",
            "2. **AI and Machine Learning** - Utilization of sophisticated algorithms for personalization.\n",
            "\n",
            "3. **Digital Personalization** - Customizing online interactions based on user behavior and preferences.\n",
            "\n",
            "4. **Streamlined Communication** - Efficiency in managing digital communications like emails and social media.\n",
            "\n",
            "5. **Value Creation** - Enhancing the value of online interactions by suggesting relevant content and connections.\n",
            "\n",
            "6. **Authenticity in Digital Interaction** - Focus on maintaining genuine connections despite the use of AI.\n",
            "\n",
            "7. **Personal Branding** - The importance of consistency and authenticity in online presence.\n",
            "\n",
            "8. **User Experience Enhancement** - Overall improvement in how users interact online, making experiences more tailored and engaging.\n",
            "\n",
            "9. **Digital Landscape** - The context within which these technological advancements are applied, emphasizing the importance of personal connections in digital spaces.\n"
          ]
        }
      ]
    },
    {
      "cell_type": "code",
      "source": [],
      "metadata": {
        "id": "cGFi0a9zVNII"
      },
      "execution_count": null,
      "outputs": []
    }
  ]
}