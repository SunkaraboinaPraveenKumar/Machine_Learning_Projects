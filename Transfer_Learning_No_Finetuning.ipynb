{
  "nbformat": 4,
  "nbformat_minor": 0,
  "metadata": {
    "colab": {
      "provenance": [],
      "authorship_tag": "ABX9TyNbGpsIf79aYi3z91spqjKF",
      "include_colab_link": true
    },
    "kernelspec": {
      "name": "python3",
      "display_name": "Python 3"
    },
    "language_info": {
      "name": "python"
    }
  },
  "cells": [
    {
      "cell_type": "markdown",
      "metadata": {
        "id": "view-in-github",
        "colab_type": "text"
      },
      "source": [
        "<a href=\"https://colab.research.google.com/github/SunkaraboinaPraveenKumar/Machine_Learning_Projects/blob/main/Transfer_Learning_No_Finetuning.ipynb\" target=\"_parent\"><img src=\"https://colab.research.google.com/assets/colab-badge.svg\" alt=\"Open In Colab\"/></a>"
      ]
    },
    {
      "cell_type": "code",
      "execution_count": 1,
      "metadata": {
        "id": "qBCgglLb45Xl"
      },
      "outputs": [],
      "source": [
        "# Imports\n",
        "import wandb\n",
        "from wandb.integration.keras import WandbMetricsLogger\n",
        "\n",
        "import tensorflow as tf\n",
        "import matplotlib.pyplot as plt\n",
        "from tensorflow import keras"
      ]
    },
    {
      "cell_type": "code",
      "source": [
        "# Sweep configuration\n",
        "sweep_config = {\n",
        "    'method': 'grid',\n",
        "    'metric': {'name': 'val_accuracy', 'goal': 'maximize'},\n",
        "    'parameters': {\n",
        "        'batch_size': {'values': [8]},\n",
        "        'learning_rate': {'values': [0.0001]},\n",
        "        'img_size': {'values': [128]},  # Set a reasonably large size for MobileNetV2\n",
        "        'epochs': {'values': [10]},\n",
        "        'experiment': {'values': ['transfer_learning']}\n",
        "    }\n",
        "}"
      ],
      "metadata": {
        "id": "uGtPzMtL5OPe"
      },
      "execution_count": 2,
      "outputs": []
    },
    {
      "cell_type": "code",
      "source": [
        "# Initialize W&B sweep\n",
        "sweep_id = wandb.sweep(sweep_config, project=\"5-flowers-transfer-learning\")"
      ],
      "metadata": {
        "colab": {
          "base_uri": "https://localhost:8080/",
          "height": 191
        },
        "id": "qe35bBWD5Ofn",
        "outputId": "5d6918e6-35d8-48da-f16f-61bdfe1591c6"
      },
      "execution_count": 3,
      "outputs": [
        {
          "output_type": "display_data",
          "data": {
            "text/plain": [
              "<IPython.core.display.Javascript object>"
            ],
            "application/javascript": [
              "\n",
              "        window._wandbApiKey = new Promise((resolve, reject) => {\n",
              "            function loadScript(url) {\n",
              "            return new Promise(function(resolve, reject) {\n",
              "                let newScript = document.createElement(\"script\");\n",
              "                newScript.onerror = reject;\n",
              "                newScript.onload = resolve;\n",
              "                document.body.appendChild(newScript);\n",
              "                newScript.src = url;\n",
              "            });\n",
              "            }\n",
              "            loadScript(\"https://cdn.jsdelivr.net/npm/postmate/build/postmate.min.js\").then(() => {\n",
              "            const iframe = document.createElement('iframe')\n",
              "            iframe.style.cssText = \"width:0;height:0;border:none\"\n",
              "            document.body.appendChild(iframe)\n",
              "            const handshake = new Postmate({\n",
              "                container: iframe,\n",
              "                url: 'https://wandb.ai/authorize'\n",
              "            });\n",
              "            const timeout = setTimeout(() => reject(\"Couldn't auto authenticate\"), 5000)\n",
              "            handshake.then(function(child) {\n",
              "                child.on('authorize', data => {\n",
              "                    clearTimeout(timeout)\n",
              "                    resolve(data)\n",
              "                });\n",
              "            });\n",
              "            })\n",
              "        });\n",
              "    "
            ]
          },
          "metadata": {}
        },
        {
          "output_type": "stream",
          "name": "stderr",
          "text": [
            "\u001b[34m\u001b[1mwandb\u001b[0m: Logging into wandb.ai. (Learn how to deploy a W&B server locally: https://wandb.me/wandb-server)\n",
            "\u001b[34m\u001b[1mwandb\u001b[0m: You can find your API key in your browser here: https://wandb.ai/authorize?ref=models\n",
            "wandb: Paste an API key from your profile and hit enter:"
          ]
        },
        {
          "name": "stdout",
          "output_type": "stream",
          "text": [
            " ··········\n"
          ]
        },
        {
          "output_type": "stream",
          "name": "stderr",
          "text": [
            "\u001b[34m\u001b[1mwandb\u001b[0m: \u001b[33mWARNING\u001b[0m If you're specifying your api key in code, ensure this code is not shared publicly.\n",
            "\u001b[34m\u001b[1mwandb\u001b[0m: \u001b[33mWARNING\u001b[0m Consider setting the WANDB_API_KEY environment variable, or running `wandb login` from the command line.\n",
            "\u001b[34m\u001b[1mwandb\u001b[0m: No netrc file found, creating one.\n",
            "\u001b[34m\u001b[1mwandb\u001b[0m: Appending key for api.wandb.ai to your netrc file: /root/.netrc\n"
          ]
        },
        {
          "output_type": "stream",
          "name": "stdout",
          "text": [
            "Create sweep with ID: 0xrer2c8\n",
            "Sweep URL: https://wandb.ai/praveenkumar-aiml27-jntuh-university/5-flowers-transfer-learning/sweeps/0xrer2c8\n"
          ]
        }
      ]
    },
    {
      "cell_type": "code",
      "source": [
        "# Train function\n",
        "def train():\n",
        "    with wandb.init() as run:\n",
        "        config = wandb.config\n",
        "\n",
        "        IMG_HEIGHT = config.img_size\n",
        "        IMG_WIDTH = config.img_size\n",
        "        IMG_CHANNELS = 3\n",
        "        CLASS_NAMES = [\"daisy\", \"dandelion\", \"roses\", \"sunflowers\", \"tulips\"]\n",
        "\n",
        "        # Helper functions\n",
        "        def read_and_decode(filename, resize_dims):\n",
        "            img_bytes = tf.io.read_file(filename)\n",
        "            img = tf.image.decode_jpeg(img_bytes, channels=IMG_CHANNELS)\n",
        "            img = tf.image.convert_image_dtype(img, tf.float32)\n",
        "            img = tf.image.resize(img, resize_dims)\n",
        "            return img\n",
        "\n",
        "        def parse_csvline(csv_line):\n",
        "            record_default = [\"\", \"\"]\n",
        "            filename, label_string = tf.io.decode_csv(csv_line, record_default)\n",
        "            img = read_and_decode(filename, [IMG_HEIGHT, IMG_WIDTH])\n",
        "            label = tf.where(tf.equal(CLASS_NAMES, label_string))[0, 0]\n",
        "            return img, label\n",
        "\n",
        "        # Prepare datasets\n",
        "        train_dataset = (\n",
        "            tf.data.TextLineDataset(\"gs://cloud-ml-data/img/flower_photos/train_set.csv\")\n",
        "            .map(parse_csvline, num_parallel_calls=tf.data.AUTOTUNE)\n",
        "            .batch(config.batch_size)\n",
        "            .prefetch(tf.data.AUTOTUNE)\n",
        "        )\n",
        "\n",
        "        eval_dataset = (\n",
        "            tf.data.TextLineDataset(\"gs://cloud-ml-data/img/flower_photos/eval_set.csv\")\n",
        "            .map(parse_csvline, num_parallel_calls=tf.data.AUTOTUNE)\n",
        "            .batch(config.batch_size)\n",
        "            .prefetch(tf.data.AUTOTUNE)\n",
        "        )\n",
        "\n",
        "        # Build model\n",
        "        base_model = tf.keras.applications.MobileNetV2(\n",
        "            input_shape=(IMG_HEIGHT, IMG_WIDTH, IMG_CHANNELS),\n",
        "            include_top=False,    # Remove ImageNet head\n",
        "            weights=\"imagenet\"    # Use pretrained weights\n",
        "        )\n",
        "        base_model.trainable = False  # Freeze base\n",
        "\n",
        "        model = keras.Sequential([\n",
        "            base_model,\n",
        "            keras.layers.GlobalAveragePooling2D(),\n",
        "            keras.layers.BatchNormalization(),       # Add BatchNorm\n",
        "            keras.layers.Dense(len(CLASS_NAMES), activation=\"softmax\")\n",
        "        ])\n",
        "\n",
        "        # Compile model\n",
        "        model.compile(\n",
        "            optimizer=keras.optimizers.Adam(learning_rate=config.learning_rate),\n",
        "            loss=tf.keras.losses.SparseCategoricalCrossentropy(from_logits=False),\n",
        "            metrics=[\"accuracy\"]\n",
        "        )\n",
        "\n",
        "        # Visualize model\n",
        "        model.summary()\n",
        "\n",
        "        keras.utils.plot_model(model, show_shapes=True, show_layer_names=True, to_file=\"model_visualization.png\")\n",
        "\n",
        "        # Train\n",
        "        callbacks = [WandbMetricsLogger(log_freq=5)]\n",
        "\n",
        "        model.fit(\n",
        "            train_dataset,\n",
        "            validation_data=eval_dataset,\n",
        "            epochs=config.epochs,\n",
        "            callbacks=callbacks\n",
        "        )"
      ],
      "metadata": {
        "id": "t2KvwUdK5QYE"
      },
      "execution_count": 4,
      "outputs": []
    },
    {
      "cell_type": "code",
      "source": [
        "# Launch W&B agent\n",
        "wandb.agent(sweep_id, function=train)"
      ],
      "metadata": {
        "colab": {
          "base_uri": "https://localhost:8080/",
          "height": 1000
        },
        "id": "qqVOaPkM5UOT",
        "outputId": "49f9e8a3-d8c5-4376-fcb6-22fee03a5879"
      },
      "execution_count": 5,
      "outputs": [
        {
          "metadata": {
            "tags": null
          },
          "name": "stderr",
          "output_type": "stream",
          "text": [
            "\u001b[34m\u001b[1mwandb\u001b[0m: Agent Starting Run: 1823juj1 with config:\n",
            "\u001b[34m\u001b[1mwandb\u001b[0m: \tbatch_size: 8\n",
            "\u001b[34m\u001b[1mwandb\u001b[0m: \tepochs: 10\n",
            "\u001b[34m\u001b[1mwandb\u001b[0m: \texperiment: transfer_learning\n",
            "\u001b[34m\u001b[1mwandb\u001b[0m: \timg_size: 128\n",
            "\u001b[34m\u001b[1mwandb\u001b[0m: \tlearning_rate: 0.0001\n",
            "\u001b[34m\u001b[1mwandb\u001b[0m: Currently logged in as: \u001b[33mpraveenkumar-aiml27\u001b[0m (\u001b[33mpraveenkumar-aiml27-jntuh-university\u001b[0m) to \u001b[32mhttps://api.wandb.ai\u001b[0m. Use \u001b[1m`wandb login --relogin`\u001b[0m to force relogin\n"
          ]
        },
        {
          "data": {
            "text/html": [
              "Tracking run with wandb version 0.19.10"
            ],
            "text/plain": [
              "<IPython.core.display.HTML object>"
            ]
          },
          "metadata": {},
          "output_type": "display_data"
        },
        {
          "data": {
            "text/html": [
              "Run data is saved locally in <code>/content/wandb/run-20250502_165837-1823juj1</code>"
            ],
            "text/plain": [
              "<IPython.core.display.HTML object>"
            ]
          },
          "metadata": {},
          "output_type": "display_data"
        },
        {
          "data": {
            "text/html": [
              "Syncing run <strong><a href='https://wandb.ai/praveenkumar-aiml27-jntuh-university/5-flowers-transfer-learning/runs/1823juj1' target=\"_blank\">magic-sweep-1</a></strong> to <a href='https://wandb.ai/praveenkumar-aiml27-jntuh-university/5-flowers-transfer-learning' target=\"_blank\">Weights & Biases</a> (<a href='https://wandb.me/developer-guide' target=\"_blank\">docs</a>)<br>Sweep page: <a href='https://wandb.ai/praveenkumar-aiml27-jntuh-university/5-flowers-transfer-learning/sweeps/0xrer2c8' target=\"_blank\">https://wandb.ai/praveenkumar-aiml27-jntuh-university/5-flowers-transfer-learning/sweeps/0xrer2c8</a>"
            ],
            "text/plain": [
              "<IPython.core.display.HTML object>"
            ]
          },
          "metadata": {},
          "output_type": "display_data"
        },
        {
          "data": {
            "text/html": [
              " View project at <a href='https://wandb.ai/praveenkumar-aiml27-jntuh-university/5-flowers-transfer-learning' target=\"_blank\">https://wandb.ai/praveenkumar-aiml27-jntuh-university/5-flowers-transfer-learning</a>"
            ],
            "text/plain": [
              "<IPython.core.display.HTML object>"
            ]
          },
          "metadata": {},
          "output_type": "display_data"
        },
        {
          "data": {
            "text/html": [
              " View sweep at <a href='https://wandb.ai/praveenkumar-aiml27-jntuh-university/5-flowers-transfer-learning/sweeps/0xrer2c8' target=\"_blank\">https://wandb.ai/praveenkumar-aiml27-jntuh-university/5-flowers-transfer-learning/sweeps/0xrer2c8</a>"
            ],
            "text/plain": [
              "<IPython.core.display.HTML object>"
            ]
          },
          "metadata": {},
          "output_type": "display_data"
        },
        {
          "data": {
            "text/html": [
              " View run at <a href='https://wandb.ai/praveenkumar-aiml27-jntuh-university/5-flowers-transfer-learning/runs/1823juj1' target=\"_blank\">https://wandb.ai/praveenkumar-aiml27-jntuh-university/5-flowers-transfer-learning/runs/1823juj1</a>"
            ],
            "text/plain": [
              "<IPython.core.display.HTML object>"
            ]
          },
          "metadata": {},
          "output_type": "display_data"
        },
        {
          "metadata": {
            "tags": null
          },
          "name": "stdout",
          "output_type": "stream",
          "text": [
            "Downloading data from https://storage.googleapis.com/tensorflow/keras-applications/mobilenet_v2/mobilenet_v2_weights_tf_dim_ordering_tf_kernels_1.0_128_no_top.h5\n",
            "\u001b[1m9406464/9406464\u001b[0m \u001b[32m━━━━━━━━━━━━━━━━━━━━\u001b[0m\u001b[37m\u001b[0m \u001b[1m0s\u001b[0m 0us/step\n"
          ]
        },
        {
          "data": {
            "text/html": [
              "<pre style=\"white-space:pre;overflow-x:auto;line-height:normal;font-family:Menlo,'DejaVu Sans Mono',consolas,'Courier New',monospace\"><span style=\"font-weight: bold\">Model: \"sequential\"</span>\n",
              "</pre>\n"
            ],
            "text/plain": [
              "\u001b[1mModel: \"sequential\"\u001b[0m\n"
            ]
          },
          "metadata": {},
          "output_type": "display_data"
        },
        {
          "data": {
            "text/html": [
              "<pre style=\"white-space:pre;overflow-x:auto;line-height:normal;font-family:Menlo,'DejaVu Sans Mono',consolas,'Courier New',monospace\">┏━━━━━━━━━━━━━━━━━━━━━━━━━━━━━━━━━┳━━━━━━━━━━━━━━━━━━━━━━━━┳━━━━━━━━━━━━━━━┓\n",
              "┃<span style=\"font-weight: bold\"> Layer (type)                    </span>┃<span style=\"font-weight: bold\"> Output Shape           </span>┃<span style=\"font-weight: bold\">       Param # </span>┃\n",
              "┡━━━━━━━━━━━━━━━━━━━━━━━━━━━━━━━━━╇━━━━━━━━━━━━━━━━━━━━━━━━╇━━━━━━━━━━━━━━━┩\n",
              "│ mobilenetv2_1.00_128            │ (<span style=\"color: #00d7ff; text-decoration-color: #00d7ff\">None</span>, <span style=\"color: #00af00; text-decoration-color: #00af00\">4</span>, <span style=\"color: #00af00; text-decoration-color: #00af00\">4</span>, <span style=\"color: #00af00; text-decoration-color: #00af00\">1280</span>)     │     <span style=\"color: #00af00; text-decoration-color: #00af00\">2,257,984</span> │\n",
              "│ (<span style=\"color: #0087ff; text-decoration-color: #0087ff\">Functional</span>)                    │                        │               │\n",
              "├─────────────────────────────────┼────────────────────────┼───────────────┤\n",
              "│ global_average_pooling2d        │ (<span style=\"color: #00d7ff; text-decoration-color: #00d7ff\">None</span>, <span style=\"color: #00af00; text-decoration-color: #00af00\">1280</span>)           │             <span style=\"color: #00af00; text-decoration-color: #00af00\">0</span> │\n",
              "│ (<span style=\"color: #0087ff; text-decoration-color: #0087ff\">GlobalAveragePooling2D</span>)        │                        │               │\n",
              "├─────────────────────────────────┼────────────────────────┼───────────────┤\n",
              "│ batch_normalization             │ (<span style=\"color: #00d7ff; text-decoration-color: #00d7ff\">None</span>, <span style=\"color: #00af00; text-decoration-color: #00af00\">1280</span>)           │         <span style=\"color: #00af00; text-decoration-color: #00af00\">5,120</span> │\n",
              "│ (<span style=\"color: #0087ff; text-decoration-color: #0087ff\">BatchNormalization</span>)            │                        │               │\n",
              "├─────────────────────────────────┼────────────────────────┼───────────────┤\n",
              "│ dense (<span style=\"color: #0087ff; text-decoration-color: #0087ff\">Dense</span>)                   │ (<span style=\"color: #00d7ff; text-decoration-color: #00d7ff\">None</span>, <span style=\"color: #00af00; text-decoration-color: #00af00\">5</span>)              │         <span style=\"color: #00af00; text-decoration-color: #00af00\">6,405</span> │\n",
              "└─────────────────────────────────┴────────────────────────┴───────────────┘\n",
              "</pre>\n"
            ],
            "text/plain": [
              "┏━━━━━━━━━━━━━━━━━━━━━━━━━━━━━━━━━┳━━━━━━━━━━━━━━━━━━━━━━━━┳━━━━━━━━━━━━━━━┓\n",
              "┃\u001b[1m \u001b[0m\u001b[1mLayer (type)                   \u001b[0m\u001b[1m \u001b[0m┃\u001b[1m \u001b[0m\u001b[1mOutput Shape          \u001b[0m\u001b[1m \u001b[0m┃\u001b[1m \u001b[0m\u001b[1m      Param #\u001b[0m\u001b[1m \u001b[0m┃\n",
              "┡━━━━━━━━━━━━━━━━━━━━━━━━━━━━━━━━━╇━━━━━━━━━━━━━━━━━━━━━━━━╇━━━━━━━━━━━━━━━┩\n",
              "│ mobilenetv2_1.00_128            │ (\u001b[38;5;45mNone\u001b[0m, \u001b[38;5;34m4\u001b[0m, \u001b[38;5;34m4\u001b[0m, \u001b[38;5;34m1280\u001b[0m)     │     \u001b[38;5;34m2,257,984\u001b[0m │\n",
              "│ (\u001b[38;5;33mFunctional\u001b[0m)                    │                        │               │\n",
              "├─────────────────────────────────┼────────────────────────┼───────────────┤\n",
              "│ global_average_pooling2d        │ (\u001b[38;5;45mNone\u001b[0m, \u001b[38;5;34m1280\u001b[0m)           │             \u001b[38;5;34m0\u001b[0m │\n",
              "│ (\u001b[38;5;33mGlobalAveragePooling2D\u001b[0m)        │                        │               │\n",
              "├─────────────────────────────────┼────────────────────────┼───────────────┤\n",
              "│ batch_normalization             │ (\u001b[38;5;45mNone\u001b[0m, \u001b[38;5;34m1280\u001b[0m)           │         \u001b[38;5;34m5,120\u001b[0m │\n",
              "│ (\u001b[38;5;33mBatchNormalization\u001b[0m)            │                        │               │\n",
              "├─────────────────────────────────┼────────────────────────┼───────────────┤\n",
              "│ dense (\u001b[38;5;33mDense\u001b[0m)                   │ (\u001b[38;5;45mNone\u001b[0m, \u001b[38;5;34m5\u001b[0m)              │         \u001b[38;5;34m6,405\u001b[0m │\n",
              "└─────────────────────────────────┴────────────────────────┴───────────────┘\n"
            ]
          },
          "metadata": {},
          "output_type": "display_data"
        },
        {
          "data": {
            "text/html": [
              "<pre style=\"white-space:pre;overflow-x:auto;line-height:normal;font-family:Menlo,'DejaVu Sans Mono',consolas,'Courier New',monospace\"><span style=\"font-weight: bold\"> Total params: </span><span style=\"color: #00af00; text-decoration-color: #00af00\">2,269,509</span> (8.66 MB)\n",
              "</pre>\n"
            ],
            "text/plain": [
              "\u001b[1m Total params: \u001b[0m\u001b[38;5;34m2,269,509\u001b[0m (8.66 MB)\n"
            ]
          },
          "metadata": {},
          "output_type": "display_data"
        },
        {
          "data": {
            "text/html": [
              "<pre style=\"white-space:pre;overflow-x:auto;line-height:normal;font-family:Menlo,'DejaVu Sans Mono',consolas,'Courier New',monospace\"><span style=\"font-weight: bold\"> Trainable params: </span><span style=\"color: #00af00; text-decoration-color: #00af00\">8,965</span> (35.02 KB)\n",
              "</pre>\n"
            ],
            "text/plain": [
              "\u001b[1m Trainable params: \u001b[0m\u001b[38;5;34m8,965\u001b[0m (35.02 KB)\n"
            ]
          },
          "metadata": {},
          "output_type": "display_data"
        },
        {
          "data": {
            "text/html": [
              "<pre style=\"white-space:pre;overflow-x:auto;line-height:normal;font-family:Menlo,'DejaVu Sans Mono',consolas,'Courier New',monospace\"><span style=\"font-weight: bold\"> Non-trainable params: </span><span style=\"color: #00af00; text-decoration-color: #00af00\">2,260,544</span> (8.62 MB)\n",
              "</pre>\n"
            ],
            "text/plain": [
              "\u001b[1m Non-trainable params: \u001b[0m\u001b[38;5;34m2,260,544\u001b[0m (8.62 MB)\n"
            ]
          },
          "metadata": {},
          "output_type": "display_data"
        },
        {
          "metadata": {
            "tags": null
          },
          "name": "stdout",
          "output_type": "stream",
          "text": [
            "Epoch 1/10\n",
            "    413/Unknown \u001b[1m188s\u001b[0m 431ms/step - accuracy: 0.3472 - loss: 1.7397"
          ]
        },
        {
          "metadata": {
            "tags": null
          },
          "name": "stderr",
          "output_type": "stream",
          "text": [
            "/usr/local/lib/python3.11/dist-packages/keras/src/trainers/epoch_iterator.py:151: UserWarning: Your input ran out of data; interrupting training. Make sure that your dataset or generator can generate at least `steps_per_epoch * epochs` batches. You may need to use the `.repeat()` function when building your dataset.\n",
            "  self._interrupted_warning()\n"
          ]
        },
        {
          "output_type": "stream",
          "name": "stdout",
          "text": [
            "\u001b[1m413/413\u001b[0m \u001b[32m━━━━━━━━━━━━━━━━━━━━\u001b[0m\u001b[37m\u001b[0m \u001b[1m213s\u001b[0m 491ms/step - accuracy: 0.3475 - loss: 1.7389 - val_accuracy: 0.6568 - val_loss: 0.9325\n",
            "Epoch 2/10\n",
            "\u001b[1m413/413\u001b[0m \u001b[32m━━━━━━━━━━━━━━━━━━━━\u001b[0m\u001b[37m\u001b[0m \u001b[1m255s\u001b[0m 487ms/step - accuracy: 0.6977 - loss: 0.8365 - val_accuracy: 0.7622 - val_loss: 0.6837\n",
            "Epoch 3/10\n",
            "\u001b[1m413/413\u001b[0m \u001b[32m━━━━━━━━━━━━━━━━━━━━\u001b[0m\u001b[37m\u001b[0m \u001b[1m140s\u001b[0m 336ms/step - accuracy: 0.7690 - loss: 0.6546 - val_accuracy: 0.8000 - val_loss: 0.5878\n",
            "Epoch 4/10\n",
            "\u001b[1m413/413\u001b[0m \u001b[32m━━━━━━━━━━━━━━━━━━━━\u001b[0m\u001b[37m\u001b[0m \u001b[1m141s\u001b[0m 333ms/step - accuracy: 0.7945 - loss: 0.5682 - val_accuracy: 0.8216 - val_loss: 0.5362\n",
            "Epoch 5/10\n",
            "\u001b[1m413/413\u001b[0m \u001b[32m━━━━━━━━━━━━━━━━━━━━\u001b[0m\u001b[37m\u001b[0m \u001b[1m112s\u001b[0m 259ms/step - accuracy: 0.8142 - loss: 0.5135 - val_accuracy: 0.8378 - val_loss: 0.5032\n",
            "Epoch 6/10\n",
            "\u001b[1m413/413\u001b[0m \u001b[32m━━━━━━━━━━━━━━━━━━━━\u001b[0m\u001b[37m\u001b[0m \u001b[1m141s\u001b[0m 342ms/step - accuracy: 0.8361 - loss: 0.4732 - val_accuracy: 0.8459 - val_loss: 0.4800\n",
            "Epoch 7/10\n",
            "\u001b[1m413/413\u001b[0m \u001b[32m━━━━━━━━━━━━━━━━━━━━\u001b[0m\u001b[37m\u001b[0m \u001b[1m141s\u001b[0m 340ms/step - accuracy: 0.8515 - loss: 0.4408 - val_accuracy: 0.8486 - val_loss: 0.4628\n",
            "Epoch 8/10\n",
            "\u001b[1m413/413\u001b[0m \u001b[32m━━━━━━━━━━━━━━━━━━━━\u001b[0m\u001b[37m\u001b[0m \u001b[1m142s\u001b[0m 340ms/step - accuracy: 0.8625 - loss: 0.4134 - val_accuracy: 0.8541 - val_loss: 0.4497\n",
            "Epoch 9/10\n",
            "\u001b[1m413/413\u001b[0m \u001b[32m━━━━━━━━━━━━━━━━━━━━\u001b[0m\u001b[37m\u001b[0m \u001b[1m142s\u001b[0m 339ms/step - accuracy: 0.8717 - loss: 0.3895 - val_accuracy: 0.8568 - val_loss: 0.4396\n",
            "Epoch 10/10\n",
            "\u001b[1m413/413\u001b[0m \u001b[32m━━━━━━━━━━━━━━━━━━━━\u001b[0m\u001b[37m\u001b[0m \u001b[1m141s\u001b[0m 338ms/step - accuracy: 0.8790 - loss: 0.3682 - val_accuracy: 0.8514 - val_loss: 0.4317\n"
          ]
        },
        {
          "output_type": "display_data",
          "data": {
            "text/plain": [
              "<IPython.core.display.HTML object>"
            ],
            "text/html": []
          },
          "metadata": {}
        },
        {
          "output_type": "display_data",
          "data": {
            "text/plain": [
              "<IPython.core.display.HTML object>"
            ],
            "text/html": [
              "<br>    <style><br>        .wandb-row {<br>            display: flex;<br>            flex-direction: row;<br>            flex-wrap: wrap;<br>            justify-content: flex-start;<br>            width: 100%;<br>        }<br>        .wandb-col {<br>            display: flex;<br>            flex-direction: column;<br>            flex-basis: 100%;<br>            flex: 1;<br>            padding: 10px;<br>        }<br>    </style><br><div class=\"wandb-row\"><div class=\"wandb-col\"><h3>Run history:</h3><br/><table class=\"wandb\"><tr><td>batch/accuracy</td><td>▁▂▅▅▆▆▆▆▆▆▇▇▇▇▇▇▇▇▇▇▇▇▇████▆█████▇██████</td></tr><tr><td>batch/batch_step</td><td>▁▁▂▂▂▂▂▂▂▂▃▃▃▃▃▄▄▄▄▄▅▅▅▅▅▅▆▆▆▆▆▆▇▇▇▇▇▇▇█</td></tr><tr><td>batch/learning_rate</td><td>▁▁▁▁▁▁▁▁▁▁▁▁▁▁▁▁▁▁▁▁▁▁▁▁▁▁▁▁▁▁▁▁▁▁▁▁▁▁▁▁</td></tr><tr><td>batch/loss</td><td>███▆▅▆▅▇▅▄▄▃▄▃▃▃▃▃▃▃▃▃▂▂▂▂▂▂▂▂▂▂▁▁▁▁▁▁▁▁</td></tr><tr><td>epoch/accuracy</td><td>▁▅▆▇▇▇▇███</td></tr><tr><td>epoch/epoch</td><td>▁▂▃▃▄▅▆▆▇█</td></tr><tr><td>epoch/learning_rate</td><td>▁▁▁▁▁▁▁▁▁▁</td></tr><tr><td>epoch/loss</td><td>█▄▃▂▂▂▂▁▁▁</td></tr><tr><td>epoch/val_accuracy</td><td>▁▅▆▇▇█████</td></tr><tr><td>epoch/val_loss</td><td>█▅▃▂▂▂▁▁▁▁</td></tr></table><br/></div><div class=\"wandb-col\"><h3>Run summary:</h3><br/><table class=\"wandb\"><tr><td>batch/accuracy</td><td>0.882</td></tr><tr><td>batch/batch_step</td><td>4145</td></tr><tr><td>batch/learning_rate</td><td>0.0001</td></tr><tr><td>batch/loss</td><td>0.36272</td></tr><tr><td>epoch/accuracy</td><td>0.88212</td></tr><tr><td>epoch/epoch</td><td>9</td></tr><tr><td>epoch/learning_rate</td><td>0.0001</td></tr><tr><td>epoch/loss</td><td>0.36219</td></tr><tr><td>epoch/val_accuracy</td><td>0.85135</td></tr><tr><td>epoch/val_loss</td><td>0.43166</td></tr></table><br/></div></div>"
            ]
          },
          "metadata": {}
        },
        {
          "output_type": "display_data",
          "data": {
            "text/plain": [
              "<IPython.core.display.HTML object>"
            ],
            "text/html": [
              " View run <strong style=\"color:#cdcd00\">magic-sweep-1</strong> at: <a href='https://wandb.ai/praveenkumar-aiml27-jntuh-university/5-flowers-transfer-learning/runs/1823juj1' target=\"_blank\">https://wandb.ai/praveenkumar-aiml27-jntuh-university/5-flowers-transfer-learning/runs/1823juj1</a><br> View project at: <a href='https://wandb.ai/praveenkumar-aiml27-jntuh-university/5-flowers-transfer-learning' target=\"_blank\">https://wandb.ai/praveenkumar-aiml27-jntuh-university/5-flowers-transfer-learning</a><br>Synced 5 W&B file(s), 0 media file(s), 0 artifact file(s) and 0 other file(s)"
            ]
          },
          "metadata": {}
        },
        {
          "output_type": "display_data",
          "data": {
            "text/plain": [
              "<IPython.core.display.HTML object>"
            ],
            "text/html": [
              "Find logs at: <code>./wandb/run-20250502_165837-1823juj1/logs</code>"
            ]
          },
          "metadata": {}
        },
        {
          "output_type": "stream",
          "name": "stderr",
          "text": [
            "\u001b[34m\u001b[1mwandb\u001b[0m: Sweep Agent: Waiting for job.\n",
            "\u001b[34m\u001b[1mwandb\u001b[0m: Sweep Agent: Exiting.\n"
          ]
        }
      ]
    },
    {
      "cell_type": "code",
      "source": [
        "# With Differential Learning Rate"
      ],
      "metadata": {
        "id": "67ZvHtG452J0"
      },
      "execution_count": 6,
      "outputs": []
    },
    {
      "cell_type": "code",
      "source": [
        "# Train function\n",
        "def train():\n",
        "    with wandb.init() as run:\n",
        "        config = wandb.config\n",
        "\n",
        "        IMG_HEIGHT = config.img_size\n",
        "        IMG_WIDTH = config.img_size\n",
        "        IMG_CHANNELS = 3\n",
        "        CLASS_NAMES = [\"daisy\", \"dandelion\", \"roses\", \"sunflowers\", \"tulips\"]\n",
        "\n",
        "        # Helper functions\n",
        "        def read_and_decode(filename, resize_dims):\n",
        "            img_bytes = tf.io.read_file(filename)\n",
        "            img = tf.image.decode_jpeg(img_bytes, channels=IMG_CHANNELS)\n",
        "            img = tf.image.convert_image_dtype(img, tf.float32)\n",
        "            img = tf.image.resize(img, resize_dims)\n",
        "            return img\n",
        "\n",
        "        def parse_csvline(csv_line):\n",
        "            record_default = [\"\", \"\"]\n",
        "            filename, label_string = tf.io.decode_csv(csv_line, record_default)\n",
        "            img = read_and_decode(filename, [IMG_HEIGHT, IMG_WIDTH])\n",
        "            label = tf.where(tf.equal(CLASS_NAMES, label_string))[0, 0]\n",
        "            return img, label\n",
        "\n",
        "        # Prepare datasets\n",
        "        train_dataset = (\n",
        "            tf.data.TextLineDataset(\"gs://cloud-ml-data/img/flower_photos/train_set.csv\")\n",
        "            .map(parse_csvline, num_parallel_calls=tf.data.AUTOTUNE)\n",
        "            .batch(config.batch_size)\n",
        "            .prefetch(tf.data.AUTOTUNE)\n",
        "        )\n",
        "\n",
        "        eval_dataset = (\n",
        "            tf.data.TextLineDataset(\"gs://cloud-ml-data/img/flower_photos/eval_set.csv\")\n",
        "            .map(parse_csvline, num_parallel_calls=tf.data.AUTOTUNE)\n",
        "            .batch(config.batch_size)\n",
        "            .prefetch(tf.data.AUTOTUNE)\n",
        "        )\n",
        "\n",
        "\n",
        "        # Build model\n",
        "        base_model = tf.keras.applications.MobileNetV2(\n",
        "            input_shape=(IMG_HEIGHT, IMG_WIDTH, IMG_CHANNELS),\n",
        "            include_top=False,    # Remove ImageNet head\n",
        "            weights=\"imagenet\"    # Use pretrained weights\n",
        "        )\n",
        "        base_model.trainable = True  # Freeze base\n",
        "\n",
        "        model = keras.Sequential([\n",
        "            base_model,\n",
        "            keras.layers.GlobalAveragePooling2D(),\n",
        "            keras.layers.BatchNormalization(),       # Add BatchNorm\n",
        "            keras.layers.Dense(len(CLASS_NAMES), activation=\"softmax\")\n",
        "        ])\n",
        "\n",
        "        # Different learning rates for base and head\n",
        "        base_learning_rate = 1e-5\n",
        "        head_learning_rate = config.learning_rate  # Example: 1e-4\n",
        "\n",
        "        optimizer = tf.keras.optimizers.Adam()\n",
        "\n",
        "        for layer in model.layers[0].layers:  # Layers inside base_model\n",
        "            layer.trainable = True\n",
        "            layer._learning_rate = base_learning_rate\n",
        "\n",
        "        for layer in model.layers[1:]:\n",
        "            layer._learning_rate = head_learning_rate\n",
        "\n",
        "        # Compile the model with the learning rate schedule\n",
        "        model.compile(optimizer=optimizer,loss=tf.keras.losses.SparseCategoricalCrossentropy(from_logits=False),metrics=[\"accuracy\"])\n",
        "\n",
        "        # Visualize model\n",
        "        model.summary()\n",
        "\n",
        "        keras.utils.plot_model(model, show_shapes=True, show_layer_names=True, to_file=\"model_visualization.png\")\n",
        "\n",
        "        # Train\n",
        "        callbacks = [WandbMetricsLogger(log_freq=5)]\n",
        "\n",
        "        model.fit(\n",
        "            train_dataset,\n",
        "            validation_data=eval_dataset,\n",
        "            epochs=config.epochs,\n",
        "            callbacks=callbacks\n",
        "        )"
      ],
      "metadata": {
        "id": "FQjxD8WQ7kwV"
      },
      "execution_count": 7,
      "outputs": []
    },
    {
      "cell_type": "code",
      "source": [],
      "metadata": {
        "id": "HGu1qdvr7mVm"
      },
      "execution_count": null,
      "outputs": []
    }
  ]
}