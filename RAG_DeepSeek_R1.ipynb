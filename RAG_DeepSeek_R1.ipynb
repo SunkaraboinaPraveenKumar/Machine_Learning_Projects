{
  "nbformat": 4,
  "nbformat_minor": 0,
  "metadata": {
    "colab": {
      "provenance": [],
      "authorship_tag": "ABX9TyPReKqXok48CiiLS50qd5Qk",
      "include_colab_link": true
    },
    "kernelspec": {
      "name": "python3",
      "display_name": "Python 3"
    },
    "language_info": {
      "name": "python"
    }
  },
  "cells": [
    {
      "cell_type": "markdown",
      "metadata": {
        "id": "view-in-github",
        "colab_type": "text"
      },
      "source": [
        "<a href=\"https://colab.research.google.com/github/SunkaraboinaPraveenKumar/Machine_Learning_Projects/blob/main/RAG_DeepSeek_R1.ipynb\" target=\"_parent\"><img src=\"https://colab.research.google.com/assets/colab-badge.svg\" alt=\"Open In Colab\"/></a>"
      ]
    },
    {
      "cell_type": "code",
      "execution_count": 6,
      "metadata": {
        "colab": {
          "base_uri": "https://localhost:8080/"
        },
        "id": "0eJDrZA_5mJS",
        "outputId": "93318e25-88f6-411f-d123-2e81a3cccdd5"
      },
      "outputs": [
        {
          "output_type": "stream",
          "name": "stdout",
          "text": [
            "Requirement already satisfied: pdfplumber in /usr/local/lib/python3.11/dist-packages (0.11.5)\n",
            "Requirement already satisfied: langchain in /usr/local/lib/python3.11/dist-packages (0.3.16)\n",
            "Requirement already satisfied: langchain_community in /usr/local/lib/python3.11/dist-packages (0.3.16)\n",
            "Requirement already satisfied: langchain_core in /usr/local/lib/python3.11/dist-packages (0.3.32)\n",
            "Requirement already satisfied: langchain_experimental in /usr/local/lib/python3.11/dist-packages (0.3.4)\n",
            "Requirement already satisfied: faiss-cpu in /usr/local/lib/python3.11/dist-packages (1.10.0)\n",
            "Requirement already satisfied: pdfminer.six==20231228 in /usr/local/lib/python3.11/dist-packages (from pdfplumber) (20231228)\n",
            "Requirement already satisfied: Pillow>=9.1 in /usr/local/lib/python3.11/dist-packages (from pdfplumber) (11.1.0)\n",
            "Requirement already satisfied: pypdfium2>=4.18.0 in /usr/local/lib/python3.11/dist-packages (from pdfplumber) (4.30.1)\n",
            "Requirement already satisfied: charset-normalizer>=2.0.0 in /usr/local/lib/python3.11/dist-packages (from pdfminer.six==20231228->pdfplumber) (3.4.1)\n",
            "Requirement already satisfied: cryptography>=36.0.0 in /usr/local/lib/python3.11/dist-packages (from pdfminer.six==20231228->pdfplumber) (43.0.3)\n",
            "Requirement already satisfied: PyYAML>=5.3 in /usr/local/lib/python3.11/dist-packages (from langchain) (6.0.2)\n",
            "Requirement already satisfied: SQLAlchemy<3,>=1.4 in /usr/local/lib/python3.11/dist-packages (from langchain) (2.0.37)\n",
            "Requirement already satisfied: aiohttp<4.0.0,>=3.8.3 in /usr/local/lib/python3.11/dist-packages (from langchain) (3.11.11)\n",
            "Requirement already satisfied: langchain-text-splitters<0.4.0,>=0.3.3 in /usr/local/lib/python3.11/dist-packages (from langchain) (0.3.5)\n",
            "Requirement already satisfied: langsmith<0.4,>=0.1.17 in /usr/local/lib/python3.11/dist-packages (from langchain) (0.3.2)\n",
            "Requirement already satisfied: numpy<2,>=1.22.4 in /usr/local/lib/python3.11/dist-packages (from langchain) (1.26.4)\n",
            "Requirement already satisfied: pydantic<3.0.0,>=2.7.4 in /usr/local/lib/python3.11/dist-packages (from langchain) (2.10.6)\n",
            "Requirement already satisfied: requests<3,>=2 in /usr/local/lib/python3.11/dist-packages (from langchain) (2.32.3)\n",
            "Requirement already satisfied: tenacity!=8.4.0,<10,>=8.1.0 in /usr/local/lib/python3.11/dist-packages (from langchain) (9.0.0)\n",
            "Requirement already satisfied: dataclasses-json<0.7,>=0.5.7 in /usr/local/lib/python3.11/dist-packages (from langchain_community) (0.6.7)\n",
            "Requirement already satisfied: httpx-sse<0.5.0,>=0.4.0 in /usr/local/lib/python3.11/dist-packages (from langchain_community) (0.4.0)\n",
            "Requirement already satisfied: pydantic-settings<3.0.0,>=2.4.0 in /usr/local/lib/python3.11/dist-packages (from langchain_community) (2.7.1)\n",
            "Requirement already satisfied: jsonpatch<2.0,>=1.33 in /usr/local/lib/python3.11/dist-packages (from langchain_core) (1.33)\n",
            "Requirement already satisfied: packaging<25,>=23.2 in /usr/local/lib/python3.11/dist-packages (from langchain_core) (24.2)\n",
            "Requirement already satisfied: typing-extensions>=4.7 in /usr/local/lib/python3.11/dist-packages (from langchain_core) (4.12.2)\n",
            "Requirement already satisfied: aiohappyeyeballs>=2.3.0 in /usr/local/lib/python3.11/dist-packages (from aiohttp<4.0.0,>=3.8.3->langchain) (2.4.4)\n",
            "Requirement already satisfied: aiosignal>=1.1.2 in /usr/local/lib/python3.11/dist-packages (from aiohttp<4.0.0,>=3.8.3->langchain) (1.3.2)\n",
            "Requirement already satisfied: attrs>=17.3.0 in /usr/local/lib/python3.11/dist-packages (from aiohttp<4.0.0,>=3.8.3->langchain) (25.1.0)\n",
            "Requirement already satisfied: frozenlist>=1.1.1 in /usr/local/lib/python3.11/dist-packages (from aiohttp<4.0.0,>=3.8.3->langchain) (1.5.0)\n",
            "Requirement already satisfied: multidict<7.0,>=4.5 in /usr/local/lib/python3.11/dist-packages (from aiohttp<4.0.0,>=3.8.3->langchain) (6.1.0)\n",
            "Requirement already satisfied: propcache>=0.2.0 in /usr/local/lib/python3.11/dist-packages (from aiohttp<4.0.0,>=3.8.3->langchain) (0.2.1)\n",
            "Requirement already satisfied: yarl<2.0,>=1.17.0 in /usr/local/lib/python3.11/dist-packages (from aiohttp<4.0.0,>=3.8.3->langchain) (1.18.3)\n",
            "Requirement already satisfied: marshmallow<4.0.0,>=3.18.0 in /usr/local/lib/python3.11/dist-packages (from dataclasses-json<0.7,>=0.5.7->langchain_community) (3.26.1)\n",
            "Requirement already satisfied: typing-inspect<1,>=0.4.0 in /usr/local/lib/python3.11/dist-packages (from dataclasses-json<0.7,>=0.5.7->langchain_community) (0.9.0)\n",
            "Requirement already satisfied: jsonpointer>=1.9 in /usr/local/lib/python3.11/dist-packages (from jsonpatch<2.0,>=1.33->langchain_core) (3.0.0)\n",
            "Requirement already satisfied: httpx<1,>=0.23.0 in /usr/local/lib/python3.11/dist-packages (from langsmith<0.4,>=0.1.17->langchain) (0.28.1)\n",
            "Requirement already satisfied: orjson<4.0.0,>=3.9.14 in /usr/local/lib/python3.11/dist-packages (from langsmith<0.4,>=0.1.17->langchain) (3.10.15)\n",
            "Requirement already satisfied: requests-toolbelt<2.0.0,>=1.0.0 in /usr/local/lib/python3.11/dist-packages (from langsmith<0.4,>=0.1.17->langchain) (1.0.0)\n",
            "Requirement already satisfied: zstandard<0.24.0,>=0.23.0 in /usr/local/lib/python3.11/dist-packages (from langsmith<0.4,>=0.1.17->langchain) (0.23.0)\n",
            "Requirement already satisfied: annotated-types>=0.6.0 in /usr/local/lib/python3.11/dist-packages (from pydantic<3.0.0,>=2.7.4->langchain) (0.7.0)\n",
            "Requirement already satisfied: pydantic-core==2.27.2 in /usr/local/lib/python3.11/dist-packages (from pydantic<3.0.0,>=2.7.4->langchain) (2.27.2)\n",
            "Requirement already satisfied: python-dotenv>=0.21.0 in /usr/local/lib/python3.11/dist-packages (from pydantic-settings<3.0.0,>=2.4.0->langchain_community) (1.0.1)\n",
            "Requirement already satisfied: idna<4,>=2.5 in /usr/local/lib/python3.11/dist-packages (from requests<3,>=2->langchain) (3.10)\n",
            "Requirement already satisfied: urllib3<3,>=1.21.1 in /usr/local/lib/python3.11/dist-packages (from requests<3,>=2->langchain) (2.3.0)\n",
            "Requirement already satisfied: certifi>=2017.4.17 in /usr/local/lib/python3.11/dist-packages (from requests<3,>=2->langchain) (2024.12.14)\n",
            "Requirement already satisfied: greenlet!=0.4.17 in /usr/local/lib/python3.11/dist-packages (from SQLAlchemy<3,>=1.4->langchain) (3.1.1)\n",
            "Requirement already satisfied: cffi>=1.12 in /usr/local/lib/python3.11/dist-packages (from cryptography>=36.0.0->pdfminer.six==20231228->pdfplumber) (1.17.1)\n",
            "Requirement already satisfied: anyio in /usr/local/lib/python3.11/dist-packages (from httpx<1,>=0.23.0->langsmith<0.4,>=0.1.17->langchain) (3.7.1)\n",
            "Requirement already satisfied: httpcore==1.* in /usr/local/lib/python3.11/dist-packages (from httpx<1,>=0.23.0->langsmith<0.4,>=0.1.17->langchain) (1.0.7)\n",
            "Requirement already satisfied: h11<0.15,>=0.13 in /usr/local/lib/python3.11/dist-packages (from httpcore==1.*->httpx<1,>=0.23.0->langsmith<0.4,>=0.1.17->langchain) (0.14.0)\n",
            "Requirement already satisfied: mypy-extensions>=0.3.0 in /usr/local/lib/python3.11/dist-packages (from typing-inspect<1,>=0.4.0->dataclasses-json<0.7,>=0.5.7->langchain_community) (1.0.0)\n",
            "Requirement already satisfied: pycparser in /usr/local/lib/python3.11/dist-packages (from cffi>=1.12->cryptography>=36.0.0->pdfminer.six==20231228->pdfplumber) (2.22)\n",
            "Requirement already satisfied: sniffio>=1.1 in /usr/local/lib/python3.11/dist-packages (from anyio->httpx<1,>=0.23.0->langsmith<0.4,>=0.1.17->langchain) (1.3.1)\n"
          ]
        }
      ],
      "source": [
        "!pip install pdfplumber langchain langchain_community langchain_core langchain_experimental faiss-cpu"
      ]
    },
    {
      "cell_type": "code",
      "source": [
        "from langchain_community.document_loaders import PDFPlumberLoader\n",
        "from langchain_experimental.text_splitter import SemanticChunker\n",
        "from langchain_community.embeddings import HuggingFaceEmbeddings\n",
        "from langchain.vectorstores import FAISS\n",
        "from langchain.prompts import PromptTemplate\n",
        "from langchain.chains.llm import LLMChain\n",
        "from langchain.chains.combine_documents.stuff import StuffDocumentsChain\n",
        "from langchain.chains import RetrievalQA"
      ],
      "metadata": {
        "id": "xq8jkGsl6SU2"
      },
      "execution_count": 7,
      "outputs": []
    },
    {
      "cell_type": "code",
      "source": [
        "loader = PDFPlumberLoader(\"/content/R22B.Tech.RevisedAcademicRegulations.pdf\")\n",
        "docs=loader.load()\n",
        "docs"
      ],
      "metadata": {
        "colab": {
          "base_uri": "https://localhost:8080/"
        },
        "id": "38wXyjhx6nCw",
        "outputId": "2f543667-fcd8-429c-e857-dc6e1cc1bfac"
      },
      "execution_count": 8,
      "outputs": [
        {
          "output_type": "execute_result",
          "data": {
            "text/plain": [
              "[Document(metadata={'source': '/content/R22B.Tech.RevisedAcademicRegulations.pdf', 'file_path': '/content/R22B.Tech.RevisedAcademicRegulations.pdf', 'page': 0, 'total_pages': 25, 'Author': 'DAP D7', 'CreationDate': \"D:20230222112512+05'30'\", 'ModDate': \"D:20230222112512+05'30'\", 'Producer': 'Microsoft: Print To PDF', 'Title': 'Microsoft Word - R22 B.Tech Academic Regulations Modified on 27-01-2023'}, page_content='JAWAHARLAL NEHRU TECHNOLOGICAL UNIVERSITY HYDERABAD\\n(Established by State Act No. 30 of 2008)\\nKukatpally, Hyderabad, Telangana (India).\\nACADEMIC REGULATIONS (R22) FOR B.TECH REGULAR STUDENTS\\nWITH EFFECT FROM THE ACADEMIC YEAR 2022-23\\n1.0 Under-Graduate Degree Programme in Engineering & Technology (UGP in E&T)\\nJawaharlal Nehru Technological University Hyderabad (JNTUH) offers a 4-year (8\\nsemesters) Bachelor of Technology (B.Tech.) degree programme, under Choice Based\\nCredit System (CBCS) at its non-autonomous constituent and affiliated colleges with\\neffect from the academic year 2022-23.\\n2.0 Eligibility for Admission\\n2.1 Admission to the undergraduate(UG) programme shall be made either on the basis of\\nthe merit rank obtained by the qualified student in entrance test conducted by the\\nTelangana State Government (EAMCET) or the University or on the basis of any other\\norder of merit approved by the University, subject to reservations as prescribed by the\\ngovernment from time to time.\\n2.2 The medium of instructions for the entire undergraduate programme in Engineering &\\nTechnology will be English only.\\n3.0 B.Tech. Programme Structure\\n3.1 A student after securing admission shall complete the B.Tech. programme in a\\nminimum period of four academic years (8 semesters), and a maximum period of eight\\nacademic years (16 semesters) starting from the date of commencement of first year\\nfirst semester, failing which student shall forfeit seat in B.Tech course. Each student\\nshall secure 160 credits (with CGPA ≥ 5) required for the completion of the\\nundergraduate programme and award of the B.Tech. degree.\\n3.2 UGC/ AICTE specified definitions/ descriptions are adopted appropriately for various\\nterms and abbreviations used in these academic regulations/ norms, which are listed\\nbelow.\\n3.2.1 Semester Scheme\\nEach undergraduate programme is of 4 academic years (8 semesters) with the academic\\nyear divided into two semesters of 22 weeks (\\uf0b3 90 instructional days) each and in each\\n1\\n'),\n",
              " Document(metadata={'source': '/content/R22B.Tech.RevisedAcademicRegulations.pdf', 'file_path': '/content/R22B.Tech.RevisedAcademicRegulations.pdf', 'page': 1, 'total_pages': 25, 'Author': 'DAP D7', 'CreationDate': \"D:20230222112512+05'30'\", 'ModDate': \"D:20230222112512+05'30'\", 'Producer': 'Microsoft: Print To PDF', 'Title': 'Microsoft Word - R22 B.Tech Academic Regulations Modified on 27-01-2023'}, page_content='semester - ‘Continuous Internal Evaluation (CIE)’ and ‘Semester End Examination\\n(SEE)’ under Choice Based Credit System (CBCS) and Credit Based Semester System\\n(CBSS) indicated by UGC, and curriculum/course structure suggested by AICTE are\\nfollowed.\\n3.2.2 Credit Courses\\nAll subjects/ courses are to be registered by the student in a semester to earn credits\\nwhich shall be assigned to each subject/ course in an L: T: P: C (lecture periods: tutorial\\nperiods: practical periods: credits) structure based on the following general pattern.\\n\\uf0b7 One credit for one hour/ week/ semester for Theory/ Lecture (L) courses or\\nTutorials.\\n\\uf0b7 One credit for two hours/ week/ semester for Laboratory/ Practical (P) courses.\\nCourses like Environmental Science, Constitution of India, Intellectual Property Rights,\\nand Gender Sensitization Lab are mandatory courses. These courses will not carry any\\ncredits.\\n3.2.3 Subject Course Classification\\nAll subjects/ courses offered for the undergraduate programme in E&T (B.Tech. degree\\nprogrammes) are broadly classified as follows. The University has followed almost all the\\nguidelines issued by AICTE/UGC.\\nBroad Course Course Group/\\nS. No. Course Description\\nClassification Category\\nIncludes Mathematics, Physics and Chemistry\\n1 BS – Basic Sciences\\nsubjects\\nFoundation\\nES - Engineering\\n2 Courses Includes Fundamental Engineering Subjects\\nSciences\\n(FnC)\\nHS – Humanities and Includes subjects related to Humanities, Social\\n3\\nSocial Sciences Sciences and Management\\nCore Courses PC – Professional Includes core subjects related to the parent\\n4\\n(CoC) Core discipline/ department/ branch of Engineering.\\nPE – Professional Includes elective subjects related to the parent\\n5\\nElectives discipline/ department/ branch of Engineering.\\nElective\\nElective subjects which include inter-\\nCourses\\ndisciplinary subjects or subjects in an area\\n6 (EℓC) OE – Open Electives\\noutside the parent discipline/ department/ branch\\nof Engineering.\\nB.Tech. Project or UG Project or UG Major\\n7 Project Work\\nProject or Project Stage I & II\\nCore Courses Industry Training/ Industry Training/ Internship/ Industry Oriented\\n8 Internship/ Industry Mini-Project/ Mini-Project/ Skill Development\\nOriented Mini- Courses\\n2\\n'),\n",
              " Document(metadata={'source': '/content/R22B.Tech.RevisedAcademicRegulations.pdf', 'file_path': '/content/R22B.Tech.RevisedAcademicRegulations.pdf', 'page': 2, 'total_pages': 25, 'Author': 'DAP D7', 'CreationDate': \"D:20230222112512+05'30'\", 'ModDate': \"D:20230222112512+05'30'\", 'Producer': 'Microsoft: Print To PDF', 'Title': 'Microsoft Word - R22 B.Tech Academic Regulations Modified on 27-01-2023'}, page_content='project/ Mini- Project/\\nSkill Development\\nCourses\\nSeminar/ Colloquium based on core contents\\n9 Seminar related to parent discipline/ department/ branch\\nof Engineering.\\n10 Minor Courses - 1 or 2 Credit Courses (subset of HS)\\nMandatory\\n11 - Mandatory Courses (non-credit)\\nCourses (MC)\\n4.0 Course Registration\\n4.1 A ‘faculty advisor or counselor’ shall be assigned to a group of 20 students, who will\\nadvise the students about the undergraduate programme, its course structure and\\ncurriculum, choice/option for subjects/ courses, based on their competence, progress,\\npre-requisites and interest.\\n4.2 The academic section of the college invites ‘registration forms’ from students before\\nthe beginning of the semester through ‘on-line registration’, ensuring ‘date and time\\nstamping’. The online registration requests for any ‘current semester’ shall be\\ncompleted before the commencement of SEEs (Semester End Examinations) of the\\n‘preceding semester’.\\n4.3 A student can apply for on-line registration, only after obtaining the ‘written\\napproval’ from faculty advisor/counselor, which should be submitted to the college\\nacademic section through the Head of the Department. A copy of it shall be retained\\nwith the Head of the Department, Faculty Advisor/ Counselor and the student.\\n4.4 A student may be permitted to register for all the subjects/ courses in a semester as\\nspecified in the course structure with maximum additional subject(s)/course(s) limited\\nto 6 Credits (any 2 elective subjects), based on progress and SGPA/ CGPA, and\\ncompletion of the ‘pre-requisites’ as indicated for various subjects/ courses, in the\\ndepartment course structure and syllabus contents.\\n4.5 Choice for ‘additional subjects/courses’, not more than any 2 elective subjects in any\\nSemester, must be clearly indicated, which needs the specific approval and signature of\\nthe Faculty Advisor/Mentor/HOD.\\n4.6 If the student submits ambiguous choices or multiple options or erroneous entries\\nduring online registration for the subject(s) / course(s) under a given/ specified course\\ngroup/ category as listed in the course structure, only the first mentioned subject/ course\\nin that category will be taken into consideration.\\n4.7 Subject/ course options exercised through on-line registration are final and cannot be\\nchanged or inter-changed; further, alternate choices also will not be considered.\\nHowever, if the subject/ course that has already been listed for registration by the Head\\nof the Department in a semester could not be offered due to any inevitable or\\nunexpected reasons, then the student shall be allowed to have alternate choice either for\\n3\\n'),\n",
              " Document(metadata={'source': '/content/R22B.Tech.RevisedAcademicRegulations.pdf', 'file_path': '/content/R22B.Tech.RevisedAcademicRegulations.pdf', 'page': 3, 'total_pages': 25, 'Author': 'DAP D7', 'CreationDate': \"D:20230222112512+05'30'\", 'ModDate': \"D:20230222112512+05'30'\", 'Producer': 'Microsoft: Print To PDF', 'Title': 'Microsoft Word - R22 B.Tech Academic Regulations Modified on 27-01-2023'}, page_content='a new subject (subject to offering of such a subject), or for another existing subject\\n(subject to availability of seats). Such alternate arrangements will be made by the Head\\nof the Department, with due notification and time-framed schedule, within a week after\\nthe commencement of class-work for that semester.\\n4.8 Dropping of subjects/ courses may be permitted, only after obtaining prior approval\\nfrom the faculty advisor/ counselor ‘within a period of 15 days’ from the beginning of\\nthe current semester.\\n4.9 Open Electives: The students have to choose three Open Electives (OE-I, II & III) from\\nthe list of Open Electives given by other departments. However, the student can opt for\\nan Open Elective subject offered by his own (parent) department, if the student has not\\nregistered and not studied that subject under any category (Professional Core,\\nProfessional Electives, Mandatory Courses etc.) offered by parent department in any\\nsemester. Open Elective subjects already studied should not repeat/should not match\\nwith any category (Professional Core, Professional Electives, Mandatory Courses etc.)\\nof subjects even in the forthcoming semesters.\\n4.10 Professional Electives: The students have to choose six Professional Electives (PE-I\\nto VI) from the list of professional electives given.\\n5.0 Subjects/ courses to be offered\\n5.1 A subject/ course may be offered to the students, only if a minimum of 15 students opt\\nfor it.\\n5.2 More than one faculty member may offer the same subject (lab/ practical may be\\nincluded with the corresponding theory subject in the same semester) in any semester.\\nHowever, selection of choice for students will be based on - ‘first come first serve\\nbasis and CGPA criterion’ (i.e. the first focus shall be on early on-line entry from the\\nstudent for registration in that semester, and the second focus, if needed, will be on\\nCGPA of the student).\\n5.3 If more entries for registration of a subject come into picture, then the Head of the\\nDepartment concerned shall decide, whether or not to offer such a subject/ course for\\ntwo (or multiple) sections.\\n5.4 In case of options coming from students of other departments/ branches/ disciplines\\n(not considering open electives), first priority shall be given to the student of the\\n‘parent department’.\\n6.0 Attendance requirements:\\n6.1 A student shall be eligible to appear for the semester end examinations, if the student\\nacquires a minimum of 75% of attendance in aggregate of all the subjects/ courses\\n(including attendance in mandatory courses like Environmental Science, Constitution\\nof India, Intellectual Property Rights, and Gender Sensitization Lab) for that semester.\\nTwo periods of attendance for each theory subject shall be considered, if the student\\n4\\n'),\n",
              " Document(metadata={'source': '/content/R22B.Tech.RevisedAcademicRegulations.pdf', 'file_path': '/content/R22B.Tech.RevisedAcademicRegulations.pdf', 'page': 4, 'total_pages': 25, 'Author': 'DAP D7', 'CreationDate': \"D:20230222112512+05'30'\", 'ModDate': \"D:20230222112512+05'30'\", 'Producer': 'Microsoft: Print To PDF', 'Title': 'Microsoft Word - R22 B.Tech Academic Regulations Modified on 27-01-2023'}, page_content='appears for the mid-term examination of that subject. This attendance should also\\nbe included in the attendance uploaded every fortnight in the University\\nWebsite.\\n6.2 Shortage of attendance in aggregate upto 10% (65% and above, and below 75%) in\\neach semester may be condoned by the college academic committee on genuine and\\nvalid grounds, based on the student’s representation with supporting evidence.\\n6.3 A stipulated fee shall be payable for condoning of shortage of attendance.\\n6.4 Shortage of attendance below 65% in aggregate shall in NO case be condoned.\\n6.5 Students whose shortage of attendance is not condoned in any semester are not\\neligible to take their end examinations of that semester. They get detained and\\ntheir registration for that semester shall stand cancelled, including all academic\\ncredentials (internal marks etc.) of that semester. They will not be promoted to the\\nnext semester. They may seek re-registration for all those subjects registered in that\\nsemester in which the student is detained, by seeking re-admission into that semester as\\nand when offered; if there are any professional electives and/ or open electives, the\\nsame may also be re-registered if offered. However, if those electives are not offered in\\nlater semesters, then alternate electives may be chosen from the same set of elective\\nsubjects offered under that category.\\n6.6 A student fulfilling the attendance requirement in the present semester shall not be\\neligible for readmission into the same class.\\n7.0 Academic Requirements\\nThe following academic requirements have to be satisfied, in addition to the attendance\\nrequirements mentioned in Item No. 6.\\n7.1 A student shall be deemed to have satisfied the academic requirements and earned the\\ncredits allotted to each subject/ course, if student secures not less than 35% (14 marks\\nout of 40 marks) in the Continuous Internal Evaluation (CIE), not less than 35% (21\\nmarks out of 60 marks) in the semester end examinations (SEE), and a minimum of\\n40% (40 marks out of 100 marks) in the sum total of the CIE (Continuous Internal\\nEvaluation) and SEE (Semester End Examination) taken together; in terms of letter\\ngrades, this implies securing ‘C’ grade or above in that subject/ course.\\n7.2 A student shall be deemed to have satisfied the academic requirements and earned the\\ncredits allotted to Real-time Research Project (or) Field Based Research Project (or)\\nIndustry Oriented Mini Project (or) Internship (or) Seminar, if the student secures not\\nless than 40% marks (i.e. 40 out of 100 allotted marks) in each of them. The student is\\ndeemed to have failed, if he (i) does not submit a report on Industry Oriented Mini\\nProject/Internship, or (ii) not make a presentation of the same before the evaluation\\ncommittee as per schedule, or (iii) secures less than 40% marks in Real-time Research\\nProject (or) Field Based Research Project (or) Industry Oriented Mini Project (or)\\nInternship evaluations.\\n5\\n'),\n",
              " Document(metadata={'source': '/content/R22B.Tech.RevisedAcademicRegulations.pdf', 'file_path': '/content/R22B.Tech.RevisedAcademicRegulations.pdf', 'page': 5, 'total_pages': 25, 'Author': 'DAP D7', 'CreationDate': \"D:20230222112512+05'30'\", 'ModDate': \"D:20230222112512+05'30'\", 'Producer': 'Microsoft: Print To PDF', 'Title': 'Microsoft Word - R22 B.Tech Academic Regulations Modified on 27-01-2023'}, page_content='A student may reappear once for each of the above evaluations, when they are\\nscheduled again; if the student fails in such ‘one reappearance’ evaluation also, the\\nstudent has to reappear for the same in the next subsequent semester, as and when it is\\nscheduled.\\n7.3 Promotion Rules\\nS. No. Promotion Conditions to be fulfilled\\n1 First year first semester to Regular course of study of first year first\\nfirst year second semester semester.\\n2 First year second semester to (i) Regular course of study of first year\\nSecond year first semester second semester.\\n(ii) Must have secured at least 20 credits out\\nof 40 credits i.e., 50% credits up to first year\\nsecond semester from all the relevant\\nregular and supplementary examinations,\\nwhether the student takes those\\nexaminations or not.\\n3. Second year first semester to Regular course of study of second year first\\nSecond year second semester semester.\\n4 Second year second semester (i) Regular course of study of second year\\nto Third year first semester second semester.\\n(ii) Must have secured at least 48 credits out\\nof 80 credits i.e., 60% credits up to second\\nyear second semester from all the relevant\\nregular and supplementary examinations,\\nwhether the student takes those\\nexaminations or not.\\n5 Third year first semester to Regular course of study of third year first\\nThird year second semester semester.\\n6 Third year second semester (i) Regular course of study of third year\\nto Fourth year first semester second semester.\\n(ii) Must have secured at least 72 credits out\\nof 120 credits i.e., 60% credits up to third\\nyear second semester from all the relevant\\nregular and supplementary examinations,\\nwhether the student takes those\\nexaminations or not.\\n7 Fourth year first semester to Regular course of study of fourth year first\\nFourth year second semester semester.\\n6\\n'),\n",
              " Document(metadata={'source': '/content/R22B.Tech.RevisedAcademicRegulations.pdf', 'file_path': '/content/R22B.Tech.RevisedAcademicRegulations.pdf', 'page': 6, 'total_pages': 25, 'Author': 'DAP D7', 'CreationDate': \"D:20230222112512+05'30'\", 'ModDate': \"D:20230222112512+05'30'\", 'Producer': 'Microsoft: Print To PDF', 'Title': 'Microsoft Word - R22 B.Tech Academic Regulations Modified on 27-01-2023'}, page_content='7.4 A student (i) shall register for all courses/subjects covering 160 credits as specified and\\nlisted in the course structure, (ii) fulfills all the attendance and academic requirements\\nfor 160 credits, (iii) earn all 160 credits by securing SGPA \\uf0b3 5.0 (in each semester), and\\nCGPA ≥ 5 (at the end of 8 semesters), (iv) passes all the mandatory courses, to\\nsuccessfully complete the undergraduate programme. The performance of the student\\nin these 160 credits shall be considered for the calculation of the final CGPA (at the\\nend of undergraduate programme), and shall be indicated in the grade card / marks\\nmemo of IV-year II semester.\\n7.5 If a student registers for ‘extra subjects’ (in the parent department or other\\ndepartments/branches of Engg.) other than those listed subjects totaling to 160 credits\\nas specified in the course structure of his department, the performances in those ‘extra\\nsubjects’ (although evaluated and graded using the same procedure as that of the\\nrequired 160 credits) will not be considered while calculating the SGPA and CGPA.\\nFor such ‘extra subjects’ registered, percentage of marks and letter grade alone will be\\nindicated in the grade card / marks memo as a performance measure, subject to\\ncompletion of the attendance and academic requirements as stated in regulations Items\\n6 and 7.1 – 7.4 above.\\n7.6 A student eligible to appear in the semester end examination for any subject/ course,\\nbut absent from it or failed (thereby failing to secure ‘C’ grade or above) may reappear\\nfor that subject/ course in the supplementary examination as and when conducted. In\\nsuch cases, internal marks (CIE) assessed earlier for that subject/ course will be carried\\nover, and added to the marks to be obtained in the SEE supplementary examination for\\nevaluating performance in that subject.\\n7.7 A student detained in a semester due to shortage of attendance may be re-admitted\\nin the same semester in the next academic year for fulfillment of academic\\nrequirements. The academic regulations under which a student has been re-admitted\\nshall be applicable. Further, no grade allotments or SGPA/ CGPA calculations will be\\ndone for the entire semester in which the student has been detained.\\n7.8 A student detained due to lack of credits, shall be promoted to the next academic\\nyear only after acquiring the required number of academic credits. The academic\\nregulations under which the student has been readmitted shall be applicable to him.\\n8.0 Evaluation - Distribution and Weightage of Marks\\n8.1 The performance of a student in every subject/course (including practicals and Project\\nStage – I & II) will be evaluated for 100 marks each, with 40 marks allotted for CIE\\n(Continuous Internal Evaluation) and 60 marks for SEE (Semester End-Examination).\\n8.2 In CIE, for theory subjects, during a semester, there shall be two mid-term\\nexaminations. Each Mid-Term examination consists of two parts i) Part – A for 10\\nmarks, ii) Part – B for 20 marks with a total duration of 2 hours as follows:\\n1. Mid Term Examination for 30 marks:\\na. Part - A : Objective/quiz paper for 10 marks.\\nb. Part - B : Descriptive paper for 20 marks.\\n7\\n'),\n",
              " Document(metadata={'source': '/content/R22B.Tech.RevisedAcademicRegulations.pdf', 'file_path': '/content/R22B.Tech.RevisedAcademicRegulations.pdf', 'page': 7, 'total_pages': 25, 'Author': 'DAP D7', 'CreationDate': \"D:20230222112512+05'30'\", 'ModDate': \"D:20230222112512+05'30'\", 'Producer': 'Microsoft: Print To PDF', 'Title': 'Microsoft Word - R22 B.Tech Academic Regulations Modified on 27-01-2023'}, page_content='The objective/quiz paper is set with multiple choice, fill-in the blanks and match the\\nfollowing type of questions for a total of 10 marks. The descriptive paper shall contain\\n6 full questions out of which, the student has to answer 4 questions, each carrying 5\\nmarks. The average of the two Mid Term Examinations shall be taken as the final\\nmarks for Mid Term Examination (for 30 marks).\\nThe remaining 10 marks of Continuous Internal Evaluation are distributed as:\\n2. Assignment for 5 marks. (Average of 2 Assignments each for 5 marks)\\n3. Subject Viva-Voce/PPT/Poster Presentation/ Case Study on a topic in the\\nconcerned subject for 5 marks.\\nWhile the first mid-term examination shall be conducted on 50% of the syllabus, the\\nsecond mid-term examination shall be conducted on the remaining 50% of the syllabus.\\nFive (5) marks are allocated for assignments (as specified by the subject teacher\\nconcerned). The first assignment should be submitted before the conduct of the first\\nmid-term examination, and the second assignment should be submitted before the\\nconduct of the second mid-term examination. The average of the two assignments shall\\nbe taken as the final marks for assignment (for 5 marks).\\nSubject Viva-Voce/PPT/Poster Presentation/ Case Study on a topic in the subject\\nconcerned for 5 marks before II Mid-Term Examination.\\n\\uf0b7 The Student, in each subject, shall have to earn 35% of marks (i.e. 14 marks out of\\n40 marks) in CIE, 35% of marks (i.e. 21 marks out of 60) in SEE and Over all 40%\\nof marks (i.e. 40 marks out of 100 marks) both CIE and SEE marks put together.\\nThe student is eligible to write Semester End Examination of the concerned subject, if\\nthe student scores ≥ 35% (14 marks) of 40 Continuous Internal Examination (CIE)\\nmarks.\\nIn case, the student appears for Semester End Examination (SEE) of the concerned\\nsubject but not scored minimum 35% of CIE marks (14 marks out of 40 internal marks),\\nhis performance in that subject in SEE shall stand cancelled inspite of appearing the\\nSEE.\\nThere is NO Computer Based Test (CBT) for R22 regulations.\\nThe details of the end semester question paper pattern are as follows:\\n8.2.1 The semester end examinations (SEE), for theory subjects, will be conducted for 60\\nmarks consisting of two parts viz. i) Part- A for 10 marks, ii) Part - B for 50 marks.\\n\\uf0b7 Part-A is a compulsory question which consists of ten sub-questions from all units\\ncarrying equal marks.\\n\\uf0b7 Part-B consists of five questions (numbered from 2 to 6) carrying 10 marks each.\\nEach of these questions is from each unit and may contain sub-questions. For each\\nquestion there will be an “either” “or” choice, which means that there will be two\\nquestions from each unit and the student should answer either of the two questions.\\n8\\n'),\n",
              " Document(metadata={'source': '/content/R22B.Tech.RevisedAcademicRegulations.pdf', 'file_path': '/content/R22B.Tech.RevisedAcademicRegulations.pdf', 'page': 8, 'total_pages': 25, 'Author': 'DAP D7', 'CreationDate': \"D:20230222112512+05'30'\", 'ModDate': \"D:20230222112512+05'30'\", 'Producer': 'Microsoft: Print To PDF', 'Title': 'Microsoft Word - R22 B.Tech Academic Regulations Modified on 27-01-2023'}, page_content='\\uf0b7 The duration of Semester End Examination is 3 hours.\\n8.2.2 For the subject, Computer Aided Engineering Graphics, the Continuous Internal\\nEvaluation (CIE) and Semester End Examinations (SEE) evaluation pattern is same as\\nfor other theory subjects.\\n8.3 For practical subjects there shall be a Continuous Internal Evaluation (CIE) during the\\nsemester for 40 marks and 60 marks for semester end examination. Out of the 40 marks\\nfor internal evaluation:\\n1. A write-up on day-to-day experiment in the laboratory (in terms of aim,\\ncomponents/procedure, expected outcome) which shall be evaluated for 10 marks\\n2. 10 marks for viva-voce (or) tutorial (or) case study (or) application (or) poster\\npresentation of the course concerned.\\n3. Internal practical examination conducted by the laboratory teacher concerned shall\\nbe evaluated for 10 marks.\\n4. The remaining 10 marks are for Laboratory Report/Project and Presentation, which\\nconsists of the Design (or) Software / Hardware Model Presentation (or) App\\nDevelopment (or) Prototype Presentation submission which shall be evaluated after\\ncompletion of laboratory course and before semester end practical examination.\\nThe Semester End Examination shall be conducted with an external examiner and the\\nlaboratory teacher. The external examiner shall be appointed from the cluster / other\\ncolleges which will be decided by the examination branch of the University.\\nIn the Semester End Examination held for 3 hours, total 60 marks are divided and\\nallocated as shown below:\\n1. 10 marks for write-up\\n2. 15 for experiment/program\\n3. 15 for evaluation of results\\n4. 10 marks for presentation on another experiment/program in the same\\nlaboratory course and\\n5. 10 marks for viva-voce on concerned laboratory course.\\n\\uf0b7 The Student, in each subject, shall have to earn 35% of marks (i.e. 14 marks out of\\n40 marks) in CIE, 35% of marks (i.e. 21 marks out of 60) in SEE and Over all 40%\\nof marks (i.e. 40 marks out of 100 marks) both CIE and SEE marks put together.\\nThe student is eligible to write Semester End Examination of the concerned subject, if\\nthe student scores ≥ 35% (14 marks) of 40 Continuous Internal Examination (CIE)\\nmarks.\\nIn case, the student appears for Semester End Examination (SEE) of the concerned\\nsubject but not scored minimum 35% of CIE marks (14 marks out of 40 internal marks),\\nhis performance in that subject in SEE shall stand cancelled inspite of appearing the\\nSEE.\\n8.4 The evaluation of courses having ONLY internal marks in I Year I Semester and II\\nYear II Semester is as follows:\\n9\\n'),\n",
              " Document(metadata={'source': '/content/R22B.Tech.RevisedAcademicRegulations.pdf', 'file_path': '/content/R22B.Tech.RevisedAcademicRegulations.pdf', 'page': 9, 'total_pages': 25, 'Author': 'DAP D7', 'CreationDate': \"D:20230222112512+05'30'\", 'ModDate': \"D:20230222112512+05'30'\", 'Producer': 'Microsoft: Print To PDF', 'Title': 'Microsoft Word - R22 B.Tech Academic Regulations Modified on 27-01-2023'}, page_content='1. I Year I Semester course (ex., Elements of CE/ME/EEE/ECE/CSE etc): The internal\\nevaluation is for 50 marks and it shall take place during I Mid-Term examination and\\nII Mid-Term examination. The average marks of two Mid-Term examinations is the\\nfinal for 50 marks. Student shall have to earn 40%, i.e 20 marks out of 50 marks from\\naverage of the two examinations. There shall be NO external evaluation. The student\\nis deemed to have failed, if he (i) is absent as per schedule, or (ii) secures less than\\n40% marks in this course.\\nFor CSE/IT and allied branches the Continuous Internal Evaluation (CIE) will be\\nfor 50 marks. Each Mid-Term examination consists of two parts i) Part – A for 20\\nmarks, ii) Part – B for 20 marks with a total duration of 2 hours.\\nPart A: Objective/quiz paper is set with multiple choice, fill-in the blanks and match\\nthe following type of questions for a total of 20 marks. Part B: Descriptive paper shall\\ncontain 6 full questions out of which, the student has to answer 4 questions, each\\ncarrying 5 marks.\\nThe remaining 10 marks of Continuous Internal Evaluation are for Assignment (5\\nmarks) and Subject Viva-Voce/PPT/Poster Presentation/ Case Study (5 marks) and\\nthe evaluation pattern will remain same as for other theory subjects.\\nFor all other branches, the Continuous Internal Evaluation (CIE) will be for 50\\nmarks. Out of the 50 marks for internal evaluation:\\na) A write-up on day-to-day experiment in the laboratory (in terms of aim,\\ncomponents/procedure, expected outcome) which shall be evaluated for 10 marks\\nb) 10 marks for viva-voce (or) tutorial (or) case study (or) application (or) poster\\npresentation of the course concerned.\\nc) Internal practical examination conducted by the laboratory teacher concerned shall\\nbe evaluated for 15 marks.\\nd) The remaining 15 marks are for Laboratory Report/Project and Presentation, which\\nconsists of the Design (or) Software / Hardware Model Presentation (or) App\\nDevelopment (or) Prototype Presentation submission which shall be evaluated after\\ncompletion of laboratory course and before semester end practical examination.\\n2. II Year II Semester Real-Time (or) Field-based Research Project course: The internal\\nevaluation is for 50 marks and it shall take place during I Mid-Term examination and\\nII Mid-Term examination. The average marks of two Mid-Term examinations is the\\nfinal for 50 marks. Student shall have to earn 40%, i.e 20 marks out of 50 marks from\\naverage of the two examinations. There shall be NO external evaluation. The student\\nis deemed to have failed, if he (i) does not submit a report on the Project, or (ii) does\\nnot make a presentation of the same before the internal committee as per schedule, or\\n(ii) secures less than 40% marks in this course.\\n8.5 There shall be an Industry training (or) Internship (or) Industry oriented Mini-project\\n(or) Skill Development Courses (or) Paper presentation in reputed journal (or) Industry\\n10\\n'),\n",
              " Document(metadata={'source': '/content/R22B.Tech.RevisedAcademicRegulations.pdf', 'file_path': '/content/R22B.Tech.RevisedAcademicRegulations.pdf', 'page': 10, 'total_pages': 25, 'Author': 'DAP D7', 'CreationDate': \"D:20230222112512+05'30'\", 'ModDate': \"D:20230222112512+05'30'\", 'Producer': 'Microsoft: Print To PDF', 'Title': 'Microsoft Word - R22 B.Tech Academic Regulations Modified on 27-01-2023'}, page_content='Oriented Mini Project in collaboration with an industry of their specialization. Students\\nshall register for this immediately after II-Year II Semester Examinations and pursue it\\nduring summer vacation/semester break & during III Year without effecting regular\\ncourse work. Internship at reputed organization (or) Skill development courses (or)\\nPaper presentation in reputed journal (or) Industry Oriented Mini Project shall be\\nsubmitted in a report form and presented before the committee in III-year II semester\\nbefore end semester examination. It shall be evaluated for 100 external marks. The\\ncommittee consists of an External Examiner, Head of the Department, Supervisor of\\nthe Industry Oriented Mini Project (or) Internship etc, Internal Supervisor and a Senior\\nFaculty Member of the Department. There shall be NO internal marks for Industry\\nTraining (or) Internship (or) Mini-Project (or) Skill Development Courses (or) Paper\\nPresentation in reputed journal (or) Industry Oriented Mini Project.\\n8.6 The UG project shall be initiated at the end of the IV Year I Semester and the duration\\nof the project work is one semester. The student must present Project Stage – I during\\nIV Year I Semester before II Mid examinations, in consultation with his Supervisor,\\nthe title, objective and plan of action of his Project work to the departmental committee\\nfor approval before commencement of IV Year II Semester. Only after obtaining the\\napproval of the departmental committee, the student can start his project work.\\n8.7 UG project work shall be carried out in two stages: Project Stage – I for approval of\\nproject before Mid-II examinations in IV Year I Semester and Project Stage – II during\\nIV Year II Semester. Student has to submit project work report at the end of IV Year II\\nSemester. The project shall be evaluated for 100 marks before commencement of SEE\\nTheory examinations.\\n8.8 For Project Stage – I, the departmental committee consisting of Head of the\\nDepartment, project supervisor and a senior faculty member shall approve the project\\nwork to begin before II Mid-Term examination of IV Year I Semester. The student is\\ndeemed to be not eligible to register for the Project work, if he does not submit a report\\non Project Stage - I or does not make a presentation of the same before the evaluation\\ncommittee as per schedule.\\nA student who has failed may reappear once for the above evaluation, when it is\\nscheduled again; if he fails in such ‘one reappearance’ evaluation also, he has to\\nreappear for the same in the next subsequent semester, as and when it is scheduled.\\n8.9 For Project Stage – II, the external examiner shall evaluate the project work for 60\\nmarks and the internal project committee shall evaluate it for 40 marks. Out of 40\\ninternal marks, the departmental committee consisting of Head of the Department,\\nProject Supervisor and a Senior Faculty Member shall evaluate the project work for 20\\nmarks and Project Supervisor shall evaluate for 20 marks. The topics for Industry\\nOriented Mini Project/ Internship/SDC etc. and the main Project shall be different from\\nthe topic already taken. The student is deemed to have failed, if he (i) does not submit\\na report on the Project, or (ii) does not make a presentation of the same before the\\nExternal Examiner as per schedule, or (iii) secures less than 40% marks in the sum total\\nof the CIE and SEE taken together.\\n11\\n'),\n",
              " Document(metadata={'source': '/content/R22B.Tech.RevisedAcademicRegulations.pdf', 'file_path': '/content/R22B.Tech.RevisedAcademicRegulations.pdf', 'page': 11, 'total_pages': 25, 'Author': 'DAP D7', 'CreationDate': \"D:20230222112512+05'30'\", 'ModDate': \"D:20230222112512+05'30'\", 'Producer': 'Microsoft: Print To PDF', 'Title': 'Microsoft Word - R22 B.Tech Academic Regulations Modified on 27-01-2023'}, page_content='For conducting viva-voce of project, University selects an external examiner from the\\nlist of experts in the relevant branch submitted by the Principal of the College.\\nA student who has failed, may reappear once for the above evaluation, when it is\\nscheduled again; if student fails in such ‘one reappearance’ evaluation also, he has to\\nreappear for the same in the next subsequent semester, as and when it is scheduled.\\n8.10 A student shall be given only one time chance to re-register for a maximum of two\\nsubjects in a semester:\\n\\uf0b7 If the internal marks secured by a student in the Continuous Internal Evaluation\\nmarks for 40 (Sum of average of two mid-term examinations consisting of\\nObjective & descriptive parts, Average of two Assignments & Subject Viva-\\nvoce/PPT/ Poster presentation/ Case Study on a topic in the concerned subject) are\\nless than 35% and failed in those subjects.\\nA student must re-register for the failed subject(s) for 40 marks within four weeks of\\ncommencement of the classwork in next academic year.\\nIn the event of the student taking this chance, his Continuous Internal Evaluation marks\\nfor 40 and Semester End Examination marks for 60 obtained in the previous attempt\\nstand cancelled.\\n9.0 Grading Procedure\\n9.1 Grades will be awarded to indicate the performance of students in each Theory Subject,\\nLaboratory/Practicals/ Industry-Oriented Mini Project/Internship/SDC and Project\\nStage. Based on the percentage of marks obtained (Continuous Internal Evaluation plus\\nSemester End Examination, both taken together) as specified in item 8 above, a\\ncorresponding letter grade shall be given.\\n9.2 As a measure of the performance of a student, a 10-point absolute grading system using\\nthe following letter grades (as per UGC/AICTE guidelines) and corresponding\\npercentage of marks shall be followed:\\n% of Marks Secured in a Subject/Course Letter Grade\\nGrade Points\\n(Class Intervals) (UGC Guidelines)\\nO\\nGreater than or equal to 90% 10\\n(Outstanding)\\nA+\\n80 and less than 90% 9\\n(Excellent)\\nA\\n70 and less than 80% 8\\n(Very Good)\\nB+\\n60 and less than 70% 7\\n(Good)\\nB\\n50 and less than 60% 6\\n(Average)\\nC\\n40 and less than 50% 5\\n(Pass)\\nBelow 40% F 0\\n12\\n'),\n",
              " Document(metadata={'source': '/content/R22B.Tech.RevisedAcademicRegulations.pdf', 'file_path': '/content/R22B.Tech.RevisedAcademicRegulations.pdf', 'page': 12, 'total_pages': 25, 'Author': 'DAP D7', 'CreationDate': \"D:20230222112512+05'30'\", 'ModDate': \"D:20230222112512+05'30'\", 'Producer': 'Microsoft: Print To PDF', 'Title': 'Microsoft Word - R22 B.Tech Academic Regulations Modified on 27-01-2023'}, page_content='(FAIL)\\nAbsent Ab 0\\n9.3 A student who has obtained an ‘F’ grade in any subject shall be deemed to have ‘failed’\\nand is required to reappear as a ‘supplementary student’ in the semester end\\nexamination, as and when offered. In such cases, internal marks in those subjects will\\nremain the same as those obtained earlier.\\n9.4 To a student who has not appeared for an examination in any subject, ‘Ab’ grade will\\nbe allocated in that subject, and he is deemed to have ‘Failed’. A student will be\\nrequired to reappear as a ‘supplementary student’ in the semester end examination, as\\nand when offered next. In this case also, the internal marks in those subjects will remain\\nthe same as those obtained earlier.\\n9.5 A letter grade does not indicate any specific percentage of marks secured by the student,\\nbut it indicates only the range of percentage of marks.\\n9.6 A student earns Grade Point (GP) in each subject/ course, on the basis of the letter grade\\nsecured in that subject/ course. The corresponding ‘Credit Points’ (CP) are computed\\nby multiplying the grade point with credits for that particular subject/ course.\\nCredit Points (CP) = Grade Point (GP) x Credits …. For a course\\n9.7 A student passes the subject/ course only when GP \\uf0b3 5 (‘C’ grade or above)\\n9.8 The Semester Grade Point Average (SGPA) is calculated by dividing the sum of credit\\npoints (\\uf053CP) secured from all subjects/ courses registered in a semester, by the total\\nnumber of credits registered during that semester. SGPA is rounded off to two decimal\\nplaces. SGPA is thus computed as\\nSGPA = { ∑𝐍 𝐂 𝐆 } / { ∑𝐍 𝐂 } …. For each semester,\\n𝐢(cid:2880)𝟏 𝐢 𝐢 𝐢(cid:2880)𝟏 𝐢\\nwhere ‘i’ is the subject indicator index (considering all subjects in a semester), ‘N’ is\\nthe no. of subjects ‘registered’ for the semester (as specifically required and listed\\nunder the course structure of the parent department), C is the no. of credits allotted to\\n(cid:2919)\\nthe ith subject, and G represents the grade points (GP) corresponding to the letter grade\\n(cid:2919)\\nawarded for that ith subject.\\n9.9 The Cumulative Grade Point Average (CGPA) is a measure of the overall cumulative\\nperformance of a student in all semesters considered for registration. The CGPA is the\\nratio of the total credit points secured by a student in all registered courses (of 160) in\\nall semesters, and the total number of credits registered in all the semesters. CGPA is\\nrounded off to two decimal places. CGPA is thus computed from the I year II semester\\nonwards at the end of each semester as per the formula\\nCGPA = { ∑𝐌 𝐂 𝐆 } / { ∑𝐌 𝐂 } … for all S semesters registered\\n𝐣(cid:2880)𝟏 𝐣 𝐣 𝐣(cid:2880)𝟏 𝐣\\n(i.e., up to and inclusive of S semesters, S \\uf0b3 2),\\n13\\n'),\n",
              " Document(metadata={'source': '/content/R22B.Tech.RevisedAcademicRegulations.pdf', 'file_path': '/content/R22B.Tech.RevisedAcademicRegulations.pdf', 'page': 13, 'total_pages': 25, 'Author': 'DAP D7', 'CreationDate': \"D:20230222112512+05'30'\", 'ModDate': \"D:20230222112512+05'30'\", 'Producer': 'Microsoft: Print To PDF', 'Title': 'Microsoft Word - R22 B.Tech Academic Regulations Modified on 27-01-2023'}, page_content='where ‘M’ is the total no. of subjects (as specifically required and listed under the\\ncourse structure of the parent department) the student has ‘registered’ i.e., from the 1st\\nsemester onwards up to and inclusive of the 8th semester, ‘j’ is the subject indicator\\nindex (takes into account all subjects from 1 to 8 semesters), C is the no. of credits\\n(cid:2920)\\nallotted to the jth subject, and G represents the grade points (GP) corresponding to the\\n(cid:2920)\\nletter grade awarded for that jth subject. After registration and completion of I year I\\nsemester, the SGPA of that semester itself may be taken as the CGPA, as there are no\\ncumulative effects.\\nIllustration of calculation of SGPA:\\nLetter Grade Credit\\nCourse/Subject Credits\\nGrade Points Points\\nCourse 1 4 A 8 4 x 8 = 32\\nCourse 2 4 O 10 4 x 10 = 40\\nCourse 3 4 C 5 4 x 5 = 20\\nCourse 4 3 B 6 3 x 6 = 18\\nCourse 5 3 A+ 9 3 x 9 = 27\\nCourse 6 3 C 5 3 x 5 = 15\\n21 152\\nSGPA = 152/21 = 7.24\\nIllustration of Calculation of CGPA up to 3rd Semester:\\nLetter Corresponding Credit\\nCourse/ Credits\\nSemester Grade Grade Point Points\\nSubject Title Allotted\\nSecured (GP) (CP)\\nI Course 1 3 A 8 24\\nI Course 2 3 O 10 30\\nI Course 3 3 B 6 18\\nI Course 4 4 A 8 32\\nI Course 5 3 A+ 9 27\\nI Course 6 4 C 5 20\\nII Course 7 4 B 6 24\\nII Course 8 4 A 8 32\\nII Course 9 3 C 5 15\\nII Course 10 3 O 10 30\\nII Course 11 3 B+ 7 21\\nII Course 12 4 B 6 24\\nII Course 13 4 A 8 32\\nII Course 14 3 O 10 30\\nIII Course 15 2 A 8 16\\nIII Course 16 1 C 5 5\\nIII Course 17 4 O 10 40\\nIII Course 18 3 B+ 7 21\\n14\\n'),\n",
              " Document(metadata={'source': '/content/R22B.Tech.RevisedAcademicRegulations.pdf', 'file_path': '/content/R22B.Tech.RevisedAcademicRegulations.pdf', 'page': 14, 'total_pages': 25, 'Author': 'DAP D7', 'CreationDate': \"D:20230222112512+05'30'\", 'ModDate': \"D:20230222112512+05'30'\", 'Producer': 'Microsoft: Print To PDF', 'Title': 'Microsoft Word - R22 B.Tech Academic Regulations Modified on 27-01-2023'}, page_content='III Course 19 4 B 6 24\\nIII Course 20 4 A 8 32\\nIII Course 21 3 B+ 7 21\\nTotal Total Credit\\n69 518\\nCredits Points\\nCGPA = 518/69 = 7.51\\nThe calculation process of CGPA illustrated above will be followed for each subsequent\\nsemester until 8th semester. The CGPA obtained at the end of 8th semester will become\\nthe final CGPA secured for entire B.Tech. programme.\\n9.10 For merit ranking or comparison purposes or any other listing, only the ‘rounded off’\\nvalues of the CGPAs will be used.\\n9.11 SGPA and CGPA of a semester will be mentioned in the semester Memorandum of\\nGrades if all subjects of that semester are passed in first attempt. Otherwise the SGPA\\nand CGPA shall be mentioned only on the Memorandum of Grades in which sitting he\\npassed his last exam in that semester. However, mandatory courses will not be taken\\ninto consideration.\\n10.0 Passing Standards\\n10.1 A student shall be declared successful or ‘passed’ in a semester, if he secures a GP ≥ 5\\n(‘C’ grade or above) in every subject/course in that semester (i.e. when the student gets\\nan SGPA \\uf0b3 5.0 at the end of that particular semester); and he shall be declared\\nsuccessful or ‘passed’ in the entire undergraduate programme, only when gets a CGPA\\n\\uf0b3 5.00 (‘C’ grade or above) for the award of the degree as required.\\n10.2 After the completion of each semester, a grade card or grade sheet shall be issued to all\\nthe registered students of that semester, indicating the letter grades and credits earned.\\nIt will show the details of the courses registered (course code, title, no. of credits, grade\\nearned, etc.) and credits earned. There is NO exemption of credits in any case.\\n11.0 Declaration of results\\n11.1 Computation of SGPA and CGPA are done using the procedure listed in 9.6 to 9.9.\\n11.2 For final percentage of marks equivalent to the computed final CGPA, the following\\nformula may be used.\\n% of Marks = (final CGPA – 0.5) x 10\\n12.0 Award of Degree\\n12.1 A student who registers for all the specified subjects/ courses as listed in the course\\nstructure and secures the required number of 160 credits (with CGPA \\uf0b3 5.0), within 8\\nacademic years from the date of commencement of the first academic year, shall be\\n15\\n'),\n",
              " Document(metadata={'source': '/content/R22B.Tech.RevisedAcademicRegulations.pdf', 'file_path': '/content/R22B.Tech.RevisedAcademicRegulations.pdf', 'page': 15, 'total_pages': 25, 'Author': 'DAP D7', 'CreationDate': \"D:20230222112512+05'30'\", 'ModDate': \"D:20230222112512+05'30'\", 'Producer': 'Microsoft: Print To PDF', 'Title': 'Microsoft Word - R22 B.Tech Academic Regulations Modified on 27-01-2023'}, page_content='declared to have ‘qualified’ for the award of B.Tech. degree in the branch of\\nEngineering selected at the time of admission.\\n12.2 A student who qualifies for the award of the degree as listed in item 12.1 shall be placed\\nin the following classes.\\n12.3 A student with final CGPA (at the end of the undergraduate programme) > 8.00, and\\nfulfilling the following conditions - shall be placed in ‘First Class with Distinction’.\\nHowever, he\\n(i) Should have passed all the subjects/courses in ‘First Appearance’ within the\\nfirst 4 academic years (or 8 sequential semesters) from the date of\\ncommencement of first year first semester.\\n(ii) Should not have been detained or prevented from writing the semester end\\nexaminations in any semester due to shortage of attendance or any other reason.\\nA student not fulfilling any of the above conditions with final CGPA > 8 shall be\\nplaced in ‘First Class’.\\n12.4 Students with final CGPA (at the end of the undergraduate programme) \\uf0b3 7.0 but <\\n8.00 shall be placed in ‘First Class’.\\n12.5 Students with final CGPA (at the end of the undergraduate programme) \\uf0b3 6.00 but <\\n7.00, shall be placed in ‘Second Class’.\\n12.6 All other students who qualify for the award of the degree (as per item 12.1), with final\\nCGPA (at the end of the undergraduate programme) \\uf0b3 5.00 but < 6, shall be placed in\\n‘pass class’.\\n12.7 A student with final CGPA (at the end of the undergraduate programme) < 5.00 will\\nnot be eligible for the award of the degree.\\n12.8 Students fulfilling the conditions listed under item 12.3 alone will be eligible for award\\nof ‘Gold Medal’.\\n12.9 Award of 2-Year B.Tech. Diploma Certificate\\n1. A student is awarded 2-Year UG Diploma Certificate in the concerned engineering\\nbranch on completion of all the academic requirements and earned all the 80 credits\\n(within 4 years from the date of admission) upto B.Tech. II Year II Semester, if the\\nstudent want to exit the 4-Year B.Tech. program and requests for the 2 -Year B.\\nTech. (UG) Diploma Certificate.\\n2. The student once opted and awarded 2-Year UG Diploma Certificate, the\\nstudent will be permitted to join in B. Tech. III Year I Semester and continue for\\ncompletion of remaining years of study for 4-Year B. Tech. Degree ONLY in the\\nnext academic year along with next batch students. However, if any student wishes\\nto continue the study after opting for exit, he/she should register for the\\nsubjects/courses in III Year I Semester before commencement of classwork for that\\nsemester.\\n16\\n'),\n",
              " Document(metadata={'source': '/content/R22B.Tech.RevisedAcademicRegulations.pdf', 'file_path': '/content/R22B.Tech.RevisedAcademicRegulations.pdf', 'page': 16, 'total_pages': 25, 'Author': 'DAP D7', 'CreationDate': \"D:20230222112512+05'30'\", 'ModDate': \"D:20230222112512+05'30'\", 'Producer': 'Microsoft: Print To PDF', 'Title': 'Microsoft Word - R22 B.Tech Academic Regulations Modified on 27-01-2023'}, page_content='3. The students, who exit the 4-Year B. Tech. program after II Year of study and wish\\nto re-join the B.Tech. program, must submit the 2 -Year B. Tech. (UG) Diploma\\nCertificate awarded to him, subject to the eligibility for completion of\\nCourse/Degree.\\n4. A student may be permitted to take one year break after completion of II Year II\\nSemester or B. Tech. III Year II Semester (with university permission through the\\nprincipal of the college well in advance) and can re-enter the course in next\\nAcademic Year in the same college and complete the course on fulfilling all the\\nacademic credentials within a stipulated duration i.e. double the duration of the\\ncourse (Ex. within 8 Years for 4-Year program).\\n13.0 Withholding of results\\n13.1 If the student has not paid the fees to the University at any stage, or has dues pending\\ndue to any reason whatsoever, or if any case of indiscipline is pending, the result of the\\nstudent may be withheld, and the student will not be allowed to go into the next higher\\nsemester. The award or issue of the degree may also be withheld in such cases.\\n14.0 Transitory Regulations\\nA. For students detained due to shortage of attendance:\\n1. A Student who has been detained in I year of R18 Regulations due to lack of\\nattendance, shall be permitted to join I year I Semester of R22 Regulations and\\nhe is required to complete the study of B.Tech. programme within the stipulated\\nperiod of eight academic years from the date of first admission in I Year.\\n2. A student who has been detained in any semester of II, III and IV years of R18\\nregulations for want of attendance, shall be permitted to join the corresponding\\nsemester of R22 Regulations and is required to complete the study of B.Tech.\\nwithin the stipulated period of eight academic years from the date of first\\nadmission in I Year. The R22 Academic Regulations under which a student has\\nbeen readmitted shall be applicable to that student from that semester. See rule\\n(C) for further Transitory Regulations.\\nB. For students detained due to shortage of credits:\\n3. A student of R18 Regulations who has been detained due to lack of credits, shall\\nbe promoted to the next semester of R22 Regulations only after acquiring the\\nrequired number of credits as per the corresponding regulations of his/her first\\nadmission. The total credits required are 160 including both R18 & R22\\nregulations. The student is required to complete the study of B.Tech. within the\\nstipulated period of eight academic years from the year of first admission. The\\nR22 Academic Regulations are applicable to a student from the year of\\nreadmission. See rule (C) for further Transitory Regulations.\\nC. For readmitted students in R22 Regulations:\\n17\\n'),\n",
              " Document(metadata={'source': '/content/R22B.Tech.RevisedAcademicRegulations.pdf', 'file_path': '/content/R22B.Tech.RevisedAcademicRegulations.pdf', 'page': 17, 'total_pages': 25, 'Author': 'DAP D7', 'CreationDate': \"D:20230222112512+05'30'\", 'ModDate': \"D:20230222112512+05'30'\", 'Producer': 'Microsoft: Print To PDF', 'Title': 'Microsoft Word - R22 B.Tech Academic Regulations Modified on 27-01-2023'}, page_content='4. A student who has failed in any subject under any regulation has to pass those\\nsubjects in the same regulations.\\n5. The maximum credits that a student acquires for the award of degree, shall be the\\nsum of the total number of credits secured in all the regulations of his/her study\\nincluding R22 Regulations. There is NO exemption of credits in any case.\\n6. If a student is readmitted to R22 Regulations and has any subject with 80% of\\nsyllabus common with his/her previous regulations, that particular subject in R22\\nRegulations will be substituted by another subject to be suggested by the\\nUniversity.\\nNote: If a student readmitted to R22 Regulations and has not studied any subjects/topics\\nin his/her earlier regulations of study which is prerequisite for further subjects in R22\\nRegulations, the College Principals concerned shall conduct remedial classes to cover\\nthose subjects/topics for the benefit of the students.\\n15.0 Student Transfers\\n15.1 There shall be no branch transfers after the completion of admission process.\\n15.2 There shall be no transfers from one college/stream to another within the constituent\\ncolleges and units of Jawaharlal Nehru Technological University Hyderabad.\\n15.3 The students seeking transfer to colleges affiliated to JNTUH from various other\\nUniversities/institutions have to pass the failed subjects which are equivalent to the\\nsubjects of JNTUH, and also pass the subjects of JNTUH which the students have not\\nstudied at the earlier institution. Further, though the students have passed some of the\\nsubjects at the earlier institutions, if the same subjects are prescribed in different\\nsemesters of JNTUH, the students have to study those subjects in JNTUH in spite of\\nthe fact that those subjects are repeated.\\n15.4 The transferred students from other Universities/Institutions to JNTUH affiliated\\ncolleges who are on rolls are to be provided one chance to write the CBT (for internal\\nmarks) in the equivalent subject(s) as per the clearance letter issued by the University.\\n15.5 The autonomous affiliated colleges have to provide one chance to write the internal\\nexaminations in the equivalent subject(s) to the students transferred from other\\nuniversities/institutions to JNTUH autonomous affiliated colleges who are on rolls, as\\nper the clearance (equivalence) letter issued by the University.\\n16.0 Scope\\n16.1 The academic regulations should be read as a whole, for the purpose of any\\ninterpretation.\\n16.2 In case of any doubt or ambiguity in the interpretation of the above rules, the decision\\nof the Vice-Chancellor is final.\\n18\\n'),\n",
              " Document(metadata={'source': '/content/R22B.Tech.RevisedAcademicRegulations.pdf', 'file_path': '/content/R22B.Tech.RevisedAcademicRegulations.pdf', 'page': 18, 'total_pages': 25, 'Author': 'DAP D7', 'CreationDate': \"D:20230222112512+05'30'\", 'ModDate': \"D:20230222112512+05'30'\", 'Producer': 'Microsoft: Print To PDF', 'Title': 'Microsoft Word - R22 B.Tech Academic Regulations Modified on 27-01-2023'}, page_content='16.3 The University may change or amend the academic regulations, course structure or\\nsyllabi at any time, and the changes or amendments made shall be applicable to all\\nstudents with effect from the dates notified by the University authorities.\\n16.4 Where the words “he”, “him”, “his”, occur in the regulations, they include “she”,\\n“her”, “hers”.\\n****\\n19\\n'),\n",
              " Document(metadata={'source': '/content/R22B.Tech.RevisedAcademicRegulations.pdf', 'file_path': '/content/R22B.Tech.RevisedAcademicRegulations.pdf', 'page': 19, 'total_pages': 25, 'Author': 'DAP D7', 'CreationDate': \"D:20230222112512+05'30'\", 'ModDate': \"D:20230222112512+05'30'\", 'Producer': 'Microsoft: Print To PDF', 'Title': 'Microsoft Word - R22 B.Tech Academic Regulations Modified on 27-01-2023'}, page_content='JAWAHARLAL NEHRU TECHNOLOGICAL UNIVERSITY HYDERABAD\\n(Established by State Act No. 30 of 2008)\\nKukatpally, Hyderabad, Telangana (India).\\nACADEMIC REGULATIONS FOR B.TECH (LATERAL ENTRY SCHEME) FROM\\nTHE AY 2023-24\\n1. Eligibility for the award of B.Tech Degree (LES)\\nThe LES students after securing admission shall pursue a course of study for not less\\nthan three academic years and not more than six academic years.\\n2. The student shall register for 120 credits and secure 120 credits with CGPA ≥ 5 from II\\nyear to IV-year B.Tech. programme (LES) for the award of B.Tech. degree.\\n3. The students, who fail to fulfil the requirement for the award of the degree in six\\nacademic years from the year of admission, shall forfeit their seat in B.Tech.\\n4. The attendance requirements of B. Tech. (Regular) shall be applicable to B.Tech.\\n(LES).\\n5. Promotion rule\\nS. No Promotion Conditions to be fulfilled\\n1 Second year first semester to Regular course of study of second year\\nsecond year second semester first semester.\\n2 Second year second semester to (i) Regular course of study of second\\nthird year first semester year second semester.\\n(ii) Must have secured at least 24 credits\\nout of 40 credits i.e., 60% credits up to\\nsecond year second semester from all the\\nrelevant regular and supplementary\\nexaminations, whether the student takes\\nthose examinations or not.\\n3 Third year first semester to Regular course of study of third year\\nthird year second semester first semester.\\n4 Third year second semester to (i) Regular course of study of third year\\nfourth year first semester second semester.\\n(ii) Must have secured at least 48 credits\\nout of 80 credits i.e., 60% credits up to\\n20\\n'),\n",
              " Document(metadata={'source': '/content/R22B.Tech.RevisedAcademicRegulations.pdf', 'file_path': '/content/R22B.Tech.RevisedAcademicRegulations.pdf', 'page': 20, 'total_pages': 25, 'Author': 'DAP D7', 'CreationDate': \"D:20230222112512+05'30'\", 'ModDate': \"D:20230222112512+05'30'\", 'Producer': 'Microsoft: Print To PDF', 'Title': 'Microsoft Word - R22 B.Tech Academic Regulations Modified on 27-01-2023'}, page_content='third year second semester from all the\\nrelevant regular and supplementary\\nexaminations, whether the student takes\\nthose examinations or not.\\n5 Fourth year first semester to Regular course of study of fourth year\\nfourth year second semester first semester.\\n6. All the other regulations as applicable to B. Tech. 4-year degree course (Regular)\\nwill hold good for B. Tech. (Lateral Entry Scheme).\\n7. LES students are not eligible for 2-Year B. Tech. Diploma Certificate.\\n****\\n21\\n'),\n",
              " Document(metadata={'source': '/content/R22B.Tech.RevisedAcademicRegulations.pdf', 'file_path': '/content/R22B.Tech.RevisedAcademicRegulations.pdf', 'page': 21, 'total_pages': 25, 'Author': 'DAP D7', 'CreationDate': \"D:20230222112512+05'30'\", 'ModDate': \"D:20230222112512+05'30'\", 'Producer': 'Microsoft: Print To PDF', 'Title': 'Microsoft Word - R22 B.Tech Academic Regulations Modified on 27-01-2023'}, page_content='Malpractices Rules\\nDisciplinary Action For / Improper Conduct in Examinations\\nNature of Malpractices/Improper\\nPunishment\\nconduct\\nIf the student:\\nPossesses or keeps accessible in\\nexamination hall, any paper, note book,\\nprogrammable calculators, cell phones,\\npager, palm computers or any other form\\nof material concerned with or related to Expulsion from the examination hall and\\n1. (a) the subject of the examination (theory or cancellation of the performance in that subject\\npractical) in which student is appearing only.\\nbut has not made use of (material shall\\ninclude any marks on the body of the\\nstudent which can be used as an aid in\\nthe subject of the examination)\\nGives assistance or guidance or receives\\nExpulsion from the examination hall and\\nit from any other student orally or by any\\ncancellation of the performance in that subject\\nother body language methods or\\n(b) only of all the students involved. In case of an\\ncommunicates through cell phones with\\noutsider, he will be handed over to the police\\nany student or persons in or outside the\\nand a case is registered against him.\\nexam hall in respect of any matter.\\nExpulsion from the examination hall and\\ncancellation of the performance in that subject\\nHas copied in the examination hall from\\nand all other subjects the student has already\\nany paper, book, programmable\\nappeared including practical examinations and\\ncalculators, palm computers or any other\\n2. project work and shall not be permitted to\\nform of material relevant to the subject\\nappear for the remaining examinations of the\\nof the examination (theory or practical)\\nsubjects of that semester/year.\\nin which the student is appearing.\\nThe hall ticket of the student is to be cancelled\\nand sent to the University.\\nThe student who has impersonated shall be\\nexpelled from examination hall. The student is\\nalso debarred and forfeits the seat. The\\nperformance of the original student who has\\nImpersonates any other student in been impersonated, shall be cancelled in all the\\n3.\\nconnection with the examination. subjects of the examination (including practicals\\nand project work) already appeared and shall not\\nbe allowed to appear for examinations of the\\nremaining subjects of that semester/year. The\\nstudent is also debarred for two consecutive\\n22\\n'),\n",
              " Document(metadata={'source': '/content/R22B.Tech.RevisedAcademicRegulations.pdf', 'file_path': '/content/R22B.Tech.RevisedAcademicRegulations.pdf', 'page': 22, 'total_pages': 25, 'Author': 'DAP D7', 'CreationDate': \"D:20230222112512+05'30'\", 'ModDate': \"D:20230222112512+05'30'\", 'Producer': 'Microsoft: Print To PDF', 'Title': 'Microsoft Word - R22 B.Tech Academic Regulations Modified on 27-01-2023'}, page_content='semesters from class work and all University\\nexaminations. The continuation of the course\\nby the student is subject to the academic\\nregulations in connection with forfeiture of seat.\\nIf the imposter is an outsider, he will be handed\\nover to the police and a case is registered against\\nhim.\\nExpulsion from the examination hall and\\ncancellation of performance in that subject and\\nall the other subjects the student has already\\nSmuggles in the answer book or appeared including practical examinations and\\nadditional sheet or takes out or arranges project work and shall not be permitted for the\\nto send out the question paper during the remaining examinations of the subjects of that\\n4.\\nexamination or answer book or semester/year. The student is also debarred for\\nadditional sheet, during or after the two consecutive semesters from class work and\\nexamination. all University examinations. The continuation\\nof the course by the student is subject to the\\nacademic regulations in connection with\\nforfeiture of seat.\\nUses objectionable, abusive or offensive\\nlanguage in the answer paper or in letters\\n5. to the examiners or writes to the Cancellation of the performance in that subject.\\nexaminer requesting him to award pass\\nmarks.\\nRefuses to obey the orders of the chief\\nsuperintendent/assistant –\\nsuperintendent / any officer on duty or\\nmisbehaves or creates disturbance of any\\nkind in and around the examination hall\\nIn case of students of the college, they shall be\\nor organizes a walk out or instigates\\nexpelled from examination halls and\\nothers to walk out, or threatens the\\ncancellation of their performance in that subject\\nofficer-in charge or any person on duty\\nand all other subjects the student(s) has (have)\\nin or outside the examination hall of any\\nalready appeared and shall not be permitted to\\n6. injury to his person or to any of his\\nappear for the remaining examinations of the\\nrelations whether by words, either\\nsubjects of that semester/year. The students also\\nspoken or written or by signs or by\\nare debarred and forfeit their seats. In case of\\nvisible representation, assaults the\\noutsiders, they will be handed over to the police\\nofficer-in-charge, or any person on duty\\nand a police case is registered against them.\\nin or outside the examination hall or any\\nof his relations, or indulges in any other\\nact of misconduct or mischief which\\nresult in damage to or destruction of\\nproperty in the examination hall or any\\n23\\n'),\n",
              " Document(metadata={'source': '/content/R22B.Tech.RevisedAcademicRegulations.pdf', 'file_path': '/content/R22B.Tech.RevisedAcademicRegulations.pdf', 'page': 23, 'total_pages': 25, 'Author': 'DAP D7', 'CreationDate': \"D:20230222112512+05'30'\", 'ModDate': \"D:20230222112512+05'30'\", 'Producer': 'Microsoft: Print To PDF', 'Title': 'Microsoft Word - R22 B.Tech Academic Regulations Modified on 27-01-2023'}, page_content='part of the college campus or engages in\\nany other act which in the opinion of the\\nofficer on duty amounts to use of unfair\\nmeans or misconduct or has the tendency\\nto disrupt the orderly conduct of the\\nexamination.\\nExpulsion from the examination hall and\\ncancellation of performance in that subject and\\nall the other subjects the student has already\\nappeared including practical examinations and\\nLeaves the exam hall taking away project work and shall not be permitted for the\\nanswer script or intentionally tears off remaining examinations of the subjects of that\\n7.\\nthe script or any part thereof inside or semester/year. The student is also debarred for\\noutside the examination hall. two consecutive semesters from class work and\\nall University examinations. The continuation\\nof the course by the student is subject to the\\nacademic regulations in connection with\\nforfeiture of seat.\\nExpulsion from the examination hall and\\ncancellation of the performance in that subject\\nand all other subjects the student has already\\nPossesses any lethal weapon or firearm\\nappeared including practical examinations and\\n8. in the examination hall.\\nproject work and shall not be permitted for the\\nremaining examinations of the subjects of that\\nsemester/year. The student is also debarred and\\nforfeits the seat.\\nExpulsion from the examination hall and\\ncancellation of the performance in that subject\\nand all other subjects the student has already\\nIf student of the college, who is not a\\nappeared including practical examinations and\\nstudent for the particular examination or\\nproject work and shall not be permitted for the\\nany person not connected with the\\n9. remaining examinations of the subjects of that\\ncollege indulges in any malpractice or\\nsemester/year. The student is also debarred and\\nimproper conduct mentioned in clause 6\\nforfeits the seat.\\nto 8.\\nPerson(s) who do not belong to the college will\\nbe handed over to the police and, a police case\\nwill be registered against them.\\nExpulsion from the examination hall and\\ncancellation of the performance in that subject\\nComes in a drunken condition to the\\n10. and all other subjects the student has already\\nexamination hall.\\nappeared for including practical examinations\\nand project work and shall not be permitted for\\n24\\n'),\n",
              " Document(metadata={'source': '/content/R22B.Tech.RevisedAcademicRegulations.pdf', 'file_path': '/content/R22B.Tech.RevisedAcademicRegulations.pdf', 'page': 24, 'total_pages': 25, 'Author': 'DAP D7', 'CreationDate': \"D:20230222112512+05'30'\", 'ModDate': \"D:20230222112512+05'30'\", 'Producer': 'Microsoft: Print To PDF', 'Title': 'Microsoft Word - R22 B.Tech Academic Regulations Modified on 27-01-2023'}, page_content='the remaining examinations of the subjects of\\nthat semester/year.\\nCancellation of the performance in that subject\\nCopying detected on the basis of internal\\nand all other subjects the student has appeared\\n11. evidence, such as, during valuation or\\nfor including practical examinations and project\\nduring special scrutiny.\\nwork of that semester/year examinations.\\nIf any malpractice is detected which is\\nnot covered in the above clauses 1 to 11\\n12. shall be reported to the University for\\nfurther action to award a suitable\\npunishment.\\nMalpractices identified by squad or special invigilators\\n1. Punishments to the students as per the above guidelines.\\n2. Punishment for Institutions: (if the squad reports that the college is also involved in\\nencouraging malpractices)\\na. A show-cause notice shall be issued to the college.\\nb. Impose a suitable fine on the college.\\nc. Shifting the examination center from one college to another college for a specific\\nperiod of not less than one year.\\n* * * * *\\n25\\n')]"
            ]
          },
          "metadata": {},
          "execution_count": 8
        }
      ]
    },
    {
      "cell_type": "code",
      "source": [
        "text_splitter = SemanticChunker(HuggingFaceEmbeddings())\n",
        "documents = text_splitter.split_documents(docs)"
      ],
      "metadata": {
        "colab": {
          "base_uri": "https://localhost:8080/"
        },
        "id": "hVo7jOzv6vMh",
        "outputId": "6b000ed8-7caf-4d96-81e6-f36899020a43"
      },
      "execution_count": 9,
      "outputs": [
        {
          "output_type": "stream",
          "name": "stderr",
          "text": [
            "<ipython-input-9-b819d188c7c3>:1: LangChainDeprecationWarning: Default values for HuggingFaceEmbeddings.model_name were deprecated in LangChain 0.2.16 and will be removed in 0.4.0. Explicitly pass a model_name to the HuggingFaceEmbeddings constructor instead.\n",
            "  text_splitter = SemanticChunker(HuggingFaceEmbeddings())\n"
          ]
        }
      ]
    },
    {
      "cell_type": "code",
      "source": [
        "embedder = HuggingFaceEmbeddings()"
      ],
      "metadata": {
        "colab": {
          "base_uri": "https://localhost:8080/"
        },
        "id": "O4KGNkXP69d9",
        "outputId": "eb0d1aa5-187a-481f-e251-eb46d9a28f2a"
      },
      "execution_count": 10,
      "outputs": [
        {
          "output_type": "stream",
          "name": "stderr",
          "text": [
            "<ipython-input-10-55e52f88ce51>:1: LangChainDeprecationWarning: Default values for HuggingFaceEmbeddings.model_name were deprecated in LangChain 0.2.16 and will be removed in 0.4.0. Explicitly pass a model_name to the HuggingFaceEmbeddings constructor instead.\n",
            "  embedder = HuggingFaceEmbeddings()\n"
          ]
        }
      ]
    },
    {
      "cell_type": "code",
      "source": [
        "vector = FAISS.from_documents(documents,embedder)\n",
        "retriever = vector.as_retriever(search_type=\"similarity\",search_kwargs={\"k\":3})"
      ],
      "metadata": {
        "id": "N6w4gG8n7KYY"
      },
      "execution_count": 11,
      "outputs": []
    },
    {
      "cell_type": "code",
      "source": [
        "!pip install langchain_groq"
      ],
      "metadata": {
        "colab": {
          "base_uri": "https://localhost:8080/"
        },
        "id": "6SycUQDX7Swp",
        "outputId": "ed4a0a0c-e26f-481e-c2ec-cea32b18e3a9"
      },
      "execution_count": 16,
      "outputs": [
        {
          "output_type": "stream",
          "name": "stdout",
          "text": [
            "Collecting langchain_groq\n",
            "  Downloading langchain_groq-0.2.4-py3-none-any.whl.metadata (3.0 kB)\n",
            "Collecting groq<1,>=0.4.1 (from langchain_groq)\n",
            "  Downloading groq-0.18.0-py3-none-any.whl.metadata (14 kB)\n",
            "Collecting langchain-core<0.4.0,>=0.3.33 (from langchain_groq)\n",
            "  Downloading langchain_core-0.3.33-py3-none-any.whl.metadata (6.3 kB)\n",
            "Requirement already satisfied: anyio<5,>=3.5.0 in /usr/local/lib/python3.11/dist-packages (from groq<1,>=0.4.1->langchain_groq) (3.7.1)\n",
            "Requirement already satisfied: distro<2,>=1.7.0 in /usr/local/lib/python3.11/dist-packages (from groq<1,>=0.4.1->langchain_groq) (1.9.0)\n",
            "Requirement already satisfied: httpx<1,>=0.23.0 in /usr/local/lib/python3.11/dist-packages (from groq<1,>=0.4.1->langchain_groq) (0.28.1)\n",
            "Requirement already satisfied: pydantic<3,>=1.9.0 in /usr/local/lib/python3.11/dist-packages (from groq<1,>=0.4.1->langchain_groq) (2.10.6)\n",
            "Requirement already satisfied: sniffio in /usr/local/lib/python3.11/dist-packages (from groq<1,>=0.4.1->langchain_groq) (1.3.1)\n",
            "Requirement already satisfied: typing-extensions<5,>=4.10 in /usr/local/lib/python3.11/dist-packages (from groq<1,>=0.4.1->langchain_groq) (4.12.2)\n",
            "Requirement already satisfied: PyYAML>=5.3 in /usr/local/lib/python3.11/dist-packages (from langchain-core<0.4.0,>=0.3.33->langchain_groq) (6.0.2)\n",
            "Requirement already satisfied: jsonpatch<2.0,>=1.33 in /usr/local/lib/python3.11/dist-packages (from langchain-core<0.4.0,>=0.3.33->langchain_groq) (1.33)\n",
            "Requirement already satisfied: langsmith<0.4,>=0.1.125 in /usr/local/lib/python3.11/dist-packages (from langchain-core<0.4.0,>=0.3.33->langchain_groq) (0.3.2)\n",
            "Requirement already satisfied: packaging<25,>=23.2 in /usr/local/lib/python3.11/dist-packages (from langchain-core<0.4.0,>=0.3.33->langchain_groq) (24.2)\n",
            "Requirement already satisfied: tenacity!=8.4.0,<10.0.0,>=8.1.0 in /usr/local/lib/python3.11/dist-packages (from langchain-core<0.4.0,>=0.3.33->langchain_groq) (9.0.0)\n",
            "Requirement already satisfied: idna>=2.8 in /usr/local/lib/python3.11/dist-packages (from anyio<5,>=3.5.0->groq<1,>=0.4.1->langchain_groq) (3.10)\n",
            "Requirement already satisfied: certifi in /usr/local/lib/python3.11/dist-packages (from httpx<1,>=0.23.0->groq<1,>=0.4.1->langchain_groq) (2024.12.14)\n",
            "Requirement already satisfied: httpcore==1.* in /usr/local/lib/python3.11/dist-packages (from httpx<1,>=0.23.0->groq<1,>=0.4.1->langchain_groq) (1.0.7)\n",
            "Requirement already satisfied: h11<0.15,>=0.13 in /usr/local/lib/python3.11/dist-packages (from httpcore==1.*->httpx<1,>=0.23.0->groq<1,>=0.4.1->langchain_groq) (0.14.0)\n",
            "Requirement already satisfied: jsonpointer>=1.9 in /usr/local/lib/python3.11/dist-packages (from jsonpatch<2.0,>=1.33->langchain-core<0.4.0,>=0.3.33->langchain_groq) (3.0.0)\n",
            "Requirement already satisfied: orjson<4.0.0,>=3.9.14 in /usr/local/lib/python3.11/dist-packages (from langsmith<0.4,>=0.1.125->langchain-core<0.4.0,>=0.3.33->langchain_groq) (3.10.15)\n",
            "Requirement already satisfied: requests<3,>=2 in /usr/local/lib/python3.11/dist-packages (from langsmith<0.4,>=0.1.125->langchain-core<0.4.0,>=0.3.33->langchain_groq) (2.32.3)\n",
            "Requirement already satisfied: requests-toolbelt<2.0.0,>=1.0.0 in /usr/local/lib/python3.11/dist-packages (from langsmith<0.4,>=0.1.125->langchain-core<0.4.0,>=0.3.33->langchain_groq) (1.0.0)\n",
            "Requirement already satisfied: zstandard<0.24.0,>=0.23.0 in /usr/local/lib/python3.11/dist-packages (from langsmith<0.4,>=0.1.125->langchain-core<0.4.0,>=0.3.33->langchain_groq) (0.23.0)\n",
            "Requirement already satisfied: annotated-types>=0.6.0 in /usr/local/lib/python3.11/dist-packages (from pydantic<3,>=1.9.0->groq<1,>=0.4.1->langchain_groq) (0.7.0)\n",
            "Requirement already satisfied: pydantic-core==2.27.2 in /usr/local/lib/python3.11/dist-packages (from pydantic<3,>=1.9.0->groq<1,>=0.4.1->langchain_groq) (2.27.2)\n",
            "Requirement already satisfied: charset-normalizer<4,>=2 in /usr/local/lib/python3.11/dist-packages (from requests<3,>=2->langsmith<0.4,>=0.1.125->langchain-core<0.4.0,>=0.3.33->langchain_groq) (3.4.1)\n",
            "Requirement already satisfied: urllib3<3,>=1.21.1 in /usr/local/lib/python3.11/dist-packages (from requests<3,>=2->langsmith<0.4,>=0.1.125->langchain-core<0.4.0,>=0.3.33->langchain_groq) (2.3.0)\n",
            "Downloading langchain_groq-0.2.4-py3-none-any.whl (14 kB)\n",
            "Downloading groq-0.18.0-py3-none-any.whl (121 kB)\n",
            "\u001b[2K   \u001b[90m━━━━━━━━━━━━━━━━━━━━━━━━━━━━━━━━━━━━━━━━\u001b[0m \u001b[32m121.9/121.9 kB\u001b[0m \u001b[31m4.5 MB/s\u001b[0m eta \u001b[36m0:00:00\u001b[0m\n",
            "\u001b[?25hDownloading langchain_core-0.3.33-py3-none-any.whl (412 kB)\n",
            "\u001b[2K   \u001b[90m━━━━━━━━━━━━━━━━━━━━━━━━━━━━━━━━━━━━━━━━\u001b[0m \u001b[32m412.7/412.7 kB\u001b[0m \u001b[31m15.4 MB/s\u001b[0m eta \u001b[36m0:00:00\u001b[0m\n",
            "\u001b[?25hInstalling collected packages: groq, langchain-core, langchain_groq\n",
            "  Attempting uninstall: langchain-core\n",
            "    Found existing installation: langchain-core 0.3.32\n",
            "    Uninstalling langchain-core-0.3.32:\n",
            "      Successfully uninstalled langchain-core-0.3.32\n",
            "Successfully installed groq-0.18.0 langchain-core-0.3.33 langchain_groq-0.2.4\n"
          ]
        }
      ]
    },
    {
      "cell_type": "code",
      "source": [
        "from google.colab import userdata\n",
        "import os\n",
        "os.environ[\"GROQ_API_KEY\"]=userdata.get('groq_api_key')"
      ],
      "metadata": {
        "id": "0147z9vv7x9J"
      },
      "execution_count": 12,
      "outputs": []
    },
    {
      "cell_type": "code",
      "source": [
        "from langchain_groq import ChatGroq\n",
        "llm = ChatGroq(\n",
        "    temperature=0,\n",
        "    model_name=\"deepseek-r1-distill-llama-70b\"\n",
        ")"
      ],
      "metadata": {
        "id": "8KgrE0yd79hb"
      },
      "execution_count": 17,
      "outputs": []
    },
    {
      "cell_type": "code",
      "source": [
        "llm.invoke(\"What is DeepSeek?\").content"
      ],
      "metadata": {
        "colab": {
          "base_uri": "https://localhost:8080/",
          "height": 70
        },
        "id": "BWHXGOh88PqK",
        "outputId": "95b750c3-4568-44af-e41f-e16ca768ddf9"
      },
      "execution_count": 19,
      "outputs": [
        {
          "output_type": "execute_result",
          "data": {
            "text/plain": [
              "'<think>\\n\\n</think>\\n\\nDeepSeek Artificial Intelligence Co., Ltd. (referred to as \"DeepSeek\" or \"深度求索\") , founded in 2023, is a Chinese company dedicated to making AGI a reality.'"
            ],
            "application/vnd.google.colaboratory.intrinsic+json": {
              "type": "string"
            }
          },
          "metadata": {},
          "execution_count": 19
        }
      ]
    },
    {
      "cell_type": "code",
      "source": [
        "# Define Prompt\n",
        "prompt=\"\"\"\n",
        "1. Use the following piece of context to answer the question at the end.\n",
        "2. If you donot know the answer, just say that \"I don't Know but donot generate by own\".\n",
        "3. Keep answer crisp and limited to 3,4 sentences\n",
        "\n",
        "Context : {context}\n",
        "Question: {question}\n",
        "\n",
        "Helpful Answer:\n",
        "\"\"\"\n",
        "QA_CHAIN_PROMPT = PromptTemplate.from_template(prompt)"
      ],
      "metadata": {
        "id": "9lJtY3Qs9NVC"
      },
      "execution_count": 29,
      "outputs": []
    },
    {
      "cell_type": "code",
      "source": [
        "llm_chain = LLMChain(\n",
        "    llm=llm,\n",
        "    prompt=QA_CHAIN_PROMPT,\n",
        "    callbacks=None,\n",
        "    verbose=True\n",
        ")"
      ],
      "metadata": {
        "id": "0AH_r0uh9NeO"
      },
      "execution_count": 30,
      "outputs": []
    },
    {
      "cell_type": "code",
      "source": [
        "document_prompt = PromptTemplate(\n",
        "    input_variables=['page_content','source'],\n",
        "    template=\"Context : \\ncontent:{page_content}\\nsource:{source}\"\n",
        ")"
      ],
      "metadata": {
        "id": "_-n5vWKk9aEA"
      },
      "execution_count": 31,
      "outputs": []
    },
    {
      "cell_type": "code",
      "source": [
        "combine_documents_chain = StuffDocumentsChain(\n",
        "    llm_chain=llm_chain,\n",
        "    document_variable_name='context',\n",
        "    document_prompt=document_prompt,\n",
        "    callbacks=None,\n",
        ")"
      ],
      "metadata": {
        "id": "PsKR2AO69rJs"
      },
      "execution_count": 32,
      "outputs": []
    },
    {
      "cell_type": "code",
      "source": [
        "qa=RetrievalQA(combine_documents_chain=combine_documents_chain,\n",
        "            verbose=True,\n",
        "            retriever=retriever,\n",
        "            return_source_documents=True\n",
        "            )"
      ],
      "metadata": {
        "id": "xJdDdb3e95Aa"
      },
      "execution_count": 33,
      "outputs": []
    },
    {
      "cell_type": "code",
      "source": [
        "user_input = \"What is Grading Procedure?\"\n",
        "response = qa(user_input)[\"result\"]\n",
        "print(response)"
      ],
      "metadata": {
        "colab": {
          "base_uri": "https://localhost:8080/"
        },
        "id": "SAWcohLO-Hhg",
        "outputId": "a03061d7-4e41-471a-f5a0-1b9ff90e7f6e"
      },
      "execution_count": 34,
      "outputs": [
        {
          "output_type": "stream",
          "name": "stdout",
          "text": [
            "\n",
            "\n",
            "\u001b[1m> Entering new RetrievalQA chain...\u001b[0m\n",
            "\n",
            "\n",
            "\u001b[1m> Entering new LLMChain chain...\u001b[0m\n",
            "Prompt after formatting:\n",
            "\u001b[32;1m\u001b[1;3m\n",
            "1. Use the following piece of context to answer the question at the end.\n",
            "2. If you donot know the answer, just say that \"I don't Know but donot generate by own\".\n",
            "3. Keep answer crisp and limited to 3,4 sentences\n",
            "\n",
            "Context : Context : \n",
            "content:In the event of the student taking this chance, his Continuous Internal Evaluation marks\n",
            "for 40 and Semester End Examination marks for 60 obtained in the previous attempt\n",
            "stand cancelled. 9.0 Grading Procedure\n",
            "9.1 Grades will be awarded to indicate the performance of students in each Theory Subject,\n",
            "Laboratory/Practicals/ Industry-Oriented Mini Project/Internship/SDC and Project\n",
            "Stage. Based on the percentage of marks obtained (Continuous Internal Evaluation plus\n",
            "Semester End Examination, both taken together) as specified in item 8 above, a\n",
            "corresponding letter grade shall be given. 9.2 As a measure of the performance of a student, a 10-point absolute grading system using\n",
            "the following letter grades (as per UGC/AICTE guidelines) and corresponding\n",
            "percentage of marks shall be followed:\n",
            "% of Marks Secured in a Subject/Course Letter Grade\n",
            "Grade Points\n",
            "(Class Intervals) (UGC Guidelines)\n",
            "O\n",
            "Greater than or equal to 90% 10\n",
            "(Outstanding)\n",
            "A+\n",
            "80 and less than 90% 9\n",
            "(Excellent)\n",
            "A\n",
            "70 and less than 80% 8\n",
            "(Very Good)\n",
            "B+\n",
            "60 and less than 70% 7\n",
            "(Good)\n",
            "B\n",
            "50 and less than 60% 6\n",
            "(Average)\n",
            "C\n",
            "40 and less than 50% 5\n",
            "(Pass)\n",
            "Below 40% F 0\n",
            "12\n",
            "\n",
            "source:/content/R22B.Tech.RevisedAcademicRegulations.pdf\n",
            "\n",
            "Context : \n",
            "content:(FAIL)\n",
            "Absent Ab 0\n",
            "9.3 A student who has obtained an ‘F’ grade in any subject shall be deemed to have ‘failed’\n",
            "and is required to reappear as a ‘supplementary student’ in the semester end\n",
            "examination, as and when offered. In such cases, internal marks in those subjects will\n",
            "remain the same as those obtained earlier. 9.4 To a student who has not appeared for an examination in any subject, ‘Ab’ grade will\n",
            "be allocated in that subject, and he is deemed to have ‘Failed’. A student will be\n",
            "required to reappear as a ‘supplementary student’ in the semester end examination, as\n",
            "and when offered next. In this case also, the internal marks in those subjects will remain\n",
            "the same as those obtained earlier. 9.5 A letter grade does not indicate any specific percentage of marks secured by the student,\n",
            "but it indicates only the range of percentage of marks. 9.6 A student earns Grade Point (GP) in each subject/ course, on the basis of the letter grade\n",
            "secured in that subject/ course. The corresponding ‘Credit Points’ (CP) are computed\n",
            "by multiplying the grade point with credits for that particular subject/ course. Credit Points (CP) = Grade Point (GP) x Credits …. For a course\n",
            "9.7 A student passes the subject/ course only when GP  5 (‘C’ grade or above)\n",
            "9.8 The Semester Grade Point Average (SGPA) is calculated by dividing the sum of credit\n",
            "points (CP) secured from all subjects/ courses registered in a semester, by the total\n",
            "number of credits registered during that semester. SGPA is rounded off to two decimal\n",
            "places. SGPA is thus computed as\n",
            "SGPA = { ∑𝐍 𝐂 𝐆 } / { ∑𝐍 𝐂 } …. For each semester,\n",
            "𝐢(cid:2880)𝟏 𝐢 𝐢 𝐢(cid:2880)𝟏 𝐢\n",
            "where ‘i’ is the subject indicator index (considering all subjects in a semester), ‘N’ is\n",
            "the no. of subjects ‘registered’ for the semester (as specifically required and listed\n",
            "under the course structure of the parent department), C is the no.\n",
            "source:/content/R22B.Tech.RevisedAcademicRegulations.pdf\n",
            "\n",
            "Context : \n",
            "content:the remaining examinations of the subjects of\n",
            "that semester/year. Cancellation of the performance in that subject\n",
            "Copying detected on the basis of internal\n",
            "and all other subjects the student has appeared\n",
            "11. evidence, such as, during valuation or\n",
            "for including practical examinations and project\n",
            "during special scrutiny.\n",
            "source:/content/R22B.Tech.RevisedAcademicRegulations.pdf\n",
            "Question: What is Grading Procedure?\n",
            "\n",
            "Helpful Answer:\n",
            "\u001b[0m\n",
            "\n",
            "\u001b[1m> Finished chain.\u001b[0m\n",
            "\n",
            "\u001b[1m> Finished chain.\u001b[0m\n",
            "<think>\n",
            "Okay, I need to figure out the grading procedure based on the provided context. Let me go through each part step by step.\n",
            "\n",
            "First, I see that the grading is based on a 10-point absolute system. The grades range from 'O' at the top, which is for 90% and above, down to 'F' for below 40%. Each grade corresponds to a specific percentage range and has a grade point assigned. For example, 'O' is 10 points, 'A+' is 9, and so on until 'F' which is 0.\n",
            "\n",
            "Next, the procedure mentions that a student's performance is determined by the combination of Continuous Internal Evaluation (CIE) and Semester End Examination (SEE) marks. The grades are assigned based on the total percentage from both. So, if a student scores, say, 85%, they get an 'A+' grade with 9 points.\n",
            "\n",
            "I also notice that failing is clearly defined. If a student gets an 'F' grade, they have to reappear for the exam as a supplementary student. Their internal marks remain the same, but they have to take the semester end exam again. The same applies if they were absent, getting an 'Ab' grade, which also counts as a fail.\n",
            "\n",
            "There's a part about the Semester Grade Point Average (SGPA), which is calculated by summing up the credit points (CP) from all subjects and dividing by the total credits. This gives an average for the semester, rounded to two decimal places. So, each subject's grade point is multiplied by its credits to get CP, and all CPs are added up.\n",
            "\n",
            "Additionally, a student passes a subject only if their grade point is 5 or above, which corresponds to a 'C' grade or higher. This means even if they have some lower grades, as long as they meet this threshold, they pass.\n",
            "\n",
            "I should also consider how the grades don't specify the exact percentage but only the range. This means that a 'B' grade, for instance, just tells you the student scored between 50-60%, not the exact number.\n",
            "\n",
            "Putting it all together, the grading procedure involves calculating the total marks from CIE and SEE, assigning a letter grade based on the percentage, determining pass or fail status, calculating SGPA, and handling cases where students need to retake exams.\n",
            "</think>\n",
            "\n",
            "The grading procedure uses a 10-point system where grades like 'O' (90%+), 'A+' (80-90%), down to 'F' (below 40%) are assigned based on combined internal and semester exam marks. Students must score at least a 'C' grade (40-50%) to pass. The Semester Grade Point Average (SGPA) is calculated by averaging credit points from all subjects. Failing grades require re-examination with internal marks retained.\n"
          ]
        }
      ]
    },
    {
      "cell_type": "code",
      "source": [
        "user_input = \"What is Sigmoid Activation Function?\"\n",
        "response = qa(user_input)[\"result\"]\n",
        "print(response)"
      ],
      "metadata": {
        "colab": {
          "base_uri": "https://localhost:8080/"
        },
        "id": "4E0OcYir-Swi",
        "outputId": "619bd92e-80b1-48f3-ba31-99330424af04"
      },
      "execution_count": 35,
      "outputs": [
        {
          "output_type": "stream",
          "name": "stdout",
          "text": [
            "\n",
            "\n",
            "\u001b[1m> Entering new RetrievalQA chain...\u001b[0m\n",
            "\n",
            "\n",
            "\u001b[1m> Entering new LLMChain chain...\u001b[0m\n",
            "Prompt after formatting:\n",
            "\u001b[32;1m\u001b[1;3m\n",
            "1. Use the following piece of context to answer the question at the end.\n",
            "2. If you donot know the answer, just say that \"I don't Know but donot generate by own\".\n",
            "3. Keep answer crisp and limited to 3,4 sentences\n",
            "\n",
            "Context : Context : \n",
            "content:where ‘M’ is the total no. of subjects (as specifically required and listed under the\n",
            "course structure of the parent department) the student has ‘registered’ i.e., from the 1st\n",
            "semester onwards up to and inclusive of the 8th semester, ‘j’ is the subject indicator\n",
            "index (takes into account all subjects from 1 to 8 semesters), C is the no.\n",
            "source:/content/R22B.Tech.RevisedAcademicRegulations.pdf\n",
            "\n",
            "Context : \n",
            "content:(FAIL)\n",
            "Absent Ab 0\n",
            "9.3 A student who has obtained an ‘F’ grade in any subject shall be deemed to have ‘failed’\n",
            "and is required to reappear as a ‘supplementary student’ in the semester end\n",
            "examination, as and when offered. In such cases, internal marks in those subjects will\n",
            "remain the same as those obtained earlier. 9.4 To a student who has not appeared for an examination in any subject, ‘Ab’ grade will\n",
            "be allocated in that subject, and he is deemed to have ‘Failed’. A student will be\n",
            "required to reappear as a ‘supplementary student’ in the semester end examination, as\n",
            "and when offered next. In this case also, the internal marks in those subjects will remain\n",
            "the same as those obtained earlier. 9.5 A letter grade does not indicate any specific percentage of marks secured by the student,\n",
            "but it indicates only the range of percentage of marks. 9.6 A student earns Grade Point (GP) in each subject/ course, on the basis of the letter grade\n",
            "secured in that subject/ course. The corresponding ‘Credit Points’ (CP) are computed\n",
            "by multiplying the grade point with credits for that particular subject/ course. Credit Points (CP) = Grade Point (GP) x Credits …. For a course\n",
            "9.7 A student passes the subject/ course only when GP  5 (‘C’ grade or above)\n",
            "9.8 The Semester Grade Point Average (SGPA) is calculated by dividing the sum of credit\n",
            "points (CP) secured from all subjects/ courses registered in a semester, by the total\n",
            "number of credits registered during that semester. SGPA is rounded off to two decimal\n",
            "places. SGPA is thus computed as\n",
            "SGPA = { ∑𝐍 𝐂 𝐆 } / { ∑𝐍 𝐂 } …. For each semester,\n",
            "𝐢(cid:2880)𝟏 𝐢 𝐢 𝐢(cid:2880)𝟏 𝐢\n",
            "where ‘i’ is the subject indicator index (considering all subjects in a semester), ‘N’ is\n",
            "the no. of subjects ‘registered’ for the semester (as specifically required and listed\n",
            "under the course structure of the parent department), C is the no.\n",
            "source:/content/R22B.Tech.RevisedAcademicRegulations.pdf\n",
            "\n",
            "Context : \n",
            "content:Part - A : Objective/quiz paper for 10 marks. b. Part - B : Descriptive paper for 20 marks. 7\n",
            "\n",
            "source:/content/R22B.Tech.RevisedAcademicRegulations.pdf\n",
            "Question: What is Sigmoid Activation Function?\n",
            "\n",
            "Helpful Answer:\n",
            "\u001b[0m\n",
            "\n",
            "\u001b[1m> Finished chain.\u001b[0m\n",
            "\n",
            "\u001b[1m> Finished chain.\u001b[0m\n",
            "<think>\n",
            "Okay, so I need to figure out what the sigmoid activation function is. I remember that activation functions are used in neural networks to introduce non-linearity into the model. Without them, the neural network would just be a linear transformation, which isn't very useful for complex tasks.\n",
            "\n",
            "The sigmoid function, I think, is one of the commonly used activation functions. I recall that it's a mathematical function that maps any real-valued number to a value between 0 and 1. The formula for the sigmoid function is something like 1 divided by (1 plus e to the negative x), where e is the base of the natural logarithm.\n",
            "\n",
            "I also remember that the sigmoid function has an S-shape, which means it's increasing but the rate of increase slows down as it approaches the extremes. This makes the output of the sigmoid function between 0 and 1, which is useful for binary classification problems because it can represent probabilities.\n",
            "\n",
            "However, I also heard that sigmoid functions have some drawbacks. For example, when the input is very large or very small, the sigmoid function saturates, meaning the derivative becomes very small. This can cause vanishing gradients during backpropagation, making it harder to train deep neural networks. Because of this, other activation functions like ReLU have become more popular in recent years.\n",
            "\n",
            "Wait, but the user's question is about the sigmoid activation function, so I should focus on that. Let me summarize: the sigmoid function takes any real number and outputs a value between 0 and 1, it's useful for binary outputs, and it has the S-shape. It's defined as σ(x) = 1 / (1 + e^(-x)). It's important in neural networks for introducing non-linearity, but it has limitations like vanishing gradients.\n",
            "\n",
            "I think that's the gist of it. I should make sure I'm not confusing it with other activation functions like tanh or ReLU. Sigmoid is specifically the one that squashes the output between 0 and 1.\n",
            "</think>\n",
            "\n",
            "The sigmoid activation function is a mathematical function used in neural networks to introduce non-linearity. It maps any real-valued input to a value between 0 and 1 using the formula σ(x) = 1 / (1 + e^(-x)). This S-shaped function is useful for binary classification as it can represent probabilities, though it can suffer from vanishing gradients in deep networks.\n"
          ]
        }
      ]
    },
    {
      "cell_type": "code",
      "source": [],
      "metadata": {
        "id": "FvroFeln-emN"
      },
      "execution_count": 35,
      "outputs": []
    }
  ]
}