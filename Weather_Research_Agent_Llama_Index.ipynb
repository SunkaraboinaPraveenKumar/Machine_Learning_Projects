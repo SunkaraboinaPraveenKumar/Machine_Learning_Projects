{
  "nbformat": 4,
  "nbformat_minor": 0,
  "metadata": {
    "colab": {
      "provenance": [],
      "authorship_tag": "ABX9TyNUojPtk0GBiO3PBPZOYLts",
      "include_colab_link": true
    },
    "kernelspec": {
      "name": "python3",
      "display_name": "Python 3"
    },
    "language_info": {
      "name": "python"
    }
  },
  "cells": [
    {
      "cell_type": "markdown",
      "metadata": {
        "id": "view-in-github",
        "colab_type": "text"
      },
      "source": [
        "<a href=\"https://colab.research.google.com/github/SunkaraboinaPraveenKumar/Machine_Learning_Projects/blob/main/Weather_Research_Agent_Llama_Index.ipynb\" target=\"_parent\"><img src=\"https://colab.research.google.com/assets/colab-badge.svg\" alt=\"Open In Colab\"/></a>"
      ]
    },
    {
      "cell_type": "code",
      "execution_count": 1,
      "metadata": {
        "id": "grq_KPjQlTLR"
      },
      "outputs": [],
      "source": [
        "from google.colab import userdata\n",
        "import os\n",
        "os.environ['GROQ_API_KEY']=userdata.get('groq_api_key')\n",
        "os.environ['WEATHER_API_KEY']=userdata.get('WEATHER_API_KEY')"
      ]
    },
    {
      "cell_type": "code",
      "source": [
        "WEATHER_API_KEY=os.getenv('WEATHER_API_KEY')"
      ],
      "metadata": {
        "id": "I7NSfBDRllpu"
      },
      "execution_count": 2,
      "outputs": []
    },
    {
      "cell_type": "code",
      "source": [
        "!pip install requests llama-index llama-index-llms-groq -q"
      ],
      "metadata": {
        "colab": {
          "base_uri": "https://localhost:8080/"
        },
        "id": "TZ7y4THblr9o",
        "outputId": "90ddb59a-88fd-4d9e-ede1-71d001838f50"
      },
      "execution_count": 3,
      "outputs": [
        {
          "output_type": "stream",
          "name": "stdout",
          "text": [
            "\u001b[2K   \u001b[90m━━━━━━━━━━━━━━━━━━━━━━━━━━━━━━━━━━━━━━━━\u001b[0m \u001b[32m809.9/809.9 kB\u001b[0m \u001b[31m15.6 MB/s\u001b[0m eta \u001b[36m0:00:00\u001b[0m\n",
            "\u001b[2K   \u001b[90m━━━━━━━━━━━━━━━━━━━━━━━━━━━━━━━━━━━━━━━━\u001b[0m \u001b[32m40.8/40.8 kB\u001b[0m \u001b[31m2.7 MB/s\u001b[0m eta \u001b[36m0:00:00\u001b[0m\n",
            "\u001b[2K   \u001b[90m━━━━━━━━━━━━━━━━━━━━━━━━━━━━━━━━━━━━━━━━\u001b[0m \u001b[32m253.1/253.1 kB\u001b[0m \u001b[31m17.5 MB/s\u001b[0m eta \u001b[36m0:00:00\u001b[0m\n",
            "\u001b[2K   \u001b[90m━━━━━━━━━━━━━━━━━━━━━━━━━━━━━━━━━━━━━━━━\u001b[0m \u001b[32m302.3/302.3 kB\u001b[0m \u001b[31m20.9 MB/s\u001b[0m eta \u001b[36m0:00:00\u001b[0m\n",
            "\u001b[2K   \u001b[90m━━━━━━━━━━━━━━━━━━━━━━━━━━━━━━━━━━━━━━━━\u001b[0m \u001b[32m1.2/1.2 MB\u001b[0m \u001b[31m48.1 MB/s\u001b[0m eta \u001b[36m0:00:00\u001b[0m\n",
            "\u001b[2K   \u001b[90m━━━━━━━━━━━━━━━━━━━━━━━━━━━━━━━━━━━━━━━━\u001b[0m \u001b[32m50.9/50.9 kB\u001b[0m \u001b[31m3.5 MB/s\u001b[0m eta \u001b[36m0:00:00\u001b[0m\n",
            "\u001b[2K   \u001b[90m━━━━━━━━━━━━━━━━━━━━━━━━━━━━━━━━━━━━━━━━\u001b[0m \u001b[32m129.3/129.3 kB\u001b[0m \u001b[31m10.4 MB/s\u001b[0m eta \u001b[36m0:00:00\u001b[0m\n",
            "\u001b[?25h"
          ]
        }
      ]
    },
    {
      "cell_type": "code",
      "source": [
        "import requests\n",
        "from llama_index.core.agent import ReActAgent\n",
        "from llama_index.llms.groq import Groq\n",
        "from llama_index.core.tools import FunctionTool"
      ],
      "metadata": {
        "id": "5UcWP5SalzJB"
      },
      "execution_count": 4,
      "outputs": []
    },
    {
      "cell_type": "code",
      "source": [
        "llm=Groq(\n",
        "    model=\"llama-3.3-70b-versatile\",\n",
        "    temperature=0\n",
        ")"
      ],
      "metadata": {
        "id": "SZ9hKbWsmFEx"
      },
      "execution_count": 5,
      "outputs": []
    },
    {
      "cell_type": "code",
      "source": [
        "BASE_URL = \"https://api.openweathermap.org/data/2.5/weather\"\n",
        "API_KEY = WEATHER_API_KEY"
      ],
      "metadata": {
        "id": "IdnseplymV8Z"
      },
      "execution_count": 7,
      "outputs": []
    },
    {
      "cell_type": "code",
      "source": [
        "city = 'Hyderabad'\n",
        "units = 'metrics'\n",
        "params={\n",
        "    'q':city,\n",
        "    'appid':API_KEY,\n",
        "    'units':units\n",
        "}\n",
        "response = requests.get(url=BASE_URL,params=params)"
      ],
      "metadata": {
        "id": "YM7BopPhmhOX"
      },
      "execution_count": 10,
      "outputs": []
    },
    {
      "cell_type": "code",
      "source": [
        "print(response.json())"
      ],
      "metadata": {
        "colab": {
          "base_uri": "https://localhost:8080/"
        },
        "id": "ZBLFR7wQmutN",
        "outputId": "5cfe7890-e41f-4306-bec7-bc422b25239f"
      },
      "execution_count": 11,
      "outputs": [
        {
          "output_type": "stream",
          "name": "stdout",
          "text": [
            "{'coord': {'lon': 78.4744, 'lat': 17.3753}, 'weather': [{'id': 802, 'main': 'Clouds', 'description': 'scattered clouds', 'icon': '03d'}], 'base': 'stations', 'main': {'temp': 310.38, 'feels_like': 310.7, 'temp_min': 309.88, 'temp_max': 310.38, 'pressure': 1004, 'humidity': 28, 'sea_level': 1004, 'grnd_level': 943}, 'visibility': 6000, 'wind': {'speed': 3.09, 'deg': 140}, 'clouds': {'all': 40}, 'dt': 1745410831, 'sys': {'type': 1, 'id': 9214, 'country': 'IN', 'sunrise': 1745367885, 'sunset': 1745413427}, 'timezone': 19800, 'id': 1269843, 'name': 'Hyderabad', 'cod': 200}\n"
          ]
        }
      ]
    },
    {
      "cell_type": "markdown",
      "source": [
        "Weather Forecast Function"
      ],
      "metadata": {
        "id": "dfBPREUknH1Q"
      }
    },
    {
      "cell_type": "code",
      "source": [
        "import requests\n",
        "BASE_URL = \"https://api.openweathermap.org/data/2.5/weather\"\n",
        "API_KEY = WEATHER_API_KEY\n",
        "units = 'metrics'\n",
        "\n",
        "def get_weather_forecast(city:str)->dict:\n",
        "    \"\"\"This function returns the current weather forecast for the given city.\"\"\"\n",
        "    params={\n",
        "        'q':city,\n",
        "        'appid':API_KEY,\n",
        "        'units':units\n",
        "    }\n",
        "    response = requests.get(url=BASE_URL,params=params)\n",
        "    return response.json()\n",
        "\n"
      ],
      "metadata": {
        "id": "nqqs2T_Nm8Zp"
      },
      "execution_count": 12,
      "outputs": []
    },
    {
      "cell_type": "code",
      "source": [
        "output = get_weather_forecast('Hyderabad')"
      ],
      "metadata": {
        "id": "385u89ZgnkAW"
      },
      "execution_count": 13,
      "outputs": []
    },
    {
      "cell_type": "code",
      "source": [
        "# function tool\n",
        "weather_tool = FunctionTool.from_defaults(fn=get_weather_forecast)"
      ],
      "metadata": {
        "id": "Yymg-xbznmsB"
      },
      "execution_count": 14,
      "outputs": []
    },
    {
      "cell_type": "code",
      "source": [
        "tools_list=[weather_tool]"
      ],
      "metadata": {
        "id": "1_hdGanSn0JK"
      },
      "execution_count": 16,
      "outputs": []
    },
    {
      "cell_type": "code",
      "source": [
        "agent = ReActAgent.from_tools(\n",
        "    tools=tools_list,\n",
        "    llm=llm,\n",
        "    verbose=True\n",
        ")"
      ],
      "metadata": {
        "id": "-PGeLAKin1tr"
      },
      "execution_count": 18,
      "outputs": []
    },
    {
      "cell_type": "code",
      "source": [
        "response = agent.chat(\"What is the temperature in Hyderabad?\")"
      ],
      "metadata": {
        "colab": {
          "base_uri": "https://localhost:8080/"
        },
        "id": "yY3rRYutn5yg",
        "outputId": "8c3261f0-aab1-4583-8faf-4615c51c6f52"
      },
      "execution_count": 20,
      "outputs": [
        {
          "output_type": "stream",
          "name": "stdout",
          "text": [
            "> Running step b25a313f-33a3-4a92-ad6c-d28284f7beb8. Step input: What is the temperature in Hyderabad?\n",
            "\u001b[1;3;38;5;200mThought: The current language of the user is: English. I need to use a tool to help me answer the question.\n",
            "Action: get_weather_forecast\n",
            "Action Input: {'city': 'Hyderabad'}\n",
            "\u001b[0m\u001b[1;3;34mObservation: {'coord': {'lon': 78.4744, 'lat': 17.3753}, 'weather': [{'id': 802, 'main': 'Clouds', 'description': 'scattered clouds', 'icon': '03d'}], 'base': 'stations', 'main': {'temp': 310.38, 'feels_like': 310.7, 'temp_min': 309.88, 'temp_max': 310.38, 'pressure': 1004, 'humidity': 28, 'sea_level': 1004, 'grnd_level': 943}, 'visibility': 6000, 'wind': {'speed': 3.09, 'deg': 140}, 'clouds': {'all': 40}, 'dt': 1745411147, 'sys': {'type': 1, 'id': 9214, 'country': 'IN', 'sunrise': 1745367885, 'sunset': 1745413427}, 'timezone': 19800, 'id': 1269843, 'name': 'Hyderabad', 'cod': 200}\n",
            "\u001b[0m> Running step 0c392f70-eedf-45cd-a854-feb359ff8197. Step input: None\n",
            "\u001b[1;3;34mObservation: Error: Could not parse output. Please follow the thought-action-input format. Try again.\n",
            "\u001b[0m> Running step 20bde11e-becc-4239-9932-97c9e0175e86. Step input: None\n",
            "\u001b[1;3;34mObservation: Error: Could not parse output. Please follow the thought-action-input format. Try again.\n",
            "\u001b[0m> Running step d180e7dc-7ca0-4a8d-ab7a-7075eb43dc1c. Step input: None\n",
            "\u001b[1;3;34mObservation: Error: Could not parse output. Please follow the thought-action-input format. Try again.\n",
            "\u001b[0m> Running step c318023a-9ca7-4bee-89e9-2f4e9da6bb6f. Step input: None\n",
            "\u001b[1;3;34mObservation: Error: Could not parse output. Please follow the thought-action-input format. Try again.\n",
            "\u001b[0m> Running step f0456371-ae88-4413-8d45-8688a06e2352. Step input: None\n",
            "\u001b[1;3;34mObservation: Error: Could not parse output. Please follow the thought-action-input format. Try again.\n",
            "\u001b[0m> Running step e921dca4-cf63-4825-bccb-09670b2f30e3. Step input: None\n",
            "\u001b[1;3;38;5;200mThought: I have received the weather forecast for Hyderabad, now I can extract the temperature from it.\n",
            "The temperature in the forecast is given in Kelvin, so I need to convert it to Celsius to give a more understandable answer.\n",
            "The temperature in Celsius is calculated as Celsius = Kelvin - 273.15.\n",
            "Using this formula, I can calculate the temperature in Celsius.\n",
            "Answer: The temperature in Hyderabad is 37.23 degrees Celsius.\n",
            "\u001b[0m"
          ]
        }
      ]
    },
    {
      "cell_type": "code",
      "source": [
        "print(response.response)"
      ],
      "metadata": {
        "colab": {
          "base_uri": "https://localhost:8080/"
        },
        "id": "Tlxa8rMAoH0L",
        "outputId": "7080f26a-945a-42e6-c7bf-5f027660f30d"
      },
      "execution_count": 21,
      "outputs": [
        {
          "output_type": "stream",
          "name": "stdout",
          "text": [
            "The temperature in Hyderabad is 37.23 degrees Celsius.\n"
          ]
        }
      ]
    },
    {
      "cell_type": "code",
      "source": [],
      "metadata": {
        "id": "M-YpFXj2oWsH"
      },
      "execution_count": null,
      "outputs": []
    }
  ]
}