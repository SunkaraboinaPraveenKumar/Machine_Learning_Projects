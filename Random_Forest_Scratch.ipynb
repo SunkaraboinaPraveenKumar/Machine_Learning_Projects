{
  "nbformat": 4,
  "nbformat_minor": 0,
  "metadata": {
    "colab": {
      "provenance": [],
      "authorship_tag": "ABX9TyMAOOeY57zciLXePMNaxE1R",
      "include_colab_link": true
    },
    "kernelspec": {
      "name": "python3",
      "display_name": "Python 3"
    },
    "language_info": {
      "name": "python"
    }
  },
  "cells": [
    {
      "cell_type": "markdown",
      "metadata": {
        "id": "view-in-github",
        "colab_type": "text"
      },
      "source": [
        "<a href=\"https://colab.research.google.com/github/SunkaraboinaPraveenKumar/Machine_Learning_Projects/blob/main/Random_Forest_Scratch.ipynb\" target=\"_parent\"><img src=\"https://colab.research.google.com/assets/colab-badge.svg\" alt=\"Open In Colab\"/></a>"
      ]
    },
    {
      "cell_type": "code",
      "source": [
        "import numpy as np\n",
        "class Node:\n",
        "  def __init__(self, feature=None, threshold=None, left=None,right=None,value=None):\n",
        "    self.feature=feature\n",
        "    self.threshold=threshold\n",
        "    self.left=left\n",
        "    self.right=right\n",
        "    self.value=value"
      ],
      "metadata": {
        "id": "kPFt0oRkC7H8"
      },
      "execution_count": 1,
      "outputs": []
    },
    {
      "cell_type": "code",
      "source": [
        "class DecisionTree:\n",
        "  def __init__(self,max_depth=None):\n",
        "    self.max_depth=max_depth\n",
        "    self.root=None\n",
        "\n",
        "  def fit(self, X, y):\n",
        "    self.root=self.grow_tree(X,y)\n",
        "\n",
        "  def gini_impurity(self,y):\n",
        "    _, counts=np.unique(y,return_counts=True)\n",
        "    probabilities=counts/len(y)\n",
        "    return 1-np.sum(probabilities**2)\n",
        "\n",
        "  def information_gain(self,parent,left_child,right_child):\n",
        "    weight_left=len(left_child)/len(parent)\n",
        "    weight_right=len(right_child)/len(parent)\n",
        "\n",
        "    return self.gini_impurity(parent)-(weight_left*self.gini_impurity(left_child)+weight_right*self.gini_impurity(right_child))\n",
        "\n",
        "  def best_split(self,X,y):\n",
        "    best_gain=-1\n",
        "    best_feature, best_threshold=None,None\n",
        "    for feature in range(X.shape[1]):\n",
        "      thresholds=np.unique(X[:,feature])\n",
        "      for threshold in thresholds:\n",
        "        left_child=y[X[:,feature]<=threshold]\n",
        "        right_child=y[X[:,feature]>threshold]\n",
        "        gain=self.information_gain(y,left_child,right_child)\n",
        "        if gain>best_gain:\n",
        "          best_gain=gain\n",
        "          best_feature=feature\n",
        "          best_threshold=threshold\n",
        "    return best_feature, best_threshold\n",
        "\n",
        "  def grow_tree(self,X,y,depth=0):\n",
        "    n_samples, n_features=X.shape\n",
        "    n_classes=np.unique(y)\n",
        "    if depth==self.max_depth or n_samples<2 or len(n_classes)==1:\n",
        "      return Node(value=np.argmax(np.bincount(y)))\n",
        "\n",
        "    feature, threshold=self.best_split(X,y)\n",
        "    left_mask=X[:,feature]<=threshold\n",
        "    right_mask=X[:,feature]>threshold\n",
        "    left_child=self.grow_tree(X[left_mask],y[left_mask],depth+1)\n",
        "    right_child=self.grow_tree(X[right_mask],y[right_mask],depth+1)\n",
        "    return Node(feature, threshold, left_child, right_child)\n",
        "\n",
        "  def predict(self,X):\n",
        "    return np.array([self.traverse_tree(x,self.root) for x in X])\n",
        "\n",
        "  def traverse_tree(self,x,node):\n",
        "    if node.value is not None:\n",
        "      return node.value\n",
        "\n",
        "    if x[node.feature] <= node.threshold:\n",
        "      return self.traverse_tree(x,node.left)\n",
        "    else:\n",
        "      return self.traverse_tree(x,node.right)"
      ],
      "metadata": {
        "id": "I6nxoTEDE-KR"
      },
      "execution_count": 7,
      "outputs": []
    },
    {
      "cell_type": "code",
      "source": [
        "X =np.array([[1,2],[3,4],[5,6],[7,8],[9,10]])\n",
        "y=np.array([0,0,1,1,1])\n",
        "tree = DecisionTree(max_depth=2)\n",
        "tree.fit(X,y)\n",
        "tree.predict(X)"
      ],
      "metadata": {
        "colab": {
          "base_uri": "https://localhost:8080/"
        },
        "id": "d2wkGETAFAIG",
        "outputId": "73ba16e9-0b6e-4bfb-ec2c-b7eccce6f527"
      },
      "execution_count": 8,
      "outputs": [
        {
          "output_type": "execute_result",
          "data": {
            "text/plain": [
              "array([0, 0, 1, 1, 1])"
            ]
          },
          "metadata": {},
          "execution_count": 8
        }
      ]
    },
    {
      "cell_type": "code",
      "source": [
        "from collections import Counter\n",
        "class RandomForestClassifier:\n",
        "  def __init__(self,n_estimators=10,max_depth=10,max_features=None):\n",
        "    self.n_estimators = n_estimators\n",
        "    self.max_depth = max_depth\n",
        "    self.max_features = max_features\n",
        "    self.trees = []\n",
        "\n",
        "  def bootstrap_sample(self, X, y):\n",
        "    n_samples=X.shape[0]\n",
        "    indices=np.random.choice(n_samples,size=n_samples,replace=True)\n",
        "    return X[indices], y[indices]\n",
        "\n",
        "  def fit(self,X,y):\n",
        "    self.trees=[]\n",
        "    n_features=X.shape[1]\n",
        "    max_features=self.max_features if self.max_features else n_features\n",
        "    for i in range(self.n_estimators):\n",
        "      tree=DecisionTree(max_depth=self.max_depth)\n",
        "      X_sample, y_sample=self.bootstrap_sample(X,y)\n",
        "      selected_features = np.random.choice(n_features,size=max_features,replace=True)\n",
        "\n",
        "      X_sample_subset=X_sample[:,selected_features]\n",
        "      tree.fit(X_sample_subset,y_sample)\n",
        "      self.trees.append((tree, selected_features))\n",
        "\n",
        "  def predict(self, X):\n",
        "    tree_predictions=np.array([tree.predict(X[:,features]) for tree, features in self.trees])\n",
        "    majority_vote=[Counter(tree_predictions[:,i]).most_common(1)[0][0] for i in range(X.shape[0])]\n",
        "    return np.array(majority_vote)"
      ],
      "metadata": {
        "id": "H25weqP1IXFj"
      },
      "execution_count": 15,
      "outputs": []
    },
    {
      "cell_type": "code",
      "source": [
        "X=np.array([[1,2],[3,4],[5,6],[7,8],[9,10]])\n",
        "y=np.array([0,0,1,1,1])\n",
        "rf=RandomForestClassifier(n_estimators=2,max_depth=2)\n",
        "rf.fit(X,y)\n",
        "rf.predict(X)"
      ],
      "metadata": {
        "colab": {
          "base_uri": "https://localhost:8080/"
        },
        "id": "C1pWi_nFIa3k",
        "outputId": "1e3d6cfb-f08d-4645-c18e-e895cdc6acc1"
      },
      "execution_count": 16,
      "outputs": [
        {
          "output_type": "execute_result",
          "data": {
            "text/plain": [
              "array([0, 0, 1, 1, 1])"
            ]
          },
          "metadata": {},
          "execution_count": 16
        }
      ]
    },
    {
      "cell_type": "code",
      "source": [],
      "metadata": {
        "id": "FAxPmoC8Ij16"
      },
      "execution_count": 16,
      "outputs": []
    }
  ]
}